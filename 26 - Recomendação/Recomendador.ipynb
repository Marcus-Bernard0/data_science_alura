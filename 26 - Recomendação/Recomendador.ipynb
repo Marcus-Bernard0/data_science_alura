{
 "cells": [
  {
   "attachments": {},
   "cell_type": "markdown",
   "metadata": {},
   "source": [
    "## 1. Análise de dados"
   ]
  },
  {
   "cell_type": "code",
   "execution_count": 66,
   "metadata": {},
   "outputs": [],
   "source": [
    "import pandas as pd\n",
    "import numpy as np\n"
   ]
  },
  {
   "cell_type": "code",
   "execution_count": 67,
   "metadata": {},
   "outputs": [],
   "source": [
    "#importando os dados\n",
    "dados = pd.read_csv('./Dados/Dados_totais.csv')\n",
    "dados_generos = pd.read_csv('./Dados/data_by_genres.csv')\n",
    "dados_anos = pd.read_csv('./Dados/data_by_year.csv')"
   ]
  },
  {
   "cell_type": "code",
   "execution_count": 68,
   "metadata": {},
   "outputs": [],
   "source": [
    "#Função para verificar os dados\n",
    "def verifica(data):\n",
    "    display(data.head())\n",
    "    display(f'Shape: {data.shape}')\n",
    "    display(f'Nulos: {data.isnull().sum().sum()}')\n",
    "    display(f'Nans: {data.isna().sum().sum()}')\n",
    "\n",
    "    "
   ]
  },
  {
   "cell_type": "code",
   "execution_count": 69,
   "metadata": {},
   "outputs": [],
   "source": [
    "#Função para drop\n",
    "def trata_dados(data):\n",
    "    data.drop(['key', 'mode'], axis=1, inplace= True)\n",
    "    return data.head()"
   ]
  },
  {
   "cell_type": "code",
   "execution_count": 70,
   "metadata": {},
   "outputs": [
    {
     "data": {
      "text/html": [
       "<div>\n",
       "<style scoped>\n",
       "    .dataframe tbody tr th:only-of-type {\n",
       "        vertical-align: middle;\n",
       "    }\n",
       "\n",
       "    .dataframe tbody tr th {\n",
       "        vertical-align: top;\n",
       "    }\n",
       "\n",
       "    .dataframe thead th {\n",
       "        text-align: right;\n",
       "    }\n",
       "</style>\n",
       "<table border=\"1\" class=\"dataframe\">\n",
       "  <thead>\n",
       "    <tr style=\"text-align: right;\">\n",
       "      <th></th>\n",
       "      <th>valence</th>\n",
       "      <th>year</th>\n",
       "      <th>acousticness</th>\n",
       "      <th>artists</th>\n",
       "      <th>danceability</th>\n",
       "      <th>duration_ms</th>\n",
       "      <th>energy</th>\n",
       "      <th>explicit</th>\n",
       "      <th>id</th>\n",
       "      <th>instrumentalness</th>\n",
       "      <th>key</th>\n",
       "      <th>liveness</th>\n",
       "      <th>loudness</th>\n",
       "      <th>mode</th>\n",
       "      <th>name</th>\n",
       "      <th>popularity</th>\n",
       "      <th>speechiness</th>\n",
       "      <th>tempo</th>\n",
       "      <th>artists_song</th>\n",
       "    </tr>\n",
       "  </thead>\n",
       "  <tbody>\n",
       "    <tr>\n",
       "      <th>0</th>\n",
       "      <td>0.285</td>\n",
       "      <td>2000</td>\n",
       "      <td>0.00239</td>\n",
       "      <td>Coldplay</td>\n",
       "      <td>0.429</td>\n",
       "      <td>266773</td>\n",
       "      <td>0.661</td>\n",
       "      <td>0</td>\n",
       "      <td>3AJwUDP919kvQ9QcozQPxg</td>\n",
       "      <td>0.000121</td>\n",
       "      <td>11</td>\n",
       "      <td>0.2340</td>\n",
       "      <td>-7.227</td>\n",
       "      <td>1</td>\n",
       "      <td>Yellow</td>\n",
       "      <td>84</td>\n",
       "      <td>0.0281</td>\n",
       "      <td>173.372</td>\n",
       "      <td>Coldplay - Yellow</td>\n",
       "    </tr>\n",
       "    <tr>\n",
       "      <th>1</th>\n",
       "      <td>0.613</td>\n",
       "      <td>2000</td>\n",
       "      <td>0.14300</td>\n",
       "      <td>OutKast</td>\n",
       "      <td>0.843</td>\n",
       "      <td>270507</td>\n",
       "      <td>0.806</td>\n",
       "      <td>1</td>\n",
       "      <td>0I3q5fE6wg7LIfHGngUTnV</td>\n",
       "      <td>0.000000</td>\n",
       "      <td>4</td>\n",
       "      <td>0.0771</td>\n",
       "      <td>-5.946</td>\n",
       "      <td>0</td>\n",
       "      <td>Ms. Jackson</td>\n",
       "      <td>80</td>\n",
       "      <td>0.2690</td>\n",
       "      <td>94.948</td>\n",
       "      <td>OutKast - Ms. Jackson</td>\n",
       "    </tr>\n",
       "    <tr>\n",
       "      <th>2</th>\n",
       "      <td>0.400</td>\n",
       "      <td>2000</td>\n",
       "      <td>0.00958</td>\n",
       "      <td>Linkin Park</td>\n",
       "      <td>0.556</td>\n",
       "      <td>216880</td>\n",
       "      <td>0.864</td>\n",
       "      <td>0</td>\n",
       "      <td>60a0Rd6pjrkxjPbaKzXjfq</td>\n",
       "      <td>0.000000</td>\n",
       "      <td>3</td>\n",
       "      <td>0.2090</td>\n",
       "      <td>-5.870</td>\n",
       "      <td>0</td>\n",
       "      <td>In the End</td>\n",
       "      <td>84</td>\n",
       "      <td>0.0584</td>\n",
       "      <td>105.143</td>\n",
       "      <td>Linkin Park - In the End</td>\n",
       "    </tr>\n",
       "    <tr>\n",
       "      <th>3</th>\n",
       "      <td>0.543</td>\n",
       "      <td>2000</td>\n",
       "      <td>0.00664</td>\n",
       "      <td>3 Doors Down</td>\n",
       "      <td>0.545</td>\n",
       "      <td>233933</td>\n",
       "      <td>0.865</td>\n",
       "      <td>0</td>\n",
       "      <td>6ZOBP3NvffbU4SZcrnt1k6</td>\n",
       "      <td>0.000011</td>\n",
       "      <td>11</td>\n",
       "      <td>0.1680</td>\n",
       "      <td>-5.708</td>\n",
       "      <td>0</td>\n",
       "      <td>Kryptonite</td>\n",
       "      <td>78</td>\n",
       "      <td>0.0286</td>\n",
       "      <td>99.009</td>\n",
       "      <td>3 Doors Down - Kryptonite</td>\n",
       "    </tr>\n",
       "    <tr>\n",
       "      <th>4</th>\n",
       "      <td>0.760</td>\n",
       "      <td>2000</td>\n",
       "      <td>0.03020</td>\n",
       "      <td>Eminem</td>\n",
       "      <td>0.949</td>\n",
       "      <td>284200</td>\n",
       "      <td>0.661</td>\n",
       "      <td>1</td>\n",
       "      <td>3yfqSUWxFvZELEM4PmlwIR</td>\n",
       "      <td>0.000000</td>\n",
       "      <td>5</td>\n",
       "      <td>0.0454</td>\n",
       "      <td>-4.244</td>\n",
       "      <td>0</td>\n",
       "      <td>The Real Slim Shady</td>\n",
       "      <td>80</td>\n",
       "      <td>0.0572</td>\n",
       "      <td>104.504</td>\n",
       "      <td>Eminem - The Real Slim Shady</td>\n",
       "    </tr>\n",
       "  </tbody>\n",
       "</table>\n",
       "</div>"
      ],
      "text/plain": [
       "   valence  year  acousticness       artists  danceability  duration_ms  \\\n",
       "0    0.285  2000       0.00239      Coldplay         0.429       266773   \n",
       "1    0.613  2000       0.14300       OutKast         0.843       270507   \n",
       "2    0.400  2000       0.00958   Linkin Park         0.556       216880   \n",
       "3    0.543  2000       0.00664  3 Doors Down         0.545       233933   \n",
       "4    0.760  2000       0.03020        Eminem         0.949       284200   \n",
       "\n",
       "   energy  explicit                      id  instrumentalness  key  liveness  \\\n",
       "0   0.661         0  3AJwUDP919kvQ9QcozQPxg          0.000121   11    0.2340   \n",
       "1   0.806         1  0I3q5fE6wg7LIfHGngUTnV          0.000000    4    0.0771   \n",
       "2   0.864         0  60a0Rd6pjrkxjPbaKzXjfq          0.000000    3    0.2090   \n",
       "3   0.865         0  6ZOBP3NvffbU4SZcrnt1k6          0.000011   11    0.1680   \n",
       "4   0.661         1  3yfqSUWxFvZELEM4PmlwIR          0.000000    5    0.0454   \n",
       "\n",
       "   loudness  mode                 name  popularity  speechiness    tempo  \\\n",
       "0    -7.227     1               Yellow          84       0.0281  173.372   \n",
       "1    -5.946     0          Ms. Jackson          80       0.2690   94.948   \n",
       "2    -5.870     0           In the End          84       0.0584  105.143   \n",
       "3    -5.708     0           Kryptonite          78       0.0286   99.009   \n",
       "4    -4.244     0  The Real Slim Shady          80       0.0572  104.504   \n",
       "\n",
       "                   artists_song  \n",
       "0             Coldplay - Yellow  \n",
       "1         OutKast - Ms. Jackson  \n",
       "2      Linkin Park - In the End  \n",
       "3     3 Doors Down - Kryptonite  \n",
       "4  Eminem - The Real Slim Shady  "
      ]
     },
     "metadata": {},
     "output_type": "display_data"
    },
    {
     "data": {
      "text/plain": [
       "'Shape: (20311, 19)'"
      ]
     },
     "metadata": {},
     "output_type": "display_data"
    },
    {
     "data": {
      "text/plain": [
       "'Nulos: 0'"
      ]
     },
     "metadata": {},
     "output_type": "display_data"
    },
    {
     "data": {
      "text/plain": [
       "'Nans: 0'"
      ]
     },
     "metadata": {},
     "output_type": "display_data"
    }
   ],
   "source": [
    "verifica(dados)"
   ]
  },
  {
   "cell_type": "code",
   "execution_count": 71,
   "metadata": {},
   "outputs": [
    {
     "data": {
      "text/plain": [
       "array([2000, 2001, 2002, 2003, 2004, 2005, 2006, 2007, 2008, 2009, 2010,\n",
       "       2011, 2012, 2013, 2014, 2015, 2016, 2017, 2018, 2019, 2020])"
      ]
     },
     "execution_count": 71,
     "metadata": {},
     "output_type": "execute_result"
    }
   ],
   "source": [
    "#verificando os dados dos anos\n",
    "dados['year'].unique()"
   ]
  },
  {
   "cell_type": "code",
   "execution_count": 72,
   "metadata": {},
   "outputs": [],
   "source": [
    "#removendo colunas\n",
    "dados.drop(['explicit', 'mode', 'key'], axis=1, inplace=True)"
   ]
  },
  {
   "cell_type": "code",
   "execution_count": 73,
   "metadata": {},
   "outputs": [
    {
     "data": {
      "text/html": [
       "<div>\n",
       "<style scoped>\n",
       "    .dataframe tbody tr th:only-of-type {\n",
       "        vertical-align: middle;\n",
       "    }\n",
       "\n",
       "    .dataframe tbody tr th {\n",
       "        vertical-align: top;\n",
       "    }\n",
       "\n",
       "    .dataframe thead th {\n",
       "        text-align: right;\n",
       "    }\n",
       "</style>\n",
       "<table border=\"1\" class=\"dataframe\">\n",
       "  <thead>\n",
       "    <tr style=\"text-align: right;\">\n",
       "      <th></th>\n",
       "      <th>mode</th>\n",
       "      <th>genres</th>\n",
       "      <th>acousticness</th>\n",
       "      <th>danceability</th>\n",
       "      <th>duration_ms</th>\n",
       "      <th>energy</th>\n",
       "      <th>instrumentalness</th>\n",
       "      <th>liveness</th>\n",
       "      <th>loudness</th>\n",
       "      <th>speechiness</th>\n",
       "      <th>tempo</th>\n",
       "      <th>valence</th>\n",
       "      <th>popularity</th>\n",
       "      <th>key</th>\n",
       "    </tr>\n",
       "  </thead>\n",
       "  <tbody>\n",
       "    <tr>\n",
       "      <th>0</th>\n",
       "      <td>1</td>\n",
       "      <td>21st century classical</td>\n",
       "      <td>0.979333</td>\n",
       "      <td>0.162883</td>\n",
       "      <td>1.602977e+05</td>\n",
       "      <td>0.071317</td>\n",
       "      <td>0.606834</td>\n",
       "      <td>0.361600</td>\n",
       "      <td>-31.514333</td>\n",
       "      <td>0.040567</td>\n",
       "      <td>75.336500</td>\n",
       "      <td>0.103783</td>\n",
       "      <td>27.833333</td>\n",
       "      <td>6</td>\n",
       "    </tr>\n",
       "    <tr>\n",
       "      <th>1</th>\n",
       "      <td>1</td>\n",
       "      <td>432hz</td>\n",
       "      <td>0.494780</td>\n",
       "      <td>0.299333</td>\n",
       "      <td>1.048887e+06</td>\n",
       "      <td>0.450678</td>\n",
       "      <td>0.477762</td>\n",
       "      <td>0.131000</td>\n",
       "      <td>-16.854000</td>\n",
       "      <td>0.076817</td>\n",
       "      <td>120.285667</td>\n",
       "      <td>0.221750</td>\n",
       "      <td>52.500000</td>\n",
       "      <td>5</td>\n",
       "    </tr>\n",
       "    <tr>\n",
       "      <th>2</th>\n",
       "      <td>1</td>\n",
       "      <td>8-bit</td>\n",
       "      <td>0.762000</td>\n",
       "      <td>0.712000</td>\n",
       "      <td>1.151770e+05</td>\n",
       "      <td>0.818000</td>\n",
       "      <td>0.876000</td>\n",
       "      <td>0.126000</td>\n",
       "      <td>-9.180000</td>\n",
       "      <td>0.047000</td>\n",
       "      <td>133.444000</td>\n",
       "      <td>0.975000</td>\n",
       "      <td>48.000000</td>\n",
       "      <td>7</td>\n",
       "    </tr>\n",
       "    <tr>\n",
       "      <th>3</th>\n",
       "      <td>1</td>\n",
       "      <td>[]</td>\n",
       "      <td>0.651417</td>\n",
       "      <td>0.529093</td>\n",
       "      <td>2.328809e+05</td>\n",
       "      <td>0.419146</td>\n",
       "      <td>0.205309</td>\n",
       "      <td>0.218696</td>\n",
       "      <td>-12.288965</td>\n",
       "      <td>0.107872</td>\n",
       "      <td>112.857352</td>\n",
       "      <td>0.513604</td>\n",
       "      <td>20.859882</td>\n",
       "      <td>7</td>\n",
       "    </tr>\n",
       "    <tr>\n",
       "      <th>4</th>\n",
       "      <td>1</td>\n",
       "      <td>a cappella</td>\n",
       "      <td>0.676557</td>\n",
       "      <td>0.538961</td>\n",
       "      <td>1.906285e+05</td>\n",
       "      <td>0.316434</td>\n",
       "      <td>0.003003</td>\n",
       "      <td>0.172254</td>\n",
       "      <td>-12.479387</td>\n",
       "      <td>0.082851</td>\n",
       "      <td>112.110362</td>\n",
       "      <td>0.448249</td>\n",
       "      <td>45.820071</td>\n",
       "      <td>7</td>\n",
       "    </tr>\n",
       "  </tbody>\n",
       "</table>\n",
       "</div>"
      ],
      "text/plain": [
       "   mode                  genres  acousticness  danceability   duration_ms  \\\n",
       "0     1  21st century classical      0.979333      0.162883  1.602977e+05   \n",
       "1     1                   432hz      0.494780      0.299333  1.048887e+06   \n",
       "2     1                   8-bit      0.762000      0.712000  1.151770e+05   \n",
       "3     1                      []      0.651417      0.529093  2.328809e+05   \n",
       "4     1              a cappella      0.676557      0.538961  1.906285e+05   \n",
       "\n",
       "     energy  instrumentalness  liveness   loudness  speechiness       tempo  \\\n",
       "0  0.071317          0.606834  0.361600 -31.514333     0.040567   75.336500   \n",
       "1  0.450678          0.477762  0.131000 -16.854000     0.076817  120.285667   \n",
       "2  0.818000          0.876000  0.126000  -9.180000     0.047000  133.444000   \n",
       "3  0.419146          0.205309  0.218696 -12.288965     0.107872  112.857352   \n",
       "4  0.316434          0.003003  0.172254 -12.479387     0.082851  112.110362   \n",
       "\n",
       "    valence  popularity  key  \n",
       "0  0.103783   27.833333    6  \n",
       "1  0.221750   52.500000    5  \n",
       "2  0.975000   48.000000    7  \n",
       "3  0.513604   20.859882    7  \n",
       "4  0.448249   45.820071    7  "
      ]
     },
     "execution_count": 73,
     "metadata": {},
     "output_type": "execute_result"
    }
   ],
   "source": [
    "#base de dados genero\n",
    "dados_generos.head()"
   ]
  },
  {
   "cell_type": "code",
   "execution_count": 74,
   "metadata": {},
   "outputs": [
    {
     "data": {
      "text/html": [
       "<div>\n",
       "<style scoped>\n",
       "    .dataframe tbody tr th:only-of-type {\n",
       "        vertical-align: middle;\n",
       "    }\n",
       "\n",
       "    .dataframe tbody tr th {\n",
       "        vertical-align: top;\n",
       "    }\n",
       "\n",
       "    .dataframe thead th {\n",
       "        text-align: right;\n",
       "    }\n",
       "</style>\n",
       "<table border=\"1\" class=\"dataframe\">\n",
       "  <thead>\n",
       "    <tr style=\"text-align: right;\">\n",
       "      <th></th>\n",
       "      <th>genres</th>\n",
       "      <th>acousticness</th>\n",
       "      <th>danceability</th>\n",
       "      <th>duration_ms</th>\n",
       "      <th>energy</th>\n",
       "      <th>instrumentalness</th>\n",
       "      <th>liveness</th>\n",
       "      <th>loudness</th>\n",
       "      <th>speechiness</th>\n",
       "      <th>tempo</th>\n",
       "      <th>valence</th>\n",
       "      <th>popularity</th>\n",
       "    </tr>\n",
       "  </thead>\n",
       "  <tbody>\n",
       "    <tr>\n",
       "      <th>0</th>\n",
       "      <td>21st century classical</td>\n",
       "      <td>0.979333</td>\n",
       "      <td>0.162883</td>\n",
       "      <td>1.602977e+05</td>\n",
       "      <td>0.071317</td>\n",
       "      <td>0.606834</td>\n",
       "      <td>0.361600</td>\n",
       "      <td>-31.514333</td>\n",
       "      <td>0.040567</td>\n",
       "      <td>75.336500</td>\n",
       "      <td>0.103783</td>\n",
       "      <td>27.833333</td>\n",
       "    </tr>\n",
       "    <tr>\n",
       "      <th>1</th>\n",
       "      <td>432hz</td>\n",
       "      <td>0.494780</td>\n",
       "      <td>0.299333</td>\n",
       "      <td>1.048887e+06</td>\n",
       "      <td>0.450678</td>\n",
       "      <td>0.477762</td>\n",
       "      <td>0.131000</td>\n",
       "      <td>-16.854000</td>\n",
       "      <td>0.076817</td>\n",
       "      <td>120.285667</td>\n",
       "      <td>0.221750</td>\n",
       "      <td>52.500000</td>\n",
       "    </tr>\n",
       "    <tr>\n",
       "      <th>2</th>\n",
       "      <td>8-bit</td>\n",
       "      <td>0.762000</td>\n",
       "      <td>0.712000</td>\n",
       "      <td>1.151770e+05</td>\n",
       "      <td>0.818000</td>\n",
       "      <td>0.876000</td>\n",
       "      <td>0.126000</td>\n",
       "      <td>-9.180000</td>\n",
       "      <td>0.047000</td>\n",
       "      <td>133.444000</td>\n",
       "      <td>0.975000</td>\n",
       "      <td>48.000000</td>\n",
       "    </tr>\n",
       "    <tr>\n",
       "      <th>3</th>\n",
       "      <td>[]</td>\n",
       "      <td>0.651417</td>\n",
       "      <td>0.529093</td>\n",
       "      <td>2.328809e+05</td>\n",
       "      <td>0.419146</td>\n",
       "      <td>0.205309</td>\n",
       "      <td>0.218696</td>\n",
       "      <td>-12.288965</td>\n",
       "      <td>0.107872</td>\n",
       "      <td>112.857352</td>\n",
       "      <td>0.513604</td>\n",
       "      <td>20.859882</td>\n",
       "    </tr>\n",
       "    <tr>\n",
       "      <th>4</th>\n",
       "      <td>a cappella</td>\n",
       "      <td>0.676557</td>\n",
       "      <td>0.538961</td>\n",
       "      <td>1.906285e+05</td>\n",
       "      <td>0.316434</td>\n",
       "      <td>0.003003</td>\n",
       "      <td>0.172254</td>\n",
       "      <td>-12.479387</td>\n",
       "      <td>0.082851</td>\n",
       "      <td>112.110362</td>\n",
       "      <td>0.448249</td>\n",
       "      <td>45.820071</td>\n",
       "    </tr>\n",
       "  </tbody>\n",
       "</table>\n",
       "</div>"
      ],
      "text/plain": [
       "                   genres  acousticness  danceability   duration_ms    energy  \\\n",
       "0  21st century classical      0.979333      0.162883  1.602977e+05  0.071317   \n",
       "1                   432hz      0.494780      0.299333  1.048887e+06  0.450678   \n",
       "2                   8-bit      0.762000      0.712000  1.151770e+05  0.818000   \n",
       "3                      []      0.651417      0.529093  2.328809e+05  0.419146   \n",
       "4              a cappella      0.676557      0.538961  1.906285e+05  0.316434   \n",
       "\n",
       "   instrumentalness  liveness   loudness  speechiness       tempo   valence  \\\n",
       "0          0.606834  0.361600 -31.514333     0.040567   75.336500  0.103783   \n",
       "1          0.477762  0.131000 -16.854000     0.076817  120.285667  0.221750   \n",
       "2          0.876000  0.126000  -9.180000     0.047000  133.444000  0.975000   \n",
       "3          0.205309  0.218696 -12.288965     0.107872  112.857352  0.513604   \n",
       "4          0.003003  0.172254 -12.479387     0.082851  112.110362  0.448249   \n",
       "\n",
       "   popularity  \n",
       "0   27.833333  \n",
       "1   52.500000  \n",
       "2   48.000000  \n",
       "3   20.859882  \n",
       "4   45.820071  "
      ]
     },
     "execution_count": 74,
     "metadata": {},
     "output_type": "execute_result"
    }
   ],
   "source": [
    "trata_dados(dados_generos)"
   ]
  },
  {
   "cell_type": "code",
   "execution_count": 75,
   "metadata": {},
   "outputs": [
    {
     "data": {
      "text/html": [
       "<div>\n",
       "<style scoped>\n",
       "    .dataframe tbody tr th:only-of-type {\n",
       "        vertical-align: middle;\n",
       "    }\n",
       "\n",
       "    .dataframe tbody tr th {\n",
       "        vertical-align: top;\n",
       "    }\n",
       "\n",
       "    .dataframe thead th {\n",
       "        text-align: right;\n",
       "    }\n",
       "</style>\n",
       "<table border=\"1\" class=\"dataframe\">\n",
       "  <thead>\n",
       "    <tr style=\"text-align: right;\">\n",
       "      <th></th>\n",
       "      <th>genres</th>\n",
       "      <th>acousticness</th>\n",
       "      <th>danceability</th>\n",
       "      <th>duration_ms</th>\n",
       "      <th>energy</th>\n",
       "      <th>instrumentalness</th>\n",
       "      <th>liveness</th>\n",
       "      <th>loudness</th>\n",
       "      <th>speechiness</th>\n",
       "      <th>tempo</th>\n",
       "      <th>valence</th>\n",
       "      <th>popularity</th>\n",
       "    </tr>\n",
       "  </thead>\n",
       "  <tbody>\n",
       "    <tr>\n",
       "      <th>0</th>\n",
       "      <td>21st century classical</td>\n",
       "      <td>0.979333</td>\n",
       "      <td>0.162883</td>\n",
       "      <td>1.602977e+05</td>\n",
       "      <td>0.071317</td>\n",
       "      <td>0.606834</td>\n",
       "      <td>0.361600</td>\n",
       "      <td>-31.514333</td>\n",
       "      <td>0.040567</td>\n",
       "      <td>75.336500</td>\n",
       "      <td>0.103783</td>\n",
       "      <td>27.833333</td>\n",
       "    </tr>\n",
       "    <tr>\n",
       "      <th>1</th>\n",
       "      <td>432hz</td>\n",
       "      <td>0.494780</td>\n",
       "      <td>0.299333</td>\n",
       "      <td>1.048887e+06</td>\n",
       "      <td>0.450678</td>\n",
       "      <td>0.477762</td>\n",
       "      <td>0.131000</td>\n",
       "      <td>-16.854000</td>\n",
       "      <td>0.076817</td>\n",
       "      <td>120.285667</td>\n",
       "      <td>0.221750</td>\n",
       "      <td>52.500000</td>\n",
       "    </tr>\n",
       "    <tr>\n",
       "      <th>2</th>\n",
       "      <td>8-bit</td>\n",
       "      <td>0.762000</td>\n",
       "      <td>0.712000</td>\n",
       "      <td>1.151770e+05</td>\n",
       "      <td>0.818000</td>\n",
       "      <td>0.876000</td>\n",
       "      <td>0.126000</td>\n",
       "      <td>-9.180000</td>\n",
       "      <td>0.047000</td>\n",
       "      <td>133.444000</td>\n",
       "      <td>0.975000</td>\n",
       "      <td>48.000000</td>\n",
       "    </tr>\n",
       "    <tr>\n",
       "      <th>3</th>\n",
       "      <td>[]</td>\n",
       "      <td>0.651417</td>\n",
       "      <td>0.529093</td>\n",
       "      <td>2.328809e+05</td>\n",
       "      <td>0.419146</td>\n",
       "      <td>0.205309</td>\n",
       "      <td>0.218696</td>\n",
       "      <td>-12.288965</td>\n",
       "      <td>0.107872</td>\n",
       "      <td>112.857352</td>\n",
       "      <td>0.513604</td>\n",
       "      <td>20.859882</td>\n",
       "    </tr>\n",
       "    <tr>\n",
       "      <th>4</th>\n",
       "      <td>a cappella</td>\n",
       "      <td>0.676557</td>\n",
       "      <td>0.538961</td>\n",
       "      <td>1.906285e+05</td>\n",
       "      <td>0.316434</td>\n",
       "      <td>0.003003</td>\n",
       "      <td>0.172254</td>\n",
       "      <td>-12.479387</td>\n",
       "      <td>0.082851</td>\n",
       "      <td>112.110362</td>\n",
       "      <td>0.448249</td>\n",
       "      <td>45.820071</td>\n",
       "    </tr>\n",
       "  </tbody>\n",
       "</table>\n",
       "</div>"
      ],
      "text/plain": [
       "                   genres  acousticness  danceability   duration_ms    energy  \\\n",
       "0  21st century classical      0.979333      0.162883  1.602977e+05  0.071317   \n",
       "1                   432hz      0.494780      0.299333  1.048887e+06  0.450678   \n",
       "2                   8-bit      0.762000      0.712000  1.151770e+05  0.818000   \n",
       "3                      []      0.651417      0.529093  2.328809e+05  0.419146   \n",
       "4              a cappella      0.676557      0.538961  1.906285e+05  0.316434   \n",
       "\n",
       "   instrumentalness  liveness   loudness  speechiness       tempo   valence  \\\n",
       "0          0.606834  0.361600 -31.514333     0.040567   75.336500  0.103783   \n",
       "1          0.477762  0.131000 -16.854000     0.076817  120.285667  0.221750   \n",
       "2          0.876000  0.126000  -9.180000     0.047000  133.444000  0.975000   \n",
       "3          0.205309  0.218696 -12.288965     0.107872  112.857352  0.513604   \n",
       "4          0.003003  0.172254 -12.479387     0.082851  112.110362  0.448249   \n",
       "\n",
       "   popularity  \n",
       "0   27.833333  \n",
       "1   52.500000  \n",
       "2   48.000000  \n",
       "3   20.859882  \n",
       "4   45.820071  "
      ]
     },
     "metadata": {},
     "output_type": "display_data"
    },
    {
     "data": {
      "text/plain": [
       "'Shape: (2973, 12)'"
      ]
     },
     "metadata": {},
     "output_type": "display_data"
    },
    {
     "data": {
      "text/plain": [
       "'Nulos: 0'"
      ]
     },
     "metadata": {},
     "output_type": "display_data"
    },
    {
     "data": {
      "text/plain": [
       "'Nans: 0'"
      ]
     },
     "metadata": {},
     "output_type": "display_data"
    }
   ],
   "source": [
    "verifica(dados_generos)"
   ]
  },
  {
   "cell_type": "code",
   "execution_count": 76,
   "metadata": {},
   "outputs": [
    {
     "data": {
      "text/html": [
       "<div>\n",
       "<style scoped>\n",
       "    .dataframe tbody tr th:only-of-type {\n",
       "        vertical-align: middle;\n",
       "    }\n",
       "\n",
       "    .dataframe tbody tr th {\n",
       "        vertical-align: top;\n",
       "    }\n",
       "\n",
       "    .dataframe thead th {\n",
       "        text-align: right;\n",
       "    }\n",
       "</style>\n",
       "<table border=\"1\" class=\"dataframe\">\n",
       "  <thead>\n",
       "    <tr style=\"text-align: right;\">\n",
       "      <th></th>\n",
       "      <th>mode</th>\n",
       "      <th>year</th>\n",
       "      <th>acousticness</th>\n",
       "      <th>danceability</th>\n",
       "      <th>duration_ms</th>\n",
       "      <th>energy</th>\n",
       "      <th>instrumentalness</th>\n",
       "      <th>liveness</th>\n",
       "      <th>loudness</th>\n",
       "      <th>speechiness</th>\n",
       "      <th>tempo</th>\n",
       "      <th>valence</th>\n",
       "      <th>popularity</th>\n",
       "      <th>key</th>\n",
       "    </tr>\n",
       "  </thead>\n",
       "  <tbody>\n",
       "    <tr>\n",
       "      <th>0</th>\n",
       "      <td>1</td>\n",
       "      <td>1921</td>\n",
       "      <td>0.886896</td>\n",
       "      <td>0.418597</td>\n",
       "      <td>260537.166667</td>\n",
       "      <td>0.231815</td>\n",
       "      <td>0.344878</td>\n",
       "      <td>0.205710</td>\n",
       "      <td>-17.048667</td>\n",
       "      <td>0.073662</td>\n",
       "      <td>101.531493</td>\n",
       "      <td>0.379327</td>\n",
       "      <td>0.653333</td>\n",
       "      <td>2</td>\n",
       "    </tr>\n",
       "    <tr>\n",
       "      <th>1</th>\n",
       "      <td>1</td>\n",
       "      <td>1922</td>\n",
       "      <td>0.938592</td>\n",
       "      <td>0.482042</td>\n",
       "      <td>165469.746479</td>\n",
       "      <td>0.237815</td>\n",
       "      <td>0.434195</td>\n",
       "      <td>0.240720</td>\n",
       "      <td>-19.275282</td>\n",
       "      <td>0.116655</td>\n",
       "      <td>100.884521</td>\n",
       "      <td>0.535549</td>\n",
       "      <td>0.140845</td>\n",
       "      <td>10</td>\n",
       "    </tr>\n",
       "    <tr>\n",
       "      <th>2</th>\n",
       "      <td>1</td>\n",
       "      <td>1923</td>\n",
       "      <td>0.957247</td>\n",
       "      <td>0.577341</td>\n",
       "      <td>177942.362162</td>\n",
       "      <td>0.262406</td>\n",
       "      <td>0.371733</td>\n",
       "      <td>0.227462</td>\n",
       "      <td>-14.129211</td>\n",
       "      <td>0.093949</td>\n",
       "      <td>114.010730</td>\n",
       "      <td>0.625492</td>\n",
       "      <td>5.389189</td>\n",
       "      <td>0</td>\n",
       "    </tr>\n",
       "    <tr>\n",
       "      <th>3</th>\n",
       "      <td>1</td>\n",
       "      <td>1924</td>\n",
       "      <td>0.940200</td>\n",
       "      <td>0.549894</td>\n",
       "      <td>191046.707627</td>\n",
       "      <td>0.344347</td>\n",
       "      <td>0.581701</td>\n",
       "      <td>0.235219</td>\n",
       "      <td>-14.231343</td>\n",
       "      <td>0.092089</td>\n",
       "      <td>120.689572</td>\n",
       "      <td>0.663725</td>\n",
       "      <td>0.661017</td>\n",
       "      <td>10</td>\n",
       "    </tr>\n",
       "    <tr>\n",
       "      <th>4</th>\n",
       "      <td>1</td>\n",
       "      <td>1925</td>\n",
       "      <td>0.962607</td>\n",
       "      <td>0.573863</td>\n",
       "      <td>184986.924460</td>\n",
       "      <td>0.278594</td>\n",
       "      <td>0.418297</td>\n",
       "      <td>0.237668</td>\n",
       "      <td>-14.146414</td>\n",
       "      <td>0.111918</td>\n",
       "      <td>115.521921</td>\n",
       "      <td>0.621929</td>\n",
       "      <td>2.604317</td>\n",
       "      <td>5</td>\n",
       "    </tr>\n",
       "  </tbody>\n",
       "</table>\n",
       "</div>"
      ],
      "text/plain": [
       "   mode  year  acousticness  danceability    duration_ms    energy  \\\n",
       "0     1  1921      0.886896      0.418597  260537.166667  0.231815   \n",
       "1     1  1922      0.938592      0.482042  165469.746479  0.237815   \n",
       "2     1  1923      0.957247      0.577341  177942.362162  0.262406   \n",
       "3     1  1924      0.940200      0.549894  191046.707627  0.344347   \n",
       "4     1  1925      0.962607      0.573863  184986.924460  0.278594   \n",
       "\n",
       "   instrumentalness  liveness   loudness  speechiness       tempo   valence  \\\n",
       "0          0.344878  0.205710 -17.048667     0.073662  101.531493  0.379327   \n",
       "1          0.434195  0.240720 -19.275282     0.116655  100.884521  0.535549   \n",
       "2          0.371733  0.227462 -14.129211     0.093949  114.010730  0.625492   \n",
       "3          0.581701  0.235219 -14.231343     0.092089  120.689572  0.663725   \n",
       "4          0.418297  0.237668 -14.146414     0.111918  115.521921  0.621929   \n",
       "\n",
       "   popularity  key  \n",
       "0    0.653333    2  \n",
       "1    0.140845   10  \n",
       "2    5.389189    0  \n",
       "3    0.661017   10  \n",
       "4    2.604317    5  "
      ]
     },
     "metadata": {},
     "output_type": "display_data"
    },
    {
     "data": {
      "text/plain": [
       "'Shape: (100, 14)'"
      ]
     },
     "metadata": {},
     "output_type": "display_data"
    },
    {
     "data": {
      "text/plain": [
       "'Nulos: 0'"
      ]
     },
     "metadata": {},
     "output_type": "display_data"
    },
    {
     "data": {
      "text/plain": [
       "'Nans: 0'"
      ]
     },
     "metadata": {},
     "output_type": "display_data"
    }
   ],
   "source": [
    "#base de dados ano\n",
    "verifica(dados_anos)"
   ]
  },
  {
   "cell_type": "code",
   "execution_count": 77,
   "metadata": {},
   "outputs": [
    {
     "data": {
      "text/html": [
       "<div>\n",
       "<style scoped>\n",
       "    .dataframe tbody tr th:only-of-type {\n",
       "        vertical-align: middle;\n",
       "    }\n",
       "\n",
       "    .dataframe tbody tr th {\n",
       "        vertical-align: top;\n",
       "    }\n",
       "\n",
       "    .dataframe thead th {\n",
       "        text-align: right;\n",
       "    }\n",
       "</style>\n",
       "<table border=\"1\" class=\"dataframe\">\n",
       "  <thead>\n",
       "    <tr style=\"text-align: right;\">\n",
       "      <th></th>\n",
       "      <th>year</th>\n",
       "      <th>acousticness</th>\n",
       "      <th>danceability</th>\n",
       "      <th>duration_ms</th>\n",
       "      <th>energy</th>\n",
       "      <th>instrumentalness</th>\n",
       "      <th>liveness</th>\n",
       "      <th>loudness</th>\n",
       "      <th>speechiness</th>\n",
       "      <th>tempo</th>\n",
       "      <th>valence</th>\n",
       "      <th>popularity</th>\n",
       "    </tr>\n",
       "  </thead>\n",
       "  <tbody>\n",
       "    <tr>\n",
       "      <th>0</th>\n",
       "      <td>1921</td>\n",
       "      <td>0.886896</td>\n",
       "      <td>0.418597</td>\n",
       "      <td>260537.166667</td>\n",
       "      <td>0.231815</td>\n",
       "      <td>0.344878</td>\n",
       "      <td>0.205710</td>\n",
       "      <td>-17.048667</td>\n",
       "      <td>0.073662</td>\n",
       "      <td>101.531493</td>\n",
       "      <td>0.379327</td>\n",
       "      <td>0.653333</td>\n",
       "    </tr>\n",
       "    <tr>\n",
       "      <th>1</th>\n",
       "      <td>1922</td>\n",
       "      <td>0.938592</td>\n",
       "      <td>0.482042</td>\n",
       "      <td>165469.746479</td>\n",
       "      <td>0.237815</td>\n",
       "      <td>0.434195</td>\n",
       "      <td>0.240720</td>\n",
       "      <td>-19.275282</td>\n",
       "      <td>0.116655</td>\n",
       "      <td>100.884521</td>\n",
       "      <td>0.535549</td>\n",
       "      <td>0.140845</td>\n",
       "    </tr>\n",
       "    <tr>\n",
       "      <th>2</th>\n",
       "      <td>1923</td>\n",
       "      <td>0.957247</td>\n",
       "      <td>0.577341</td>\n",
       "      <td>177942.362162</td>\n",
       "      <td>0.262406</td>\n",
       "      <td>0.371733</td>\n",
       "      <td>0.227462</td>\n",
       "      <td>-14.129211</td>\n",
       "      <td>0.093949</td>\n",
       "      <td>114.010730</td>\n",
       "      <td>0.625492</td>\n",
       "      <td>5.389189</td>\n",
       "    </tr>\n",
       "    <tr>\n",
       "      <th>3</th>\n",
       "      <td>1924</td>\n",
       "      <td>0.940200</td>\n",
       "      <td>0.549894</td>\n",
       "      <td>191046.707627</td>\n",
       "      <td>0.344347</td>\n",
       "      <td>0.581701</td>\n",
       "      <td>0.235219</td>\n",
       "      <td>-14.231343</td>\n",
       "      <td>0.092089</td>\n",
       "      <td>120.689572</td>\n",
       "      <td>0.663725</td>\n",
       "      <td>0.661017</td>\n",
       "    </tr>\n",
       "    <tr>\n",
       "      <th>4</th>\n",
       "      <td>1925</td>\n",
       "      <td>0.962607</td>\n",
       "      <td>0.573863</td>\n",
       "      <td>184986.924460</td>\n",
       "      <td>0.278594</td>\n",
       "      <td>0.418297</td>\n",
       "      <td>0.237668</td>\n",
       "      <td>-14.146414</td>\n",
       "      <td>0.111918</td>\n",
       "      <td>115.521921</td>\n",
       "      <td>0.621929</td>\n",
       "      <td>2.604317</td>\n",
       "    </tr>\n",
       "  </tbody>\n",
       "</table>\n",
       "</div>"
      ],
      "text/plain": [
       "   year  acousticness  danceability    duration_ms    energy  \\\n",
       "0  1921      0.886896      0.418597  260537.166667  0.231815   \n",
       "1  1922      0.938592      0.482042  165469.746479  0.237815   \n",
       "2  1923      0.957247      0.577341  177942.362162  0.262406   \n",
       "3  1924      0.940200      0.549894  191046.707627  0.344347   \n",
       "4  1925      0.962607      0.573863  184986.924460  0.278594   \n",
       "\n",
       "   instrumentalness  liveness   loudness  speechiness       tempo   valence  \\\n",
       "0          0.344878  0.205710 -17.048667     0.073662  101.531493  0.379327   \n",
       "1          0.434195  0.240720 -19.275282     0.116655  100.884521  0.535549   \n",
       "2          0.371733  0.227462 -14.129211     0.093949  114.010730  0.625492   \n",
       "3          0.581701  0.235219 -14.231343     0.092089  120.689572  0.663725   \n",
       "4          0.418297  0.237668 -14.146414     0.111918  115.521921  0.621929   \n",
       "\n",
       "   popularity  \n",
       "0    0.653333  \n",
       "1    0.140845  \n",
       "2    5.389189  \n",
       "3    0.661017  \n",
       "4    2.604317  "
      ]
     },
     "execution_count": 77,
     "metadata": {},
     "output_type": "execute_result"
    }
   ],
   "source": [
    "#removendo colunas\n",
    "trata_dados(dados_anos)"
   ]
  },
  {
   "cell_type": "code",
   "execution_count": 78,
   "metadata": {},
   "outputs": [
    {
     "data": {
      "text/plain": [
       "array([1921, 1922, 1923, 1924, 1925, 1926, 1927, 1928, 1929, 1930, 1931,\n",
       "       1932, 1933, 1934, 1935, 1936, 1937, 1938, 1939, 1940, 1941, 1942,\n",
       "       1943, 1944, 1945, 1946, 1947, 1948, 1949, 1950, 1951, 1952, 1953,\n",
       "       1954, 1955, 1956, 1957, 1958, 1959, 1960, 1961, 1962, 1963, 1964,\n",
       "       1965, 1966, 1967, 1968, 1969, 1970, 1971, 1972, 1973, 1974, 1975,\n",
       "       1976, 1977, 1978, 1979, 1980, 1981, 1982, 1983, 1984, 1985, 1986,\n",
       "       1987, 1988, 1989, 1990, 1991, 1992, 1993, 1994, 1995, 1996, 1997,\n",
       "       1998, 1999, 2000, 2001, 2002, 2003, 2004, 2005, 2006, 2007, 2008,\n",
       "       2009, 2010, 2011, 2012, 2013, 2014, 2015, 2016, 2017, 2018, 2019,\n",
       "       2020])"
      ]
     },
     "execution_count": 78,
     "metadata": {},
     "output_type": "execute_result"
    }
   ],
   "source": [
    "#anos\n",
    "dados_anos['year'].unique()"
   ]
  },
  {
   "cell_type": "code",
   "execution_count": 79,
   "metadata": {},
   "outputs": [],
   "source": [
    "#Selecionado somente anos acima ou igual 2000\n",
    "dados_anos = dados_anos[dados_anos['year'] >=2000]"
   ]
  },
  {
   "cell_type": "code",
   "execution_count": 80,
   "metadata": {},
   "outputs": [
    {
     "data": {
      "text/plain": [
       "array([2000, 2001, 2002, 2003, 2004, 2005, 2006, 2007, 2008, 2009, 2010,\n",
       "       2011, 2012, 2013, 2014, 2015, 2016, 2017, 2018, 2019, 2020])"
      ]
     },
     "execution_count": 80,
     "metadata": {},
     "output_type": "execute_result"
    }
   ],
   "source": [
    "dados_anos['year'].unique()"
   ]
  },
  {
   "cell_type": "code",
   "execution_count": 81,
   "metadata": {},
   "outputs": [
    {
     "data": {
      "text/html": [
       "<div>\n",
       "<style scoped>\n",
       "    .dataframe tbody tr th:only-of-type {\n",
       "        vertical-align: middle;\n",
       "    }\n",
       "\n",
       "    .dataframe tbody tr th {\n",
       "        vertical-align: top;\n",
       "    }\n",
       "\n",
       "    .dataframe thead th {\n",
       "        text-align: right;\n",
       "    }\n",
       "</style>\n",
       "<table border=\"1\" class=\"dataframe\">\n",
       "  <thead>\n",
       "    <tr style=\"text-align: right;\">\n",
       "      <th></th>\n",
       "      <th>year</th>\n",
       "      <th>acousticness</th>\n",
       "      <th>danceability</th>\n",
       "      <th>duration_ms</th>\n",
       "      <th>energy</th>\n",
       "      <th>instrumentalness</th>\n",
       "      <th>liveness</th>\n",
       "      <th>loudness</th>\n",
       "      <th>speechiness</th>\n",
       "      <th>tempo</th>\n",
       "      <th>valence</th>\n",
       "      <th>popularity</th>\n",
       "    </tr>\n",
       "  </thead>\n",
       "  <tbody>\n",
       "    <tr>\n",
       "      <th>79</th>\n",
       "      <td>2000</td>\n",
       "      <td>0.289323</td>\n",
       "      <td>0.590918</td>\n",
       "      <td>242724.642638</td>\n",
       "      <td>0.625413</td>\n",
       "      <td>0.101168</td>\n",
       "      <td>0.197686</td>\n",
       "      <td>-8.247766</td>\n",
       "      <td>0.089205</td>\n",
       "      <td>118.999323</td>\n",
       "      <td>0.559475</td>\n",
       "      <td>46.684049</td>\n",
       "    </tr>\n",
       "    <tr>\n",
       "      <th>80</th>\n",
       "      <td>2001</td>\n",
       "      <td>0.286842</td>\n",
       "      <td>0.583318</td>\n",
       "      <td>240307.796010</td>\n",
       "      <td>0.626986</td>\n",
       "      <td>0.107214</td>\n",
       "      <td>0.187026</td>\n",
       "      <td>-8.305095</td>\n",
       "      <td>0.089182</td>\n",
       "      <td>117.765399</td>\n",
       "      <td>0.541479</td>\n",
       "      <td>48.750125</td>\n",
       "    </tr>\n",
       "    <tr>\n",
       "      <th>81</th>\n",
       "      <td>2002</td>\n",
       "      <td>0.282624</td>\n",
       "      <td>0.576160</td>\n",
       "      <td>239503.283000</td>\n",
       "      <td>0.641270</td>\n",
       "      <td>0.088048</td>\n",
       "      <td>0.193911</td>\n",
       "      <td>-7.686640</td>\n",
       "      <td>0.084308</td>\n",
       "      <td>119.239738</td>\n",
       "      <td>0.542397</td>\n",
       "      <td>48.655500</td>\n",
       "    </tr>\n",
       "    <tr>\n",
       "      <th>82</th>\n",
       "      <td>2003</td>\n",
       "      <td>0.256471</td>\n",
       "      <td>0.575763</td>\n",
       "      <td>244670.575230</td>\n",
       "      <td>0.660165</td>\n",
       "      <td>0.083049</td>\n",
       "      <td>0.196976</td>\n",
       "      <td>-7.485545</td>\n",
       "      <td>0.093926</td>\n",
       "      <td>120.914622</td>\n",
       "      <td>0.530504</td>\n",
       "      <td>48.626407</td>\n",
       "    </tr>\n",
       "    <tr>\n",
       "      <th>83</th>\n",
       "      <td>2004</td>\n",
       "      <td>0.280559</td>\n",
       "      <td>0.567680</td>\n",
       "      <td>237378.708037</td>\n",
       "      <td>0.648868</td>\n",
       "      <td>0.077934</td>\n",
       "      <td>0.202199</td>\n",
       "      <td>-7.601655</td>\n",
       "      <td>0.094239</td>\n",
       "      <td>121.290346</td>\n",
       "      <td>0.524489</td>\n",
       "      <td>49.273143</td>\n",
       "    </tr>\n",
       "  </tbody>\n",
       "</table>\n",
       "</div>"
      ],
      "text/plain": [
       "    year  acousticness  danceability    duration_ms    energy  \\\n",
       "79  2000      0.289323      0.590918  242724.642638  0.625413   \n",
       "80  2001      0.286842      0.583318  240307.796010  0.626986   \n",
       "81  2002      0.282624      0.576160  239503.283000  0.641270   \n",
       "82  2003      0.256471      0.575763  244670.575230  0.660165   \n",
       "83  2004      0.280559      0.567680  237378.708037  0.648868   \n",
       "\n",
       "    instrumentalness  liveness  loudness  speechiness       tempo   valence  \\\n",
       "79          0.101168  0.197686 -8.247766     0.089205  118.999323  0.559475   \n",
       "80          0.107214  0.187026 -8.305095     0.089182  117.765399  0.541479   \n",
       "81          0.088048  0.193911 -7.686640     0.084308  119.239738  0.542397   \n",
       "82          0.083049  0.196976 -7.485545     0.093926  120.914622  0.530504   \n",
       "83          0.077934  0.202199 -7.601655     0.094239  121.290346  0.524489   \n",
       "\n",
       "    popularity  \n",
       "79   46.684049  \n",
       "80   48.750125  \n",
       "81   48.655500  \n",
       "82   48.626407  \n",
       "83   49.273143  "
      ]
     },
     "execution_count": 81,
     "metadata": {},
     "output_type": "execute_result"
    }
   ],
   "source": [
    "dados_anos.head()"
   ]
  },
  {
   "cell_type": "code",
   "execution_count": 82,
   "metadata": {},
   "outputs": [],
   "source": [
    "#Resetando o index\n",
    "dados_anos.reset_index(drop = True, inplace=True)"
   ]
  },
  {
   "cell_type": "code",
   "execution_count": 83,
   "metadata": {},
   "outputs": [
    {
     "data": {
      "text/html": [
       "<div>\n",
       "<style scoped>\n",
       "    .dataframe tbody tr th:only-of-type {\n",
       "        vertical-align: middle;\n",
       "    }\n",
       "\n",
       "    .dataframe tbody tr th {\n",
       "        vertical-align: top;\n",
       "    }\n",
       "\n",
       "    .dataframe thead th {\n",
       "        text-align: right;\n",
       "    }\n",
       "</style>\n",
       "<table border=\"1\" class=\"dataframe\">\n",
       "  <thead>\n",
       "    <tr style=\"text-align: right;\">\n",
       "      <th></th>\n",
       "      <th>year</th>\n",
       "      <th>acousticness</th>\n",
       "      <th>danceability</th>\n",
       "      <th>duration_ms</th>\n",
       "      <th>energy</th>\n",
       "      <th>instrumentalness</th>\n",
       "      <th>liveness</th>\n",
       "      <th>loudness</th>\n",
       "      <th>speechiness</th>\n",
       "      <th>tempo</th>\n",
       "      <th>valence</th>\n",
       "      <th>popularity</th>\n",
       "    </tr>\n",
       "  </thead>\n",
       "  <tbody>\n",
       "    <tr>\n",
       "      <th>0</th>\n",
       "      <td>2000</td>\n",
       "      <td>0.289323</td>\n",
       "      <td>0.590918</td>\n",
       "      <td>242724.642638</td>\n",
       "      <td>0.625413</td>\n",
       "      <td>0.101168</td>\n",
       "      <td>0.197686</td>\n",
       "      <td>-8.247766</td>\n",
       "      <td>0.089205</td>\n",
       "      <td>118.999323</td>\n",
       "      <td>0.559475</td>\n",
       "      <td>46.684049</td>\n",
       "    </tr>\n",
       "    <tr>\n",
       "      <th>1</th>\n",
       "      <td>2001</td>\n",
       "      <td>0.286842</td>\n",
       "      <td>0.583318</td>\n",
       "      <td>240307.796010</td>\n",
       "      <td>0.626986</td>\n",
       "      <td>0.107214</td>\n",
       "      <td>0.187026</td>\n",
       "      <td>-8.305095</td>\n",
       "      <td>0.089182</td>\n",
       "      <td>117.765399</td>\n",
       "      <td>0.541479</td>\n",
       "      <td>48.750125</td>\n",
       "    </tr>\n",
       "    <tr>\n",
       "      <th>2</th>\n",
       "      <td>2002</td>\n",
       "      <td>0.282624</td>\n",
       "      <td>0.576160</td>\n",
       "      <td>239503.283000</td>\n",
       "      <td>0.641270</td>\n",
       "      <td>0.088048</td>\n",
       "      <td>0.193911</td>\n",
       "      <td>-7.686640</td>\n",
       "      <td>0.084308</td>\n",
       "      <td>119.239738</td>\n",
       "      <td>0.542397</td>\n",
       "      <td>48.655500</td>\n",
       "    </tr>\n",
       "    <tr>\n",
       "      <th>3</th>\n",
       "      <td>2003</td>\n",
       "      <td>0.256471</td>\n",
       "      <td>0.575763</td>\n",
       "      <td>244670.575230</td>\n",
       "      <td>0.660165</td>\n",
       "      <td>0.083049</td>\n",
       "      <td>0.196976</td>\n",
       "      <td>-7.485545</td>\n",
       "      <td>0.093926</td>\n",
       "      <td>120.914622</td>\n",
       "      <td>0.530504</td>\n",
       "      <td>48.626407</td>\n",
       "    </tr>\n",
       "    <tr>\n",
       "      <th>4</th>\n",
       "      <td>2004</td>\n",
       "      <td>0.280559</td>\n",
       "      <td>0.567680</td>\n",
       "      <td>237378.708037</td>\n",
       "      <td>0.648868</td>\n",
       "      <td>0.077934</td>\n",
       "      <td>0.202199</td>\n",
       "      <td>-7.601655</td>\n",
       "      <td>0.094239</td>\n",
       "      <td>121.290346</td>\n",
       "      <td>0.524489</td>\n",
       "      <td>49.273143</td>\n",
       "    </tr>\n",
       "  </tbody>\n",
       "</table>\n",
       "</div>"
      ],
      "text/plain": [
       "   year  acousticness  danceability    duration_ms    energy  \\\n",
       "0  2000      0.289323      0.590918  242724.642638  0.625413   \n",
       "1  2001      0.286842      0.583318  240307.796010  0.626986   \n",
       "2  2002      0.282624      0.576160  239503.283000  0.641270   \n",
       "3  2003      0.256471      0.575763  244670.575230  0.660165   \n",
       "4  2004      0.280559      0.567680  237378.708037  0.648868   \n",
       "\n",
       "   instrumentalness  liveness  loudness  speechiness       tempo   valence  \\\n",
       "0          0.101168  0.197686 -8.247766     0.089205  118.999323  0.559475   \n",
       "1          0.107214  0.187026 -8.305095     0.089182  117.765399  0.541479   \n",
       "2          0.088048  0.193911 -7.686640     0.084308  119.239738  0.542397   \n",
       "3          0.083049  0.196976 -7.485545     0.093926  120.914622  0.530504   \n",
       "4          0.077934  0.202199 -7.601655     0.094239  121.290346  0.524489   \n",
       "\n",
       "   popularity  \n",
       "0   46.684049  \n",
       "1   48.750125  \n",
       "2   48.655500  \n",
       "3   48.626407  \n",
       "4   49.273143  "
      ]
     },
     "execution_count": 83,
     "metadata": {},
     "output_type": "execute_result"
    }
   ],
   "source": [
    "dados_anos.head()"
   ]
  },
  {
   "attachments": {},
   "cell_type": "markdown",
   "metadata": {},
   "source": [
    "## 2. Análise Gráfica"
   ]
  },
  {
   "cell_type": "code",
   "execution_count": 84,
   "metadata": {},
   "outputs": [],
   "source": [
    "import plotly.express as px\n",
    "import matplotlib.pyplot as plt"
   ]
  },
  {
   "cell_type": "code",
   "execution_count": 85,
   "metadata": {},
   "outputs": [
    {
     "data": {
      "application/vnd.plotly.v1+json": {
       "config": {
        "plotlyServerURL": "https://plot.ly"
       },
       "data": [
        {
         "hovertemplate": "year=%{x}<br>loudness=%{y}<extra></extra>",
         "legendgroup": "",
         "line": {
          "color": "#636efa",
          "dash": "solid"
         },
         "marker": {
          "symbol": "circle"
         },
         "mode": "lines+markers",
         "name": "",
         "orientation": "v",
         "showlegend": false,
         "type": "scatter",
         "x": [
          2000,
          2001,
          2002,
          2003,
          2004,
          2005,
          2006,
          2007,
          2008,
          2009,
          2010,
          2011,
          2012,
          2013,
          2014,
          2015,
          2016,
          2017,
          2018,
          2019,
          2020
         ],
         "xaxis": "x",
         "y": [
          -8.247765848670758,
          -8.305095261845384,
          -7.686639500000013,
          -7.485545035823955,
          -7.601655137334684,
          -7.46615897435897,
          -7.265500512820514,
          -7.044535897435892,
          -6.8438040920716166,
          -7.0460147959183645,
          -6.9099042658730125,
          -7.574986117997006,
          -7.260549614395888,
          -7.472039473684207,
          -7.06743990024938,
          -7.625639311043569,
          -8.061056204785759,
          -8.31262951807228,
          -7.168785068949124,
          -7.722191893278596,
          -6.595066995073878
         ],
         "yaxis": "y"
        }
       ],
       "layout": {
        "legend": {
         "tracegroupgap": 0
        },
        "template": {
         "data": {
          "bar": [
           {
            "error_x": {
             "color": "#2a3f5f"
            },
            "error_y": {
             "color": "#2a3f5f"
            },
            "marker": {
             "line": {
              "color": "#E5ECF6",
              "width": 0.5
             },
             "pattern": {
              "fillmode": "overlay",
              "size": 10,
              "solidity": 0.2
             }
            },
            "type": "bar"
           }
          ],
          "barpolar": [
           {
            "marker": {
             "line": {
              "color": "#E5ECF6",
              "width": 0.5
             },
             "pattern": {
              "fillmode": "overlay",
              "size": 10,
              "solidity": 0.2
             }
            },
            "type": "barpolar"
           }
          ],
          "carpet": [
           {
            "aaxis": {
             "endlinecolor": "#2a3f5f",
             "gridcolor": "white",
             "linecolor": "white",
             "minorgridcolor": "white",
             "startlinecolor": "#2a3f5f"
            },
            "baxis": {
             "endlinecolor": "#2a3f5f",
             "gridcolor": "white",
             "linecolor": "white",
             "minorgridcolor": "white",
             "startlinecolor": "#2a3f5f"
            },
            "type": "carpet"
           }
          ],
          "choropleth": [
           {
            "colorbar": {
             "outlinewidth": 0,
             "ticks": ""
            },
            "type": "choropleth"
           }
          ],
          "contour": [
           {
            "colorbar": {
             "outlinewidth": 0,
             "ticks": ""
            },
            "colorscale": [
             [
              0,
              "#0d0887"
             ],
             [
              0.1111111111111111,
              "#46039f"
             ],
             [
              0.2222222222222222,
              "#7201a8"
             ],
             [
              0.3333333333333333,
              "#9c179e"
             ],
             [
              0.4444444444444444,
              "#bd3786"
             ],
             [
              0.5555555555555556,
              "#d8576b"
             ],
             [
              0.6666666666666666,
              "#ed7953"
             ],
             [
              0.7777777777777778,
              "#fb9f3a"
             ],
             [
              0.8888888888888888,
              "#fdca26"
             ],
             [
              1,
              "#f0f921"
             ]
            ],
            "type": "contour"
           }
          ],
          "contourcarpet": [
           {
            "colorbar": {
             "outlinewidth": 0,
             "ticks": ""
            },
            "type": "contourcarpet"
           }
          ],
          "heatmap": [
           {
            "colorbar": {
             "outlinewidth": 0,
             "ticks": ""
            },
            "colorscale": [
             [
              0,
              "#0d0887"
             ],
             [
              0.1111111111111111,
              "#46039f"
             ],
             [
              0.2222222222222222,
              "#7201a8"
             ],
             [
              0.3333333333333333,
              "#9c179e"
             ],
             [
              0.4444444444444444,
              "#bd3786"
             ],
             [
              0.5555555555555556,
              "#d8576b"
             ],
             [
              0.6666666666666666,
              "#ed7953"
             ],
             [
              0.7777777777777778,
              "#fb9f3a"
             ],
             [
              0.8888888888888888,
              "#fdca26"
             ],
             [
              1,
              "#f0f921"
             ]
            ],
            "type": "heatmap"
           }
          ],
          "heatmapgl": [
           {
            "colorbar": {
             "outlinewidth": 0,
             "ticks": ""
            },
            "colorscale": [
             [
              0,
              "#0d0887"
             ],
             [
              0.1111111111111111,
              "#46039f"
             ],
             [
              0.2222222222222222,
              "#7201a8"
             ],
             [
              0.3333333333333333,
              "#9c179e"
             ],
             [
              0.4444444444444444,
              "#bd3786"
             ],
             [
              0.5555555555555556,
              "#d8576b"
             ],
             [
              0.6666666666666666,
              "#ed7953"
             ],
             [
              0.7777777777777778,
              "#fb9f3a"
             ],
             [
              0.8888888888888888,
              "#fdca26"
             ],
             [
              1,
              "#f0f921"
             ]
            ],
            "type": "heatmapgl"
           }
          ],
          "histogram": [
           {
            "marker": {
             "pattern": {
              "fillmode": "overlay",
              "size": 10,
              "solidity": 0.2
             }
            },
            "type": "histogram"
           }
          ],
          "histogram2d": [
           {
            "colorbar": {
             "outlinewidth": 0,
             "ticks": ""
            },
            "colorscale": [
             [
              0,
              "#0d0887"
             ],
             [
              0.1111111111111111,
              "#46039f"
             ],
             [
              0.2222222222222222,
              "#7201a8"
             ],
             [
              0.3333333333333333,
              "#9c179e"
             ],
             [
              0.4444444444444444,
              "#bd3786"
             ],
             [
              0.5555555555555556,
              "#d8576b"
             ],
             [
              0.6666666666666666,
              "#ed7953"
             ],
             [
              0.7777777777777778,
              "#fb9f3a"
             ],
             [
              0.8888888888888888,
              "#fdca26"
             ],
             [
              1,
              "#f0f921"
             ]
            ],
            "type": "histogram2d"
           }
          ],
          "histogram2dcontour": [
           {
            "colorbar": {
             "outlinewidth": 0,
             "ticks": ""
            },
            "colorscale": [
             [
              0,
              "#0d0887"
             ],
             [
              0.1111111111111111,
              "#46039f"
             ],
             [
              0.2222222222222222,
              "#7201a8"
             ],
             [
              0.3333333333333333,
              "#9c179e"
             ],
             [
              0.4444444444444444,
              "#bd3786"
             ],
             [
              0.5555555555555556,
              "#d8576b"
             ],
             [
              0.6666666666666666,
              "#ed7953"
             ],
             [
              0.7777777777777778,
              "#fb9f3a"
             ],
             [
              0.8888888888888888,
              "#fdca26"
             ],
             [
              1,
              "#f0f921"
             ]
            ],
            "type": "histogram2dcontour"
           }
          ],
          "mesh3d": [
           {
            "colorbar": {
             "outlinewidth": 0,
             "ticks": ""
            },
            "type": "mesh3d"
           }
          ],
          "parcoords": [
           {
            "line": {
             "colorbar": {
              "outlinewidth": 0,
              "ticks": ""
             }
            },
            "type": "parcoords"
           }
          ],
          "pie": [
           {
            "automargin": true,
            "type": "pie"
           }
          ],
          "scatter": [
           {
            "marker": {
             "colorbar": {
              "outlinewidth": 0,
              "ticks": ""
             }
            },
            "type": "scatter"
           }
          ],
          "scatter3d": [
           {
            "line": {
             "colorbar": {
              "outlinewidth": 0,
              "ticks": ""
             }
            },
            "marker": {
             "colorbar": {
              "outlinewidth": 0,
              "ticks": ""
             }
            },
            "type": "scatter3d"
           }
          ],
          "scattercarpet": [
           {
            "marker": {
             "colorbar": {
              "outlinewidth": 0,
              "ticks": ""
             }
            },
            "type": "scattercarpet"
           }
          ],
          "scattergeo": [
           {
            "marker": {
             "colorbar": {
              "outlinewidth": 0,
              "ticks": ""
             }
            },
            "type": "scattergeo"
           }
          ],
          "scattergl": [
           {
            "marker": {
             "colorbar": {
              "outlinewidth": 0,
              "ticks": ""
             }
            },
            "type": "scattergl"
           }
          ],
          "scattermapbox": [
           {
            "marker": {
             "colorbar": {
              "outlinewidth": 0,
              "ticks": ""
             }
            },
            "type": "scattermapbox"
           }
          ],
          "scatterpolar": [
           {
            "marker": {
             "colorbar": {
              "outlinewidth": 0,
              "ticks": ""
             }
            },
            "type": "scatterpolar"
           }
          ],
          "scatterpolargl": [
           {
            "marker": {
             "colorbar": {
              "outlinewidth": 0,
              "ticks": ""
             }
            },
            "type": "scatterpolargl"
           }
          ],
          "scatterternary": [
           {
            "marker": {
             "colorbar": {
              "outlinewidth": 0,
              "ticks": ""
             }
            },
            "type": "scatterternary"
           }
          ],
          "surface": [
           {
            "colorbar": {
             "outlinewidth": 0,
             "ticks": ""
            },
            "colorscale": [
             [
              0,
              "#0d0887"
             ],
             [
              0.1111111111111111,
              "#46039f"
             ],
             [
              0.2222222222222222,
              "#7201a8"
             ],
             [
              0.3333333333333333,
              "#9c179e"
             ],
             [
              0.4444444444444444,
              "#bd3786"
             ],
             [
              0.5555555555555556,
              "#d8576b"
             ],
             [
              0.6666666666666666,
              "#ed7953"
             ],
             [
              0.7777777777777778,
              "#fb9f3a"
             ],
             [
              0.8888888888888888,
              "#fdca26"
             ],
             [
              1,
              "#f0f921"
             ]
            ],
            "type": "surface"
           }
          ],
          "table": [
           {
            "cells": {
             "fill": {
              "color": "#EBF0F8"
             },
             "line": {
              "color": "white"
             }
            },
            "header": {
             "fill": {
              "color": "#C8D4E3"
             },
             "line": {
              "color": "white"
             }
            },
            "type": "table"
           }
          ]
         },
         "layout": {
          "annotationdefaults": {
           "arrowcolor": "#2a3f5f",
           "arrowhead": 0,
           "arrowwidth": 1
          },
          "autotypenumbers": "strict",
          "coloraxis": {
           "colorbar": {
            "outlinewidth": 0,
            "ticks": ""
           }
          },
          "colorscale": {
           "diverging": [
            [
             0,
             "#8e0152"
            ],
            [
             0.1,
             "#c51b7d"
            ],
            [
             0.2,
             "#de77ae"
            ],
            [
             0.3,
             "#f1b6da"
            ],
            [
             0.4,
             "#fde0ef"
            ],
            [
             0.5,
             "#f7f7f7"
            ],
            [
             0.6,
             "#e6f5d0"
            ],
            [
             0.7,
             "#b8e186"
            ],
            [
             0.8,
             "#7fbc41"
            ],
            [
             0.9,
             "#4d9221"
            ],
            [
             1,
             "#276419"
            ]
           ],
           "sequential": [
            [
             0,
             "#0d0887"
            ],
            [
             0.1111111111111111,
             "#46039f"
            ],
            [
             0.2222222222222222,
             "#7201a8"
            ],
            [
             0.3333333333333333,
             "#9c179e"
            ],
            [
             0.4444444444444444,
             "#bd3786"
            ],
            [
             0.5555555555555556,
             "#d8576b"
            ],
            [
             0.6666666666666666,
             "#ed7953"
            ],
            [
             0.7777777777777778,
             "#fb9f3a"
            ],
            [
             0.8888888888888888,
             "#fdca26"
            ],
            [
             1,
             "#f0f921"
            ]
           ],
           "sequentialminus": [
            [
             0,
             "#0d0887"
            ],
            [
             0.1111111111111111,
             "#46039f"
            ],
            [
             0.2222222222222222,
             "#7201a8"
            ],
            [
             0.3333333333333333,
             "#9c179e"
            ],
            [
             0.4444444444444444,
             "#bd3786"
            ],
            [
             0.5555555555555556,
             "#d8576b"
            ],
            [
             0.6666666666666666,
             "#ed7953"
            ],
            [
             0.7777777777777778,
             "#fb9f3a"
            ],
            [
             0.8888888888888888,
             "#fdca26"
            ],
            [
             1,
             "#f0f921"
            ]
           ]
          },
          "colorway": [
           "#636efa",
           "#EF553B",
           "#00cc96",
           "#ab63fa",
           "#FFA15A",
           "#19d3f3",
           "#FF6692",
           "#B6E880",
           "#FF97FF",
           "#FECB52"
          ],
          "font": {
           "color": "#2a3f5f"
          },
          "geo": {
           "bgcolor": "white",
           "lakecolor": "white",
           "landcolor": "#E5ECF6",
           "showlakes": true,
           "showland": true,
           "subunitcolor": "white"
          },
          "hoverlabel": {
           "align": "left"
          },
          "hovermode": "closest",
          "mapbox": {
           "style": "light"
          },
          "paper_bgcolor": "white",
          "plot_bgcolor": "#E5ECF6",
          "polar": {
           "angularaxis": {
            "gridcolor": "white",
            "linecolor": "white",
            "ticks": ""
           },
           "bgcolor": "#E5ECF6",
           "radialaxis": {
            "gridcolor": "white",
            "linecolor": "white",
            "ticks": ""
           }
          },
          "scene": {
           "xaxis": {
            "backgroundcolor": "#E5ECF6",
            "gridcolor": "white",
            "gridwidth": 2,
            "linecolor": "white",
            "showbackground": true,
            "ticks": "",
            "zerolinecolor": "white"
           },
           "yaxis": {
            "backgroundcolor": "#E5ECF6",
            "gridcolor": "white",
            "gridwidth": 2,
            "linecolor": "white",
            "showbackground": true,
            "ticks": "",
            "zerolinecolor": "white"
           },
           "zaxis": {
            "backgroundcolor": "#E5ECF6",
            "gridcolor": "white",
            "gridwidth": 2,
            "linecolor": "white",
            "showbackground": true,
            "ticks": "",
            "zerolinecolor": "white"
           }
          },
          "shapedefaults": {
           "line": {
            "color": "#2a3f5f"
           }
          },
          "ternary": {
           "aaxis": {
            "gridcolor": "white",
            "linecolor": "white",
            "ticks": ""
           },
           "baxis": {
            "gridcolor": "white",
            "linecolor": "white",
            "ticks": ""
           },
           "bgcolor": "#E5ECF6",
           "caxis": {
            "gridcolor": "white",
            "linecolor": "white",
            "ticks": ""
           }
          },
          "title": {
           "x": 0.05
          },
          "xaxis": {
           "automargin": true,
           "gridcolor": "white",
           "linecolor": "white",
           "ticks": "",
           "title": {
            "standoff": 15
           },
           "zerolinecolor": "white",
           "zerolinewidth": 2
          },
          "yaxis": {
           "automargin": true,
           "gridcolor": "white",
           "linecolor": "white",
           "ticks": "",
           "title": {
            "standoff": 15
           },
           "zerolinecolor": "white",
           "zerolinewidth": 2
          }
         }
        },
        "title": {
         "text": "Variação do Loudness por ano"
        },
        "xaxis": {
         "anchor": "y",
         "domain": [
          0,
          1
         ],
         "title": {
          "text": "year"
         }
        },
        "yaxis": {
         "anchor": "x",
         "domain": [
          0,
          1
         ],
         "title": {
          "text": "loudness"
         }
        }
       }
      }
     },
     "metadata": {},
     "output_type": "display_data"
    }
   ],
   "source": [
    "#Analisando loudness\n",
    "fig = px.line(dados_anos, x ='year', y= 'loudness', title='Variação do Loudness por ano', markers=True)\n",
    "fig.show()"
   ]
  },
  {
   "cell_type": "code",
   "execution_count": 86,
   "metadata": {},
   "outputs": [],
   "source": [
    "import plotly.graph_objects as go"
   ]
  },
  {
   "cell_type": "code",
   "execution_count": 87,
   "metadata": {},
   "outputs": [
    {
     "data": {
      "application/vnd.plotly.v1+json": {
       "config": {
        "plotlyServerURL": "https://plot.ly"
       },
       "data": [
        {
         "name": "Acousticness",
         "type": "scatter",
         "x": [
          2000,
          2001,
          2002,
          2003,
          2004,
          2005,
          2006,
          2007,
          2008,
          2009,
          2010,
          2011,
          2012,
          2013,
          2014,
          2015,
          2016,
          2017,
          2018,
          2019,
          2020
         ],
         "y": [
          0.2893227005163599,
          0.2868424748428934,
          0.282624289885001,
          0.2564705181729783,
          0.2805589466225845,
          0.2557635068666665,
          0.2799863520256408,
          0.2540809575538463,
          0.2491917627212275,
          0.261928619096939,
          0.2426866435515872,
          0.2731826625185919,
          0.2499530443804624,
          0.2574880859564779,
          0.249312645880299,
          0.2539522577102332,
          0.2841710299554814,
          0.2860990665261043,
          0.2676329907750836,
          0.2782985863365824,
          0.2199308880935964
         ]
        },
        {
         "name": "Valence",
         "type": "scatter",
         "x": [
          2000,
          2001,
          2002,
          2003,
          2004,
          2005,
          2006,
          2007,
          2008,
          2009,
          2010,
          2011,
          2012,
          2013,
          2014,
          2015,
          2016,
          2017,
          2018,
          2019,
          2020
         ],
         "y": [
          0.5594754601226991,
          0.541479107231919,
          0.5423971500000008,
          0.5305042476970324,
          0.5244885554425227,
          0.5325309230769236,
          0.5200283076923078,
          0.5167938461538473,
          0.5275418925831203,
          0.5071696617346935,
          0.5208951587301589,
          0.4724536787307882,
          0.4627090128534706,
          0.4547411943319834,
          0.4630487780548628,
          0.4320983687943254,
          0.4315320589872012,
          0.4164763112449793,
          0.4479212743699474,
          0.4588176295536167,
          0.5010478078817729
         ]
        },
        {
         "name": "Danceability",
         "type": "scatter",
         "x": [
          2000,
          2001,
          2002,
          2003,
          2004,
          2005,
          2006,
          2007,
          2008,
          2009,
          2010,
          2011,
          2012,
          2013,
          2014,
          2015,
          2016,
          2017,
          2018,
          2019,
          2020
         ],
         "y": [
          0.590918047034764,
          0.5833178553615969,
          0.5761602999999997,
          0.5757633060388944,
          0.5676803662258397,
          0.5722805641025652,
          0.5682301538461539,
          0.5634143589743592,
          0.5791928388746803,
          0.5641903571428577,
          0.5724883432539687,
          0.5528669806643526,
          0.5708818508997433,
          0.5711480263157896,
          0.5899476807980057,
          0.5937740628166152,
          0.6002023928770179,
          0.6122170180722886,
          0.6635004755111744,
          0.6448141097998967,
          0.6929043349753701
         ]
        },
        {
         "name": "Energy",
         "type": "scatter",
         "x": [
          2000,
          2001,
          2002,
          2003,
          2004,
          2005,
          2006,
          2007,
          2008,
          2009,
          2010,
          2011,
          2012,
          2013,
          2014,
          2015,
          2016,
          2017,
          2018,
          2019,
          2020
         ],
         "y": [
          0.6254128323108387,
          0.6269855221945144,
          0.6412697960000012,
          0.6601652610030712,
          0.6488679450661226,
          0.653208511282051,
          0.6503262820512825,
          0.6683047743589737,
          0.6714608207672623,
          0.6707487551020408,
          0.6817778026289684,
          0.6483008934060499,
          0.6565714601542408,
          0.6455968914473688,
          0.6487954437905223,
          0.6270642715298895,
          0.5928552316082347,
          0.5904210208835337,
          0.6024346220161672,
          0.5932240360184717,
          0.6312316354679793
         ]
        },
        {
         "name": "Instrumentalness",
         "type": "scatter",
         "x": [
          2000,
          2001,
          2002,
          2003,
          2004,
          2005,
          2006,
          2007,
          2008,
          2009,
          2010,
          2011,
          2012,
          2013,
          2014,
          2015,
          2016,
          2017,
          2018,
          2019,
          2020
         ],
         "y": [
          0.1011677687934559,
          0.1072140189925186,
          0.0880483503149999,
          0.0830492746673491,
          0.0779340349084435,
          0.0901943611846154,
          0.0777014718769231,
          0.0729572680512819,
          0.0636620903171356,
          0.0758720736836735,
          0.0829805682192461,
          0.103772332166584,
          0.0852055206786631,
          0.0983650539170038,
          0.0765695548379051,
          0.1067868780547114,
          0.0939843871174179,
          0.0970906090662649,
          0.0542171216690441,
          0.0776402469728064,
          0.0163755243054187
         ]
        },
        {
         "name": "Liveness",
         "type": "scatter",
         "x": [
          2000,
          2001,
          2002,
          2003,
          2004,
          2005,
          2006,
          2007,
          2008,
          2009,
          2010,
          2011,
          2012,
          2013,
          2014,
          2015,
          2016,
          2017,
          2018,
          2019,
          2020
         ],
         "y": [
          0.1976860429447853,
          0.1870256359102248,
          0.1939111999999998,
          0.196976305015353,
          0.2021994404883014,
          0.1900816256410258,
          0.1882892820512821,
          0.1961265641025642,
          0.1984314066496162,
          0.2052522959183674,
          0.1997006448412699,
          0.2033088249876056,
          0.1897330077120824,
          0.1996308198380571,
          0.1918215960099752,
          0.1888564336372847,
          0.181169894268225,
          0.1917126004016064,
          0.1763255349500711,
          0.1726164186762446,
          0.1785354187192117
         ]
        },
        {
         "name": "Speechiness",
         "type": "scatter",
         "x": [
          2000,
          2001,
          2002,
          2003,
          2004,
          2005,
          2006,
          2007,
          2008,
          2009,
          2010,
          2011,
          2012,
          2013,
          2014,
          2015,
          2016,
          2017,
          2018,
          2019,
          2020
         ],
         "y": [
          0.0892054192229039,
          0.0891822942643391,
          0.0843075999999999,
          0.0939257420675538,
          0.0942388097660224,
          0.093333692307692,
          0.0858467692307692,
          0.0843473333333333,
          0.077356368286445,
          0.0854578061224489,
          0.0810314980158731,
          0.087479276152702,
          0.081742467866324,
          0.0938488866396761,
          0.0840605486284289,
          0.0967792299898684,
          0.1043132999443518,
          0.1105364959839356,
          0.1271755587256302,
          0.1210433555669573,
          0.1413836945812805
         ]
        }
       ],
       "layout": {
        "template": {
         "data": {
          "bar": [
           {
            "error_x": {
             "color": "#2a3f5f"
            },
            "error_y": {
             "color": "#2a3f5f"
            },
            "marker": {
             "line": {
              "color": "#E5ECF6",
              "width": 0.5
             },
             "pattern": {
              "fillmode": "overlay",
              "size": 10,
              "solidity": 0.2
             }
            },
            "type": "bar"
           }
          ],
          "barpolar": [
           {
            "marker": {
             "line": {
              "color": "#E5ECF6",
              "width": 0.5
             },
             "pattern": {
              "fillmode": "overlay",
              "size": 10,
              "solidity": 0.2
             }
            },
            "type": "barpolar"
           }
          ],
          "carpet": [
           {
            "aaxis": {
             "endlinecolor": "#2a3f5f",
             "gridcolor": "white",
             "linecolor": "white",
             "minorgridcolor": "white",
             "startlinecolor": "#2a3f5f"
            },
            "baxis": {
             "endlinecolor": "#2a3f5f",
             "gridcolor": "white",
             "linecolor": "white",
             "minorgridcolor": "white",
             "startlinecolor": "#2a3f5f"
            },
            "type": "carpet"
           }
          ],
          "choropleth": [
           {
            "colorbar": {
             "outlinewidth": 0,
             "ticks": ""
            },
            "type": "choropleth"
           }
          ],
          "contour": [
           {
            "colorbar": {
             "outlinewidth": 0,
             "ticks": ""
            },
            "colorscale": [
             [
              0,
              "#0d0887"
             ],
             [
              0.1111111111111111,
              "#46039f"
             ],
             [
              0.2222222222222222,
              "#7201a8"
             ],
             [
              0.3333333333333333,
              "#9c179e"
             ],
             [
              0.4444444444444444,
              "#bd3786"
             ],
             [
              0.5555555555555556,
              "#d8576b"
             ],
             [
              0.6666666666666666,
              "#ed7953"
             ],
             [
              0.7777777777777778,
              "#fb9f3a"
             ],
             [
              0.8888888888888888,
              "#fdca26"
             ],
             [
              1,
              "#f0f921"
             ]
            ],
            "type": "contour"
           }
          ],
          "contourcarpet": [
           {
            "colorbar": {
             "outlinewidth": 0,
             "ticks": ""
            },
            "type": "contourcarpet"
           }
          ],
          "heatmap": [
           {
            "colorbar": {
             "outlinewidth": 0,
             "ticks": ""
            },
            "colorscale": [
             [
              0,
              "#0d0887"
             ],
             [
              0.1111111111111111,
              "#46039f"
             ],
             [
              0.2222222222222222,
              "#7201a8"
             ],
             [
              0.3333333333333333,
              "#9c179e"
             ],
             [
              0.4444444444444444,
              "#bd3786"
             ],
             [
              0.5555555555555556,
              "#d8576b"
             ],
             [
              0.6666666666666666,
              "#ed7953"
             ],
             [
              0.7777777777777778,
              "#fb9f3a"
             ],
             [
              0.8888888888888888,
              "#fdca26"
             ],
             [
              1,
              "#f0f921"
             ]
            ],
            "type": "heatmap"
           }
          ],
          "heatmapgl": [
           {
            "colorbar": {
             "outlinewidth": 0,
             "ticks": ""
            },
            "colorscale": [
             [
              0,
              "#0d0887"
             ],
             [
              0.1111111111111111,
              "#46039f"
             ],
             [
              0.2222222222222222,
              "#7201a8"
             ],
             [
              0.3333333333333333,
              "#9c179e"
             ],
             [
              0.4444444444444444,
              "#bd3786"
             ],
             [
              0.5555555555555556,
              "#d8576b"
             ],
             [
              0.6666666666666666,
              "#ed7953"
             ],
             [
              0.7777777777777778,
              "#fb9f3a"
             ],
             [
              0.8888888888888888,
              "#fdca26"
             ],
             [
              1,
              "#f0f921"
             ]
            ],
            "type": "heatmapgl"
           }
          ],
          "histogram": [
           {
            "marker": {
             "pattern": {
              "fillmode": "overlay",
              "size": 10,
              "solidity": 0.2
             }
            },
            "type": "histogram"
           }
          ],
          "histogram2d": [
           {
            "colorbar": {
             "outlinewidth": 0,
             "ticks": ""
            },
            "colorscale": [
             [
              0,
              "#0d0887"
             ],
             [
              0.1111111111111111,
              "#46039f"
             ],
             [
              0.2222222222222222,
              "#7201a8"
             ],
             [
              0.3333333333333333,
              "#9c179e"
             ],
             [
              0.4444444444444444,
              "#bd3786"
             ],
             [
              0.5555555555555556,
              "#d8576b"
             ],
             [
              0.6666666666666666,
              "#ed7953"
             ],
             [
              0.7777777777777778,
              "#fb9f3a"
             ],
             [
              0.8888888888888888,
              "#fdca26"
             ],
             [
              1,
              "#f0f921"
             ]
            ],
            "type": "histogram2d"
           }
          ],
          "histogram2dcontour": [
           {
            "colorbar": {
             "outlinewidth": 0,
             "ticks": ""
            },
            "colorscale": [
             [
              0,
              "#0d0887"
             ],
             [
              0.1111111111111111,
              "#46039f"
             ],
             [
              0.2222222222222222,
              "#7201a8"
             ],
             [
              0.3333333333333333,
              "#9c179e"
             ],
             [
              0.4444444444444444,
              "#bd3786"
             ],
             [
              0.5555555555555556,
              "#d8576b"
             ],
             [
              0.6666666666666666,
              "#ed7953"
             ],
             [
              0.7777777777777778,
              "#fb9f3a"
             ],
             [
              0.8888888888888888,
              "#fdca26"
             ],
             [
              1,
              "#f0f921"
             ]
            ],
            "type": "histogram2dcontour"
           }
          ],
          "mesh3d": [
           {
            "colorbar": {
             "outlinewidth": 0,
             "ticks": ""
            },
            "type": "mesh3d"
           }
          ],
          "parcoords": [
           {
            "line": {
             "colorbar": {
              "outlinewidth": 0,
              "ticks": ""
             }
            },
            "type": "parcoords"
           }
          ],
          "pie": [
           {
            "automargin": true,
            "type": "pie"
           }
          ],
          "scatter": [
           {
            "marker": {
             "colorbar": {
              "outlinewidth": 0,
              "ticks": ""
             }
            },
            "type": "scatter"
           }
          ],
          "scatter3d": [
           {
            "line": {
             "colorbar": {
              "outlinewidth": 0,
              "ticks": ""
             }
            },
            "marker": {
             "colorbar": {
              "outlinewidth": 0,
              "ticks": ""
             }
            },
            "type": "scatter3d"
           }
          ],
          "scattercarpet": [
           {
            "marker": {
             "colorbar": {
              "outlinewidth": 0,
              "ticks": ""
             }
            },
            "type": "scattercarpet"
           }
          ],
          "scattergeo": [
           {
            "marker": {
             "colorbar": {
              "outlinewidth": 0,
              "ticks": ""
             }
            },
            "type": "scattergeo"
           }
          ],
          "scattergl": [
           {
            "marker": {
             "colorbar": {
              "outlinewidth": 0,
              "ticks": ""
             }
            },
            "type": "scattergl"
           }
          ],
          "scattermapbox": [
           {
            "marker": {
             "colorbar": {
              "outlinewidth": 0,
              "ticks": ""
             }
            },
            "type": "scattermapbox"
           }
          ],
          "scatterpolar": [
           {
            "marker": {
             "colorbar": {
              "outlinewidth": 0,
              "ticks": ""
             }
            },
            "type": "scatterpolar"
           }
          ],
          "scatterpolargl": [
           {
            "marker": {
             "colorbar": {
              "outlinewidth": 0,
              "ticks": ""
             }
            },
            "type": "scatterpolargl"
           }
          ],
          "scatterternary": [
           {
            "marker": {
             "colorbar": {
              "outlinewidth": 0,
              "ticks": ""
             }
            },
            "type": "scatterternary"
           }
          ],
          "surface": [
           {
            "colorbar": {
             "outlinewidth": 0,
             "ticks": ""
            },
            "colorscale": [
             [
              0,
              "#0d0887"
             ],
             [
              0.1111111111111111,
              "#46039f"
             ],
             [
              0.2222222222222222,
              "#7201a8"
             ],
             [
              0.3333333333333333,
              "#9c179e"
             ],
             [
              0.4444444444444444,
              "#bd3786"
             ],
             [
              0.5555555555555556,
              "#d8576b"
             ],
             [
              0.6666666666666666,
              "#ed7953"
             ],
             [
              0.7777777777777778,
              "#fb9f3a"
             ],
             [
              0.8888888888888888,
              "#fdca26"
             ],
             [
              1,
              "#f0f921"
             ]
            ],
            "type": "surface"
           }
          ],
          "table": [
           {
            "cells": {
             "fill": {
              "color": "#EBF0F8"
             },
             "line": {
              "color": "white"
             }
            },
            "header": {
             "fill": {
              "color": "#C8D4E3"
             },
             "line": {
              "color": "white"
             }
            },
            "type": "table"
           }
          ]
         },
         "layout": {
          "annotationdefaults": {
           "arrowcolor": "#2a3f5f",
           "arrowhead": 0,
           "arrowwidth": 1
          },
          "autotypenumbers": "strict",
          "coloraxis": {
           "colorbar": {
            "outlinewidth": 0,
            "ticks": ""
           }
          },
          "colorscale": {
           "diverging": [
            [
             0,
             "#8e0152"
            ],
            [
             0.1,
             "#c51b7d"
            ],
            [
             0.2,
             "#de77ae"
            ],
            [
             0.3,
             "#f1b6da"
            ],
            [
             0.4,
             "#fde0ef"
            ],
            [
             0.5,
             "#f7f7f7"
            ],
            [
             0.6,
             "#e6f5d0"
            ],
            [
             0.7,
             "#b8e186"
            ],
            [
             0.8,
             "#7fbc41"
            ],
            [
             0.9,
             "#4d9221"
            ],
            [
             1,
             "#276419"
            ]
           ],
           "sequential": [
            [
             0,
             "#0d0887"
            ],
            [
             0.1111111111111111,
             "#46039f"
            ],
            [
             0.2222222222222222,
             "#7201a8"
            ],
            [
             0.3333333333333333,
             "#9c179e"
            ],
            [
             0.4444444444444444,
             "#bd3786"
            ],
            [
             0.5555555555555556,
             "#d8576b"
            ],
            [
             0.6666666666666666,
             "#ed7953"
            ],
            [
             0.7777777777777778,
             "#fb9f3a"
            ],
            [
             0.8888888888888888,
             "#fdca26"
            ],
            [
             1,
             "#f0f921"
            ]
           ],
           "sequentialminus": [
            [
             0,
             "#0d0887"
            ],
            [
             0.1111111111111111,
             "#46039f"
            ],
            [
             0.2222222222222222,
             "#7201a8"
            ],
            [
             0.3333333333333333,
             "#9c179e"
            ],
            [
             0.4444444444444444,
             "#bd3786"
            ],
            [
             0.5555555555555556,
             "#d8576b"
            ],
            [
             0.6666666666666666,
             "#ed7953"
            ],
            [
             0.7777777777777778,
             "#fb9f3a"
            ],
            [
             0.8888888888888888,
             "#fdca26"
            ],
            [
             1,
             "#f0f921"
            ]
           ]
          },
          "colorway": [
           "#636efa",
           "#EF553B",
           "#00cc96",
           "#ab63fa",
           "#FFA15A",
           "#19d3f3",
           "#FF6692",
           "#B6E880",
           "#FF97FF",
           "#FECB52"
          ],
          "font": {
           "color": "#2a3f5f"
          },
          "geo": {
           "bgcolor": "white",
           "lakecolor": "white",
           "landcolor": "#E5ECF6",
           "showlakes": true,
           "showland": true,
           "subunitcolor": "white"
          },
          "hoverlabel": {
           "align": "left"
          },
          "hovermode": "closest",
          "mapbox": {
           "style": "light"
          },
          "paper_bgcolor": "white",
          "plot_bgcolor": "#E5ECF6",
          "polar": {
           "angularaxis": {
            "gridcolor": "white",
            "linecolor": "white",
            "ticks": ""
           },
           "bgcolor": "#E5ECF6",
           "radialaxis": {
            "gridcolor": "white",
            "linecolor": "white",
            "ticks": ""
           }
          },
          "scene": {
           "xaxis": {
            "backgroundcolor": "#E5ECF6",
            "gridcolor": "white",
            "gridwidth": 2,
            "linecolor": "white",
            "showbackground": true,
            "ticks": "",
            "zerolinecolor": "white"
           },
           "yaxis": {
            "backgroundcolor": "#E5ECF6",
            "gridcolor": "white",
            "gridwidth": 2,
            "linecolor": "white",
            "showbackground": true,
            "ticks": "",
            "zerolinecolor": "white"
           },
           "zaxis": {
            "backgroundcolor": "#E5ECF6",
            "gridcolor": "white",
            "gridwidth": 2,
            "linecolor": "white",
            "showbackground": true,
            "ticks": "",
            "zerolinecolor": "white"
           }
          },
          "shapedefaults": {
           "line": {
            "color": "#2a3f5f"
           }
          },
          "ternary": {
           "aaxis": {
            "gridcolor": "white",
            "linecolor": "white",
            "ticks": ""
           },
           "baxis": {
            "gridcolor": "white",
            "linecolor": "white",
            "ticks": ""
           },
           "bgcolor": "#E5ECF6",
           "caxis": {
            "gridcolor": "white",
            "linecolor": "white",
            "ticks": ""
           }
          },
          "title": {
           "x": 0.05
          },
          "xaxis": {
           "automargin": true,
           "gridcolor": "white",
           "linecolor": "white",
           "ticks": "",
           "title": {
            "standoff": 15
           },
           "zerolinecolor": "white",
           "zerolinewidth": 2
          },
          "yaxis": {
           "automargin": true,
           "gridcolor": "white",
           "linecolor": "white",
           "ticks": "",
           "title": {
            "standoff": 15
           },
           "zerolinecolor": "white",
           "zerolinewidth": 2
          }
         }
        }
       }
      }
     },
     "metadata": {},
     "output_type": "display_data"
    }
   ],
   "source": [
    "#Criando gráfico\n",
    "fig = go.Figure()\n",
    "\n",
    "#Adicionando os dados\n",
    "fig.add_trace(go.Scatter(x=dados_anos['year'], y=dados_anos['acousticness'], name='Acousticness'))\n",
    "fig.add_trace(go.Scatter(x=dados_anos['year'], y=dados_anos['valence'], name='Valence'))\n",
    "fig.add_trace(go.Scatter(x=dados_anos['year'], y=dados_anos['danceability'], name='Danceability'))\n",
    "fig.add_trace(go.Scatter(x=dados_anos['year'], y=dados_anos['energy'], name='Energy'))\n",
    "fig.add_trace(go.Scatter(x=dados_anos['year'], y=dados_anos['instrumentalness'], name='Instrumentalness'))\n",
    "fig.add_trace(go.Scatter(x=dados_anos['year'], y=dados_anos['liveness'], name='Liveness'))\n",
    "fig.add_trace(go.Scatter(x=dados_anos['year'], y=dados_anos['speechiness'], name='Speechiness'))\n",
    "\n",
    "fig.show()"
   ]
  },
  {
   "cell_type": "code",
   "execution_count": 88,
   "metadata": {},
   "outputs": [
    {
     "data": {
      "application/vnd.plotly.v1+json": {
       "config": {
        "plotlyServerURL": "https://plot.ly"
       },
       "data": [
        {
         "coloraxis": "coloraxis",
         "hovertemplate": "x: %{x}<br>y: %{y}<br>color: %{z}<extra></extra>",
         "name": "0",
         "texttemplate": "%{z}",
         "type": "heatmap",
         "x": [
          "valence",
          "year",
          "acousticness",
          "danceability",
          "duration_ms",
          "energy",
          "instrumentalness",
          "liveness",
          "loudness",
          "popularity",
          "speechiness",
          "tempo"
         ],
         "xaxis": "x",
         "y": [
          "valence",
          "year",
          "acousticness",
          "danceability",
          "duration_ms",
          "energy",
          "instrumentalness",
          "liveness",
          "loudness",
          "popularity",
          "speechiness",
          "tempo"
         ],
         "yaxis": "y",
         "z": [
          [
           1,
           -0.11152818996552269,
           -0.17906507578880113,
           0.4706016928505381,
           -0.19255117869290994,
           0.35029199798428345,
           -0.2557841048653347,
           0.02221366049722543,
           0.3378977669900986,
           -0.02666406634639214,
           0.08252614933102408,
           0.07315334866798318
          ],
          [
           -0.11152818996552269,
           1,
           -0.011224012558530316,
           0.17440028973064198,
           -0.14627395555186518,
           -0.06995658525945365,
           -0.13203456252176587,
           -0.04295002368784964,
           0.052483197651396335,
           0.5520537744643068,
           0.12405143773766447,
           0.02311722172289499
          ],
          [
           -0.17906507578880113,
           -0.011224012558530316,
           1,
           -0.1758942916516538,
           -0.05596681465486787,
           -0.7091107964699702,
           0.29973973152822125,
           -0.09844289738151028,
           -0.6036127005064934,
           -0.03187901141421101,
           -0.12082482277726948,
           -0.15474122793050457
          ],
          [
           0.4706016928505381,
           0.17440028973064198,
           -0.1758942916516538,
           1,
           -0.15971497774585897,
           0.08735820678113757,
           -0.3142998559030547,
           -0.0696597044523255,
           0.2679343205070181,
           0.1809607849711362,
           0.2267015756782655,
           -0.09486499562608043
          ],
          [
           -0.19255117869290994,
           -0.14627395555186518,
           -0.05596681465486787,
           -0.15971497774585897,
           1,
           0.014565108670534132,
           0.07164598789913075,
           0.052743206410793615,
           -0.017003038059048684,
           -0.10932110003241752,
           -0.02851359221465405,
           -0.028602148844984
          ],
          [
           0.35029199798428345,
           -0.06995658525945365,
           -0.7091107964699702,
           0.08735820678113757,
           0.014565108670534132,
           1,
           -0.3164682501295295,
           0.17387777376175623,
           0.7595724242928918,
           -0.028459539491050623,
           0.11401773090551177,
           0.1916455676981815
          ],
          [
           -0.2557841048653347,
           -0.13203456252176587,
           0.29973973152822125,
           -0.3142998559030547,
           0.07164598789913075,
           -0.3164682501295295,
           1,
           -0.06234712806061889,
           -0.5588938236531733,
           -0.12504620012490858,
           -0.1371187140191706,
           -0.09444020881622293
          ],
          [
           0.02221366049722543,
           -0.04295002368784964,
           -0.09844289738151028,
           -0.0696597044523255,
           0.052743206410793615,
           0.17387777376175623,
           -0.06234712806061889,
           1,
           0.09144172661855732,
           -0.06860593075406679,
           0.11955070410710385,
           0.014857567069808593
          ],
          [
           0.3378977669900986,
           0.052483197651396335,
           -0.6036127005064934,
           0.2679343205070181,
           -0.017003038059048684,
           0.7595724242928918,
           -0.5588938236531733,
           0.09144172661855732,
           1,
           0.09292468076617552,
           0.07902873344113712,
           0.18045939002871472
          ],
          [
           -0.02666406634639214,
           0.5520537744643068,
           -0.03187901141421101,
           0.1809607849711362,
           -0.10932110003241752,
           -0.028459539491050623,
           -0.12504620012490858,
           -0.06860593075406679,
           0.09292468076617552,
           1,
           0.057125553208252515,
           -0.00033755419876421543
          ],
          [
           0.08252614933102408,
           0.12405143773766447,
           -0.12082482277726948,
           0.2267015756782655,
           -0.02851359221465405,
           0.11401773090551177,
           -0.1371187140191706,
           0.11955070410710385,
           0.07902873344113712,
           0.057125553208252515,
           1,
           0.04062153175888837
          ],
          [
           0.07315334866798318,
           0.02311722172289499,
           -0.15474122793050457,
           -0.09486499562608043,
           -0.028602148844984,
           0.1916455676981815,
           -0.09444020881622293,
           0.014857567069808593,
           0.18045939002871472,
           -0.00033755419876421543,
           0.04062153175888837,
           1
          ]
         ]
        }
       ],
       "layout": {
        "coloraxis": {
         "colorscale": [
          [
           0,
           "#0d0887"
          ],
          [
           0.1111111111111111,
           "#46039f"
          ],
          [
           0.2222222222222222,
           "#7201a8"
          ],
          [
           0.3333333333333333,
           "#9c179e"
          ],
          [
           0.4444444444444444,
           "#bd3786"
          ],
          [
           0.5555555555555556,
           "#d8576b"
          ],
          [
           0.6666666666666666,
           "#ed7953"
          ],
          [
           0.7777777777777778,
           "#fb9f3a"
          ],
          [
           0.8888888888888888,
           "#fdca26"
          ],
          [
           1,
           "#f0f921"
          ]
         ]
        },
        "margin": {
         "t": 60
        },
        "template": {
         "data": {
          "bar": [
           {
            "error_x": {
             "color": "#2a3f5f"
            },
            "error_y": {
             "color": "#2a3f5f"
            },
            "marker": {
             "line": {
              "color": "#E5ECF6",
              "width": 0.5
             },
             "pattern": {
              "fillmode": "overlay",
              "size": 10,
              "solidity": 0.2
             }
            },
            "type": "bar"
           }
          ],
          "barpolar": [
           {
            "marker": {
             "line": {
              "color": "#E5ECF6",
              "width": 0.5
             },
             "pattern": {
              "fillmode": "overlay",
              "size": 10,
              "solidity": 0.2
             }
            },
            "type": "barpolar"
           }
          ],
          "carpet": [
           {
            "aaxis": {
             "endlinecolor": "#2a3f5f",
             "gridcolor": "white",
             "linecolor": "white",
             "minorgridcolor": "white",
             "startlinecolor": "#2a3f5f"
            },
            "baxis": {
             "endlinecolor": "#2a3f5f",
             "gridcolor": "white",
             "linecolor": "white",
             "minorgridcolor": "white",
             "startlinecolor": "#2a3f5f"
            },
            "type": "carpet"
           }
          ],
          "choropleth": [
           {
            "colorbar": {
             "outlinewidth": 0,
             "ticks": ""
            },
            "type": "choropleth"
           }
          ],
          "contour": [
           {
            "colorbar": {
             "outlinewidth": 0,
             "ticks": ""
            },
            "colorscale": [
             [
              0,
              "#0d0887"
             ],
             [
              0.1111111111111111,
              "#46039f"
             ],
             [
              0.2222222222222222,
              "#7201a8"
             ],
             [
              0.3333333333333333,
              "#9c179e"
             ],
             [
              0.4444444444444444,
              "#bd3786"
             ],
             [
              0.5555555555555556,
              "#d8576b"
             ],
             [
              0.6666666666666666,
              "#ed7953"
             ],
             [
              0.7777777777777778,
              "#fb9f3a"
             ],
             [
              0.8888888888888888,
              "#fdca26"
             ],
             [
              1,
              "#f0f921"
             ]
            ],
            "type": "contour"
           }
          ],
          "contourcarpet": [
           {
            "colorbar": {
             "outlinewidth": 0,
             "ticks": ""
            },
            "type": "contourcarpet"
           }
          ],
          "heatmap": [
           {
            "colorbar": {
             "outlinewidth": 0,
             "ticks": ""
            },
            "colorscale": [
             [
              0,
              "#0d0887"
             ],
             [
              0.1111111111111111,
              "#46039f"
             ],
             [
              0.2222222222222222,
              "#7201a8"
             ],
             [
              0.3333333333333333,
              "#9c179e"
             ],
             [
              0.4444444444444444,
              "#bd3786"
             ],
             [
              0.5555555555555556,
              "#d8576b"
             ],
             [
              0.6666666666666666,
              "#ed7953"
             ],
             [
              0.7777777777777778,
              "#fb9f3a"
             ],
             [
              0.8888888888888888,
              "#fdca26"
             ],
             [
              1,
              "#f0f921"
             ]
            ],
            "type": "heatmap"
           }
          ],
          "heatmapgl": [
           {
            "colorbar": {
             "outlinewidth": 0,
             "ticks": ""
            },
            "colorscale": [
             [
              0,
              "#0d0887"
             ],
             [
              0.1111111111111111,
              "#46039f"
             ],
             [
              0.2222222222222222,
              "#7201a8"
             ],
             [
              0.3333333333333333,
              "#9c179e"
             ],
             [
              0.4444444444444444,
              "#bd3786"
             ],
             [
              0.5555555555555556,
              "#d8576b"
             ],
             [
              0.6666666666666666,
              "#ed7953"
             ],
             [
              0.7777777777777778,
              "#fb9f3a"
             ],
             [
              0.8888888888888888,
              "#fdca26"
             ],
             [
              1,
              "#f0f921"
             ]
            ],
            "type": "heatmapgl"
           }
          ],
          "histogram": [
           {
            "marker": {
             "pattern": {
              "fillmode": "overlay",
              "size": 10,
              "solidity": 0.2
             }
            },
            "type": "histogram"
           }
          ],
          "histogram2d": [
           {
            "colorbar": {
             "outlinewidth": 0,
             "ticks": ""
            },
            "colorscale": [
             [
              0,
              "#0d0887"
             ],
             [
              0.1111111111111111,
              "#46039f"
             ],
             [
              0.2222222222222222,
              "#7201a8"
             ],
             [
              0.3333333333333333,
              "#9c179e"
             ],
             [
              0.4444444444444444,
              "#bd3786"
             ],
             [
              0.5555555555555556,
              "#d8576b"
             ],
             [
              0.6666666666666666,
              "#ed7953"
             ],
             [
              0.7777777777777778,
              "#fb9f3a"
             ],
             [
              0.8888888888888888,
              "#fdca26"
             ],
             [
              1,
              "#f0f921"
             ]
            ],
            "type": "histogram2d"
           }
          ],
          "histogram2dcontour": [
           {
            "colorbar": {
             "outlinewidth": 0,
             "ticks": ""
            },
            "colorscale": [
             [
              0,
              "#0d0887"
             ],
             [
              0.1111111111111111,
              "#46039f"
             ],
             [
              0.2222222222222222,
              "#7201a8"
             ],
             [
              0.3333333333333333,
              "#9c179e"
             ],
             [
              0.4444444444444444,
              "#bd3786"
             ],
             [
              0.5555555555555556,
              "#d8576b"
             ],
             [
              0.6666666666666666,
              "#ed7953"
             ],
             [
              0.7777777777777778,
              "#fb9f3a"
             ],
             [
              0.8888888888888888,
              "#fdca26"
             ],
             [
              1,
              "#f0f921"
             ]
            ],
            "type": "histogram2dcontour"
           }
          ],
          "mesh3d": [
           {
            "colorbar": {
             "outlinewidth": 0,
             "ticks": ""
            },
            "type": "mesh3d"
           }
          ],
          "parcoords": [
           {
            "line": {
             "colorbar": {
              "outlinewidth": 0,
              "ticks": ""
             }
            },
            "type": "parcoords"
           }
          ],
          "pie": [
           {
            "automargin": true,
            "type": "pie"
           }
          ],
          "scatter": [
           {
            "marker": {
             "colorbar": {
              "outlinewidth": 0,
              "ticks": ""
             }
            },
            "type": "scatter"
           }
          ],
          "scatter3d": [
           {
            "line": {
             "colorbar": {
              "outlinewidth": 0,
              "ticks": ""
             }
            },
            "marker": {
             "colorbar": {
              "outlinewidth": 0,
              "ticks": ""
             }
            },
            "type": "scatter3d"
           }
          ],
          "scattercarpet": [
           {
            "marker": {
             "colorbar": {
              "outlinewidth": 0,
              "ticks": ""
             }
            },
            "type": "scattercarpet"
           }
          ],
          "scattergeo": [
           {
            "marker": {
             "colorbar": {
              "outlinewidth": 0,
              "ticks": ""
             }
            },
            "type": "scattergeo"
           }
          ],
          "scattergl": [
           {
            "marker": {
             "colorbar": {
              "outlinewidth": 0,
              "ticks": ""
             }
            },
            "type": "scattergl"
           }
          ],
          "scattermapbox": [
           {
            "marker": {
             "colorbar": {
              "outlinewidth": 0,
              "ticks": ""
             }
            },
            "type": "scattermapbox"
           }
          ],
          "scatterpolar": [
           {
            "marker": {
             "colorbar": {
              "outlinewidth": 0,
              "ticks": ""
             }
            },
            "type": "scatterpolar"
           }
          ],
          "scatterpolargl": [
           {
            "marker": {
             "colorbar": {
              "outlinewidth": 0,
              "ticks": ""
             }
            },
            "type": "scatterpolargl"
           }
          ],
          "scatterternary": [
           {
            "marker": {
             "colorbar": {
              "outlinewidth": 0,
              "ticks": ""
             }
            },
            "type": "scatterternary"
           }
          ],
          "surface": [
           {
            "colorbar": {
             "outlinewidth": 0,
             "ticks": ""
            },
            "colorscale": [
             [
              0,
              "#0d0887"
             ],
             [
              0.1111111111111111,
              "#46039f"
             ],
             [
              0.2222222222222222,
              "#7201a8"
             ],
             [
              0.3333333333333333,
              "#9c179e"
             ],
             [
              0.4444444444444444,
              "#bd3786"
             ],
             [
              0.5555555555555556,
              "#d8576b"
             ],
             [
              0.6666666666666666,
              "#ed7953"
             ],
             [
              0.7777777777777778,
              "#fb9f3a"
             ],
             [
              0.8888888888888888,
              "#fdca26"
             ],
             [
              1,
              "#f0f921"
             ]
            ],
            "type": "surface"
           }
          ],
          "table": [
           {
            "cells": {
             "fill": {
              "color": "#EBF0F8"
             },
             "line": {
              "color": "white"
             }
            },
            "header": {
             "fill": {
              "color": "#C8D4E3"
             },
             "line": {
              "color": "white"
             }
            },
            "type": "table"
           }
          ]
         },
         "layout": {
          "annotationdefaults": {
           "arrowcolor": "#2a3f5f",
           "arrowhead": 0,
           "arrowwidth": 1
          },
          "autotypenumbers": "strict",
          "coloraxis": {
           "colorbar": {
            "outlinewidth": 0,
            "ticks": ""
           }
          },
          "colorscale": {
           "diverging": [
            [
             0,
             "#8e0152"
            ],
            [
             0.1,
             "#c51b7d"
            ],
            [
             0.2,
             "#de77ae"
            ],
            [
             0.3,
             "#f1b6da"
            ],
            [
             0.4,
             "#fde0ef"
            ],
            [
             0.5,
             "#f7f7f7"
            ],
            [
             0.6,
             "#e6f5d0"
            ],
            [
             0.7,
             "#b8e186"
            ],
            [
             0.8,
             "#7fbc41"
            ],
            [
             0.9,
             "#4d9221"
            ],
            [
             1,
             "#276419"
            ]
           ],
           "sequential": [
            [
             0,
             "#0d0887"
            ],
            [
             0.1111111111111111,
             "#46039f"
            ],
            [
             0.2222222222222222,
             "#7201a8"
            ],
            [
             0.3333333333333333,
             "#9c179e"
            ],
            [
             0.4444444444444444,
             "#bd3786"
            ],
            [
             0.5555555555555556,
             "#d8576b"
            ],
            [
             0.6666666666666666,
             "#ed7953"
            ],
            [
             0.7777777777777778,
             "#fb9f3a"
            ],
            [
             0.8888888888888888,
             "#fdca26"
            ],
            [
             1,
             "#f0f921"
            ]
           ],
           "sequentialminus": [
            [
             0,
             "#0d0887"
            ],
            [
             0.1111111111111111,
             "#46039f"
            ],
            [
             0.2222222222222222,
             "#7201a8"
            ],
            [
             0.3333333333333333,
             "#9c179e"
            ],
            [
             0.4444444444444444,
             "#bd3786"
            ],
            [
             0.5555555555555556,
             "#d8576b"
            ],
            [
             0.6666666666666666,
             "#ed7953"
            ],
            [
             0.7777777777777778,
             "#fb9f3a"
            ],
            [
             0.8888888888888888,
             "#fdca26"
            ],
            [
             1,
             "#f0f921"
            ]
           ]
          },
          "colorway": [
           "#636efa",
           "#EF553B",
           "#00cc96",
           "#ab63fa",
           "#FFA15A",
           "#19d3f3",
           "#FF6692",
           "#B6E880",
           "#FF97FF",
           "#FECB52"
          ],
          "font": {
           "color": "#2a3f5f"
          },
          "geo": {
           "bgcolor": "white",
           "lakecolor": "white",
           "landcolor": "#E5ECF6",
           "showlakes": true,
           "showland": true,
           "subunitcolor": "white"
          },
          "hoverlabel": {
           "align": "left"
          },
          "hovermode": "closest",
          "mapbox": {
           "style": "light"
          },
          "paper_bgcolor": "white",
          "plot_bgcolor": "#E5ECF6",
          "polar": {
           "angularaxis": {
            "gridcolor": "white",
            "linecolor": "white",
            "ticks": ""
           },
           "bgcolor": "#E5ECF6",
           "radialaxis": {
            "gridcolor": "white",
            "linecolor": "white",
            "ticks": ""
           }
          },
          "scene": {
           "xaxis": {
            "backgroundcolor": "#E5ECF6",
            "gridcolor": "white",
            "gridwidth": 2,
            "linecolor": "white",
            "showbackground": true,
            "ticks": "",
            "zerolinecolor": "white"
           },
           "yaxis": {
            "backgroundcolor": "#E5ECF6",
            "gridcolor": "white",
            "gridwidth": 2,
            "linecolor": "white",
            "showbackground": true,
            "ticks": "",
            "zerolinecolor": "white"
           },
           "zaxis": {
            "backgroundcolor": "#E5ECF6",
            "gridcolor": "white",
            "gridwidth": 2,
            "linecolor": "white",
            "showbackground": true,
            "ticks": "",
            "zerolinecolor": "white"
           }
          },
          "shapedefaults": {
           "line": {
            "color": "#2a3f5f"
           }
          },
          "ternary": {
           "aaxis": {
            "gridcolor": "white",
            "linecolor": "white",
            "ticks": ""
           },
           "baxis": {
            "gridcolor": "white",
            "linecolor": "white",
            "ticks": ""
           },
           "bgcolor": "#E5ECF6",
           "caxis": {
            "gridcolor": "white",
            "linecolor": "white",
            "ticks": ""
           }
          },
          "title": {
           "x": 0.05
          },
          "xaxis": {
           "automargin": true,
           "gridcolor": "white",
           "linecolor": "white",
           "ticks": "",
           "title": {
            "standoff": 15
           },
           "zerolinecolor": "white",
           "zerolinewidth": 2
          },
          "yaxis": {
           "automargin": true,
           "gridcolor": "white",
           "linecolor": "white",
           "ticks": "",
           "title": {
            "standoff": 15
           },
           "zerolinecolor": "white",
           "zerolinewidth": 2
          }
         }
        },
        "xaxis": {
         "anchor": "y",
         "constrain": "domain",
         "domain": [
          0,
          1
         ],
         "scaleanchor": "y"
        },
        "yaxis": {
         "anchor": "x",
         "autorange": "reversed",
         "constrain": "domain",
         "domain": [
          0,
          1
         ]
        }
       }
      }
     },
     "metadata": {},
     "output_type": "display_data"
    }
   ],
   "source": [
    "#Matriz de correlação\n",
    "fig = px.imshow(dados.corr(), text_auto=True)\n",
    "fig.show()"
   ]
  },
  {
   "attachments": {},
   "cell_type": "markdown",
   "metadata": {},
   "source": [
    "## 3. Pré-processamento"
   ]
  },
  {
   "cell_type": "code",
   "execution_count": 89,
   "metadata": {},
   "outputs": [
    {
     "data": {
      "text/html": [
       "<div>\n",
       "<style scoped>\n",
       "    .dataframe tbody tr th:only-of-type {\n",
       "        vertical-align: middle;\n",
       "    }\n",
       "\n",
       "    .dataframe tbody tr th {\n",
       "        vertical-align: top;\n",
       "    }\n",
       "\n",
       "    .dataframe thead th {\n",
       "        text-align: right;\n",
       "    }\n",
       "</style>\n",
       "<table border=\"1\" class=\"dataframe\">\n",
       "  <thead>\n",
       "    <tr style=\"text-align: right;\">\n",
       "      <th></th>\n",
       "      <th>genres</th>\n",
       "      <th>acousticness</th>\n",
       "      <th>danceability</th>\n",
       "      <th>duration_ms</th>\n",
       "      <th>energy</th>\n",
       "      <th>instrumentalness</th>\n",
       "      <th>liveness</th>\n",
       "      <th>loudness</th>\n",
       "      <th>speechiness</th>\n",
       "      <th>tempo</th>\n",
       "      <th>valence</th>\n",
       "      <th>popularity</th>\n",
       "    </tr>\n",
       "  </thead>\n",
       "  <tbody>\n",
       "    <tr>\n",
       "      <th>0</th>\n",
       "      <td>21st century classical</td>\n",
       "      <td>0.979333</td>\n",
       "      <td>0.162883</td>\n",
       "      <td>1.602977e+05</td>\n",
       "      <td>0.071317</td>\n",
       "      <td>0.606834</td>\n",
       "      <td>0.361600</td>\n",
       "      <td>-31.514333</td>\n",
       "      <td>0.040567</td>\n",
       "      <td>75.336500</td>\n",
       "      <td>0.103783</td>\n",
       "      <td>27.833333</td>\n",
       "    </tr>\n",
       "    <tr>\n",
       "      <th>1</th>\n",
       "      <td>432hz</td>\n",
       "      <td>0.494780</td>\n",
       "      <td>0.299333</td>\n",
       "      <td>1.048887e+06</td>\n",
       "      <td>0.450678</td>\n",
       "      <td>0.477762</td>\n",
       "      <td>0.131000</td>\n",
       "      <td>-16.854000</td>\n",
       "      <td>0.076817</td>\n",
       "      <td>120.285667</td>\n",
       "      <td>0.221750</td>\n",
       "      <td>52.500000</td>\n",
       "    </tr>\n",
       "    <tr>\n",
       "      <th>2</th>\n",
       "      <td>8-bit</td>\n",
       "      <td>0.762000</td>\n",
       "      <td>0.712000</td>\n",
       "      <td>1.151770e+05</td>\n",
       "      <td>0.818000</td>\n",
       "      <td>0.876000</td>\n",
       "      <td>0.126000</td>\n",
       "      <td>-9.180000</td>\n",
       "      <td>0.047000</td>\n",
       "      <td>133.444000</td>\n",
       "      <td>0.975000</td>\n",
       "      <td>48.000000</td>\n",
       "    </tr>\n",
       "    <tr>\n",
       "      <th>3</th>\n",
       "      <td>[]</td>\n",
       "      <td>0.651417</td>\n",
       "      <td>0.529093</td>\n",
       "      <td>2.328809e+05</td>\n",
       "      <td>0.419146</td>\n",
       "      <td>0.205309</td>\n",
       "      <td>0.218696</td>\n",
       "      <td>-12.288965</td>\n",
       "      <td>0.107872</td>\n",
       "      <td>112.857352</td>\n",
       "      <td>0.513604</td>\n",
       "      <td>20.859882</td>\n",
       "    </tr>\n",
       "    <tr>\n",
       "      <th>4</th>\n",
       "      <td>a cappella</td>\n",
       "      <td>0.676557</td>\n",
       "      <td>0.538961</td>\n",
       "      <td>1.906285e+05</td>\n",
       "      <td>0.316434</td>\n",
       "      <td>0.003003</td>\n",
       "      <td>0.172254</td>\n",
       "      <td>-12.479387</td>\n",
       "      <td>0.082851</td>\n",
       "      <td>112.110362</td>\n",
       "      <td>0.448249</td>\n",
       "      <td>45.820071</td>\n",
       "    </tr>\n",
       "  </tbody>\n",
       "</table>\n",
       "</div>"
      ],
      "text/plain": [
       "                   genres  acousticness  danceability   duration_ms    energy  \\\n",
       "0  21st century classical      0.979333      0.162883  1.602977e+05  0.071317   \n",
       "1                   432hz      0.494780      0.299333  1.048887e+06  0.450678   \n",
       "2                   8-bit      0.762000      0.712000  1.151770e+05  0.818000   \n",
       "3                      []      0.651417      0.529093  2.328809e+05  0.419146   \n",
       "4              a cappella      0.676557      0.538961  1.906285e+05  0.316434   \n",
       "\n",
       "   instrumentalness  liveness   loudness  speechiness       tempo   valence  \\\n",
       "0          0.606834  0.361600 -31.514333     0.040567   75.336500  0.103783   \n",
       "1          0.477762  0.131000 -16.854000     0.076817  120.285667  0.221750   \n",
       "2          0.876000  0.126000  -9.180000     0.047000  133.444000  0.975000   \n",
       "3          0.205309  0.218696 -12.288965     0.107872  112.857352  0.513604   \n",
       "4          0.003003  0.172254 -12.479387     0.082851  112.110362  0.448249   \n",
       "\n",
       "   popularity  \n",
       "0   27.833333  \n",
       "1   52.500000  \n",
       "2   48.000000  \n",
       "3   20.859882  \n",
       "4   45.820071  "
      ]
     },
     "execution_count": 89,
     "metadata": {},
     "output_type": "execute_result"
    }
   ],
   "source": [
    "dados_generos.head()"
   ]
  },
  {
   "cell_type": "code",
   "execution_count": 90,
   "metadata": {},
   "outputs": [
    {
     "name": "stdout",
     "output_type": "stream",
     "text": [
      "<class 'pandas.core.frame.DataFrame'>\n",
      "RangeIndex: 2973 entries, 0 to 2972\n",
      "Data columns (total 12 columns):\n",
      " #   Column            Non-Null Count  Dtype  \n",
      "---  ------            --------------  -----  \n",
      " 0   genres            2973 non-null   object \n",
      " 1   acousticness      2973 non-null   float64\n",
      " 2   danceability      2973 non-null   float64\n",
      " 3   duration_ms       2973 non-null   float64\n",
      " 4   energy            2973 non-null   float64\n",
      " 5   instrumentalness  2973 non-null   float64\n",
      " 6   liveness          2973 non-null   float64\n",
      " 7   loudness          2973 non-null   float64\n",
      " 8   speechiness       2973 non-null   float64\n",
      " 9   tempo             2973 non-null   float64\n",
      " 10  valence           2973 non-null   float64\n",
      " 11  popularity        2973 non-null   float64\n",
      "dtypes: float64(11), object(1)\n",
      "memory usage: 278.8+ KB\n"
     ]
    }
   ],
   "source": [
    "dados_generos.info()"
   ]
  },
  {
   "attachments": {},
   "cell_type": "markdown",
   "metadata": {},
   "source": [
    "Como dados genêros é um objeto e há somente valores não numéricos, essa coluna sera deletada."
   ]
  },
  {
   "cell_type": "code",
   "execution_count": 91,
   "metadata": {},
   "outputs": [],
   "source": [
    "#Dropando a coluna\n",
    "dados_generos1 = dados_generos.drop('genres', axis=1)"
   ]
  },
  {
   "cell_type": "code",
   "execution_count": 92,
   "metadata": {},
   "outputs": [
    {
     "data": {
      "text/html": [
       "<div>\n",
       "<style scoped>\n",
       "    .dataframe tbody tr th:only-of-type {\n",
       "        vertical-align: middle;\n",
       "    }\n",
       "\n",
       "    .dataframe tbody tr th {\n",
       "        vertical-align: top;\n",
       "    }\n",
       "\n",
       "    .dataframe thead th {\n",
       "        text-align: right;\n",
       "    }\n",
       "</style>\n",
       "<table border=\"1\" class=\"dataframe\">\n",
       "  <thead>\n",
       "    <tr style=\"text-align: right;\">\n",
       "      <th></th>\n",
       "      <th>acousticness</th>\n",
       "      <th>danceability</th>\n",
       "      <th>duration_ms</th>\n",
       "      <th>energy</th>\n",
       "      <th>instrumentalness</th>\n",
       "      <th>liveness</th>\n",
       "      <th>loudness</th>\n",
       "      <th>speechiness</th>\n",
       "      <th>tempo</th>\n",
       "      <th>valence</th>\n",
       "      <th>popularity</th>\n",
       "    </tr>\n",
       "  </thead>\n",
       "  <tbody>\n",
       "    <tr>\n",
       "      <th>0</th>\n",
       "      <td>0.979333</td>\n",
       "      <td>0.162883</td>\n",
       "      <td>1.602977e+05</td>\n",
       "      <td>0.071317</td>\n",
       "      <td>0.606834</td>\n",
       "      <td>0.361600</td>\n",
       "      <td>-31.514333</td>\n",
       "      <td>0.040567</td>\n",
       "      <td>75.336500</td>\n",
       "      <td>0.103783</td>\n",
       "      <td>27.833333</td>\n",
       "    </tr>\n",
       "    <tr>\n",
       "      <th>1</th>\n",
       "      <td>0.494780</td>\n",
       "      <td>0.299333</td>\n",
       "      <td>1.048887e+06</td>\n",
       "      <td>0.450678</td>\n",
       "      <td>0.477762</td>\n",
       "      <td>0.131000</td>\n",
       "      <td>-16.854000</td>\n",
       "      <td>0.076817</td>\n",
       "      <td>120.285667</td>\n",
       "      <td>0.221750</td>\n",
       "      <td>52.500000</td>\n",
       "    </tr>\n",
       "    <tr>\n",
       "      <th>2</th>\n",
       "      <td>0.762000</td>\n",
       "      <td>0.712000</td>\n",
       "      <td>1.151770e+05</td>\n",
       "      <td>0.818000</td>\n",
       "      <td>0.876000</td>\n",
       "      <td>0.126000</td>\n",
       "      <td>-9.180000</td>\n",
       "      <td>0.047000</td>\n",
       "      <td>133.444000</td>\n",
       "      <td>0.975000</td>\n",
       "      <td>48.000000</td>\n",
       "    </tr>\n",
       "    <tr>\n",
       "      <th>3</th>\n",
       "      <td>0.651417</td>\n",
       "      <td>0.529093</td>\n",
       "      <td>2.328809e+05</td>\n",
       "      <td>0.419146</td>\n",
       "      <td>0.205309</td>\n",
       "      <td>0.218696</td>\n",
       "      <td>-12.288965</td>\n",
       "      <td>0.107872</td>\n",
       "      <td>112.857352</td>\n",
       "      <td>0.513604</td>\n",
       "      <td>20.859882</td>\n",
       "    </tr>\n",
       "    <tr>\n",
       "      <th>4</th>\n",
       "      <td>0.676557</td>\n",
       "      <td>0.538961</td>\n",
       "      <td>1.906285e+05</td>\n",
       "      <td>0.316434</td>\n",
       "      <td>0.003003</td>\n",
       "      <td>0.172254</td>\n",
       "      <td>-12.479387</td>\n",
       "      <td>0.082851</td>\n",
       "      <td>112.110362</td>\n",
       "      <td>0.448249</td>\n",
       "      <td>45.820071</td>\n",
       "    </tr>\n",
       "  </tbody>\n",
       "</table>\n",
       "</div>"
      ],
      "text/plain": [
       "   acousticness  danceability   duration_ms    energy  instrumentalness  \\\n",
       "0      0.979333      0.162883  1.602977e+05  0.071317          0.606834   \n",
       "1      0.494780      0.299333  1.048887e+06  0.450678          0.477762   \n",
       "2      0.762000      0.712000  1.151770e+05  0.818000          0.876000   \n",
       "3      0.651417      0.529093  2.328809e+05  0.419146          0.205309   \n",
       "4      0.676557      0.538961  1.906285e+05  0.316434          0.003003   \n",
       "\n",
       "   liveness   loudness  speechiness       tempo   valence  popularity  \n",
       "0  0.361600 -31.514333     0.040567   75.336500  0.103783   27.833333  \n",
       "1  0.131000 -16.854000     0.076817  120.285667  0.221750   52.500000  \n",
       "2  0.126000  -9.180000     0.047000  133.444000  0.975000   48.000000  \n",
       "3  0.218696 -12.288965     0.107872  112.857352  0.513604   20.859882  \n",
       "4  0.172254 -12.479387     0.082851  112.110362  0.448249   45.820071  "
      ]
     },
     "execution_count": 92,
     "metadata": {},
     "output_type": "execute_result"
    }
   ],
   "source": [
    "dados_generos1.head()\n"
   ]
  },
  {
   "attachments": {},
   "cell_type": "markdown",
   "metadata": {},
   "source": [
    "### 3.1 Criando Pipeline"
   ]
  },
  {
   "attachments": {},
   "cell_type": "markdown",
   "metadata": {},
   "source": [
    "Pipeline para pré-processamento dos dados"
   ]
  },
  {
   "cell_type": "code",
   "execution_count": 93,
   "metadata": {},
   "outputs": [],
   "source": [
    "from sklearn.pipeline import Pipeline\n",
    "from sklearn.preprocessing import StandardScaler\n",
    "from sklearn.decomposition import PCA"
   ]
  },
  {
   "cell_type": "code",
   "execution_count": 94,
   "metadata": {},
   "outputs": [],
   "source": [
    "#Criando pipeline\n",
    "SEED = 1224\n",
    "np.random.seed(SEED)\n",
    "\n",
    "SEED = 1224\n",
    "np.random.seed(1224)\n",
    "\n",
    "pca_pipeline = Pipeline([('scaler', StandardScaler()), ('PCA', PCA(n_components=2, random_state=SEED))])"
   ]
  },
  {
   "cell_type": "code",
   "execution_count": 95,
   "metadata": {},
   "outputs": [],
   "source": [
    "#Treinando pca\n",
    "genre_embedding_pca = pca_pipeline.fit_transform(dados_generos1)\n",
    "\n",
    "#Criando dataframe e salvando as posições\n",
    "projection = pd.DataFrame(columns=['x', 'y'], data=genre_embedding_pca)"
   ]
  },
  {
   "cell_type": "code",
   "execution_count": 96,
   "metadata": {},
   "outputs": [
    {
     "data": {
      "text/html": [
       "<div>\n",
       "<style scoped>\n",
       "    .dataframe tbody tr th:only-of-type {\n",
       "        vertical-align: middle;\n",
       "    }\n",
       "\n",
       "    .dataframe tbody tr th {\n",
       "        vertical-align: top;\n",
       "    }\n",
       "\n",
       "    .dataframe thead th {\n",
       "        text-align: right;\n",
       "    }\n",
       "</style>\n",
       "<table border=\"1\" class=\"dataframe\">\n",
       "  <thead>\n",
       "    <tr style=\"text-align: right;\">\n",
       "      <th></th>\n",
       "      <th>x</th>\n",
       "      <th>y</th>\n",
       "    </tr>\n",
       "  </thead>\n",
       "  <tbody>\n",
       "    <tr>\n",
       "      <th>0</th>\n",
       "      <td>5.910268</td>\n",
       "      <td>-0.011146</td>\n",
       "    </tr>\n",
       "    <tr>\n",
       "      <th>1</th>\n",
       "      <td>2.787093</td>\n",
       "      <td>4.498483</td>\n",
       "    </tr>\n",
       "    <tr>\n",
       "      <th>2</th>\n",
       "      <td>-0.757538</td>\n",
       "      <td>-1.258495</td>\n",
       "    </tr>\n",
       "    <tr>\n",
       "      <th>3</th>\n",
       "      <td>1.020521</td>\n",
       "      <td>-0.931690</td>\n",
       "    </tr>\n",
       "    <tr>\n",
       "      <th>4</th>\n",
       "      <td>0.753911</td>\n",
       "      <td>-0.999861</td>\n",
       "    </tr>\n",
       "    <tr>\n",
       "      <th>...</th>\n",
       "      <td>...</td>\n",
       "      <td>...</td>\n",
       "    </tr>\n",
       "    <tr>\n",
       "      <th>2968</th>\n",
       "      <td>-0.475136</td>\n",
       "      <td>-0.017126</td>\n",
       "    </tr>\n",
       "    <tr>\n",
       "      <th>2969</th>\n",
       "      <td>-3.026756</td>\n",
       "      <td>-1.304983</td>\n",
       "    </tr>\n",
       "    <tr>\n",
       "      <th>2970</th>\n",
       "      <td>-0.832511</td>\n",
       "      <td>-1.089726</td>\n",
       "    </tr>\n",
       "    <tr>\n",
       "      <th>2971</th>\n",
       "      <td>1.774790</td>\n",
       "      <td>-3.695233</td>\n",
       "    </tr>\n",
       "    <tr>\n",
       "      <th>2972</th>\n",
       "      <td>-1.028069</td>\n",
       "      <td>-1.390709</td>\n",
       "    </tr>\n",
       "  </tbody>\n",
       "</table>\n",
       "<p>2973 rows × 2 columns</p>\n",
       "</div>"
      ],
      "text/plain": [
       "             x         y\n",
       "0     5.910268 -0.011146\n",
       "1     2.787093  4.498483\n",
       "2    -0.757538 -1.258495\n",
       "3     1.020521 -0.931690\n",
       "4     0.753911 -0.999861\n",
       "...        ...       ...\n",
       "2968 -0.475136 -0.017126\n",
       "2969 -3.026756 -1.304983\n",
       "2970 -0.832511 -1.089726\n",
       "2971  1.774790 -3.695233\n",
       "2972 -1.028069 -1.390709\n",
       "\n",
       "[2973 rows x 2 columns]"
      ]
     },
     "execution_count": 96,
     "metadata": {},
     "output_type": "execute_result"
    }
   ],
   "source": [
    "projection"
   ]
  },
  {
   "attachments": {},
   "cell_type": "markdown",
   "metadata": {},
   "source": [
    "## 4. Criando modelo"
   ]
  },
  {
   "cell_type": "code",
   "execution_count": 97,
   "metadata": {},
   "outputs": [],
   "source": [
    "from sklearn.cluster import KMeans"
   ]
  },
  {
   "cell_type": "code",
   "execution_count": 98,
   "metadata": {},
   "outputs": [
    {
     "name": "stderr",
     "output_type": "stream",
     "text": [
      "Exception ignored on calling ctypes callback function: <function _ThreadpoolInfo._find_modules_with_dl_iterate_phdr.<locals>.match_module_callback at 0x7f01b4eb0670>\n",
      "Traceback (most recent call last):\n",
      "  File \"/home/marcus/anaconda3/lib/python3.9/site-packages/threadpoolctl.py\", line 400, in match_module_callback\n",
      "    self._make_module_from_path(filepath)\n",
      "  File \"/home/marcus/anaconda3/lib/python3.9/site-packages/threadpoolctl.py\", line 515, in _make_module_from_path\n",
      "    module = module_class(filepath, prefix, user_api, internal_api)\n",
      "  File \"/home/marcus/anaconda3/lib/python3.9/site-packages/threadpoolctl.py\", line 606, in __init__\n",
      "    self.version = self.get_version()\n",
      "  File \"/home/marcus/anaconda3/lib/python3.9/site-packages/threadpoolctl.py\", line 646, in get_version\n",
      "    config = get_config().split()\n",
      "AttributeError: 'NoneType' object has no attribute 'split'\n",
      "Exception ignored on calling ctypes callback function: <function _ThreadpoolInfo._find_modules_with_dl_iterate_phdr.<locals>.match_module_callback at 0x7f01b53e1940>\n",
      "Traceback (most recent call last):\n",
      "  File \"/home/marcus/anaconda3/lib/python3.9/site-packages/threadpoolctl.py\", line 400, in match_module_callback\n",
      "    self._make_module_from_path(filepath)\n",
      "  File \"/home/marcus/anaconda3/lib/python3.9/site-packages/threadpoolctl.py\", line 515, in _make_module_from_path\n",
      "    module = module_class(filepath, prefix, user_api, internal_api)\n",
      "  File \"/home/marcus/anaconda3/lib/python3.9/site-packages/threadpoolctl.py\", line 606, in __init__\n",
      "    self.version = self.get_version()\n",
      "  File \"/home/marcus/anaconda3/lib/python3.9/site-packages/threadpoolctl.py\", line 646, in get_version\n",
      "    config = get_config().split()\n",
      "AttributeError: 'NoneType' object has no attribute 'split'\n",
      "Exception ignored on calling ctypes callback function: <function _ThreadpoolInfo._find_modules_with_dl_iterate_phdr.<locals>.match_module_callback at 0x7f01b53e1940>\n",
      "Traceback (most recent call last):\n",
      "  File \"/home/marcus/anaconda3/lib/python3.9/site-packages/threadpoolctl.py\", line 400, in match_module_callback\n",
      "    self._make_module_from_path(filepath)\n",
      "  File \"/home/marcus/anaconda3/lib/python3.9/site-packages/threadpoolctl.py\", line 515, in _make_module_from_path\n",
      "    module = module_class(filepath, prefix, user_api, internal_api)\n",
      "  File \"/home/marcus/anaconda3/lib/python3.9/site-packages/threadpoolctl.py\", line 606, in __init__\n",
      "    self.version = self.get_version()\n",
      "  File \"/home/marcus/anaconda3/lib/python3.9/site-packages/threadpoolctl.py\", line 646, in get_version\n",
      "    config = get_config().split()\n",
      "AttributeError: 'NoneType' object has no attribute 'split'\n",
      "Exception ignored on calling ctypes callback function: <function _ThreadpoolInfo._find_modules_with_dl_iterate_phdr.<locals>.match_module_callback at 0x7f01b53e1940>\n",
      "Traceback (most recent call last):\n",
      "  File \"/home/marcus/anaconda3/lib/python3.9/site-packages/threadpoolctl.py\", line 400, in match_module_callback\n",
      "    self._make_module_from_path(filepath)\n",
      "  File \"/home/marcus/anaconda3/lib/python3.9/site-packages/threadpoolctl.py\", line 515, in _make_module_from_path\n",
      "    module = module_class(filepath, prefix, user_api, internal_api)\n",
      "  File \"/home/marcus/anaconda3/lib/python3.9/site-packages/threadpoolctl.py\", line 606, in __init__\n",
      "    self.version = self.get_version()\n",
      "  File \"/home/marcus/anaconda3/lib/python3.9/site-packages/threadpoolctl.py\", line 646, in get_version\n",
      "    config = get_config().split()\n",
      "AttributeError: 'NoneType' object has no attribute 'split'\n",
      "Exception ignored on calling ctypes callback function: <function _ThreadpoolInfo._find_modules_with_dl_iterate_phdr.<locals>.match_module_callback at 0x7f01b53e1940>\n",
      "Traceback (most recent call last):\n",
      "  File \"/home/marcus/anaconda3/lib/python3.9/site-packages/threadpoolctl.py\", line 400, in match_module_callback\n",
      "    self._make_module_from_path(filepath)\n",
      "  File \"/home/marcus/anaconda3/lib/python3.9/site-packages/threadpoolctl.py\", line 515, in _make_module_from_path\n",
      "    module = module_class(filepath, prefix, user_api, internal_api)\n",
      "  File \"/home/marcus/anaconda3/lib/python3.9/site-packages/threadpoolctl.py\", line 606, in __init__\n",
      "    self.version = self.get_version()\n",
      "  File \"/home/marcus/anaconda3/lib/python3.9/site-packages/threadpoolctl.py\", line 646, in get_version\n",
      "    config = get_config().split()\n",
      "AttributeError: 'NoneType' object has no attribute 'split'\n",
      "Exception ignored on calling ctypes callback function: <function _ThreadpoolInfo._find_modules_with_dl_iterate_phdr.<locals>.match_module_callback at 0x7f01b53e1940>\n",
      "Traceback (most recent call last):\n",
      "  File \"/home/marcus/anaconda3/lib/python3.9/site-packages/threadpoolctl.py\", line 400, in match_module_callback\n",
      "    self._make_module_from_path(filepath)\n",
      "  File \"/home/marcus/anaconda3/lib/python3.9/site-packages/threadpoolctl.py\", line 515, in _make_module_from_path\n",
      "    module = module_class(filepath, prefix, user_api, internal_api)\n",
      "  File \"/home/marcus/anaconda3/lib/python3.9/site-packages/threadpoolctl.py\", line 606, in __init__\n",
      "    self.version = self.get_version()\n",
      "  File \"/home/marcus/anaconda3/lib/python3.9/site-packages/threadpoolctl.py\", line 646, in get_version\n",
      "    config = get_config().split()\n",
      "AttributeError: 'NoneType' object has no attribute 'split'\n",
      "Exception ignored on calling ctypes callback function: <function _ThreadpoolInfo._find_modules_with_dl_iterate_phdr.<locals>.match_module_callback at 0x7f01b53e1940>\n",
      "Traceback (most recent call last):\n",
      "  File \"/home/marcus/anaconda3/lib/python3.9/site-packages/threadpoolctl.py\", line 400, in match_module_callback\n",
      "    self._make_module_from_path(filepath)\n",
      "  File \"/home/marcus/anaconda3/lib/python3.9/site-packages/threadpoolctl.py\", line 515, in _make_module_from_path\n",
      "    module = module_class(filepath, prefix, user_api, internal_api)\n",
      "  File \"/home/marcus/anaconda3/lib/python3.9/site-packages/threadpoolctl.py\", line 606, in __init__\n",
      "    self.version = self.get_version()\n",
      "  File \"/home/marcus/anaconda3/lib/python3.9/site-packages/threadpoolctl.py\", line 646, in get_version\n",
      "    config = get_config().split()\n",
      "AttributeError: 'NoneType' object has no attribute 'split'\n",
      "Exception ignored on calling ctypes callback function: <function _ThreadpoolInfo._find_modules_with_dl_iterate_phdr.<locals>.match_module_callback at 0x7f01b53e1940>\n",
      "Traceback (most recent call last):\n",
      "  File \"/home/marcus/anaconda3/lib/python3.9/site-packages/threadpoolctl.py\", line 400, in match_module_callback\n",
      "    self._make_module_from_path(filepath)\n",
      "  File \"/home/marcus/anaconda3/lib/python3.9/site-packages/threadpoolctl.py\", line 515, in _make_module_from_path\n",
      "    module = module_class(filepath, prefix, user_api, internal_api)\n",
      "  File \"/home/marcus/anaconda3/lib/python3.9/site-packages/threadpoolctl.py\", line 606, in __init__\n",
      "    self.version = self.get_version()\n",
      "  File \"/home/marcus/anaconda3/lib/python3.9/site-packages/threadpoolctl.py\", line 646, in get_version\n",
      "    config = get_config().split()\n",
      "AttributeError: 'NoneType' object has no attribute 'split'\n"
     ]
    },
    {
     "name": "stdout",
     "output_type": "stream",
     "text": [
      "Initialization complete\n",
      "Iteration 0, inertia 4523.567815543696.\n",
      "Iteration 1, inertia 3668.9855521560253.\n",
      "Iteration 2, inertia 3624.730925711819.\n",
      "Iteration 3, inertia 3602.4958137588146.\n",
      "Iteration 4, inertia 3588.0607912404903.\n",
      "Iteration 5, inertia 3575.4395702593083.\n",
      "Iteration 6, inertia 3566.37613116302.\n",
      "Iteration 7, inertia 3562.5917284574944.\n",
      "Iteration 8, inertia 3560.314467700935.\n",
      "Iteration 9, inertia 3558.8854951526528.\n",
      "Iteration 10, inertia 3558.0027489340523.\n",
      "Iteration 11, inertia 3557.7295547754934.\n",
      "Converged at iteration 11: center shift 9.31998104486529e-05 within tolerance 0.0002709886847099651.\n",
      "Initialization complete\n",
      "Iteration 0, inertia 3650.5166847646533.\n",
      "Iteration 1, inertia 3552.8915365648168.\n",
      "Iteration 2, inertia 3528.9425421232218.\n",
      "Iteration 3, inertia 3518.8491320487105.\n",
      "Iteration 4, inertia 3512.671791613978.\n",
      "Iteration 5, inertia 3509.174107824743.\n",
      "Iteration 6, inertia 3506.3883335513756.\n",
      "Iteration 7, inertia 3505.0910743094087.\n",
      "Iteration 8, inertia 3504.6465117384937.\n",
      "Converged at iteration 8: center shift 7.503519990461606e-05 within tolerance 0.0002709886847099651.\n",
      "Initialization complete\n",
      "Iteration 0, inertia 4414.32146486224.\n",
      "Iteration 1, inertia 4264.089604762605.\n",
      "Iteration 2, inertia 4086.2164718564013.\n",
      "Iteration 3, inertia 3913.504002164455.\n",
      "Iteration 4, inertia 3808.4662476218136.\n",
      "Iteration 5, inertia 3745.661059736385.\n",
      "Iteration 6, inertia 3695.2334705998965.\n",
      "Iteration 7, inertia 3657.9034106955437.\n",
      "Iteration 8, inertia 3632.6437458148453.\n",
      "Iteration 9, inertia 3614.3881006065603.\n",
      "Iteration 10, inertia 3596.108483986045.\n",
      "Iteration 11, inertia 3579.525044096397.\n",
      "Iteration 12, inertia 3568.079845494878.\n",
      "Iteration 13, inertia 3560.71149313184.\n",
      "Iteration 14, inertia 3555.6789278427523.\n",
      "Iteration 15, inertia 3551.0457527019794.\n",
      "Iteration 16, inertia 3547.815195220919.\n",
      "Iteration 17, inertia 3544.585854658797.\n",
      "Iteration 18, inertia 3541.2249019489236.\n",
      "Iteration 19, inertia 3537.2207553145167.\n",
      "Iteration 20, inertia 3533.4811126828054.\n",
      "Iteration 21, inertia 3530.831391869197.\n",
      "Iteration 22, inertia 3528.2990382894973.\n",
      "Iteration 23, inertia 3525.9628488182075.\n",
      "Iteration 24, inertia 3523.3024936096917.\n",
      "Iteration 25, inertia 3521.2371826846565.\n",
      "Iteration 26, inertia 3519.7176960588367.\n",
      "Iteration 27, inertia 3518.2921892437653.\n",
      "Iteration 28, inertia 3517.650346116129.\n",
      "Iteration 29, inertia 3517.291990899687.\n",
      "Iteration 30, inertia 3516.813073902659.\n",
      "Iteration 31, inertia 3516.080736548989.\n",
      "Iteration 32, inertia 3515.6638221959633.\n",
      "Converged at iteration 32: center shift 5.325555309193348e-05 within tolerance 0.0002709886847099651.\n",
      "Initialization complete\n",
      "Iteration 0, inertia 4454.784085215453.\n",
      "Iteration 1, inertia 3768.566040695699.\n",
      "Iteration 2, inertia 3646.079367169923.\n",
      "Iteration 3, inertia 3588.1052546265446.\n",
      "Iteration 4, inertia 3563.8174545934417.\n",
      "Iteration 5, inertia 3553.0609261815334.\n",
      "Iteration 6, inertia 3547.572109608473.\n",
      "Iteration 7, inertia 3544.5866171395764.\n",
      "Iteration 8, inertia 3542.319966113142.\n",
      "Iteration 9, inertia 3541.4918298267994.\n",
      "Iteration 10, inertia 3541.163552531024.\n",
      "Converged at iteration 10: center shift 0.00011361514233643828 within tolerance 0.0002709886847099651.\n",
      "Initialization complete\n",
      "Iteration 0, inertia 4292.0205754360395.\n",
      "Iteration 1, inertia 3675.203362882242.\n",
      "Iteration 2, inertia 3600.265205902455.\n",
      "Iteration 3, inertia 3567.1040066791998.\n",
      "Iteration 4, inertia 3555.9954996232555.\n",
      "Iteration 5, inertia 3551.7224371196444.\n",
      "Iteration 6, inertia 3549.4587985327585.\n",
      "Iteration 7, inertia 3547.6816324276397.\n",
      "Iteration 8, inertia 3546.140998056875.\n",
      "Iteration 9, inertia 3545.1814280412004.\n",
      "Iteration 10, inertia 3544.566048655197.\n",
      "Converged at iteration 10: center shift 0.00021718608215509926 within tolerance 0.0002709886847099651.\n",
      "Initialization complete\n",
      "Iteration 0, inertia 5229.734133923963.\n",
      "Iteration 1, inertia 3901.914075416339.\n",
      "Iteration 2, inertia 3684.138956110474.\n",
      "Iteration 3, inertia 3625.764292048268.\n",
      "Iteration 4, inertia 3598.678831280842.\n",
      "Iteration 5, inertia 3577.346348139745.\n",
      "Iteration 6, inertia 3558.470378680762.\n",
      "Iteration 7, inertia 3543.761390560816.\n",
      "Iteration 8, inertia 3531.7513344899453.\n",
      "Iteration 9, inertia 3523.3922006839143.\n",
      "Iteration 10, inertia 3517.458751167251.\n",
      "Iteration 11, inertia 3511.3577748406865.\n",
      "Iteration 12, inertia 3507.907320236839.\n",
      "Iteration 13, inertia 3506.4491270909643.\n",
      "Iteration 14, inertia 3505.5305971670123.\n",
      "Iteration 15, inertia 3505.1682965099235.\n",
      "Iteration 16, inertia 3504.8127932137068.\n",
      "Converged at iteration 16: center shift 0.000159791915157664 within tolerance 0.0002709886847099651.\n",
      "Initialization complete\n",
      "Iteration 0, inertia 4258.464385644751.\n",
      "Iteration 1, inertia 3757.825912494679.\n",
      "Iteration 2, inertia 3651.0581454035555.\n",
      "Iteration 3, inertia 3609.354504537885.\n",
      "Iteration 4, inertia 3585.893849803645.\n",
      "Iteration 5, inertia 3570.9418046622222.\n",
      "Iteration 6, inertia 3564.037650400696.\n",
      "Iteration 7, inertia 3561.2995261283872.\n",
      "Iteration 8, inertia 3559.8589251152107.\n",
      "Iteration 9, inertia 3558.954926115668.\n",
      "Iteration 10, inertia 3558.6446576486646.\n",
      "Iteration 11, inertia 3558.2505645806077.\n",
      "Converged at iteration 11: center shift 0.0001750353618374395 within tolerance 0.0002709886847099651.\n",
      "Initialization complete\n",
      "Iteration 0, inertia 4718.526135999662.\n",
      "Iteration 1, inertia 3758.150709122472.\n",
      "Iteration 2, inertia 3624.9227385854288.\n",
      "Iteration 3, inertia 3583.400450514346.\n",
      "Iteration 4, inertia 3564.5252982782085.\n",
      "Iteration 5, inertia 3555.27265399915.\n",
      "Iteration 6, inertia 3551.323203354955.\n",
      "Iteration 7, inertia 3548.7773942853187.\n",
      "Iteration 8, inertia 3546.706487706705.\n",
      "Iteration 9, inertia 3544.940808912318.\n",
      "Iteration 10, inertia 3541.60292643405.\n",
      "Iteration 11, inertia 3538.295416432584.\n",
      "Iteration 12, inertia 3535.9986063113797.\n",
      "Iteration 13, inertia 3534.366436997931.\n",
      "Iteration 14, inertia 3532.153288557747.\n",
      "Iteration 15, inertia 3529.0219599372663.\n",
      "Iteration 16, inertia 3523.7411194979695.\n",
      "Iteration 17, inertia 3519.0747925846917.\n",
      "Iteration 18, inertia 3516.6810828301445.\n",
      "Iteration 19, inertia 3515.673695498445.\n",
      "Iteration 20, inertia 3514.1110599644653.\n",
      "Iteration 21, inertia 3511.926542778685.\n",
      "Iteration 22, inertia 3509.9239973639296.\n",
      "Iteration 23, inertia 3508.665946043927.\n",
      "Iteration 24, inertia 3507.5767141188653.\n",
      "Iteration 25, inertia 3506.338287272818."
     ]
    },
    {
     "name": "stderr",
     "output_type": "stream",
     "text": [
      "Exception ignored on calling ctypes callback function: <function _ThreadpoolInfo._find_modules_with_dl_iterate_phdr.<locals>.match_module_callback at 0x7f01b53e1940>\n",
      "Traceback (most recent call last):\n",
      "  File \"/home/marcus/anaconda3/lib/python3.9/site-packages/threadpoolctl.py\", line 400, in match_module_callback\n",
      "    self._make_module_from_path(filepath)\n",
      "  File \"/home/marcus/anaconda3/lib/python3.9/site-packages/threadpoolctl.py\", line 515, in _make_module_from_path\n",
      "    module = module_class(filepath, prefix, user_api, internal_api)\n",
      "  File \"/home/marcus/anaconda3/lib/python3.9/site-packages/threadpoolctl.py\", line 606, in __init__\n",
      "    self.version = self.get_version()\n",
      "  File \"/home/marcus/anaconda3/lib/python3.9/site-packages/threadpoolctl.py\", line 646, in get_version\n",
      "    config = get_config().split()\n",
      "AttributeError: 'NoneType' object has no attribute 'split'\n",
      "Exception ignored on calling ctypes callback function: <function _ThreadpoolInfo._find_modules_with_dl_iterate_phdr.<locals>.match_module_callback at 0x7f01b53e1940>\n",
      "Traceback (most recent call last):\n",
      "  File \"/home/marcus/anaconda3/lib/python3.9/site-packages/threadpoolctl.py\", line 400, in match_module_callback\n",
      "    self._make_module_from_path(filepath)\n",
      "  File \"/home/marcus/anaconda3/lib/python3.9/site-packages/threadpoolctl.py\", line 515, in _make_module_from_path\n",
      "    module = module_class(filepath, prefix, user_api, internal_api)\n",
      "  File \"/home/marcus/anaconda3/lib/python3.9/site-packages/threadpoolctl.py\", line 606, in __init__\n",
      "    self.version = self.get_version()\n",
      "  File \"/home/marcus/anaconda3/lib/python3.9/site-packages/threadpoolctl.py\", line 646, in get_version\n",
      "    config = get_config().split()\n",
      "AttributeError: 'NoneType' object has no attribute 'split'\n",
      "Exception ignored on calling ctypes callback function: <function _ThreadpoolInfo._find_modules_with_dl_iterate_phdr.<locals>.match_module_callback at 0x7f01b53774c0>\n",
      "Traceback (most recent call last):\n",
      "  File \"/home/marcus/anaconda3/lib/python3.9/site-packages/threadpoolctl.py\", line 400, in match_module_callback\n",
      "    self._make_module_from_path(filepath)\n",
      "  File \"/home/marcus/anaconda3/lib/python3.9/site-packages/threadpoolctl.py\", line 515, in _make_module_from_path\n",
      "    module = module_class(filepath, prefix, user_api, internal_api)\n",
      "  File \"/home/marcus/anaconda3/lib/python3.9/site-packages/threadpoolctl.py\", line 606, in __init__\n",
      "    self.version = self.get_version()\n",
      "  File \"/home/marcus/anaconda3/lib/python3.9/site-packages/threadpoolctl.py\", line 646, in get_version\n",
      "    config = get_config().split()\n",
      "AttributeError: 'NoneType' object has no attribute 'split'\n",
      "Exception ignored on calling ctypes callback function: <function _ThreadpoolInfo._find_modules_with_dl_iterate_phdr.<locals>.match_module_callback at 0x7f01b53774c0>\n",
      "Traceback (most recent call last):\n",
      "  File \"/home/marcus/anaconda3/lib/python3.9/site-packages/threadpoolctl.py\", line 400, in match_module_callback\n",
      "    self._make_module_from_path(filepath)\n",
      "  File \"/home/marcus/anaconda3/lib/python3.9/site-packages/threadpoolctl.py\", line 515, in _make_module_from_path\n",
      "    module = module_class(filepath, prefix, user_api, internal_api)\n",
      "  File \"/home/marcus/anaconda3/lib/python3.9/site-packages/threadpoolctl.py\", line 606, in __init__\n",
      "    self.version = self.get_version()\n",
      "  File \"/home/marcus/anaconda3/lib/python3.9/site-packages/threadpoolctl.py\", line 646, in get_version\n",
      "    config = get_config().split()\n",
      "AttributeError: 'NoneType' object has no attribute 'split'\n"
     ]
    },
    {
     "name": "stdout",
     "output_type": "stream",
     "text": [
      "\n",
      "Iteration 26, inertia 3505.313827224237.\n",
      "Iteration 27, inertia 3504.8047979287226.\n",
      "Iteration 28, inertia 3504.552433516026.\n",
      "Converged at iteration 28: center shift 0.00012946374322485285 within tolerance 0.0002709886847099651.\n",
      "Initialization complete\n",
      "Iteration 0, inertia 5726.817439830063.\n",
      "Iteration 1, inertia 4002.818616375996.\n",
      "Iteration 2, inertia 3677.0228130303394.\n",
      "Iteration 3, inertia 3594.023594573496.\n",
      "Iteration 4, inertia 3568.039246181038.\n",
      "Iteration 5, inertia 3559.404764239552.\n",
      "Iteration 6, inertia 3554.5356499333902.\n",
      "Iteration 7, inertia 3550.900008643047.\n",
      "Iteration 8, inertia 3547.9319773120324.\n",
      "Iteration 9, inertia 3546.186206463711.\n",
      "Iteration 10, inertia 3544.5930799012185.\n",
      "Iteration 11, inertia 3544.15731000858.\n",
      "Iteration 12, inertia 3543.9417539989768.\n",
      "Converged at iteration 12: center shift 0.00010369698781415265 within tolerance 0.0002709886847099651.\n",
      "Initialization complete\n",
      "Iteration 0, inertia 4375.7184007201795.\n",
      "Iteration 1, inertia 3663.3718697369377.\n",
      "Iteration 2, inertia 3584.8228907672724.\n",
      "Iteration 3, inertia 3560.5525771794446.\n",
      "Iteration 4, inertia 3552.653553654187.\n",
      "Iteration 5, inertia 3550.986332207136.\n",
      "Iteration 6, inertia 3548.841299825507.\n",
      "Iteration 7, inertia 3546.343296544782.\n",
      "Iteration 8, inertia 3544.272114110864.\n",
      "Iteration 9, inertia 3541.0832411176934.\n",
      "Iteration 10, inertia 3538.7037862544616.\n",
      "Iteration 11, inertia 3536.961047098962.\n",
      "Iteration 12, inertia 3535.146837088553.\n",
      "Iteration 13, inertia 3533.5433662533533.\n",
      "Iteration 14, inertia 3530.788244027064.\n",
      "Iteration 15, inertia 3527.1960244191623.\n",
      "Iteration 16, inertia 3522.541969152167.\n",
      "Iteration 17, inertia 3518.2447958096427.\n",
      "Iteration 18, inertia 3516.634314469538.\n",
      "Iteration 19, inertia 3515.6221060844705.\n",
      "Iteration 20, inertia 3513.9973981796193.\n",
      "Iteration 21, inertia 3511.188703670776.\n",
      "Iteration 22, inertia 3509.9782526878816.\n",
      "Iteration 23, inertia 3508.7925003676346.\n",
      "Iteration 24, inertia 3507.65879755508.\n",
      "Iteration 25, inertia 3506.3651721284336.\n",
      "Iteration 26, inertia 3505.313827224237.\n",
      "Iteration 27, inertia 3504.804797928722.\n",
      "Iteration 28, inertia 3504.552433516026.\n",
      "Converged at iteration 28: center shift 0.0001294637432248549 within tolerance 0.0002709886847099651.\n"
     ]
    }
   ],
   "source": [
    "#Criando modelo, verbose = acompanhar o processo\n",
    "kmeans_pca = KMeans(n_clusters=5, verbose=True, random_state=SEED)\n",
    "\n",
    "kmeans_pca.fit(projection)\n",
    "\n",
    "#Criando coluna para exibir os clusters\n",
    "dados_generos['cluster_pca'] = kmeans_pca.predict(projection)\n",
    "projection['cluster_pca'] = kmeans_pca.predict(projection)"
   ]
  },
  {
   "cell_type": "code",
   "execution_count": 99,
   "metadata": {},
   "outputs": [
    {
     "data": {
      "text/html": [
       "<div>\n",
       "<style scoped>\n",
       "    .dataframe tbody tr th:only-of-type {\n",
       "        vertical-align: middle;\n",
       "    }\n",
       "\n",
       "    .dataframe tbody tr th {\n",
       "        vertical-align: top;\n",
       "    }\n",
       "\n",
       "    .dataframe thead th {\n",
       "        text-align: right;\n",
       "    }\n",
       "</style>\n",
       "<table border=\"1\" class=\"dataframe\">\n",
       "  <thead>\n",
       "    <tr style=\"text-align: right;\">\n",
       "      <th></th>\n",
       "      <th>x</th>\n",
       "      <th>y</th>\n",
       "      <th>cluster_pca</th>\n",
       "    </tr>\n",
       "  </thead>\n",
       "  <tbody>\n",
       "    <tr>\n",
       "      <th>0</th>\n",
       "      <td>5.910268</td>\n",
       "      <td>-0.011146</td>\n",
       "      <td>3</td>\n",
       "    </tr>\n",
       "    <tr>\n",
       "      <th>1</th>\n",
       "      <td>2.787093</td>\n",
       "      <td>4.498483</td>\n",
       "      <td>3</td>\n",
       "    </tr>\n",
       "    <tr>\n",
       "      <th>2</th>\n",
       "      <td>-0.757538</td>\n",
       "      <td>-1.258495</td>\n",
       "      <td>4</td>\n",
       "    </tr>\n",
       "    <tr>\n",
       "      <th>3</th>\n",
       "      <td>1.020521</td>\n",
       "      <td>-0.931690</td>\n",
       "      <td>1</td>\n",
       "    </tr>\n",
       "    <tr>\n",
       "      <th>4</th>\n",
       "      <td>0.753911</td>\n",
       "      <td>-0.999861</td>\n",
       "      <td>1</td>\n",
       "    </tr>\n",
       "    <tr>\n",
       "      <th>...</th>\n",
       "      <td>...</td>\n",
       "      <td>...</td>\n",
       "      <td>...</td>\n",
       "    </tr>\n",
       "    <tr>\n",
       "      <th>2968</th>\n",
       "      <td>-0.475136</td>\n",
       "      <td>-0.017126</td>\n",
       "      <td>2</td>\n",
       "    </tr>\n",
       "    <tr>\n",
       "      <th>2969</th>\n",
       "      <td>-3.026756</td>\n",
       "      <td>-1.304983</td>\n",
       "      <td>4</td>\n",
       "    </tr>\n",
       "    <tr>\n",
       "      <th>2970</th>\n",
       "      <td>-0.832511</td>\n",
       "      <td>-1.089726</td>\n",
       "      <td>4</td>\n",
       "    </tr>\n",
       "    <tr>\n",
       "      <th>2971</th>\n",
       "      <td>1.774790</td>\n",
       "      <td>-3.695233</td>\n",
       "      <td>1</td>\n",
       "    </tr>\n",
       "    <tr>\n",
       "      <th>2972</th>\n",
       "      <td>-1.028069</td>\n",
       "      <td>-1.390709</td>\n",
       "      <td>4</td>\n",
       "    </tr>\n",
       "  </tbody>\n",
       "</table>\n",
       "<p>2973 rows × 3 columns</p>\n",
       "</div>"
      ],
      "text/plain": [
       "             x         y  cluster_pca\n",
       "0     5.910268 -0.011146            3\n",
       "1     2.787093  4.498483            3\n",
       "2    -0.757538 -1.258495            4\n",
       "3     1.020521 -0.931690            1\n",
       "4     0.753911 -0.999861            1\n",
       "...        ...       ...          ...\n",
       "2968 -0.475136 -0.017126            2\n",
       "2969 -3.026756 -1.304983            4\n",
       "2970 -0.832511 -1.089726            4\n",
       "2971  1.774790 -3.695233            1\n",
       "2972 -1.028069 -1.390709            4\n",
       "\n",
       "[2973 rows x 3 columns]"
      ]
     },
     "execution_count": 99,
     "metadata": {},
     "output_type": "execute_result"
    }
   ],
   "source": [
    "projection"
   ]
  },
  {
   "cell_type": "code",
   "execution_count": 100,
   "metadata": {},
   "outputs": [],
   "source": [
    "projection['generos'] = dados_generos['genres']"
   ]
  },
  {
   "cell_type": "code",
   "execution_count": 101,
   "metadata": {},
   "outputs": [
    {
     "data": {
      "text/html": [
       "<div>\n",
       "<style scoped>\n",
       "    .dataframe tbody tr th:only-of-type {\n",
       "        vertical-align: middle;\n",
       "    }\n",
       "\n",
       "    .dataframe tbody tr th {\n",
       "        vertical-align: top;\n",
       "    }\n",
       "\n",
       "    .dataframe thead th {\n",
       "        text-align: right;\n",
       "    }\n",
       "</style>\n",
       "<table border=\"1\" class=\"dataframe\">\n",
       "  <thead>\n",
       "    <tr style=\"text-align: right;\">\n",
       "      <th></th>\n",
       "      <th>x</th>\n",
       "      <th>y</th>\n",
       "      <th>cluster_pca</th>\n",
       "      <th>generos</th>\n",
       "    </tr>\n",
       "  </thead>\n",
       "  <tbody>\n",
       "    <tr>\n",
       "      <th>0</th>\n",
       "      <td>5.910268</td>\n",
       "      <td>-0.011146</td>\n",
       "      <td>3</td>\n",
       "      <td>21st century classical</td>\n",
       "    </tr>\n",
       "    <tr>\n",
       "      <th>1</th>\n",
       "      <td>2.787093</td>\n",
       "      <td>4.498483</td>\n",
       "      <td>3</td>\n",
       "      <td>432hz</td>\n",
       "    </tr>\n",
       "    <tr>\n",
       "      <th>2</th>\n",
       "      <td>-0.757538</td>\n",
       "      <td>-1.258495</td>\n",
       "      <td>4</td>\n",
       "      <td>8-bit</td>\n",
       "    </tr>\n",
       "    <tr>\n",
       "      <th>3</th>\n",
       "      <td>1.020521</td>\n",
       "      <td>-0.931690</td>\n",
       "      <td>1</td>\n",
       "      <td>[]</td>\n",
       "    </tr>\n",
       "    <tr>\n",
       "      <th>4</th>\n",
       "      <td>0.753911</td>\n",
       "      <td>-0.999861</td>\n",
       "      <td>1</td>\n",
       "      <td>a cappella</td>\n",
       "    </tr>\n",
       "    <tr>\n",
       "      <th>...</th>\n",
       "      <td>...</td>\n",
       "      <td>...</td>\n",
       "      <td>...</td>\n",
       "      <td>...</td>\n",
       "    </tr>\n",
       "    <tr>\n",
       "      <th>2968</th>\n",
       "      <td>-0.475136</td>\n",
       "      <td>-0.017126</td>\n",
       "      <td>2</td>\n",
       "      <td>zolo</td>\n",
       "    </tr>\n",
       "    <tr>\n",
       "      <th>2969</th>\n",
       "      <td>-3.026756</td>\n",
       "      <td>-1.304983</td>\n",
       "      <td>4</td>\n",
       "      <td>zouglou</td>\n",
       "    </tr>\n",
       "    <tr>\n",
       "      <th>2970</th>\n",
       "      <td>-0.832511</td>\n",
       "      <td>-1.089726</td>\n",
       "      <td>4</td>\n",
       "      <td>zouk</td>\n",
       "    </tr>\n",
       "    <tr>\n",
       "      <th>2971</th>\n",
       "      <td>1.774790</td>\n",
       "      <td>-3.695233</td>\n",
       "      <td>1</td>\n",
       "      <td>zurich indie</td>\n",
       "    </tr>\n",
       "    <tr>\n",
       "      <th>2972</th>\n",
       "      <td>-1.028069</td>\n",
       "      <td>-1.390709</td>\n",
       "      <td>4</td>\n",
       "      <td>zydeco</td>\n",
       "    </tr>\n",
       "  </tbody>\n",
       "</table>\n",
       "<p>2973 rows × 4 columns</p>\n",
       "</div>"
      ],
      "text/plain": [
       "             x         y  cluster_pca                 generos\n",
       "0     5.910268 -0.011146            3  21st century classical\n",
       "1     2.787093  4.498483            3                   432hz\n",
       "2    -0.757538 -1.258495            4                   8-bit\n",
       "3     1.020521 -0.931690            1                      []\n",
       "4     0.753911 -0.999861            1              a cappella\n",
       "...        ...       ...          ...                     ...\n",
       "2968 -0.475136 -0.017126            2                    zolo\n",
       "2969 -3.026756 -1.304983            4                 zouglou\n",
       "2970 -0.832511 -1.089726            4                    zouk\n",
       "2971  1.774790 -3.695233            1            zurich indie\n",
       "2972 -1.028069 -1.390709            4                  zydeco\n",
       "\n",
       "[2973 rows x 4 columns]"
      ]
     },
     "execution_count": 101,
     "metadata": {},
     "output_type": "execute_result"
    }
   ],
   "source": [
    "projection"
   ]
  },
  {
   "cell_type": "code",
   "execution_count": 102,
   "metadata": {},
   "outputs": [
    {
     "data": {
      "application/vnd.plotly.v1+json": {
       "config": {
        "plotlyServerURL": "https://plot.ly"
       },
       "data": [
        {
         "customdata": [
          [
           "21st century classical"
          ],
          [
           "432hz"
          ],
          [
           "8-bit"
          ],
          [
           "[]"
          ],
          [
           "a cappella"
          ],
          [
           "abstract"
          ],
          [
           "abstract beats"
          ],
          [
           "abstract hip hop"
          ],
          [
           "accordeon"
          ],
          [
           "accordion"
          ],
          [
           "acid house"
          ],
          [
           "acid rock"
          ],
          [
           "acid trance"
          ],
          [
           "acousmatic"
          ],
          [
           "acoustic blues"
          ],
          [
           "acoustic pop"
          ],
          [
           "acoustic punk"
          ],
          [
           "acoustic rock"
          ],
          [
           "action rock"
          ],
          [
           "adoracion"
          ],
          [
           "adult standards"
          ],
          [
           "adventista"
          ],
          [
           "afghan pop"
          ],
          [
           "afghan traditional"
          ],
          [
           "african percussion"
          ],
          [
           "african reggae"
          ],
          [
           "african rock"
          ],
          [
           "african-american classical"
          ],
          [
           "afro dancehall"
          ],
          [
           "afro house"
          ],
          [
           "afro psych"
          ],
          [
           "afro soul"
          ],
          [
           "afro-funk"
          ],
          [
           "afrobeat"
          ],
          [
           "afrofuturism"
          ],
          [
           "afrofuturismo brasileiro"
          ],
          [
           "afropop"
          ],
          [
           "afroswing"
          ],
          [
           "aggrotech"
          ],
          [
           "alabama indie"
          ],
          [
           "alabama metal"
          ],
          [
           "alabama rap"
          ],
          [
           "alaska indie"
          ],
          [
           "albanian pop"
          ],
          [
           "albany ny indie"
          ],
          [
           "alberta country"
          ],
          [
           "alberta hip hop"
          ],
          [
           "album rock"
          ],
          [
           "albuquerque indie"
          ],
          [
           "alt-idol"
          ],
          [
           "alte"
          ],
          [
           "alternative americana"
          ],
          [
           "alternative country"
          ],
          [
           "alternative dance"
          ],
          [
           "alternative emo"
          ],
          [
           "alternative hip hop"
          ],
          [
           "alternative metal"
          ],
          [
           "alternative pop"
          ],
          [
           "alternative pop rock"
          ],
          [
           "alternative r&b"
          ],
          [
           "alternative rock"
          ],
          [
           "alternative roots rock"
          ],
          [
           "ambeat"
          ],
          [
           "ambient"
          ],
          [
           "ambient black metal"
          ],
          [
           "ambient folk"
          ],
          [
           "ambient house"
          ],
          [
           "ambient idm"
          ],
          [
           "ambient industrial"
          ],
          [
           "ambient pop"
          ],
          [
           "ambient techno"
          ],
          [
           "ambient worship"
          ],
          [
           "american 21st century classical"
          ],
          [
           "american choir"
          ],
          [
           "american classical piano"
          ],
          [
           "american contemporary classical"
          ],
          [
           "american early music"
          ],
          [
           "american folk revival"
          ],
          [
           "american metalcore"
          ],
          [
           "american modern classical"
          ],
          [
           "american oi"
          ],
          [
           "american orchestra"
          ],
          [
           "american post-rock"
          ],
          [
           "american primitive"
          ],
          [
           "american romanticism"
          ],
          [
           "american shoegaze"
          ],
          [
           "anadolu rock"
          ],
          [
           "anarcho-punk"
          ],
          [
           "anglican liturgy"
          ],
          [
           "animal singing"
          ],
          [
           "anime"
          ],
          [
           "anime latino"
          ],
          [
           "anime rock"
          ],
          [
           "anime score"
          ],
          [
           "ann arbor indie"
          ],
          [
           "anthem emo"
          ],
          [
           "anthem worship"
          ],
          [
           "anti-folk"
          ],
          [
           "antilliaanse folklore"
          ],
          [
           "antiviral pop"
          ],
          [
           "appalachian folk"
          ],
          [
           "arab folk"
          ],
          [
           "arab groove"
          ],
          [
           "arab pop"
          ],
          [
           "arabesk"
          ],
          [
           "arabic hip hop"
          ],
          [
           "arabic jazz"
          ],
          [
           "argentine ambient"
          ],
          [
           "argentine hardcore"
          ],
          [
           "argentine heavy metal"
          ],
          [
           "argentine hip hop"
          ],
          [
           "argentine indie"
          ],
          [
           "argentine metal"
          ],
          [
           "argentine punk"
          ],
          [
           "argentine reggae"
          ],
          [
           "argentine rock"
          ],
          [
           "argentine telepop"
          ],
          [
           "arizona punk"
          ],
          [
           "arkansas country"
          ],
          [
           "arkansas hip hop"
          ],
          [
           "arkansas indie"
          ],
          [
           "armenian folk"
          ],
          [
           "art pop"
          ],
          [
           "art punk"
          ],
          [
           "art rock"
          ],
          [
           "art song"
          ],
          [
           "asbury park indie"
          ],
          [
           "asheville indie"
          ],
          [
           "asian american hip hop"
          ],
          [
           "asmr"
          ],
          [
           "athens indie"
          ],
          [
           "atl hip hop"
          ],
          [
           "atl trap"
          ],
          [
           "atlanta indie"
          ],
          [
           "atlanta metal"
          ],
          [
           "atlanta punk"
          ],
          [
           "atmosphere"
          ],
          [
           "atmospheric black metal"
          ],
          [
           "atmospheric dnb"
          ],
          [
           "atmospheric post-metal"
          ],
          [
           "atmospheric post-rock"
          ],
          [
           "atmospheric sludge"
          ],
          [
           "auckland indie"
          ],
          [
           "audiophile vocal"
          ],
          [
           "aussietronica"
          ],
          [
           "austin americana"
          ],
          [
           "austin singer-songwriter"
          ],
          [
           "austindie"
          ],
          [
           "australian alternative pop"
          ],
          [
           "australian alternative rock"
          ],
          [
           "australian ambient"
          ],
          [
           "australian children's music"
          ],
          [
           "australian choir"
          ],
          [
           "australian classical"
          ],
          [
           "australian classical piano"
          ],
          [
           "australian country"
          ],
          [
           "australian dance"
          ],
          [
           "australian electropop"
          ],
          [
           "australian garage punk"
          ],
          [
           "australian hip hop"
          ],
          [
           "australian house"
          ],
          [
           "australian indie"
          ],
          [
           "australian indie folk"
          ],
          [
           "australian indie rock"
          ],
          [
           "australian indigenous"
          ],
          [
           "australian metal"
          ],
          [
           "australian metalcore"
          ],
          [
           "australian pop"
          ],
          [
           "australian post-hardcore"
          ],
          [
           "australian post-punk"
          ],
          [
           "australian psych"
          ],
          [
           "australian r&b"
          ],
          [
           "australian reggae fusion"
          ],
          [
           "australian rock"
          ],
          [
           "australian singer-songwriter"
          ],
          [
           "australian ska"
          ],
          [
           "australian talent show"
          ],
          [
           "australian trap"
          ],
          [
           "australian underground hip hop"
          ],
          [
           "austrian choir"
          ],
          [
           "austrian classical piano"
          ],
          [
           "austrian orchestra"
          ],
          [
           "austrian pop"
          ],
          [
           "austro-german modernism"
          ],
          [
           "austropop"
          ],
          [
           "autoharp"
          ],
          [
           "autonomous black metal"
          ],
          [
           "avant-garde"
          ],
          [
           "avant-garde jazz"
          ],
          [
           "avant-garde metal"
          ],
          [
           "axe"
          ],
          [
           "azeri traditional"
          ],
          [
           "azonto"
          ],
          [
           "azontobeats"
          ],
          [
           "bachata"
          ],
          [
           "bachata dominicana"
          ],
          [
           "background music"
          ],
          [
           "background piano"
          ],
          [
           "baglama"
          ],
          [
           "bahai"
          ],
          [
           "bahamian folk"
          ],
          [
           "bahamian pop"
          ],
          [
           "baiao"
          ],
          [
           "bajki"
          ],
          [
           "bakersfield sound"
          ],
          [
           "balearic"
          ],
          [
           "balkan brass"
          ],
          [
           "balkan classical piano"
          ],
          [
           "ballet class"
          ],
          [
           "ballroom"
          ],
          [
           "baltic classical"
          ],
          [
           "baltimore hip hop"
          ],
          [
           "baltimore indie"
          ],
          [
           "banda"
          ],
          [
           "banda caliente"
          ],
          [
           "banda carnavalera"
          ],
          [
           "bandinhas"
          ],
          [
           "bandolim"
          ],
          [
           "bandoneon"
          ],
          [
           "bangla"
          ],
          [
           "banjo"
          ],
          [
           "bansuri"
          ],
          [
           "barbadian pop"
          ],
          [
           "barbershop"
          ],
          [
           "bard"
          ],
          [
           "barnmusik"
          ],
          [
           "barockinterpreten"
          ],
          [
           "baroque"
          ],
          [
           "baroque brass"
          ],
          [
           "baroque ensemble"
          ],
          [
           "baroque pop"
          ],
          [
           "baroque singing"
          ],
          [
           "baroque violin"
          ],
          [
           "baroque woodwind"
          ],
          [
           "bass house"
          ],
          [
           "bass music"
          ],
          [
           "bass trap"
          ],
          [
           "basshall"
          ],
          [
           "bassline"
          ],
          [
           "bath indie"
          ],
          [
           "baton rouge indie"
          ],
          [
           "baton rouge rap"
          ],
          [
           "battle rap"
          ],
          [
           "bay area hip hop"
          ],
          [
           "bay area indie"
          ],
          [
           "bboy"
          ],
          [
           "bc underground hip hop"
          ],
          [
           "beach music"
          ],
          [
           "beat italiano"
          ],
          [
           "beat poetry"
          ],
          [
           "beatboxing"
          ],
          [
           "beatlesque"
          ],
          [
           "bebop"
          ],
          [
           "bedroom pop"
          ],
          [
           "bedroom soul"
          ],
          [
           "belarusian indie"
          ],
          [
           "belarusian pop"
          ],
          [
           "belarusian rock"
          ],
          [
           "belgian classical piano"
          ],
          [
           "belgian contemporary classical"
          ],
          [
           "belgian dance"
          ],
          [
           "belgian edm"
          ],
          [
           "belgian hardcore"
          ],
          [
           "belgian indie"
          ],
          [
           "belgian indie rock"
          ],
          [
           "belgian jazz"
          ],
          [
           "belgian new wave"
          ],
          [
           "belgian pop"
          ],
          [
           "belgian rock"
          ],
          [
           "belgian singer-songwriter"
          ],
          [
           "belgian techno"
          ],
          [
           "belly dance"
          ],
          [
           "bengali folk"
          ],
          [
           "beninese pop"
          ],
          [
           "bergen indie"
          ],
          [
           "berlin minimal techno"
          ],
          [
           "berlin school"
          ],
          [
           "bhajan"
          ],
          [
           "bhangra"
          ],
          [
           "bible"
          ],
          [
           "big band"
          ],
          [
           "big beat"
          ],
          [
           "big room"
          ],
          [
           "binaural"
          ],
          [
           "birdsong"
          ],
          [
           "birmingham grime"
          ],
          [
           "birmingham hip hop"
          ],
          [
           "birmingham metal"
          ],
          [
           "bitpop"
          ],
          [
           "black 'n' roll"
          ],
          [
           "black comedy"
          ],
          [
           "black metal"
          ],
          [
           "black punk"
          ],
          [
           "black thrash"
          ],
          [
           "blackened crust"
          ],
          [
           "blackgaze"
          ],
          [
           "bleep techno"
          ],
          [
           "bluegrass"
          ],
          [
           "bluegrass fiddle"
          ],
          [
           "bluegrass gospel"
          ],
          [
           "blues"
          ],
          [
           "blues latinoamericano"
          ],
          [
           "blues mexicano"
          ],
          [
           "blues rock"
          ],
          [
           "bmore"
          ],
          [
           "bolero"
          ],
          [
           "bolero cubano"
          ],
          [
           "boogaloo"
          ],
          [
           "boogie"
          ],
          [
           "boogie-woogie"
          ],
          [
           "boom bap"
          ],
          [
           "boom bap brasileiro"
          ],
          [
           "bossa nova"
          ],
          [
           "bossa nova jazz"
          ],
          [
           "boston folk"
          ],
          [
           "boston hardcore"
          ],
          [
           "boston hip hop"
          ],
          [
           "boston indie"
          ],
          [
           "boston metal"
          ],
          [
           "boston punk"
          ],
          [
           "boston rock"
          ],
          [
           "bounce"
          ],
          [
           "bouncy house"
          ],
          [
           "bouzouki"
          ],
          [
           "bow pop"
          ],
          [
           "boy band"
          ],
          [
           "boy pop"
          ],
          [
           "boy soprano"
          ],
          [
           "brain waves"
          ],
          [
           "braindance"
          ],
          [
           "brass band"
          ],
          [
           "brass ensemble"
          ],
          [
           "brass quintet"
          ],
          [
           "brazilian boogie"
          ],
          [
           "brazilian classical"
          ],
          [
           "brazilian classical piano"
          ],
          [
           "brazilian contemporary classical"
          ],
          [
           "brazilian edm"
          ],
          [
           "brazilian groove metal"
          ],
          [
           "brazilian hip hop"
          ],
          [
           "brazilian indie"
          ],
          [
           "brazilian jazz"
          ],
          [
           "brazilian metal"
          ],
          [
           "brazilian modern jazz"
          ],
          [
           "brazilian percussion"
          ],
          [
           "brazilian punk"
          ],
          [
           "brazilian reggae"
          ],
          [
           "brazilian rock"
          ],
          [
           "brazilian ska"
          ],
          [
           "brazilian soul"
          ],
          [
           "brazilian thrash metal"
          ],
          [
           "breakbeat"
          ],
          [
           "breakcore"
          ],
          [
           "brega"
          ],
          [
           "breton folk"
          ],
          [
           "brighton indie"
          ],
          [
           "brill building pop"
          ],
          [
           "brisbane indie"
          ],
          [
           "bristol electronic"
          ],
          [
           "bristol indie"
          ],
          [
           "brit funk"
          ],
          [
           "british alternative rock"
          ],
          [
           "british black metal"
          ],
          [
           "british blues"
          ],
          [
           "british children's music"
          ],
          [
           "british choir"
          ],
          [
           "british classical piano"
          ],
          [
           "british comedy"
          ],
          [
           "british contemporary classical"
          ],
          [
           "british dance band"
          ],
          [
           "british death metal"
          ],
          [
           "british experimental"
          ],
          [
           "british folk"
          ],
          [
           "british grindcore"
          ],
          [
           "british indie rock"
          ],
          [
           "british industrial"
          ],
          [
           "british invasion"
          ],
          [
           "british jazz"
          ],
          [
           "british modern classical"
          ],
          [
           "british orchestra"
          ],
          [
           "british post-rock"
          ],
          [
           "british power metal"
          ],
          [
           "british singer-songwriter"
          ],
          [
           "british soul"
          ],
          [
           "british soundtrack"
          ],
          [
           "britpop"
          ],
          [
           "broadway"
          ],
          [
           "broken beat"
          ],
          [
           "bronx hip hop"
          ],
          [
           "brooklyn drill"
          ],
          [
           "brooklyn indie"
          ],
          [
           "brostep"
          ],
          [
           "brutal death metal"
          ],
          [
           "brutal deathcore"
          ],
          [
           "bubble trance"
          ],
          [
           "bubblegrunge"
          ],
          [
           "bubblegum dance"
          ],
          [
           "bubblegum pop"
          ],
          [
           "buffalo hip hop"
          ],
          [
           "buffalo ny indie"
          ],
          [
           "buffalo ny metal"
          ],
          [
           "bulgarian experimental"
          ],
          [
           "burmese traditional"
          ],
          [
           "bush ballad"
          ],
          [
           "c-pop"
          ],
          [
           "c86"
          ],
          [
           "cabaret"
          ],
          [
           "cajun"
          ],
          [
           "calgary indie"
          ],
          [
           "cali rap"
          ],
          [
           "calming instrumental"
          ],
          [
           "calypso"
          ],
          [
           "cambodian rock"
          ],
          [
           "cambridge choir"
          ],
          [
           "cambridgeshire indie"
          ],
          [
           "cameroonian pop"
          ],
          [
           "canadian americana"
          ],
          [
           "canadian blues"
          ],
          [
           "canadian ccm"
          ],
          [
           "canadian celtic"
          ],
          [
           "canadian children's music"
          ],
          [
           "canadian choir"
          ],
          [
           "canadian classical"
          ],
          [
           "canadian classical piano"
          ],
          [
           "canadian comedy"
          ],
          [
           "canadian contemporary country"
          ],
          [
           "canadian contemporary r&b"
          ],
          [
           "canadian country"
          ],
          [
           "canadian electronic"
          ],
          [
           "canadian electropop"
          ],
          [
           "canadian experimental"
          ],
          [
           "canadian folk"
          ],
          [
           "canadian hardcore"
          ],
          [
           "canadian hip hop"
          ],
          [
           "canadian house"
          ],
          [
           "canadian indie"
          ],
          [
           "canadian indie folk"
          ],
          [
           "canadian indigenous"
          ],
          [
           "canadian indigenous hip hop"
          ],
          [
           "canadian latin"
          ],
          [
           "canadian metal"
          ],
          [
           "canadian metalcore"
          ],
          [
           "canadian modern jazz"
          ],
          [
           "canadian pop"
          ],
          [
           "canadian pop punk"
          ],
          [
           "canadian post-hardcore"
          ],
          [
           "canadian post-rock"
          ],
          [
           "canadian psychedelic"
          ],
          [
           "canadian punk"
          ],
          [
           "canadian rock"
          ],
          [
           "canadian rockabilly"
          ],
          [
           "canadian singer-songwriter"
          ],
          [
           "canadian soundtrack"
          ],
          [
           "cancion melodica"
          ],
          [
           "candy pop"
          ],
          [
           "cantautor"
          ],
          [
           "cante flamenco"
          ],
          [
           "canterbury scene"
          ],
          [
           "canto popular uruguayo"
          ],
          [
           "cantopop"
          ],
          [
           "canzone d'autore"
          ],
          [
           "canzone genovese"
          ],
          [
           "canzone napoletana"
          ],
          [
           "cape town indie"
          ],
          [
           "cape verdean folk"
          ],
          [
           "capoeira"
          ],
          [
           "caracas indie"
          ],
          [
           "carnatic"
          ],
          [
           "carnatic instrumental"
          ],
          [
           "carnatic vocal"
          ],
          [
           "cartoon"
          ],
          [
           "cathedral choir"
          ],
          [
           "caucasian classical"
          ],
          [
           "caucasian classical piano"
          ],
          [
           "ccm"
          ],
          [
           "cedm"
          ],
          [
           "cello"
          ],
          [
           "celtic"
          ],
          [
           "celtic harp"
          ],
          [
           "celtic metal"
          ],
          [
           "celtic punk"
          ],
          [
           "celtic rock"
          ],
          [
           "cha-cha-cha"
          ],
          [
           "chakra"
          ],
          [
           "chamame"
          ],
          [
           "chamber choir"
          ],
          [
           "chamber ensemble"
          ],
          [
           "chamber folk"
          ],
          [
           "chamber orchestra"
          ],
          [
           "chamber pop"
          ],
          [
           "chamber psych"
          ],
          [
           "champeta"
          ],
          [
           "channel islands indie"
          ],
          [
           "channel pop"
          ],
          [
           "chanson"
          ],
          [
           "chanson paillarde"
          ],
          [
           "chaotic hardcore"
          ],
          [
           "charanga"
          ],
          [
           "charango"
          ],
          [
           "charlotte nc indie"
          ],
          [
           "charlottesville indie"
          ],
          [
           "chattanooga indie"
          ],
          [
           "chicago blues"
          ],
          [
           "chicago drill"
          ],
          [
           "chicago hardcore"
          ],
          [
           "chicago house"
          ],
          [
           "chicago indie"
          ],
          [
           "chicago pop punk"
          ],
          [
           "chicago punk"
          ],
          [
           "chicago rap"
          ],
          [
           "chicago soul"
          ],
          [
           "chicano punk"
          ],
          [
           "chicano rap"
          ],
          [
           "chicha"
          ],
          [
           "chihuahua indie"
          ],
          [
           "children's choir"
          ],
          [
           "children's folk"
          ],
          [
           "children's music"
          ],
          [
           "children's story"
          ],
          [
           "chilean hardcore"
          ],
          [
           "chilean indie"
          ],
          [
           "chilean rock"
          ],
          [
           "chilena"
          ],
          [
           "chill beats"
          ],
          [
           "chill guitar"
          ],
          [
           "chill lounge"
          ],
          [
           "chill out"
          ],
          [
           "chill pop"
          ],
          [
           "chill r&b"
          ],
          [
           "chillhop"
          ],
          [
           "chillstep"
          ],
          [
           "chillwave"
          ],
          [
           "chinese audiophile"
          ],
          [
           "chinese classical"
          ],
          [
           "chinese classical performance"
          ],
          [
           "chinese classical piano"
          ],
          [
           "chinese electropop"
          ],
          [
           "chinese hip hop"
          ],
          [
           "chinese idol pop"
          ],
          [
           "chinese indie"
          ],
          [
           "chinese indie rock"
          ],
          [
           "chinese instrumental"
          ],
          [
           "chinese jazz"
          ],
          [
           "chinese r&b"
          ],
          [
           "chinese soundtrack"
          ],
          [
           "chinese traditional"
          ],
          [
           "chiptune"
          ],
          [
           "chopped and screwed"
          ],
          [
           "choral"
          ],
          [
           "choro"
          ],
          [
           "christchurch indie"
          ],
          [
           "christelijk"
          ],
          [
           "christian a cappella"
          ],
          [
           "christian alternative rock"
          ],
          [
           "christian dance"
          ],
          [
           "christian hard rock"
          ],
          [
           "christian hardcore"
          ],
          [
           "christian hip hop"
          ],
          [
           "christian indie"
          ],
          [
           "christian metal"
          ],
          [
           "christian metalcore"
          ],
          [
           "christian music"
          ],
          [
           "christian pop"
          ],
          [
           "christian power metal"
          ],
          [
           "christian punk"
          ],
          [
           "christian relaxative"
          ],
          [
           "christian rock"
          ],
          [
           "christian trap"
          ],
          [
           "christian uplift"
          ],
          [
           "christmas instrumental"
          ],
          [
           "christmas product"
          ],
          [
           "chunchaca"
          ],
          [
           "chutney"
          ],
          [
           "cincinnati rap"
          ],
          [
           "cinematic post-rock"
          ],
          [
           "circuit"
          ],
          [
           "circus"
          ],
          [
           "classic afrobeat"
          ],
          [
           "classic arab pop"
          ],
          [
           "classic australian country"
          ],
          [
           "classic belgian pop"
          ],
          [
           "classic bhangra"
          ],
          [
           "classic bollywood"
          ],
          [
           "classic canadian rock"
          ],
          [
           "classic cantopop"
          ],
          [
           "classic colombian pop"
          ],
          [
           "classic country pop"
          ],
          [
           "classic czech pop"
          ],
          [
           "classic danish pop"
          ],
          [
           "classic dubstep"
          ],
          [
           "classic eurovision"
          ],
          [
           "classic finnish pop"
          ],
          [
           "classic french pop"
          ],
          [
           "classic garage rock"
          ],
          [
           "classic girl group"
          ],
          [
           "classic greek pop"
          ],
          [
           "classic hardstyle"
          ],
          [
           "classic icelandic pop"
          ],
          [
           "classic indo pop"
          ],
          [
           "classic iskelma"
          ],
          [
           "classic israeli pop"
          ],
          [
           "classic italian folk pop"
          ],
          [
           "classic italian pop"
          ],
          [
           "classic j-rock"
          ],
          [
           "classic japanese jazz"
          ],
          [
           "classic korean pop"
          ],
          [
           "classic latvian pop"
          ],
          [
           "classic mandopop"
          ],
          [
           "classic norwegian pop"
          ],
          [
           "classic opm"
          ],
          [
           "classic pakistani pop"
          ],
          [
           "classic persian pop"
          ],
          [
           "classic peruvian pop"
          ],
          [
           "classic polish pop"
          ],
          [
           "classic praise"
          ],
          [
           "classic psychedelic rock"
          ],
          [
           "classic punjabi pop"
          ],
          [
           "classic rock"
          ],
          [
           "classic russian pop"
          ],
          [
           "classic russian rock"
          ],
          [
           "classic schlager"
          ],
          [
           "classic soul"
          ],
          [
           "classic soundtrack"
          ],
          [
           "classic swedish pop"
          ],
          [
           "classic thai pop"
          ],
          [
           "classic tunisian pop"
          ],
          [
           "classic turkish pop"
          ],
          [
           "classic uk pop"
          ],
          [
           "classic venezuelan pop"
          ],
          [
           "classical"
          ],
          [
           "classical accordion"
          ],
          [
           "classical baritone"
          ],
          [
           "classical bass"
          ],
          [
           "classical cello"
          ],
          [
           "classical clarinet"
          ],
          [
           "classical contralto"
          ],
          [
           "classical countertenor"
          ],
          [
           "classical era"
          ],
          [
           "classical flute"
          ],
          [
           "classical guitar"
          ],
          [
           "classical harp"
          ],
          [
           "classical horn"
          ],
          [
           "classical mandolin"
          ],
          [
           "classical mezzo-soprano"
          ],
          [
           "classical oboe"
          ],
          [
           "classical organ"
          ],
          [
           "classical performance"
          ],
          [
           "classical piano"
          ],
          [
           "classical piano duo"
          ],
          [
           "classical piano trio"
          ],
          [
           "classical saxophone"
          ],
          [
           "classical soprano"
          ],
          [
           "classical tenor"
          ],
          [
           "classical trumpet"
          ],
          [
           "classify"
          ],
          [
           "clawhammer banjo"
          ],
          [
           "clean comedy"
          ],
          [
           "cleveland metal"
          ],
          [
           "coco"
          ],
          [
           "collage pop"
          ],
          [
           "college a cappella"
          ],
          [
           "colombian hip hop"
          ],
          [
           "colombian pop"
          ],
          [
           "colombian rock"
          ],
          [
           "columbus ohio indie"
          ],
          [
           "comedy"
          ],
          [
           "comedy rap"
          ],
          [
           "comedy rock"
          ],
          [
           "comic"
          ],
          [
           "comic metal"
          ],
          [
           "commons"
          ],
          [
           "complextro"
          ],
          [
           "compositional ambient"
          ],
          [
           "concepcion indie"
          ],
          [
           "concert band"
          ],
          [
           "connecticut hardcore"
          ],
          [
           "connecticut indie"
          ],
          [
           "conscious hip hop"
          ],
          [
           "contemporary choir"
          ],
          [
           "contemporary classical"
          ],
          [
           "contemporary classical piano"
          ],
          [
           "contemporary country"
          ],
          [
           "contemporary folk"
          ],
          [
           "contemporary gospel"
          ],
          [
           "contemporary jazz"
          ],
          [
           "contemporary post-bop"
          ],
          [
           "contemporary vocal jazz"
          ],
          [
           "contrabass"
          ],
          [
           "cool jazz"
          ],
          [
           "copla"
          ],
          [
           "cornish folk"
          ],
          [
           "cornwall indie"
          ],
          [
           "corrido"
          ],
          [
           "corridos cristianos"
          ],
          [
           "corridos tumbados"
          ],
          [
           "corrosion"
          ],
          [
           "cosmic american"
          ],
          [
           "cosmic post-rock"
          ],
          [
           "country"
          ],
          [
           "country blues"
          ],
          [
           "country boogie"
          ],
          [
           "country dawn"
          ],
          [
           "country gospel"
          ],
          [
           "country pop"
          ],
          [
           "country rap"
          ],
          [
           "country road"
          ],
          [
           "country rock"
          ],
          [
           "coverchill"
          ],
          [
           "cowboy western"
          ],
          [
           "cowpunk"
          ],
          [
           "crack rock steady"
          ],
          [
           "croatian folk"
          ],
          [
           "croatian pop"
          ],
          [
           "croatian rock"
          ],
          [
           "crossover thrash"
          ],
          [
           "crunk"
          ],
          [
           "crust punk"
          ],
          [
           "cuarteto"
          ],
          [
           "cuatro venezolano"
          ],
          [
           "cuban alternative"
          ],
          [
           "cuban rumba"
          ],
          [
           "cubaton"
          ],
          [
           "cumbia"
          ],
          [
           "cumbia andina mexicana"
          ],
          [
           "cumbia chilena"
          ],
          [
           "cumbia colombiana regia"
          ],
          [
           "cumbia ecuatoriana"
          ],
          [
           "cumbia funk"
          ],
          [
           "cumbia lagunera"
          ],
          [
           "cumbia paraguaya"
          ],
          [
           "cumbia peruana"
          ],
          [
           "cumbia pop"
          ],
          [
           "cumbia ranchera"
          ],
          [
           "cumbia salvadorena"
          ],
          [
           "cumbia santafesina"
          ],
          [
           "cumbia sonidera"
          ],
          [
           "cumbia villera"
          ],
          [
           "cyberpunk"
          ],
          [
           "cymraeg"
          ],
          [
           "cypriot pop"
          ],
          [
           "czech classical"
          ],
          [
           "czech classical piano"
          ],
          [
           "czech contemporary classical"
          ],
          [
           "d-beat"
          ],
          [
           "dabke"
          ],
          [
           "dakke dak"
          ],
          [
           "dallas indie"
          ],
          [
           "dance pop"
          ],
          [
           "dance rock"
          ],
          [
           "dance-punk"
          ],
          [
           "dancehall"
          ],
          [
           "dangdut"
          ],
          [
           "danish alternative rock"
          ],
          [
           "danish classical"
          ],
          [
           "danish electronic"
          ],
          [
           "danish electropop"
          ],
          [
           "danish hip hop"
          ],
          [
           "danish jazz"
          ],
          [
           "danish metal"
          ],
          [
           "danish pop"
          ],
          [
           "danish pop rock"
          ],
          [
           "danish post-punk"
          ],
          [
           "danish punk"
          ],
          [
           "danish rock"
          ],
          [
           "danish singer-songwriter"
          ],
          [
           "dansband"
          ],
          [
           "danseband"
          ],
          [
           "dansktop"
          ],
          [
           "danspunk"
          ],
          [
           "dark cabaret"
          ],
          [
           "dark clubbing"
          ],
          [
           "dark disco"
          ],
          [
           "dark hardcore"
          ],
          [
           "dark jazz"
          ],
          [
           "dark minimal techno"
          ],
          [
           "dark post-punk"
          ],
          [
           "dark techno"
          ],
          [
           "dark trap"
          ],
          [
           "dark wave"
          ],
          [
           "darksynth"
          ],
          [
           "dayton indie"
          ],
          [
           "dc hardcore"
          ],
          [
           "dc indie"
          ],
          [
           "death 'n' roll"
          ],
          [
           "death metal"
          ],
          [
           "deathcore"
          ],
          [
           "deathgrass"
          ],
          [
           "deathgrind"
          ],
          [
           "deathrash"
          ],
          [
           "deathrock"
          ],
          [
           "deathstep"
          ],
          [
           "deep acoustic pop"
          ],
          [
           "deep adult standards"
          ],
          [
           "deep big room"
          ],
          [
           "deep ccm"
          ],
          [
           "deep christian rock"
          ],
          [
           "deep classic garage rock"
          ],
          [
           "deep comedy"
          ],
          [
           "deep contemporary country"
          ],
          [
           "deep dance pop"
          ],
          [
           "deep delta blues"
          ],
          [
           "deep disco"
          ],
          [
           "deep disco house"
          ],
          [
           "deep dnb"
          ],
          [
           "deep east coast hip hop"
          ],
          [
           "deep euro house"
          ],
          [
           "deep flow"
          ],
          [
           "deep free jazz"
          ],
          [
           "deep freestyle"
          ],
          [
           "deep full on"
          ],
          [
           "deep funk"
          ],
          [
           "deep g funk"
          ],
          [
           "deep gothic post-punk"
          ],
          [
           "deep groove house"
          ],
          [
           "deep house"
          ],
          [
           "deep idm"
          ],
          [
           "deep indian pop"
          ],
          [
           "deep indie singer-songwriter"
          ],
          [
           "deep latin alternative"
          ],
          [
           "deep latin christian"
          ],
          [
           "deep melodic metalcore"
          ],
          [
           "deep minimal techno"
          ],
          [
           "deep motown"
          ],
          [
           "deep new americana"
          ],
          [
           "deep new wave"
          ],
          [
           "deep norteno"
          ],
          [
           "deep northern soul"
          ],
          [
           "deep pop edm"
          ],
          [
           "deep progressive house"
          ],
          [
           "deep psychobilly"
          ],
          [
           "deep punk rock"
          ],
          [
           "deep r&b"
          ],
          [
           "deep ragga"
          ],
          [
           "deep regional mexican"
          ],
          [
           "deep smooth jazz"
          ],
          [
           "deep soft rock"
          ],
          [
           "deep soul house"
          ],
          [
           "deep soundtrack"
          ],
          [
           "deep southern soul"
          ],
          [
           "deep southern trap"
          ],
          [
           "deep space rock"
          ],
          [
           "deep talent show"
          ],
          [
           "deep tech house"
          ],
          [
           "deep techno"
          ],
          [
           "deep tropical house"
          ],
          [
           "deep underground hip hop"
          ],
          [
           "deep uplifting trance"
          ],
          [
           "delta blues"
          ],
          [
           "dembow"
          ],
          [
           "denpa-kei"
          ],
          [
           "denton tx indie"
          ],
          [
           "denver indie"
          ],
          [
           "depressive black metal"
          ],
          [
           "derby indie"
          ],
          [
           "desert blues"
          ],
          [
           "desi hip hop"
          ],
          [
           "desi pop"
          ],
          [
           "destroy techno"
          ],
          [
           "detroit hip hop"
          ],
          [
           "detroit house"
          ],
          [
           "detroit techno"
          ],
          [
           "detroit trap"
          ],
          [
           "detske pisnicky"
          ],
          [
           "detskie pesni"
          ],
          [
           "devon indie"
          ],
          [
           "dfw rap"
          ],
          [
           "dhrupad"
          ],
          [
           "digital hardcore"
          ],
          [
           "dinner jazz"
          ],
          [
           "dirty south rap"
          ],
          [
           "dirty texas rap"
          ],
          [
           "disco"
          ],
          [
           "disco house"
          ],
          [
           "disney"
          ],
          [
           "diva house"
          ],
          [
           "dixieland"
          ],
          [
           "diy emo"
          ],
          [
           "djent"
          ],
          [
           "dmv rap"
          ],
          [
           "dominican pop"
          ],
          [
           "dong-yo"
          ],
          [
           "doo-wop"
          ],
          [
           "doom metal"
          ],
          [
           "double drumming"
          ],
          [
           "downtempo"
          ],
          [
           "drama"
          ],
          [
           "dream pop"
          ],
          [
           "dream trance"
          ],
          [
           "dreamgaze"
          ],
          [
           "dreamo"
          ],
          [
           "drift"
          ],
          [
           "drill"
          ],
          [
           "drill and bass"
          ],
          [
           "drone"
          ],
          [
           "drone folk"
          ],
          [
           "drone metal"
          ],
          [
           "drum and bass"
          ],
          [
           "dub"
          ],
          [
           "dub metal"
          ],
          [
           "dub poetry"
          ],
          [
           "dub techno"
          ],
          [
           "dubstep"
          ],
          [
           "dubsteppe"
          ],
          [
           "duduk"
          ],
          [
           "duluth indie"
          ],
          [
           "dunedin indie"
          ],
          [
           "dunedin sound"
          ],
          [
           "dungeon synth"
          ],
          [
           "duranguense"
          ],
          [
           "dusseldorf electronic"
          ],
          [
           "dutch blues"
          ],
          [
           "dutch cabaret"
          ],
          [
           "dutch classical piano"
          ],
          [
           "dutch death metal"
          ],
          [
           "dutch dnb"
          ],
          [
           "dutch edm"
          ],
          [
           "dutch folk"
          ],
          [
           "dutch hip hop"
          ],
          [
           "dutch house"
          ],
          [
           "dutch indie"
          ],
          [
           "dutch jazz"
          ],
          [
           "dutch metal"
          ],
          [
           "dutch pop"
          ],
          [
           "dutch prog"
          ],
          [
           "dutch rap pop"
          ],
          [
           "dutch rock"
          ],
          [
           "dutch trance"
          ],
          [
           "e6fi"
          ],
          [
           "early american folk"
          ],
          [
           "early avant garde"
          ],
          [
           "early modern classical"
          ],
          [
           "early music"
          ],
          [
           "early music choir"
          ],
          [
           "early music ensemble"
          ],
          [
           "early reggae"
          ],
          [
           "early romantic era"
          ],
          [
           "early synthpop"
          ],
          [
           "early us punk"
          ],
          [
           "east coast hip hop"
          ],
          [
           "east coast reggae"
          ],
          [
           "eastern bloc groove"
          ],
          [
           "easy listening"
          ],
          [
           "easycore"
          ],
          [
           "eau claire indie"
          ],
          [
           "ebm"
          ],
          [
           "ecm-style jazz"
          ],
          [
           "ectofolk"
          ],
          [
           "ecuadorian pop"
          ],
          [
           "edm"
          ],
          [
           "edmonton indie"
          ],
          [
           "egyptian pop"
          ],
          [
           "egyptian traditional"
          ],
          [
           "el paso indie"
          ],
          [
           "electra"
          ],
          [
           "electric bass"
          ],
          [
           "electric blues"
          ],
          [
           "electro"
          ],
          [
           "electro house"
          ],
          [
           "electro jazz"
          ],
          [
           "electro latino"
          ],
          [
           "electro swing"
          ],
          [
           "electro-industrial"
          ],
          [
           "electro-pop francais"
          ],
          [
           "electroclash"
          ],
          [
           "electrofox"
          ],
          [
           "electronic djent"
          ],
          [
           "electronic rock"
          ],
          [
           "electronic trap"
          ],
          [
           "electronica"
          ],
          [
           "electronica argentina"
          ],
          [
           "electropop"
          ],
          [
           "electropowerpop"
          ],
          [
           "emo"
          ],
          [
           "emo mexicano"
          ],
          [
           "emo punk"
          ],
          [
           "emo rap"
          ],
          [
           "emocore"
          ],
          [
           "english baroque"
          ],
          [
           "english indie rock"
          ],
          [
           "english renaissance"
          ],
          [
           "enka"
          ],
          [
           "entehno"
          ],
          [
           "environmental"
          ],
          [
           "epic doom"
          ],
          [
           "epicore"
          ],
          [
           "erhu"
          ],
          [
           "escape room"
          ],
          [
           "esperanto"
          ],
          [
           "essex indie"
          ],
          [
           "estonian hip hop"
          ],
          [
           "estonian pop"
          ],
          [
           "ethereal wave"
          ],
          [
           "etherpop"
          ],
          [
           "ethio-jazz"
          ],
          [
           "ethiopian pop"
          ],
          [
           "ethnomusicology"
          ],
          [
           "ethnotronica"
          ],
          [
           "eugene indie"
          ],
          [
           "euphoric hardstyle"
          ],
          [
           "eurobeat"
          ],
          [
           "eurodance"
          ],
          [
           "europop"
          ],
          [
           "euroska"
          ],
          [
           "eurovision"
          ],
          [
           "exotica"
          ],
          [
           "experimental"
          ],
          [
           "experimental ambient"
          ],
          [
           "experimental big band"
          ],
          [
           "experimental dub"
          ],
          [
           "experimental folk"
          ],
          [
           "experimental guitar"
          ],
          [
           "experimental hip hop"
          ],
          [
           "experimental house"
          ],
          [
           "experimental indie"
          ],
          [
           "experimental jazz"
          ],
          [
           "experimental pop"
          ],
          [
           "experimental rock"
          ],
          [
           "experimental vocal"
          ],
          [
           "fado"
          ],
          [
           "family gospel"
          ],
          [
           "faroese pop"
          ],
          [
           "fast melodic punk"
          ],
          [
           "fidget house"
          ],
          [
           "filmi"
          ],
          [
           "filter house"
          ],
          [
           "filthstep"
          ],
          [
           "final fantasy"
          ],
          [
           "fingerstyle"
          ],
          [
           "finnish alternative rock"
          ],
          [
           "finnish classical"
          ],
          [
           "finnish contemporary classical"
          ],
          [
           "finnish death metal"
          ],
          [
           "finnish edm"
          ],
          [
           "finnish hard rock"
          ],
          [
           "finnish heavy metal"
          ],
          [
           "finnish metal"
          ],
          [
           "finnish power metal"
          ],
          [
           "finnish soul"
          ],
          [
           "flamenco"
          ],
          [
           "flamenco guitar"
          ],
          [
           "flick hop"
          ],
          [
           "flint hip hop"
          ],
          [
           "float house"
          ],
          [
           "florida death metal"
          ],
          [
           "florida rap"
          ],
          [
           "fluxwork"
          ],
          [
           "fo jing"
          ],
          [
           "focus"
          ],
          [
           "focus beats"
          ],
          [
           "focus trance"
          ],
          [
           "folclor afrocolombiano"
          ],
          [
           "folclor colombiano"
          ],
          [
           "folclore extremeno"
          ],
          [
           "folclore jujeno"
          ],
          [
           "folclore navarra"
          ],
          [
           "folclore salteno"
          ],
          [
           "folclore tucumano"
          ],
          [
           "folk"
          ],
          [
           "folk metal"
          ],
          [
           "folk punk"
          ],
          [
           "folk rock"
          ],
          [
           "folk rock italiano"
          ],
          [
           "folk-pop"
          ],
          [
           "folklore argentino"
          ],
          [
           "folklore boliviano"
          ],
          [
           "folklore chileno"
          ],
          [
           "folklore ecuatoriano"
          ],
          [
           "folklore peruano"
          ],
          [
           "folklore venezolano"
          ],
          [
           "folklore veracruzano"
          ],
          [
           "folkmusik"
          ],
          [
           "folktronica"
          ],
          [
           "footwork"
          ],
          [
           "forro"
          ],
          [
           "forro tradicional"
          ],
          [
           "fort worth indie"
          ],
          [
           "fourth world"
          ],
          [
           "francoton"
          ],
          [
           "freak folk"
          ],
          [
           "freakbeat"
          ],
          [
           "free folk"
          ],
          [
           "free improvisation"
          ],
          [
           "free jazz"
          ],
          [
           "freestyle"
          ],
          [
           "french baroque"
          ],
          [
           "french classical piano"
          ],
          [
           "french contemporary classical"
          ],
          [
           "french death metal"
          ],
          [
           "french dnb"
          ],
          [
           "french hip hop"
          ],
          [
           "french indie folk"
          ],
          [
           "french indie pop"
          ],
          [
           "french indietronica"
          ],
          [
           "french jazz"
          ],
          [
           "french metal"
          ],
          [
           "french movie tunes"
          ],
          [
           "french opera"
          ],
          [
           "french orchestra"
          ],
          [
           "french pop"
          ],
          [
           "french post-punk"
          ],
          [
           "french psychedelic"
          ],
          [
           "french reggae"
          ],
          [
           "french rock"
          ],
          [
           "french romanticism"
          ],
          [
           "french shoegaze"
          ],
          [
           "french soundtrack"
          ],
          [
           "french synthpop"
          ],
          [
           "french techno"
          ],
          [
           "frenchcore"
          ],
          [
           "full on"
          ],
          [
           "funana"
          ],
          [
           "funeral doom"
          ],
          [
           "funk"
          ],
          [
           "funk 150 bpm"
          ],
          [
           "funk carioca"
          ],
          [
           "funk das antigas"
          ],
          [
           "funk metal"
          ],
          [
           "funk mexicano"
          ],
          [
           "funk ostentacao"
          ],
          [
           "funk paulista"
          ],
          [
           "funk pop"
          ],
          [
           "funk rock"
          ],
          [
           "funky breaks"
          ],
          [
           "funky tech house"
          ],
          [
           "future bass"
          ],
          [
           "future funk"
          ],
          [
           "future garage"
          ],
          [
           "future house"
          ],
          [
           "future rock"
          ],
          [
           "futurepop"
          ],
          [
           "g funk"
          ],
          [
           "gabba"
          ],
          [
           "gabonese pop"
          ],
          [
           "gaian doom"
          ],
          [
           "gainesville indie"
          ],
          [
           "gaita zuliana"
          ],
          [
           "galante era"
          ],
          [
           "gamelan"
          ],
          [
           "gaming dubstep"
          ],
          [
           "gaming edm"
          ],
          [
           "gangster rap"
          ],
          [
           "garage house"
          ],
          [
           "garage pop"
          ],
          [
           "garage psych"
          ],
          [
           "garage punk"
          ],
          [
           "garage punk blues"
          ],
          [
           "garage rock"
          ],
          [
           "garage rock revival"
          ],
          [
           "gauze pop"
          ],
          [
           "gbvfi"
          ],
          [
           "geek folk"
          ],
          [
           "geek rock"
          ],
          [
           "georgian folk"
          ],
          [
           "german alternative rock"
          ],
          [
           "german baroque"
          ],
          [
           "german choir"
          ],
          [
           "german classical piano"
          ],
          [
           "german country"
          ],
          [
           "german dance"
          ],
          [
           "german hard rock"
          ],
          [
           "german heavy metal"
          ],
          [
           "german house"
          ],
          [
           "german indie"
          ],
          [
           "german jazz"
          ],
          [
           "german literature"
          ],
          [
           "german metal"
          ],
          [
           "german oi"
          ],
          [
           "german opera"
          ],
          [
           "german orchestra"
          ],
          [
           "german pop"
          ],
          [
           "german pop rock"
          ],
          [
           "german post-hardcore"
          ],
          [
           "german power metal"
          ],
          [
           "german punk"
          ],
          [
           "german renaissance"
          ],
          [
           "german rock"
          ],
          [
           "german romanticism"
          ],
          [
           "german show tunes"
          ],
          [
           "german soundtrack"
          ],
          [
           "german techno"
          ],
          [
           "german thrash metal"
          ],
          [
           "german trance"
          ],
          [
           "german underground rap"
          ],
          [
           "ghanaian hip hop"
          ],
          [
           "ghanaian traditional"
          ],
          [
           "ghazal"
          ],
          [
           "ghent indie"
          ],
          [
           "girl group"
          ],
          [
           "glam metal"
          ],
          [
           "glam punk"
          ],
          [
           "glam rock"
          ],
          [
           "glee club"
          ],
          [
           "glitch"
          ],
          [
           "glitch hop"
          ],
          [
           "glitch pop"
          ],
          [
           "glitchcore"
          ],
          [
           "go-go"
          ],
          [
           "goregrind"
          ],
          [
           "gospel"
          ],
          [
           "gospel antigas"
          ],
          [
           "gospel blues"
          ],
          [
           "gospel italiano"
          ],
          [
           "gospel r&b"
          ],
          [
           "gospel rap"
          ],
          [
           "gospel singers"
          ],
          [
           "gospel soul"
          ],
          [
           "gothabilly"
          ],
          [
           "gothenburg indie"
          ],
          [
           "gothenburg metal"
          ],
          [
           "gothic alternative"
          ],
          [
           "gothic americana"
          ],
          [
           "gothic black metal"
          ],
          [
           "gothic metal"
          ],
          [
           "gothic post-punk"
          ],
          [
           "gothic rock"
          ],
          [
           "gothic symphonic metal"
          ],
          [
           "gqom"
          ],
          [
           "grand rapids indie"
          ],
          [
           "grave wave"
          ],
          [
           "greek clarinet"
          ],
          [
           "greek contemporary classical"
          ],
          [
           "greek folk"
          ],
          [
           "greek guitar"
          ],
          [
           "greek house"
          ],
          [
           "greek jazz"
          ],
          [
           "greek pop"
          ],
          [
           "greek swing"
          ],
          [
           "gregorian chant"
          ],
          [
           "grime"
          ],
          [
           "grindcore"
          ],
          [
           "griot"
          ],
          [
           "groove metal"
          ],
          [
           "groove room"
          ],
          [
           "grunge"
          ],
          [
           "grunge pop"
          ],
          [
           "grupera"
          ],
          [
           "gruperas inmortales"
          ],
          [
           "guadalajara indie"
          ],
          [
           "guam indie"
          ],
          [
           "guaracha"
          ],
          [
           "guatemalan pop"
          ],
          [
           "guidance"
          ],
          [
           "guinean pop"
          ],
          [
           "guitarra argentina"
          ],
          [
           "guitarra clasica"
          ],
          [
           "guitarra portuguesa"
          ],
          [
           "gujarati garba"
          ],
          [
           "gujarati pop"
          ],
          [
           "guzheng"
          ],
          [
           "gymcore"
          ],
          [
           "gypsy"
          ],
          [
           "gypsy jazz"
          ],
          [
           "gypsy punk"
          ],
          [
           "haitian traditional"
          ],
          [
           "halifax indie"
          ],
          [
           "halloween"
          ],
          [
           "hamburg electronic"
          ],
          [
           "hammered dulcimer"
          ],
          [
           "hammond organ"
          ],
          [
           "hands up"
          ],
          [
           "hangpan"
          ],
          [
           "happy hardcore"
          ],
          [
           "hard alternative"
          ],
          [
           "hard bop"
          ],
          [
           "hard minimal techno"
          ],
          [
           "hard rock"
          ],
          [
           "hard rock brasileiro"
          ],
          [
           "hardcore"
          ],
          [
           "hardcore hip hop"
          ],
          [
           "hardcore punk"
          ],
          [
           "hardcore techno"
          ],
          [
           "hardstyle"
          ],
          [
           "harlem hip hop"
          ],
          [
           "harlem renaissance"
          ],
          [
           "harmonica blues"
          ],
          [
           "harmonica jazz"
          ],
          [
           "harp"
          ],
          [
           "harpsichord"
          ],
          [
           "haryanvi pop"
          ],
          [
           "hauntology"
          ],
          [
           "hawaiian"
          ],
          [
           "hawaiian hip hop"
          ],
          [
           "hawaiian indie"
          ],
          [
           "healing"
          ],
          [
           "heartland rock"
          ],
          [
           "hi-nrg"
          ],
          [
           "highlife"
          ],
          [
           "hindi hip hop"
          ],
          [
           "hindi indie"
          ],
          [
           "hindustani classical"
          ],
          [
           "hindustani instrumental"
          ],
          [
           "hindustani vocal"
          ],
          [
           "hip hop"
          ],
          [
           "hip hop cubano"
          ],
          [
           "hip house"
          ],
          [
           "hip pop"
          ],
          [
           "hiplife"
          ],
          [
           "histoire pour enfants"
          ],
          [
           "historic classical performance"
          ],
          [
           "historic orchestral performance"
          ],
          [
           "historic piano performance"
          ],
          [
           "historic string quartet"
          ],
          [
           "historical keyboard"
          ],
          [
           "historically informed performance"
          ],
          [
           "hoerspiel"
          ],
          [
           "hokkien pop"
          ],
          [
           "hollywood"
          ],
          [
           "hong kong hip hop"
          ],
          [
           "hong kong indie"
          ],
          [
           "hong kong rock"
          ],
          [
           "honky tonk"
          ],
          [
           "honky-tonk piano"
          ],
          [
           "hopebeat"
          ],
          [
           "horror punk"
          ],
          [
           "horror synth"
          ],
          [
           "horrorcore"
          ],
          [
           "house"
          ],
          [
           "houston rap"
          ],
          [
           "huapango"
          ],
          [
           "huayno"
          ],
          [
           "hula"
          ],
          [
           "humppa"
          ],
          [
           "hungarian choir"
          ],
          [
           "hungarian classical performance"
          ],
          [
           "hungarian classical piano"
          ],
          [
           "hungarian contemporary classical"
          ],
          [
           "hungarian edm"
          ],
          [
           "hungarian folk"
          ],
          [
           "hungarian pop"
          ],
          [
           "hungarian rock"
          ],
          [
           "hungarian techno"
          ],
          [
           "hurdy-gurdy"
          ],
          [
           "hyperpop"
          ],
          [
           "hyphy"
          ],
          [
           "icelandic classical"
          ],
          [
           "icelandic electronic"
          ],
          [
           "icelandic experimental"
          ],
          [
           "icelandic folk"
          ],
          [
           "icelandic indie"
          ],
          [
           "icelandic jazz"
          ],
          [
           "icelandic pop"
          ],
          [
           "icelandic rock"
          ],
          [
           "idaho indie"
          ],
          [
           "idol"
          ],
          [
           "idol rock"
          ],
          [
           "ilahiler"
          ],
          [
           "ilocano pop"
          ],
          [
           "impressionism"
          ],
          [
           "indian classical"
          ],
          [
           "indian edm"
          ],
          [
           "indian folk"
          ],
          [
           "indian fusion"
          ],
          [
           "indian indie"
          ],
          [
           "indian instrumental"
          ],
          [
           "indian jazz"
          ],
          [
           "indiana hip hop"
          ],
          [
           "indie anthem-folk"
          ],
          [
           "indie cafe pop"
          ],
          [
           "indie deutschrap"
          ],
          [
           "indie dream pop"
          ],
          [
           "indie electronica"
          ],
          [
           "indie electropop"
          ],
          [
           "indie folk"
          ],
          [
           "indie game soundtrack"
          ],
          [
           "indie garage rock"
          ],
          [
           "indie hip hop"
          ],
          [
           "indie jazz"
          ],
          [
           "indie pop"
          ],
          [
           "indie pop rap"
          ],
          [
           "indie poptimism"
          ],
          [
           "indie psych-pop"
          ],
          [
           "indie punk"
          ],
          [
           "indie quebecois"
          ],
          [
           "indie r&b"
          ],
          [
           "indie rock"
          ],
          [
           "indie rock mexicano"
          ],
          [
           "indie rockism"
          ],
          [
           "indie shoegaze"
          ],
          [
           "indie singer-songwriter"
          ],
          [
           "indie soul"
          ],
          [
           "indie surf"
          ],
          [
           "indie triste"
          ],
          [
           "indiecoustica"
          ],
          [
           "indietronica"
          ],
          [
           "indonesian hip hop"
          ],
          [
           "indonesian indie"
          ],
          [
           "indonesian pop"
          ],
          [
           "indonesian r&b"
          ],
          [
           "indonesian worship"
          ],
          [
           "industrial"
          ],
          [
           "industrial hardcore"
          ],
          [
           "industrial hip hop"
          ],
          [
           "industrial metal"
          ],
          [
           "industrial rock"
          ],
          [
           "indy indie"
          ],
          [
           "instrumental acoustic guitar"
          ],
          [
           "instrumental bluegrass"
          ],
          [
           "instrumental funk"
          ],
          [
           "instrumental grime"
          ],
          [
           "instrumental math rock"
          ],
          [
           "instrumental post-rock"
          ],
          [
           "instrumental progressive metal"
          ],
          [
           "instrumental rock"
          ],
          [
           "instrumental soul"
          ],
          [
           "instrumental stoner rock"
          ],
          [
           "instrumental surf"
          ],
          [
           "intelligent dance music"
          ],
          [
           "iowa hip hop"
          ],
          [
           "irish accordion"
          ],
          [
           "irish ballad"
          ],
          [
           "irish banjo"
          ],
          [
           "irish classical"
          ],
          [
           "irish country"
          ],
          [
           "irish dance"
          ],
          [
           "irish fiddle"
          ],
          [
           "irish folk"
          ],
          [
           "irish hip hop"
          ],
          [
           "irish indie"
          ],
          [
           "irish metal"
          ],
          [
           "irish pop"
          ],
          [
           "irish pub song"
          ],
          [
           "irish rock"
          ],
          [
           "irish singer-songwriter"
          ],
          [
           "iskelma"
          ],
          [
           "islamic recitation"
          ],
          [
           "isle of wight indie"
          ],
          [
           "israeli classical"
          ],
          [
           "israeli classical piano"
          ],
          [
           "israeli folk"
          ],
          [
           "israeli hip hop"
          ],
          [
           "israeli mediterranean"
          ],
          [
           "israeli pop"
          ],
          [
           "israeli rock"
          ],
          [
           "israeli singer-songwriter"
          ],
          [
           "israeli techno"
          ],
          [
           "italian adult pop"
          ],
          [
           "italian baritone"
          ],
          [
           "italian baroque"
          ],
          [
           "italian baroque ensemble"
          ],
          [
           "italian bass"
          ],
          [
           "italian blues"
          ],
          [
           "italian classical guitar"
          ],
          [
           "italian classical piano"
          ],
          [
           "italian contemporary jazz"
          ],
          [
           "italian disco"
          ],
          [
           "italian gothic"
          ],
          [
           "italian gothic metal"
          ],
          [
           "italian indie pop"
          ],
          [
           "italian jazz"
          ],
          [
           "italian library music"
          ],
          [
           "italian mandolin"
          ],
          [
           "italian metal"
          ],
          [
           "italian mezzo-soprano"
          ],
          [
           "italian modern prog"
          ],
          [
           "italian opera"
          ],
          [
           "italian orchestra"
          ],
          [
           "italian pop rock"
          ],
          [
           "italian power metal"
          ],
          [
           "italian progressive metal"
          ],
          [
           "italian progressive rock"
          ],
          [
           "italian renaissance"
          ],
          [
           "italian romanticism"
          ],
          [
           "italian soprano"
          ],
          [
           "italian soundtrack"
          ],
          [
           "italian techno"
          ],
          [
           "italian tenor"
          ],
          [
           "italian violin"
          ],
          [
           "italo dance"
          ],
          [
           "italo house"
          ],
          [
           "j-acoustic"
          ],
          [
           "j-ambient"
          ],
          [
           "j-dance"
          ],
          [
           "j-division"
          ],
          [
           "j-idol"
          ],
          [
           "j-metal"
          ],
          [
           "j-pixie"
          ],
          [
           "j-pop"
          ],
          [
           "j-pop girl group"
          ],
          [
           "j-poprock"
          ],
          [
           "j-punk"
          ],
          [
           "j-reggae"
          ],
          [
           "j-rock"
          ],
          [
           "jacksonville indie"
          ],
          [
           "jam band"
          ],
          [
           "jamgrass"
          ],
          [
           "jamtronica"
          ],
          [
           "jangle pop"
          ],
          [
           "japanese alternative rock"
          ],
          [
           "japanese chillhop"
          ],
          [
           "japanese city pop"
          ],
          [
           "japanese classical"
          ],
          [
           "japanese classical performance"
          ],
          [
           "japanese classical piano"
          ],
          [
           "japanese concert band"
          ],
          [
           "japanese dream pop"
          ],
          [
           "japanese electronic"
          ],
          [
           "japanese electropop"
          ],
          [
           "japanese emo"
          ],
          [
           "japanese experimental"
          ],
          [
           "japanese folk"
          ],
          [
           "japanese garage rock"
          ],
          [
           "japanese girl punk"
          ],
          [
           "japanese heavy metal"
          ],
          [
           "japanese idm"
          ],
          [
           "japanese indie folk"
          ],
          [
           "japanese indie rock"
          ],
          [
           "japanese instrumental"
          ],
          [
           "japanese jazz"
          ],
          [
           "japanese jazz fusion"
          ],
          [
           "japanese jazztronica"
          ],
          [
           "japanese metalcore"
          ],
          [
           "japanese new wave"
          ],
          [
           "japanese piano"
          ],
          [
           "japanese pop punk"
          ],
          [
           "japanese post-hardcore"
          ],
          [
           "japanese power metal"
          ],
          [
           "japanese prog"
          ],
          [
           "japanese psychedelic"
          ],
          [
           "japanese punk rock"
          ],
          [
           "japanese r&b"
          ],
          [
           "japanese rockabilly"
          ],
          [
           "japanese singer-songwriter"
          ],
          [
           "japanese soundtrack"
          ],
          [
           "japanese traditional"
          ],
          [
           "japanese vgm"
          ],
          [
           "japanese vocal jazz"
          ],
          [
           "jawaiian"
          ],
          [
           "jazz"
          ],
          [
           "jazz accordion"
          ],
          [
           "jazz blues"
          ],
          [
           "jazz boom bap"
          ],
          [
           "jazz brass"
          ],
          [
           "jazz chileno"
          ],
          [
           "jazz clarinet"
          ],
          [
           "jazz colombiano"
          ],
          [
           "jazz cubano"
          ],
          [
           "jazz double bass"
          ],
          [
           "jazz drums"
          ],
          [
           "jazz flute"
          ],
          [
           "jazz funk"
          ],
          [
           "jazz fusion"
          ],
          [
           "jazz guitar"
          ],
          [
           "jazz harp"
          ],
          [
           "jazz metal"
          ],
          [
           "jazz mexicano"
          ],
          [
           "jazz orchestra"
          ],
          [
           "jazz organ"
          ],
          [
           "jazz piano"
          ],
          [
           "jazz pop"
          ],
          [
           "jazz quartet"
          ],
          [
           "jazz rap"
          ],
          [
           "jazz rock"
          ],
          [
           "jazz saxophone"
          ],
          [
           "jazz trio"
          ],
          [
           "jazz trombone"
          ],
          [
           "jazz trumpet"
          ],
          [
           "jazz tuba"
          ],
          [
           "jazz venezolano"
          ],
          [
           "jazz vibraphone"
          ],
          [
           "jazz violin"
          ],
          [
           "jazztronica"
          ],
          [
           "jewish cantorial"
          ],
          [
           "jewish hip hop"
          ],
          [
           "jig and reel"
          ],
          [
           "jordanian pop"
          ],
          [
           "joropo"
          ],
          [
           "jovem guarda"
          ],
          [
           "jug band"
          ],
          [
           "juju"
          ],
          [
           "jump blues"
          ],
          [
           "jump up"
          ],
          [
           "k-indie"
          ],
          [
           "k-pop"
          ],
          [
           "k-pop boy group"
          ],
          [
           "k-pop girl group"
          ],
          [
           "k-rap"
          ],
          [
           "kabarett"
          ],
          [
           "kabyle"
          ],
          [
           "kaneka"
          ],
          [
           "kannada bhava geethe"
          ],
          [
           "kansas city hip hop"
          ],
          [
           "kashmiri pop"
          ],
          [
           "kawaii future bass"
          ],
          [
           "kawaii metal"
          ],
          [
           "kayokyoku"
          ],
          [
           "kc indie"
          ],
          [
           "kent indie"
          ],
          [
           "kentucky hip hop"
          ],
          [
           "kentucky indie"
          ],
          [
           "kentucky metal"
          ],
          [
           "kentucky mountain folk"
          ],
          [
           "kentucky punk"
          ],
          [
           "kentucky roots"
          ],
          [
           "keroncong"
          ],
          [
           "khaleeji iraqi"
          ],
          [
           "khmer"
          ],
          [
           "kids dance party"
          ],
          [
           "kindie rock"
          ],
          [
           "kingston on indie"
          ],
          [
           "kirtan"
          ],
          [
           "kiwi rock"
          ],
          [
           "kizomba antigas"
          ],
          [
           "kleine hoerspiel"
          ],
          [
           "klezmer"
          ],
          [
           "knoxville indie"
          ],
          [
           "kodomo no ongaku"
          ],
          [
           "kolsche karneval"
          ],
          [
           "komedi"
          ],
          [
           "kompa"
          ],
          [
           "kora"
          ],
          [
           "korean classical performance"
          ],
          [
           "korean classical piano"
          ],
          [
           "korean indie rock"
          ],
          [
           "korean mask singer"
          ],
          [
           "korean pop"
          ],
          [
           "korean r&b"
          ],
          [
           "korean trap"
          ],
          [
           "koto"
          ],
          [
           "krautrock"
          ],
          [
           "kundiman"
          ],
          [
           "la indie"
          ],
          [
           "la pop"
          ],
          [
           "laboratorio"
          ],
          [
           "lafayette indie"
          ],
          [
           "laiko"
          ],
          [
           "lancashire indie"
          ],
          [
           "lancaster pa indie"
          ],
          [
           "late romantic era"
          ],
          [
           "latin"
          ],
          [
           "latin afrobeat"
          ],
          [
           "latin alternative"
          ],
          [
           "latin american classical piano"
          ],
          [
           "latin arena pop"
          ],
          [
           "latin christian"
          ],
          [
           "latin classical"
          ],
          [
           "latin funk"
          ],
          [
           "latin hip hop"
          ],
          [
           "latin house"
          ],
          [
           "latin jazz"
          ],
          [
           "latin metal"
          ],
          [
           "latin pop"
          ],
          [
           "latin rock"
          ],
          [
           "latin ska"
          ],
          [
           "latin soundtrack"
          ],
          [
           "latin talent show"
          ],
          [
           "latin tech house"
          ],
          [
           "latin viral pop"
          ],
          [
           "latin worship"
          ],
          [
           "latincore"
          ],
          [
           "latino comedy"
          ],
          [
           "latintronica"
          ],
          [
           "latinx alternative"
          ],
          [
           "latvian pop"
          ],
          [
           "lds"
          ],
          [
           "lds youth"
          ],
          [
           "lebanese pop"
          ],
          [
           "leicester indie"
          ],
          [
           "lexington ky indie"
          ],
          [
           "lgbtq+ hip hop"
          ],
          [
           "library music"
          ],
          [
           "liedermacher"
          ],
          [
           "light music"
          ],
          [
           "lilith"
          ],
          [
           "liquid funk"
          ],
          [
           "lithuanian electronic"
          ],
          [
           "liverpool indie"
          ],
          [
           "livetronica"
          ],
          [
           "lldm"
          ],
          [
           "lo star"
          ],
          [
           "lo-fi"
          ],
          [
           "lo-fi beats"
          ],
          [
           "lo-fi brasileiro"
          ],
          [
           "lo-fi chill"
          ],
          [
           "lo-fi cover"
          ],
          [
           "lo-fi emo"
          ],
          [
           "lo-fi house"
          ],
          [
           "lo-fi indie"
          ],
          [
           "lo-fi vgm"
          ],
          [
           "london rap"
          ],
          [
           "louisiana blues"
          ],
          [
           "louisiana metal"
          ],
          [
           "louisville indie"
          ],
          [
           "louisville underground"
          ],
          [
           "lounge"
          ],
          [
           "louvor"
          ],
          [
           "lovers rock"
          ],
          [
           "lullaby"
          ],
          [
           "lund indie"
          ],
          [
           "lute"
          ],
          [
           "macedonian folk"
          ],
          [
           "madchester"
          ],
          [
           "madrigal"
          ],
          [
           "magyar alternative"
          ],
          [
           "maine hip hop"
          ],
          [
           "maine indie"
          ],
          [
           "mainland chinese pop"
          ],
          [
           "makossa"
          ],
          [
           "malaysian mandopop"
          ],
          [
           "malaysian pop"
          ],
          [
           "malian blues"
          ],
          [
           "mallet"
          ],
          [
           "malmo indie"
          ],
          [
           "mambo"
          ],
          [
           "manchester hip hop"
          ],
          [
           "manchester indie"
          ],
          [
           "mande pop"
          ],
          [
           "mandolin"
          ],
          [
           "mandopop"
          ],
          [
           "manguebeat"
          ],
          [
           "manila sound"
          ],
          [
           "manitoba indie"
          ],
          [
           "mantra"
          ],
          [
           "marathi pop"
          ],
          [
           "marathi traditional"
          ],
          [
           "marching band"
          ],
          [
           "mariachi"
          ],
          [
           "mariachi cristiano"
          ],
          [
           "marimba orquesta"
          ],
          [
           "martial industrial"
          ],
          [
           "mashup"
          ],
          [
           "math rock"
          ],
          [
           "mathcore"
          ],
          [
           "mbalax"
          ],
          [
           "medieval"
          ],
          [
           "medieval folk"
          ],
          [
           "medieval rock"
          ],
          [
           "meditation"
          ],
          [
           "melancholia"
          ],
          [
           "melbourne bounce"
          ],
          [
           "melbourne bounce international"
          ],
          [
           "melbourne indie"
          ],
          [
           "mellow gold"
          ],
          [
           "melodic death metal"
          ],
          [
           "melodic deathcore"
          ],
          [
           "melodic dubstep"
          ],
          [
           "melodic groove metal"
          ],
          [
           "melodic hard rock"
          ],
          [
           "melodic hardcore"
          ],
          [
           "melodic metal"
          ],
          [
           "melodic metalcore"
          ],
          [
           "melodic power metal"
          ],
          [
           "melodic rap"
          ],
          [
           "melodic thrash"
          ],
          [
           "meme rap"
          ],
          [
           "memphis americana"
          ],
          [
           "memphis blues"
          ],
          [
           "memphis hip hop"
          ],
          [
           "memphis indie"
          ],
          [
           "memphis soul"
          ],
          [
           "mento"
          ],
          [
           "merengue"
          ],
          [
           "merengue tipico"
          ],
          [
           "merseybeat"
          ],
          [
           "messianic praise"
          ],
          [
           "metal"
          ],
          [
           "metal guitar"
          ],
          [
           "metal mineiro"
          ],
          [
           "metalcore"
          ],
          [
           "metropopolis"
          ],
          [
           "mexican classic rock"
          ],
          [
           "mexican classical"
          ],
          [
           "mexican hip hop"
          ],
          [
           "mexican indie"
          ],
          [
           "mexican pop"
          ],
          [
           "mexican pop punk"
          ],
          [
           "mexican rock"
          ],
          [
           "mexican rock-and-roll"
          ],
          [
           "mexican son"
          ],
          [
           "mexican traditional"
          ],
          [
           "miami bass"
          ],
          [
           "miami hip hop"
          ],
          [
           "miami indie"
          ],
          [
           "miami metal"
          ],
          [
           "michigan indie"
          ],
          [
           "microhouse"
          ],
          [
           "microtonal"
          ],
          [
           "middle earth"
          ],
          [
           "middle east hip hop"
          ],
          [
           "middle eastern traditional"
          ],
          [
           "midwest americana"
          ],
          [
           "midwest emo"
          ],
          [
           "military cadence"
          ],
          [
           "military rap"
          ],
          [
           "milwaukee indie"
          ],
          [
           "mindfulness"
          ],
          [
           "minecraft"
          ],
          [
           "minimal melodic techno"
          ],
          [
           "minimal tech house"
          ],
          [
           "minimal techno"
          ],
          [
           "minimal wave"
          ],
          [
           "minimalism"
          ],
          [
           "minneapolis indie"
          ],
          [
           "minneapolis metal"
          ],
          [
           "minneapolis punk"
          ],
          [
           "minneapolis sound"
          ],
          [
           "minnesota hip hop"
          ],
          [
           "mississippi hip hop"
          ],
          [
           "mississippi indie"
          ],
          [
           "mizrahi"
          ],
          [
           "mod revival"
          ],
          [
           "modern alternative pop"
          ],
          [
           "modern alternative rock"
          ],
          [
           "modern big band"
          ],
          [
           "modern blues"
          ],
          [
           "modern blues rock"
          ],
          [
           "modern bollywood"
          ],
          [
           "modern country rock"
          ],
          [
           "modern dream pop"
          ],
          [
           "modern folk rock"
          ],
          [
           "modern funk"
          ],
          [
           "modern hard rock"
          ],
          [
           "modern indie pop"
          ],
          [
           "modern jazz piano"
          ],
          [
           "modern jazz trio"
          ],
          [
           "modern old-time"
          ],
          [
           "modern performance"
          ],
          [
           "modern power pop"
          ],
          [
           "modern psychedelic folk"
          ],
          [
           "modern reggae"
          ],
          [
           "modern rock"
          ],
          [
           "modern salsa"
          ],
          [
           "modern ska punk"
          ],
          [
           "modern southern rock"
          ],
          [
           "modern string quartet"
          ],
          [
           "modern swing"
          ],
          [
           "modern uplift"
          ],
          [
           "modular synth"
          ],
          [
           "moldovan pop"
          ],
          [
           "mollywood"
          ],
          [
           "mongolian hip hop"
          ],
          [
           "mongolian pop"
          ],
          [
           "monterrey indie"
          ],
          [
           "montreal indie"
          ],
          [
           "moog"
          ],
          [
           "moombahton"
          ],
          [
           "morna"
          ],
          [
           "motivation"
          ],
          [
           "motown"
          ],
          [
           "mountain dulcimer"
          ],
          [
           "movie tunes"
          ],
          [
           "mpb"
          ],
          [
           "music box"
          ],
          [
           "music hall"
          ],
          [
           "musica afroperuana"
          ],
          [
           "musica alagoana"
          ],
          [
           "musica andina"
          ],
          [
           "musica andina colombiana"
          ],
          [
           "musica antigua"
          ],
          [
           "musica aragonesa"
          ],
          [
           "musica ayacuchana"
          ],
          [
           "musica canaria"
          ],
          [
           "musica costarricense"
          ],
          [
           "musica costena"
          ],
          [
           "musica cristiana guatemalteca"
          ],
          [
           "musica de fondo"
          ],
          [
           "musica gaucha tradicionalista"
          ],
          [
           "musica hondurena"
          ],
          [
           "musica infantil"
          ],
          [
           "musica jibara"
          ],
          [
           "musica juiz-forana"
          ],
          [
           "musica llanera"
          ],
          [
           "musica nicaraguense"
          ],
          [
           "musica para criancas"
          ],
          [
           "musica para ninos"
          ],
          [
           "musica paraibana"
          ],
          [
           "musica piemonteisa"
          ],
          [
           "musica popular colombiana"
          ],
          [
           "musica popular mineira"
          ],
          [
           "musica popular paraense"
          ],
          [
           "musica potosina"
          ],
          [
           "musica prehispanica"
          ],
          [
           "musica sarda"
          ],
          [
           "musica tradicional cubana"
          ],
          [
           "musica tropical guatemalteca"
          ],
          [
           "musical advocacy"
          ],
          [
           "musikkorps"
          ],
          [
           "musique concrete"
          ],
          [
           "musique peule"
          ],
          [
           "musique pour enfant quebecois"
          ],
          [
           "musique pour enfants"
          ],
          [
           "musique touareg"
          ],
          [
           "muzica populara"
          ],
          [
           "muzika l'yeladim"
          ],
          [
           "naija worship"
          ],
          [
           "nantes indie"
          ],
          [
           "narodna muzika"
          ],
          [
           "nashville americana"
          ],
          [
           "nashville hip hop"
          ],
          [
           "nashville indie"
          ],
          [
           "nashville singer-songwriter"
          ],
          [
           "nashville sound"
          ],
          [
           "native american"
          ],
          [
           "native american contemporary"
          ],
          [
           "native american flute"
          ],
          [
           "native american hip hop"
          ],
          [
           "native american spiritual"
          ],
          [
           "navajo"
          ],
          [
           "nederlandse hardstyle"
          ],
          [
           "nederpop"
          ],
          [
           "neo classical metal"
          ],
          [
           "neo kyma"
          ],
          [
           "neo mellow"
          ],
          [
           "neo r&b"
          ],
          [
           "neo soul"
          ],
          [
           "neo-classical"
          ],
          [
           "neo-kraut"
          ],
          [
           "neo-pagan"
          ],
          [
           "neo-progressive"
          ],
          [
           "neo-psychedelic"
          ],
          [
           "neo-rockabilly"
          ],
          [
           "neo-singer-songwriter"
          ],
          [
           "neo-synthpop"
          ],
          [
           "neo-trad metal"
          ],
          [
           "neo-traditional bluegrass"
          ],
          [
           "neo-traditional country"
          ],
          [
           "neoclassical darkwave"
          ],
          [
           "neoclassicism"
          ],
          [
           "neofolk"
          ],
          [
           "neon pop punk"
          ],
          [
           "neotango"
          ],
          [
           "nepali indie"
          ],
          [
           "nepali pop"
          ],
          [
           "nerdcore"
          ],
          [
           "neue deutsche harte"
          ],
          [
           "neue deutsche todeskunst"
          ],
          [
           "neue deutsche welle"
          ],
          [
           "neurofunk"
          ],
          [
           "new age"
          ],
          [
           "new age piano"
          ],
          [
           "new americana"
          ],
          [
           "new beat"
          ],
          [
           "new comedy"
          ],
          [
           "new england americana"
          ],
          [
           "new england emo"
          ],
          [
           "new french touch"
          ],
          [
           "new isolationism"
          ],
          [
           "new jack swing"
          ],
          [
           "new jersey hardcore"
          ],
          [
           "new jersey indie"
          ],
          [
           "new jersey punk"
          ],
          [
           "new jersey rap"
          ],
          [
           "new mexico music"
          ],
          [
           "new orleans blues"
          ],
          [
           "new orleans funk"
          ],
          [
           "new orleans indie"
          ],
          [
           "new orleans jazz"
          ],
          [
           "new orleans rap"
          ],
          [
           "new rave"
          ],
          [
           "new romantic"
          ],
          [
           "new tribe"
          ],
          [
           "new wave"
          ],
          [
           "new wave of thrash metal"
          ],
          [
           "new wave pop"
          ],
          [
           "new weird america"
          ],
          [
           "new york death metal"
          ],
          [
           "new york drill"
          ],
          [
           "new zealand classical"
          ],
          [
           "newcastle indie"
          ],
          [
           "newcastle nsw indie"
          ],
          [
           "nigerian hip hop"
          ],
          [
           "nigerian pop"
          ],
          [
           "nightcore"
          ],
          [
           "nightrun"
          ],
          [
           "ninja"
          ],
          [
           "nintendocore"
          ],
          [
           "nisiotika"
          ],
          [
           "nl folk"
          ],
          [
           "no wave"
          ],
          [
           "noise pop"
          ],
          [
           "noise punk"
          ],
          [
           "noise rock"
          ],
          [
           "nordic classical piano"
          ],
          [
           "nordic contemporary classical"
          ],
          [
           "nordic folk"
          ],
          [
           "nordic house"
          ],
          [
           "nordic orchestra"
          ],
          [
           "nordic post-rock"
          ],
          [
           "nordic soundtrack"
          ],
          [
           "norman ok indie"
          ],
          [
           "norsk lovsang"
          ],
          [
           "norteno"
          ],
          [
           "norteno-sax"
          ],
          [
           "north carolina emo"
          ],
          [
           "north carolina hip hop"
          ],
          [
           "north carolina indie"
          ],
          [
           "north carolina metal"
          ],
          [
           "north carolina roots"
          ],
          [
           "north east england indie"
          ],
          [
           "northern irish indie"
          ],
          [
           "northern irish punk"
          ],
          [
           "northern soul"
          ],
          [
           "norwegian black metal"
          ],
          [
           "norwegian choir"
          ],
          [
           "norwegian classical"
          ],
          [
           "norwegian contemporary jazz"
          ],
          [
           "norwegian death metal"
          ],
          [
           "norwegian experimental"
          ],
          [
           "norwegian hip hop"
          ],
          [
           "norwegian indie"
          ],
          [
           "norwegian jazz"
          ],
          [
           "norwegian metal"
          ],
          [
           "norwegian pop"
          ],
          [
           "norwegian pop rap"
          ],
          [
           "norwegian punk rock"
          ],
          [
           "norwegian rock"
          ],
          [
           "norwegian singer-songwriter"
          ],
          [
           "norwegian space disco"
          ],
          [
           "nottingham indie"
          ],
          [
           "nouvelle chanson francaise"
          ],
          [
           "nova canco"
          ],
          [
           "nova mpb"
          ],
          [
           "nova musica pernambucana"
          ],
          [
           "novelty"
          ],
          [
           "nu age"
          ],
          [
           "nu disco"
          ],
          [
           "nu gaze"
          ],
          [
           "nu jazz"
          ],
          [
           "nu metal"
          ],
          [
           "nu skool breaks"
          ],
          [
           "nu-cumbia"
          ],
          [
           "nu-metalcore"
          ],
          [
           "nubian traditional"
          ],
          [
           "nueva cancion"
          ],
          [
           "nueva ola chilena"
          ],
          [
           "nueva ola peruana"
          ],
          [
           "nuevo flamenco"
          ],
          [
           "nuevo folklore mexicano"
          ],
          [
           "nuevo regional mexicano"
          ],
          [
           "nuevo tango"
          ],
          [
           "nursery"
          ],
          [
           "nwobhm"
          ],
          [
           "nwothm"
          ],
          [
           "ny roots"
          ],
          [
           "nyc pop"
          ],
          [
           "nyc rap"
          ],
          [
           "nyhc"
          ],
          [
           "nz christian"
          ],
          [
           "nz folk"
          ],
          [
           "nz hardcore"
          ],
          [
           "nz indie"
          ],
          [
           "nz pop"
          ],
          [
           "nz punk"
          ],
          [
           "nz reggae"
          ],
          [
           "nz singer-songwriter"
          ],
          [
           "oakland hip hop"
          ],
          [
           "oakland indie"
          ],
          [
           "oc indie"
          ],
          [
           "oc rap"
          ],
          [
           "oceania soundtrack"
          ],
          [
           "ohio hip hop"
          ],
          [
           "ohio indie"
          ],
          [
           "oi"
          ],
          [
           "ok indie"
          ],
          [
           "okc indie"
          ],
          [
           "okinawan pop"
          ],
          [
           "oklahoma country"
          ],
          [
           "old school dancehall"
          ],
          [
           "old school hip hop"
          ],
          [
           "old school rap francais"
          ],
          [
           "old school thrash"
          ],
          [
           "old school uk hip hop"
          ],
          [
           "old west"
          ],
          [
           "old-time"
          ],
          [
           "old-time fiddle"
          ],
          [
           "olympia wa indie"
          ],
          [
           "omaha indie"
          ],
          [
           "one-person band"
          ],
          [
           "ontario indie"
          ],
          [
           "opera"
          ],
          [
           "opera chorus"
          ],
          [
           "opera metal"
          ],
          [
           "operatic pop"
          ],
          [
           "operetta"
          ],
          [
           "opm"
          ],
          [
           "oratory"
          ],
          [
           "orchestra"
          ],
          [
           "orchestral performance"
          ],
          [
           "orebro indie"
          ],
          [
           "organic ambient"
          ],
          [
           "organic electronic"
          ],
          [
           "organic house"
          ],
          [
           "orgcore"
          ],
          [
           "oriental classical"
          ],
          [
           "orkney and shetland folk"
          ],
          [
           "orlando indie"
          ],
          [
           "orquesta tipica"
          ],
          [
           "orthodox chant"
          ],
          [
           "oshare kei"
          ],
          [
           "otacore"
          ],
          [
           "oth indie"
          ],
          [
           "ottawa indie"
          ],
          [
           "ottawa rap"
          ],
          [
           "oud"
          ],
          [
           "outer hip hop"
          ],
          [
           "outlaw country"
          ],
          [
           "outsider"
          ],
          [
           "outsider house"
          ],
          [
           "oxford choir"
          ],
          [
           "oxford indie"
          ],
          [
           "p funk"
          ],
          [
           "pagan black metal"
          ],
          [
           "pagode"
          ],
          [
           "pagode baiano"
          ],
          [
           "paisley underground"
          ],
          [
           "pakistani folk"
          ],
          [
           "pakistani hip hop"
          ],
          [
           "pakistani pop"
          ],
          [
           "palestinian pop"
          ],
          [
           "palm desert scene"
          ],
          [
           "panamanian pop"
          ],
          [
           "panamanian rock"
          ],
          [
           "panpipe"
          ],
          [
           "papuri"
          ],
          [
           "parody"
          ],
          [
           "partido alto"
          ],
          [
           "partyschlager"
          ],
          [
           "pei indie"
          ],
          [
           "permanent wave"
          ],
          [
           "perreo"
          ],
          [
           "persian pop"
          ],
          [
           "persian traditional"
          ],
          [
           "perth indie"
          ],
          [
           "peruvian hip hop"
          ],
          [
           "peruvian rock"
          ],
          [
           "pet calming"
          ],
          [
           "philly indie"
          ],
          [
           "philly rap"
          ],
          [
           "philly soul"
          ],
          [
           "phoenix indie"
          ],
          [
           "phonk"
          ],
          [
           "pianissimo"
          ],
          [
           "piano blues"
          ],
          [
           "piano cover"
          ],
          [
           "piano mpb"
          ],
          [
           "piano rock"
          ],
          [
           "pibroch"
          ],
          [
           "piedmont blues"
          ],
          [
           "pinoy hip hop"
          ],
          [
           "pinoy indie"
          ],
          [
           "pinoy pop punk"
          ],
          [
           "pinoy praise"
          ],
          [
           "pinoy r&b"
          ],
          [
           "pinoy reggae"
          ],
          [
           "pinoy rock"
          ],
          [
           "pinoy traditional"
          ],
          [
           "pinoy trap"
          ],
          [
           "pirate"
          ],
          [
           "pittsburgh indie"
          ],
          [
           "pittsburgh rap"
          ],
          [
           "pittsburgh rock"
          ],
          [
           "pixie"
          ],
          [
           "plunderphonics"
          ],
          [
           "poetry"
          ],
          [
           "polca paraguaya"
          ],
          [
           "polish blues"
          ],
          [
           "polish classical"
          ],
          [
           "polish classical piano"
          ],
          [
           "polish contemporary classical"
          ],
          [
           "polish jazz"
          ],
          [
           "polish modern jazz"
          ],
          [
           "polish pop"
          ],
          [
           "polish post-rock"
          ],
          [
           "polish reggae"
          ],
          [
           "polish rock"
          ],
          [
           "political hip hop"
          ],
          [
           "polka"
          ],
          [
           "polynesian hip hop"
          ],
          [
           "polynesian pop"
          ],
          [
           "polyphony"
          ],
          [
           "pony"
          ],
          [
           "pop"
          ],
          [
           "pop argentino"
          ],
          [
           "pop chileno"
          ],
          [
           "pop dance"
          ],
          [
           "pop edm"
          ],
          [
           "pop electronico"
          ],
          [
           "pop emo"
          ],
          [
           "pop flamenco"
          ],
          [
           "pop folk"
          ],
          [
           "pop house"
          ],
          [
           "pop nacional"
          ],
          [
           "pop nacional antigas"
          ],
          [
           "pop peruano"
          ],
          [
           "pop punk"
          ],
          [
           "pop quebecois"
          ],
          [
           "pop r&b"
          ],
          [
           "pop rap"
          ],
          [
           "pop reggaeton"
          ],
          [
           "pop rock"
          ],
          [
           "pop rock brasileiro"
          ],
          [
           "pop romantico"
          ],
          [
           "pop soul"
          ],
          [
           "pop venezolano"
          ],
          [
           "pop violin"
          ],
          [
           "popgaze"
          ],
          [
           "popping"
          ],
          [
           "pops orchestra"
          ],
          [
           "popwave"
          ],
          [
           "pornogrind"
          ],
          [
           "porro"
          ],
          [
           "portland hip hop"
          ],
          [
           "portland indie"
          ],
          [
           "portland metal"
          ],
          [
           "portland punk"
          ],
          [
           "portuguese early music"
          ],
          [
           "post-disco"
          ],
          [
           "post-disco soul"
          ],
          [
           "post-doom metal"
          ],
          [
           "post-grunge"
          ],
          [
           "post-hardcore"
          ],
          [
           "post-metal"
          ],
          [
           "post-minimalism"
          ],
          [
           "post-post-hardcore"
          ],
          [
           "post-punk"
          ],
          [
           "post-punk argentina"
          ],
          [
           "post-rock"
          ],
          [
           "post-romantic era"
          ],
          [
           "post-screamo"
          ],
          [
           "post-teen pop"
          ],
          [
           "power metal"
          ],
          [
           "power pop"
          ],
          [
           "power thrash"
          ],
          [
           "power-pop punk"
          ],
          [
           "praise"
          ],
          [
           "prepared piano"
          ],
          [
           "preschool children's music"
          ],
          [
           "prog quebec"
          ],
          [
           "progressive alternative"
          ],
          [
           "progressive bluegrass"
          ],
          [
           "progressive deathcore"
          ],
          [
           "progressive electro house"
          ],
          [
           "progressive groove metal"
          ],
          [
           "progressive house"
          ],
          [
           "progressive jazz fusion"
          ],
          [
           "progressive metal"
          ],
          [
           "progressive metalcore"
          ],
          [
           "progressive post-hardcore"
          ],
          [
           "progressive power metal"
          ],
          [
           "progressive psytrance"
          ],
          [
           "progressive rock"
          ],
          [
           "progressive sludge"
          ],
          [
           "progressive trance"
          ],
          [
           "progressive trance house"
          ],
          [
           "progressive uplifting trance"
          ],
          [
           "proto-rap"
          ],
          [
           "proto-techno"
          ],
          [
           "protopunk"
          ],
          [
           "psalmen"
          ],
          [
           "psicodelia brasileira"
          ],
          [
           "psybass"
          ],
          [
           "psychedelic blues-rock"
          ],
          [
           "psychedelic doom"
          ],
          [
           "psychedelic folk"
          ],
          [
           "psychedelic folk rock"
          ],
          [
           "psychedelic hip hop"
          ],
          [
           "psychedelic pop"
          ],
          [
           "psychedelic punk"
          ],
          [
           "psychedelic rock"
          ],
          [
           "psychedelic soul"
          ],
          [
           "psychedelic trance"
          ],
          [
           "psychill"
          ],
          [
           "psychobilly"
          ],
          [
           "pub rock"
          ],
          [
           "puerto rican folk"
          ],
          [
           "puerto rican pop"
          ],
          [
           "puerto rican rock"
          ],
          [
           "punjabi folk"
          ],
          [
           "punjabi hip hop"
          ],
          [
           "punjabi pop"
          ],
          [
           "punk"
          ],
          [
           "punk 'n' roll"
          ],
          [
           "punk blues"
          ],
          [
           "punk rock italiano"
          ],
          [
           "punk rock mexicano"
          ],
          [
           "punta"
          ],
          [
           "purple sound"
          ],
          [
           "qawwali"
          ],
          [
           "quartetto d'archi"
          ],
          [
           "quatuor a cordes"
          ],
          [
           "quebec death metal"
          ],
          [
           "quebec indie"
          ],
          [
           "queens hip hop"
          ],
          [
           "queer country"
          ],
          [
           "queercore"
          ],
          [
           "quiet storm"
          ],
          [
           "quran"
          ],
          [
           "r&b"
          ],
          [
           "r&b en espanol"
          ],
          [
           "rabindra sangeet"
          ],
          [
           "radio symphony"
          ],
          [
           "ragtime"
          ],
          [
           "rai"
          ],
          [
           "ranchera"
          ],
          [
           "rap"
          ],
          [
           "rap chileno"
          ],
          [
           "rap conciencia"
          ],
          [
           "rap conscient"
          ],
          [
           "rap cristiano"
          ],
          [
           "rap dominicano"
          ],
          [
           "rap kreyol"
          ],
          [
           "rap latina"
          ],
          [
           "rap metal"
          ],
          [
           "rap nacional antigo"
          ],
          [
           "rap napoletano"
          ],
          [
           "rap rock"
          ],
          [
           "rap underground mexicano"
          ],
          [
           "rare groove"
          ],
          [
           "rave"
          ],
          [
           "rawstyle"
          ],
          [
           "reading"
          ],
          [
           "reading indie"
          ],
          [
           "rebel blues"
          ],
          [
           "rebetiko"
          ],
          [
           "recorder"
          ],
          [
           "red dirt"
          ],
          [
           "redneck"
          ],
          [
           "reggae"
          ],
          [
           "reggae en espanol"
          ],
          [
           "reggae fusion"
          ],
          [
           "reggae rock"
          ],
          [
           "reggaeton"
          ],
          [
           "reggaeton colombiano"
          ],
          [
           "reggaeton cristiano"
          ],
          [
           "reggaeton flow"
          ],
          [
           "reggaeton mexicano"
          ],
          [
           "regional mexican"
          ],
          [
           "relaxative"
          ],
          [
           "renaissance"
          ],
          [
           "rennes indie"
          ],
          [
           "retro metal"
          ],
          [
           "retro soul"
          ],
          [
           "rhode island indie"
          ],
          [
           "rhode island rap"
          ],
          [
           "rhythm and blues"
          ],
          [
           "riddim"
          ],
          [
           "rif"
          ],
          [
           "riot grrrl"
          ],
          [
           "ritmo kombina"
          ],
          [
           "rochester mn indie"
          ],
          [
           "rochester ny indie"
          ],
          [
           "rock"
          ],
          [
           "rock alternatif francais"
          ],
          [
           "rock alternativo brasileiro"
          ],
          [
           "rock andaluz"
          ],
          [
           "rock baiano"
          ],
          [
           "rock brasiliense"
          ],
          [
           "rock chapin"
          ],
          [
           "rock cristiano"
          ],
          [
           "rock drums"
          ],
          [
           "rock en espanol"
          ],
          [
           "rock gaucho"
          ],
          [
           "rock independant francais"
          ],
          [
           "rock kapak"
          ],
          [
           "rock keyboard"
          ],
          [
           "rock nacional"
          ],
          [
           "rock nacional brasileiro"
          ],
          [
           "rock pernambucano"
          ],
          [
           "rock progressif francais"
          ],
          [
           "rock steady"
          ],
          [
           "rock urbano mexicano"
          ],
          [
           "rock-and-roll"
          ],
          [
           "rockabilly"
          ],
          [
           "rockabilly en espanol"
          ],
          [
           "roda de samba"
          ],
          [
           "romanian classical piano"
          ],
          [
           "romanian electronic"
          ],
          [
           "romanian folk"
          ],
          [
           "romanian pop"
          ],
          [
           "romanian rock"
          ],
          [
           "romantico"
          ],
          [
           "roots americana"
          ],
          [
           "roots reggae"
          ],
          [
           "roots rock"
          ],
          [
           "roots worship"
          ],
          [
           "rosary"
          ],
          [
           "rumba"
          ],
          [
           "rumba congolaise"
          ],
          [
           "rune folk"
          ],
          [
           "russian alternative rock"
          ],
          [
           "russian ccm"
          ],
          [
           "russian chanson"
          ],
          [
           "russian choir"
          ],
          [
           "russian classical piano"
          ],
          [
           "russian dance"
          ],
          [
           "russian edm"
          ],
          [
           "russian folk"
          ],
          [
           "russian folk rock"
          ],
          [
           "russian jazz"
          ],
          [
           "russian metal"
          ],
          [
           "russian metalcore"
          ],
          [
           "russian modern classical"
          ],
          [
           "russian orchestra"
          ],
          [
           "russian pop"
          ],
          [
           "russian post-punk"
          ],
          [
           "russian punk"
          ],
          [
           "russian rock"
          ],
          [
           "russian romanticism"
          ],
          [
           "russian shoegaze"
          ],
          [
           "russian trance"
          ],
          [
           "rva indie"
          ],
          [
           "rwandan traditional"
          ],
          [
           "ryukyu ongaku"
          ],
          [
           "sacramento hip hop"
          ],
          [
           "sacramento indie"
          ],
          [
           "sacred steel"
          ],
          [
           "sad rap"
          ],
          [
           "salsa"
          ],
          [
           "salsa choke"
          ],
          [
           "salsa colombiana"
          ],
          [
           "salsa cubana"
          ],
          [
           "salsa international"
          ],
          [
           "salsa peruana"
          ],
          [
           "salsa puertorriquena"
          ],
          [
           "salsa venezolana"
          ],
          [
           "samba"
          ],
          [
           "samba de roda"
          ],
          [
           "samba moderno"
          ],
          [
           "samba-enredo"
          ],
          [
           "samba-jazz"
          ],
          [
           "samba-rock"
          ],
          [
           "san antonio rap"
          ],
          [
           "san diego indie"
          ],
          [
           "san diego rap"
          ],
          [
           "san marcos tx indie"
          ],
          [
           "sandalwood"
          ],
          [
           "sarod"
          ],
          [
           "saskatchewan indie"
          ],
          [
           "scam rap"
          ],
          [
           "scandinavian r&b"
          ],
          [
           "scandipop"
          ],
          [
           "schlager"
          ],
          [
           "scorecore"
          ],
          [
           "scottish electronic"
          ],
          [
           "scottish fiddle"
          ],
          [
           "scottish folk"
          ],
          [
           "scottish hip hop"
          ],
          [
           "scottish indie"
          ],
          [
           "scottish jazz"
          ],
          [
           "scottish metal"
          ],
          [
           "scottish new wave"
          ],
          [
           "scottish rock"
          ],
          [
           "scottish singer-songwriter"
          ],
          [
           "scratch"
          ],
          [
           "scream rap"
          ],
          [
           "screamo"
          ],
          [
           "seattle hip hop"
          ],
          [
           "seattle indie"
          ],
          [
           "second line"
          ],
          [
           "sefardi"
          ],
          [
           "serbian electronic"
          ],
          [
           "serialism"
          ],
          [
           "sertanejo"
          ],
          [
           "sertanejo pop"
          ],
          [
           "sertanejo tradicional"
          ],
          [
           "sertanejo universitario"
          ],
          [
           "sevdah"
          ],
          [
           "sevillanas"
          ],
          [
           "shaabi"
          ],
          [
           "shabad"
          ],
          [
           "shakuhachi"
          ],
          [
           "shamanic"
          ],
          [
           "shanty"
          ],
          [
           "sheffield indie"
          ],
          [
           "shibuya-kei"
          ],
          [
           "shimmer pop"
          ],
          [
           "shimmer psych"
          ],
          [
           "shiver pop"
          ],
          [
           "shoegaze"
          ],
          [
           "show tunes"
          ],
          [
           "shred"
          ],
          [
           "shush"
          ],
          [
           "sierreno"
          ],
          [
           "singaporean mandopop"
          ],
          [
           "singaporean pop"
          ],
          [
           "singaporean singer-songwriter"
          ],
          [
           "singer-songwriter"
          ],
          [
           "singing bowl"
          ],
          [
           "sitar"
          ],
          [
           "ska"
          ],
          [
           "ska argentino"
          ],
          [
           "ska chileno"
          ],
          [
           "ska jazz"
          ],
          [
           "ska mexicano"
          ],
          [
           "ska punk"
          ],
          [
           "ska revival"
          ],
          [
           "skate punk"
          ],
          [
           "skiffle"
          ],
          [
           "skramz"
          ],
          [
           "sky room"
          ],
          [
           "slack-key guitar"
          ],
          [
           "slam poetry"
          ],
          [
           "slamming deathcore"
          ],
          [
           "slavic folk metal"
          ],
          [
           "slayer"
          ],
          [
           "slc indie"
          ],
          [
           "sleaze rock"
          ],
          [
           "sleep"
          ],
          [
           "slovak electronic"
          ],
          [
           "slovenian electronic"
          ],
          [
           "slovenian metal"
          ],
          [
           "slow game"
          ],
          [
           "slowcore"
          ],
          [
           "sludge metal"
          ],
          [
           "small room"
          ],
          [
           "smooth jazz"
          ],
          [
           "smooth saxophone"
          ],
          [
           "smooth soul"
          ],
          [
           "soca"
          ],
          [
           "socal pop punk"
          ],
          [
           "social media pop"
          ],
          [
           "soda pop"
          ],
          [
           "soft rock"
          ],
          [
           "solipsynthm"
          ],
          [
           "son cubano"
          ],
          [
           "son cubano clasico"
          ],
          [
           "son jarocho"
          ],
          [
           "sophisti-pop"
          ],
          [
           "sotalaulut"
          ],
          [
           "soukous"
          ],
          [
           "soul"
          ],
          [
           "soul blues"
          ],
          [
           "soul flow"
          ],
          [
           "soul jazz"
          ],
          [
           "souldies"
          ],
          [
           "sound"
          ],
          [
           "sound art"
          ],
          [
           "sound effects"
          ],
          [
           "sound team"
          ],
          [
           "soundtrack"
          ],
          [
           "south african alternative"
          ],
          [
           "south african choral"
          ],
          [
           "south african country"
          ],
          [
           "south african hip hop"
          ],
          [
           "south african house"
          ],
          [
           "south african jazz"
          ],
          [
           "south african pop"
          ],
          [
           "south african pop dance"
          ],
          [
           "south african rock"
          ],
          [
           "south carolina hip hop"
          ],
          [
           "south carolina indie"
          ],
          [
           "south carolina metal"
          ],
          [
           "south dakota indie"
          ],
          [
           "southampton indie"
          ],
          [
           "southern americana"
          ],
          [
           "southern gospel"
          ],
          [
           "southern hip hop"
          ],
          [
           "southern metal"
          ],
          [
           "southern rock"
          ],
          [
           "southern soul"
          ],
          [
           "southern soul blues"
          ],
          [
           "soviet synthpop"
          ],
          [
           "sovietwave"
          ],
          [
           "spa"
          ],
          [
           "space age pop"
          ],
          [
           "space ambient"
          ],
          [
           "space rock"
          ],
          [
           "spanish baroque"
          ],
          [
           "spanish classical"
          ],
          [
           "spanish classical piano"
          ],
          [
           "spanish folk metal"
          ],
          [
           "spanish hip hop"
          ],
          [
           "spanish indie pop"
          ],
          [
           "spanish invasion"
          ],
          [
           "spanish metal"
          ],
          [
           "spanish modern rock"
          ],
          [
           "spanish new wave"
          ],
          [
           "spanish noise pop"
          ],
          [
           "spanish pop"
          ],
          [
           "spanish pop rock"
          ],
          [
           "spanish renaissance"
          ],
          [
           "spanish rock"
          ],
          [
           "spanish synthpop"
          ],
          [
           "spanish techno"
          ],
          [
           "speed garage"
          ],
          [
           "speed metal"
          ],
          [
           "speedcore"
          ],
          [
           "spiritual hip hop"
          ],
          [
           "spiritual jazz"
          ],
          [
           "spirituals"
          ],
          [
           "springfield mo indie"
          ],
          [
           "spytrack"
          ],
          [
           "st louis rap"
          ],
          [
           "steampunk"
          ],
          [
           "steel guitar"
          ],
          [
           "steelpan"
          ],
          [
           "stl indie"
          ],
          [
           "stomp and flutter"
          ],
          [
           "stomp and holler"
          ],
          [
           "stomp and whittle"
          ],
          [
           "stomp pop"
          ],
          [
           "stoner metal"
          ],
          [
           "stoner rock"
          ],
          [
           "straight edge"
          ],
          [
           "straight-ahead jazz"
          ],
          [
           "street band"
          ],
          [
           "street punk"
          ],
          [
           "streichquartett"
          ],
          [
           "stride"
          ],
          [
           "string band"
          ],
          [
           "string folk"
          ],
          [
           "string orchestra"
          ],
          [
           "string quartet"
          ],
          [
           "strut"
          ],
          [
           "substep"
          ],
          [
           "sudanese pop"
          ],
          [
           "sufi"
          ],
          [
           "sufi chant"
          ],
          [
           "sunshine pop"
          ],
          [
           "supergroup"
          ],
          [
           "surf music"
          ],
          [
           "surf punk"
          ],
          [
           "svensk progg"
          ],
          [
           "swamp blues"
          ],
          [
           "swamp pop"
          ],
          [
           "swamp rock"
          ],
          [
           "swancore"
          ],
          [
           "swedish alternative rock"
          ],
          [
           "swedish americana"
          ],
          [
           "swedish black metal"
          ],
          [
           "swedish choir"
          ],
          [
           "swedish country"
          ],
          [
           "swedish dancehall"
          ],
          [
           "swedish death metal"
          ],
          [
           "swedish doom metal"
          ],
          [
           "swedish electronic"
          ],
          [
           "swedish electropop"
          ],
          [
           "swedish eurodance"
          ],
          [
           "swedish garage rock"
          ],
          [
           "swedish hard rock"
          ],
          [
           "swedish hardcore"
          ],
          [
           "swedish heavy metal"
          ],
          [
           "swedish house"
          ],
          [
           "swedish idol pop"
          ],
          [
           "swedish indie folk"
          ],
          [
           "swedish indie pop"
          ],
          [
           "swedish indie rock"
          ],
          [
           "swedish jazz"
          ],
          [
           "swedish jazz orkester"
          ],
          [
           "swedish melodic rock"
          ],
          [
           "swedish metal"
          ],
          [
           "swedish metalcore"
          ],
          [
           "swedish pop"
          ],
          [
           "swedish post-hardcore"
          ],
          [
           "swedish power metal"
          ],
          [
           "swedish prog"
          ],
          [
           "swedish progressive metal"
          ],
          [
           "swedish rock-and-roll"
          ],
          [
           "swedish singer-songwriter"
          ],
          [
           "swedish soul"
          ],
          [
           "swedish stoner rock"
          ],
          [
           "swedish synth"
          ],
          [
           "swedish synthpop"
          ],
          [
           "swedish tropical house"
          ],
          [
           "swedish underground rap"
          ],
          [
           "swing"
          ],
          [
           "swing italiano"
          ],
          [
           "swing revival"
          ],
          [
           "swiss black metal"
          ],
          [
           "swiss classical piano"
          ],
          [
           "swiss country"
          ],
          [
           "swiss metal"
          ],
          [
           "swiss pop"
          ],
          [
           "swiss rock"
          ],
          [
           "swiss worship"
          ],
          [
           "sydney indie"
          ],
          [
           "symphonic black metal"
          ],
          [
           "symphonic metal"
          ],
          [
           "symphonic rock"
          ],
          [
           "synth funk"
          ],
          [
           "synthpop"
          ],
          [
           "synthwave"
          ],
          [
           "syrian pop"
          ],
          [
           "tabla"
          ],
          [
           "tagalog rap"
          ],
          [
           "tagalog worship"
          ],
          [
           "taiwan campus folk"
          ],
          [
           "taiwan classical performance"
          ],
          [
           "taiwan hip hop"
          ],
          [
           "taiwan indie"
          ],
          [
           "taiwan pop"
          ],
          [
           "taiwan singer-songwriter"
          ],
          [
           "tajik pop"
          ],
          [
           "talent show"
          ],
          [
           "tamaulipas indie"
          ],
          [
           "tamaulipas rap"
          ],
          [
           "tamborazo"
          ],
          [
           "tamil hip hop"
          ],
          [
           "tamil pop"
          ],
          [
           "tamil worship"
          ],
          [
           "tampa indie"
          ],
          [
           "tango"
          ],
          [
           "tango cancion"
          ],
          [
           "tape club"
          ],
          [
           "tech house"
          ],
          [
           "technical death metal"
          ],
          [
           "technical deathcore"
          ],
          [
           "technical groove metal"
          ],
          [
           "technical melodic death metal"
          ],
          [
           "technical thrash"
          ],
          [
           "techno"
          ],
          [
           "techno kayo"
          ],
          [
           "tecnobanda"
          ],
          [
           "teen pop"
          ],
          [
           "tejano"
          ],
          [
           "tempe indie"
          ],
          [
           "tennessee hip hop"
          ],
          [
           "tennessee metal"
          ],
          [
           "tex-mex"
          ],
          [
           "texas blues"
          ],
          [
           "texas country"
          ],
          [
           "texas latin rap"
          ],
          [
           "texas pop punk"
          ],
          [
           "texas punk"
          ],
          [
           "thai folk"
          ],
          [
           "thai folk rock"
          ],
          [
           "thai idol"
          ],
          [
           "thai indie rock"
          ],
          [
           "thai pop"
          ],
          [
           "thall"
          ],
          [
           "theme"
          ],
          [
           "theremin"
          ],
          [
           "thrash core"
          ],
          [
           "thrash metal"
          ],
          [
           "timba"
          ],
          [
           "tin pan alley"
          ],
          [
           "tipico"
          ],
          [
           "tolkien metal"
          ],
          [
           "tollywood"
          ],
          [
           "tone"
          ],
          [
           "torch song"
          ],
          [
           "toronto indie"
          ],
          [
           "toronto rap"
          ],
          [
           "trad jazz catala"
          ],
          [
           "traditional bluegrass"
          ],
          [
           "traditional blues"
          ],
          [
           "traditional british folk"
          ],
          [
           "traditional country"
          ],
          [
           "traditional folk"
          ],
          [
           "traditional funk"
          ],
          [
           "traditional rockabilly"
          ],
          [
           "traditional ska"
          ],
          [
           "traditional soul"
          ],
          [
           "trance"
          ],
          [
           "trance mexicano"
          ],
          [
           "trancecore"
          ],
          [
           "transpop"
          ],
          [
           "trap"
          ],
          [
           "trap argentino"
          ],
          [
           "trap chileno"
          ],
          [
           "trap dominicano"
          ],
          [
           "trap latino"
          ],
          [
           "trap mexicano"
          ],
          [
           "trap queen"
          ],
          [
           "trap soul"
          ],
          [
           "trap triste"
          ],
          [
           "trap venezolano"
          ],
          [
           "traprun"
          ],
          [
           "trash rock"
          ],
          [
           "triangle indie"
          ],
          [
           "tribal house"
          ],
          [
           "trinidadian reggae"
          ],
          [
           "trio cubano"
          ],
          [
           "trip hop"
          ],
          [
           "trival"
          ],
          [
           "tropical"
          ],
          [
           "tropical house"
          ],
          [
           "tropicalia"
          ],
          [
           "trova"
          ],
          [
           "trova mexicana"
          ],
          [
           "truck-driving country"
          ],
          [
           "tuareg guitar"
          ],
          [
           "tucson indie"
          ],
          [
           "tulsa indie"
          ],
          [
           "tuna estudiantil"
          ],
          [
           "tunisian pop"
          ],
          [
           "turbo folk"
          ],
          [
           "turkish classical"
          ],
          [
           "turkish classical performance"
          ],
          [
           "turkish edm"
          ],
          [
           "turkish experimental"
          ],
          [
           "turkish folk"
          ],
          [
           "turkish jazz"
          ],
          [
           "turkish modern jazz"
          ],
          [
           "turkish pop"
          ],
          [
           "turkish psych"
          ],
          [
           "turkish trap"
          ],
          [
           "turkish trap pop"
          ],
          [
           "turntablism"
          ],
          [
           "twee pop"
          ],
          [
           "twoubadou"
          ],
          [
           "tzadik"
          ],
          [
           "ugandan pop"
          ],
          [
           "uilleann pipes"
          ],
          [
           "uk alternative hip hop"
          ],
          [
           "uk alternative pop"
          ],
          [
           "uk americana"
          ],
          [
           "uk contemporary jazz"
          ],
          [
           "uk contemporary r&b"
          ],
          [
           "uk dance"
          ],
          [
           "uk dancehall"
          ],
          [
           "uk diy punk"
          ],
          [
           "uk dnb"
          ],
          [
           "uk doom metal"
          ],
          [
           "uk dub"
          ],
          [
           "uk experimental electronic"
          ],
          [
           "uk funky"
          ],
          [
           "uk garage"
          ],
          [
           "uk hip hop"
          ],
          [
           "uk house"
          ],
          [
           "uk metalcore"
          ],
          [
           "uk noise rock"
          ],
          [
           "uk pop"
          ],
          [
           "uk pop punk"
          ],
          [
           "uk post-hardcore"
          ],
          [
           "uk post-punk"
          ],
          [
           "uk reggae"
          ],
          [
           "uk rockabilly"
          ],
          [
           "uk stoner rock"
          ],
          [
           "uk worship"
          ],
          [
           "uk82"
          ],
          [
           "ukrainian choir"
          ],
          [
           "ukrainian classical"
          ],
          [
           "ukrainian classical piano"
          ],
          [
           "ukrainian electronic"
          ],
          [
           "ukrainian pop"
          ],
          [
           "ukulele"
          ],
          [
           "umbanda"
          ],
          [
           "underground hip hop"
          ],
          [
           "underground power pop"
          ],
          [
           "underground rap"
          ],
          [
           "university choir"
          ],
          [
           "uplifting trance"
          ],
          [
           "uptempo hardcore"
          ],
          [
           "urban contemporary"
          ],
          [
           "urbano espanol"
          ],
          [
           "us power metal"
          ],
          [
           "utah indie"
          ],
          [
           "uzbek pop"
          ],
          [
           "uzbek traditional"
          ],
          [
           "v-pop"
          ],
          [
           "vallenato"
          ],
          [
           "vallenato moderno"
          ],
          [
           "vancouver indie"
          ],
          [
           "vancouver metal"
          ],
          [
           "vancouver punk"
          ],
          [
           "vapor pop"
          ],
          [
           "vapor soul"
          ],
          [
           "vapor trap"
          ],
          [
           "vapor twitch"
          ],
          [
           "vaporwave"
          ],
          [
           "variete francaise"
          ],
          [
           "vaudeville"
          ],
          [
           "vbs"
          ],
          [
           "veena"
          ],
          [
           "vegan straight edge"
          ],
          [
           "vegas indie"
          ],
          [
           "velha guarda"
          ],
          [
           "venezuelan hip hop"
          ],
          [
           "venezuelan indie"
          ],
          [
           "venezuelan rock"
          ],
          [
           "veracruz indie"
          ],
          [
           "vermont indie"
          ],
          [
           "vgm instrumental"
          ],
          [
           "vgm remix"
          ],
          [
           "victoria bc indie"
          ],
          [
           "victorian britain"
          ],
          [
           "video game music"
          ],
          [
           "vienna indie"
          ],
          [
           "vietnamese bolero"
          ],
          [
           "vietnamese pop"
          ],
          [
           "viking black metal"
          ],
          [
           "viking folk"
          ],
          [
           "viking metal"
          ],
          [
           "villancicos"
          ],
          [
           "vintage chanson"
          ],
          [
           "vintage chinese pop"
          ],
          [
           "vintage classical singing"
          ],
          [
           "vintage country folk"
          ],
          [
           "vintage dutch pop"
          ],
          [
           "vintage french electronic"
          ],
          [
           "vintage gospel"
          ],
          [
           "vintage hollywood"
          ],
          [
           "vintage italian pop"
          ],
          [
           "vintage italian soundtrack"
          ],
          [
           "vintage jazz"
          ],
          [
           "vintage old-time"
          ],
          [
           "vintage rockabilly"
          ],
          [
           "vintage schlager"
          ],
          [
           "vintage spanish pop"
          ],
          [
           "vintage swedish pop"
          ],
          [
           "vintage swing"
          ],
          [
           "vintage tango"
          ],
          [
           "viola"
          ],
          [
           "violao"
          ],
          [
           "violao classico"
          ],
          [
           "violin"
          ],
          [
           "viral pop"
          ],
          [
           "viral rap"
          ],
          [
           "viral trap"
          ],
          [
           "virgin islands reggae"
          ],
          [
           "virginia hip hop"
          ],
          [
           "virginia metal"
          ],
          [
           "virginia punk"
          ],
          [
           "visor"
          ],
          [
           "visual kei"
          ],
          [
           "vocal ensemble"
          ],
          [
           "vocal harmony group"
          ],
          [
           "vocal house"
          ],
          [
           "vocal jazz"
          ],
          [
           "vocal trance"
          ],
          [
           "vocaloid"
          ],
          [
           "vogue"
          ],
          [
           "volksmusik"
          ],
          [
           "warm drone"
          ],
          [
           "washboard"
          ],
          [
           "washington indie"
          ],
          [
           "wassoulou"
          ],
          [
           "water"
          ],
          [
           "wave"
          ],
          [
           "welsh folk"
          ],
          [
           "welsh indie"
          ],
          [
           "welsh metal"
          ],
          [
           "welsh rock"
          ],
          [
           "west african jazz"
          ],
          [
           "west australian hip hop"
          ],
          [
           "west coast rap"
          ],
          [
           "west coast reggae"
          ],
          [
           "west coast trap"
          ],
          [
           "west end"
          ],
          [
           "west virginia indie"
          ],
          [
           "western americana"
          ],
          [
           "western mass indie"
          ],
          [
           "western saharan folk"
          ],
          [
           "western swing"
          ],
          [
           "white noise"
          ],
          [
           "wind ensemble"
          ],
          [
           "wind quintet"
          ],
          [
           "wisconsin indie"
          ],
          [
           "witch house"
          ],
          [
           "women's choir"
          ],
          [
           "women's music"
          ],
          [
           "wonky"
          ],
          [
           "worcester ma indie"
          ],
          [
           "world"
          ],
          [
           "world fusion"
          ],
          [
           "world meditation"
          ],
          [
           "world worship"
          ],
          [
           "worship"
          ],
          [
           "wrestling"
          ],
          [
           "wu fam"
          ],
          [
           "wyoming indie"
          ],
          [
           "wyoming roots"
          ],
          [
           "xhosa"
          ],
          [
           "xtra raw"
          ],
          [
           "yacht rock"
          ],
          [
           "ye ye"
          ],
          [
           "yiddish folk"
          ],
          [
           "yodeling"
          ],
          [
           "yoga"
          ],
          [
           "yoik"
          ],
          [
           "york indie"
          ],
          [
           "yorkshire folk"
          ],
          [
           "yugoslav new wave"
          ],
          [
           "yugoslav rock"
          ],
          [
           "zambian pop"
          ],
          [
           "zeuhl"
          ],
          [
           "zhongguo feng"
          ],
          [
           "zimdancehall"
          ],
          [
           "zolo"
          ],
          [
           "zouglou"
          ],
          [
           "zouk"
          ],
          [
           "zurich indie"
          ],
          [
           "zydeco"
          ]
         ],
         "hovertemplate": "x=%{x}<br>y=%{y}<br>generos=%{customdata[0]}<br>cluster_pca=%{marker.color}<extra></extra>",
         "legendgroup": "",
         "marker": {
          "color": [
           3,
           3,
           4,
           1,
           1,
           2,
           2,
           4,
           1,
           1,
           0,
           2,
           0,
           3,
           1,
           2,
           4,
           2,
           0,
           2,
           1,
           1,
           4,
           1,
           2,
           4,
           4,
           3,
           4,
           4,
           4,
           4,
           4,
           2,
           2,
           0,
           2,
           4,
           0,
           2,
           0,
           4,
           4,
           4,
           2,
           4,
           4,
           2,
           4,
           0,
           4,
           2,
           2,
           0,
           0,
           4,
           0,
           0,
           4,
           4,
           0,
           2,
           4,
           3,
           0,
           2,
           0,
           0,
           2,
           3,
           2,
           2,
           3,
           3,
           3,
           3,
           3,
           1,
           0,
           3,
           2,
           3,
           2,
           3,
           3,
           0,
           1,
           0,
           3,
           4,
           0,
           0,
           0,
           2,
           2,
           0,
           0,
           2,
           1,
           4,
           1,
           3,
           2,
           2,
           2,
           2,
           3,
           2,
           4,
           0,
           4,
           2,
           4,
           4,
           4,
           4,
           4,
           0,
           2,
           4,
           2,
           3,
           2,
           4,
           2,
           3,
           4,
           2,
           4,
           3,
           2,
           4,
           4,
           4,
           0,
           4,
           3,
           0,
           4,
           0,
           4,
           0,
           0,
           1,
           0,
           2,
           2,
           4,
           2,
           4,
           3,
           4,
           3,
           3,
           3,
           2,
           0,
           0,
           4,
           4,
           0,
           0,
           2,
           0,
           4,
           0,
           0,
           4,
           4,
           2,
           0,
           2,
           2,
           4,
           4,
           0,
           2,
           4,
           4,
           3,
           3,
           3,
           2,
           3,
           4,
           1,
           0,
           3,
           3,
           0,
           4,
           1,
           4,
           4,
           4,
           4,
           3,
           3,
           1,
           2,
           1,
           4,
           1,
           1,
           1,
           0,
           2,
           3,
           3,
           1,
           3,
           4,
           0,
           4,
           4,
           4,
           1,
           1,
           1,
           1,
           2,
           3,
           4,
           1,
           1,
           1,
           3,
           3,
           3,
           3,
           2,
           3,
           3,
           1,
           4,
           2,
           0,
           4,
           4,
           0,
           4,
           4,
           4,
           4,
           0,
           4,
           4,
           1,
           2,
           1,
           4,
           2,
           1,
           2,
           4,
           0,
           0,
           0,
           3,
           3,
           0,
           0,
           4,
           2,
           0,
           1,
           0,
           4,
           2,
           2,
           2,
           2,
           1,
           4,
           4,
           2,
           3,
           1,
           4,
           3,
           1,
           0,
           0,
           3,
           3,
           4,
           4,
           0,
           0,
           0,
           4,
           0,
           0,
           0,
           0,
           2,
           0,
           2,
           1,
           2,
           1,
           0,
           0,
           2,
           4,
           1,
           1,
           4,
           4,
           1,
           4,
           4,
           1,
           1,
           2,
           4,
           4,
           4,
           0,
           0,
           2,
           4,
           4,
           1,
           2,
           4,
           4,
           3,
           3,
           3,
           2,
           3,
           3,
           4,
           3,
           3,
           3,
           4,
           0,
           4,
           1,
           1,
           0,
           1,
           1,
           4,
           4,
           4,
           0,
           4,
           0,
           0,
           4,
           2,
           3,
           2,
           2,
           0,
           0,
           0,
           4,
           0,
           0,
           2,
           4,
           3,
           3,
           4,
           3,
           1,
           0,
           2,
           1,
           0,
           0,
           2,
           2,
           2,
           3,
           3,
           2,
           0,
           2,
           4,
           3,
           0,
           2,
           2,
           4,
           4,
           4,
           0,
           0,
           4,
           0,
           2,
           4,
           4,
           4,
           2,
           0,
           3,
           1,
           1,
           2,
           2,
           1,
           4,
           0,
           4,
           3,
           1,
           4,
           3,
           2,
           4,
           1,
           4,
           0,
           4,
           1,
           3,
           3,
           3,
           1,
           4,
           2,
           2,
           0,
           4,
           3,
           1,
           0,
           4,
           0,
           2,
           1,
           2,
           4,
           4,
           0,
           0,
           2,
           4,
           0,
           0,
           3,
           2,
           0,
           0,
           4,
           2,
           3,
           2,
           0,
           2,
           2,
           2,
           1,
           2,
           2,
           1,
           1,
           0,
           1,
           1,
           4,
           1,
           1,
           1,
           4,
           3,
           3,
           3,
           0,
           4,
           3,
           1,
           3,
           0,
           4,
           4,
           1,
           3,
           1,
           3,
           3,
           2,
           3,
           2,
           2,
           0,
           4,
           2,
           2,
           4,
           0,
           1,
           4,
           4,
           0,
           1,
           1,
           4,
           0,
           4,
           0,
           0,
           0,
           4,
           2,
           0,
           4,
           4,
           4,
           1,
           1,
           4,
           1,
           4,
           2,
           2,
           4,
           0,
           3,
           1,
           2,
           1,
           4,
           1,
           0,
           2,
           2,
           3,
           3,
           3,
           0,
           0,
           4,
           2,
           0,
           3,
           2,
           2,
           3,
           3,
           3,
           4,
           3,
           1,
           2,
           1,
           2,
           0,
           4,
           0,
           4,
           4,
           2,
           0,
           0,
           2,
           0,
           0,
           4,
           3,
           0,
           4,
           2,
           3,
           2,
           4,
           4,
           4,
           0,
           0,
           2,
           4,
           1,
           1,
           4,
           4,
           1,
           4,
           2,
           1,
           1,
           1,
           1,
           0,
           1,
           4,
           4,
           4,
           2,
           1,
           0,
           0,
           0,
           1,
           2,
           1,
           2,
           0,
           1,
           1,
           1,
           2,
           4,
           2,
           1,
           2,
           4,
           1,
           2,
           2,
           4,
           2,
           1,
           0,
           1,
           2,
           3,
           4,
           4,
           4,
           2,
           2,
           4,
           3,
           2,
           3,
           3,
           3,
           3,
           3,
           3,
           3,
           3,
           3,
           3,
           3,
           1,
           3,
           3,
           3,
           3,
           3,
           3,
           3,
           2,
           3,
           3,
           3,
           1,
           1,
           4,
           0,
           4,
           4,
           4,
           4,
           4,
           4,
           4,
           4,
           4,
           1,
           4,
           0,
           2,
           0,
           3,
           4,
           3,
           0,
           0,
           4,
           3,
           3,
           3,
           4,
           2,
           2,
           3,
           1,
           1,
           3,
           1,
           1,
           1,
           0,
           4,
           4,
           4,
           0,
           2,
           3,
           4,
           1,
           1,
           2,
           1,
           4,
           4,
           4,
           2,
           1,
           1,
           4,
           4,
           2,
           4,
           4,
           0,
           4,
           0,
           4,
           4,
           4,
           1,
           4,
           4,
           4,
           4,
           4,
           4,
           4,
           4,
           4,
           1,
           4,
           1,
           4,
           4,
           4,
           4,
           0,
           0,
           1,
           3,
           3,
           1,
           0,
           1,
           4,
           4,
           4,
           4,
           0,
           4,
           0,
           0,
           3,
           0,
           3,
           4,
           3,
           0,
           4,
           2,
           0,
           4,
           0,
           0,
           1,
           4,
           1,
           4,
           4,
           0,
           4,
           0,
           3,
           2,
           0,
           2,
           4,
           0,
           0,
           0,
           0,
           2,
           0,
           0,
           0,
           4,
           0,
           0,
           0,
           0,
           4,
           1,
           0,
           0,
           2,
           4,
           1,
           2,
           4,
           1,
           4,
           2,
           0,
           4,
           4,
           4,
           1,
           4,
           0,
           4,
           4,
           0,
           4,
           4,
           3,
           1,
           0,
           1,
           2,
           0,
           2,
           1,
           2,
           4,
           4,
           3,
           0,
           0,
           0,
           4,
           0,
           4,
           4,
           2,
           2,
           2,
           3,
           1,
           4,
           2,
           4,
           2,
           2,
           4,
           4,
           0,
           1,
           4,
           4,
           4,
           4,
           2,
           4,
           2,
           4,
           4,
           0,
           4,
           2,
           0,
           4,
           2,
           1,
           2,
           4,
           1,
           0,
           3,
           4,
           4,
           4,
           4,
           1,
           4,
           1,
           0,
           0,
           4,
           4,
           4,
           1,
           0,
           0,
           2,
           1,
           2,
           0,
           0,
           0,
           3,
           4,
           2,
           3,
           3,
           0,
           0,
           4,
           0,
           4,
           3,
           0,
           2,
           3,
           2,
           1,
           1,
           0,
           4,
           2,
           0,
           1,
           3,
           0,
           0,
           4,
           1,
           4,
           0,
           1,
           3,
           0,
           4,
           0,
           4,
           2,
           0,
           2,
           1,
           1,
           3,
           3,
           3,
           3,
           4,
           3,
           2,
           0,
           4,
           4,
           2,
           1,
           4,
           2,
           0,
           3,
           2,
           4,
           0,
           4,
           4,
           1,
           0,
           0,
           1,
           2,
           4,
           0,
           2,
           4,
           4,
           0,
           2,
           0,
           4,
           0,
           0,
           0,
           2,
           4,
           4,
           4,
           0,
           0,
           0,
           4,
           0,
           3,
           0,
           3,
           2,
           1,
           3,
           0,
           2,
           1,
           4,
           3,
           0,
           1,
           4,
           2,
           2,
           2,
           3,
           1,
           2,
           4,
           0,
           0,
           4,
           4,
           4,
           4,
           1,
           2,
           3,
           3,
           4,
           4,
           3,
           2,
           4,
           0,
           3,
           2,
           2,
           1,
           1,
           2,
           1,
           0,
           4,
           1,
           4,
           0,
           2,
           3,
           0,
           3,
           3,
           0,
           0,
           0,
           0,
           0,
           0,
           4,
           2,
           2,
           3,
           4,
           2,
           0,
           4,
           0,
           2,
           3,
           4,
           0,
           4,
           4,
           1,
           1,
           1,
           1,
           2,
           2,
           0,
           4,
           2,
           2,
           2,
           2,
           4,
           1,
           1,
           4,
           4,
           4,
           1,
           2,
           2,
           4,
           4,
           0,
           3,
           4,
           2,
           2,
           2,
           3,
           3,
           4,
           3,
           3,
           1,
           0,
           0,
           4,
           2,
           2,
           0,
           1,
           0,
           1,
           3,
           3,
           2,
           4,
           0,
           4,
           4,
           3,
           0,
           1,
           4,
           0,
           0,
           0,
           4,
           0,
           2,
           1,
           4,
           4,
           0,
           0,
           1,
           4,
           4,
           4,
           4,
           0,
           0,
           4,
           2,
           4,
           0,
           2,
           4,
           0,
           2,
           0,
           0,
           4,
           1,
           3,
           0,
           0,
           4,
           4,
           0,
           2,
           0,
           2,
           0,
           4,
           0,
           2,
           2,
           4,
           2,
           0,
           3,
           3,
           3,
           2,
           4,
           0,
           0,
           4,
           4,
           3,
           1,
           0,
           0,
           3,
           3,
           4,
           4,
           4,
           0,
           4,
           3,
           0,
           3,
           3,
           3,
           0,
           0,
           0,
           4,
           4,
           1,
           1,
           0,
           4,
           0,
           0,
           2,
           4,
           0,
           0,
           0,
           4,
           4,
           0,
           2,
           1,
           1,
           1,
           2,
           4,
           1,
           2,
           0,
           2,
           0,
           4,
           4,
           0,
           0,
           2,
           0,
           0,
           4,
           4,
           0,
           1,
           3,
           1,
           1,
           0,
           3,
           1,
           1,
           3,
           4,
           0,
           2,
           0,
           4,
           0,
           0,
           4,
           4,
           4,
           4,
           0,
           0,
           1,
           2,
           1,
           3,
           1,
           1,
           1,
           3,
           0,
           1,
           1,
           2,
           1,
           4,
           4,
           4,
           3,
           2,
           4,
           3,
           0,
           0,
           1,
           2,
           0,
           4,
           0,
           4,
           0,
           0,
           0,
           4,
           1,
           1,
           1,
           3,
           3,
           3,
           3,
           1,
           4,
           4,
           3,
           4,
           4,
           4,
           2,
           4,
           3,
           3,
           1,
           4,
           4,
           4,
           4,
           4,
           3,
           3,
           3,
           3,
           3,
           3,
           3,
           1,
           2,
           2,
           4,
           2,
           2,
           1,
           1,
           4,
           0,
           3,
           4,
           4,
           4,
           4,
           4,
           1,
           4,
           3,
           3,
           3,
           3,
           2,
           1,
           1,
           1,
           2,
           2,
           4,
           4,
           3,
           0,
           3,
           2,
           2,
           2,
           2,
           2,
           2,
           2,
           0,
           2,
           1,
           3,
           1,
           4,
           4,
           3,
           4,
           1,
           1,
           4,
           2,
           2,
           1,
           2,
           3,
           4,
           2,
           2,
           2,
           4,
           2,
           2,
           4,
           4,
           2,
           0,
           2,
           4,
           2,
           0,
           4,
           0,
           2,
           2,
           0,
           1,
           2,
           0,
           4,
           0,
           2,
           4,
           3,
           2,
           2,
           4,
           0,
           0,
           2,
           1,
           1,
           2,
           4,
           0,
           0,
           0,
           0,
           2,
           0,
           2,
           2,
           4,
           4,
           1,
           2,
           3,
           2,
           2,
           1,
           1,
           4,
           3,
           0,
           2,
           1,
           0,
           1,
           4,
           1,
           1,
           3,
           3,
           1,
           4,
           0,
           4,
           2,
           2,
           2,
           2,
           3,
           3,
           3,
           3,
           0,
           3,
           3,
           2,
           4,
           0,
           0,
           4,
           3,
           2,
           3,
           0,
           3,
           0,
           3,
           3,
           2,
           0,
           2,
           0,
           3,
           3,
           3,
           3,
           2,
           1,
           1,
           4,
           4,
           0,
           3,
           2,
           0,
           4,
           0,
           0,
           0,
           4,
           0,
           0,
           4,
           0,
           0,
           2,
           2,
           4,
           4,
           0,
           1,
           4,
           3,
           3,
           3,
           3,
           0,
           3,
           4,
           0,
           2,
           2,
           4,
           0,
           0,
           3,
           1,
           4,
           2,
           1,
           2,
           0,
           0,
           2,
           0,
           0,
           0,
           0,
           2,
           0,
           0,
           4,
           4,
           0,
           2,
           3,
           2,
           2,
           4,
           1,
           1,
           1,
           4,
           1,
           1,
           1,
           2,
           1,
           3,
           1,
           1,
           2,
           2,
           1,
           1,
           0,
           3,
           1,
           2,
           1,
           2,
           1,
           4,
           2,
           1,
           3,
           1,
           1,
           1,
           1,
           1,
           1,
           2,
           3,
           4,
           2,
           4,
           4,
           2,
           1,
           4,
           1,
           0,
           4,
           4,
           4,
           4,
           4,
           1,
           1,
           4,
           1,
           4,
           1,
           0,
           0,
           2,
           0,
           2,
           4,
           2,
           4,
           1,
           4,
           4,
           1,
           3,
           4,
           4,
           1,
           4,
           3,
           2,
           2,
           1,
           1,
           4,
           3,
           3,
           3,
           2,
           1,
           3,
           3,
           0,
           4,
           4,
           4,
           4,
           3,
           3,
           1,
           4,
           0,
           3,
           4,
           1,
           2,
           2,
           3,
           4,
           4,
           4,
           3,
           4,
           2,
           1,
           4,
           4,
           4,
           4,
           0,
           4,
           4,
           4,
           1,
           4,
           4,
           4,
           2,
           4,
           4,
           4,
           4,
           1,
           3,
           2,
           2,
           0,
           4,
           4,
           1,
           2,
           3,
           2,
           0,
           2,
           2,
           0,
           1,
           4,
           2,
           1,
           4,
           1,
           2,
           2,
           1,
           2,
           2,
           4,
           1,
           0,
           0,
           0,
           1,
           2,
           4,
           3,
           2,
           1,
           2,
           0,
           3,
           1,
           4,
           2,
           2,
           4,
           2,
           0,
           2,
           3,
           0,
           1,
           4,
           0,
           2,
           2,
           2,
           4,
           1,
           2,
           1,
           4,
           1,
           1,
           2,
           2,
           4,
           2,
           4,
           2,
           0,
           2,
           3,
           2,
           0,
           3,
           2,
           4,
           4,
           0,
           2,
           0,
           0,
           0,
           0,
           0,
           0,
           0,
           0,
           0,
           4,
           0,
           4,
           2,
           1,
           4,
           0,
           2,
           1,
           4,
           4,
           2,
           1,
           0,
           0,
           0,
           0,
           0,
           2,
           3,
           4,
           0,
           4,
           0,
           4,
           1,
           4,
           4,
           4,
           4,
           4,
           0,
           4,
           2,
           3,
           3,
           2,
           3,
           2,
           0,
           1,
           4,
           2,
           3,
           2,
           0,
           4,
           2,
           0,
           3,
           2,
           0,
           0,
           4,
           4,
           4,
           2,
           3,
           0,
           2,
           0,
           2,
           2,
           0,
           4,
           4,
           0,
           2,
           2,
           4,
           2,
           3,
           3,
           4,
           3,
           0,
           4,
           4,
           0,
           4,
           4,
           4,
           3,
           0,
           0,
           3,
           4,
           1,
           1,
           1,
           2,
           4,
           3,
           4,
           1,
           1,
           2,
           1,
           1,
           2,
           1,
           1,
           4,
           2,
           2,
           4,
           3,
           0,
           4,
           4,
           2,
           4,
           2,
           3,
           1,
           4,
           1,
           1,
           4,
           4,
           1,
           4,
           1,
           1,
           1,
           4,
           2,
           4,
           4,
           1,
           1,
           1,
           4,
           2,
           1,
           0,
           0,
           4,
           3,
           2,
           1,
           1,
           0,
           0,
           2,
           2,
           4,
           0,
           2,
           1,
           3,
           4,
           3,
           4,
           3,
           1,
           0,
           2,
           0,
           1,
           2,
           4,
           4,
           3,
           2,
           1,
           2,
           0,
           4,
           2,
           0,
           0,
           2,
           2,
           2,
           3,
           2,
           4,
           2,
           1,
           1,
           2,
           0,
           0,
           4,
           0,
           3,
           3,
           2,
           4,
           4,
           2,
           0,
           2,
           3,
           4,
           0,
           2,
           0,
           4,
           1,
           1,
           4,
           4,
           1,
           4,
           0,
           4,
           2,
           4,
           0,
           4,
           2,
           0,
           4,
           3,
           0,
           0,
           4,
           4,
           0,
           0,
           2,
           0,
           1,
           4,
           2,
           0,
           0,
           0,
           3,
           3,
           2,
           4,
           3,
           2,
           3,
           1,
           0,
           4,
           4,
           0,
           4,
           2,
           0,
           2,
           0,
           4,
           0,
           4,
           0,
           3,
           3,
           3,
           0,
           3,
           4,
           2,
           3,
           0,
           0,
           0,
           0,
           0,
           2,
           0,
           2,
           4,
           2,
           2,
           4,
           4,
           3,
           4,
           0,
           2,
           0,
           0,
           4,
           0,
           1,
           2,
           2,
           2,
           2,
           1,
           4,
           1,
           1,
           0,
           0,
           4,
           4,
           4,
           0,
           3,
           2,
           4,
           2,
           4,
           4,
           0,
           2,
           4,
           4,
           0,
           4,
           3,
           4,
           2,
           0,
           4,
           2,
           4,
           2,
           4,
           4,
           4,
           0,
           4,
           2,
           1,
           1,
           2,
           0,
           4,
           2,
           3,
           3,
           0,
           3,
           3,
           2,
           3,
           3,
           3,
           0,
           3,
           0,
           2,
           0,
           3,
           3,
           1,
           1,
           3,
           4,
           0,
           4,
           4,
           4,
           1,
           4,
           2,
           2,
           3,
           3,
           0,
           4,
           0,
           4,
           4,
           0,
           1,
           4,
           1,
           2,
           2,
           4,
           4,
           3,
           2,
           4,
           4,
           4,
           1,
           2,
           4,
           2,
           1,
           0,
           4,
           4,
           1,
           0,
           4,
           2,
           4,
           4,
           4,
           1,
           3,
           2,
           2,
           3,
           1,
           4,
           0,
           0,
           0,
           1,
           2,
           0,
           2,
           4,
           4,
           4,
           4,
           4,
           0,
           0,
           1,
           3,
           4,
           3,
           3,
           3,
           3,
           3,
           1,
           0,
           1,
           4,
           4,
           1,
           4,
           4,
           3,
           4,
           4,
           4,
           2,
           4,
           0,
           4,
           0,
           4,
           2,
           4,
           4,
           2,
           4,
           0,
           2,
           4,
           4,
           4,
           4,
           0,
           2,
           2,
           4,
           2,
           4,
           4,
           3,
           0,
           1,
           4,
           2,
           2,
           0,
           2,
           3,
           4,
           4,
           0,
           0,
           0,
           0,
           3,
           0,
           2,
           2,
           3,
           3,
           0,
           4,
           0,
           4,
           0,
           0,
           2,
           3,
           4,
           2,
           2,
           2,
           0,
           0,
           0,
           0,
           0,
           0,
           0,
           0,
           0,
           0,
           2,
           0,
           0,
           2,
           0,
           1,
           0,
           2,
           1,
           2,
           0,
           2,
           0,
           1,
           2,
           4,
           2,
           0,
           2,
           2,
           0,
           0,
           0,
           4,
           1,
           2,
           4,
           1,
           4,
           4,
           0,
           0,
           0,
           4,
           0,
           4,
           4,
           1,
           3,
           3,
           0,
           2,
           4,
           4,
           4,
           2,
           1,
           4,
           4,
           1,
           3,
           1,
           2,
           2,
           4,
           4,
           4,
           4,
           2,
           4,
           4,
           4,
           0,
           4,
           3,
           0,
           4,
           2,
           0,
           0,
           1,
           0,
           4,
           1,
           1,
           0,
           4,
           4,
           4,
           4,
           4,
           4,
           4,
           0,
           4,
           4,
           4,
           1,
           3,
           4,
           0,
           4,
           2,
           4,
           1,
           4,
           2,
           0,
           4,
           0,
           4,
           0,
           4,
           4,
           4,
           4,
           2,
           0,
           0,
           2,
           4,
           0,
           0,
           4,
           2,
           2,
           4,
           1,
           2,
           4,
           0,
           2,
           4,
           4,
           1,
           3,
           2,
           3,
           4,
           1,
           2,
           2,
           4,
           2,
           2,
           1,
           2,
           2,
           2,
           0,
           0,
           1,
           3,
           3,
           0,
           0,
           1,
           2,
           1,
           0,
           0,
           3,
           3,
           4,
           0,
           2,
           2,
           3,
           2,
           0,
           4,
           3,
           1,
           4,
           0,
           4,
           4,
           4,
           4,
           4,
           4,
           4,
           4,
           4,
           2,
           1,
           1,
           4,
           4,
           1,
           4,
           4,
           0,
           4,
           2,
           1,
           3,
           1,
           4,
           2,
           4,
           2,
           3,
           4,
           3,
           2,
           4,
           2,
           1,
           4,
           4,
           4,
           4,
           4,
           4,
           0,
           4,
           2,
           4,
           4,
           2,
           3,
           2,
           1,
           1,
           4,
           2,
           2,
           4,
           1,
           3,
           3,
           1,
           0,
           2,
           0,
           2,
           2,
           0,
           2,
           0,
           3,
           4,
           2,
           2,
           0,
           2,
           3,
           3,
           4,
           4,
           4,
           2,
           4,
           4,
           4,
           0,
           1,
           1,
           0,
           1,
           0,
           0,
           0,
           0,
           2,
           0,
           3,
           2,
           4,
           0,
           4,
           2,
           0,
           2,
           2,
           2,
           2,
           4,
           0,
           4,
           1,
           2,
           4,
           2,
           1,
           4,
           4,
           4,
           1,
           2,
           2,
           4,
           1,
           2,
           3,
           3,
           3,
           4,
           3,
           4,
           1,
           4,
           4,
           4,
           1,
           4,
           4,
           0,
           4,
           2,
           0,
           0,
           2,
           4,
           2,
           4,
           0,
           2,
           2,
           4,
           4,
           0,
           3,
           1,
           3,
           2,
           3,
           3,
           3,
           0,
           4,
           2,
           4,
           0,
           2,
           4,
           2,
           4,
           4,
           3,
           4,
           4,
           2,
           4,
           0,
           2,
           4,
           2,
           1,
           2,
           1,
           4,
           4,
           1,
           1,
           4,
           1,
           2,
           1,
           4,
           0,
           0,
           0,
           3,
           4,
           0,
           3,
           1,
           1,
           3,
           3,
           3,
           4,
           0,
           2,
           2,
           2,
           2,
           2,
           2,
           0,
           0,
           4,
           4,
           4,
           0,
           0,
           2,
           0,
           3,
           4,
           4,
           0,
           0,
           2,
           0,
           0,
           4,
           0,
           0,
           2,
           2,
           0,
           2,
           0,
           0,
           3,
           1,
           2,
           0,
           0,
           4,
           0,
           0,
           0,
           0,
           4,
           2,
           2,
           2,
           3,
           2,
           0,
           4,
           1,
           1,
           2,
           0,
           3,
           3,
           0,
           4,
           2,
           3,
           1,
           0,
           0,
           2,
           4,
           4,
           0,
           1,
           1,
           4,
           2,
           2,
           3,
           1,
           2,
           2,
           2,
           1,
           4,
           4,
           4,
           4,
           1,
           1,
           1,
           0,
           1,
           1,
           2,
           2,
           0,
           2,
           0,
           0,
           0,
           2,
           2,
           4,
           4,
           4,
           4,
           4,
           0,
           4,
           2,
           2,
           4,
           4,
           4,
           4,
           4,
           2,
           1,
           4,
           0,
           1,
           3,
           0,
           0,
           4,
           1,
           2,
           2,
           1,
           3,
           1,
           2,
           4,
           1,
           2,
           1,
           2,
           1,
           1,
           2,
           4,
           4,
           4,
           0,
           0,
           0,
           4,
           4,
           4,
           0,
           2,
           4,
           4,
           4,
           4,
           4,
           4,
           0,
           0,
           0,
           4,
           1,
           1,
           2,
           4,
           4,
           4,
           2,
           2,
           1,
           1,
           2,
           4,
           2,
           4,
           4,
           4,
           1,
           3,
           0,
           0,
           1,
           1,
           1,
           2,
           1,
           0,
           2,
           4,
           2,
           1,
           3,
           2,
           1,
           4,
           4,
           2,
           2,
           4,
           4,
           4,
           0,
           0,
           0,
           4,
           2,
           4,
           4,
           4,
           4,
           0,
           4,
           4,
           4,
           0,
           2,
           4,
           4,
           0,
           2,
           0,
           3,
           3,
           3,
           0,
           4,
           1,
           4,
           4,
           4,
           4,
           3,
           0,
           0,
           4,
           4,
           0,
           2,
           1,
           1,
           4,
           4,
           4,
           2,
           0,
           0,
           2,
           2,
           4,
           2,
           0,
           2,
           1,
           4,
           1,
           0,
           0,
           1,
           4,
           4,
           4,
           4,
           2,
           3,
           0,
           4,
           3,
           2,
           2,
           4,
           4,
           0,
           2,
           0,
           1,
           1,
           1,
           3,
           1,
           1,
           2,
           1,
           1,
           1,
           3,
           1,
           1,
           4,
           1,
           1,
           1,
           1,
           1,
           3,
           1,
           1,
           3,
           2,
           4,
           4,
           4,
           4,
           0,
           0,
           1,
           0,
           3,
           1,
           4,
           1,
           0,
           0,
           4,
           1,
           3,
           1,
           4,
           2,
           3,
           4,
           3,
           0,
           0,
           0,
           2,
           4,
           4,
           4,
           4,
           1,
           4,
           2,
           4,
           2,
           1,
           3,
           3,
           3,
           3,
           2,
           0,
           2,
           2,
           4,
           2,
           2,
           3,
           0,
           2,
           0,
           4,
           0,
           2,
           2,
           0,
           2,
           2,
           3,
           1,
           3,
           3,
           1,
           2,
           4,
           4,
           4,
           0,
           4,
           4,
           2,
           4,
           4,
           1,
           4
          ],
          "coloraxis": "coloraxis",
          "symbol": "circle"
         },
         "mode": "markers",
         "name": "",
         "showlegend": false,
         "type": "scattergl",
         "x": [
          5.910268108221793,
          2.787093152808592,
          -0.7575375383744617,
          1.020521486616817,
          0.7539105142791434,
          1.7971062652419418,
          -0.4620496054489363,
          -1.311672259563726,
          0.5984179553898573,
          0.5982012013950401,
          -1.1656525385277159,
          -0.07118124655696062,
          -2.171711585828403,
          3.673296663029773,
          0.8327855889826051,
          0.0014059392111353524,
          -0.9273057420077749,
          0.6796203745139373,
          -1.487800537177721,
          -0.250169763072566,
          0.9541894103960771,
          0.8894938464845367,
          -0.9349244756981554,
          2.435242216702913,
          -0.5794096848078706,
          -1.6872704870086683,
          -1.0665290759030297,
          3.743308758581934,
          -2.154301657445695,
          -1.0808503055522523,
          -0.9549632645218936,
          -3.235872651592802,
          -1.7119755341735572,
          -0.4336563737020197,
          -0.6062336832001031,
          -0.9441629326199634,
          -0.21897352791236907,
          -1.5617667209055146,
          -1.3458348880477156,
          -0.6937048482628615,
          -1.6190405446647027,
          -1.5333276858350358,
          -1.6988335792571156,
          -1.8093965083506098,
          1.0018621405554717,
          -1.5505557919539066,
          -2.6162017995351015,
          -0.7218561265706743,
          -0.9358284356998533,
          -2.321719004377393,
          -2.1698597717064185,
          -0.11704076484140162,
          -0.17798254163413804,
          -1.3770978627884984,
          -1.2775706484489129,
          -1.66890822293366,
          -1.4330066722916912,
          -0.8812940272849357,
          -1.9337278510850253,
          -0.9919561769523914,
          -0.8554408012501147,
          -0.45004862859253575,
          -1.0642892702634428,
          3.462606271585077,
          0.699842765245405,
          1.0246979229312398,
          -0.8535513919608646,
          0.6504792609298512,
          -0.47748776932747067,
          3.6547368585169058,
          -0.568028449381514,
          1.2275685578826743,
          6.308184544302045,
          3.3947572178066783,
          4.909954292792234,
          4.521497311111671,
          3.4368402266794464,
          1.7065111212663098,
          -1.9949213104070944,
          2.8835226719022278,
          -0.04924041576369345,
          4.251881907817699,
          1.5205339090003127,
          2.757827476352553,
          3.8188688418188876,
          0.5222233385124344,
          0.664066457000712,
          -1.8377265384972326,
          4.307369932725615,
          -0.9793272008623061,
          -1.7532546732907166,
          -2.255179190561468,
          -2.290441566421832,
          -0.280078941631655,
          0.2229118534726926,
          -1.5101821955287544,
          -0.6192845089796359,
          -0.07420986987072378,
          1.672824337430379,
          -1.94335301465705,
          1.0149766128732878,
          2.7195576686454253,
          0.9057166961074979,
          -0.21837300691801048,
          -0.26256655656215444,
          0.8449080453819631,
          2.83277947593177,
          1.4614957709996297,
          -1.5842602988284022,
          -1.8856176787118515,
          -2.3938664259095845,
          -0.008422928392726365,
          -3.0786420856227745,
          -1.6438199733026315,
          -2.03937298441557,
          -0.9968674357840722,
          -1.980988742544418,
          -1.9736099706764758,
          -0.21426030082170863,
          -2.320158888094008,
          0.6288114935083458,
          5.2627185446411175,
          -0.12166536408823851,
          -1.0121054754613963,
          0.03526096300568422,
          3.4926105143427923,
          -1.2753710449014188,
          0.32826468813668336,
          -1.6951789119860814,
          3.7286177933129547,
          -0.6107015592017135,
          -1.9032893260849413,
          -1.8874273931826757,
          -1.4787588103471287,
          -1.687927343644115,
          -2.1606659415912106,
          4.658088207506919,
          0.699842765245405,
          -1.8094474553131525,
          0.6443884999442707,
          -2.8182814169138863,
          0.6443884999442707,
          -1.4716926838801572,
          1.8781753016297535,
          -1.133843484776816,
          -0.7702516670886769,
          -0.5221138504004776,
          -0.9270989547196358,
          0.59313789348218,
          -1.384325162668836,
          5.271177784407821,
          -0.9642170705834114,
          3.7543195842804713,
          2.992652708073429,
          4.167831601809077,
          -0.38962807933174554,
          -1.6424751435576155,
          -1.167543393129809,
          -1.7381524969306457,
          -1.9383384408051354,
          -1.675752945490252,
          -1.187337265148717,
          -0.3541927469754772,
          -1.9748930162104519,
          -1.4332166640427941,
          -1.8599621279939227,
          -1.6285081252103335,
          -1.2616275422044285,
          -1.239736281074941,
          0.1886828812437255,
          -1.201802979168831,
          0.07754390698956977,
          -0.43606997058020897,
          -1.272795338523542,
          -1.0274090397486293,
          -1.8617821657705782,
          -0.8788683358223203,
          -2.6221998744781305,
          -1.6576596345415078,
          4.075563099476095,
          4.894322340584225,
          4.158854712674678,
          0.344155856525268,
          3.252965531703462,
          -2.014666324606975,
          0.19335161691421865,
          0.5398747178532782,
          4.407656001383201,
          2.3595535652176154,
          -1.0134812826832058,
          -1.4775598253498052,
          1.751655098733295,
          -1.9813204401207756,
          -1.5921148477738618,
          -1.8603543986322102,
          -1.6438683942628736,
          4.743511527342343,
          2.164611199122906,
          1.9271058748133287,
          0.24867553257171218,
          0.26404958881534657,
          -3.1062145776446375,
          1.0069292318079626,
          0.7363487998666449,
          0.013770393933031174,
          -0.9862592055897748,
          -0.010758925244005643,
          5.3812499370950615,
          3.0311340782567395,
          2.1219579799750283,
          5.376825054885019,
          -1.871534493819717,
          -0.825704450018688,
          -1.8050999520940765,
          -1.5965747063171387,
          -1.3903620518490418,
          2.3817849882339313,
          0.32671054219402706,
          1.185544836543209,
          2.230795233307352,
          0.18273407852012769,
          4.819813386113591,
          -1.8931190472758392,
          1.0877277036361306,
          1.2390028548321224,
          2.3940366677464064,
          2.5765941967237227,
          3.7581250644676363,
          3.603387921723094,
          3.0892966317647024,
          -0.29784148837110097,
          4.138457045658254,
          2.6839649557379306,
          0.995112491478824,
          -1.6409269228190297,
          -0.10733653159368282,
          -1.724294277415807,
          -2.2972037194660815,
          -2.1511737708624024,
          -1.575918141576342,
          -1.348705191495614,
          -2.0265484820804596,
          -2.1206904747689905,
          -1.930765453597681,
          -0.9234066530601988,
          -1.2516471860681757,
          -1.9113516620063313,
          0.7812550919890995,
          -0.5237497338668544,
          1.5258122967139613,
          -1.481522903777515,
          -0.8608015003990189,
          2.066445088869665,
          -0.39181100273553776,
          -0.8627420859305029,
          -1.7244851503949097,
          -2.4519764221514833,
          -2.4519764221514833,
          4.911094086350669,
          2.128422877629838,
          -2.0262276800530064,
          -1.725968840092767,
          -1.7612462995881784,
          -0.3294248445373817,
          -0.7167812722224354,
          2.359912655797254,
          -0.4109516244751083,
          -2.0724990678317305,
          0.4941512548817761,
          0.3947367578461069,
          0.5011147455994397,
          -0.15019477310741114,
          2.264366565829927,
          -1.3540154536804467,
          -1.470053255445316,
          -0.3914865896117506,
          2.9286868308441947,
          1.5627344941817936,
          -1.8046533953228456,
          4.421919934709,
          1.6666341252458163,
          -0.8630069468661107,
          -1.8240161816083955,
          6.202329832453553,
          2.7007297571142215,
          -1.9219988731601114,
          -3.8853351569825367,
          -0.32373523372279367,
          -1.483043799221637,
          -0.6661581305866606,
          -0.8975313027897442,
          -0.2715001095859922,
          -2.0260074964118413,
          0.030668548225323063,
          -0.6661581305866606,
          1.6679376175634002,
          -0.9628431990032486,
          0.0522904705860836,
          1.4342428370670819,
          -0.07440927214208679,
          0.3161956897243041,
          -1.6854348307187548,
          -1.3783735498215979,
          -0.5302811239602094,
          -1.9482834157370152,
          0.43768166538024544,
          0.4611651127096515,
          -0.6169217471719322,
          -1.1400256377059377,
          1.2533220435925634,
          -1.806501142362129,
          -2.1058975606514694,
          0.5834156893519935,
          0.6150431813346566,
          0.831406838024478,
          -1.1677498330947205,
          -1.8797451580250861,
          -1.5737313828666786,
          -1.7148709729100633,
          -1.2187163240425565,
          -0.9081075934919391,
          -2.407638506198656,
          -2.6312477371308924,
          1.5673168136376319,
          1.2606761374764388,
          -1.2731362784415334,
          -1.993389745172063,
          6.078392568331346,
          6.202329832453553,
          1.8806471974660988,
          0.4855038489729522,
          3.7247868746474655,
          4.999022851023018,
          -0.6507019188068313,
          2.831754032108112,
          5.157224121091322,
          3.8192902746508084,
          -1.8812815325483472,
          -1.0170415780895825,
          -2.343114277873314,
          -0.06139419459485988,
          1.1244973226335107,
          -1.0170415780895825,
          1.549987445185146,
          -0.23880439879088686,
          -2.0548948833262486,
          -1.4608536919332895,
          -1.2511268482027649,
          -1.432623136909021,
          -0.8322050040892998,
          -1.0170415780895825,
          -1.4771002595731548,
          -2.6286065993341605,
          -0.21035255659038826,
          3.72204110649193,
          -0.6601937727661528,
          -0.08898081277070348,
          -1.37964242876303,
          0.8934594009314052,
          -0.6029963198787521,
          -0.7120551860400111,
          -0.7769839379468497,
          -0.6805758573158176,
          -0.24279844901403597,
          -1.9562315383510138,
          4.118042026063585,
          5.71374103184416,
          -0.7417411626392633,
          4.424095099147774,
          2.3273182406295403,
          0.01776347120644584,
          0.30149399308499686,
          0.9650215283895129,
          0.022468392622494702,
          -1.219965045969142,
          0.34177511590531023,
          -0.5378912868672479,
          0.8644678960471944,
          4.004696577326853,
          4.0083201817748355,
          1.3829663131262548,
          -2.057429789142765,
          1.3094774137593317,
          -1.224422354766765,
          3.3013877478747737,
          -1.110760418476591,
          0.5360702750732725,
          -0.2474405369725477,
          -1.944189985078294,
          -2.1330576537603534,
          -1.0891187918604017,
          -1.8302469752259667,
          -0.1551641644934435,
          -0.9951653539849209,
          -1.3596060537015477,
          -0.6110809564064197,
          -2.549815498266093,
          -0.6067753052647096,
          -0.7288872748469308,
          -0.6427561202341465,
          -0.8384661829154207,
          7.048160534198845,
          3.086299510078866,
          1.649916053914384,
          0.5039626516959591,
          -0.7628234779254306,
          1.9098861430974081,
          -0.7381554703584138,
          -1.2105050375339605,
          -1.6165006411449974,
          2.915285284524165,
          0.7875315395435449,
          -1.4713066508652943,
          3.84053665448798,
          0.8180105809922924,
          -1.5363920461225526,
          1.5017010248753804,
          -0.8269573928584237,
          -1.2365537984863508,
          -1.121391039649664,
          0.35325357571309707,
          4.156988672470464,
          4.181143915852829,
          5.87424161794634,
          0.7726737970500199,
          -1.2384651584229953,
          0.17391144426442537,
          -0.2910191568213256,
          -1.3643289196729804,
          -1.0013576229512058,
          2.814361084932084,
          1.0152267748235704,
          -0.8997096472317109,
          -1.8161225830951806,
          -0.4069198563664321,
          -0.622250602204156,
          0.9298554236724593,
          -0.031158874814142843,
          -1.8953253854100014,
          -2.0864594737726576,
          -1.0330740365002864,
          -1.6484788353344302,
          -0.07688967377256141,
          -0.962672903751455,
          -2.0140350530214675,
          -1.3293413005641428,
          2.9602001025583218,
          0.33666129733437294,
          -1.7136150221763629,
          -1.4322797629514954,
          -0.9929724146692319,
          0.37104684811124206,
          2.638713405966959,
          -0.028077801649979212,
          -1.6676648655046544,
          -0.6079060289417965,
          0.022377474382160985,
          0.964520377690713,
          1.2387761280336043,
          0.3211546567581579,
          0.3993101634015991,
          1.4480493860298365,
          2.279897641894935,
          -0.2266340201036191,
          0.2531651111744046,
          -0.21480126217785958,
          -2.462853233747324,
          1.3697801765358002,
          1.7508953452310565,
          1.386329849583344,
          -1.2538737101450221,
          5.133050169971329,
          3.5265151258837024,
          6.346033202222228,
          -0.6161373499207324,
          -2.374828947252521,
          2.2533078147803627,
          0.8167571253489775,
          3.6537653788133895,
          -1.804742191826132,
          -1.86279511250348,
          -0.9242152643491615,
          0.7066524688936543,
          4.942598053975868,
          1.1252336127832747,
          4.795289250255229,
          2.4635678490115014,
          -0.09446247231001503,
          4.247306482872688,
          0.24903576136687022,
          -0.11019294017436582,
          -1.8060319312706898,
          -1.4690797127486255,
          -0.025425946360965224,
          0.33700374221790147,
          -1.027211372597083,
          -1.1806601610443503,
          -0.08462383414740911,
          -1.2131974145350355,
          -1.5289774319052671,
          -1.3378086857797185,
          0.9015460755941936,
          0.34704130353341367,
          -1.8391030814300064,
          -1.2105926310370032,
          -1.384304632240193,
          -1.1745523891881093,
          -0.890053471079528,
          -1.7792525918076771,
          -1.7629015313750145,
          -0.2262636987792051,
          -1.3596743740108537,
          -1.437329804222368,
          -1.0505476390009718,
          -1.2326907154182045,
          1.3565283499092402,
          -0.3174215584678997,
          -0.8073456954282031,
          0.629475313546108,
          -2.017437359162994,
          -0.1145479510711894,
          -0.5797367236830121,
          -1.8188905101656403,
          -0.21705098951570267,
          4.529430260517019,
          0.3331897153750488,
          0.9708797436014673,
          -0.17127054263204017,
          -0.7941852500264385,
          0.15892132499726702,
          -1.1876432241511599,
          -0.6402858806840852,
          0.8750838457096458,
          3.6087315817291605,
          5.022988638057472,
          5.805832447701813,
          -2.484585586954588,
          -0.0672387268575677,
          -1.8199456802868195,
          -0.1646375105025462,
          -0.9373426065815242,
          3.695987464448698,
          -0.11499063549310116,
          -0.31191194974263714,
          3.6087315817291605,
          2.9628211173285974,
          1.9745255543280622,
          -1.8693347569376908,
          3.9265835294224662,
          0.8514655969973894,
          0.25165487338245934,
          1.5069037952476556,
          0.8765073635953344,
          -0.8493286256975388,
          -2.767042218285058,
          -1.9426782361716541,
          -1.9404583741889683,
          -2.327714153105753,
          -0.48930088551692036,
          -1.2448085534620572,
          -1.4681887969761547,
          -0.41977050789702197,
          -1.1794041820554684,
          -0.7316519448921277,
          -1.9934477924940706,
          2.658957468748415,
          -1.8424902425655338,
          -1.9752037541359393,
          0.4973821345345367,
          2.8030142480459315,
          0.8898853897758209,
          -1.6997216230484242,
          -1.1189657700263957,
          -2.2297276153308534,
          -0.7369155743144543,
          -2.88605797276724,
          -0.04773120798274759,
          -1.2455077589325838,
          1.5812933821637343,
          0.38624025734861156,
          -1.3826420603119787,
          -2.4775829776870504,
          1.1497627661579266,
          -1.0859697564578685,
          0.620709962094117,
          -0.07313623450418846,
          0.0026958861477252454,
          2.1700272297685483,
          0.3671862771709784,
          -0.9314426872002091,
          2.353248545597484,
          -1.0597890934720589,
          -2.2761098556941257,
          -0.7031780913867125,
          -0.2926633824128864,
          1.028040233030184,
          -1.164822137677721,
          0.45116045775254693,
          -0.5491172599185664,
          -0.6751459147216337,
          0.29979688154291123,
          2.6834129126268174,
          0.5984074638508651,
          -0.5498879058004916,
          1.5305789710549684,
          1.6719273733102393,
          2.3650341880945853,
          0.5073760258805263,
          -1.3539098259275262,
          0.5151319213344545,
          1.060828923229481,
          0.5729789672192868,
          -0.7152407495550066,
          -0.04317819295220945,
          1.6217258746453855,
          0.3675158568404502,
          -0.7640261804664313,
          -0.5419837729171586,
          1.015600427668298,
          -1.01049010397187,
          0.3474543065382513,
          -0.2807461940428685,
          3.187703134852316,
          -0.5452603790317763,
          -1.6326205624300452,
          -1.1815682360615913,
          0.4831617885888133,
          -0.466248275325724,
          -0.6461748391001934,
          4.245475571774246,
          -0.17032794041760213,
          3.479867491808314,
          3.840975880940371,
          4.963938781947001,
          4.408080150824802,
          4.1394962969338644,
          4.0312853081022775,
          3.936321424219398,
          4.187078489713528,
          4.917808163601022,
          4.959531607032035,
          5.491363812178901,
          1.532462469055251,
          3.786004970194431,
          4.224405197605612,
          3.8134457247031834,
          4.269047290947432,
          5.355886276386326,
          5.634525317250319,
          5.1313660242134755,
          1.5778734844665672,
          3.6283998048063006,
          3.374867958400429,
          3.1366409364731798,
          1.5464616640991646,
          1.7734555001668184,
          -0.5736981384083432,
          -1.3474769379185094,
          -1.4095676969430224,
          -1.7902349574504641,
          -0.9599392716314983,
          -2.337850209070728,
          -1.9219232563386313,
          -1.4554683365959464,
          -1.9072262876723376,
          -0.6716795002770616,
          -2.0046562231551,
          0.32515666255138215,
          -1.1523860720717631,
          -1.4557044571067257,
          0.18059071362684395,
          -1.9079350595148414,
          3.523659061137904,
          -2.0491186934792074,
          3.6180834062291516,
          -1.7374845146577123,
          -1.4392948516572375,
          -1.5714083380161563,
          6.308184544302045,
          5.008294840003463,
          5.403265664257091,
          -1.4853710029965543,
          0.3311437672951791,
          -0.4641995131727807,
          2.793778628069706,
          2.2293271459533783,
          1.38933340092157,
          4.269223510110594,
          2.147444725142785,
          0.7629686163768585,
          0.531388064953963,
          -1.1115207404332916,
          -1.8204209333872408,
          -2.1921376455691464,
          -1.673062677563711,
          -0.5625611286937776,
          0.4519180457487409,
          1.9195738575431909,
          -0.8702170708257271,
          1.074174843768602,
          -0.22718136569597505,
          -0.8526204872249912,
          0.43098339581022177,
          -1.5594414900234002,
          -1.788385764949038,
          -1.2843690828034704,
          -0.3289293614603015,
          1.0518143755809615,
          0.5340816012176959,
          -1.1097151949345354,
          -1.9685741228713423,
          1.3526971314440266,
          -1.1080951590932835,
          -1.1080951590932835,
          -0.7862581323449506,
          -2.186656988218458,
          -0.7966028054395373,
          -1.841841154586214,
          -0.7800250543797561,
          -2.478483820128176,
          0.25976035564036554,
          -1.3550297693817037,
          -1.6177557993272016,
          -1.8260772103567111,
          -2.304690502949195,
          -1.723555396848576,
          -1.376194964792644,
          -1.021875743285251,
          -1.7791379054828036,
          -2.656622572909874,
          1.0291146255100552,
          -3.094666351260062,
          0.27246992250829655,
          -1.7900071853916144,
          -2.4793830877712413,
          -1.887169023550591,
          -2.643073812178535,
          -0.3573801366614946,
          -2.5671936495562435,
          1.3794835128663618,
          4.5251235539365995,
          4.7168851866997485,
          2.5950255919710714,
          -1.136616537299093,
          1.9842254319975152,
          -2.4281391425039125,
          -1.3561754011404556,
          -1.650755700271235,
          -0.9916773688297724,
          -1.461483843233099,
          -2.1097261247542543,
          -0.5491172599185664,
          -1.9852742550337785,
          4.386572613899494,
          -1.1101722919442205,
          3.3776002947938024,
          -2.434424783398598,
          3.5934938671033767,
          -0.49643132082921504,
          -2.4420108168095616,
          1.0393967728352178,
          0.02417263635027935,
          -2.536043601464767,
          -1.422496176121462,
          0.02417263635027935,
          -0.26129956152696826,
          -0.9108428135470117,
          2.0940424856091577,
          -2.5645649137076534,
          -1.2386221853149895,
          -0.3084219235875969,
          -1.5155895125722454,
          -2.031298614678039,
          3.8631048897343296,
          -0.10838299594407808,
          -0.6022552644160746,
          0.5177509655213353,
          -1.7090697231493612,
          -0.27614522230501154,
          -0.7551372548019923,
          -1.3763064760423587,
          -0.5312260392016597,
          0.2371719517248253,
          -0.30260817294212433,
          -0.5065280021147479,
          -1.2055895512885555,
          -0.8204348260187277,
          0.26606506371005967,
          -0.29884421461537863,
          -0.8728012554034785,
          -1.717566729264643,
          -1.5155528888804233,
          0.8864093485671779,
          -1.6766468747459689,
          -0.46943459661423476,
          0.8710775895722577,
          -0.864470567661513,
          -0.7144561741353826,
          -0.44068855694914744,
          -2.7902709009224282,
          2.890414617654671,
          -1.150727671831472,
          -0.8031773216690989,
          -1.9473824019540282,
          -2.162963617094736,
          -1.472365498550097,
          -2.689312140284417,
          0.9240011933509124,
          -1.7474528809598429,
          -0.14576653368649944,
          -1.8983586902445275,
          -2.669347847935738,
          -0.5221693744493353,
          -1.4548434949416964,
          -1.0283096381666232,
          2.3622397711804495,
          0.5436395862813684,
          -1.8689304368530824,
          1.171003621255904,
          0.6999040042938868,
          -1.7044471429551558,
          -0.5920546990026886,
          0.44986497282074445,
          -0.3295745148089146,
          -1.6376693914418614,
          -1.4572609901665465,
          2.466070869617821,
          -1.2095953675949744,
          0.52545558994816,
          0.07547147484810421,
          -1.584713439364369,
          -2.9080619282235425,
          -1.1765084408048712,
          -1.9119343526634272,
          0.9356036829290545,
          -0.360866002569672,
          0.967963586119678,
          4.6998166753688375,
          -0.47233140556173175,
          -2.005630532214279,
          1.5727472398500433,
          -0.9464089318334714,
          1.4686267276229195,
          0.5011147455994397,
          -1.353749504362388,
          -1.8434120476123383,
          -0.6537657414667511,
          0.8902655962892376,
          -2.81625912505893,
          -1.2235095886351692,
          -1.5127849605175303,
          -0.9684779368006291,
          1.1487058582651941,
          -1.0984469249325663,
          0.5022377972137841,
          -1.4812543999862988,
          -0.5435665341609941,
          -1.2909649366086229,
          -2.162833307478608,
          -0.835474329435407,
          -0.03314856246124819,
          -2.01492656924932,
          1.7960332420843481,
          0.7846163460118258,
          0.32114376159708014,
          -2.190137139222609,
          2.5971373640647015,
          -1.6127967117375048,
          3.0260530289477514,
          -2.0657056457669625,
          -1.5210993374175872,
          -0.925865517834651,
          -2.0743795323201732,
          0.7511849781136254,
          -1.7164833605229055,
          1.319945573060845,
          -0.29967490885489706,
          -1.0601592783170957,
          -1.5793861632167494,
          -1.6924656514757916,
          -3.1331777327955384,
          -0.03724623286296941,
          -0.08421121464130286,
          -0.7467746719958067,
          -0.1647082456687928,
          1.4022482201741098,
          0.4677989764236719,
          -1.337321684088965,
          0.08110278845448325,
          -1.3779265458413694,
          5.031107844903642,
          -1.898392214778935,
          0.5995552083481094,
          3.5252046394474528,
          2.268319149636233,
          0.9096299592015552,
          -1.0264189143478997,
          -1.0690904627080775,
          0.6556631320797353,
          -2.023769019412259,
          2.195920999905059,
          -1.920267434098356,
          0.6521268829335781,
          5.2627185446411175,
          -0.6974112188432156,
          0.7820338260369207,
          -0.20904323278860742,
          0.699842765245405,
          -2.02243352397587,
          0.4712071639952824,
          -1.2604802866831242,
          1.827145455088547,
          6.08331832860931,
          -0.8508696332442826,
          -2.082504837264759,
          -2.2243366255023744,
          1.4014298850676459,
          -2.722829529958678,
          -1.6085417664418036,
          1.6013054390496706,
          3.3170485154906744,
          -0.8936287712528009,
          -1.0459539727090392,
          -0.7263218841933015,
          -2.9436481698922803,
          0.06221403756445258,
          -1.1663865563967568,
          -0.5132483562854901,
          0.6525178740460752,
          2.21362342848149,
          4.1576892330428565,
          3.9952644486572773,
          3.744144134343591,
          3.3340361292652165,
          -0.6706922862361583,
          3.7210836024692706,
          -0.7220199150774419,
          -1.5037488884709558,
          -1.8208063443174316,
          -1.3092499530556865,
          -0.5828274996029226,
          1.876743018100115,
          -2.3135721971896457,
          0.709912820129311,
          -0.7812682277707922,
          3.3949279818682614,
          0.903288027373049,
          -1.5365804542172703,
          -1.6283452043117546,
          -1.7022684814942097,
          -2.4352854352283106,
          2.018654282616749,
          -0.3166155515639368,
          -0.894195429026457,
          1.1047609784727366,
          -0.19612740703368445,
          -1.3280200419065071,
          -1.8704463127127666,
          -0.7325588346573657,
          -2.432210455632508,
          -1.0631051517428247,
          -0.9018458559798237,
          -0.5690495861384954,
          -1.7303866732825899,
          -2.1007718092553653,
          0.1206240525104141,
          -1.5280973319537652,
          -1.9108022973619925,
          -0.21031089609908887,
          -1.7943548127338844,
          -1.536121305827938,
          -2.2160001367279683,
          -1.4955985695299736,
          -2.5500589751698035,
          -1.0982262167206471,
          -1.2393277340386915,
          -0.8577092210584625,
          3.6603956645131976,
          -2.660151441663605,
          4.225043041397309,
          0.4150807814857094,
          1.1880597387996028,
          2.7531891075881902,
          -0.2904984597290935,
          0.5136929486351988,
          1.8792188806685464,
          -1.6657745499794445,
          4.16629363480601,
          -0.5221693744493353,
          1.0434337104662204,
          -1.873099653497444,
          0.850028535373001,
          -0.3318503843828148,
          0.274429975132187,
          3.4812762404541298,
          2.331775500646689,
          -0.070845907338905,
          -1.2092837434063104,
          -1.3631427295039162,
          -2.4502227813858073,
          -2.088476993478859,
          -1.8057549808143707,
          -3.399583731082441,
          -1.6998225891375285,
          1.5209018222443895,
          0.764630880089688,
          4.478609512834524,
          2.46611331980397,
          -2.2354904599284438,
          -0.8246614851720212,
          3.432450645076328,
          -0.48823623226826873,
          -2.081322355130963,
          0.14989400405551642,
          1.8973889528910979,
          -0.13683775308019527,
          0.4502592342354178,
          2.095768666277787,
          0.9153914685653929,
          0.5857264273779648,
          2.233359533306139,
          -3.0450765877715464,
          -2.3291508714311786,
          0.4543220270451263,
          -1.6301207350897284,
          -1.4143229884606356,
          0.24435456870028174,
          3.2107996485644117,
          -0.930453295454429,
          5.150035753984846,
          5.004281707388852,
          -1.314867575910186,
          -0.7597385878813331,
          -1.6628375487419684,
          -1.8902303297831153,
          -1.5328467352522712,
          -1.2536233695640102,
          -1.2302352255235955,
          0.10461162581345694,
          0.5222047642496492,
          4.431045401922308,
          -1.1896884868417057,
          0.3826515107286234,
          -0.7773625634585406,
          -1.4952959189875157,
          1.667526722398397,
          1.4852428780681362,
          4.35672954412344,
          -0.9108592533331861,
          0.18164272293418435,
          -1.873258245423778,
          -1.6946786996734682,
          0.4358314317588783,
          0.4879910198583264,
          2.7658581502204442,
          1.9540876681797315,
          -0.17613599599091587,
          0.42279312293853333,
          -1.6117359369821933,
          -1.0419915528465544,
          -0.12021237473150559,
          -0.11140233801850458,
          -0.34434278626743653,
          0.667275090482225,
          -1.2131974145350355,
          2.513690310109367,
          1.1845545043666215,
          -1.7553890311473104,
          -0.699241830621049,
          -1.0580195579562361,
          2.3119403786115758,
          -0.13688948178293048,
          -0.8741749815567252,
          -0.9304422088236257,
          -0.9840382097343711,
          -1.3564305630785602,
          3.3966287287929497,
          -1.768816066207472,
          0.25324946539756943,
          -0.5625432966733259,
          0.13894980838009163,
          2.9951823246963127,
          2.3219296947796315,
          -1.496489526363348,
          3.274369314931622,
          5.335536638163785,
          1.1970948667173524,
          -0.9325106706495256,
          -1.0348098358027844,
          -2.0251481991515754,
          1.0657747825801023,
          -0.38574105649317053,
          -0.6253799907794838,
          1.5479900682861594,
          -0.9325106706495256,
          1.1810200528402168,
          3.680927642400891,
          3.7570147332726567,
          0.012415187357944297,
          -3.0305697190318286,
          -0.909841045316186,
          -1.5191912139342887,
          -0.9195814288618506,
          3.8284561838288953,
          -1.1117133103932169,
          2.267337362057983,
          -1.5150721309734037,
          -1.3925033257613098,
          -1.2995846666732849,
          -0.12266151502753905,
          -1.8668753039071238,
          -1.5018729408205727,
          -0.5700160017381584,
          3.0398822705104624,
          -1.8005405433301167,
          -3.6632315599681697,
          -1.467945509235146,
          -1.0800614696303619,
          0.8055109936842516,
          -2.820267239135903,
          -3.45297103377621,
          -1.1110635172556058,
          -2.791897090464664,
          -0.6542529218710774,
          -1.2316328350265482,
          -1.3092383176769793,
          -0.4469941032014112,
          -2.114793859435531,
          -0.8486770478305637,
          -0.9409778444685297,
          -1.8320832439959551,
          -1.4789288509342504,
          -0.26031174767672044,
          0.7062856706652328,
          -0.9472312383775648,
          -1.8280677033103916,
          2.896886985755477,
          4.20959320166084,
          -2.754870819905935,
          -1.5459459240384146,
          -1.8925052109960359,
          -1.70677842552451,
          -1.6774539508660653,
          -0.45635185837174247,
          -1.3346043453735323,
          -0.32162950035437043,
          -1.500647593596194,
          -1.459593817023981,
          -0.8243341544860177,
          -0.6580875903276756,
          0.2864270143471926,
          -1.2796134458978503,
          -0.3704970587555019,
          -1.2343513887207487,
          3.996300547145878,
          3.3395779158555374,
          5.384016484346954,
          0.21837706806185975,
          -2.306768848291025,
          -0.5021981388206964,
          -1.0068978534182302,
          -2.147694443940263,
          -2.3968637435576947,
          2.7096069646934557,
          1.7560435745437575,
          -0.94439738729985,
          -1.139643098815128,
          3.5578638142965175,
          3.8535198201214174,
          -0.8855858941782224,
          -0.9829651653205775,
          -2.3201254212705926,
          -1.2569492976215006,
          -1.7231498462043988,
          5.961074281238081,
          -0.9304306817837598,
          3.7923096640832363,
          2.533893924578384,
          2.4003469329064773,
          -1.7878372257776933,
          -0.2335289532416393,
          -1.886370281355143,
          -3.0007847223145747,
          -2.0888534256576934,
          1.0430639994862434,
          1.4753691607777786,
          -0.7167812722224354,
          -1.8241639760866637,
          -1.0939818264875405,
          -1.4173759806756037,
          -0.922767215658918,
          -1.1044280464120815,
          0.06735268474735767,
          -0.7895365930463456,
          -0.07072149456798933,
          -1.8517630213186198,
          -1.8601271467736316,
          -0.08828355973957969,
          -0.25544103116343236,
          1.8793807339843214,
          0.9116853878805077,
          0.10012379315178056,
          -0.6039439779725397,
          -2.929817585496706,
          0.19839714092277716,
          -0.44918673033604095,
          -0.7937960986538578,
          -0.62065103006663,
          -1.4459240490094991,
          -2.336906125358008,
          -1.4633820680402188,
          -1.2208847510985552,
          -1.1296546207459441,
          -0.17787330371714827,
          -0.6960752028433913,
          -1.3678339527436498,
          -2.34468824468903,
          -1.599435550174289,
          -0.6953135901672183,
          1.6229388520328991,
          2.7823998445336766,
          2.285874428736389,
          2.1555507987969493,
          -0.264782944410472,
          2.827606248898017,
          0.6100656850450635,
          1.3174805042783155,
          2.7468007751696355,
          -2.2523754075787217,
          0.7036343124900754,
          -0.0011837602491466242,
          -1.4829619080699747,
          -1.1075232058518314,
          -0.6971997960267933,
          -1.956862020873561,
          -1.1054970278095249,
          -1.32648319357015,
          -1.7849025600389334,
          -1.281137179120504,
          -2.88605797276724,
          -1.24183485681529,
          -0.1542720354675348,
          0.5668302283795723,
          3.163873829531572,
          5.047031224564761,
          1.2487075452916392,
          0.6273736799906448,
          0.07539853780510651,
          4.046423353988648,
          -2.094841489535947,
          1.7704705061504313,
          1.3428053485486469,
          -0.6281159028604067,
          2.7007571007880022,
          -2.8964595824616746,
          -0.4890714865795564,
          -2.4153603716354715,
          3.350597068739797,
          0.11785838188577162,
          -2.0818315040779085,
          3.3833813768610868,
          -2.0288683703444144,
          -1.9296895864420245,
          1.9624352875108144,
          -0.11473781767402505,
          -0.8976185323361087,
          -0.6162589382614417,
          -1.3398506344220296,
          -1.8605094581925588,
          -1.1256165151572666,
          -1.3471905127214172,
          -1.6634667301389172,
          -1.7937172212243648,
          1.711607079218844,
          0.6875307868210218,
          2.359912655797254,
          3.4077455863709987,
          3.420163417355515,
          3.1704080433561854,
          4.18970943674314,
          0.8861883023723555,
          -1.2041336806401504,
          -2.433266038421999,
          4.396257729264009,
          -0.9943458450544885,
          -1.6640786009656174,
          -0.6530120732992515,
          -0.7024160963306586,
          -1.6162721975405985,
          2.700067123399995,
          3.1332303142138076,
          2.623033645020914,
          -1.7234064226917916,
          -2.880024558039392,
          -1.8011679111545578,
          -1.6369871043498487,
          -1.8914809660644971,
          4.618935780161162,
          4.050843042184683,
          4.352663051268989,
          5.122067061563875,
          3.906816410033584,
          3.98667898091499,
          2.7852234093895096,
          0.9999800069643607,
          0.6799719491218106,
          0.014298306941484101,
          -3.15615276114799,
          0.022755347441270557,
          0.022755347441270557,
          0.16215521835046748,
          1.8848249364406588,
          -1.6357883699260118,
          -1.4405368092396222,
          1.9595862552593732,
          -1.9643963626404657,
          -1.5973738646502857,
          -2.0894463149704245,
          -1.8026658189060807,
          -1.2917710621025624,
          1.6122957977964256,
          -1.0597890934720589,
          4.601631831528846,
          4.450568176559052,
          5.210196579660407,
          5.777399769903293,
          0.20076562572775616,
          2.1326120989580444,
          1.7459968094343299,
          1.7459968094343299,
          0.20076562572775616,
          0.34546684392774046,
          -1.5154226810918987,
          -1.6922378597241023,
          4.31068187824916,
          0.4692689472391066,
          2.324208231380985,
          0.9381121233998028,
          1.1841252442734742,
          -0.37430669765646185,
          1.0133098935057994,
          1.0103085340590077,
          0.7875315203113377,
          -0.5858043284252912,
          -2.643227313951731,
          0.7454678649645963,
          1.043743896138431,
          4.839564142521276,
          2.2896581436048016,
          -1.3025333410462445,
          -1.3212499387413394,
          4.033258007856048,
          -0.905465327976194,
          1.407715454286361,
          1.819776761863795,
          -2.0266801412988684,
          0.40697399193667644,
          -0.17898853073046175,
          0.4847618118735983,
          0.2637378078660116,
          1.9490472897705735,
          -1.2617841821502729,
          0.14921514800553637,
          -0.21755040086465208,
          -0.7624724066787736,
          -0.9387029953969072,
          0.27949977926882497,
          -0.7588630483770615,
          -2.1527959857986354,
          -1.5357814618078707,
          0.8290154285889062,
          -0.9817137056298624,
          0.0007320463538185841,
          -1.059070178230983,
          -0.7529011708788536,
          -2.517514521755166,
          -2.3199405171221925,
          -0.23471491664775535,
          -0.2212072962441549,
          -0.6810305719934205,
          -1.3423911334200633,
          0.9329099433229778,
          -0.3313859860091322,
          -1.3663419235685064,
          -1.0192775239661638,
          -0.5491172599185664,
          0.05306629499184315,
          -1.2567107324055797,
          5.2596615069742905,
          -0.29656343051103423,
          -0.20192591787069977,
          -2.0246023398504875,
          -1.444368659354202,
          -0.9751839182365106,
          0.05452714640811929,
          1.4523524534217276,
          0.8192739231873558,
          0.07698261684037497,
          -2.424113347680563,
          -1.049939683603636,
          1.3593481661758209,
          -0.8437018248035704,
          -0.4054386474312063,
          0.6101227140817003,
          0.12017397103911717,
          -1.0084097097668359,
          1.2229974720456416,
          -1.1031682937994673,
          -1.408341857167976,
          2.5756303060219787,
          -0.15864834545483422,
          2.9154589235875887,
          0.014968192928110167,
          1.408880672599902,
          0.8082967149746685,
          0.44649458027625727,
          -1.2795600059785792,
          2.827260081154489,
          -0.42771336379760105,
          -0.8837451046928396,
          -0.2309309414336442,
          -0.537144704557478,
          1.388078437052671,
          -1.0597890934720589,
          0.879532444809649,
          1.4764147298242967,
          2.7650016272370346,
          5.637075618753222,
          3.5002357640189086,
          -1.510418400212594,
          -1.233484359154511,
          -0.7529405029218752,
          0.08511187324309202,
          0.3205109851451521,
          -0.9120762581936733,
          -0.27858070029414067,
          3.0884336247674824,
          4.143247777999699,
          2.3997163163978628,
          3.176957929846901,
          -0.6044283440694093,
          5.574219688203976,
          5.333727896640729,
          -0.17032794041760213,
          -1.4427210612478674,
          -1.339987937021491,
          -1.339987937021491,
          -1.0802458985701935,
          3.9166593931872025,
          1.1333539879918562,
          3.1319240633605454,
          -1.339987937021491,
          3.1351717246654647,
          0.05296106361416567,
          3.8242286853002567,
          3.313960361031422,
          0.6376433975357712,
          -1.36782764945165,
          1.4795949689527153,
          0.5075398114106456,
          4.025163763893031,
          3.397634175449696,
          3.3025291157013466,
          2.8311288224741102,
          0.42987039872092503,
          2.6526038200999014,
          1.9894395187425362,
          -2.44513483770625,
          -1.9828992824413245,
          -2.9088138803783714,
          4.9107130097471,
          -0.6498036654322981,
          -1.5303444494938008,
          -2.7153897454154534,
          -2.068754415796766,
          -2.254254299700384,
          -2.010052679611556,
          -2.1099099573153444,
          -2.2236326075156025,
          -2.3132103064829805,
          -0.9502346814249345,
          -2.1364027095393263,
          -1.0065335489460212,
          -0.5635117535932607,
          -0.5452437114590932,
          -2.2698090988609714,
          -1.2016336137926904,
          -1.311771496073856,
          0.11607867116484773,
          -1.1573319711835885,
          2.8442612084686396,
          4.816971047050103,
          5.388502137886452,
          4.902234021478256,
          0.1780400797411065,
          3.129629623900942,
          -2.6715653444756344,
          -1.4732881003033544,
          1.210945654717013,
          -0.6283268472049904,
          -1.8232159852586598,
          -2.7616267192664967,
          -0.803841294157297,
          3.129629623900942,
          1.2775355899569354,
          -3.499987153766303,
          1.3589483043899595,
          1.7385554462803212,
          -0.22573449118776973,
          -2.274067346388717,
          -2.7222920271687414,
          -0.566571472819475,
          -0.7245547433332963,
          -1.899241989411069,
          -2.8397395979008904,
          -2.077917337088171,
          -0.8771721526876298,
          -0.4066838677898678,
          -2.4626824440774846,
          -0.9502346814249345,
          -0.8848052512508217,
          -1.4759715630515948,
          1.034056339073768,
          3.9266530882283908,
          1.3504189491626393,
          0.4022811443833136,
          -0.7883433217568936,
          2.0279654140200662,
          2.040217954687529,
          0.8979910073856029,
          -1.3703622819832755,
          2.195947876785935,
          -0.3257151107438928,
          2.1667905160060257,
          -0.10849963879625153,
          0.5555801926793557,
          2.685527235091846,
          2.062971850274052,
          1.9327789730120883,
          0.5823874663723919,
          1.4280076694700532,
          2.227950207798836,
          2.014111723724462,
          -1.7548260472472825,
          3.1452711577365067,
          1.885187831139477,
          0.5461741363291336,
          2.35639662820332,
          0.8590333940405688,
          1.5750036225782404,
          -1.4254079176047505,
          0.13229505704734862,
          1.6585341861753573,
          2.633080100731385,
          1.2919858967101825,
          1.5307731412375465,
          1.803011284665709,
          0.06706942676046095,
          1.8045403505981712,
          1.3745874347744325,
          -0.08395614302769329,
          4.04974917271146,
          -2.127550029030416,
          0.5273523375187048,
          -3.091473789327693,
          -0.9291176379098582,
          -0.40155489571023395,
          1.1987811941730082,
          -1.4489486989802909,
          0.421641958378347,
          -1.0348098358027844,
          -0.633742057212648,
          -2.183496509851048,
          -2.1758672952105016,
          -2.8243568560471215,
          -1.56578514390647,
          2.488852486987385,
          1.7069952938522666,
          -1.769952541362464,
          2.094428753589454,
          -2.53894056107489,
          1.7757562576013035,
          -1.3673813815784819,
          -2.321719004377393,
          -0.07145510003716102,
          -0.12953515656082043,
          0.017056520577367566,
          -1.691861566206561,
          0.24788898634042067,
          -3.371949005692059,
          1.8109439725347165,
          -2.9563167102804075,
          -0.9326576513945367,
          1.5453563721904258,
          2.0175676302543035,
          -0.9777384825203547,
          -1.8088045851480499,
          -0.1976493893370134,
          -1.7360045350795763,
          3.6842201989297214,
          -0.6847094485509618,
          -0.26031174767672044,
          1.542298888804766,
          0.5930026646121647,
          -1.79129596701368,
          3.118021498922634,
          3.3580144918752346,
          3.5099309650882855,
          -0.19461924016161813,
          2.4805279637902267,
          4.51777681091401,
          6.091867137337179,
          -1.3864258127587992,
          -1.6590894291934788,
          -0.8451615089399572,
          -1.0417192548785006,
          -2.2126328441140077,
          3.9047624185662873,
          2.3576582971520192,
          0.039926016615874506,
          -1.1004953247578724,
          -1.3293394373721157,
          2.4179234417138877,
          -1.8494158071698898,
          0.6194589894389171,
          0.7007141496868065,
          -0.2213109957661942,
          4.06980584025991,
          -1.6915198589429594,
          -1.6480326701342507,
          -1.6266757262409495,
          5.070598490109719,
          -1.201206943076523,
          -0.20161483159628854,
          2.212377949900128,
          -2.464924839700888,
          -1.9249814682117181,
          -2.408016409672176,
          -0.398160654694489,
          -1.148112784395048,
          -1.2373304643909677,
          -1.4628181365509456,
          -2.6429915346372574,
          1.9533017033003972,
          -2.119572558061232,
          -1.0140421857817665,
          -1.8430894155768578,
          -0.17434341580478338,
          -1.8079063743752273,
          -1.0770098667738888,
          -1.4905481769240279,
          -1.2980784897176674,
          2.3650341880945853,
          2.805690268078532,
          0.4847235106188626,
          0.8549288236322987,
          -1.5013922149508803,
          -1.3673565615888008,
          -1.5786623309290855,
          1.9460913874910202,
          0.031744030736047736,
          3.5189870964878094,
          -0.12194207361813136,
          -0.864382642719713,
          -0.3431640158084613,
          0.14879956982851628,
          -0.7021345155769475,
          2.5268907301930503,
          -1.5907428957012462,
          -0.040819221845632185,
          0.7899298288307451,
          -0.9108592533331861,
          0.534549296006677,
          1.7118640514247772,
          0.32913723878694856,
          1.1931202253106965,
          1.0958689907088612,
          1.2545681987114246,
          -1.6454912421714354,
          0.06998303323160561,
          -0.6562708849308381,
          -0.8025844842561631,
          1.0288670632622683,
          1.5503148149597903,
          0.7522544149888781,
          -1.359475279504687,
          3.0180003913879476,
          1.0712957412947137,
          3.2217287372984598,
          -0.09309152149855271,
          -1.2985779973467597,
          3.218628062553707,
          2.1326120989580444,
          -2.3446730016825588,
          0.40529331240226685,
          -0.5726023021440036,
          -0.8831651240421453,
          0.28649928790183976,
          -1.1602891468274368,
          0.7158496154657078,
          3.510753435620002,
          -0.20646597214665752,
          0.138936391592187,
          -1.8058188159171573,
          -1.769051266009559,
          0.8116576480875335,
          0.33752469190627377,
          -0.010394775910613148,
          -0.8944573785036675,
          0.21387473617623218,
          0.23100452434814062,
          2.030878227187985,
          -2.2995204704233037,
          2.464111119546669,
          2.119217861721359,
          0.039000464651965744,
          -0.65387592408223,
          -2.508627218880719,
          0.812356547263444,
          -1.5787530557618963,
          0.21465726009403763,
          -1.8370165087569919,
          0.9229565319598535,
          5.656350818133166,
          1.2758796109944472,
          -0.508797701075044,
          4.278428722085263,
          0.6992100078765245,
          -2.3841364242986844,
          -1.7777308426945024,
          -1.7803898860126586,
          -0.4167539682681076,
          -1.1894418289754798,
          -1.3168814365839554,
          -1.341598059302448,
          -1.905707607756692,
          -0.9399967293329513,
          -1.680868515200481,
          -1.1904065555535015,
          -1.4119055620195098,
          -1.9190223555873647,
          -1.68182039020012,
          -1.4359027004171456,
          -2.0112309024792445,
          0.09121406890156471,
          0.5055869622129682,
          -2.399124947771616,
          -1.487800537177721,
          0.09012877718788295,
          0.3101465274982157,
          -1.4468211063157406,
          -1.8879364766330238,
          -0.43080997590404646,
          1.9127398992549012,
          -0.9340739420096711,
          -0.09245424702743185,
          -1.0170415780895825,
          -1.4337106390703676,
          -1.1513085587600573,
          -0.3505327260134419,
          4.891728612485046,
          -2.262035465700967,
          -1.1646239535239478,
          -1.4194876518446777,
          -2.1789826747725147,
          -1.7048467653411057,
          0.08723516303489862,
          -1.5513713971895922,
          -1.1305919329747003,
          -2.0086014603024736,
          -1.9719849087291317,
          -0.7603552441700436,
          -1.7081845936205522,
          -1.4526447883764575,
          1.093653629083842,
          4.707297316935378,
          4.066416551661851,
          0.8449080453819631,
          2.0175676302543035,
          -0.52210295025559,
          -1.0819030183511795,
          0.9363603495410898,
          -1.6901930633720714,
          -0.06734437755377293,
          3.128409610084765,
          -0.013372924890362198,
          0.9315488370480677,
          -1.107898841368992,
          0.9836845171357771,
          -0.6216384167307979,
          4.176384153224834,
          -0.817465064791611,
          -0.9844049327521114,
          -1.9340208521383095,
          -0.9150586306583646,
          -1.9024375077661242,
          -1.5991191899978698,
          -0.39791226734428153,
          3.1890107734387274,
          -1.3604505665769036,
          -0.7141034047337278,
          -1.591493898603846,
          -0.26981790114743487,
          -0.32057160195909273,
          -0.9748467556979404,
          -0.6346112423952767,
          -1.4852467869909067,
          -0.6488361413093127,
          -0.6875208972982042,
          -0.5235210522524474,
          -1.2997644179330268,
          -0.3937474251797382,
          3.4924077989945763,
          2.5763577232711787,
          -1.2550502056471333,
          3.8527580670263832,
          -1.396365404235285,
          -1.5970419948490957,
          -1.6886328758157625,
          -1.3774550293604104,
          -1.3690729524620973,
          -2.0826181995813404,
          -1.1954018276570275,
          3.4027511525664957,
          -1.9587229941745263,
          -2.6463148412916944,
          2.3353127950974377,
          -2.3458247510817456,
          1.395742623948654,
          0.3091765784289805,
          0.3091765784289805,
          0.04825874689567828,
          -1.0823520722647513,
          3.0490881810417645,
          -2.0975769095841956,
          0.2531651111744046,
          -0.1542720354675348,
          -0.41240181977992446,
          2.894885667642769,
          0.9925700176837309,
          -0.10380387445274387,
          1.8938195243268834,
          0.9398182903443857,
          -2.2190070001920588,
          -0.4028999508832646,
          0.48555984194642154,
          -1.6946786996734682,
          4.453263833371461,
          -1.7698042251005008,
          -1.2917710621025624,
          -1.8456441547473574,
          0.09262464006245327,
          -1.8537718049763492,
          -0.3241240622174609,
          5.69903030487743,
          2.3817849882339313,
          -1.5609102360473242,
          -0.2799174074815622,
          -0.5542550572699004,
          -0.6637454999146549,
          -0.32926983060965087,
          0.6663435469489171,
          -0.8145720543150349,
          0.6939265197491395,
          1.4162075885952456,
          0.5778186477553678,
          -1.2584741789017153,
          -0.18772365879072295,
          -0.8836013757068081,
          -1.687550678598695,
          1.5211340327985539,
          0.2195908194829518,
          0.28850205362561165,
          -1.4926217671802822,
          -0.211756924475581,
          -0.1758102049616311,
          -0.8875625801717648,
          -1.2556219866206992,
          -1.2269361604283717,
          4.618935780161162,
          1.355223902642623,
          1.9336164093535606,
          0.3436840728473283,
          -0.5690376399407613,
          -1.8919920103002283,
          -0.5841890549176633,
          0.33276996189999747,
          -1.9175550818936062,
          -1.2392356281844932,
          -0.0954652032579174,
          0.5577786585832499,
          3.0028015739045237,
          -0.5753522125886525,
          4.161022525837934,
          -1.9988770057703384,
          3.7468909865289746,
          2.224478260333411,
          -2.060176960058503,
          -0.7651747940113192,
          -0.8818233752987574,
          2.2008285870324484,
          -0.5335105742105523,
          -0.5913765417068703,
          -0.8686121365386247,
          3.12692919116963,
          1.5727472398500433,
          1.824178863093158,
          0.9487631695800588,
          -0.7979632686424235,
          -1.527438509373405,
          -0.04031006817489258,
          -1.4688940844932519,
          -1.5189484652220933,
          -0.3336390303841238,
          -0.28741846532537435,
          1.9173914860919665,
          4.2177932577548924,
          0.812356547263444,
          -2.026822876035976,
          -0.988860302587997,
          1.3505978175446607,
          1.3505978175446607,
          -0.22448253695649295,
          -1.559982375387886,
          -0.9445110188851548,
          -0.9687374941369977,
          -1.9473824019540282,
          3.26261958089601,
          3.3357502012362765,
          -0.08400104548676984,
          -1.8353016618474367,
          -1.0147768860330912,
          0.6805879787852326,
          -0.9288952404986122,
          -0.9673631567290876,
          4.168363339147136,
          -0.8950461905575409,
          -1.6554978350332168,
          -0.6736705457075541,
          -1.5694794034452286,
          -1.6619836307825164,
          -0.1588995810750407,
          0.6637508483382975,
          -0.8307561706234647,
          -2.283315635946637,
          0.8752453390642244,
          -2.4277401058841876,
          -1.4224065981480558,
          -1.1037662140332813,
          1.5650671095135877,
          -1.08956123713763,
          -1.1687147925779553,
          -0.9946974720841748,
          0.7352426388393164,
          0.05685055929293407,
          -2.3649098795794226,
          4.90475113087814,
          -2.8030403909571495,
          -2.252562080818785,
          -1.8959245730757286,
          -2.0917516052011518,
          -2.508317131163248,
          -1.0932669094952778,
          0.23002712834864747,
          -1.7664024000158334,
          0.6845546448708275,
          -0.9024606571237693,
          -0.47940453613652867,
          -0.7455458630228252,
          -0.901332679054793,
          -0.7150579071819967,
          5.521484025398485,
          4.330780758381719,
          1.0507517772310684,
          -1.6734809168327212,
          4.2365941773482545,
          -0.27450214919145904,
          4.055818049656477,
          2.135766913281722,
          -0.8330021081673925,
          -1.8279298926842606,
          -1.7462095781463158,
          -1.4292748016739325,
          -1.804335648043358,
          -0.038926072238981015,
          -1.3609492642096976,
          0.44798540695465167,
          -1.6881966197421565,
          -2.2605554980822586,
          -1.6032958665289647,
          -0.5719868279724856,
          0.22680621843925358,
          3.000746418246713,
          5.2620586181406335,
          2.8858699481600545,
          -0.6661581305866606,
          4.647416850813503,
          -2.325980508300888,
          -0.874941835106935,
          3.435844753643245,
          -0.1859205699604849,
          -1.3252577961419498,
          -1.645482650470817,
          -2.274363772769271,
          -1.1375489854458405,
          -0.30594649082110426,
          -0.2632103614648383,
          0.36823439087847604,
          -0.7749919598416058,
          -0.17119199961990708,
          -0.06981557094042432,
          -1.207258832602026,
          -0.6241021127308273,
          5.419874741023522,
          -1.5972222455784257,
          -0.36389517538093796,
          -0.34450217250929605,
          -1.6165697131635033,
          -1.1021594097961773,
          -1.227351666022262,
          -2.0452140986874663,
          2.018654282616749,
          0.4298289927167267,
          0.6052682794470808,
          -0.44235378658709623,
          0.02294714194443789,
          0.0015944771473559364,
          -1.8238846076569692,
          2.2317541681982718,
          0.7642748141635738,
          -0.8433282919666314,
          -1.3230875790813426,
          -1.3298929349932966,
          -1.2267220894847883,
          -2.1499949310856783,
          -1.2163920877132468,
          3.4634847114667857,
          0.45394121663571546,
          -3.061338303198416,
          0.22729614518138547,
          -1.1344768325631747,
          -3.061338303198416,
          -0.7072963438992375,
          0.3418433804143049,
          -1.5671182591234907,
          -0.8696666900612369,
          -1.579559076148649,
          -0.8772502462785997,
          3.5825006834571176,
          -2.2268342780614705,
          -0.2012611533110381,
          -1.6675215191123864,
          -1.1676869386410904,
          -0.09594405636152838,
          -2.3820664249846044,
          -0.12872264422547425,
          -1.582249851962994,
          -1.6387434617760281,
          -2.025148199151575,
          -0.6993509873932018,
          -1.8764670933076548,
          0.354432560896811,
          0.5717167306430505,
          3.101964714448182,
          -0.5188294035461435,
          -1.0126741219338133,
          -0.7097641046725913,
          -0.7276269751785633,
          3.363462492417516,
          2.9752226817107967,
          -0.8219366599034407,
          2.208962871622312,
          2.785064005343368,
          0.2981463520357149,
          1.866488474163866,
          4.140411488353791,
          4.133048817017732,
          0.5282838272987517,
          2.6055721017645643,
          -0.264782944410472,
          -0.17832420764440848,
          -1.9380303715726273,
          2.9039050390292234,
          3.649677021506467,
          -0.012929923744351741,
          0.9703843368446707,
          4.840030364876464,
          -2.3821204287662283,
          -1.5441689772345781,
          -1.388869780980409,
          -1.9542613765865005,
          -1.5849819030822283,
          2.4466955357895843,
          -1.366648048374638,
          -0.2676245317046492,
          0.40230341805213893,
          2.374570566204158,
          5.050054496026233,
          -0.9053180429942445,
          -1.2698419846443323,
          0.5398747178532782,
          -0.9479576954954876,
          -3.032449981392287,
          -1.1121517547583097,
          1.0543642222548277,
          -2.174826059050462,
          0.8783391882405468,
          0.8449080453819631,
          -0.2838042751056895,
          -1.808364745025448,
          -3.202470459196675,
          3.3215521054488213,
          0.8539122759964453,
          -1.0527079835431903,
          -1.6233526075106717,
          -1.4951842716237842,
          1.751945377775933,
          -0.8298967446281694,
          -2.1873335437017474,
          -0.24944080664634713,
          1.10747236011123,
          -2.085935541408214,
          -2.4125115180318626,
          -1.2499990583699125,
          1.2918669581773636,
          -1.480860486175659,
          -2.0144429700235005,
          -0.5413481296670035,
          -1.653405800238842,
          -1.4317917003045728,
          -0.9871359024336286,
          1.1655411567729206,
          3.0002356858668837,
          0.15000872558749054,
          -0.521917766434192,
          3.047428758666205,
          0.8524577565344778,
          -1.841970877137909,
          -1.4212505387436187,
          -1.5990912760966665,
          -0.09245231702928458,
          0.7589239174389412,
          -0.38861753676292593,
          -0.48869129923344373,
          0.18601744652391938,
          -0.5767423202391128,
          -1.0445259856521207,
          -1.4103425017750706,
          -0.9467174638564443,
          -1.5570907577492832,
          -2.031656522376277,
          -1.505020714177401,
          2.033041433841415,
          2.9972411903138934,
          -1.1131903712057154,
          3.414345747692765,
          5.32086772918273,
          4.085991435509483,
          2.1274425358348847,
          4.947269754284725,
          0.4726197924305082,
          -2.2016868255719335,
          0.43167185305864286,
          -1.1131903712057154,
          -1.6057702396471827,
          0.8312197050104084,
          -1.7642479233188502,
          -1.159073207027634,
          4.081447099437763,
          -1.1266837590924168,
          -1.2919547680535053,
          -1.7723311723076085,
          0.021900563903480275,
          -1.833336844358953,
          -1.7602758888628423,
          -1.8693460615922173,
          -2.046542277096346,
          -1.0561390468606313,
          1.1770516789703727,
          -1.8762990960288104,
          -2.4252240322564083,
          -0.12210277573933619,
          -1.6260066325782976,
          -1.8445494912080085,
          -0.3033082971030341,
          -1.2048764587975171,
          -1.8182765975060042,
          -1.4422094887527543,
          -1.0947009976647617,
          -1.9236465210710907,
          0.06349215750229723,
          -0.7967643032374759,
          -1.3089600393569707,
          0.5354649061742396,
          -1.15384217704288,
          -1.1326586912829235,
          3.1056989824074224,
          -0.5655314564562387,
          1.6711847582607378,
          -1.6903592808965593,
          -0.17282411226062383,
          -0.1534234424262176,
          -1.1213935734132507,
          -0.3560114892032399,
          4.264393263445869,
          -0.9702087331231124,
          -1.47952070114031,
          -0.019163938022139483,
          -1.6262673095858842,
          -1.072934906636469,
          0.6594213427915566,
          4.066995385985658,
          -1.7593947139165327,
          -0.6148631774543125,
          -0.5328443733186653,
          2.1951310166489764,
          4.2110733842281505,
          -2.095193683193589,
          -1.7126773122191745,
          -1.3176226052793845,
          -1.2398389440352926,
          -0.6365159443123267,
          -1.8680718365870308,
          -0.20774898984439719,
          4.663158190213198,
          -0.7172902492876032,
          1.41263753621151,
          -0.053481596291650106,
          0.12258449104649344,
          -0.6930082747630711,
          -1.6842462616801221,
          -0.9997143462304289,
          -0.9925277416519368,
          -0.40554552468515187,
          -0.7943307030855651,
          -1.417976688202371,
          -1.5077618691738799,
          -0.11864752625194389,
          0.06513251514329862,
          0.4479061806002181,
          -0.590535269829558,
          -0.6656940772015794,
          -0.1256835365102066,
          -0.29682397832758006,
          -0.30208503695032896,
          -0.44315387676607815,
          -0.8497568273164452,
          1.5069037952476556,
          0.4803661333128789,
          -0.6970804646138786,
          -0.10347402499997282,
          0.4261184411829098,
          1.7181988956708982,
          -0.14880872420562657,
          -0.8608961760184053,
          -0.21186655948989513,
          -1.2074405624776179,
          -0.24447286527723092,
          -0.1110836144580939,
          0.4331828913071614,
          -0.4666659930456593,
          -1.8413507629642523,
          -1.0214066744382941,
          -0.4975884880865185,
          -0.6844849178178243,
          -1.6697028500088265,
          1.9435278334052595,
          -2.5904012105039667,
          -0.9832888022778709,
          -1.5102450456487515,
          -1.5772672834448853,
          -1.374754747944521,
          -1.200195319866406,
          -2.5500589751698035,
          -1.5609102360473242,
          -1.890277639273255,
          1.6587543910014169,
          2.7931435870373362,
          3.3936697303588175,
          -0.3078197169386849,
          -0.5170085720229928,
          -1.9380674914976446,
          -0.8915763547993777,
          -0.988666826204671,
          -0.5696178874425257,
          0.879532444809649,
          -1.1447334158703657,
          -2.006545406729141,
          2.820574209762175,
          4.0289861912102145,
          1.7372253796499795,
          1.5655853810053755,
          0.07802122878737076,
          -1.8274876886852274,
          -1.9502075389529847,
          -1.7354065296445784,
          -1.8699631356031987,
          -0.5644354650111925,
          -2.006112138560552,
          -1.7634140784138796,
          -1.8723008941323511,
          -1.8639932204222451,
          -2.1058975606514694,
          2.957539714316921,
          -1.923281220062649,
          -1.7291945028487068,
          -0.3394603933605104,
          -1.481794743405716,
          -1.36482729006801,
          1.6184380633196103,
          0.6731669759445215,
          -1.3981525797114402,
          1.4897707598582168,
          1.0157432689846022,
          -1.0568509529743564,
          -1.7518249634932712,
          -1.242195840460266,
          -1.933693872770838,
          -1.759821704033375,
          -1.4555523482943333,
          -2.1082944798688454,
          -2.060666043906393,
          -1.4904194189397029,
          -2.0734945064138404,
          -3.99375471846285,
          -1.7804503009224801,
          0.41880137678603824,
          4.0742528668893545,
          -1.6540996021001357,
          -0.8706935586305752,
          -1.2311045301288568,
          -0.07788453537429851,
          -2.443401395671395,
          -0.07625660353628101,
          -2.131859024911716,
          -0.16461671372417513,
          -1.7771222855258446,
          -2.2929023354570375,
          -1.2277075421191317,
          -2.427003125157999,
          -1.0198781946837487,
          -0.6385744256983843,
          -0.6162589382614417,
          -1.5903114999670278,
          -1.1226867924008341,
          -0.7780117610925487,
          -1.24183485681529,
          -0.41877224870219987,
          -0.5887610453578076,
          -1.425515750569963,
          -1.9236465210710907,
          -0.8321122702871261,
          -0.7103155395647762,
          -0.45457897450551,
          -0.5006469673618131,
          -1.3433860165170095,
          -0.5586881735072343,
          0.7183670596719575,
          -0.8757146430848183,
          -1.0684891129569076,
          -0.3791907206345874,
          -0.525527051817655,
          -0.4899308370179313,
          -0.15972671026188368,
          4.813777021504077,
          -0.8690009426865863,
          3.3215521054488213,
          -2.579204212530707,
          1.5603981597326748,
          0.8888968989143615,
          -0.4769077058258344,
          -1.317398016401201,
          -0.49625704700887874,
          0.3375764127658351,
          2.1487550179202066,
          0.5205896223390926,
          0.002390378671263994,
          1.4438543702229798,
          -1.7722920756714402,
          -0.21138765775075571,
          0.9097158032319783,
          4.844601565033676,
          5.6663841566613184,
          -1.9417108967056653,
          -2.1065509824092192,
          1.140796258083533,
          0.23103463786948558,
          0.4256175781974667,
          -1.5657114923930835,
          -1.5657114923930835,
          4.244480994355995,
          5.176708744973615,
          -0.8596027093370081,
          -1.027073887047632,
          0.3751242769202272,
          0.05181137151232458,
          4.582553845204491,
          0.516894403367843,
          0.06057426972990284,
          -1.7784927255694185,
          5.408174041012422,
          2.5327757019918766,
          -1.5302866131478012,
          -1.0610339222842131,
          -1.09477363805292,
          -0.922774133932335,
          -0.9605533109182778,
          -2.1322400770566374,
          -1.6689001793002771,
          -1.4351673016485855,
          -0.7169772246162457,
          -0.9568264963416652,
          -0.9416875707314979,
          -0.4133385047052837,
          0.16883070258110208,
          1.4322493420169802,
          -0.7813213297476447,
          -1.127128114759532,
          0.652459590839006,
          -0.6927403014042188,
          -0.6732878229230725,
          -1.1414799926170136,
          -1.4892770702646905,
          -0.3553585485210674,
          1.8294487165805173,
          3.65607727182223,
          0.7261799401622584,
          -1.8969714198549825,
          -0.4193939514430086,
          -1.2730663318838358,
          0.1039749929652096,
          2.0964836415896615,
          -0.877678893529059,
          2.5299097893625846,
          1.0082003519061757,
          -1.890277639273255,
          -0.42207825344761296,
          2.1090057143499523,
          -2.3715612187519333,
          -1.0444388347634856,
          -1.2311316155798782,
          -1.1776970800546382,
          -1.0345327312064307,
          -2.7234666403161025,
          -1.7104420113557317,
          -1.9914059300228166,
          -0.6226927475906404,
          -1.046852762323429,
          -1.2900248382332735,
          0.12309112973266169,
          4.652403689691262,
          -0.40462364134067275,
          0.4430017973536221,
          0.7869224265474084,
          -0.5605651851159842,
          -0.12843809243295398,
          -0.5314028806277052,
          -1.0238290888621422,
          3.1748797341320376,
          3.859538766764741,
          2.6026231331657734,
          0.1583326346192841,
          -0.7710403655798276,
          -0.4995419530279296,
          -1.2938074605601015,
          -0.35805426889126435,
          -0.8371847600040484,
          0.23327622655162145,
          -0.08852138585591784,
          -0.6084691009396416,
          3.879862859303173,
          -1.648083590082371,
          -0.07920628817761118,
          0.18122554674263572,
          -0.7235894288501388,
          0.38067681393629865,
          7.226544609014923,
          3.4015397135220815,
          -1.4159279091453276,
          -1.9127960305645075,
          -2.017437359162994,
          -0.8956325749527946,
          -2.2603496043111906,
          -1.940733736119526,
          -1.453939530842021,
          -1.9899331345222524,
          0.5563608894958341,
          1.3655741274589237,
          -0.6778354788931402,
          1.487258627957038,
          -1.4237008451336224,
          -1.2748104198497463,
          -2.5524611671940174,
          -1.737566270810137,
          0.8903585804759285,
          -1.3514066895790278,
          3.673495161639018,
          0.23893979548550537,
          -1.800938059715406,
          -0.6930082747630711,
          -1.1302346153383858,
          1.042460996955454,
          -0.3854930285215812,
          0.48080268984702257,
          0.3696015150662238,
          -0.24312431299061188,
          -0.3142989666133025,
          -2.122990542540929,
          -1.7729246995643386,
          -1.6173696754713012,
          0.23810845387496926,
          -0.48339166999374145,
          -1.7273711551849695,
          -0.10198804553304659,
          0.5055144803084052,
          -0.713143081752722,
          -0.8951228201123642,
          -1.0597890934720589,
          0.3674321547116674,
          -0.32755247999582,
          -0.15392290335129044,
          -1.0079751959068288,
          1.3312267508392617,
          0.14879178398842224,
          2.5937576493924173,
          5.280198100270839,
          2.612540123623395,
          -1.2429187294667834,
          2.8834607480253336,
          -0.8454958932986607,
          2.1255631796368926,
          -1.284844712998298,
          -2.333529043949486,
          -2.38746084555128,
          0.47081022186238575,
          -1.8703654091300095,
          -2.604864563143927,
          -1.5249585479981824,
          -1.9311352130461588,
          0.1592591431131281,
          -0.3368542746747304,
          -1.7238132206500631,
          -0.14523173932936015,
          -1.1513324744387903,
          0.5329054203221861,
          -1.961224910202729,
          -1.239929216376104,
          -0.9213520425348986,
          -0.2934493481289032,
          -0.7878251517408994,
          -1.9817641589623995,
          -1.7244851503949092,
          3.925517286069734,
          1.5942931299634604,
          3.18633531799705,
          0.9775969311537831,
          3.586743250825525,
          2.647745049799364,
          5.270217759644974,
          -1.7082485977385538,
          -2.1998039804602203,
          -0.06578081779005282,
          -0.8368706284559652,
          -0.7854677175050863,
          -0.20916402742117837,
          -1.7085754585994828,
          -0.20916402742117837,
          -1.3997320777127065,
          -1.0909590554136057,
          4.169466471505724,
          -1.3684630603624213,
          -1.9324283671873033,
          0.11061706995923383,
          -1.8318071541194505,
          -0.9598571387641547,
          -0.20192591787069977,
          -2.322482104084648,
          1.295624263858962,
          2.439938968042471,
          -0.0034299770508518334,
          1.9689878707923265,
          -1.81103945586816,
          -1.2760228016973991,
          1.751264609190848,
          0.047354842508029696,
          -1.4262864308855534,
          0.8119245867926492,
          -0.3351614731377257,
          -0.28854191440585814,
          -1.9135217129716564,
          -0.4450657468956584,
          -0.38980135923956105,
          -1.096560494649065,
          2.863244558695548,
          -1.0064366536641476,
          -1.6679956265557836,
          5.03707209719379,
          2.3072516687894224,
          0.9817234747421227,
          3.0232908871047828,
          4.117010734472986,
          4.113361444554917,
          -1.7640887933065448,
          0.15200397301154503,
          1.010057474777605,
          -0.09826825918659671,
          0.7454678649645963,
          -0.0791291396877654,
          -0.5869929672815062,
          0.0613765675864162,
          -1.2493185544417884,
          -1.1625329569665999,
          -0.5446464357178701,
          -0.5257359411169916,
          -0.6973969041449734,
          -0.9719600477669001,
          -1.711392433741772,
          0.662609953605252,
          0.3799066704611515,
          4.353172762386837,
          -1.7505111883218238,
          -2.608281914795239,
          -0.7744430956484738,
          -0.2904984597290935,
          0.19347918400083847,
          -1.5005648417719326,
          -1.380223176004353,
          -2.5201491133096114,
          -0.6742590697690082,
          -1.228063329607461,
          0.422974212595444,
          0.19347918400083847,
          -1.6139893679672448,
          0.24592070134157212,
          -0.9320241203449577,
          -2.0291882153646825,
          3.086164823529947,
          3.2896302356289513,
          -0.8430280926050704,
          -1.0191080260121537,
          -1.258131171944335,
          -1.4293847145323808,
          -1.228063329607461,
          -0.8918518314853049,
          -1.1625329569665999,
          0.3320094024663917,
          -1.4006157751179216,
          0.4749551626010546,
          -0.32853831112165544,
          1.23172341352292,
          1.8982351464781364,
          -0.8272044736771346,
          -1.1182953375910354,
          -1.2140979999974273,
          1.4102809155728946,
          1.1162558244140954,
          -0.9625261685035066,
          -0.22774342883917562,
          4.8204836714470085,
          2.8066726781677933,
          -0.8910597762575813,
          -1.4197100225439547,
          -0.637305362423107,
          2.6678110759629474,
          1.3709647550842825,
          -0.850992762037045,
          -1.134936953231045,
          0.30831398576217395,
          -1.4183221756409599,
          -1.1093252736015087,
          -0.7858824490959349,
          2.143356564904714,
          1.6998034813955691,
          -0.5767423202391128,
          1.1753290502836984,
          0.7683249437917395,
          3.0672479686245673,
          2.1713827731880717,
          0.09109228763953263,
          0.17424196049511995,
          0.31907993640081045,
          0.5277083757468647,
          -1.5891418340117445,
          -1.8079063743752273,
          -3.0009494117127993,
          -1.5683430554100022,
          1.2531320966526078,
          0.4800788069577355,
          1.1470176346512202,
          -1.3095170917389254,
          1.592938815983418,
          1.0710420132491305,
          -0.6277790692076229,
          -0.7049891902633263,
          -0.3660994904340959,
          -0.4871764094606709,
          -0.762159857132354,
          -0.09005428008473391,
          -0.1486852055596923,
          -0.2507783494082116,
          -0.7043224955062204,
          -2.1090182695832573,
          -1.879334070811122,
          -1.4483273104314516,
          -1.6855200932596464,
          -1.8814813682552232,
          -1.409031636917015,
          -1.8761815210993216,
          -0.411353476714059,
          -0.8662032598582586,
          -1.5843624105760057,
          -2.442834751812609,
          -1.0024189493957556,
          -0.7470110613107905,
          -1.2099907754251207,
          0.8179688501593769,
          -0.32126428074580965,
          -1.1398522347318443,
          -0.8437018248035704,
          2.0422528852061297,
          4.763938610263663,
          -0.8284168584098449,
          -0.6352570447275051,
          -0.8515059856345183,
          2.2461767341646808,
          -0.3982392926568277,
          0.6404987805565744,
          1.264307580494231,
          5.199354627810794,
          1.8583829004360768,
          0.7197917125418744,
          -1.810091848086664,
          -0.05143589477032238,
          0.3738921019551178,
          0.7611727109350771,
          0.8241113127768874,
          0.5550844565870751,
          0.740041098807448,
          0.4304758860098785,
          -1.1913376013534467,
          -2.0196290838920707,
          -1.0362298519507227,
          -0.6266858975965736,
          -1.76174355781123,
          -1.9484506333422855,
          -1.000808035812245,
          -1.9465609399407113,
          -2.476175635292685,
          -2.657580092427618,
          -0.7988177186083173,
          -2.132364305711079,
          -2.564168655670437,
          -2.1305638358695558,
          -1.027109505898173,
          -2.271182762073554,
          -2.995567970719323,
          -2.0137771473781396,
          -1.5437600629004633,
          -0.5641657478210673,
          -1.9539615900671425,
          0.1353117746209422,
          1.5240830508841026,
          -0.3897913275357005,
          -2.1472490541110063,
          -1.7165767230653313,
          -1.710241656778246,
          -0.294568109147502,
          0.6183200167275016,
          1.1050523168212696,
          0.013477089149458391,
          1.355223902642623,
          -1.4987842085344663,
          -0.8367365709615111,
          -1.089286924133998,
          -1.1815682360615913,
          -0.8359986265401653,
          1.8064229455207192,
          4.573522285535852,
          -2.3895472039585024,
          -0.8875625801717648,
          1.5623932472527686,
          1.6129921406346894,
          2.378287010706774,
          0.24814725641207538,
          0.8731453432239898,
          -1.7647645267425456,
          -0.13139150759423332,
          -1.612977308128734,
          -0.5758965096135344,
          0.07342012773008774,
          5.948310252700196,
          -0.26031174767672044,
          2.3439529774231596,
          -2.0317748746875957,
          -1.342230834318822,
          0.5257049943117359,
          0.22042439977145128,
          -1.4231533307505313,
          -1.9680325183749663,
          -2.4900041877896326,
          -3.6403170139945327,
          -0.7100689834528822,
          0.18037744575466308,
          -2.730779239010129,
          0.6051493269356292,
          -2.012226808574386,
          -2.9882377865906733,
          -1.9881226567087895,
          -1.1001811056752326,
          -1.6322560102481407,
          -1.5585212785368754,
          -1.2003769056176088,
          -1.1518035655172458,
          -1.562657540876256,
          -0.7030185679656784,
          -1.5109878564250228,
          -2.0949762564053698,
          0.21820803727111715,
          0.28102092564734593,
          -1.5999015985109137,
          3.6364376718953966,
          4.377634569812747,
          5.517832620777447,
          -0.15593220469833363,
          -2.782354500681216,
          1.7058186045512949,
          -0.3325634464411613,
          -1.560633597882819,
          -1.4666166729454666,
          -1.6720377493956828,
          5.050054496026233,
          -0.42113023519587106,
          -1.4156805781784703,
          -1.0310175317531438,
          -2.059461933825434,
          -1.1993121002513603,
          0.8418391167498281,
          0.5277083757468647,
          3.200054060466451,
          -1.0918956593169187,
          -1.6640321370290687,
          -1.7940379519331604,
          0.26759154444683014,
          -1.1761461616742357,
          -0.9236608800933449,
          -0.7383878592737927,
          -0.7370115676562271,
          -1.7260061487881717,
          -0.8276749826467559,
          -1.098188925827515,
          -0.06860373314219108,
          -0.1984230049980847,
          -1.7252882884251932,
          1.9027041250642702,
          -1.204137746932001,
          -2.146761574037715,
          0.5675226390225963,
          -2.737860585635957,
          -2.3646735229993046,
          -1.5159051852544068,
          -1.199182015542416,
          -0.2390187911039019,
          3.7555101009976455,
          -0.9172187524603749,
          -0.6027578678703421,
          4.36512855303185,
          1.357052659263262,
          1.0610805001881738,
          -1.0918956593169187,
          -1.0918956593169187,
          0.3799066704611515,
          1.0507517772310682,
          -0.8347222062998015,
          -0.4362902449973931,
          1.8393460147500855,
          0.974932326238852,
          3.599847460359531,
          1.3878500421641182,
          1.8808998932641372,
          -0.24102161445379305,
          2.5242881418413696,
          1.822645487978489,
          2.3824054687967275,
          2.7160711465674634,
          1.3400521098127456,
          2.0675085711906016,
          -1.3774147805614483,
          2.116901712809414,
          0.4725370812856819,
          1.7005090330279211,
          1.012413873477644,
          1.4638489861406883,
          4.517415285770567,
          1.6062390664664294,
          1.5090985483914183,
          3.328173071321645,
          -0.7586867391814031,
          -1.9710893785207457,
          -2.6279453478185077,
          -1.0959217221133757,
          -1.7330340393361585,
          -1.5509421569582773,
          -1.9153264230825695,
          3.286543067630072,
          -1.8853012598366508,
          4.031929446383436,
          1.0917032949632055,
          -2.099589175122623,
          1.6077515138179568,
          -0.7338996331495045,
          -2.3299231668522875,
          -1.6714994013804196,
          1.3227936929233741,
          3.224578804871138,
          0.8493078136160154,
          -0.8991050041159993,
          -0.25963697831105514,
          2.4878459896885183,
          -1.005738107458144,
          3.782652702099691,
          -1.9157679231230478,
          -2.0026233957398767,
          -1.6696448272331224,
          0.3515054625690087,
          -2.446048369204401,
          -1.761901935635351,
          -1.6517774567678385,
          -1.6237547621234039,
          0.8957766323986629,
          -1.8642286743270606,
          0.05337344824099905,
          -1.6425344618411408,
          1.355223902642623,
          0.14624608874565462,
          5.858209721616868,
          3.71803126096079,
          4.993793590175096,
          1.899945553962168,
          -0.8127854597663112,
          -0.9882751706880382,
          0.6321516301100985,
          0.01341666796079523,
          -1.2772504087424377,
          0.5751095293838531,
          1.8650579113698982,
          4.510568593122148,
          -0.08449905553375643,
          -0.2416463803129791,
          -1.9830682310610879,
          -1.8494850568377137,
          -2.507249276942519,
          -0.31208753852228355,
          -0.1979951627638783,
          -1.9132406824951975,
          -0.4667570855707585,
          0.5301321114835894,
          2.8059892371366986,
          0.6503978876248584,
          4.008015267389634,
          3.000746418246713,
          0.3032852502015865,
          0.7826398955578462,
          -1.4792219052824112,
          -1.3563827742337011,
          -0.9660709260830556,
          -0.052599324175080085,
          -1.3776523091749264,
          -3.0725256635991185,
          -0.47513563176003204,
          -3.0267560599545074,
          -0.832511187274471,
          1.7747900310136377,
          -1.0280691588067048
         ],
         "xaxis": "x",
         "y": [
          -0.011146290126819593,
          4.498483040491548,
          -1.2584950530912378,
          -0.931690239179436,
          -0.9998605575699309,
          1.4491987952161318,
          -0.15349105666351828,
          -1.0976948285917072,
          -1.2029511963611874,
          -1.67207101858259,
          0.6245816077119466,
          0.354279518334095,
          0.621886259504117,
          -0.7257260770647113,
          -1.7533744258913726,
          0.0945600226465772,
          -0.7607765416859087,
          0.09023324070523107,
          0.6354891072036881,
          0.9549247299482799,
          -0.8173396601849974,
          -1.24709796510021,
          -1.0384504583107184,
          -1.8477530524364,
          0.36640565879192966,
          -1.0939423326821647,
          -0.5130725914703963,
          0.19285191038163618,
          -0.4085058347890233,
          -0.4019127768691346,
          -0.5390360868356472,
          -0.5093297116411061,
          -1.5551823065201955,
          -0.32752024826158077,
          -0.11881659332814604,
          0.6359085300784677,
          -0.587681082182173,
          -1.6234813101233743,
          0.926155447236256,
          -0.0025837146344431807,
          0.9482384115361044,
          -0.4325272360306119,
          -1.047723454678988,
          -0.5884127949167771,
          0.10962376719394887,
          -0.17631562638303278,
          -2.231310852520515,
          0.3421759568804055,
          -0.13393724871445578,
          1.828293783921105,
          -1.5586608599510319,
          0.3941377070229461,
          -0.16899555980659242,
          0.6402870848131598,
          0.753526156859586,
          -1.0071979202008556,
          1.251381544732152,
          0.7283795254050485,
          -0.3155870920706918,
          -0.37430842773813183,
          0.6971582660739031,
          0.49078150228465467,
          -1.4496313293936152,
          1.4022237154782544,
          3.182515407806577,
          -0.13343620635138137,
          0.7231412843907871,
          2.4356732324127703,
          -0.6624452959667977,
          0.8828610649268527,
          -0.4539974243368555,
          1.2895652026945401,
          0.7021569500086039,
          -0.032120349417955316,
          0.15589311833335107,
          0.0448374055880166,
          0.7644853720457702,
          -1.8700830086717866,
          1.942401413073396,
          -0.5355532328520191,
          -0.7101916522494047,
          0.6821340814378515,
          1.5096042889137338,
          1.0677125248492456,
          -0.20319345565050115,
          1.900070375991712,
          -0.9569272319374206,
          1.7957948181498598,
          -0.5045512816835335,
          -3.0351142354928844,
          1.1858743295178074,
          0.8760206158908888,
          1.0658710831443396,
          0.8982598530428673,
          -0.10984688935739628,
          0.7719022721632366,
          1.1990816803218625,
          -0.052756160150403,
          -1.8569894900465915,
          -0.3264355253289217,
          -1.6939481840668291,
          -0.10438796376462073,
          -0.14531043781235312,
          -0.49969689446459487,
          0.32606478883571827,
          0.5077876996618923,
          -0.050481471812172864,
          0.4746966598255569,
          -0.38797355248060045,
          0.9981145621078821,
          -0.0645886857741161,
          -0.16680607960514107,
          0.6183612930258736,
          0.34667897728901226,
          -0.8498816694047565,
          0.028285354530939548,
          -0.43098808762267143,
          0.9716433758065662,
          -1.000549444208788,
          0.5665290125385666,
          1.1465811195268019,
          1.3964744337563044,
          0.43319264302379545,
          0.09286868670805384,
          0.2827170296635811,
          -0.46751195464354095,
          0.3005906656279898,
          -0.25683121926391483,
          -0.7082299299146102,
          1.965355687242326,
          0.5402660920588392,
          -0.47330522451280843,
          -0.459057074938541,
          0.17712840735323696,
          1.3226057430132458,
          -0.18364572119185577,
          0.5715418725763882,
          3.182515407806577,
          -0.22520769265871285,
          3.3372777729058654,
          -1.178701656053364,
          3.3372777729058654,
          0.891928635228513,
          -1.6621229341015176,
          0.9126518916872722,
          0.04544220504715575,
          0.15799090914534736,
          -0.3881116746652951,
          0.7693841067862316,
          0.31652003537511136,
          1.5899977353431334,
          -1.9047868000468382,
          -0.9570850389300133,
          0.2230345128472636,
          2.105384987244777,
          -0.6995465461225079,
          0.7111076327776106,
          1.0092401714194619,
          0.32381188266964805,
          -0.16319434873238045,
          1.0404375904923142,
          0.6564793989659153,
          0.3951741514894212,
          1.2410104338213062,
          0.37695909322640625,
          2.461888645237076,
          1.2357005578886247,
          0.2634743406935099,
          -0.3149803062308426,
          0.5105081730241813,
          1.1597876950391834,
          -0.15864705407278798,
          0.29605844599103615,
          0.08484118937578738,
          -0.7467089182464843,
          2.211413217937468,
          0.08320541248182259,
          -1.044344178492072,
          0.19123446817488637,
          0.6089226265344313,
          0.7789952619638925,
          0.9523723915944738,
          1.0296391405424694,
          -0.3626701596053849,
          -0.97113902637609,
          -2.642486423345225,
          3.1033319622259357,
          0.21619308773179452,
          0.01495761974098059,
          3.9190384728573675,
          -0.5723148273970249,
          -0.9986452552999862,
          -0.9516486023188415,
          -0.6906988660514819,
          -1.1840841818426269,
          -1.300618990890577,
          0.5947979963623252,
          0.08054162638613878,
          -1.87903875123232,
          -0.33885212574193035,
          -1.6309491743985536,
          -1.0941715165686385,
          -2.446461747927904,
          -1.140705993026637,
          -1.845328678666048,
          0.6507379346285503,
          -0.4711808757008178,
          1.0197325913084683,
          -0.2733651563736524,
          0.01736778019528647,
          0.7744178910726909,
          -1.1653490752846143,
          1.5829275370760414,
          -1.2845530401926462,
          -1.346232770772068,
          -1.1924586912170816,
          -2.355220982919507,
          -1.6350920282524637,
          -0.7943134394819903,
          -1.5948015187911306,
          -1.0367744163767694,
          0.23834202586569173,
          -0.9150329918104074,
          -1.6791143643828952,
          -1.1140081837787803,
          -0.4264153508845799,
          0.19720315170070174,
          -0.7675781583836252,
          -0.6634064026910804,
          0.018494863427140004,
          0.03239395742923468,
          0.5429849610833286,
          -0.5502293308844963,
          -2.5877559470825338,
          0.07003755588593132,
          0.7387646468178289,
          0.8517448089595111,
          -1.0045392123559678,
          0.022744918930618207,
          1.102884007023605,
          -0.9711482695074375,
          -0.5747759434969213,
          -0.7041665708533783,
          -1.2590290776964863,
          0.5110837248386949,
          -0.44739293027467286,
          -0.7770987572885041,
          -1.51280980613173,
          -0.010119072281302249,
          -2.6565170442836563,
          -1.8578537653499587,
          0.02967834875154128,
          -0.4881176600840505,
          -0.4626350100807718,
          -0.6323213193002084,
          0.8689648267049033,
          3.240477508030487,
          3.240477508030487,
          0.02389228731725213,
          0.6703963948146939,
          0.7996627431599459,
          0.5833737164149401,
          -0.11689578549234661,
          0.7123683209024181,
          1.5310948073312358,
          -1.6069800221607164,
          1.8559942570662085,
          0.04437539980395525,
          1.2105451052359513,
          -0.6133121765032441,
          1.0809283795560027,
          -0.21205336988886397,
          -1.1818910023338227,
          -0.7775444494726214,
          -0.6234088227383875,
          0.5694778943370116,
          1.717518937021362,
          -1.018949062217171,
          -1.1180976339575939,
          0.5457794249420179,
          -1.2203204394225362,
          0.8906898331423551,
          0.9608276029309013,
          -1.2672613034227607,
          1.6835784222939099,
          -0.7047166607825157,
          -0.644538971037419,
          1.7118067203121352,
          2.070033591790966,
          3.774095350032424,
          -2.526402043882351,
          3.027705154585713,
          0.7863022708009539,
          2.853662751981011,
          3.774095350032424,
          2.0513570557630816,
          1.4012277428553161,
          -0.9266969511957179,
          -0.6326476919953284,
          -1.1279563071617367,
          -1.181038381027571,
          1.957537768774417,
          1.997968362379849,
          0.06784792539787053,
          0.5362425827548237,
          -1.477741525020385,
          -1.9777901671231992,
          -1.1096645491064123,
          -0.7895282956595121,
          -1.406833377128649,
          -0.8359585182991256,
          -1.5475653090429051,
          -1.2046762480700817,
          -1.6143833336086209,
          -0.531499854640383,
          0.1802771201047231,
          -0.7320794166920261,
          -0.03506686939659755,
          1.9807742361710303,
          0.4223294232920442,
          0.2836067607286725,
          -0.6255932639365441,
          0.7112353207108731,
          -1.1077101885611695,
          0.48824908011310697,
          -0.22795730447657722,
          0.19717824977674264,
          0.3150319980462697,
          -1.2672613034227607,
          1.1177165541627059,
          -0.4457172777483627,
          -0.813869353548341,
          0.3178642790899858,
          -1.1464663024558044,
          -0.17714161009327795,
          0.34844421110532203,
          2.4064049724463237,
          -0.00035252177764353,
          1.8873203415832416,
          -1.3725204164548324,
          -1.2657688377536693,
          -0.6949733179444147,
          1.8873203415832416,
          -0.8101213187323111,
          -2.918341516468284,
          -0.9151402576715395,
          -0.989486937361545,
          -0.2992327208272396,
          0.4760198718631144,
          -1.5094498562717873,
          1.8873203415832416,
          1.1113603909961725,
          -0.37497601475158804,
          -1.2545771481814059,
          0.9048464943469002,
          0.14491983213610551,
          -1.0798413560153632,
          0.8958070512138083,
          2.0607557633872733,
          1.3380694906666444,
          -0.7927850799345001,
          0.780123940294784,
          2.3890026316786575,
          0.010923878415341278,
          -2.7011628810914066,
          0.30716006665628715,
          0.40601777210735607,
          -1.7931461706698162,
          0.6582528726690449,
          -1.563464426071766,
          2.41505424148873,
          0.5843336029259845,
          -0.6038418556220863,
          2.2825376777124347,
          0.5348228328720841,
          0.44349978495395986,
          -0.6515118089357842,
          1.0533504658934276,
          -0.0568459351101808,
          0.7667072369066995,
          1.992429924558511,
          1.665001923510302,
          0.09891338575271957,
          -0.21030445971978134,
          1.4049591878689265,
          0.6572987131801549,
          -0.757260988809986,
          -0.4289788550163677,
          -1.1663827255438781,
          -1.0375737857811513,
          0.31776025996952195,
          1.1770272825990258,
          2.522013302298847,
          -0.35565697175471533,
          1.2739159471111907,
          0.12552664107296185,
          -0.044436888535213194,
          -0.9598826795695853,
          -0.99946176941037,
          -0.1719223856015666,
          2.082504766964757,
          9.80861566527572,
          -1.910999536388005,
          -1.5953448853504664,
          -0.2077204607835261,
          0.38379843657746626,
          -1.6622338726879469,
          -0.5449138158014993,
          0.39260421140155843,
          -1.0816366373679902,
          0.2533103235365448,
          -2.39387472105396,
          -0.47150127593609775,
          -0.17561167281722295,
          0.7451440430086289,
          -1.6873495018786022,
          -0.20380451675243247,
          -0.67724953157861,
          0.45154411590279536,
          -0.47274860646605504,
          -2.6124788945229898,
          -0.5263262266185553,
          0.8079535533547778,
          0.11383168486562918,
          -0.8406691236039687,
          -0.07662975110137528,
          -0.513263948108014,
          -0.5820581328286752,
          1.4966189151479756,
          0.21591294181917325,
          0.8749333087385133,
          -0.49583472433259357,
          1.2667969389178957,
          -0.6352214968617711,
          1.7116862484490891,
          -0.05981311705813882,
          -0.6497724736162314,
          -0.6584021042342946,
          -0.11984531532774596,
          -0.6498927216938706,
          1.6583247694069476,
          2.0021393264062315,
          0.10467094944933153,
          0.12593071239530573,
          0.9211842808505303,
          1.156698588087625,
          4.137971827721906,
          0.4510339910091275,
          0.7392753979079748,
          0.7802223761612858,
          -2.001011530090767,
          -0.5462424385825618,
          1.288691307268388,
          -0.4138934852797081,
          0.5142060333389616,
          -0.1983400279045014,
          -1.132519116842594,
          1.0888335146592358,
          -0.8852774981108724,
          -0.25957366671032617,
          -0.33655960124603973,
          -1.4383020605948769,
          -0.8553689297851266,
          2.03741566349034,
          -1.084980509930824,
          -2.624972510429549,
          -0.29118493718810706,
          -0.9406771827196885,
          -0.861963872730551,
          -0.7446552433346851,
          -1.5806404300447316,
          -0.2454019965262031,
          0.16613234798095278,
          0.25522346651492456,
          0.8974807722274416,
          0.6208671719375582,
          0.2805925306926619,
          -0.6340873085014077,
          1.0661851762831873,
          1.5503964871266402,
          -0.7612398420860176,
          -0.069227492355273,
          -2.157715636599803,
          2.1872713095153977,
          -1.3215548520622244,
          0.7356238326523751,
          0.767364251082474,
          -0.06979929244775922,
          0.48866766504332265,
          0.26698121988756773,
          0.7328123563979599,
          0.5861214875061438,
          -0.9953858151396159,
          -0.17759522520563817,
          -0.676411689375335,
          -1.298921322411738,
          0.89214963091879,
          -2.2675364797362874,
          -0.6406026434243624,
          0.08160718107044311,
          0.7976536903440762,
          -2.5319163057702356,
          -1.079901417635555,
          -0.1961558696932136,
          1.138417032076644,
          0.28707549080251216,
          0.4226851034531932,
          1.5804058973004498,
          0.7663364597659551,
          -0.6146786963745654,
          -1.117519342186273,
          0.6785761172927791,
          -1.1806363394390704,
          -1.235978876508933,
          -0.31955324249624606,
          -0.37440710690790263,
          -1.8640708749147716,
          -1.7773287436540235,
          -1.981360854814628,
          0.25707335983407015,
          -0.6155426574374905,
          0.2429255993826781,
          -1.1616324224085037,
          1.8958622798558848,
          -0.3356606365168563,
          -1.0694624857178223,
          1.7513158520768195,
          -2.4367945237996875,
          -0.7722764505011077,
          -1.1810989500449751,
          1.9317052289038241,
          0.5716358610330151,
          -0.466695749779103,
          0.7085487574433744,
          0.28161800267876,
          0.3907796891399578,
          1.8664572644859503,
          1.2570515395744704,
          -0.025989927797271214,
          0.08292369316000928,
          2.2125582507039683,
          0.32506176456087266,
          -1.1703087112108865,
          0.27426832099095066,
          0.7085487574433744,
          1.143739289582146,
          1.3752645944313242,
          -0.5836498678916466,
          0.19823214236746234,
          -1.6148947810199692,
          1.0620864810567898,
          -0.9361637998069942,
          -0.02286677611898791,
          0.6613537913076043,
          0.3853063184308269,
          1.2299781646381986,
          -0.07782348751577084,
          -0.15923645755136495,
          0.4627913102919558,
          0.867270453683648,
          1.585483571819161,
          0.7367549070529655,
          0.714068273912595,
          0.968836967811837,
          0.25126802391534475,
          0.5132039117659946,
          0.8372222203501737,
          -0.3573670748157774,
          0.771781649327702,
          -0.6074502986415966,
          -0.26946117978951845,
          -0.8556227790287806,
          -1.1068158657389364,
          0.18685711887944564,
          0.6816277954199114,
          0.9788842536594313,
          0.4520838728502226,
          -0.7983021441809102,
          -0.13385525664813097,
          -1.379631418628687,
          -0.21078138640284166,
          -0.9811799170595041,
          -1.3319948163180741,
          -0.19328093980775235,
          -0.2770836557895619,
          -1.9783775271564632,
          -1.3738927533892689,
          -1.2024447361796193,
          -1.3080694576617184,
          1.7650475397544327,
          -1.1229156368814137,
          -2.7309258321583556,
          -0.8706224842112571,
          -0.5243173469086178,
          -1.1097479863616218,
          -1.2308039831949453,
          1.149462402227388,
          1.9641977657477747,
          2.1785293823189726,
          -2.8135610607731634,
          -0.44468607627745477,
          -1.3634716348410432,
          -0.6220149462494262,
          1.0416800370699875,
          -0.39521771665802097,
          -0.19449469553583967,
          -0.38526083549146983,
          -0.06318642030526953,
          -0.06793988912861045,
          0.04752527244375113,
          -1.2880149374051073,
          -0.47422450868317323,
          -1.3815311599721694,
          -1.4991282734577789,
          0.10597497457687917,
          1.2977230389711807,
          -1.486456518564597,
          -0.04309271241806908,
          -2.3328311797700803,
          0.9425352116267052,
          -0.9782852103707474,
          -0.8375933378434283,
          0.24182119457517684,
          -0.8490077081291278,
          0.06737530831032418,
          -1.1745357862551753,
          -0.627131539281845,
          -0.5770669957486693,
          -1.3448712697469212,
          0.2319654410246677,
          0.8445197390903224,
          -0.40290098978720884,
          -0.005736214361116113,
          0.44991433403587494,
          0.6750056141422721,
          0.2826921428424719,
          1.2696072180370273,
          -0.48718018052215994,
          0.6108104896236366,
          -0.49485873149140996,
          0.11817817238234606,
          0.733487514291791,
          -0.5180917961506756,
          0.18106416040857767,
          0.7146230917208729,
          0.7428997971628286,
          0.5593656303835155,
          0.48490533108278405,
          -1.0171259983707657,
          0.38781049055470984,
          1.622637784339552,
          -0.17809704794334938,
          -0.12476503646774212,
          -0.2961779604109359,
          -0.2737989226362731,
          -0.9268841480713059,
          -2.0380101122304395,
          1.4506337137912293,
          -2.057908520167521,
          0.03302731056233912,
          -0.6887356962529683,
          -0.5190815328898671,
          -0.747266318611094,
          -0.8682390206907908,
          -0.23433916561783436,
          -1.40533928244795,
          -1.298186109840002,
          -1.1127467506287023,
          -0.9768526143068147,
          0.6741636247927281,
          -0.9814765781246868,
          1.0934127148953325,
          1.1383910108144235,
          0.06965396958828178,
          1.9959801067556229,
          0.9755122541602352,
          0.6623848700199352,
          -0.886123332077779,
          0.7021569500086039,
          0.7363870858767158,
          0.2330089649067147,
          0.15532837478584482,
          -0.7151335683911911,
          0.45346230447625846,
          0.5953873912830425,
          -0.12083862405770214,
          -0.7904677532103993,
          0.7442943549477131,
          -0.5173945461923839,
          -1.3671815537397132,
          -2.1647606862810433,
          2.406575770189157,
          -1.2491142295755038,
          -1.713805745486363,
          -1.1199854719256765,
          1.6019710557732245,
          -0.7298052345060035,
          2.6962725990358902,
          -0.35149643953172766,
          -1.7024709074298858,
          -2.6028083441033245,
          -0.0018618573810401597,
          -1.6785787472575249,
          0.17100843015583989,
          -0.2664486511200112,
          0.0728844182682828,
          -0.514806139108123,
          -3.6521473312229347,
          -1.5229955970088473,
          -0.36150444423669603,
          0.33209914601970186,
          0.06386128061298108,
          -0.06798773550581348,
          -0.06798773550581348,
          1.660087892788117,
          -0.5499230709138896,
          1.1657589760111935,
          -0.573171470881813,
          -1.6661836834923496,
          -1.4165624627850513,
          -1.4308328180936034,
          -1.1943971753589022,
          -1.427409520873935,
          -1.1511209970770362,
          -1.4869190971071586,
          -1.5228713473950592,
          -1.4516382091534203,
          0.1759016503865454,
          -1.2007541057312023,
          -1.1574513304114848,
          -0.8775905383634286,
          -0.5753777267466682,
          -2.047746694373264,
          -1.2612019677118822,
          -1.6578915972040749,
          -0.9738377876979711,
          -1.302182832562017,
          2.0304286520410297,
          0.735429388663366,
          -1.415090518825998,
          0.5545644883197911,
          0.4961085640844207,
          -1.4305639637987204,
          1.6075802808416442,
          -0.8012284798287435,
          0.6747351899313615,
          0.12194654885889789,
          -0.09902124256603802,
          -0.06924925887923182,
          0.6715536596689551,
          -1.1968649079150162,
          2.1785293823189726,
          0.7120396547541866,
          1.0719117293829004,
          1.147852074059686,
          0.6481283190597543,
          -0.5960966025054182,
          0.22109387579757644,
          1.9766866328626058,
          0.0667644971130523,
          0.914371397279813,
          2.8467708265343075,
          0.14701877091226007,
          1.2816469698098125,
          2.8467708265343075,
          -1.940794020637524,
          0.045940278560432236,
          -2.1062436150146953,
          -0.747307781849699,
          0.38133053707087256,
          1.15634802239319,
          0.09832857235023941,
          1.3195450645550817,
          0.6838502211062959,
          0.9286327150239224,
          1.2197449477602846,
          1.1812618877138923,
          -0.24626779839357008,
          1.0543507232367983,
          1.6346249482684638,
          1.1208526375187813,
          1.1665004006106967,
          0.35920488968032666,
          2.9368444395740796,
          2.359411015343149,
          1.5909270645632716,
          -0.21910571865285022,
          2.2780569687552252,
          2.6215188359867794,
          1.5149446421866521,
          2.1521154668475515,
          0.3527371550411659,
          -1.5239595469806981,
          0.8283125934152258,
          1.4516358923430006,
          -0.07205021415422878,
          -1.1760735761202987,
          -3.1982178651250845,
          -0.8201818438122834,
          0.6486029919662071,
          -1.8391905524002876,
          -0.29583327844079865,
          -0.08593625358313081,
          2.16164771615894,
          -1.5566511731330441,
          -0.1914810210768576,
          -0.7299870431004449,
          -0.7726676252422119,
          -0.8789815373159142,
          2.596594940330126,
          -0.96847218496691,
          -0.012415922773767839,
          2.777631799250741,
          0.008146240049375494,
          -0.1291532354291805,
          0.6678652880289531,
          -1.510702170379667,
          3.0731493555380647,
          -1.4438610416065334,
          -0.5025097048772128,
          1.3242077355585748,
          0.5827095805282616,
          -2.1973568753736132,
          -0.14753873569748555,
          -0.4880953525546397,
          -1.345008394361277,
          0.3268532613083874,
          0.8459249238174447,
          2.2524644820303994,
          3.304993154608963,
          0.03839524739570481,
          0.981654568660109,
          -1.7461053753967268,
          -1.413974428899543,
          0.1059867032273623,
          -1.1229631780375933,
          1.3844106892201364,
          -0.16167197298893615,
          -2.2544696238792796,
          -0.6869253409334319,
          0.7902407593582269,
          -0.1497373230885079,
          2.0284456703648406,
          1.0809283795560027,
          0.2532824348560151,
          -0.1398698040763767,
          1.5193532518080093,
          -1.5507576235702532,
          -0.8088935101256448,
          0.15044670458467305,
          -0.045002340189138554,
          0.18720132576080992,
          1.2968594264079554,
          -0.4626240158171051,
          1.0988180711853748,
          -0.42462718617279044,
          -0.8185606053174727,
          1.1197926281004669,
          -0.6119842950529564,
          0.29474561896679174,
          1.4551038711161852,
          -0.41001794748550224,
          0.5691942254362512,
          -2.5905991500480137,
          -0.18202951374809231,
          -0.8607013036745841,
          -2.296075607260326,
          1.3167076465878849,
          -0.27251690398117284,
          -0.5566738862996019,
          -0.715217088586883,
          -0.7028362760612363,
          0.06303033231618374,
          -0.9902208730061526,
          0.01972410670452831,
          -1.5601392302159736,
          1.2645522348952958,
          1.7383022229355856,
          -0.24957322851933753,
          -1.0702528843505683,
          -1.2844295150086937,
          -1.2464356433071078,
          2.2993299862982326,
          1.1641245992756317,
          0.7015448503931605,
          -1.5291054878331407,
          1.2451125043197095,
          1.263139916968036,
          2.2103714360060196,
          0.8690317957680918,
          1.7953295321679035,
          -0.22799795098332157,
          1.0354966936301422,
          1.74718501686229,
          0.6393512413680984,
          2.7322746057581986,
          1.9385695616987777,
          -1.479781136508336,
          2.626893231713907,
          -0.9871339708869439,
          1.5030130287038044,
          1.0529794513877146,
          1.237796437866869,
          1.3964744337563044,
          -0.40502039300438897,
          -0.9982484808587208,
          -1.5468837439767484,
          3.182515407806577,
          -1.5412634785360073,
          0.8001407315361064,
          1.6262958353849497,
          -3.438988591761618,
          0.5753938621894724,
          2.2122163894790052,
          2.4836772733523023,
          0.588593894544172,
          -4.121183392702431,
          -1.3940325838598708,
          0.7540240214844236,
          -0.9321725445352346,
          3.028110069143327,
          2.2881131630279703,
          -0.407863119251127,
          1.1182369660441556,
          -1.3045923139922593,
          -1.0114715054304508,
          1.4550998217037545,
          -0.11640318223675977,
          -2.416110659060031,
          -1.9796288927708474,
          0.16213361299954143,
          -0.4682875272625688,
          0.5913167294180854,
          -0.3108898220591153,
          -2.520090736976857,
          -0.0943154244917966,
          -0.13783072116580472,
          0.6444051988424125,
          -1.1620644660524473,
          -0.561063777932776,
          0.23168889026858114,
          -0.5581193468046406,
          0.2153890923015157,
          0.386547129585193,
          0.9889416595795394,
          0.7515095953074549,
          -0.23329405373395626,
          -1.2297478871028984,
          0.8201643769410965,
          -0.15882043442039187,
          -0.7565388853115701,
          -2.1120286151716217,
          1.8405369669807912,
          0.5764743024800904,
          -0.6914969477991731,
          -0.31577070586742434,
          -0.8810996699177854,
          0.8021470798848588,
          0.19347997695700692,
          -0.4260196653524399,
          -0.5943416563048252,
          1.4291872876100424,
          -0.164092459110046,
          0.8120993643015331,
          -1.5026498422538626,
          2.598779509754672,
          0.529358743679435,
          0.7783608326259314,
          0.6238136690580935,
          -0.12191949193504467,
          0.26791616106380756,
          0.4237906487477499,
          1.0686408169382269,
          1.4026574288018097,
          1.3879816561431069,
          -0.21462188479536476,
          1.5320826718596179,
          -0.6503647631977191,
          1.3022033030346307,
          -1.3393116405859726,
          0.09681015173227803,
          -1.3155880062177092,
          3.283644768299003,
          2.799421051795823,
          1.347080416482288,
          -0.1810184569086128,
          -0.17543690178552057,
          0.6064345226532677,
          2.777631799250741,
          -1.8230617493286416,
          0.13057729102599194,
          1.2313845008696005,
          0.3466045216035899,
          -0.09832938999495901,
          -0.09436777659232624,
          -1.841897072198435,
          0.5570265612360658,
          0.33874116018653877,
          1.0151455031556138,
          0.7643506416929157,
          0.08291424450270424,
          -0.1060351235148727,
          -0.04999871550889656,
          -0.8471965335774991,
          -0.7625426989529577,
          0.449497178932784,
          1.1125741175253265,
          0.6084618967296056,
          -1.2541278438638597,
          -0.6314035129261313,
          1.2962849057650538,
          0.24621207217738125,
          0.053941403926323885,
          1.4956554144984184,
          1.7899910019342082,
          0.47066581613318165,
          0.5196573621206042,
          -0.09702344877198586,
          -1.628982703675945,
          -0.1476210353558327,
          -1.0538483392871936,
          2.5754738973101463,
          0.326982700845206,
          -1.0584835530918617,
          0.28102921468649184,
          1.479534626380904,
          0.8726252657977552,
          0.01912146779114546,
          0.8287698711128355,
          1.1378368096175686,
          0.26354457909270235,
          2.270796542627967,
          1.3077206199092617,
          0.8185767880870042,
          0.6650768549335064,
          1.7874380723812981,
          2.066405130723685,
          -0.34639268363053394,
          -0.8577415633782168,
          -0.34664296939333494,
          -1.0922817043651092,
          -1.3118166173906052,
          0.8976326080505229,
          2.5385277673135604,
          -1.187038771794918,
          2.786982618493671,
          0.2545143723187342,
          0.38936147667520393,
          -1.1071412055199392,
          1.6107705074878256,
          -1.173952508855421,
          -2.0616820132566853,
          -2.805394596387116,
          -0.8831663371685474,
          -2.063367899423589,
          -1.798761671719023,
          -0.4207314753269831,
          -0.6148024213290785,
          2.274393449922063,
          0.1859934865096028,
          -0.5898593904191546,
          -1.2018199465962696,
          -0.11050871698376899,
          -0.5749320975573826,
          -0.6406026434243624,
          -1.3543005202399938,
          -1.5725660924038984,
          -0.6421207488010783,
          -1.7657936503406608,
          -1.4009596285162929,
          -0.510353335694156,
          0.31366695973061126,
          0.1014872054628051,
          -2.227761661146163,
          -2.1663989305907436,
          0.9798370766144224,
          1.2933397156417663,
          -0.18737478514681175,
          0.3543719949788696,
          -0.49404574101390486,
          0.40820241461265566,
          0.07545889725107927,
          -0.02009748944254676,
          -0.5232755081075606,
          -1.1151845701111416,
          -0.03524547218808494,
          -1.7256356053318516,
          2.565355550971351,
          3.785598078144562,
          -0.5196969124319145,
          2.0225229491030867,
          -0.3273361120999738,
          0.9020944113643284,
          -0.9310219539819883,
          2.565355550971351,
          -0.9971014093097098,
          -0.2976292993379705,
          0.32410340956387157,
          -0.3972965827435322,
          -0.291852803042198,
          1.2589704060075453,
          -1.1152716845022312,
          -0.606832770998988,
          -0.019608718525090156,
          1.8576890270533735,
          -0.44601320040822473,
          -0.08888667464901569,
          1.2226267391788175,
          1.3180419447934697,
          2.8347796606319795,
          -1.6881739103057403,
          0.8702582499121684,
          -0.6016329590871642,
          -1.6520216682288356,
          -0.6742172913753631,
          -0.1680107737918673,
          0.6829368856863995,
          1.0166141420885233,
          -1.1573513700831795,
          -0.9920311725425532,
          -0.3094075954101757,
          0.2731435477189456,
          0.01583870155865904,
          0.724023593469403,
          0.8707080592041287,
          0.2160197797955826,
          0.41830866017892593,
          -0.7748456390260194,
          1.670090775433564,
          0.21471234273482,
          -1.1733447838065623,
          1.0707460862605032,
          -0.5757347764161699,
          2.7914806372152143,
          0.8073484220482444,
          -1.051185803333699,
          -1.1638906002201028,
          -0.9323783000383218,
          1.4338452229528584,
          1.5482517667523994,
          -0.8243053696849132,
          -0.217277617489336,
          0.7408819707686044,
          0.7766444874755667,
          1.246607452225628,
          0.7996077501042835,
          0.7098984500909357,
          0.15738238233608917,
          0.8291981600164926,
          0.4115211848400108,
          0.18507012194701322,
          -1.0699889202336412,
          0.5477835991559151,
          1.0667926679701105,
          -0.8775491680441361,
          -0.41127717743982556,
          0.09562702241928615,
          0.07627133581846525,
          -0.41211540420468906,
          1.2651376595429609,
          1.135051836093587,
          -0.06337771493283881,
          -0.4354620140625743,
          0.719678754934266,
          -4.402578912524458,
          1.9687208683682595,
          0.655512601385139,
          -0.05604008805531362,
          0.36014843924403517,
          -0.3393310530515711,
          -0.05618864061894635,
          -0.7620360756541436,
          2.2765844364760226,
          -0.18097852487375213,
          0.047410307066855506,
          0.9977781862139022,
          -0.10368604875802646,
          0.08477651925558181,
          0.8612425944740154,
          0.7906107892066143,
          2.22215316889803,
          0.9271137572827851,
          -0.9330765738277961,
          -0.898802980652011,
          -2.313794695898908,
          -1.2620312997889214,
          1.5310948073312358,
          -0.46980024727535524,
          0.8215286852076019,
          0.7262953082237071,
          0.34746088691821403,
          0.19331601407252,
          1.4030209257013275,
          1.4136472750859463,
          1.4846899884981626,
          -0.3107178863439593,
          -0.10512270723039376,
          2.788588196063789,
          0.6942665279067873,
          -1.622120516819668,
          -1.5358891258969727,
          -5.390230091324024,
          -0.05382714583808707,
          -0.2898665417593311,
          -1.2603822989769276,
          -0.780322454564139,
          1.5051495770311574,
          0.5803112501175963,
          2.086664936649372,
          -0.18161001740644322,
          -0.6501600677716776,
          2.8005081295505803,
          2.0106846318145077,
          1.0261929757046149,
          0.8826209995591437,
          1.4018861885732563,
          -0.16219622891775798,
          0.2559954609722769,
          0.8691497060902621,
          -1.501184848873208,
          -0.32005972773275115,
          -1.2944994042026106,
          -0.5456178840144862,
          1.8888243208696942,
          -0.572939617888906,
          -1.490837162666296,
          -2.1898217107727214,
          -0.69798163786536,
          -0.23905295474811628,
          2.409294352998541,
          0.9257675849876749,
          1.5566745603483778,
          -1.0069374967242828,
          1.0084966732206209,
          0.9323963957092469,
          -1.0527303276752809,
          -1.2373064742887567,
          -1.0619565111290754,
          -0.5555449222733343,
          0.9788842536594313,
          1.0408259298766718,
          -2.8428263971497674,
          0.5180488529611256,
          -1.6905110652741513,
          -0.3262885111417015,
          -2.130031613612811,
          -1.1278168907275834,
          -1.2815634859617244,
          2.4684970360729044,
          1.083858335805404,
          -3.1349782903342955,
          -1.6413306810627115,
          -0.4525027847066132,
          -1.9522743211029692,
          0.4836229107519151,
          -1.4563425687414282,
          -0.10987314385041827,
          0.6158576137099449,
          -0.5868950184257313,
          0.5769079407121166,
          0.908832883454009,
          0.9740543609654362,
          1.405540222780347,
          -0.4515041144129988,
          0.8918181728173361,
          0.8975360796648454,
          -0.6621999979037598,
          0.9635875557455983,
          -1.225200516924064,
          0.8707039875644643,
          0.8253771930222118,
          1.056142692615092,
          -0.9405407931339577,
          -1.8287828386842493,
          -1.3540124493050332,
          -1.6069800221607164,
          0.3460117677467244,
          -0.4822437003617029,
          -1.0797421576520219,
          2.049442378801732,
          -0.6863589864441051,
          -1.2312058155561378,
          -0.440807773463177,
          1.910392882739904,
          0.0327058374035344,
          -0.20996796039133808,
          -0.62895807647749,
          0.5105359440905775,
          -0.9591936739663639,
          -0.625881763306143,
          0.06520142346467346,
          -1.7822998845983398,
          -0.8405755615134103,
          -0.6824369774306226,
          -0.3050667357507063,
          -0.6683855409374201,
          -1.295209410343456,
          4.826559931350396,
          -0.3360372733285951,
          0.5404265351754693,
          -0.12259444631687189,
          0.40405031095811056,
          -0.43068633033445247,
          -0.24231908854981216,
          -3.746303915498806,
          0.39035402921086104,
          -0.35595835639308954,
          0.06001886261222862,
          -0.8933600247286161,
          -0.8933600247286161,
          -2.0865163953577026,
          -1.7010795872307345,
          0.260676940300801,
          1.0922593933929903,
          1.23455067513565,
          -0.48824078778517016,
          0.4524186313225968,
          -0.8399721363552374,
          -1.561076368847524,
          -0.5750562636036324,
          -0.8381301731828611,
          -2.7309258321583556,
          0.7874939756284266,
          0.49119509274400813,
          0.37744873752101576,
          -0.9967827441174418,
          1.201041381518775,
          -1.6818591537753809,
          -1.4601155094272038,
          -1.4601155094272038,
          1.201041381518775,
          1.067042847919902,
          -0.45679465998486085,
          -1.2245378851001394,
          0.6475400473459358,
          1.71943373875804,
          0.47215205017965634,
          0.13514671558855174,
          -0.28063377886379004,
          -0.35412608462657563,
          1.0318573930800452,
          1.7208456743530536,
          1.3009344093014232,
          0.47899759126323627,
          1.8697348981141586,
          -0.5914828614287025,
          -2.0590376645165502,
          0.26757430621377676,
          -0.985326623947164,
          -0.46048160047545283,
          -0.5391510807840085,
          0.9443175429761829,
          -0.2599530298696149,
          -1.064985308912599,
          -0.2390574205450257,
          -0.7345811253619419,
          -0.08720400421957711,
          -0.04894204937688585,
          -2.865759634712714,
          0.6414594616910262,
          0.6520037893508112,
          0.2747868787312046,
          -0.08784013708631055,
          0.6768356895737333,
          0.3592067485852702,
          -1.310137794730785,
          -0.0695641011868151,
          0.21875627038953002,
          -0.10658644268281306,
          0.3257683708684404,
          -0.292435414149119,
          0.6336547576565378,
          0.3133456930887133,
          -0.5032505939465276,
          0.5371220456325412,
          2.374337714272008,
          0.2790429935717444,
          3.192275068124044,
          0.08380126477325461,
          -0.34517502480052153,
          0.6167098993104891,
          -1.0792900548148565,
          0.14936143468670224,
          0.44470993270299536,
          -0.5114790901334063,
          2.1785293823189726,
          0.45722060207315024,
          -0.2555612326053273,
          -0.8074208670098896,
          0.9472386308757956,
          -1.2426905814373932,
          -0.3364176185262636,
          1.073665137318418,
          1.1904782212570602,
          0.762368129241086,
          -0.6732696472195169,
          -0.6440393410699305,
          -0.45697957291096164,
          -0.9355214742832666,
          2.9929437226692435,
          2.726004010412566,
          0.571893250165843,
          1.588926021384985,
          -0.2064734849848294,
          2.5038347489576895,
          0.29615014757154895,
          1.0846189796399628,
          -2.202209531135049,
          -1.440451540650576,
          -1.2821572583643746,
          -1.0392645050027856,
          -0.8359784282430526,
          -0.3047987156006006,
          2.0729705769748668,
          -1.8586859035534278,
          -1.204947563453309,
          -0.5032153485091914,
          0.3362431205690462,
          2.5649619811228264,
          0.30175743185270026,
          -1.7667927291437822,
          0.8235435410088727,
          -0.2255132979823884,
          -2.7309258321583556,
          -1.6613392304245769,
          -0.5014512201902214,
          -0.6092820716180163,
          0.8458223801724143,
          -1.9773985178392333,
          -1.0538519726242708,
          1.8607976208546801,
          -0.33956864941393355,
          -0.9174984834704693,
          -0.8125754547368468,
          0.14301701527301355,
          -0.43627379330685706,
          -0.9044991715514358,
          -0.2767892181150539,
          -0.2457930742265054,
          -0.8244011946355023,
          0.9298124473763054,
          -0.5950664354754037,
          0.4412507041863318,
          0.8445197390903224,
          -0.4650701320324825,
          2.1319338498127407,
          2.1319338498127407,
          -0.33139835788936045,
          0.4415323021122151,
          0.0799897837563202,
          -0.3963211426076407,
          2.1319338498127407,
          -0.8155413081291466,
          3.1718734757847735,
          -0.5190281872867483,
          -0.04992336453818293,
          -0.5719527809990383,
          1.438298603950285,
          1.0900669684738837,
          1.7843626906751435,
          0.10095590734267974,
          -0.644405207860733,
          -0.6061843984291282,
          0.5550883374467289,
          1.548120953084051,
          -0.7817051706674053,
          -0.6388486423779022,
          -0.17090223401107618,
          -0.32611218191329444,
          2.3012225966724262,
          1.7357442769118536,
          0.04692563163928876,
          1.3344903152923002,
          -0.3115125472162565,
          1.5407603460529933,
          1.5085799273169225,
          0.8075604130275318,
          -0.44106858959038964,
          1.146189209110409,
          1.0750781640158047,
          -0.025287696876735544,
          1.0359956773490937,
          0.794037191787929,
          0.010298079972029554,
          -0.23136664446222285,
          -1.126357838089908,
          0.348273568307386,
          0.7188007759804216,
          -1.2006685866016795,
          -0.48874919385379484,
          1.0511329441517372,
          0.733705064120837,
          0.5801340207770199,
          1.7465185489496888,
          1.584539967557498,
          1.2293627570567212,
          -0.06943785397606726,
          1.3142245990799333,
          0.34668779921771475,
          -0.3224727914058867,
          0.2900924021945465,
          1.2744631039301577,
          1.9501468899176144,
          1.2293627570567212,
          -2.3742008151056493,
          0.809792404676302,
          0.32574938288038097,
          -0.11367229774894466,
          0.5239443339764669,
          1.6637469576513073,
          1.7453471747826574,
          0.1983225982378688,
          1.7258681710226276,
          1.4745753880275592,
          1.622811358698715,
          2.126492838412718,
          0.3083705907543966,
          1.1642030880653804,
          1.1415398106539234,
          -0.025287696876735544,
          -0.694278299541064,
          0.6062441505324667,
          0.805657591542736,
          -0.9718696038331135,
          1.18464750258882,
          0.22260393120987576,
          -1.1380333885721867,
          -0.42294171070277015,
          -0.960384284129948,
          -1.2655864882815993,
          -1.6743094682762172,
          -0.9592325696676602,
          -2.208275782350012,
          -0.7614311127461274,
          -0.9283602915772434,
          -1.0003872778034169,
          0.3330594280435949,
          -0.19978661479337234,
          -0.09779050727088623,
          -0.3273231663866197,
          0.3299914922454788,
          -0.17328787315154293,
          -0.21810390747021413,
          2.077877064765502,
          0.025489112912357403,
          -0.9418507803283737,
          -0.48049402993066953,
          -0.4777960559294721,
          -0.5236326235491897,
          -0.9163671842424648,
          -1.2884126387002208,
          0.7256755059981266,
          -0.5361754770471588,
          -0.20004831834695197,
          -1.561352200110987,
          -0.6142121203837293,
          -1.1941311908090244,
          -2.1123758191296758,
          -0.7475462109839728,
          -1.086255009417535,
          0.6072921779752911,
          -0.3597777472887256,
          -1.5821085055818667,
          -0.1387686947914634,
          -0.003982163539607418,
          -1.7721004542251833,
          -0.10800633824615868,
          -1.718455148244296,
          -0.7220600773571373,
          -2.0084981311726877,
          3.785598078144562,
          -0.6245323153977052,
          -0.18114110937883374,
          -0.0228002921420032,
          -0.1526302556077638,
          -0.1887950055902842,
          -2.323447975853463,
          -1.6129585756299771,
          -1.9259738186536441,
          -1.409987728540382,
          0.10661860207796492,
          -3.205538486710096,
          0.5323072652927343,
          1.828293783921105,
          -0.6155007542491479,
          1.312255095015003,
          0.6822192108782644,
          -1.035489718088049,
          -0.4567652894288642,
          -0.8453131010072426,
          -1.9210975153315717,
          -0.6527180829080172,
          0.024262505451436333,
          -1.1247553043951912,
          0.4014556948454085,
          0.05346625837849148,
          -1.7065805207387774,
          -1.9235702921852234,
          -0.6810658577223939,
          1.6164448236652176,
          0.09441690780118708,
          -0.5757347764161699,
          -5.324849710991177,
          -1.8070057827169643,
          -0.021224692335780795,
          -0.8179812815431704,
          -1.3805997531516432,
          -0.42525522515752556,
          -1.1523424561828022,
          -0.6194712237286719,
          0.27354114752552033,
          -1.2756162640421742,
          1.7770619659271751,
          -0.4548824173651335,
          -0.42176108068622453,
          -0.6384313705147701,
          0.3983427053701468,
          -0.18775644327673668,
          1.6973069926470348,
          -1.5495981205691756,
          0.19379976247852138,
          0.48139350196031916,
          -0.20512310302811154,
          -1.0982469509351998,
          -1.508139029815268,
          1.42351760383881,
          0.8841847068181824,
          0.20932951138073708,
          -0.5197990686970072,
          -0.7780011535498264,
          -0.08477339014202841,
          0.7143393983015882,
          0.1373683521468974,
          0.7007718477066578,
          -1.009197651514124,
          -1.0020222624106268,
          -0.7434581785609028,
          -0.7805593020332087,
          -1.3122341658827255,
          1.0170344495471024,
          -0.3040733125345656,
          0.08946315030054418,
          -0.3123068127017152,
          -0.16456801441915675,
          -0.20494956985883156,
          -0.07991557811552825,
          -0.48004023356821063,
          1.0418746296709647,
          0.4183237628628032,
          -1.0277443701394149,
          -0.6611049658549465,
          -0.6489680497255804,
          -0.38526083549147006,
          0.1744841053717801,
          0.5248339009637627,
          -0.4352913993616487,
          1.1609463777718723,
          0.25898520090417576,
          -0.42691453943558555,
          -0.6464046362867726,
          0.4281503175252096,
          0.4327388460338238,
          -0.10281476747520153,
          1.7409198864727395,
          0.5389720184815601,
          0.20213755898732477,
          0.7995084254451709,
          -2.223335855145658,
          -0.2981841698859282,
          0.41034709323556195,
          -1.1839367028471566,
          -1.1071412055199392,
          -1.1559737393615033,
          0.44715157638807085,
          0.7108677100843089,
          -0.4873342819660014,
          0.6078594827312372,
          0.14936260868724108,
          -0.5306247834551346,
          -1.4600986525329198,
          2.158879972144932,
          1.4175724059415642,
          2.323474646233734,
          -0.7264340924704054,
          0.5380051620704825,
          -1.555140179519788,
          -0.23681909680485552,
          0.4830988146821115,
          -1.665405322126903,
          -0.7714833608045453,
          0.4358784205841082,
          -0.9528768477392688,
          -1.6818591537753809,
          -1.1853532984892823,
          0.03981564058481177,
          0.42768027326641067,
          -1.1439320101672596,
          0.488120039268684,
          1.0666625856504648,
          0.011626124047277833,
          0.5060631780243181,
          1.4863001605179265,
          -1.2844967685177464,
          -0.3713389048807122,
          1.9640017001666557,
          -0.1677818071588727,
          -0.6040355782456605,
          0.29178307745410004,
          -1.4741218575235377,
          -1.1120222115701328,
          0.3059623637210851,
          -0.4379365403910005,
          -0.5672204471636592,
          -1.489832811794991,
          -0.4367731715365491,
          -0.9923148417845824,
          -0.20902437743052388,
          -1.065456770627405,
          0.7770097252992115,
          0.3340170171438292,
          0.5252445248516951,
          1.8155609678787497,
          0.5081082583965723,
          -1.711762641022558,
          0.49594484497374797,
          1.7418772023653086,
          1.4017740558582372,
          0.28192218743011616,
          0.135367125044677,
          0.0784134996298557,
          0.624522949093912,
          -0.35942637089814494,
          1.7406762762745658,
          1.7810790132391279,
          1.614011358962186,
          1.6826908295445577,
          1.2215784649122419,
          0.9220277790772237,
          1.7617395286963506,
          1.5690767467252902,
          2.723356457630177,
          -0.47763708031993807,
          2.1233022870016125,
          -1.1063612328205006,
          0.10993501322158097,
          -1.656922397115933,
          -0.7710263136821079,
          0.6354891072036881,
          -0.9350760961442329,
          -3.154052361357524,
          -1.2137938729879854,
          -0.843898148183908,
          -0.912537509800452,
          0.23681176346469968,
          1.7845842030479488,
          1.9879280654500113,
          1.8873203415832416,
          1.3890820852305394,
          0.5250577760428058,
          -0.6949754865209054,
          -1.6187760969086633,
          -1.0019065974555337,
          0.4632721312759798,
          -0.16280340377950542,
          0.9104905958323066,
          0.4298723392551116,
          -1.1802309291515323,
          -1.101178115156834,
          -2.4095640228892576,
          -1.1367904663450716,
          -0.48103855836934023,
          -1.2429177650114933,
          0.6135342320569062,
          0.06955499887095253,
          0.882505708245249,
          5.661064469750115,
          -0.16173252619485184,
          0.5077876996618923,
          0.4014556948454085,
          0.6099267306357665,
          0.722197173291675,
          -1.148249704227905,
          -0.3069504230571486,
          -0.7545499809956916,
          2.32775173817351,
          0.2468691144837995,
          2.436830025160063,
          0.34348520895982737,
          0.5893342154021559,
          1.0175082866881129,
          0.6428230485845225,
          0.08601275154033035,
          1.3216325337985868,
          1.7160008601508698,
          -0.5715956896217803,
          -0.8386394424269152,
          -0.3763273731968017,
          -0.0043249871001239315,
          0.8203433536037087,
          0.9161667510871487,
          -0.14941271670467457,
          0.6042109943935768,
          1.013709756214654,
          0.13603763028618457,
          0.5283163487891244,
          -0.7549928952607791,
          0.16600454255353447,
          0.9505098176612304,
          -0.1212674376840211,
          -0.27660102442963924,
          0.2823440524192906,
          -0.650534021633639,
          0.5842145967287775,
          0.5598043266791898,
          -0.4591874361420236,
          1.1835659275212278,
          0.7476109366159939,
          0.09042435986383411,
          -1.1641913972188562,
          0.5884791515413875,
          -0.9406279038400528,
          0.1852494298999759,
          0.19004799950629794,
          0.8947453894033436,
          1.5051506536341885,
          0.8918238940497787,
          2.9135456906314783,
          0.19535040548851032,
          -2.1347042752673886,
          -1.096344142717057,
          -1.096344142717057,
          -0.17984935525889376,
          -0.895054267302875,
          0.4247555799804479,
          0.583105306526443,
          -1.084980509930824,
          -2.8428263971497674,
          -0.9306059402806288,
          -1.2361284238426486,
          -0.999436422321495,
          -0.853262438094627,
          -1.2052063378789555,
          -3.0064137891182603,
          -0.709185233998525,
          -1.0871716684012833,
          -0.5411080761057504,
          -2.0616820132566853,
          -1.8606143982219334,
          1.0730684436328806,
          -0.5750562636036324,
          -1.4422160971020836,
          0.18867895860108988,
          -1.3758920059641697,
          -0.5901899611195253,
          0.9140536000059588,
          -2.355220982919507,
          -1.1982458217628023,
          -1.4354924459885974,
          -2.2823724017631117,
          -1.4495411317022115,
          -1.3961646106574355,
          -1.232245985391987,
          -0.6873446047620465,
          -1.3331003309856062,
          -0.34570651510166567,
          -1.651020638964734,
          -1.2550499258583416,
          -0.6079438902660634,
          -1.3761751048259692,
          -1.5947288333897756,
          -2.7568151461037615,
          -2.0975174481531926,
          -1.7890453009986338,
          0.2693814055156001,
          0.6810389452681569,
          -1.4846548825159833,
          0.7411803149126348,
          1.9235878436744338,
          -3.165362786607463,
          4.826559931350396,
          -0.08741851902060531,
          -2.067410691673392,
          -2.96873444075403,
          0.9064658020706698,
          0.7987656364710372,
          -0.5571382455449456,
          -0.29859931598262074,
          -1.1430498587646871,
          0.4817104725042971,
          0.243166107749227,
          -1.2805711408949847,
          -0.5518033813859752,
          -1.140613241176295,
          -0.6281451448687281,
          -1.8650987670142114,
          -0.07153712703737887,
          -1.5947560608544447,
          1.482939194100988,
          -0.030417443991498302,
          1.9025446924993947,
          -0.6947868184198207,
          0.14542983433201506,
          -0.7902420934319372,
          -0.49582170715308566,
          0.42339057899310534,
          0.7902407593582269,
          -0.3263511848736124,
          1.144585708548664,
          0.8799311581112476,
          -0.9439438340615462,
          -0.42960764079662356,
          0.667091240469466,
          2.2933766544371115,
          -0.48544282290058827,
          -0.7261160220215069,
          0.6223149471238177,
          0.16143317928932432,
          0.7770097252992115,
          0.4494073239760201,
          0.2917261998932707,
          -2.855966032511481,
          -2.855966032511481,
          0.6559230533819514,
          1.4062937358818361,
          1.0147877716635696,
          -0.2578256762650226,
          2.16164771615894,
          0.972507736005416,
          0.5566877659983669,
          -0.12451622959309937,
          0.38684109384886656,
          -2.274267147404101,
          -0.5032745309280627,
          0.4632574382839319,
          0.24131108774216195,
          0.4347306693747585,
          -0.4860819155388508,
          1.349368492929161,
          0.5291162113167044,
          1.368883238313568,
          -0.7445120828736286,
          -1.4873373485364954,
          -1.4723501299578936,
          -0.5094951483576852,
          -0.6626360277993755,
          -1.0397485474220627,
          -0.5147913976645266,
          0.6622361023624534,
          -0.12984942660822305,
          2.5095452655964974,
          0.03438825382887541,
          1.6820118145061873,
          -0.2215189841025393,
          -0.4154576536923456,
          1.864336458834131,
          -0.6931916182715603,
          3.38928432251332,
          1.688812565147576,
          0.7724804102748118,
          -0.02711420406282503,
          -0.4415817358862895,
          0.8066569243264364,
          1.3009605925765586,
          0.8036905200841324,
          1.4551854278010656,
          -0.966841712081993,
          -1.6011254016144802,
          0.42396345440319244,
          0.9768693414114819,
          1.664326299210444,
          0.6616282733623549,
          -0.07493749940942601,
          -0.053419150523245224,
          1.581733168426861,
          0.25080378322681685,
          1.4150167553021777,
          0.9464624614115368,
          1.785420809158666,
          -1.8986513450642597,
          1.660281990069679,
          -1.2797034194713297,
          -1.2278698439781432,
          1.5382079251100929,
          -0.9416686159264972,
          0.25954218045523547,
          1.0825135388044305,
          -0.47956502032335424,
          2.523417044763237,
          0.5799128089869476,
          0.8994140052267777,
          -1.1652508706177407,
          3.541066134530153,
          -0.6151603064563288,
          1.2037797236775676,
          -0.1918949055853397,
          3.774095350032424,
          1.4190247050955012,
          0.4605236227815441,
          0.1950646540055807,
          0.8894868952712861,
          3.4923409189643335,
          0.5095306889194517,
          2.558033727453961,
          2.9413296035633696,
          2.9585376283879428,
          0.6664854167602084,
          1.2751122185381873,
          1.0858549905634804,
          -1.022387489382868,
          -0.4896122311522353,
          -0.8883453305418866,
          -1.0527146426813931,
          -1.5979672130884712,
          2.420543579808563,
          -0.018409808694463597,
          1.3150039075834299,
          0.050344281538858573,
          1.21752387666754,
          1.4513188974470845,
          -0.7764384500968172,
          1.4989831502198447,
          -2.1120286151716217,
          -0.8242950319505027,
          -0.7193176773642298,
          -0.5324102979469504,
          -0.7377570441587142,
          -1.7549264883420455,
          -1.1175832891565345,
          -0.8167610018597031,
          -1.4246076648562223,
          1.9210094918522973,
          2.5107890898612326,
          -1.0983810149208895,
          -0.3190782424130777,
          -0.701898227976244,
          1.1118432949722448,
          -0.43925124042932195,
          0.22403578221356704,
          0.6909457256744224,
          0.13117975779423166,
          0.1725002280878067,
          0.6909457256744224,
          0.8801445212944194,
          -0.17264943240538363,
          -0.9571843923901079,
          -0.34187442727366196,
          1.2354223195199208,
          -0.477277359978432,
          0.6744175097128859,
          -0.4013353354818067,
          0.024502695165670267,
          1.011488834505257,
          -0.8582289768525591,
          0.9394174796720528,
          0.4181213817232734,
          -0.8914675871467125,
          -1.5430309314244652,
          -1.0478864536138908,
          -0.5196969124319144,
          2.093378912735366,
          0.04095302452669397,
          0.9543876770247652,
          -1.2613527108263545,
          -1.3497698875032396,
          0.10155215220949035,
          1.1395224978776368,
          -0.6224926824437779,
          -0.29961093997959853,
          -0.0387612033510859,
          -0.33284134816921235,
          2.1948710462685397,
          0.3926654752334099,
          -0.7082917138338342,
          0.290231983274068,
          1.3922680305445856,
          0.6626605141152946,
          0.6693446790274964,
          3.8268321408784534,
          1.035855680449112,
          1.8888243208696942,
          0.9430672461585761,
          1.2597163972076533,
          -0.8635581785887415,
          -1.6236929721271753,
          -1.2939500198084268,
          -1.6971954084152063,
          1.9663728384182098,
          0.5163649992284982,
          0.50042065539245,
          0.14092098116822546,
          -1.3864965358510837,
          -0.02516930509482901,
          -1.1102871922238366,
          -0.7901974202446455,
          -0.831678053116717,
          -0.6670526559898643,
          1.4554367646834026,
          0.989071095179567,
          0.9287715899499602,
          -0.5819582864843365,
          3.1033319622259357,
          -1.2547084597372216,
          -0.5922012386467975,
          0.4435955306112869,
          -1.1720025427993512,
          0.13010784025672556,
          -0.8263097141400595,
          0.5077876996618923,
          0.9391439233166062,
          -0.8361202369462655,
          -0.41710445916982297,
          0.742471652170488,
          0.6133935006749371,
          -0.6458383516302346,
          -1.7510201157210301,
          -0.3198383314567157,
          -1.4596407954660335,
          0.3245641073323006,
          -0.43057562980432745,
          -1.128065762889742,
          -0.46563576744897606,
          1.2702245745656182,
          -0.21965273572098287,
          -0.6328920510936783,
          -0.6988975412607017,
          0.7686819591582688,
          -0.8578855206836925,
          -0.6751035437408792,
          -0.4860554777818966,
          -0.6387093576147178,
          -2.3003554276697553,
          -1.408986963739952,
          0.5329524166170323,
          -0.5503229283988343,
          0.2649669251071385,
          0.16553005113670233,
          -1.729406726271485,
          -1.5577347517846185,
          0.7672821803529783,
          1.2004658861734103,
          1.4061401453545934,
          -2.3501932035980486,
          -0.08627299783939664,
          0.8446557092574349,
          -0.6487851809748282,
          -1.7149594650926816,
          0.0013927407355481779,
          -0.654732402955598,
          -0.6716498259605344,
          -0.23597623740894555,
          0.9064187971729897,
          0.8189954933017384,
          -3.965753596410923,
          -0.11703497197782618,
          -2.2567515427796616,
          -0.09410452304932342,
          0.3812586717201802,
          2.6976463366123973,
          0.513112053766928,
          0.9959213711304615,
          -1.2402689930457083,
          1.5628972442440017,
          -1.0607416100157312,
          -2.2567515427796616,
          -0.9567877399978051,
          -1.7290648744164645,
          0.20449305184851496,
          -1.4239004176118464,
          0.24505719072753535,
          -0.25033575125748747,
          -0.05687280290597346,
          -0.06143591839480758,
          0.7385669494015955,
          0.21719128364850102,
          0.7781800659952609,
          -0.6563513629989088,
          0.6651735153459144,
          -0.8660248605849117,
          0.10023142404119624,
          0.43555699753972554,
          -0.20416279444805474,
          -0.23066117701024652,
          -0.8316304566337256,
          0.7676614983898064,
          -0.24079201735998362,
          -0.26152158860559827,
          -0.4112232069567609,
          -0.8988800994715385,
          0.3336941223407052,
          0.6860578631441878,
          -0.4951214050625923,
          -0.059560190095300246,
          0.12075812107373564,
          0.44441784379878896,
          -0.6616514069680498,
          -1.4117539522982114,
          0.2781575732523069,
          1.2439293597589165,
          -0.23523107582540687,
          -1.2922767646910296,
          0.1324811428379774,
          -0.5926544520710919,
          3.116286769732263,
          0.2378234107972402,
          -0.6096458997580949,
          -0.693000323244002,
          -1.1323136221586494,
          2.1986968196259027,
          1.1580810480104036,
          1.2457790474239896,
          2.3900983846499217,
          0.2437348166896707,
          1.0924350472163007,
          0.29035429531492124,
          -0.22221128725045894,
          1.8975682273569159,
          0.021286560459713177,
          1.3744385074292986,
          0.015710810497531917,
          1.9290845928997913,
          0.19741899494320084,
          2.3161896559614834,
          0.843046831697723,
          0.7314162765751028,
          -0.7154802731599014,
          -2.2004649250143307,
          0.7920409187021253,
          -0.5335446105803912,
          -0.6116306323663963,
          3.603182112776724,
          1.0162723217827379,
          2.59783063731954,
          1.010859868927458,
          1.0938512321728935,
          2.251323592944938,
          1.5770042098068642,
          1.346752702755334,
          4.185024132169866,
          2.0897495005941016,
          1.0383832443919552,
          2.3508458837380335,
          1.2583716721302363,
          0.7401609265457791,
          2.1602288633856817,
          -1.7852850671989067,
          1.045639887400704,
          0.028154177287873706,
          -0.9361637998069942,
          -0.5220718237448772,
          3.513969831465877,
          1.1131804574029103,
          2.537556457175948,
          -0.2901700140672186,
          -0.5300761897294419,
          -0.2569306475472492,
          -0.3142662177413453,
          2.5566765197541907,
          -0.03293520236964225,
          -0.1988579587147532,
          2.401645428187081,
          1.0351778267918144,
          0.6444849876155505,
          0.028306074933142966,
          -2.116290243984474,
          0.0023635999375400093,
          0.11962982789439307,
          -2.347549242540535,
          -0.920138185824498,
          -0.9743563680480029,
          0.6855028852755765,
          1.137090114462427,
          0.5578793427893981,
          0.26544876172433446,
          1.4026574288018097,
          -1.1982458217628023,
          -0.45983998099859436,
          0.004144946964963305,
          -0.12385926837783823,
          0.9074993270322173,
          2.9661176348304323,
          0.23373058553335413,
          -1.0639389150223324,
          -0.46220981259856947,
          -0.2980526711510932,
          -0.5943153326486951,
          -1.6613392304245769,
          -0.3679066722953553,
          -1.0497134604561367,
          -1.3494016832394524,
          0.7991499058784414,
          -1.6325913148629323,
          1.6707445011481399,
          -0.9660544362186658,
          -0.6556564907066506,
          -2.060659345414369,
          -0.965568850255933,
          -0.6386814446471747,
          0.3922359770881068,
          -0.8850916940287162,
          -0.3744382985187906,
          -0.8776851115060568,
          1.0174448376284793,
          -1.5475653090429051,
          -0.3476754195333718,
          0.7476935362147711,
          -1.7158149473483144,
          -0.10726619418296365,
          1.1371005994234744,
          1.1252714892569744,
          -3.393722940762181,
          2.0080019600142682,
          0.3406402701807253,
          -1.9378358956816615,
          -1.640624010894918,
          0.3611379628164948,
          -0.11848794556724294,
          -1.385977597210931,
          -0.801082531343608,
          -0.6575570841874526,
          -0.8394366975160797,
          -0.5271531372802958,
          -0.6114212774880566,
          1.584515152113722,
          -0.4643760537535928,
          -1.3018832532958375,
          -1.151666825670536,
          -0.8751633821228604,
          -0.884766615800462,
          -1.16932338637957,
          1.7741759054637456,
          -0.08797624049417689,
          0.0031216044997845797,
          -0.21948269271775603,
          -1.4655689988816671,
          -1.5463730166337226,
          0.4032761766150053,
          0.7755578306120955,
          -0.7059657906162836,
          0.5503898665299523,
          -1.1182317836598283,
          0.5624036751698464,
          -1.4549911125915842,
          -0.6621999979037598,
          -0.46814956413728,
          -0.48704101382320025,
          0.33010939541902845,
          1.0408259298766718,
          1.4738730430602929,
          0.5156531889061448,
          -0.015715671755880612,
          0.6860578631441878,
          1.2872874286237432,
          -1.7328518095993377,
          0.6959769757292256,
          -0.00766933926796718,
          -0.02627685644732951,
          -2.3639641186732687,
          1.16314941081165,
          -1.9638694381659385,
          0.5622885515036897,
          -1.1870319739345854,
          -1.215406142640306,
          -1.456650589812617,
          -2.265914905684872,
          0.17948450776703698,
          0.09855330331148564,
          0.742471652170488,
          -0.08219381352159379,
          -0.8236358611214702,
          -0.483529695600087,
          -0.16310794825620115,
          -1.3903335627467317,
          -0.25239003901778356,
          0.487316166395099,
          -0.4786048260815291,
          -0.31959440173335846,
          -0.42283836051148155,
          0.4615724899439214,
          1.3345949133414934,
          2.1353388542792655,
          -1.2603689420633668,
          0.6396464239450973,
          0.717437613604611,
          2.3452729670637336,
          1.3733289406188676,
          -0.596663058045139,
          -0.8228496570941332,
          -2.4169422454436003,
          0.9336350514741277,
          0.9336350514741277,
          0.2366487328086509,
          1.2386911146487687,
          -0.5418841654097418,
          0.8575279188846321,
          -0.7605992017394497,
          -0.23040106781687483,
          0.5411367955330906,
          1.3618413519709782,
          2.457186219925859,
          -1.489821630377476,
          -1.068923568950281,
          -2.0465134097188757,
          -0.9547823761436237,
          0.8758128302585269,
          -0.5020453808359163,
          -0.8450034896699772,
          -1.1505866051408817,
          -1.0162719172752017,
          -0.6633142881216197,
          -1.6697928510711912,
          -1.3533738902887797,
          -0.9919352561058709,
          -1.0803934023175576,
          -0.6401416299877903,
          -1.3024094498395513,
          -1.527463322382272,
          -1.8816369915962348,
          -0.6241541934765862,
          -1.1087513872616148,
          -1.0937437785451831,
          -0.5769655569107672,
          1.350116593760214,
          -0.6835707776462004,
          -0.21333495891230686,
          -1.7208881667392961,
          0.6069933473401401,
          -0.94855789090882,
          0.34063800496898206,
          -0.6728024875104718,
          0.009588568549991705,
          -0.33186820729641914,
          1.2099337331859257,
          -0.043516538890150815,
          0.47249730841774834,
          0.16670061782509987,
          -0.45983998099859436,
          0.8379678502770372,
          -1.8668083916396305,
          0.39134901070350403,
          0.030032344428860297,
          0.3334601091239048,
          -0.41099462855907687,
          -0.7476281108276721,
          -0.5327999702766608,
          1.416575387702346,
          -0.977875526993149,
          0.5343302360287074,
          -1.1023076661037088,
          -0.8610990263499392,
          -0.7747711983975613,
          -0.14363907758537192,
          -0.9146586648127374,
          -0.9765413938527068,
          -1.766366139386005,
          -1.130728960818977,
          -0.7087335536763925,
          -0.5947383472184768,
          0.07306755370479749,
          -1.515879694964563,
          0.6613108686606779,
          1.1286274880828167,
          -2.058197767187703,
          1.0677052103269231,
          -0.301245923523442,
          0.425780149887807,
          -0.4026393357126611,
          0.2989675907068809,
          1.6285636697961776,
          -0.6663501829263657,
          1.8664334683739896,
          2.4203579302843816,
          -1.1092347492996677,
          0.3200841475174383,
          0.031691890126982,
          1.1160776457145438,
          -0.43945652058233264,
          2.089830979623216,
          -0.7570751399473805,
          -0.7746598120563294,
          -0.38653891891373326,
          0.25707335983407015,
          0.06329890129218253,
          0.33736198173459214,
          0.22643180698531087,
          -1.3546107260806564,
          0.8002025039600889,
          -0.8889081107644078,
          -0.7286812887095797,
          1.3078694865346474,
          -0.6114302591907718,
          0.5466667600703211,
          1.8234840719083263,
          2.251821150301494,
          1.5327451810884485,
          1.692037882897692,
          0.7022921431888586,
          1.9109285289174869,
          0.280448461465322,
          -1.049841788790346,
          3.603182112776724,
          -0.5242582112536118,
          0.7861182653546221,
          2.040327191221802,
          0.16893016132376587,
          -0.08526345403740553,
          -0.01102414073962747,
          -0.7916755386423822,
          -1.2147270836405082,
          0.7724463413233449,
          -0.3037457413035926,
          -2.3335427199807524,
          -0.3562168495073645,
          0.1243030358694666,
          -1.1706210899866973,
          -2.3606274464677357,
          -1.6367819175495595,
          -0.5023576395671437,
          -2.7309258321583556,
          -1.2423446127955213,
          -0.8386470327706338,
          -1.0079198521398591,
          -0.2276189352739322,
          -0.4216055322863341,
          -0.9631389674046092,
          2.4898319782499603,
          0.7343740197596869,
          2.1153640634076134,
          0.1372487388050839,
          1.0125213152896422,
          -0.3700529157494528,
          -1.7815300896312851,
          -1.1887304827614922,
          -0.2404274433168975,
          -0.6167239342012012,
          -0.9734476761826603,
          -0.568890647744472,
          -0.48616722062179274,
          1.0076600514519969,
          -0.30150576336683305,
          0.1289729471511782,
          2.5309300185056176,
          0.9337858603263679,
          0.8418091510500217,
          -0.9333434321358236,
          -0.19397496311706577,
          -0.5671126380023044,
          1.5106561492724926,
          0.18074855667507417,
          -1.0463627822229713,
          -0.7333067303893006,
          -1.024619137581627,
          0.8689648267049032,
          2.4131387627924745,
          -1.0475814842246267,
          0.9736919192976681,
          1.7212392934745593,
          -1.3429003712914214,
          -0.5792383396463371,
          1.3474157429635816,
          1.2378265189856161,
          -0.6277344905438679,
          -0.4669374453129723,
          -0.6195438014522845,
          1.424928249001408,
          0.9643381077505955,
          0.11165727459267798,
          0.9643381077505955,
          -0.12094841593244937,
          -0.4345154977397181,
          -0.8717228134320258,
          0.15079746470859642,
          0.27797908953692135,
          1.189489127296593,
          0.13692337593368067,
          2.2951298743783077,
          -1.2426905814373932,
          -0.3485694162350446,
          0.3027643122628099,
          -0.9565041870588191,
          -0.03455778115238279,
          -0.23528215500303046,
          -0.2877116065230745,
          0.3349014483820885,
          -0.5519801147930506,
          -1.6671675160620283,
          0.34836557143281477,
          -0.6829322826912599,
          0.10279951612119997,
          -1.9959511402427061,
          0.2685118467719538,
          1.994616924866822,
          1.8483060822592712,
          1.055492558867623,
          0.21879040449048226,
          -0.13570197581661086,
          0.9851968861900015,
          1.0680519747125812,
          -0.9423944222871236,
          -1.3267365895545922,
          0.23792831775974219,
          1.0906730354380956,
          0.8260360840052864,
          -0.11461723951061764,
          1.8404077114195656,
          1.0823540919940677,
          -0.8687738626484466,
          -0.5914828614287025,
          -0.8089063660175041,
          0.6170449549147397,
          -0.03580072293818562,
          1.5913428281037116,
          1.3560670015995695,
          -1.6287481707392588,
          -1.293349042832219,
          -0.6763485851962382,
          1.1830106693009688,
          0.6030493268732682,
          0.3823904837157784,
          3.024148516645298,
          1.4320445004928863,
          0.34228297341502306,
          -1.4187000715910458,
          1.681499986482139,
          2.799421051795823,
          -0.04549238763922181,
          0.4657414169487387,
          1.419823945602946,
          0.5888953615807219,
          1.0444386933204304,
          0.5964434905315006,
          0.08844995393029621,
          -0.04549238763922181,
          0.8977977758332226,
          -0.1688505817045769,
          0.5983088128366487,
          0.6667441748139555,
          0.11485247399156066,
          -2.57692520530168,
          0.2390964075580557,
          2.248756190662395,
          2.538734024943243,
          -0.056325911547831044,
          0.5964434905315006,
          1.9783020811682732,
          1.3560670015995695,
          2.9160689759183764,
          -0.6225797561996632,
          0.2559420671846046,
          -0.29072442076003435,
          0.37573869502044305,
          1.5556309456722206,
          0.45063092760922646,
          0.7757854374142333,
          0.07431941987263695,
          -1.3080925230982414,
          -1.3524345982935713,
          0.2936091768199961,
          3.3099155081569447,
          -0.5551636406866729,
          0.5675987166081099,
          2.6461398776378866,
          0.03399799833090103,
          0.678604005661552,
          0.14923360423841536,
          -0.45591360084023763,
          2.9465579423623574,
          1.9486015356312556,
          0.6937156146030227,
          -0.6479161411275314,
          -0.168326435604067,
          0.9206331889506515,
          -0.4507613510772848,
          -1.6238548107932487,
          -1.7149594650926816,
          0.8246937348674219,
          -0.6046810983191571,
          0.9951455987502089,
          -0.4943961431689736,
          -0.1978930143661516,
          -0.1776336120395259,
          -0.08113594162833113,
          -3.591928184508255,
          0.015192898637178152,
          0.4183237628628032,
          -1.3430396251065282,
          -1.1533387805480786,
          -1.5144988077562596,
          -1.5909581557697063,
          -2.345699961945221,
          0.5187929455099791,
          -2.0068878431165382,
          -1.5610744785887494,
          0.4027243215517706,
          0.3885717411713825,
          2.4711907619370588,
          -0.21414035832918116,
          3.0020429581390804,
          2.4311389903409224,
          2.8822811672315223,
          0.9642980521378562,
          0.00799528737618404,
          -1.4448575644382047,
          -0.21558652585747343,
          -1.0494337432873824,
          -0.1688143132993537,
          -0.7392065333258862,
          2.179099357735235,
          -1.082026356732057,
          -0.5618613817516014,
          0.05919103367562567,
          -1.0420534653157894,
          0.12324047273321467,
          -0.06624184533439223,
          -1.5632894769170884,
          -0.20455517338153026,
          -0.28256903175167414,
          -1.737347289424939,
          -1.0465870893288525,
          0.571893250165843,
          0.03184445897223731,
          -0.012659131268618227,
          1.0406554362647782,
          2.0807189773265056,
          -2.221579005793504,
          -1.2942306228088352,
          -0.9232671973085155,
          1.6648500226504834,
          -2.251716443317536,
          2.227919979383774,
          -1.4934305722339838,
          0.06759763053874164,
          -0.4220085249074858,
          -1.6224994565962756,
          -0.8568498421627411,
          -1.715611908351696,
          -0.40181400052584937,
          -1.918311146567523,
          -1.0284176661154834,
          0.5662509076481959,
          -1.936092129048506,
          -1.3661970267771621,
          -0.4790532667477205,
          1.5323961175618483,
          0.637258490314979,
          1.3733798976383895,
          -0.5126351469976403,
          -0.4706577641761547,
          0.000585160465056484,
          0.8136001906911953,
          0.38997026358276965,
          -0.3954610481119676,
          -1.5825523645928834,
          -0.9178690058179513,
          -0.3820309089909221,
          0.15708317010829917,
          -0.9806604314366176,
          1.2573912397734035,
          0.5631582113333862,
          1.1114556668423157,
          0.1930943075400801,
          -3.057357636723077,
          -2.796405090095436,
          0.4441931981329896,
          -0.5425621727635168,
          -0.8201583062849641,
          0.37514319403638374,
          -1.0223780840942378,
          -0.6070712876472272,
          -0.9624492068779528,
          -2.023747135601468,
          -0.08741851902060531,
          -0.2046286417953864,
          -0.08910926007142042,
          -2.0591628392523122,
          -1.1745357862551753,
          -0.63460886481899,
          -0.5491745735455973,
          0.5095716897531244,
          0.8065406104992435,
          0.7411803149126348,
          -0.8558821629061242,
          -0.3657681542279326,
          -0.5309994855824154,
          -0.521399451920894,
          -0.8095689157079904,
          1.126582546311041,
          -0.20982947444075215,
          -1.1323946066926915,
          0.2211940171929528,
          -1.1950493627964554,
          1.4025390812695402,
          -0.5757347764161699,
          -0.7264869106374368,
          -0.7415878471844211,
          0.06951336384573437,
          -0.20446565868520739,
          -0.018790314063138153,
          0.03139289071178942,
          0.3506700562360762,
          -1.112895632869606,
          1.8195868927959087,
          1.8713013951568787,
          1.9181525956534926,
          -1.7186688480437666,
          0.875789310611917,
          0.17563027053701336,
          -0.692918384050895,
          -0.2872600209762625,
          0.20809406613317438,
          1.7764954026041313,
          -0.40857318509327634,
          0.029405535122964625,
          0.3028902959496658,
          0.9923583707665757,
          0.4337799548368584,
          -1.356432955086265,
          0.586375836873629,
          2.9239327364249332,
          1.0230580147774817,
          0.8397768146241362,
          2.571609178955058,
          -0.39274683629951085,
          0.3103645893388283,
          1.2122221199360632,
          -0.9105271986614417,
          -0.4231354934946304,
          -1.5022933704705295,
          -0.3958114038540059,
          0.11057980583580512,
          -1.1364627595215115,
          0.989071095179567,
          1.6893322614019686,
          0.9299479085907834,
          -0.45259687761377726,
          -0.7448746955627183,
          1.8574219818393154,
          0.31621132843281036,
          -3.591928184508255,
          -2.7715699519860673,
          -1.0936649608603821,
          -0.8987367758535385,
          -0.7144851932041146,
          0.08471793830475353,
          3.4023252585367185,
          0.5915376393811418,
          0.1959460261916858,
          0.03596508498122002,
          -0.757278749113473,
          0.4800421604906782,
          0.527783426515019,
          -0.07029951988053242,
          -2.645920314483973,
          -1.3983743516341598,
          -1.787507763377891,
          0.848564620497175,
          1.2059329792106632,
          -1.7241610708089123,
          -0.47215623617893376,
          -0.8206980878304465,
          -0.9083842640904376,
          -0.7454847813329023,
          -0.7426614340923873,
          -0.5761116798392981,
          1.2630604906993137,
          -0.964840992139088,
          0.19368622313439815,
          0.9996039142658527,
          1.1575246422378065,
          -1.0936649608603821,
          -1.0936649608603821,
          3.024148516645298,
          1.581733168426861,
          1.6452582761714478,
          -2.4045788380748387,
          -2.4574249906447116,
          -0.5475715725911338,
          -1.3098373709567719,
          -2.0126521925813607,
          -2.462051030380862,
          0.4839182224013328,
          -1.4091483830778597,
          -1.5557878439244364,
          -1.7104659017896549,
          -0.14939377576964671,
          -2.0027033980752837,
          -2.220458417816705,
          -0.9119564427723744,
          -2.2209031233141774,
          -1.7536558307851113,
          -1.3764437205042677,
          -2.5396808993309934,
          -1.9288195091233975,
          0.4586528028759594,
          -0.7370750659682039,
          -1.423871779877754,
          0.3131378501572326,
          0.03164626132905794,
          -0.9437787672942017,
          0.42203314767341754,
          -0.19189119093840473,
          -0.5211679048184927,
          1.883607692357037,
          1.2546259176505097,
          -1.798007110035972,
          1.6046581333958068,
          0.530824400776378,
          -1.4677050692393332,
          -0.07553356999426558,
          -0.9371300061780332,
          0.9744129361419291,
          1.080832786073421,
          -1.3498838940521103,
          -2.6382976097380944,
          1.107574181094693,
          -1.1968544636420644,
          -0.049851570017733764,
          -1.3368586236919544,
          3.380206235874203,
          -0.9362765548657914,
          -0.8512302225203642,
          0.8312994793303581,
          1.147415931777522,
          0.869281462039729,
          -0.06373150398819687,
          -0.4524259118905829,
          -1.0487895677819918,
          -0.9786629053950859,
          -1.1203219593181102,
          -0.6009018213810928,
          0.418624148693119,
          -0.30537603096408156,
          0.18024535423151367,
          -0.08741851902060531,
          -2.144691504600467,
          0.861442034614356,
          0.1307140789749265,
          -0.2277504589672812,
          1.1093919174553295,
          0.5061696894655061,
          2.511450929046464,
          -0.35625838503850055,
          0.2639556727669241,
          0.2716152626191439,
          -0.3396231129337279,
          0.8138121170061813,
          1.6452114399898918,
          1.238681856270098,
          0.8050649466533377,
          0.5777097466141728,
          -0.7454513238920558,
          0.7691464789300269,
          -0.23009953334279792,
          -1.162522550315381,
          1.0967477999866908,
          -0.7762878624655957,
          -0.5844671710446077,
          -0.6061979063641805,
          -1.4869471807666155,
          1.750344874345488,
          -0.6151603064563288,
          -1.653134426340767,
          0.7427151707507375,
          -0.7054157806980502,
          -0.03251912330296213,
          -2.3414449224888636,
          1.8408479769371702,
          0.41506437622651754,
          -0.5229064046857343,
          -0.01712586072171555,
          -1.3049828462456494,
          -1.089725570464689,
          -3.695232752777761,
          -1.3907085464763496
         ],
         "yaxis": "y"
        }
       ],
       "layout": {
        "coloraxis": {
         "colorbar": {
          "title": {
           "text": "cluster_pca"
          }
         },
         "colorscale": [
          [
           0,
           "#0d0887"
          ],
          [
           0.1111111111111111,
           "#46039f"
          ],
          [
           0.2222222222222222,
           "#7201a8"
          ],
          [
           0.3333333333333333,
           "#9c179e"
          ],
          [
           0.4444444444444444,
           "#bd3786"
          ],
          [
           0.5555555555555556,
           "#d8576b"
          ],
          [
           0.6666666666666666,
           "#ed7953"
          ],
          [
           0.7777777777777778,
           "#fb9f3a"
          ],
          [
           0.8888888888888888,
           "#fdca26"
          ],
          [
           1,
           "#f0f921"
          ]
         ]
        },
        "legend": {
         "tracegroupgap": 0
        },
        "margin": {
         "t": 60
        },
        "template": {
         "data": {
          "bar": [
           {
            "error_x": {
             "color": "#2a3f5f"
            },
            "error_y": {
             "color": "#2a3f5f"
            },
            "marker": {
             "line": {
              "color": "#E5ECF6",
              "width": 0.5
             },
             "pattern": {
              "fillmode": "overlay",
              "size": 10,
              "solidity": 0.2
             }
            },
            "type": "bar"
           }
          ],
          "barpolar": [
           {
            "marker": {
             "line": {
              "color": "#E5ECF6",
              "width": 0.5
             },
             "pattern": {
              "fillmode": "overlay",
              "size": 10,
              "solidity": 0.2
             }
            },
            "type": "barpolar"
           }
          ],
          "carpet": [
           {
            "aaxis": {
             "endlinecolor": "#2a3f5f",
             "gridcolor": "white",
             "linecolor": "white",
             "minorgridcolor": "white",
             "startlinecolor": "#2a3f5f"
            },
            "baxis": {
             "endlinecolor": "#2a3f5f",
             "gridcolor": "white",
             "linecolor": "white",
             "minorgridcolor": "white",
             "startlinecolor": "#2a3f5f"
            },
            "type": "carpet"
           }
          ],
          "choropleth": [
           {
            "colorbar": {
             "outlinewidth": 0,
             "ticks": ""
            },
            "type": "choropleth"
           }
          ],
          "contour": [
           {
            "colorbar": {
             "outlinewidth": 0,
             "ticks": ""
            },
            "colorscale": [
             [
              0,
              "#0d0887"
             ],
             [
              0.1111111111111111,
              "#46039f"
             ],
             [
              0.2222222222222222,
              "#7201a8"
             ],
             [
              0.3333333333333333,
              "#9c179e"
             ],
             [
              0.4444444444444444,
              "#bd3786"
             ],
             [
              0.5555555555555556,
              "#d8576b"
             ],
             [
              0.6666666666666666,
              "#ed7953"
             ],
             [
              0.7777777777777778,
              "#fb9f3a"
             ],
             [
              0.8888888888888888,
              "#fdca26"
             ],
             [
              1,
              "#f0f921"
             ]
            ],
            "type": "contour"
           }
          ],
          "contourcarpet": [
           {
            "colorbar": {
             "outlinewidth": 0,
             "ticks": ""
            },
            "type": "contourcarpet"
           }
          ],
          "heatmap": [
           {
            "colorbar": {
             "outlinewidth": 0,
             "ticks": ""
            },
            "colorscale": [
             [
              0,
              "#0d0887"
             ],
             [
              0.1111111111111111,
              "#46039f"
             ],
             [
              0.2222222222222222,
              "#7201a8"
             ],
             [
              0.3333333333333333,
              "#9c179e"
             ],
             [
              0.4444444444444444,
              "#bd3786"
             ],
             [
              0.5555555555555556,
              "#d8576b"
             ],
             [
              0.6666666666666666,
              "#ed7953"
             ],
             [
              0.7777777777777778,
              "#fb9f3a"
             ],
             [
              0.8888888888888888,
              "#fdca26"
             ],
             [
              1,
              "#f0f921"
             ]
            ],
            "type": "heatmap"
           }
          ],
          "heatmapgl": [
           {
            "colorbar": {
             "outlinewidth": 0,
             "ticks": ""
            },
            "colorscale": [
             [
              0,
              "#0d0887"
             ],
             [
              0.1111111111111111,
              "#46039f"
             ],
             [
              0.2222222222222222,
              "#7201a8"
             ],
             [
              0.3333333333333333,
              "#9c179e"
             ],
             [
              0.4444444444444444,
              "#bd3786"
             ],
             [
              0.5555555555555556,
              "#d8576b"
             ],
             [
              0.6666666666666666,
              "#ed7953"
             ],
             [
              0.7777777777777778,
              "#fb9f3a"
             ],
             [
              0.8888888888888888,
              "#fdca26"
             ],
             [
              1,
              "#f0f921"
             ]
            ],
            "type": "heatmapgl"
           }
          ],
          "histogram": [
           {
            "marker": {
             "pattern": {
              "fillmode": "overlay",
              "size": 10,
              "solidity": 0.2
             }
            },
            "type": "histogram"
           }
          ],
          "histogram2d": [
           {
            "colorbar": {
             "outlinewidth": 0,
             "ticks": ""
            },
            "colorscale": [
             [
              0,
              "#0d0887"
             ],
             [
              0.1111111111111111,
              "#46039f"
             ],
             [
              0.2222222222222222,
              "#7201a8"
             ],
             [
              0.3333333333333333,
              "#9c179e"
             ],
             [
              0.4444444444444444,
              "#bd3786"
             ],
             [
              0.5555555555555556,
              "#d8576b"
             ],
             [
              0.6666666666666666,
              "#ed7953"
             ],
             [
              0.7777777777777778,
              "#fb9f3a"
             ],
             [
              0.8888888888888888,
              "#fdca26"
             ],
             [
              1,
              "#f0f921"
             ]
            ],
            "type": "histogram2d"
           }
          ],
          "histogram2dcontour": [
           {
            "colorbar": {
             "outlinewidth": 0,
             "ticks": ""
            },
            "colorscale": [
             [
              0,
              "#0d0887"
             ],
             [
              0.1111111111111111,
              "#46039f"
             ],
             [
              0.2222222222222222,
              "#7201a8"
             ],
             [
              0.3333333333333333,
              "#9c179e"
             ],
             [
              0.4444444444444444,
              "#bd3786"
             ],
             [
              0.5555555555555556,
              "#d8576b"
             ],
             [
              0.6666666666666666,
              "#ed7953"
             ],
             [
              0.7777777777777778,
              "#fb9f3a"
             ],
             [
              0.8888888888888888,
              "#fdca26"
             ],
             [
              1,
              "#f0f921"
             ]
            ],
            "type": "histogram2dcontour"
           }
          ],
          "mesh3d": [
           {
            "colorbar": {
             "outlinewidth": 0,
             "ticks": ""
            },
            "type": "mesh3d"
           }
          ],
          "parcoords": [
           {
            "line": {
             "colorbar": {
              "outlinewidth": 0,
              "ticks": ""
             }
            },
            "type": "parcoords"
           }
          ],
          "pie": [
           {
            "automargin": true,
            "type": "pie"
           }
          ],
          "scatter": [
           {
            "marker": {
             "colorbar": {
              "outlinewidth": 0,
              "ticks": ""
             }
            },
            "type": "scatter"
           }
          ],
          "scatter3d": [
           {
            "line": {
             "colorbar": {
              "outlinewidth": 0,
              "ticks": ""
             }
            },
            "marker": {
             "colorbar": {
              "outlinewidth": 0,
              "ticks": ""
             }
            },
            "type": "scatter3d"
           }
          ],
          "scattercarpet": [
           {
            "marker": {
             "colorbar": {
              "outlinewidth": 0,
              "ticks": ""
             }
            },
            "type": "scattercarpet"
           }
          ],
          "scattergeo": [
           {
            "marker": {
             "colorbar": {
              "outlinewidth": 0,
              "ticks": ""
             }
            },
            "type": "scattergeo"
           }
          ],
          "scattergl": [
           {
            "marker": {
             "colorbar": {
              "outlinewidth": 0,
              "ticks": ""
             }
            },
            "type": "scattergl"
           }
          ],
          "scattermapbox": [
           {
            "marker": {
             "colorbar": {
              "outlinewidth": 0,
              "ticks": ""
             }
            },
            "type": "scattermapbox"
           }
          ],
          "scatterpolar": [
           {
            "marker": {
             "colorbar": {
              "outlinewidth": 0,
              "ticks": ""
             }
            },
            "type": "scatterpolar"
           }
          ],
          "scatterpolargl": [
           {
            "marker": {
             "colorbar": {
              "outlinewidth": 0,
              "ticks": ""
             }
            },
            "type": "scatterpolargl"
           }
          ],
          "scatterternary": [
           {
            "marker": {
             "colorbar": {
              "outlinewidth": 0,
              "ticks": ""
             }
            },
            "type": "scatterternary"
           }
          ],
          "surface": [
           {
            "colorbar": {
             "outlinewidth": 0,
             "ticks": ""
            },
            "colorscale": [
             [
              0,
              "#0d0887"
             ],
             [
              0.1111111111111111,
              "#46039f"
             ],
             [
              0.2222222222222222,
              "#7201a8"
             ],
             [
              0.3333333333333333,
              "#9c179e"
             ],
             [
              0.4444444444444444,
              "#bd3786"
             ],
             [
              0.5555555555555556,
              "#d8576b"
             ],
             [
              0.6666666666666666,
              "#ed7953"
             ],
             [
              0.7777777777777778,
              "#fb9f3a"
             ],
             [
              0.8888888888888888,
              "#fdca26"
             ],
             [
              1,
              "#f0f921"
             ]
            ],
            "type": "surface"
           }
          ],
          "table": [
           {
            "cells": {
             "fill": {
              "color": "#EBF0F8"
             },
             "line": {
              "color": "white"
             }
            },
            "header": {
             "fill": {
              "color": "#C8D4E3"
             },
             "line": {
              "color": "white"
             }
            },
            "type": "table"
           }
          ]
         },
         "layout": {
          "annotationdefaults": {
           "arrowcolor": "#2a3f5f",
           "arrowhead": 0,
           "arrowwidth": 1
          },
          "autotypenumbers": "strict",
          "coloraxis": {
           "colorbar": {
            "outlinewidth": 0,
            "ticks": ""
           }
          },
          "colorscale": {
           "diverging": [
            [
             0,
             "#8e0152"
            ],
            [
             0.1,
             "#c51b7d"
            ],
            [
             0.2,
             "#de77ae"
            ],
            [
             0.3,
             "#f1b6da"
            ],
            [
             0.4,
             "#fde0ef"
            ],
            [
             0.5,
             "#f7f7f7"
            ],
            [
             0.6,
             "#e6f5d0"
            ],
            [
             0.7,
             "#b8e186"
            ],
            [
             0.8,
             "#7fbc41"
            ],
            [
             0.9,
             "#4d9221"
            ],
            [
             1,
             "#276419"
            ]
           ],
           "sequential": [
            [
             0,
             "#0d0887"
            ],
            [
             0.1111111111111111,
             "#46039f"
            ],
            [
             0.2222222222222222,
             "#7201a8"
            ],
            [
             0.3333333333333333,
             "#9c179e"
            ],
            [
             0.4444444444444444,
             "#bd3786"
            ],
            [
             0.5555555555555556,
             "#d8576b"
            ],
            [
             0.6666666666666666,
             "#ed7953"
            ],
            [
             0.7777777777777778,
             "#fb9f3a"
            ],
            [
             0.8888888888888888,
             "#fdca26"
            ],
            [
             1,
             "#f0f921"
            ]
           ],
           "sequentialminus": [
            [
             0,
             "#0d0887"
            ],
            [
             0.1111111111111111,
             "#46039f"
            ],
            [
             0.2222222222222222,
             "#7201a8"
            ],
            [
             0.3333333333333333,
             "#9c179e"
            ],
            [
             0.4444444444444444,
             "#bd3786"
            ],
            [
             0.5555555555555556,
             "#d8576b"
            ],
            [
             0.6666666666666666,
             "#ed7953"
            ],
            [
             0.7777777777777778,
             "#fb9f3a"
            ],
            [
             0.8888888888888888,
             "#fdca26"
            ],
            [
             1,
             "#f0f921"
            ]
           ]
          },
          "colorway": [
           "#636efa",
           "#EF553B",
           "#00cc96",
           "#ab63fa",
           "#FFA15A",
           "#19d3f3",
           "#FF6692",
           "#B6E880",
           "#FF97FF",
           "#FECB52"
          ],
          "font": {
           "color": "#2a3f5f"
          },
          "geo": {
           "bgcolor": "white",
           "lakecolor": "white",
           "landcolor": "#E5ECF6",
           "showlakes": true,
           "showland": true,
           "subunitcolor": "white"
          },
          "hoverlabel": {
           "align": "left"
          },
          "hovermode": "closest",
          "mapbox": {
           "style": "light"
          },
          "paper_bgcolor": "white",
          "plot_bgcolor": "#E5ECF6",
          "polar": {
           "angularaxis": {
            "gridcolor": "white",
            "linecolor": "white",
            "ticks": ""
           },
           "bgcolor": "#E5ECF6",
           "radialaxis": {
            "gridcolor": "white",
            "linecolor": "white",
            "ticks": ""
           }
          },
          "scene": {
           "xaxis": {
            "backgroundcolor": "#E5ECF6",
            "gridcolor": "white",
            "gridwidth": 2,
            "linecolor": "white",
            "showbackground": true,
            "ticks": "",
            "zerolinecolor": "white"
           },
           "yaxis": {
            "backgroundcolor": "#E5ECF6",
            "gridcolor": "white",
            "gridwidth": 2,
            "linecolor": "white",
            "showbackground": true,
            "ticks": "",
            "zerolinecolor": "white"
           },
           "zaxis": {
            "backgroundcolor": "#E5ECF6",
            "gridcolor": "white",
            "gridwidth": 2,
            "linecolor": "white",
            "showbackground": true,
            "ticks": "",
            "zerolinecolor": "white"
           }
          },
          "shapedefaults": {
           "line": {
            "color": "#2a3f5f"
           }
          },
          "ternary": {
           "aaxis": {
            "gridcolor": "white",
            "linecolor": "white",
            "ticks": ""
           },
           "baxis": {
            "gridcolor": "white",
            "linecolor": "white",
            "ticks": ""
           },
           "bgcolor": "#E5ECF6",
           "caxis": {
            "gridcolor": "white",
            "linecolor": "white",
            "ticks": ""
           }
          },
          "title": {
           "x": 0.05
          },
          "xaxis": {
           "automargin": true,
           "gridcolor": "white",
           "linecolor": "white",
           "ticks": "",
           "title": {
            "standoff": 15
           },
           "zerolinecolor": "white",
           "zerolinewidth": 2
          },
          "yaxis": {
           "automargin": true,
           "gridcolor": "white",
           "linecolor": "white",
           "ticks": "",
           "title": {
            "standoff": 15
           },
           "zerolinecolor": "white",
           "zerolinewidth": 2
          }
         }
        },
        "xaxis": {
         "anchor": "y",
         "domain": [
          0,
          1
         ],
         "title": {
          "text": "x"
         }
        },
        "yaxis": {
         "anchor": "x",
         "domain": [
          0,
          1
         ],
         "title": {
          "text": "y"
         }
        }
       }
      }
     },
     "metadata": {},
     "output_type": "display_data"
    }
   ],
   "source": [
    "#plotando\n",
    "fig = px.scatter(x = 'x', y = 'y', color = 'cluster_pca', hover_data=['x', 'y', 'generos'], data_frame = projection)\n",
    "fig.show()"
   ]
  },
  {
   "cell_type": "code",
   "execution_count": 103,
   "metadata": {},
   "outputs": [
    {
     "data": {
      "text/plain": [
       "array([0.34986105, 0.14284565])"
      ]
     },
     "execution_count": 103,
     "metadata": {},
     "output_type": "execute_result"
    }
   ],
   "source": [
    "#Verificando explicação\n",
    "pca_pipeline[1].explained_variance_ratio_"
   ]
  },
  {
   "cell_type": "code",
   "execution_count": 104,
   "metadata": {},
   "outputs": [
    {
     "data": {
      "text/plain": [
       "0.49270669947266443"
      ]
     },
     "execution_count": 104,
     "metadata": {},
     "output_type": "execute_result"
    }
   ],
   "source": [
    "pca_pipeline[1].explained_variance_ratio_.sum()"
   ]
  },
  {
   "cell_type": "markdown",
   "metadata": {},
   "source": [
    "## 5 - Clusterização Por música"
   ]
  },
  {
   "cell_type": "code",
   "execution_count": 105,
   "metadata": {},
   "outputs": [
    {
     "data": {
      "text/html": [
       "<div>\n",
       "<style scoped>\n",
       "    .dataframe tbody tr th:only-of-type {\n",
       "        vertical-align: middle;\n",
       "    }\n",
       "\n",
       "    .dataframe tbody tr th {\n",
       "        vertical-align: top;\n",
       "    }\n",
       "\n",
       "    .dataframe thead th {\n",
       "        text-align: right;\n",
       "    }\n",
       "</style>\n",
       "<table border=\"1\" class=\"dataframe\">\n",
       "  <thead>\n",
       "    <tr style=\"text-align: right;\">\n",
       "      <th></th>\n",
       "      <th>valence</th>\n",
       "      <th>year</th>\n",
       "      <th>acousticness</th>\n",
       "      <th>artists</th>\n",
       "      <th>danceability</th>\n",
       "      <th>duration_ms</th>\n",
       "      <th>energy</th>\n",
       "      <th>id</th>\n",
       "      <th>instrumentalness</th>\n",
       "      <th>liveness</th>\n",
       "      <th>loudness</th>\n",
       "      <th>name</th>\n",
       "      <th>popularity</th>\n",
       "      <th>speechiness</th>\n",
       "      <th>tempo</th>\n",
       "      <th>artists_song</th>\n",
       "    </tr>\n",
       "  </thead>\n",
       "  <tbody>\n",
       "    <tr>\n",
       "      <th>0</th>\n",
       "      <td>0.285</td>\n",
       "      <td>2000</td>\n",
       "      <td>0.00239</td>\n",
       "      <td>Coldplay</td>\n",
       "      <td>0.429</td>\n",
       "      <td>266773</td>\n",
       "      <td>0.661</td>\n",
       "      <td>3AJwUDP919kvQ9QcozQPxg</td>\n",
       "      <td>0.000121</td>\n",
       "      <td>0.2340</td>\n",
       "      <td>-7.227</td>\n",
       "      <td>Yellow</td>\n",
       "      <td>84</td>\n",
       "      <td>0.0281</td>\n",
       "      <td>173.372</td>\n",
       "      <td>Coldplay - Yellow</td>\n",
       "    </tr>\n",
       "    <tr>\n",
       "      <th>1</th>\n",
       "      <td>0.613</td>\n",
       "      <td>2000</td>\n",
       "      <td>0.14300</td>\n",
       "      <td>OutKast</td>\n",
       "      <td>0.843</td>\n",
       "      <td>270507</td>\n",
       "      <td>0.806</td>\n",
       "      <td>0I3q5fE6wg7LIfHGngUTnV</td>\n",
       "      <td>0.000000</td>\n",
       "      <td>0.0771</td>\n",
       "      <td>-5.946</td>\n",
       "      <td>Ms. Jackson</td>\n",
       "      <td>80</td>\n",
       "      <td>0.2690</td>\n",
       "      <td>94.948</td>\n",
       "      <td>OutKast - Ms. Jackson</td>\n",
       "    </tr>\n",
       "    <tr>\n",
       "      <th>2</th>\n",
       "      <td>0.400</td>\n",
       "      <td>2000</td>\n",
       "      <td>0.00958</td>\n",
       "      <td>Linkin Park</td>\n",
       "      <td>0.556</td>\n",
       "      <td>216880</td>\n",
       "      <td>0.864</td>\n",
       "      <td>60a0Rd6pjrkxjPbaKzXjfq</td>\n",
       "      <td>0.000000</td>\n",
       "      <td>0.2090</td>\n",
       "      <td>-5.870</td>\n",
       "      <td>In the End</td>\n",
       "      <td>84</td>\n",
       "      <td>0.0584</td>\n",
       "      <td>105.143</td>\n",
       "      <td>Linkin Park - In the End</td>\n",
       "    </tr>\n",
       "    <tr>\n",
       "      <th>3</th>\n",
       "      <td>0.543</td>\n",
       "      <td>2000</td>\n",
       "      <td>0.00664</td>\n",
       "      <td>3 Doors Down</td>\n",
       "      <td>0.545</td>\n",
       "      <td>233933</td>\n",
       "      <td>0.865</td>\n",
       "      <td>6ZOBP3NvffbU4SZcrnt1k6</td>\n",
       "      <td>0.000011</td>\n",
       "      <td>0.1680</td>\n",
       "      <td>-5.708</td>\n",
       "      <td>Kryptonite</td>\n",
       "      <td>78</td>\n",
       "      <td>0.0286</td>\n",
       "      <td>99.009</td>\n",
       "      <td>3 Doors Down - Kryptonite</td>\n",
       "    </tr>\n",
       "    <tr>\n",
       "      <th>4</th>\n",
       "      <td>0.760</td>\n",
       "      <td>2000</td>\n",
       "      <td>0.03020</td>\n",
       "      <td>Eminem</td>\n",
       "      <td>0.949</td>\n",
       "      <td>284200</td>\n",
       "      <td>0.661</td>\n",
       "      <td>3yfqSUWxFvZELEM4PmlwIR</td>\n",
       "      <td>0.000000</td>\n",
       "      <td>0.0454</td>\n",
       "      <td>-4.244</td>\n",
       "      <td>The Real Slim Shady</td>\n",
       "      <td>80</td>\n",
       "      <td>0.0572</td>\n",
       "      <td>104.504</td>\n",
       "      <td>Eminem - The Real Slim Shady</td>\n",
       "    </tr>\n",
       "  </tbody>\n",
       "</table>\n",
       "</div>"
      ],
      "text/plain": [
       "   valence  year  acousticness       artists  danceability  duration_ms  \\\n",
       "0    0.285  2000       0.00239      Coldplay         0.429       266773   \n",
       "1    0.613  2000       0.14300       OutKast         0.843       270507   \n",
       "2    0.400  2000       0.00958   Linkin Park         0.556       216880   \n",
       "3    0.543  2000       0.00664  3 Doors Down         0.545       233933   \n",
       "4    0.760  2000       0.03020        Eminem         0.949       284200   \n",
       "\n",
       "   energy                      id  instrumentalness  liveness  loudness  \\\n",
       "0   0.661  3AJwUDP919kvQ9QcozQPxg          0.000121    0.2340    -7.227   \n",
       "1   0.806  0I3q5fE6wg7LIfHGngUTnV          0.000000    0.0771    -5.946   \n",
       "2   0.864  60a0Rd6pjrkxjPbaKzXjfq          0.000000    0.2090    -5.870   \n",
       "3   0.865  6ZOBP3NvffbU4SZcrnt1k6          0.000011    0.1680    -5.708   \n",
       "4   0.661  3yfqSUWxFvZELEM4PmlwIR          0.000000    0.0454    -4.244   \n",
       "\n",
       "                  name  popularity  speechiness    tempo  \\\n",
       "0               Yellow          84       0.0281  173.372   \n",
       "1          Ms. Jackson          80       0.2690   94.948   \n",
       "2           In the End          84       0.0584  105.143   \n",
       "3           Kryptonite          78       0.0286   99.009   \n",
       "4  The Real Slim Shady          80       0.0572  104.504   \n",
       "\n",
       "                   artists_song  \n",
       "0             Coldplay - Yellow  \n",
       "1         OutKast - Ms. Jackson  \n",
       "2      Linkin Park - In the End  \n",
       "3     3 Doors Down - Kryptonite  \n",
       "4  Eminem - The Real Slim Shady  "
      ]
     },
     "execution_count": 105,
     "metadata": {},
     "output_type": "execute_result"
    }
   ],
   "source": [
    "#Redução de dimensionalidade\n",
    "dados.head()"
   ]
  },
  {
   "cell_type": "code",
   "execution_count": 106,
   "metadata": {},
   "outputs": [
    {
     "data": {
      "text/plain": [
       "Drake                   170\n",
       "Taylor Swift            156\n",
       "Eminem                  147\n",
       "Kanye West              136\n",
       "BTS                     122\n",
       "                       ... \n",
       "Of Monsters and Men       7\n",
       "The Living Tombstone      7\n",
       "Clean Bandit              7\n",
       "Nelly Furtado             6\n",
       "Empire of the Sun         6\n",
       "Name: artists, Length: 875, dtype: int64"
      ]
     },
     "execution_count": 106,
     "metadata": {},
     "output_type": "execute_result"
    }
   ],
   "source": [
    "#artistas\n",
    "dados['artists'].value_counts()"
   ]
  },
  {
   "cell_type": "code",
   "execution_count": 107,
   "metadata": {},
   "outputs": [],
   "source": [
    "#Hotencoder\n",
    "from sklearn.preprocessing import OneHotEncoder\n",
    "ohe = OneHotEncoder(dtype=int)\n",
    "\n",
    "colunas_ohe = ohe.fit_transform(dados[['artists']]).toarray()\n",
    "dados2 = dados.drop('artists', axis=1)\n",
    "\n",
    "dados_musicaas_dummes = pd.concat([dados2,pd.DataFrame(colunas_ohe, \n",
    "                        columns=ohe.get_feature_names_out(['artists']))], axis=1)\n"
   ]
  },
  {
   "cell_type": "code",
   "execution_count": 108,
   "metadata": {},
   "outputs": [
    {
     "data": {
      "text/html": [
       "<div>\n",
       "<style scoped>\n",
       "    .dataframe tbody tr th:only-of-type {\n",
       "        vertical-align: middle;\n",
       "    }\n",
       "\n",
       "    .dataframe tbody tr th {\n",
       "        vertical-align: top;\n",
       "    }\n",
       "\n",
       "    .dataframe thead th {\n",
       "        text-align: right;\n",
       "    }\n",
       "</style>\n",
       "<table border=\"1\" class=\"dataframe\">\n",
       "  <thead>\n",
       "    <tr style=\"text-align: right;\">\n",
       "      <th></th>\n",
       "      <th>valence</th>\n",
       "      <th>year</th>\n",
       "      <th>acousticness</th>\n",
       "      <th>danceability</th>\n",
       "      <th>duration_ms</th>\n",
       "      <th>energy</th>\n",
       "      <th>id</th>\n",
       "      <th>instrumentalness</th>\n",
       "      <th>liveness</th>\n",
       "      <th>loudness</th>\n",
       "      <th>...</th>\n",
       "      <th>artists_Zara Larsson</th>\n",
       "      <th>artists_Zedd</th>\n",
       "      <th>artists_alt-J</th>\n",
       "      <th>artists_blackbear</th>\n",
       "      <th>artists_blink-182</th>\n",
       "      <th>artists_deadmau5</th>\n",
       "      <th>artists_for KING &amp; COUNTRY</th>\n",
       "      <th>artists_fun.</th>\n",
       "      <th>artists_girl in red</th>\n",
       "      <th>artists_iann dior</th>\n",
       "    </tr>\n",
       "  </thead>\n",
       "  <tbody>\n",
       "    <tr>\n",
       "      <th>0</th>\n",
       "      <td>0.285</td>\n",
       "      <td>2000</td>\n",
       "      <td>0.00239</td>\n",
       "      <td>0.429</td>\n",
       "      <td>266773</td>\n",
       "      <td>0.661</td>\n",
       "      <td>3AJwUDP919kvQ9QcozQPxg</td>\n",
       "      <td>0.000121</td>\n",
       "      <td>0.2340</td>\n",
       "      <td>-7.227</td>\n",
       "      <td>...</td>\n",
       "      <td>0</td>\n",
       "      <td>0</td>\n",
       "      <td>0</td>\n",
       "      <td>0</td>\n",
       "      <td>0</td>\n",
       "      <td>0</td>\n",
       "      <td>0</td>\n",
       "      <td>0</td>\n",
       "      <td>0</td>\n",
       "      <td>0</td>\n",
       "    </tr>\n",
       "    <tr>\n",
       "      <th>1</th>\n",
       "      <td>0.613</td>\n",
       "      <td>2000</td>\n",
       "      <td>0.14300</td>\n",
       "      <td>0.843</td>\n",
       "      <td>270507</td>\n",
       "      <td>0.806</td>\n",
       "      <td>0I3q5fE6wg7LIfHGngUTnV</td>\n",
       "      <td>0.000000</td>\n",
       "      <td>0.0771</td>\n",
       "      <td>-5.946</td>\n",
       "      <td>...</td>\n",
       "      <td>0</td>\n",
       "      <td>0</td>\n",
       "      <td>0</td>\n",
       "      <td>0</td>\n",
       "      <td>0</td>\n",
       "      <td>0</td>\n",
       "      <td>0</td>\n",
       "      <td>0</td>\n",
       "      <td>0</td>\n",
       "      <td>0</td>\n",
       "    </tr>\n",
       "    <tr>\n",
       "      <th>2</th>\n",
       "      <td>0.400</td>\n",
       "      <td>2000</td>\n",
       "      <td>0.00958</td>\n",
       "      <td>0.556</td>\n",
       "      <td>216880</td>\n",
       "      <td>0.864</td>\n",
       "      <td>60a0Rd6pjrkxjPbaKzXjfq</td>\n",
       "      <td>0.000000</td>\n",
       "      <td>0.2090</td>\n",
       "      <td>-5.870</td>\n",
       "      <td>...</td>\n",
       "      <td>0</td>\n",
       "      <td>0</td>\n",
       "      <td>0</td>\n",
       "      <td>0</td>\n",
       "      <td>0</td>\n",
       "      <td>0</td>\n",
       "      <td>0</td>\n",
       "      <td>0</td>\n",
       "      <td>0</td>\n",
       "      <td>0</td>\n",
       "    </tr>\n",
       "    <tr>\n",
       "      <th>3</th>\n",
       "      <td>0.543</td>\n",
       "      <td>2000</td>\n",
       "      <td>0.00664</td>\n",
       "      <td>0.545</td>\n",
       "      <td>233933</td>\n",
       "      <td>0.865</td>\n",
       "      <td>6ZOBP3NvffbU4SZcrnt1k6</td>\n",
       "      <td>0.000011</td>\n",
       "      <td>0.1680</td>\n",
       "      <td>-5.708</td>\n",
       "      <td>...</td>\n",
       "      <td>0</td>\n",
       "      <td>0</td>\n",
       "      <td>0</td>\n",
       "      <td>0</td>\n",
       "      <td>0</td>\n",
       "      <td>0</td>\n",
       "      <td>0</td>\n",
       "      <td>0</td>\n",
       "      <td>0</td>\n",
       "      <td>0</td>\n",
       "    </tr>\n",
       "    <tr>\n",
       "      <th>4</th>\n",
       "      <td>0.760</td>\n",
       "      <td>2000</td>\n",
       "      <td>0.03020</td>\n",
       "      <td>0.949</td>\n",
       "      <td>284200</td>\n",
       "      <td>0.661</td>\n",
       "      <td>3yfqSUWxFvZELEM4PmlwIR</td>\n",
       "      <td>0.000000</td>\n",
       "      <td>0.0454</td>\n",
       "      <td>-4.244</td>\n",
       "      <td>...</td>\n",
       "      <td>0</td>\n",
       "      <td>0</td>\n",
       "      <td>0</td>\n",
       "      <td>0</td>\n",
       "      <td>0</td>\n",
       "      <td>0</td>\n",
       "      <td>0</td>\n",
       "      <td>0</td>\n",
       "      <td>0</td>\n",
       "      <td>0</td>\n",
       "    </tr>\n",
       "    <tr>\n",
       "      <th>...</th>\n",
       "      <td>...</td>\n",
       "      <td>...</td>\n",
       "      <td>...</td>\n",
       "      <td>...</td>\n",
       "      <td>...</td>\n",
       "      <td>...</td>\n",
       "      <td>...</td>\n",
       "      <td>...</td>\n",
       "      <td>...</td>\n",
       "      <td>...</td>\n",
       "      <td>...</td>\n",
       "      <td>...</td>\n",
       "      <td>...</td>\n",
       "      <td>...</td>\n",
       "      <td>...</td>\n",
       "      <td>...</td>\n",
       "      <td>...</td>\n",
       "      <td>...</td>\n",
       "      <td>...</td>\n",
       "      <td>...</td>\n",
       "      <td>...</td>\n",
       "    </tr>\n",
       "    <tr>\n",
       "      <th>20306</th>\n",
       "      <td>0.187</td>\n",
       "      <td>2020</td>\n",
       "      <td>0.57400</td>\n",
       "      <td>0.445</td>\n",
       "      <td>176250</td>\n",
       "      <td>0.330</td>\n",
       "      <td>0PUkanqCGTb6qseXPKOw1F</td>\n",
       "      <td>0.000000</td>\n",
       "      <td>0.1020</td>\n",
       "      <td>-8.121</td>\n",
       "      <td>...</td>\n",
       "      <td>0</td>\n",
       "      <td>0</td>\n",
       "      <td>0</td>\n",
       "      <td>0</td>\n",
       "      <td>0</td>\n",
       "      <td>0</td>\n",
       "      <td>0</td>\n",
       "      <td>0</td>\n",
       "      <td>0</td>\n",
       "      <td>0</td>\n",
       "    </tr>\n",
       "    <tr>\n",
       "      <th>20307</th>\n",
       "      <td>0.240</td>\n",
       "      <td>2020</td>\n",
       "      <td>0.81500</td>\n",
       "      <td>0.467</td>\n",
       "      <td>179188</td>\n",
       "      <td>0.429</td>\n",
       "      <td>6Iw6fQVKZi0fWtEQBrTFcP</td>\n",
       "      <td>0.000052</td>\n",
       "      <td>0.1770</td>\n",
       "      <td>-8.689</td>\n",
       "      <td>...</td>\n",
       "      <td>0</td>\n",
       "      <td>0</td>\n",
       "      <td>0</td>\n",
       "      <td>0</td>\n",
       "      <td>0</td>\n",
       "      <td>0</td>\n",
       "      <td>0</td>\n",
       "      <td>0</td>\n",
       "      <td>0</td>\n",
       "      <td>0</td>\n",
       "    </tr>\n",
       "    <tr>\n",
       "      <th>20308</th>\n",
       "      <td>0.466</td>\n",
       "      <td>2020</td>\n",
       "      <td>0.31000</td>\n",
       "      <td>0.562</td>\n",
       "      <td>253613</td>\n",
       "      <td>0.686</td>\n",
       "      <td>308prODCCD0O660tIktbUi</td>\n",
       "      <td>0.022500</td>\n",
       "      <td>0.1250</td>\n",
       "      <td>-8.480</td>\n",
       "      <td>...</td>\n",
       "      <td>0</td>\n",
       "      <td>0</td>\n",
       "      <td>0</td>\n",
       "      <td>0</td>\n",
       "      <td>0</td>\n",
       "      <td>0</td>\n",
       "      <td>0</td>\n",
       "      <td>0</td>\n",
       "      <td>0</td>\n",
       "      <td>0</td>\n",
       "    </tr>\n",
       "    <tr>\n",
       "      <th>20309</th>\n",
       "      <td>0.522</td>\n",
       "      <td>2020</td>\n",
       "      <td>0.20400</td>\n",
       "      <td>0.598</td>\n",
       "      <td>230600</td>\n",
       "      <td>0.472</td>\n",
       "      <td>2f8y4CuG57UJEmkG3ujd0D</td>\n",
       "      <td>0.000015</td>\n",
       "      <td>0.1080</td>\n",
       "      <td>-10.991</td>\n",
       "      <td>...</td>\n",
       "      <td>0</td>\n",
       "      <td>0</td>\n",
       "      <td>0</td>\n",
       "      <td>0</td>\n",
       "      <td>0</td>\n",
       "      <td>0</td>\n",
       "      <td>0</td>\n",
       "      <td>0</td>\n",
       "      <td>0</td>\n",
       "      <td>0</td>\n",
       "    </tr>\n",
       "    <tr>\n",
       "      <th>20310</th>\n",
       "      <td>0.195</td>\n",
       "      <td>2020</td>\n",
       "      <td>0.00998</td>\n",
       "      <td>0.671</td>\n",
       "      <td>337147</td>\n",
       "      <td>0.623</td>\n",
       "      <td>5SiZJoLXp3WOl3J4C8IK0d</td>\n",
       "      <td>0.000008</td>\n",
       "      <td>0.6430</td>\n",
       "      <td>-7.161</td>\n",
       "      <td>...</td>\n",
       "      <td>0</td>\n",
       "      <td>0</td>\n",
       "      <td>0</td>\n",
       "      <td>0</td>\n",
       "      <td>0</td>\n",
       "      <td>0</td>\n",
       "      <td>0</td>\n",
       "      <td>0</td>\n",
       "      <td>0</td>\n",
       "      <td>0</td>\n",
       "    </tr>\n",
       "  </tbody>\n",
       "</table>\n",
       "<p>20311 rows × 890 columns</p>\n",
       "</div>"
      ],
      "text/plain": [
       "       valence  year  acousticness  danceability  duration_ms  energy  \\\n",
       "0        0.285  2000       0.00239         0.429       266773   0.661   \n",
       "1        0.613  2000       0.14300         0.843       270507   0.806   \n",
       "2        0.400  2000       0.00958         0.556       216880   0.864   \n",
       "3        0.543  2000       0.00664         0.545       233933   0.865   \n",
       "4        0.760  2000       0.03020         0.949       284200   0.661   \n",
       "...        ...   ...           ...           ...          ...     ...   \n",
       "20306    0.187  2020       0.57400         0.445       176250   0.330   \n",
       "20307    0.240  2020       0.81500         0.467       179188   0.429   \n",
       "20308    0.466  2020       0.31000         0.562       253613   0.686   \n",
       "20309    0.522  2020       0.20400         0.598       230600   0.472   \n",
       "20310    0.195  2020       0.00998         0.671       337147   0.623   \n",
       "\n",
       "                           id  instrumentalness  liveness  loudness  ...  \\\n",
       "0      3AJwUDP919kvQ9QcozQPxg          0.000121    0.2340    -7.227  ...   \n",
       "1      0I3q5fE6wg7LIfHGngUTnV          0.000000    0.0771    -5.946  ...   \n",
       "2      60a0Rd6pjrkxjPbaKzXjfq          0.000000    0.2090    -5.870  ...   \n",
       "3      6ZOBP3NvffbU4SZcrnt1k6          0.000011    0.1680    -5.708  ...   \n",
       "4      3yfqSUWxFvZELEM4PmlwIR          0.000000    0.0454    -4.244  ...   \n",
       "...                       ...               ...       ...       ...  ...   \n",
       "20306  0PUkanqCGTb6qseXPKOw1F          0.000000    0.1020    -8.121  ...   \n",
       "20307  6Iw6fQVKZi0fWtEQBrTFcP          0.000052    0.1770    -8.689  ...   \n",
       "20308  308prODCCD0O660tIktbUi          0.022500    0.1250    -8.480  ...   \n",
       "20309  2f8y4CuG57UJEmkG3ujd0D          0.000015    0.1080   -10.991  ...   \n",
       "20310  5SiZJoLXp3WOl3J4C8IK0d          0.000008    0.6430    -7.161  ...   \n",
       "\n",
       "      artists_Zara Larsson  artists_Zedd  artists_alt-J  artists_blackbear  \\\n",
       "0                        0             0              0                  0   \n",
       "1                        0             0              0                  0   \n",
       "2                        0             0              0                  0   \n",
       "3                        0             0              0                  0   \n",
       "4                        0             0              0                  0   \n",
       "...                    ...           ...            ...                ...   \n",
       "20306                    0             0              0                  0   \n",
       "20307                    0             0              0                  0   \n",
       "20308                    0             0              0                  0   \n",
       "20309                    0             0              0                  0   \n",
       "20310                    0             0              0                  0   \n",
       "\n",
       "      artists_blink-182  artists_deadmau5  artists_for KING & COUNTRY  \\\n",
       "0                     0                 0                           0   \n",
       "1                     0                 0                           0   \n",
       "2                     0                 0                           0   \n",
       "3                     0                 0                           0   \n",
       "4                     0                 0                           0   \n",
       "...                 ...               ...                         ...   \n",
       "20306                 0                 0                           0   \n",
       "20307                 0                 0                           0   \n",
       "20308                 0                 0                           0   \n",
       "20309                 0                 0                           0   \n",
       "20310                 0                 0                           0   \n",
       "\n",
       "       artists_fun.  artists_girl in red  artists_iann dior  \n",
       "0                 0                    0                  0  \n",
       "1                 0                    0                  0  \n",
       "2                 0                    0                  0  \n",
       "3                 0                    0                  0  \n",
       "4                 0                    0                  0  \n",
       "...             ...                  ...                ...  \n",
       "20306             0                    0                  0  \n",
       "20307             0                    0                  0  \n",
       "20308             0                    0                  0  \n",
       "20309             0                    0                  0  \n",
       "20310             0                    0                  0  \n",
       "\n",
       "[20311 rows x 890 columns]"
      ]
     },
     "execution_count": 108,
     "metadata": {},
     "output_type": "execute_result"
    }
   ],
   "source": [
    "dados_musicaas_dummes"
   ]
  },
  {
   "cell_type": "code",
   "execution_count": 109,
   "metadata": {},
   "outputs": [],
   "source": [
    "#Aplicando PCA\n",
    "pca_pipeline = Pipeline([('scaler', StandardScaler()), ('PCA', PCA(n_components=0.7, random_state=SEED))])\n",
    "\n",
    "dados_musicaas_pca = pca_pipeline.fit_transform(dados_musicaas_dummes.drop(['id', 'name','artists_song'], axis=1))\n",
    "projection_m = pd.DataFrame(data = dados_musicaas_pca)"
   ]
  },
  {
   "cell_type": "code",
   "execution_count": 110,
   "metadata": {},
   "outputs": [
    {
     "data": {
      "text/plain": [
       "0.7000008463187029"
      ]
     },
     "execution_count": 110,
     "metadata": {},
     "output_type": "execute_result"
    }
   ],
   "source": [
    "#Taxa de aprendizado\n",
    "pca_pipeline[1].explained_variance_ratio_.sum()"
   ]
  },
  {
   "cell_type": "code",
   "execution_count": 111,
   "metadata": {},
   "outputs": [
    {
     "data": {
      "text/plain": [
       "612"
      ]
     },
     "execution_count": 111,
     "metadata": {},
     "output_type": "execute_result"
    }
   ],
   "source": [
    "#reduziu de 890 para 612, não é muito significativo\n",
    "pca_pipeline[1].n_components_"
   ]
  },
  {
   "attachments": {},
   "cell_type": "markdown",
   "metadata": {},
   "source": [
    "### 5.1 Criando novo modelo"
   ]
  },
  {
   "cell_type": "code",
   "execution_count": 112,
   "metadata": {},
   "outputs": [
    {
     "name": "stderr",
     "output_type": "stream",
     "text": [
      "Exception ignored on calling ctypes callback function: <function _ThreadpoolInfo._find_modules_with_dl_iterate_phdr.<locals>.match_module_callback at 0x7f01b5370f70>\n",
      "Traceback (most recent call last):\n",
      "  File \"/home/marcus/anaconda3/lib/python3.9/site-packages/threadpoolctl.py\", line 400, in match_module_callback\n",
      "    self._make_module_from_path(filepath)\n",
      "  File \"/home/marcus/anaconda3/lib/python3.9/site-packages/threadpoolctl.py\", line 515, in _make_module_from_path\n",
      "    module = module_class(filepath, prefix, user_api, internal_api)\n",
      "  File \"/home/marcus/anaconda3/lib/python3.9/site-packages/threadpoolctl.py\", line 606, in __init__\n",
      "    self.version = self.get_version()\n",
      "  File \"/home/marcus/anaconda3/lib/python3.9/site-packages/threadpoolctl.py\", line 646, in get_version\n",
      "    config = get_config().split()\n",
      "AttributeError: 'NoneType' object has no attribute 'split'\n",
      "Exception ignored on calling ctypes callback function: <function _ThreadpoolInfo._find_modules_with_dl_iterate_phdr.<locals>.match_module_callback at 0x7f01e6983280>\n",
      "Traceback (most recent call last):\n",
      "  File \"/home/marcus/anaconda3/lib/python3.9/site-packages/threadpoolctl.py\", line 400, in match_module_callback\n",
      "    self._make_module_from_path(filepath)\n",
      "  File \"/home/marcus/anaconda3/lib/python3.9/site-packages/threadpoolctl.py\", line 515, in _make_module_from_path\n",
      "    module = module_class(filepath, prefix, user_api, internal_api)\n",
      "  File \"/home/marcus/anaconda3/lib/python3.9/site-packages/threadpoolctl.py\", line 606, in __init__\n",
      "    self.version = self.get_version()\n",
      "  File \"/home/marcus/anaconda3/lib/python3.9/site-packages/threadpoolctl.py\", line 646, in get_version\n",
      "    config = get_config().split()\n",
      "AttributeError: 'NoneType' object has no attribute 'split'\n",
      "Exception ignored on calling ctypes callback function: <function _ThreadpoolInfo._find_modules_with_dl_iterate_phdr.<locals>.match_module_callback at 0x7f01b5370f70>\n",
      "Traceback (most recent call last):\n",
      "  File \"/home/marcus/anaconda3/lib/python3.9/site-packages/threadpoolctl.py\", line 400, in match_module_callback\n",
      "    self._make_module_from_path(filepath)\n",
      "  File \"/home/marcus/anaconda3/lib/python3.9/site-packages/threadpoolctl.py\", line 515, in _make_module_from_path\n",
      "    module = module_class(filepath, prefix, user_api, internal_api)\n",
      "  File \"/home/marcus/anaconda3/lib/python3.9/site-packages/threadpoolctl.py\", line 606, in __init__\n",
      "    self.version = self.get_version()\n",
      "  File \"/home/marcus/anaconda3/lib/python3.9/site-packages/threadpoolctl.py\", line 646, in get_version\n",
      "    config = get_config().split()\n",
      "AttributeError: 'NoneType' object has no attribute 'split'\n",
      "Exception ignored on calling ctypes callback function: <function _ThreadpoolInfo._find_modules_with_dl_iterate_phdr.<locals>.match_module_callback at 0x7f01e6983280>\n",
      "Traceback (most recent call last):\n",
      "  File \"/home/marcus/anaconda3/lib/python3.9/site-packages/threadpoolctl.py\", line 400, in match_module_callback\n",
      "    self._make_module_from_path(filepath)\n",
      "  File \"/home/marcus/anaconda3/lib/python3.9/site-packages/threadpoolctl.py\", line 515, in _make_module_from_path\n",
      "    module = module_class(filepath, prefix, user_api, internal_api)\n",
      "  File \"/home/marcus/anaconda3/lib/python3.9/site-packages/threadpoolctl.py\", line 606, in __init__\n",
      "    self.version = self.get_version()\n",
      "  File \"/home/marcus/anaconda3/lib/python3.9/site-packages/threadpoolctl.py\", line 646, in get_version\n",
      "    config = get_config().split()\n",
      "AttributeError: 'NoneType' object has no attribute 'split'\n",
      "Exception ignored on calling ctypes callback function: <function _ThreadpoolInfo._find_modules_with_dl_iterate_phdr.<locals>.match_module_callback at 0x7f01b5370f70>\n",
      "Traceback (most recent call last):\n",
      "  File \"/home/marcus/anaconda3/lib/python3.9/site-packages/threadpoolctl.py\", line 400, in match_module_callback\n",
      "    self._make_module_from_path(filepath)\n",
      "  File \"/home/marcus/anaconda3/lib/python3.9/site-packages/threadpoolctl.py\", line 515, in _make_module_from_path\n",
      "    module = module_class(filepath, prefix, user_api, internal_api)\n",
      "  File \"/home/marcus/anaconda3/lib/python3.9/site-packages/threadpoolctl.py\", line 606, in __init__\n",
      "    self.version = self.get_version()\n",
      "  File \"/home/marcus/anaconda3/lib/python3.9/site-packages/threadpoolctl.py\", line 646, in get_version\n",
      "    config = get_config().split()\n",
      "AttributeError: 'NoneType' object has no attribute 'split'\n",
      "Exception ignored on calling ctypes callback function: <function _ThreadpoolInfo._find_modules_with_dl_iterate_phdr.<locals>.match_module_callback at 0x7f01e6983280>\n",
      "Traceback (most recent call last):\n",
      "  File \"/home/marcus/anaconda3/lib/python3.9/site-packages/threadpoolctl.py\", line 400, in match_module_callback\n",
      "    self._make_module_from_path(filepath)\n",
      "  File \"/home/marcus/anaconda3/lib/python3.9/site-packages/threadpoolctl.py\", line 515, in _make_module_from_path\n",
      "    module = module_class(filepath, prefix, user_api, internal_api)\n",
      "  File \"/home/marcus/anaconda3/lib/python3.9/site-packages/threadpoolctl.py\", line 606, in __init__\n",
      "    self.version = self.get_version()\n",
      "  File \"/home/marcus/anaconda3/lib/python3.9/site-packages/threadpoolctl.py\", line 646, in get_version\n",
      "    config = get_config().split()\n",
      "AttributeError: 'NoneType' object has no attribute 'split'\n",
      "Exception ignored on calling ctypes callback function: <function _ThreadpoolInfo._find_modules_with_dl_iterate_phdr.<locals>.match_module_callback at 0x7f01b5370f70>\n",
      "Traceback (most recent call last):\n",
      "  File \"/home/marcus/anaconda3/lib/python3.9/site-packages/threadpoolctl.py\", line 400, in match_module_callback\n",
      "    self._make_module_from_path(filepath)\n",
      "  File \"/home/marcus/anaconda3/lib/python3.9/site-packages/threadpoolctl.py\", line 515, in _make_module_from_path\n",
      "    module = module_class(filepath, prefix, user_api, internal_api)\n",
      "  File \"/home/marcus/anaconda3/lib/python3.9/site-packages/threadpoolctl.py\", line 606, in __init__\n",
      "    self.version = self.get_version()\n",
      "  File \"/home/marcus/anaconda3/lib/python3.9/site-packages/threadpoolctl.py\", line 646, in get_version\n",
      "    config = get_config().split()\n",
      "AttributeError: 'NoneType' object has no attribute 'split'\n",
      "Exception ignored on calling ctypes callback function: <function _ThreadpoolInfo._find_modules_with_dl_iterate_phdr.<locals>.match_module_callback at 0x7f01e6983280>\n",
      "Traceback (most recent call last):\n",
      "  File \"/home/marcus/anaconda3/lib/python3.9/site-packages/threadpoolctl.py\", line 400, in match_module_callback\n",
      "    self._make_module_from_path(filepath)\n",
      "  File \"/home/marcus/anaconda3/lib/python3.9/site-packages/threadpoolctl.py\", line 515, in _make_module_from_path\n",
      "    module = module_class(filepath, prefix, user_api, internal_api)\n",
      "  File \"/home/marcus/anaconda3/lib/python3.9/site-packages/threadpoolctl.py\", line 606, in __init__\n",
      "    self.version = self.get_version()\n",
      "  File \"/home/marcus/anaconda3/lib/python3.9/site-packages/threadpoolctl.py\", line 646, in get_version\n",
      "    config = get_config().split()\n",
      "AttributeError: 'NoneType' object has no attribute 'split'\n",
      "Exception ignored on calling ctypes callback function: <function _ThreadpoolInfo._find_modules_with_dl_iterate_phdr.<locals>.match_module_callback at 0x7f01b5370f70>\n",
      "Traceback (most recent call last):\n",
      "  File \"/home/marcus/anaconda3/lib/python3.9/site-packages/threadpoolctl.py\", line 400, in match_module_callback\n",
      "    self._make_module_from_path(filepath)\n",
      "  File \"/home/marcus/anaconda3/lib/python3.9/site-packages/threadpoolctl.py\", line 515, in _make_module_from_path\n",
      "    module = module_class(filepath, prefix, user_api, internal_api)\n",
      "  File \"/home/marcus/anaconda3/lib/python3.9/site-packages/threadpoolctl.py\", line 606, in __init__\n",
      "    self.version = self.get_version()\n",
      "  File \"/home/marcus/anaconda3/lib/python3.9/site-packages/threadpoolctl.py\", line 646, in get_version\n",
      "    config = get_config().split()\n",
      "AttributeError: 'NoneType' object has no attribute 'split'\n",
      "Exception ignored on calling ctypes callback function: <function _ThreadpoolInfo._find_modules_with_dl_iterate_phdr.<locals>.match_module_callback at 0x7f01e6983280>\n",
      "Traceback (most recent call last):\n",
      "  File \"/home/marcus/anaconda3/lib/python3.9/site-packages/threadpoolctl.py\", line 400, in match_module_callback\n",
      "    self._make_module_from_path(filepath)\n",
      "  File \"/home/marcus/anaconda3/lib/python3.9/site-packages/threadpoolctl.py\", line 515, in _make_module_from_path\n",
      "    module = module_class(filepath, prefix, user_api, internal_api)\n",
      "  File \"/home/marcus/anaconda3/lib/python3.9/site-packages/threadpoolctl.py\", line 606, in __init__\n",
      "    self.version = self.get_version()\n",
      "  File \"/home/marcus/anaconda3/lib/python3.9/site-packages/threadpoolctl.py\", line 646, in get_version\n",
      "    config = get_config().split()\n",
      "AttributeError: 'NoneType' object has no attribute 'split'\n",
      "Exception ignored on calling ctypes callback function: <function _ThreadpoolInfo._find_modules_with_dl_iterate_phdr.<locals>.match_module_callback at 0x7f01b5370f70>\n",
      "Traceback (most recent call last):\n",
      "  File \"/home/marcus/anaconda3/lib/python3.9/site-packages/threadpoolctl.py\", line 400, in match_module_callback\n",
      "    self._make_module_from_path(filepath)\n",
      "  File \"/home/marcus/anaconda3/lib/python3.9/site-packages/threadpoolctl.py\", line 515, in _make_module_from_path\n",
      "    module = module_class(filepath, prefix, user_api, internal_api)\n",
      "  File \"/home/marcus/anaconda3/lib/python3.9/site-packages/threadpoolctl.py\", line 606, in __init__\n",
      "    self.version = self.get_version()\n",
      "  File \"/home/marcus/anaconda3/lib/python3.9/site-packages/threadpoolctl.py\", line 646, in get_version\n",
      "    config = get_config().split()\n",
      "AttributeError: 'NoneType' object has no attribute 'split'\n",
      "Exception ignored on calling ctypes callback function: <function _ThreadpoolInfo._find_modules_with_dl_iterate_phdr.<locals>.match_module_callback at 0x7f01b5370f70>\n",
      "Traceback (most recent call last):\n",
      "  File \"/home/marcus/anaconda3/lib/python3.9/site-packages/threadpoolctl.py\", line 400, in match_module_callback\n",
      "    self._make_module_from_path(filepath)\n",
      "  File \"/home/marcus/anaconda3/lib/python3.9/site-packages/threadpoolctl.py\", line 515, in _make_module_from_path\n",
      "    module = module_class(filepath, prefix, user_api, internal_api)\n",
      "  File \"/home/marcus/anaconda3/lib/python3.9/site-packages/threadpoolctl.py\", line 606, in __init__\n",
      "    self.version = self.get_version()\n",
      "  File \"/home/marcus/anaconda3/lib/python3.9/site-packages/threadpoolctl.py\", line 646, in get_version\n",
      "    config = get_config().split()\n",
      "AttributeError: 'NoneType' object has no attribute 'split'\n"
     ]
    }
   ],
   "source": [
    "\n",
    "kmeans_pca_pipeline = KMeans(n_clusters=50, verbose=False, random_state=SEED)\n",
    "\n",
    "kmeans_pca_pipeline.fit(projection_m)\n",
    "\n",
    "\n",
    "dados['cluster_pca'] = kmeans_pca_pipeline.predict(projection_m)\n",
    "projection_m['cluster_pca'] = kmeans_pca_pipeline.predict(projection_m)"
   ]
  },
  {
   "cell_type": "code",
   "execution_count": 113,
   "metadata": {},
   "outputs": [
    {
     "name": "stderr",
     "output_type": "stream",
     "text": [
      "/home/marcus/anaconda3/lib/python3.9/site-packages/sklearn/utils/validation.py:1858: FutureWarning:\n",
      "\n",
      "Feature names only support names that are all strings. Got feature names with dtypes: ['int', 'str']. An error will be raised in 1.2.\n",
      "\n",
      "Exception ignored on calling ctypes callback function: <function _ThreadpoolInfo._find_modules_with_dl_iterate_phdr.<locals>.match_module_callback at 0x7f01d87ed430>\n",
      "Traceback (most recent call last):\n",
      "  File \"/home/marcus/anaconda3/lib/python3.9/site-packages/threadpoolctl.py\", line 400, in match_module_callback\n",
      "    self._make_module_from_path(filepath)\n",
      "  File \"/home/marcus/anaconda3/lib/python3.9/site-packages/threadpoolctl.py\", line 515, in _make_module_from_path\n",
      "    module = module_class(filepath, prefix, user_api, internal_api)\n",
      "  File \"/home/marcus/anaconda3/lib/python3.9/site-packages/threadpoolctl.py\", line 606, in __init__\n",
      "    self.version = self.get_version()\n",
      "  File \"/home/marcus/anaconda3/lib/python3.9/site-packages/threadpoolctl.py\", line 646, in get_version\n",
      "    config = get_config().split()\n",
      "AttributeError: 'NoneType' object has no attribute 'split'\n",
      "Exception ignored on calling ctypes callback function: <function _ThreadpoolInfo._find_modules_with_dl_iterate_phdr.<locals>.match_module_callback at 0x7f01b53774c0>\n",
      "Traceback (most recent call last):\n",
      "  File \"/home/marcus/anaconda3/lib/python3.9/site-packages/threadpoolctl.py\", line 400, in match_module_callback\n",
      "    self._make_module_from_path(filepath)\n",
      "  File \"/home/marcus/anaconda3/lib/python3.9/site-packages/threadpoolctl.py\", line 515, in _make_module_from_path\n",
      "    module = module_class(filepath, prefix, user_api, internal_api)\n",
      "  File \"/home/marcus/anaconda3/lib/python3.9/site-packages/threadpoolctl.py\", line 606, in __init__\n",
      "    self.version = self.get_version()\n",
      "  File \"/home/marcus/anaconda3/lib/python3.9/site-packages/threadpoolctl.py\", line 646, in get_version\n",
      "    config = get_config().split()\n",
      "AttributeError: 'NoneType' object has no attribute 'split'\n",
      "Exception ignored on calling ctypes callback function: <function _ThreadpoolInfo._find_modules_with_dl_iterate_phdr.<locals>.match_module_callback at 0x7f01b5dcf820>\n",
      "Traceback (most recent call last):\n",
      "  File \"/home/marcus/anaconda3/lib/python3.9/site-packages/threadpoolctl.py\", line 400, in match_module_callback\n",
      "    self._make_module_from_path(filepath)\n",
      "  File \"/home/marcus/anaconda3/lib/python3.9/site-packages/threadpoolctl.py\", line 515, in _make_module_from_path\n",
      "    module = module_class(filepath, prefix, user_api, internal_api)\n",
      "  File \"/home/marcus/anaconda3/lib/python3.9/site-packages/threadpoolctl.py\", line 606, in __init__\n",
      "    self.version = self.get_version()\n",
      "  File \"/home/marcus/anaconda3/lib/python3.9/site-packages/threadpoolctl.py\", line 646, in get_version\n",
      "    config = get_config().split()\n",
      "AttributeError: 'NoneType' object has no attribute 'split'\n",
      "Exception ignored on calling ctypes callback function: <function _ThreadpoolInfo._find_modules_with_dl_iterate_phdr.<locals>.match_module_callback at 0x7f01b70a1ca0>\n",
      "Traceback (most recent call last):\n",
      "  File \"/home/marcus/anaconda3/lib/python3.9/site-packages/threadpoolctl.py\", line 400, in match_module_callback\n",
      "    self._make_module_from_path(filepath)\n",
      "  File \"/home/marcus/anaconda3/lib/python3.9/site-packages/threadpoolctl.py\", line 515, in _make_module_from_path\n",
      "    module = module_class(filepath, prefix, user_api, internal_api)\n",
      "  File \"/home/marcus/anaconda3/lib/python3.9/site-packages/threadpoolctl.py\", line 606, in __init__\n",
      "    self.version = self.get_version()\n",
      "  File \"/home/marcus/anaconda3/lib/python3.9/site-packages/threadpoolctl.py\", line 646, in get_version\n",
      "    config = get_config().split()\n",
      "AttributeError: 'NoneType' object has no attribute 'split'\n",
      "Exception ignored on calling ctypes callback function: <function _ThreadpoolInfo._find_modules_with_dl_iterate_phdr.<locals>.match_module_callback at 0x7f01b53774c0>\n",
      "Traceback (most recent call last):\n",
      "  File \"/home/marcus/anaconda3/lib/python3.9/site-packages/threadpoolctl.py\", line 400, in match_module_callback\n",
      "    self._make_module_from_path(filepath)\n",
      "  File \"/home/marcus/anaconda3/lib/python3.9/site-packages/threadpoolctl.py\", line 515, in _make_module_from_path\n",
      "    module = module_class(filepath, prefix, user_api, internal_api)\n",
      "  File \"/home/marcus/anaconda3/lib/python3.9/site-packages/threadpoolctl.py\", line 606, in __init__\n",
      "    self.version = self.get_version()\n",
      "  File \"/home/marcus/anaconda3/lib/python3.9/site-packages/threadpoolctl.py\", line 646, in get_version\n",
      "    config = get_config().split()\n",
      "AttributeError: 'NoneType' object has no attribute 'split'\n",
      "Exception ignored on calling ctypes callback function: <function _ThreadpoolInfo._find_modules_with_dl_iterate_phdr.<locals>.match_module_callback at 0x7f01d87ed430>\n",
      "Traceback (most recent call last):\n",
      "  File \"/home/marcus/anaconda3/lib/python3.9/site-packages/threadpoolctl.py\", line 400, in match_module_callback\n",
      "    self._make_module_from_path(filepath)\n",
      "  File \"/home/marcus/anaconda3/lib/python3.9/site-packages/threadpoolctl.py\", line 515, in _make_module_from_path\n",
      "    module = module_class(filepath, prefix, user_api, internal_api)\n",
      "  File \"/home/marcus/anaconda3/lib/python3.9/site-packages/threadpoolctl.py\", line 606, in __init__\n",
      "    self.version = self.get_version()\n",
      "  File \"/home/marcus/anaconda3/lib/python3.9/site-packages/threadpoolctl.py\", line 646, in get_version\n",
      "    config = get_config().split()\n",
      "AttributeError: 'NoneType' object has no attribute 'split'\n",
      "Exception ignored on calling ctypes callback function: <function _ThreadpoolInfo._find_modules_with_dl_iterate_phdr.<locals>.match_module_callback at 0x7f01b5dcf820>\n",
      "Traceback (most recent call last):\n",
      "  File \"/home/marcus/anaconda3/lib/python3.9/site-packages/threadpoolctl.py\", line 400, in match_module_callback\n",
      "    self._make_module_from_path(filepath)\n",
      "  File \"/home/marcus/anaconda3/lib/python3.9/site-packages/threadpoolctl.py\", line 515, in _make_module_from_path\n",
      "    module = module_class(filepath, prefix, user_api, internal_api)\n",
      "  File \"/home/marcus/anaconda3/lib/python3.9/site-packages/threadpoolctl.py\", line 606, in __init__\n",
      "    self.version = self.get_version()\n",
      "  File \"/home/marcus/anaconda3/lib/python3.9/site-packages/threadpoolctl.py\", line 646, in get_version\n",
      "    config = get_config().split()\n",
      "AttributeError: 'NoneType' object has no attribute 'split'\n",
      "Exception ignored on calling ctypes callback function: <function _ThreadpoolInfo._find_modules_with_dl_iterate_phdr.<locals>.match_module_callback at 0x7f01b53774c0>\n",
      "Traceback (most recent call last):\n",
      "  File \"/home/marcus/anaconda3/lib/python3.9/site-packages/threadpoolctl.py\", line 400, in match_module_callback\n",
      "    self._make_module_from_path(filepath)\n",
      "  File \"/home/marcus/anaconda3/lib/python3.9/site-packages/threadpoolctl.py\", line 515, in _make_module_from_path\n",
      "    module = module_class(filepath, prefix, user_api, internal_api)\n",
      "  File \"/home/marcus/anaconda3/lib/python3.9/site-packages/threadpoolctl.py\", line 606, in __init__\n",
      "    self.version = self.get_version()\n",
      "  File \"/home/marcus/anaconda3/lib/python3.9/site-packages/threadpoolctl.py\", line 646, in get_version\n",
      "    config = get_config().split()\n",
      "AttributeError: 'NoneType' object has no attribute 'split'\n",
      "Exception ignored on calling ctypes callback function: <function _ThreadpoolInfo._find_modules_with_dl_iterate_phdr.<locals>.match_module_callback at 0x7f01d87ed430>\n",
      "Traceback (most recent call last):\n",
      "  File \"/home/marcus/anaconda3/lib/python3.9/site-packages/threadpoolctl.py\", line 400, in match_module_callback\n",
      "    self._make_module_from_path(filepath)\n",
      "  File \"/home/marcus/anaconda3/lib/python3.9/site-packages/threadpoolctl.py\", line 515, in _make_module_from_path\n",
      "    module = module_class(filepath, prefix, user_api, internal_api)\n",
      "  File \"/home/marcus/anaconda3/lib/python3.9/site-packages/threadpoolctl.py\", line 606, in __init__\n",
      "    self.version = self.get_version()\n",
      "  File \"/home/marcus/anaconda3/lib/python3.9/site-packages/threadpoolctl.py\", line 646, in get_version\n",
      "    config = get_config().split()\n",
      "AttributeError: 'NoneType' object has no attribute 'split'\n",
      "Exception ignored on calling ctypes callback function: <function _ThreadpoolInfo._find_modules_with_dl_iterate_phdr.<locals>.match_module_callback at 0x7f01b5dcf820>\n",
      "Traceback (most recent call last):\n",
      "  File \"/home/marcus/anaconda3/lib/python3.9/site-packages/threadpoolctl.py\", line 400, in match_module_callback\n",
      "    self._make_module_from_path(filepath)\n",
      "  File \"/home/marcus/anaconda3/lib/python3.9/site-packages/threadpoolctl.py\", line 515, in _make_module_from_path\n",
      "    module = module_class(filepath, prefix, user_api, internal_api)\n",
      "  File \"/home/marcus/anaconda3/lib/python3.9/site-packages/threadpoolctl.py\", line 606, in __init__\n",
      "    self.version = self.get_version()\n",
      "  File \"/home/marcus/anaconda3/lib/python3.9/site-packages/threadpoolctl.py\", line 646, in get_version\n",
      "    config = get_config().split()\n",
      "AttributeError: 'NoneType' object has no attribute 'split'\n",
      "/home/marcus/anaconda3/lib/python3.9/site-packages/sklearn/utils/validation.py:1858: FutureWarning:\n",
      "\n",
      "Feature names only support names that are all strings. Got feature names with dtypes: ['int', 'str']. An error will be raised in 1.2.\n",
      "\n",
      "Exception ignored on calling ctypes callback function: <function _ThreadpoolInfo._find_modules_with_dl_iterate_phdr.<locals>.match_module_callback at 0x7f01b70a1ca0>\n",
      "Traceback (most recent call last):\n",
      "  File \"/home/marcus/anaconda3/lib/python3.9/site-packages/threadpoolctl.py\", line 400, in match_module_callback\n",
      "    self._make_module_from_path(filepath)\n",
      "  File \"/home/marcus/anaconda3/lib/python3.9/site-packages/threadpoolctl.py\", line 515, in _make_module_from_path\n",
      "    module = module_class(filepath, prefix, user_api, internal_api)\n",
      "  File \"/home/marcus/anaconda3/lib/python3.9/site-packages/threadpoolctl.py\", line 606, in __init__\n",
      "    self.version = self.get_version()\n",
      "  File \"/home/marcus/anaconda3/lib/python3.9/site-packages/threadpoolctl.py\", line 646, in get_version\n",
      "    config = get_config().split()\n",
      "AttributeError: 'NoneType' object has no attribute 'split'\n",
      "/home/marcus/anaconda3/lib/python3.9/site-packages/sklearn/utils/validation.py:1858: FutureWarning:\n",
      "\n",
      "Feature names only support names that are all strings. Got feature names with dtypes: ['int', 'str']. An error will be raised in 1.2.\n",
      "\n",
      "Exception ignored on calling ctypes callback function: <function _ThreadpoolInfo._find_modules_with_dl_iterate_phdr.<locals>.match_module_callback at 0x7f01b5dcf820>\n",
      "Traceback (most recent call last):\n",
      "  File \"/home/marcus/anaconda3/lib/python3.9/site-packages/threadpoolctl.py\", line 400, in match_module_callback\n",
      "    self._make_module_from_path(filepath)\n",
      "  File \"/home/marcus/anaconda3/lib/python3.9/site-packages/threadpoolctl.py\", line 515, in _make_module_from_path\n",
      "    module = module_class(filepath, prefix, user_api, internal_api)\n",
      "  File \"/home/marcus/anaconda3/lib/python3.9/site-packages/threadpoolctl.py\", line 606, in __init__\n",
      "    self.version = self.get_version()\n",
      "  File \"/home/marcus/anaconda3/lib/python3.9/site-packages/threadpoolctl.py\", line 646, in get_version\n",
      "    config = get_config().split()\n",
      "AttributeError: 'NoneType' object has no attribute 'split'\n"
     ]
    }
   ],
   "source": [
    "#Criando modelo, verbose = acompanhar o processo\n",
    "kmeans_pca_pipeline = KMeans(n_clusters=50, verbose=False, random_state=SEED)\n",
    "\n",
    "kmeans_pca_pipeline.fit(projection_m)\n",
    "\n",
    "#Criando coluna para exibir os clusters\n",
    "dados['cluster_pca'] = kmeans_pca_pipeline.predict(projection_m)\n",
    "projection_m['cluster_pca'] = kmeans_pca_pipeline.predict(projection_m)"
   ]
  },
  {
   "cell_type": "code",
   "execution_count": 114,
   "metadata": {},
   "outputs": [],
   "source": [
    "# #Adicioando colunas\n",
    "# projection_m['artist'] = dados['artists']\n",
    "# projection_m['song'] = dados['artists_song']\n",
    "     "
   ]
  },
  {
   "cell_type": "code",
   "execution_count": 115,
   "metadata": {},
   "outputs": [
    {
     "data": {
      "text/html": [
       "<div>\n",
       "<style scoped>\n",
       "    .dataframe tbody tr th:only-of-type {\n",
       "        vertical-align: middle;\n",
       "    }\n",
       "\n",
       "    .dataframe tbody tr th {\n",
       "        vertical-align: top;\n",
       "    }\n",
       "\n",
       "    .dataframe thead th {\n",
       "        text-align: right;\n",
       "    }\n",
       "</style>\n",
       "<table border=\"1\" class=\"dataframe\">\n",
       "  <thead>\n",
       "    <tr style=\"text-align: right;\">\n",
       "      <th></th>\n",
       "      <th>0</th>\n",
       "      <th>1</th>\n",
       "      <th>2</th>\n",
       "      <th>3</th>\n",
       "      <th>4</th>\n",
       "      <th>5</th>\n",
       "      <th>6</th>\n",
       "      <th>7</th>\n",
       "      <th>8</th>\n",
       "      <th>9</th>\n",
       "      <th>...</th>\n",
       "      <th>603</th>\n",
       "      <th>604</th>\n",
       "      <th>605</th>\n",
       "      <th>606</th>\n",
       "      <th>607</th>\n",
       "      <th>608</th>\n",
       "      <th>609</th>\n",
       "      <th>610</th>\n",
       "      <th>611</th>\n",
       "      <th>cluster_pca</th>\n",
       "    </tr>\n",
       "  </thead>\n",
       "  <tbody>\n",
       "    <tr>\n",
       "      <th>0</th>\n",
       "      <td>0.174796</td>\n",
       "      <td>0.731252</td>\n",
       "      <td>2.186797</td>\n",
       "      <td>-0.767192</td>\n",
       "      <td>0.594847</td>\n",
       "      <td>0.315968</td>\n",
       "      <td>-0.412322</td>\n",
       "      <td>-0.479171</td>\n",
       "      <td>-2.700668</td>\n",
       "      <td>2.109956</td>\n",
       "      <td>...</td>\n",
       "      <td>0.002097</td>\n",
       "      <td>-0.019072</td>\n",
       "      <td>-0.009111</td>\n",
       "      <td>0.005154</td>\n",
       "      <td>-0.034027</td>\n",
       "      <td>-0.032617</td>\n",
       "      <td>1.392999e-12</td>\n",
       "      <td>2.895018e-12</td>\n",
       "      <td>-3.353186e-12</td>\n",
       "      <td>49</td>\n",
       "    </tr>\n",
       "    <tr>\n",
       "      <th>1</th>\n",
       "      <td>-1.358420</td>\n",
       "      <td>0.052935</td>\n",
       "      <td>-1.789973</td>\n",
       "      <td>1.938444</td>\n",
       "      <td>0.403606</td>\n",
       "      <td>1.023898</td>\n",
       "      <td>-1.172118</td>\n",
       "      <td>0.821698</td>\n",
       "      <td>-1.716897</td>\n",
       "      <td>0.252498</td>\n",
       "      <td>...</td>\n",
       "      <td>-0.026825</td>\n",
       "      <td>-0.031678</td>\n",
       "      <td>-0.031986</td>\n",
       "      <td>0.029708</td>\n",
       "      <td>-0.016322</td>\n",
       "      <td>-0.030234</td>\n",
       "      <td>9.649610e-13</td>\n",
       "      <td>2.111885e-12</td>\n",
       "      <td>-2.298578e-12</td>\n",
       "      <td>17</td>\n",
       "    </tr>\n",
       "    <tr>\n",
       "      <th>2</th>\n",
       "      <td>-0.972077</td>\n",
       "      <td>0.658094</td>\n",
       "      <td>0.757500</td>\n",
       "      <td>-0.277350</td>\n",
       "      <td>-0.400393</td>\n",
       "      <td>0.402941</td>\n",
       "      <td>1.292960</td>\n",
       "      <td>1.839192</td>\n",
       "      <td>-1.562236</td>\n",
       "      <td>1.410677</td>\n",
       "      <td>...</td>\n",
       "      <td>0.007214</td>\n",
       "      <td>0.003084</td>\n",
       "      <td>0.017097</td>\n",
       "      <td>0.017361</td>\n",
       "      <td>-0.010979</td>\n",
       "      <td>-0.012781</td>\n",
       "      <td>-6.589426e-13</td>\n",
       "      <td>1.390951e-12</td>\n",
       "      <td>-1.041357e-12</td>\n",
       "      <td>17</td>\n",
       "    </tr>\n",
       "    <tr>\n",
       "      <th>3</th>\n",
       "      <td>-0.926464</td>\n",
       "      <td>1.292091</td>\n",
       "      <td>0.398499</td>\n",
       "      <td>-0.997738</td>\n",
       "      <td>0.202219</td>\n",
       "      <td>0.620859</td>\n",
       "      <td>-0.527689</td>\n",
       "      <td>1.135529</td>\n",
       "      <td>-1.343893</td>\n",
       "      <td>1.020964</td>\n",
       "      <td>...</td>\n",
       "      <td>0.020814</td>\n",
       "      <td>-0.046126</td>\n",
       "      <td>0.089337</td>\n",
       "      <td>0.164777</td>\n",
       "      <td>-0.064148</td>\n",
       "      <td>-0.040911</td>\n",
       "      <td>6.965740e-12</td>\n",
       "      <td>1.739612e-11</td>\n",
       "      <td>-4.817632e-12</td>\n",
       "      <td>17</td>\n",
       "    </tr>\n",
       "    <tr>\n",
       "      <th>4</th>\n",
       "      <td>-1.710077</td>\n",
       "      <td>-0.383502</td>\n",
       "      <td>-1.258562</td>\n",
       "      <td>1.346428</td>\n",
       "      <td>1.223591</td>\n",
       "      <td>1.744579</td>\n",
       "      <td>0.094311</td>\n",
       "      <td>0.479412</td>\n",
       "      <td>-2.125376</td>\n",
       "      <td>0.389565</td>\n",
       "      <td>...</td>\n",
       "      <td>0.003111</td>\n",
       "      <td>-0.009148</td>\n",
       "      <td>-0.011937</td>\n",
       "      <td>-0.004081</td>\n",
       "      <td>-0.017478</td>\n",
       "      <td>-0.010033</td>\n",
       "      <td>-4.932477e-15</td>\n",
       "      <td>3.905602e-13</td>\n",
       "      <td>-8.923707e-13</td>\n",
       "      <td>17</td>\n",
       "    </tr>\n",
       "    <tr>\n",
       "      <th>...</th>\n",
       "      <td>...</td>\n",
       "      <td>...</td>\n",
       "      <td>...</td>\n",
       "      <td>...</td>\n",
       "      <td>...</td>\n",
       "      <td>...</td>\n",
       "      <td>...</td>\n",
       "      <td>...</td>\n",
       "      <td>...</td>\n",
       "      <td>...</td>\n",
       "      <td>...</td>\n",
       "      <td>...</td>\n",
       "      <td>...</td>\n",
       "      <td>...</td>\n",
       "      <td>...</td>\n",
       "      <td>...</td>\n",
       "      <td>...</td>\n",
       "      <td>...</td>\n",
       "      <td>...</td>\n",
       "      <td>...</td>\n",
       "      <td>...</td>\n",
       "    </tr>\n",
       "    <tr>\n",
       "      <th>20306</th>\n",
       "      <td>1.346699</td>\n",
       "      <td>-2.775889</td>\n",
       "      <td>0.986755</td>\n",
       "      <td>-1.704967</td>\n",
       "      <td>0.103935</td>\n",
       "      <td>-0.726582</td>\n",
       "      <td>0.253808</td>\n",
       "      <td>0.520234</td>\n",
       "      <td>-0.064513</td>\n",
       "      <td>0.204971</td>\n",
       "      <td>...</td>\n",
       "      <td>0.335148</td>\n",
       "      <td>0.103481</td>\n",
       "      <td>-0.235355</td>\n",
       "      <td>-0.054256</td>\n",
       "      <td>0.016922</td>\n",
       "      <td>-0.125947</td>\n",
       "      <td>-1.534309e-11</td>\n",
       "      <td>3.021976e-11</td>\n",
       "      <td>-3.889940e-11</td>\n",
       "      <td>10</td>\n",
       "    </tr>\n",
       "    <tr>\n",
       "      <th>20307</th>\n",
       "      <td>1.269387</td>\n",
       "      <td>-2.444619</td>\n",
       "      <td>0.971408</td>\n",
       "      <td>-0.115303</td>\n",
       "      <td>-0.719597</td>\n",
       "      <td>-1.823579</td>\n",
       "      <td>-0.545186</td>\n",
       "      <td>-1.475719</td>\n",
       "      <td>-0.338390</td>\n",
       "      <td>0.272129</td>\n",
       "      <td>...</td>\n",
       "      <td>0.210461</td>\n",
       "      <td>-0.094337</td>\n",
       "      <td>-0.183026</td>\n",
       "      <td>0.074605</td>\n",
       "      <td>0.005622</td>\n",
       "      <td>0.000054</td>\n",
       "      <td>-4.055856e-12</td>\n",
       "      <td>-5.412007e-14</td>\n",
       "      <td>2.466938e-11</td>\n",
       "      <td>10</td>\n",
       "    </tr>\n",
       "    <tr>\n",
       "      <th>20308</th>\n",
       "      <td>0.781916</td>\n",
       "      <td>-1.164865</td>\n",
       "      <td>0.705256</td>\n",
       "      <td>-0.947160</td>\n",
       "      <td>1.145828</td>\n",
       "      <td>-0.472667</td>\n",
       "      <td>-0.356604</td>\n",
       "      <td>0.972512</td>\n",
       "      <td>0.900317</td>\n",
       "      <td>-0.674016</td>\n",
       "      <td>...</td>\n",
       "      <td>-0.189241</td>\n",
       "      <td>0.213993</td>\n",
       "      <td>-0.033420</td>\n",
       "      <td>-0.157564</td>\n",
       "      <td>0.213849</td>\n",
       "      <td>-0.065180</td>\n",
       "      <td>1.279727e-11</td>\n",
       "      <td>1.144673e-11</td>\n",
       "      <td>-2.871819e-11</td>\n",
       "      <td>4</td>\n",
       "    </tr>\n",
       "    <tr>\n",
       "      <th>20309</th>\n",
       "      <td>0.002454</td>\n",
       "      <td>-3.056407</td>\n",
       "      <td>-0.272934</td>\n",
       "      <td>1.436355</td>\n",
       "      <td>-0.604453</td>\n",
       "      <td>0.251492</td>\n",
       "      <td>-1.361710</td>\n",
       "      <td>-0.633245</td>\n",
       "      <td>0.280076</td>\n",
       "      <td>0.521145</td>\n",
       "      <td>...</td>\n",
       "      <td>0.560966</td>\n",
       "      <td>-0.437674</td>\n",
       "      <td>-0.784640</td>\n",
       "      <td>0.080684</td>\n",
       "      <td>0.038379</td>\n",
       "      <td>0.108493</td>\n",
       "      <td>-1.289662e-11</td>\n",
       "      <td>-1.484812e-11</td>\n",
       "      <td>3.297878e-11</td>\n",
       "      <td>10</td>\n",
       "    </tr>\n",
       "    <tr>\n",
       "      <th>20310</th>\n",
       "      <td>-0.957008</td>\n",
       "      <td>-1.208016</td>\n",
       "      <td>1.103144</td>\n",
       "      <td>4.128170</td>\n",
       "      <td>1.026126</td>\n",
       "      <td>0.085505</td>\n",
       "      <td>1.588383</td>\n",
       "      <td>0.567041</td>\n",
       "      <td>-1.026283</td>\n",
       "      <td>0.266124</td>\n",
       "      <td>...</td>\n",
       "      <td>0.003050</td>\n",
       "      <td>-0.009230</td>\n",
       "      <td>-0.012069</td>\n",
       "      <td>-0.003818</td>\n",
       "      <td>-0.017675</td>\n",
       "      <td>-0.010372</td>\n",
       "      <td>6.383433e-15</td>\n",
       "      <td>4.112716e-13</td>\n",
       "      <td>-9.571981e-13</td>\n",
       "      <td>10</td>\n",
       "    </tr>\n",
       "  </tbody>\n",
       "</table>\n",
       "<p>20311 rows × 613 columns</p>\n",
       "</div>"
      ],
      "text/plain": [
       "              0         1         2         3         4         5         6  \\\n",
       "0      0.174796  0.731252  2.186797 -0.767192  0.594847  0.315968 -0.412322   \n",
       "1     -1.358420  0.052935 -1.789973  1.938444  0.403606  1.023898 -1.172118   \n",
       "2     -0.972077  0.658094  0.757500 -0.277350 -0.400393  0.402941  1.292960   \n",
       "3     -0.926464  1.292091  0.398499 -0.997738  0.202219  0.620859 -0.527689   \n",
       "4     -1.710077 -0.383502 -1.258562  1.346428  1.223591  1.744579  0.094311   \n",
       "...         ...       ...       ...       ...       ...       ...       ...   \n",
       "20306  1.346699 -2.775889  0.986755 -1.704967  0.103935 -0.726582  0.253808   \n",
       "20307  1.269387 -2.444619  0.971408 -0.115303 -0.719597 -1.823579 -0.545186   \n",
       "20308  0.781916 -1.164865  0.705256 -0.947160  1.145828 -0.472667 -0.356604   \n",
       "20309  0.002454 -3.056407 -0.272934  1.436355 -0.604453  0.251492 -1.361710   \n",
       "20310 -0.957008 -1.208016  1.103144  4.128170  1.026126  0.085505  1.588383   \n",
       "\n",
       "              7         8         9  ...       603       604       605  \\\n",
       "0     -0.479171 -2.700668  2.109956  ...  0.002097 -0.019072 -0.009111   \n",
       "1      0.821698 -1.716897  0.252498  ... -0.026825 -0.031678 -0.031986   \n",
       "2      1.839192 -1.562236  1.410677  ...  0.007214  0.003084  0.017097   \n",
       "3      1.135529 -1.343893  1.020964  ...  0.020814 -0.046126  0.089337   \n",
       "4      0.479412 -2.125376  0.389565  ...  0.003111 -0.009148 -0.011937   \n",
       "...         ...       ...       ...  ...       ...       ...       ...   \n",
       "20306  0.520234 -0.064513  0.204971  ...  0.335148  0.103481 -0.235355   \n",
       "20307 -1.475719 -0.338390  0.272129  ...  0.210461 -0.094337 -0.183026   \n",
       "20308  0.972512  0.900317 -0.674016  ... -0.189241  0.213993 -0.033420   \n",
       "20309 -0.633245  0.280076  0.521145  ...  0.560966 -0.437674 -0.784640   \n",
       "20310  0.567041 -1.026283  0.266124  ...  0.003050 -0.009230 -0.012069   \n",
       "\n",
       "            606       607       608           609           610           611  \\\n",
       "0      0.005154 -0.034027 -0.032617  1.392999e-12  2.895018e-12 -3.353186e-12   \n",
       "1      0.029708 -0.016322 -0.030234  9.649610e-13  2.111885e-12 -2.298578e-12   \n",
       "2      0.017361 -0.010979 -0.012781 -6.589426e-13  1.390951e-12 -1.041357e-12   \n",
       "3      0.164777 -0.064148 -0.040911  6.965740e-12  1.739612e-11 -4.817632e-12   \n",
       "4     -0.004081 -0.017478 -0.010033 -4.932477e-15  3.905602e-13 -8.923707e-13   \n",
       "...         ...       ...       ...           ...           ...           ...   \n",
       "20306 -0.054256  0.016922 -0.125947 -1.534309e-11  3.021976e-11 -3.889940e-11   \n",
       "20307  0.074605  0.005622  0.000054 -4.055856e-12 -5.412007e-14  2.466938e-11   \n",
       "20308 -0.157564  0.213849 -0.065180  1.279727e-11  1.144673e-11 -2.871819e-11   \n",
       "20309  0.080684  0.038379  0.108493 -1.289662e-11 -1.484812e-11  3.297878e-11   \n",
       "20310 -0.003818 -0.017675 -0.010372  6.383433e-15  4.112716e-13 -9.571981e-13   \n",
       "\n",
       "       cluster_pca  \n",
       "0               49  \n",
       "1               17  \n",
       "2               17  \n",
       "3               17  \n",
       "4               17  \n",
       "...            ...  \n",
       "20306           10  \n",
       "20307           10  \n",
       "20308            4  \n",
       "20309           10  \n",
       "20310           10  \n",
       "\n",
       "[20311 rows x 613 columns]"
      ]
     },
     "execution_count": 115,
     "metadata": {},
     "output_type": "execute_result"
    }
   ],
   "source": [
    "projection_m"
   ]
  },
  {
   "attachments": {},
   "cell_type": "markdown",
   "metadata": {},
   "source": [
    "### Método do cotovelo"
   ]
  },
  {
   "cell_type": "code",
   "execution_count": 119,
   "metadata": {},
   "outputs": [
    {
     "name": "stderr",
     "output_type": "stream",
     "text": [
      "/home/marcus/anaconda3/lib/python3.9/site-packages/sklearn/utils/validation.py:1858: FutureWarning:\n",
      "\n",
      "Feature names only support names that are all strings. Got feature names with dtypes: ['int', 'str']. An error will be raised in 1.2.\n",
      "\n",
      "Exception ignored on calling ctypes callback function: <function _ThreadpoolInfo._find_modules_with_dl_iterate_phdr.<locals>.match_module_callback at 0x7f01b4dbbb80>\n",
      "Traceback (most recent call last):\n",
      "  File \"/home/marcus/anaconda3/lib/python3.9/site-packages/threadpoolctl.py\", line 400, in match_module_callback\n",
      "    self._make_module_from_path(filepath)\n",
      "  File \"/home/marcus/anaconda3/lib/python3.9/site-packages/threadpoolctl.py\", line 515, in _make_module_from_path\n",
      "    module = module_class(filepath, prefix, user_api, internal_api)\n",
      "  File \"/home/marcus/anaconda3/lib/python3.9/site-packages/threadpoolctl.py\", line 606, in __init__\n",
      "    self.version = self.get_version()\n",
      "  File \"/home/marcus/anaconda3/lib/python3.9/site-packages/threadpoolctl.py\", line 646, in get_version\n",
      "    config = get_config().split()\n",
      "AttributeError: 'NoneType' object has no attribute 'split'\n",
      "Exception ignored on calling ctypes callback function: <function _ThreadpoolInfo._find_modules_with_dl_iterate_phdr.<locals>.match_module_callback at 0x7f01b4dbbb80>\n",
      "Traceback (most recent call last):\n",
      "  File \"/home/marcus/anaconda3/lib/python3.9/site-packages/threadpoolctl.py\", line 400, in match_module_callback\n",
      "    self._make_module_from_path(filepath)\n",
      "  File \"/home/marcus/anaconda3/lib/python3.9/site-packages/threadpoolctl.py\", line 515, in _make_module_from_path\n",
      "    module = module_class(filepath, prefix, user_api, internal_api)\n",
      "  File \"/home/marcus/anaconda3/lib/python3.9/site-packages/threadpoolctl.py\", line 606, in __init__\n",
      "    self.version = self.get_version()\n",
      "  File \"/home/marcus/anaconda3/lib/python3.9/site-packages/threadpoolctl.py\", line 646, in get_version\n",
      "    config = get_config().split()\n",
      "AttributeError: 'NoneType' object has no attribute 'split'\n",
      "Exception ignored on calling ctypes callback function: <function _ThreadpoolInfo._find_modules_with_dl_iterate_phdr.<locals>.match_module_callback at 0x7f01b4eb00d0>\n",
      "Traceback (most recent call last):\n",
      "  File \"/home/marcus/anaconda3/lib/python3.9/site-packages/threadpoolctl.py\", line 400, in match_module_callback\n",
      "    self._make_module_from_path(filepath)\n",
      "  File \"/home/marcus/anaconda3/lib/python3.9/site-packages/threadpoolctl.py\", line 515, in _make_module_from_path\n",
      "    module = module_class(filepath, prefix, user_api, internal_api)\n",
      "  File \"/home/marcus/anaconda3/lib/python3.9/site-packages/threadpoolctl.py\", line 606, in __init__\n",
      "    self.version = self.get_version()\n",
      "  File \"/home/marcus/anaconda3/lib/python3.9/site-packages/threadpoolctl.py\", line 646, in get_version\n",
      "    config = get_config().split()\n",
      "AttributeError: 'NoneType' object has no attribute 'split'\n",
      "Exception ignored on calling ctypes callback function: <function _ThreadpoolInfo._find_modules_with_dl_iterate_phdr.<locals>.match_module_callback at 0x7f01b4dbbb80>\n",
      "Traceback (most recent call last):\n",
      "  File \"/home/marcus/anaconda3/lib/python3.9/site-packages/threadpoolctl.py\", line 400, in match_module_callback\n",
      "    self._make_module_from_path(filepath)\n",
      "  File \"/home/marcus/anaconda3/lib/python3.9/site-packages/threadpoolctl.py\", line 515, in _make_module_from_path\n",
      "    module = module_class(filepath, prefix, user_api, internal_api)\n",
      "  File \"/home/marcus/anaconda3/lib/python3.9/site-packages/threadpoolctl.py\", line 606, in __init__\n",
      "    self.version = self.get_version()\n",
      "  File \"/home/marcus/anaconda3/lib/python3.9/site-packages/threadpoolctl.py\", line 646, in get_version\n",
      "    config = get_config().split()\n",
      "AttributeError: 'NoneType' object has no attribute 'split'\n",
      "Exception ignored on calling ctypes callback function: <function _ThreadpoolInfo._find_modules_with_dl_iterate_phdr.<locals>.match_module_callback at 0x7f01b4eb00d0>\n",
      "Traceback (most recent call last):\n",
      "  File \"/home/marcus/anaconda3/lib/python3.9/site-packages/threadpoolctl.py\", line 400, in match_module_callback\n",
      "    self._make_module_from_path(filepath)\n",
      "  File \"/home/marcus/anaconda3/lib/python3.9/site-packages/threadpoolctl.py\", line 515, in _make_module_from_path\n",
      "    module = module_class(filepath, prefix, user_api, internal_api)\n",
      "  File \"/home/marcus/anaconda3/lib/python3.9/site-packages/threadpoolctl.py\", line 606, in __init__\n",
      "    self.version = self.get_version()\n",
      "  File \"/home/marcus/anaconda3/lib/python3.9/site-packages/threadpoolctl.py\", line 646, in get_version\n",
      "    config = get_config().split()\n",
      "AttributeError: 'NoneType' object has no attribute 'split'\n",
      "Exception ignored on calling ctypes callback function: <function _ThreadpoolInfo._find_modules_with_dl_iterate_phdr.<locals>.match_module_callback at 0x7f01b4dbbb80>\n",
      "Traceback (most recent call last):\n",
      "  File \"/home/marcus/anaconda3/lib/python3.9/site-packages/threadpoolctl.py\", line 400, in match_module_callback\n",
      "    self._make_module_from_path(filepath)\n",
      "  File \"/home/marcus/anaconda3/lib/python3.9/site-packages/threadpoolctl.py\", line 515, in _make_module_from_path\n",
      "    module = module_class(filepath, prefix, user_api, internal_api)\n",
      "  File \"/home/marcus/anaconda3/lib/python3.9/site-packages/threadpoolctl.py\", line 606, in __init__\n",
      "    self.version = self.get_version()\n",
      "  File \"/home/marcus/anaconda3/lib/python3.9/site-packages/threadpoolctl.py\", line 646, in get_version\n",
      "    config = get_config().split()\n",
      "AttributeError: 'NoneType' object has no attribute 'split'\n",
      "Exception ignored on calling ctypes callback function: <function _ThreadpoolInfo._find_modules_with_dl_iterate_phdr.<locals>.match_module_callback at 0x7f01b4dbbb80>\n",
      "Traceback (most recent call last):\n",
      "  File \"/home/marcus/anaconda3/lib/python3.9/site-packages/threadpoolctl.py\", line 400, in match_module_callback\n",
      "    self._make_module_from_path(filepath)\n",
      "  File \"/home/marcus/anaconda3/lib/python3.9/site-packages/threadpoolctl.py\", line 515, in _make_module_from_path\n",
      "    module = module_class(filepath, prefix, user_api, internal_api)\n",
      "  File \"/home/marcus/anaconda3/lib/python3.9/site-packages/threadpoolctl.py\", line 606, in __init__\n",
      "    self.version = self.get_version()\n",
      "  File \"/home/marcus/anaconda3/lib/python3.9/site-packages/threadpoolctl.py\", line 646, in get_version\n",
      "    config = get_config().split()\n",
      "AttributeError: 'NoneType' object has no attribute 'split'\n",
      "Exception ignored on calling ctypes callback function: <function _ThreadpoolInfo._find_modules_with_dl_iterate_phdr.<locals>.match_module_callback at 0x7f01b4dbbb80>\n",
      "Traceback (most recent call last):\n",
      "  File \"/home/marcus/anaconda3/lib/python3.9/site-packages/threadpoolctl.py\", line 400, in match_module_callback\n",
      "    self._make_module_from_path(filepath)\n",
      "  File \"/home/marcus/anaconda3/lib/python3.9/site-packages/threadpoolctl.py\", line 515, in _make_module_from_path\n",
      "    module = module_class(filepath, prefix, user_api, internal_api)\n",
      "  File \"/home/marcus/anaconda3/lib/python3.9/site-packages/threadpoolctl.py\", line 606, in __init__\n",
      "    self.version = self.get_version()\n",
      "  File \"/home/marcus/anaconda3/lib/python3.9/site-packages/threadpoolctl.py\", line 646, in get_version\n",
      "    config = get_config().split()\n",
      "AttributeError: 'NoneType' object has no attribute 'split'\n",
      "Exception ignored on calling ctypes callback function: <function _ThreadpoolInfo._find_modules_with_dl_iterate_phdr.<locals>.match_module_callback at 0x7f01b4eb00d0>\n",
      "Traceback (most recent call last):\n",
      "  File \"/home/marcus/anaconda3/lib/python3.9/site-packages/threadpoolctl.py\", line 400, in match_module_callback\n",
      "    self._make_module_from_path(filepath)\n",
      "  File \"/home/marcus/anaconda3/lib/python3.9/site-packages/threadpoolctl.py\", line 515, in _make_module_from_path\n",
      "    module = module_class(filepath, prefix, user_api, internal_api)\n",
      "  File \"/home/marcus/anaconda3/lib/python3.9/site-packages/threadpoolctl.py\", line 606, in __init__\n",
      "    self.version = self.get_version()\n",
      "  File \"/home/marcus/anaconda3/lib/python3.9/site-packages/threadpoolctl.py\", line 646, in get_version\n",
      "    config = get_config().split()\n",
      "AttributeError: 'NoneType' object has no attribute 'split'\n",
      "Exception ignored on calling ctypes callback function: <function _ThreadpoolInfo._find_modules_with_dl_iterate_phdr.<locals>.match_module_callback at 0x7f01b4dbbb80>\n",
      "Traceback (most recent call last):\n",
      "  File \"/home/marcus/anaconda3/lib/python3.9/site-packages/threadpoolctl.py\", line 400, in match_module_callback\n",
      "    self._make_module_from_path(filepath)\n",
      "  File \"/home/marcus/anaconda3/lib/python3.9/site-packages/threadpoolctl.py\", line 515, in _make_module_from_path\n",
      "    module = module_class(filepath, prefix, user_api, internal_api)\n",
      "  File \"/home/marcus/anaconda3/lib/python3.9/site-packages/threadpoolctl.py\", line 606, in __init__\n",
      "    self.version = self.get_version()\n",
      "  File \"/home/marcus/anaconda3/lib/python3.9/site-packages/threadpoolctl.py\", line 646, in get_version\n",
      "    config = get_config().split()\n",
      "AttributeError: 'NoneType' object has no attribute 'split'\n",
      "/home/marcus/anaconda3/lib/python3.9/site-packages/sklearn/utils/validation.py:1858: FutureWarning:\n",
      "\n",
      "Feature names only support names that are all strings. Got feature names with dtypes: ['int', 'str']. An error will be raised in 1.2.\n",
      "\n",
      "Exception ignored on calling ctypes callback function: <function _ThreadpoolInfo._find_modules_with_dl_iterate_phdr.<locals>.match_module_callback at 0x7f01b4dbbb80>\n",
      "Traceback (most recent call last):\n",
      "  File \"/home/marcus/anaconda3/lib/python3.9/site-packages/threadpoolctl.py\", line 400, in match_module_callback\n",
      "    self._make_module_from_path(filepath)\n",
      "  File \"/home/marcus/anaconda3/lib/python3.9/site-packages/threadpoolctl.py\", line 515, in _make_module_from_path\n",
      "    module = module_class(filepath, prefix, user_api, internal_api)\n",
      "  File \"/home/marcus/anaconda3/lib/python3.9/site-packages/threadpoolctl.py\", line 606, in __init__\n",
      "    self.version = self.get_version()\n",
      "  File \"/home/marcus/anaconda3/lib/python3.9/site-packages/threadpoolctl.py\", line 646, in get_version\n",
      "    config = get_config().split()\n",
      "AttributeError: 'NoneType' object has no attribute 'split'\n",
      "Exception ignored on calling ctypes callback function: <function _ThreadpoolInfo._find_modules_with_dl_iterate_phdr.<locals>.match_module_callback at 0x7f01b4dbbb80>\n",
      "Traceback (most recent call last):\n",
      "  File \"/home/marcus/anaconda3/lib/python3.9/site-packages/threadpoolctl.py\", line 400, in match_module_callback\n",
      "    self._make_module_from_path(filepath)\n",
      "  File \"/home/marcus/anaconda3/lib/python3.9/site-packages/threadpoolctl.py\", line 515, in _make_module_from_path\n",
      "    module = module_class(filepath, prefix, user_api, internal_api)\n",
      "  File \"/home/marcus/anaconda3/lib/python3.9/site-packages/threadpoolctl.py\", line 606, in __init__\n",
      "    self.version = self.get_version()\n",
      "  File \"/home/marcus/anaconda3/lib/python3.9/site-packages/threadpoolctl.py\", line 646, in get_version\n",
      "    config = get_config().split()\n",
      "AttributeError: 'NoneType' object has no attribute 'split'\n",
      "Exception ignored on calling ctypes callback function: <function _ThreadpoolInfo._find_modules_with_dl_iterate_phdr.<locals>.match_module_callback at 0x7f01b4eb00d0>\n",
      "Traceback (most recent call last):\n",
      "  File \"/home/marcus/anaconda3/lib/python3.9/site-packages/threadpoolctl.py\", line 400, in match_module_callback\n",
      "    self._make_module_from_path(filepath)\n",
      "  File \"/home/marcus/anaconda3/lib/python3.9/site-packages/threadpoolctl.py\", line 515, in _make_module_from_path\n",
      "    module = module_class(filepath, prefix, user_api, internal_api)\n",
      "  File \"/home/marcus/anaconda3/lib/python3.9/site-packages/threadpoolctl.py\", line 606, in __init__\n",
      "    self.version = self.get_version()\n",
      "  File \"/home/marcus/anaconda3/lib/python3.9/site-packages/threadpoolctl.py\", line 646, in get_version\n",
      "    config = get_config().split()\n",
      "AttributeError: 'NoneType' object has no attribute 'split'\n",
      "Exception ignored on calling ctypes callback function: <function _ThreadpoolInfo._find_modules_with_dl_iterate_phdr.<locals>.match_module_callback at 0x7f01b4dbbb80>\n",
      "Traceback (most recent call last):\n",
      "  File \"/home/marcus/anaconda3/lib/python3.9/site-packages/threadpoolctl.py\", line 400, in match_module_callback\n",
      "    self._make_module_from_path(filepath)\n",
      "  File \"/home/marcus/anaconda3/lib/python3.9/site-packages/threadpoolctl.py\", line 515, in _make_module_from_path\n",
      "    module = module_class(filepath, prefix, user_api, internal_api)\n",
      "  File \"/home/marcus/anaconda3/lib/python3.9/site-packages/threadpoolctl.py\", line 606, in __init__\n",
      "    self.version = self.get_version()\n",
      "  File \"/home/marcus/anaconda3/lib/python3.9/site-packages/threadpoolctl.py\", line 646, in get_version\n",
      "    config = get_config().split()\n",
      "AttributeError: 'NoneType' object has no attribute 'split'\n",
      "Exception ignored on calling ctypes callback function: <function _ThreadpoolInfo._find_modules_with_dl_iterate_phdr.<locals>.match_module_callback at 0x7f01b4eb00d0>\n",
      "Traceback (most recent call last):\n",
      "  File \"/home/marcus/anaconda3/lib/python3.9/site-packages/threadpoolctl.py\", line 400, in match_module_callback\n",
      "    self._make_module_from_path(filepath)\n",
      "  File \"/home/marcus/anaconda3/lib/python3.9/site-packages/threadpoolctl.py\", line 515, in _make_module_from_path\n",
      "    module = module_class(filepath, prefix, user_api, internal_api)\n",
      "  File \"/home/marcus/anaconda3/lib/python3.9/site-packages/threadpoolctl.py\", line 606, in __init__\n",
      "    self.version = self.get_version()\n",
      "  File \"/home/marcus/anaconda3/lib/python3.9/site-packages/threadpoolctl.py\", line 646, in get_version\n",
      "    config = get_config().split()\n",
      "AttributeError: 'NoneType' object has no attribute 'split'\n",
      "Exception ignored on calling ctypes callback function: <function _ThreadpoolInfo._find_modules_with_dl_iterate_phdr.<locals>.match_module_callback at 0x7f01b4dbbb80>\n",
      "Traceback (most recent call last):\n",
      "  File \"/home/marcus/anaconda3/lib/python3.9/site-packages/threadpoolctl.py\", line 400, in match_module_callback\n",
      "    self._make_module_from_path(filepath)\n",
      "  File \"/home/marcus/anaconda3/lib/python3.9/site-packages/threadpoolctl.py\", line 515, in _make_module_from_path\n",
      "    module = module_class(filepath, prefix, user_api, internal_api)\n",
      "  File \"/home/marcus/anaconda3/lib/python3.9/site-packages/threadpoolctl.py\", line 606, in __init__\n",
      "    self.version = self.get_version()\n",
      "  File \"/home/marcus/anaconda3/lib/python3.9/site-packages/threadpoolctl.py\", line 646, in get_version\n",
      "    config = get_config().split()\n",
      "AttributeError: 'NoneType' object has no attribute 'split'\n",
      "Exception ignored on calling ctypes callback function: <function _ThreadpoolInfo._find_modules_with_dl_iterate_phdr.<locals>.match_module_callback at 0x7f01b4dbbb80>\n",
      "Traceback (most recent call last):\n",
      "  File \"/home/marcus/anaconda3/lib/python3.9/site-packages/threadpoolctl.py\", line 400, in match_module_callback\n",
      "    self._make_module_from_path(filepath)\n",
      "  File \"/home/marcus/anaconda3/lib/python3.9/site-packages/threadpoolctl.py\", line 515, in _make_module_from_path\n",
      "    module = module_class(filepath, prefix, user_api, internal_api)\n",
      "  File \"/home/marcus/anaconda3/lib/python3.9/site-packages/threadpoolctl.py\", line 606, in __init__\n",
      "    self.version = self.get_version()\n",
      "  File \"/home/marcus/anaconda3/lib/python3.9/site-packages/threadpoolctl.py\", line 646, in get_version\n",
      "    config = get_config().split()\n",
      "AttributeError: 'NoneType' object has no attribute 'split'\n",
      "Exception ignored on calling ctypes callback function: <function _ThreadpoolInfo._find_modules_with_dl_iterate_phdr.<locals>.match_module_callback at 0x7f01b4dbbb80>\n",
      "Traceback (most recent call last):\n",
      "  File \"/home/marcus/anaconda3/lib/python3.9/site-packages/threadpoolctl.py\", line 400, in match_module_callback\n",
      "    self._make_module_from_path(filepath)\n",
      "  File \"/home/marcus/anaconda3/lib/python3.9/site-packages/threadpoolctl.py\", line 515, in _make_module_from_path\n",
      "    module = module_class(filepath, prefix, user_api, internal_api)\n",
      "  File \"/home/marcus/anaconda3/lib/python3.9/site-packages/threadpoolctl.py\", line 606, in __init__\n",
      "    self.version = self.get_version()\n",
      "  File \"/home/marcus/anaconda3/lib/python3.9/site-packages/threadpoolctl.py\", line 646, in get_version\n",
      "    config = get_config().split()\n",
      "AttributeError: 'NoneType' object has no attribute 'split'\n",
      "Exception ignored on calling ctypes callback function: <function _ThreadpoolInfo._find_modules_with_dl_iterate_phdr.<locals>.match_module_callback at 0x7f01b4dbbb80>\n",
      "Traceback (most recent call last):\n",
      "  File \"/home/marcus/anaconda3/lib/python3.9/site-packages/threadpoolctl.py\", line 400, in match_module_callback\n",
      "    self._make_module_from_path(filepath)\n",
      "  File \"/home/marcus/anaconda3/lib/python3.9/site-packages/threadpoolctl.py\", line 515, in _make_module_from_path\n",
      "    module = module_class(filepath, prefix, user_api, internal_api)\n",
      "  File \"/home/marcus/anaconda3/lib/python3.9/site-packages/threadpoolctl.py\", line 606, in __init__\n",
      "    self.version = self.get_version()\n",
      "  File \"/home/marcus/anaconda3/lib/python3.9/site-packages/threadpoolctl.py\", line 646, in get_version\n",
      "    config = get_config().split()\n",
      "AttributeError: 'NoneType' object has no attribute 'split'\n",
      "Exception ignored on calling ctypes callback function: <function _ThreadpoolInfo._find_modules_with_dl_iterate_phdr.<locals>.match_module_callback at 0x7f01b4dbbb80>\n",
      "Traceback (most recent call last):\n",
      "  File \"/home/marcus/anaconda3/lib/python3.9/site-packages/threadpoolctl.py\", line 400, in match_module_callback\n",
      "    self._make_module_from_path(filepath)\n",
      "  File \"/home/marcus/anaconda3/lib/python3.9/site-packages/threadpoolctl.py\", line 515, in _make_module_from_path\n",
      "    module = module_class(filepath, prefix, user_api, internal_api)\n",
      "  File \"/home/marcus/anaconda3/lib/python3.9/site-packages/threadpoolctl.py\", line 606, in __init__\n",
      "    self.version = self.get_version()\n",
      "  File \"/home/marcus/anaconda3/lib/python3.9/site-packages/threadpoolctl.py\", line 646, in get_version\n",
      "    config = get_config().split()\n",
      "AttributeError: 'NoneType' object has no attribute 'split'\n",
      "/home/marcus/anaconda3/lib/python3.9/site-packages/sklearn/utils/validation.py:1858: FutureWarning:\n",
      "\n",
      "Feature names only support names that are all strings. Got feature names with dtypes: ['int', 'str']. An error will be raised in 1.2.\n",
      "\n",
      "Exception ignored on calling ctypes callback function: <function _ThreadpoolInfo._find_modules_with_dl_iterate_phdr.<locals>.match_module_callback at 0x7f01b4dbbb80>\n",
      "Traceback (most recent call last):\n",
      "  File \"/home/marcus/anaconda3/lib/python3.9/site-packages/threadpoolctl.py\", line 400, in match_module_callback\n",
      "    self._make_module_from_path(filepath)\n",
      "  File \"/home/marcus/anaconda3/lib/python3.9/site-packages/threadpoolctl.py\", line 515, in _make_module_from_path\n",
      "    module = module_class(filepath, prefix, user_api, internal_api)\n",
      "  File \"/home/marcus/anaconda3/lib/python3.9/site-packages/threadpoolctl.py\", line 606, in __init__\n",
      "    self.version = self.get_version()\n",
      "  File \"/home/marcus/anaconda3/lib/python3.9/site-packages/threadpoolctl.py\", line 646, in get_version\n",
      "    config = get_config().split()\n",
      "AttributeError: 'NoneType' object has no attribute 'split'\n",
      "Exception ignored on calling ctypes callback function: <function _ThreadpoolInfo._find_modules_with_dl_iterate_phdr.<locals>.match_module_callback at 0x7f01b4dbbb80>\n",
      "Traceback (most recent call last):\n",
      "  File \"/home/marcus/anaconda3/lib/python3.9/site-packages/threadpoolctl.py\", line 400, in match_module_callback\n",
      "    self._make_module_from_path(filepath)\n",
      "  File \"/home/marcus/anaconda3/lib/python3.9/site-packages/threadpoolctl.py\", line 515, in _make_module_from_path\n",
      "    module = module_class(filepath, prefix, user_api, internal_api)\n",
      "  File \"/home/marcus/anaconda3/lib/python3.9/site-packages/threadpoolctl.py\", line 606, in __init__\n",
      "    self.version = self.get_version()\n",
      "  File \"/home/marcus/anaconda3/lib/python3.9/site-packages/threadpoolctl.py\", line 646, in get_version\n",
      "    config = get_config().split()\n",
      "AttributeError: 'NoneType' object has no attribute 'split'\n",
      "Exception ignored on calling ctypes callback function: <function _ThreadpoolInfo._find_modules_with_dl_iterate_phdr.<locals>.match_module_callback at 0x7f01b4dbbb80>\n",
      "Traceback (most recent call last):\n",
      "  File \"/home/marcus/anaconda3/lib/python3.9/site-packages/threadpoolctl.py\", line 400, in match_module_callback\n",
      "    self._make_module_from_path(filepath)\n",
      "  File \"/home/marcus/anaconda3/lib/python3.9/site-packages/threadpoolctl.py\", line 515, in _make_module_from_path\n",
      "    module = module_class(filepath, prefix, user_api, internal_api)\n",
      "  File \"/home/marcus/anaconda3/lib/python3.9/site-packages/threadpoolctl.py\", line 606, in __init__\n",
      "    self.version = self.get_version()\n",
      "  File \"/home/marcus/anaconda3/lib/python3.9/site-packages/threadpoolctl.py\", line 646, in get_version\n",
      "    config = get_config().split()\n",
      "AttributeError: 'NoneType' object has no attribute 'split'\n",
      "Exception ignored on calling ctypes callback function: <function _ThreadpoolInfo._find_modules_with_dl_iterate_phdr.<locals>.match_module_callback at 0x7f01b4dbbb80>\n",
      "Traceback (most recent call last):\n",
      "  File \"/home/marcus/anaconda3/lib/python3.9/site-packages/threadpoolctl.py\", line 400, in match_module_callback\n",
      "    self._make_module_from_path(filepath)\n",
      "  File \"/home/marcus/anaconda3/lib/python3.9/site-packages/threadpoolctl.py\", line 515, in _make_module_from_path\n",
      "    module = module_class(filepath, prefix, user_api, internal_api)\n",
      "  File \"/home/marcus/anaconda3/lib/python3.9/site-packages/threadpoolctl.py\", line 606, in __init__\n",
      "    self.version = self.get_version()\n",
      "  File \"/home/marcus/anaconda3/lib/python3.9/site-packages/threadpoolctl.py\", line 646, in get_version\n",
      "    config = get_config().split()\n",
      "AttributeError: 'NoneType' object has no attribute 'split'\n",
      "Exception ignored on calling ctypes callback function: <function _ThreadpoolInfo._find_modules_with_dl_iterate_phdr.<locals>.match_module_callback at 0x7f01b4dbbb80>\n",
      "Traceback (most recent call last):\n",
      "  File \"/home/marcus/anaconda3/lib/python3.9/site-packages/threadpoolctl.py\", line 400, in match_module_callback\n",
      "    self._make_module_from_path(filepath)\n",
      "  File \"/home/marcus/anaconda3/lib/python3.9/site-packages/threadpoolctl.py\", line 515, in _make_module_from_path\n",
      "    module = module_class(filepath, prefix, user_api, internal_api)\n",
      "  File \"/home/marcus/anaconda3/lib/python3.9/site-packages/threadpoolctl.py\", line 606, in __init__\n",
      "    self.version = self.get_version()\n",
      "  File \"/home/marcus/anaconda3/lib/python3.9/site-packages/threadpoolctl.py\", line 646, in get_version\n",
      "    config = get_config().split()\n",
      "AttributeError: 'NoneType' object has no attribute 'split'\n",
      "Exception ignored on calling ctypes callback function: <function _ThreadpoolInfo._find_modules_with_dl_iterate_phdr.<locals>.match_module_callback at 0x7f01b4eb00d0>\n",
      "Traceback (most recent call last):\n",
      "  File \"/home/marcus/anaconda3/lib/python3.9/site-packages/threadpoolctl.py\", line 400, in match_module_callback\n",
      "    self._make_module_from_path(filepath)\n",
      "  File \"/home/marcus/anaconda3/lib/python3.9/site-packages/threadpoolctl.py\", line 515, in _make_module_from_path\n",
      "    module = module_class(filepath, prefix, user_api, internal_api)\n",
      "  File \"/home/marcus/anaconda3/lib/python3.9/site-packages/threadpoolctl.py\", line 606, in __init__\n",
      "    self.version = self.get_version()\n",
      "  File \"/home/marcus/anaconda3/lib/python3.9/site-packages/threadpoolctl.py\", line 646, in get_version\n",
      "    config = get_config().split()\n",
      "AttributeError: 'NoneType' object has no attribute 'split'\n",
      "Exception ignored on calling ctypes callback function: <function _ThreadpoolInfo._find_modules_with_dl_iterate_phdr.<locals>.match_module_callback at 0x7f01b4eb00d0>\n",
      "Traceback (most recent call last):\n",
      "  File \"/home/marcus/anaconda3/lib/python3.9/site-packages/threadpoolctl.py\", line 400, in match_module_callback\n",
      "    self._make_module_from_path(filepath)\n",
      "  File \"/home/marcus/anaconda3/lib/python3.9/site-packages/threadpoolctl.py\", line 515, in _make_module_from_path\n",
      "    module = module_class(filepath, prefix, user_api, internal_api)\n",
      "  File \"/home/marcus/anaconda3/lib/python3.9/site-packages/threadpoolctl.py\", line 606, in __init__\n",
      "    self.version = self.get_version()\n",
      "  File \"/home/marcus/anaconda3/lib/python3.9/site-packages/threadpoolctl.py\", line 646, in get_version\n",
      "    config = get_config().split()\n",
      "AttributeError: 'NoneType' object has no attribute 'split'\n",
      "Exception ignored on calling ctypes callback function: <function _ThreadpoolInfo._find_modules_with_dl_iterate_phdr.<locals>.match_module_callback at 0x7f01b4eb00d0>\n",
      "Traceback (most recent call last):\n",
      "  File \"/home/marcus/anaconda3/lib/python3.9/site-packages/threadpoolctl.py\", line 400, in match_module_callback\n",
      "    self._make_module_from_path(filepath)\n",
      "  File \"/home/marcus/anaconda3/lib/python3.9/site-packages/threadpoolctl.py\", line 515, in _make_module_from_path\n",
      "    module = module_class(filepath, prefix, user_api, internal_api)\n",
      "  File \"/home/marcus/anaconda3/lib/python3.9/site-packages/threadpoolctl.py\", line 606, in __init__\n",
      "    self.version = self.get_version()\n",
      "  File \"/home/marcus/anaconda3/lib/python3.9/site-packages/threadpoolctl.py\", line 646, in get_version\n",
      "    config = get_config().split()\n",
      "AttributeError: 'NoneType' object has no attribute 'split'\n",
      "Exception ignored on calling ctypes callback function: <function _ThreadpoolInfo._find_modules_with_dl_iterate_phdr.<locals>.match_module_callback at 0x7f01b4dbbb80>\n",
      "Traceback (most recent call last):\n",
      "  File \"/home/marcus/anaconda3/lib/python3.9/site-packages/threadpoolctl.py\", line 400, in match_module_callback\n",
      "    self._make_module_from_path(filepath)\n",
      "  File \"/home/marcus/anaconda3/lib/python3.9/site-packages/threadpoolctl.py\", line 515, in _make_module_from_path\n",
      "    module = module_class(filepath, prefix, user_api, internal_api)\n",
      "  File \"/home/marcus/anaconda3/lib/python3.9/site-packages/threadpoolctl.py\", line 606, in __init__\n",
      "    self.version = self.get_version()\n",
      "  File \"/home/marcus/anaconda3/lib/python3.9/site-packages/threadpoolctl.py\", line 646, in get_version\n",
      "    config = get_config().split()\n",
      "AttributeError: 'NoneType' object has no attribute 'split'\n",
      "Exception ignored on calling ctypes callback function: <function _ThreadpoolInfo._find_modules_with_dl_iterate_phdr.<locals>.match_module_callback at 0x7f01b4eb00d0>\n",
      "Traceback (most recent call last):\n",
      "  File \"/home/marcus/anaconda3/lib/python3.9/site-packages/threadpoolctl.py\", line 400, in match_module_callback\n",
      "    self._make_module_from_path(filepath)\n",
      "  File \"/home/marcus/anaconda3/lib/python3.9/site-packages/threadpoolctl.py\", line 515, in _make_module_from_path\n",
      "    module = module_class(filepath, prefix, user_api, internal_api)\n",
      "  File \"/home/marcus/anaconda3/lib/python3.9/site-packages/threadpoolctl.py\", line 606, in __init__\n",
      "    self.version = self.get_version()\n",
      "  File \"/home/marcus/anaconda3/lib/python3.9/site-packages/threadpoolctl.py\", line 646, in get_version\n",
      "    config = get_config().split()\n",
      "AttributeError: 'NoneType' object has no attribute 'split'\n",
      "/home/marcus/anaconda3/lib/python3.9/site-packages/sklearn/utils/validation.py:1858: FutureWarning:\n",
      "\n",
      "Feature names only support names that are all strings. Got feature names with dtypes: ['int', 'str']. An error will be raised in 1.2.\n",
      "\n",
      "Exception ignored on calling ctypes callback function: <function _ThreadpoolInfo._find_modules_with_dl_iterate_phdr.<locals>.match_module_callback at 0x7f01b4dbbb80>\n",
      "Traceback (most recent call last):\n",
      "  File \"/home/marcus/anaconda3/lib/python3.9/site-packages/threadpoolctl.py\", line 400, in match_module_callback\n",
      "    self._make_module_from_path(filepath)\n",
      "  File \"/home/marcus/anaconda3/lib/python3.9/site-packages/threadpoolctl.py\", line 515, in _make_module_from_path\n",
      "    module = module_class(filepath, prefix, user_api, internal_api)\n",
      "  File \"/home/marcus/anaconda3/lib/python3.9/site-packages/threadpoolctl.py\", line 606, in __init__\n",
      "    self.version = self.get_version()\n",
      "  File \"/home/marcus/anaconda3/lib/python3.9/site-packages/threadpoolctl.py\", line 646, in get_version\n",
      "    config = get_config().split()\n",
      "AttributeError: 'NoneType' object has no attribute 'split'\n",
      "Exception ignored on calling ctypes callback function: <function _ThreadpoolInfo._find_modules_with_dl_iterate_phdr.<locals>.match_module_callback at 0x7f01b4eb00d0>\n",
      "Traceback (most recent call last):\n",
      "  File \"/home/marcus/anaconda3/lib/python3.9/site-packages/threadpoolctl.py\", line 400, in match_module_callback\n",
      "    self._make_module_from_path(filepath)\n",
      "  File \"/home/marcus/anaconda3/lib/python3.9/site-packages/threadpoolctl.py\", line 515, in _make_module_from_path\n",
      "    module = module_class(filepath, prefix, user_api, internal_api)\n",
      "  File \"/home/marcus/anaconda3/lib/python3.9/site-packages/threadpoolctl.py\", line 606, in __init__\n",
      "    self.version = self.get_version()\n",
      "  File \"/home/marcus/anaconda3/lib/python3.9/site-packages/threadpoolctl.py\", line 646, in get_version\n",
      "    config = get_config().split()\n",
      "AttributeError: 'NoneType' object has no attribute 'split'\n",
      "Exception ignored on calling ctypes callback function: <function _ThreadpoolInfo._find_modules_with_dl_iterate_phdr.<locals>.match_module_callback at 0x7f01b4dbbb80>\n",
      "Traceback (most recent call last):\n",
      "  File \"/home/marcus/anaconda3/lib/python3.9/site-packages/threadpoolctl.py\", line 400, in match_module_callback\n",
      "    self._make_module_from_path(filepath)\n",
      "  File \"/home/marcus/anaconda3/lib/python3.9/site-packages/threadpoolctl.py\", line 515, in _make_module_from_path\n",
      "    module = module_class(filepath, prefix, user_api, internal_api)\n",
      "  File \"/home/marcus/anaconda3/lib/python3.9/site-packages/threadpoolctl.py\", line 606, in __init__\n",
      "    self.version = self.get_version()\n",
      "  File \"/home/marcus/anaconda3/lib/python3.9/site-packages/threadpoolctl.py\", line 646, in get_version\n",
      "    config = get_config().split()\n",
      "AttributeError: 'NoneType' object has no attribute 'split'\n",
      "Exception ignored on calling ctypes callback function: <function _ThreadpoolInfo._find_modules_with_dl_iterate_phdr.<locals>.match_module_callback at 0x7f01b4eb00d0>\n",
      "Traceback (most recent call last):\n",
      "  File \"/home/marcus/anaconda3/lib/python3.9/site-packages/threadpoolctl.py\", line 400, in match_module_callback\n",
      "    self._make_module_from_path(filepath)\n",
      "  File \"/home/marcus/anaconda3/lib/python3.9/site-packages/threadpoolctl.py\", line 515, in _make_module_from_path\n",
      "    module = module_class(filepath, prefix, user_api, internal_api)\n",
      "  File \"/home/marcus/anaconda3/lib/python3.9/site-packages/threadpoolctl.py\", line 606, in __init__\n",
      "    self.version = self.get_version()\n",
      "  File \"/home/marcus/anaconda3/lib/python3.9/site-packages/threadpoolctl.py\", line 646, in get_version\n",
      "    config = get_config().split()\n",
      "AttributeError: 'NoneType' object has no attribute 'split'\n",
      "Exception ignored on calling ctypes callback function: <function _ThreadpoolInfo._find_modules_with_dl_iterate_phdr.<locals>.match_module_callback at 0x7f01b4dbbb80>\n",
      "Traceback (most recent call last):\n",
      "  File \"/home/marcus/anaconda3/lib/python3.9/site-packages/threadpoolctl.py\", line 400, in match_module_callback\n",
      "    self._make_module_from_path(filepath)\n",
      "  File \"/home/marcus/anaconda3/lib/python3.9/site-packages/threadpoolctl.py\", line 515, in _make_module_from_path\n",
      "    module = module_class(filepath, prefix, user_api, internal_api)\n",
      "  File \"/home/marcus/anaconda3/lib/python3.9/site-packages/threadpoolctl.py\", line 606, in __init__\n",
      "    self.version = self.get_version()\n",
      "  File \"/home/marcus/anaconda3/lib/python3.9/site-packages/threadpoolctl.py\", line 646, in get_version\n",
      "    config = get_config().split()\n",
      "AttributeError: 'NoneType' object has no attribute 'split'\n",
      "Exception ignored on calling ctypes callback function: <function _ThreadpoolInfo._find_modules_with_dl_iterate_phdr.<locals>.match_module_callback at 0x7f01b4eb00d0>\n",
      "Traceback (most recent call last):\n",
      "  File \"/home/marcus/anaconda3/lib/python3.9/site-packages/threadpoolctl.py\", line 400, in match_module_callback\n",
      "    self._make_module_from_path(filepath)\n",
      "  File \"/home/marcus/anaconda3/lib/python3.9/site-packages/threadpoolctl.py\", line 515, in _make_module_from_path\n",
      "    module = module_class(filepath, prefix, user_api, internal_api)\n",
      "  File \"/home/marcus/anaconda3/lib/python3.9/site-packages/threadpoolctl.py\", line 606, in __init__\n",
      "    self.version = self.get_version()\n",
      "  File \"/home/marcus/anaconda3/lib/python3.9/site-packages/threadpoolctl.py\", line 646, in get_version\n",
      "    config = get_config().split()\n",
      "AttributeError: 'NoneType' object has no attribute 'split'\n",
      "Exception ignored on calling ctypes callback function: <function _ThreadpoolInfo._find_modules_with_dl_iterate_phdr.<locals>.match_module_callback at 0x7f01b4dbbb80>\n",
      "Traceback (most recent call last):\n",
      "  File \"/home/marcus/anaconda3/lib/python3.9/site-packages/threadpoolctl.py\", line 400, in match_module_callback\n",
      "    self._make_module_from_path(filepath)\n",
      "  File \"/home/marcus/anaconda3/lib/python3.9/site-packages/threadpoolctl.py\", line 515, in _make_module_from_path\n",
      "    module = module_class(filepath, prefix, user_api, internal_api)\n",
      "  File \"/home/marcus/anaconda3/lib/python3.9/site-packages/threadpoolctl.py\", line 606, in __init__\n",
      "    self.version = self.get_version()\n",
      "  File \"/home/marcus/anaconda3/lib/python3.9/site-packages/threadpoolctl.py\", line 646, in get_version\n",
      "    config = get_config().split()\n",
      "AttributeError: 'NoneType' object has no attribute 'split'\n",
      "Exception ignored on calling ctypes callback function: <function _ThreadpoolInfo._find_modules_with_dl_iterate_phdr.<locals>.match_module_callback at 0x7f01b4eb00d0>\n",
      "Traceback (most recent call last):\n",
      "  File \"/home/marcus/anaconda3/lib/python3.9/site-packages/threadpoolctl.py\", line 400, in match_module_callback\n",
      "    self._make_module_from_path(filepath)\n",
      "  File \"/home/marcus/anaconda3/lib/python3.9/site-packages/threadpoolctl.py\", line 515, in _make_module_from_path\n",
      "    module = module_class(filepath, prefix, user_api, internal_api)\n",
      "  File \"/home/marcus/anaconda3/lib/python3.9/site-packages/threadpoolctl.py\", line 606, in __init__\n",
      "    self.version = self.get_version()\n",
      "  File \"/home/marcus/anaconda3/lib/python3.9/site-packages/threadpoolctl.py\", line 646, in get_version\n",
      "    config = get_config().split()\n",
      "AttributeError: 'NoneType' object has no attribute 'split'\n",
      "Exception ignored on calling ctypes callback function: <function _ThreadpoolInfo._find_modules_with_dl_iterate_phdr.<locals>.match_module_callback at 0x7f01b4dbbb80>\n",
      "Traceback (most recent call last):\n",
      "  File \"/home/marcus/anaconda3/lib/python3.9/site-packages/threadpoolctl.py\", line 400, in match_module_callback\n",
      "    self._make_module_from_path(filepath)\n",
      "  File \"/home/marcus/anaconda3/lib/python3.9/site-packages/threadpoolctl.py\", line 515, in _make_module_from_path\n",
      "    module = module_class(filepath, prefix, user_api, internal_api)\n",
      "  File \"/home/marcus/anaconda3/lib/python3.9/site-packages/threadpoolctl.py\", line 606, in __init__\n",
      "    self.version = self.get_version()\n",
      "  File \"/home/marcus/anaconda3/lib/python3.9/site-packages/threadpoolctl.py\", line 646, in get_version\n",
      "    config = get_config().split()\n",
      "AttributeError: 'NoneType' object has no attribute 'split'\n",
      "Exception ignored on calling ctypes callback function: <function _ThreadpoolInfo._find_modules_with_dl_iterate_phdr.<locals>.match_module_callback at 0x7f01b4dbbb80>\n",
      "Traceback (most recent call last):\n",
      "  File \"/home/marcus/anaconda3/lib/python3.9/site-packages/threadpoolctl.py\", line 400, in match_module_callback\n",
      "    self._make_module_from_path(filepath)\n",
      "  File \"/home/marcus/anaconda3/lib/python3.9/site-packages/threadpoolctl.py\", line 515, in _make_module_from_path\n",
      "    module = module_class(filepath, prefix, user_api, internal_api)\n",
      "  File \"/home/marcus/anaconda3/lib/python3.9/site-packages/threadpoolctl.py\", line 606, in __init__\n",
      "    self.version = self.get_version()\n",
      "  File \"/home/marcus/anaconda3/lib/python3.9/site-packages/threadpoolctl.py\", line 646, in get_version\n",
      "    config = get_config().split()\n",
      "AttributeError: 'NoneType' object has no attribute 'split'\n",
      "/home/marcus/anaconda3/lib/python3.9/site-packages/sklearn/utils/validation.py:1858: FutureWarning:\n",
      "\n",
      "Feature names only support names that are all strings. Got feature names with dtypes: ['int', 'str']. An error will be raised in 1.2.\n",
      "\n",
      "Exception ignored on calling ctypes callback function: <function _ThreadpoolInfo._find_modules_with_dl_iterate_phdr.<locals>.match_module_callback at 0x7f01b4eb00d0>\n",
      "Traceback (most recent call last):\n",
      "  File \"/home/marcus/anaconda3/lib/python3.9/site-packages/threadpoolctl.py\", line 400, in match_module_callback\n",
      "    self._make_module_from_path(filepath)\n",
      "  File \"/home/marcus/anaconda3/lib/python3.9/site-packages/threadpoolctl.py\", line 515, in _make_module_from_path\n",
      "    module = module_class(filepath, prefix, user_api, internal_api)\n",
      "  File \"/home/marcus/anaconda3/lib/python3.9/site-packages/threadpoolctl.py\", line 606, in __init__\n",
      "    self.version = self.get_version()\n",
      "  File \"/home/marcus/anaconda3/lib/python3.9/site-packages/threadpoolctl.py\", line 646, in get_version\n",
      "    config = get_config().split()\n",
      "AttributeError: 'NoneType' object has no attribute 'split'\n",
      "Exception ignored on calling ctypes callback function: <function _ThreadpoolInfo._find_modules_with_dl_iterate_phdr.<locals>.match_module_callback at 0x7f01b4dbbb80>\n",
      "Traceback (most recent call last):\n",
      "  File \"/home/marcus/anaconda3/lib/python3.9/site-packages/threadpoolctl.py\", line 400, in match_module_callback\n",
      "    self._make_module_from_path(filepath)\n",
      "  File \"/home/marcus/anaconda3/lib/python3.9/site-packages/threadpoolctl.py\", line 515, in _make_module_from_path\n",
      "    module = module_class(filepath, prefix, user_api, internal_api)\n",
      "  File \"/home/marcus/anaconda3/lib/python3.9/site-packages/threadpoolctl.py\", line 606, in __init__\n",
      "    self.version = self.get_version()\n",
      "  File \"/home/marcus/anaconda3/lib/python3.9/site-packages/threadpoolctl.py\", line 646, in get_version\n",
      "    config = get_config().split()\n",
      "AttributeError: 'NoneType' object has no attribute 'split'\n",
      "Exception ignored on calling ctypes callback function: <function _ThreadpoolInfo._find_modules_with_dl_iterate_phdr.<locals>.match_module_callback at 0x7f01b4eb00d0>\n",
      "Traceback (most recent call last):\n",
      "  File \"/home/marcus/anaconda3/lib/python3.9/site-packages/threadpoolctl.py\", line 400, in match_module_callback\n",
      "    self._make_module_from_path(filepath)\n",
      "  File \"/home/marcus/anaconda3/lib/python3.9/site-packages/threadpoolctl.py\", line 515, in _make_module_from_path\n",
      "    module = module_class(filepath, prefix, user_api, internal_api)\n",
      "  File \"/home/marcus/anaconda3/lib/python3.9/site-packages/threadpoolctl.py\", line 606, in __init__\n",
      "    self.version = self.get_version()\n",
      "  File \"/home/marcus/anaconda3/lib/python3.9/site-packages/threadpoolctl.py\", line 646, in get_version\n",
      "    config = get_config().split()\n",
      "AttributeError: 'NoneType' object has no attribute 'split'\n",
      "Exception ignored on calling ctypes callback function: <function _ThreadpoolInfo._find_modules_with_dl_iterate_phdr.<locals>.match_module_callback at 0x7f01b4dbbb80>\n",
      "Traceback (most recent call last):\n",
      "  File \"/home/marcus/anaconda3/lib/python3.9/site-packages/threadpoolctl.py\", line 400, in match_module_callback\n",
      "    self._make_module_from_path(filepath)\n",
      "  File \"/home/marcus/anaconda3/lib/python3.9/site-packages/threadpoolctl.py\", line 515, in _make_module_from_path\n",
      "    module = module_class(filepath, prefix, user_api, internal_api)\n",
      "  File \"/home/marcus/anaconda3/lib/python3.9/site-packages/threadpoolctl.py\", line 606, in __init__\n",
      "    self.version = self.get_version()\n",
      "  File \"/home/marcus/anaconda3/lib/python3.9/site-packages/threadpoolctl.py\", line 646, in get_version\n",
      "    config = get_config().split()\n",
      "AttributeError: 'NoneType' object has no attribute 'split'\n",
      "Exception ignored on calling ctypes callback function: <function _ThreadpoolInfo._find_modules_with_dl_iterate_phdr.<locals>.match_module_callback at 0x7f01b4eb00d0>\n",
      "Traceback (most recent call last):\n",
      "  File \"/home/marcus/anaconda3/lib/python3.9/site-packages/threadpoolctl.py\", line 400, in match_module_callback\n",
      "    self._make_module_from_path(filepath)\n",
      "  File \"/home/marcus/anaconda3/lib/python3.9/site-packages/threadpoolctl.py\", line 515, in _make_module_from_path\n",
      "    module = module_class(filepath, prefix, user_api, internal_api)\n",
      "  File \"/home/marcus/anaconda3/lib/python3.9/site-packages/threadpoolctl.py\", line 606, in __init__\n",
      "    self.version = self.get_version()\n",
      "  File \"/home/marcus/anaconda3/lib/python3.9/site-packages/threadpoolctl.py\", line 646, in get_version\n",
      "    config = get_config().split()\n",
      "AttributeError: 'NoneType' object has no attribute 'split'\n",
      "Exception ignored on calling ctypes callback function: <function _ThreadpoolInfo._find_modules_with_dl_iterate_phdr.<locals>.match_module_callback at 0x7f01b4dbbb80>\n",
      "Traceback (most recent call last):\n",
      "  File \"/home/marcus/anaconda3/lib/python3.9/site-packages/threadpoolctl.py\", line 400, in match_module_callback\n",
      "    self._make_module_from_path(filepath)\n",
      "  File \"/home/marcus/anaconda3/lib/python3.9/site-packages/threadpoolctl.py\", line 515, in _make_module_from_path\n",
      "    module = module_class(filepath, prefix, user_api, internal_api)\n",
      "  File \"/home/marcus/anaconda3/lib/python3.9/site-packages/threadpoolctl.py\", line 606, in __init__\n",
      "    self.version = self.get_version()\n",
      "  File \"/home/marcus/anaconda3/lib/python3.9/site-packages/threadpoolctl.py\", line 646, in get_version\n",
      "    config = get_config().split()\n",
      "AttributeError: 'NoneType' object has no attribute 'split'\n",
      "Exception ignored on calling ctypes callback function: <function _ThreadpoolInfo._find_modules_with_dl_iterate_phdr.<locals>.match_module_callback at 0x7f01b4eb00d0>\n",
      "Traceback (most recent call last):\n",
      "  File \"/home/marcus/anaconda3/lib/python3.9/site-packages/threadpoolctl.py\", line 400, in match_module_callback\n",
      "    self._make_module_from_path(filepath)\n",
      "  File \"/home/marcus/anaconda3/lib/python3.9/site-packages/threadpoolctl.py\", line 515, in _make_module_from_path\n",
      "    module = module_class(filepath, prefix, user_api, internal_api)\n",
      "  File \"/home/marcus/anaconda3/lib/python3.9/site-packages/threadpoolctl.py\", line 606, in __init__\n",
      "    self.version = self.get_version()\n",
      "  File \"/home/marcus/anaconda3/lib/python3.9/site-packages/threadpoolctl.py\", line 646, in get_version\n",
      "    config = get_config().split()\n",
      "AttributeError: 'NoneType' object has no attribute 'split'\n",
      "Exception ignored on calling ctypes callback function: <function _ThreadpoolInfo._find_modules_with_dl_iterate_phdr.<locals>.match_module_callback at 0x7f01b4dbbb80>\n",
      "Traceback (most recent call last):\n",
      "  File \"/home/marcus/anaconda3/lib/python3.9/site-packages/threadpoolctl.py\", line 400, in match_module_callback\n",
      "    self._make_module_from_path(filepath)\n",
      "  File \"/home/marcus/anaconda3/lib/python3.9/site-packages/threadpoolctl.py\", line 515, in _make_module_from_path\n",
      "    module = module_class(filepath, prefix, user_api, internal_api)\n",
      "  File \"/home/marcus/anaconda3/lib/python3.9/site-packages/threadpoolctl.py\", line 606, in __init__\n",
      "    self.version = self.get_version()\n",
      "  File \"/home/marcus/anaconda3/lib/python3.9/site-packages/threadpoolctl.py\", line 646, in get_version\n",
      "    config = get_config().split()\n",
      "AttributeError: 'NoneType' object has no attribute 'split'\n",
      "Exception ignored on calling ctypes callback function: <function _ThreadpoolInfo._find_modules_with_dl_iterate_phdr.<locals>.match_module_callback at 0x7f01b4eb00d0>\n",
      "Traceback (most recent call last):\n",
      "  File \"/home/marcus/anaconda3/lib/python3.9/site-packages/threadpoolctl.py\", line 400, in match_module_callback\n",
      "    self._make_module_from_path(filepath)\n",
      "  File \"/home/marcus/anaconda3/lib/python3.9/site-packages/threadpoolctl.py\", line 515, in _make_module_from_path\n",
      "    module = module_class(filepath, prefix, user_api, internal_api)\n",
      "  File \"/home/marcus/anaconda3/lib/python3.9/site-packages/threadpoolctl.py\", line 606, in __init__\n",
      "    self.version = self.get_version()\n",
      "  File \"/home/marcus/anaconda3/lib/python3.9/site-packages/threadpoolctl.py\", line 646, in get_version\n",
      "    config = get_config().split()\n",
      "AttributeError: 'NoneType' object has no attribute 'split'\n",
      "Exception ignored on calling ctypes callback function: <function _ThreadpoolInfo._find_modules_with_dl_iterate_phdr.<locals>.match_module_callback at 0x7f01b4dbbb80>\n",
      "Traceback (most recent call last):\n",
      "  File \"/home/marcus/anaconda3/lib/python3.9/site-packages/threadpoolctl.py\", line 400, in match_module_callback\n",
      "    self._make_module_from_path(filepath)\n",
      "  File \"/home/marcus/anaconda3/lib/python3.9/site-packages/threadpoolctl.py\", line 515, in _make_module_from_path\n",
      "    module = module_class(filepath, prefix, user_api, internal_api)\n",
      "  File \"/home/marcus/anaconda3/lib/python3.9/site-packages/threadpoolctl.py\", line 606, in __init__\n",
      "    self.version = self.get_version()\n",
      "  File \"/home/marcus/anaconda3/lib/python3.9/site-packages/threadpoolctl.py\", line 646, in get_version\n",
      "    config = get_config().split()\n",
      "AttributeError: 'NoneType' object has no attribute 'split'\n",
      "/home/marcus/anaconda3/lib/python3.9/site-packages/sklearn/utils/validation.py:1858: FutureWarning:\n",
      "\n",
      "Feature names only support names that are all strings. Got feature names with dtypes: ['int', 'str']. An error will be raised in 1.2.\n",
      "\n",
      "Exception ignored on calling ctypes callback function: <function _ThreadpoolInfo._find_modules_with_dl_iterate_phdr.<locals>.match_module_callback at 0x7f01b4eb00d0>\n",
      "Traceback (most recent call last):\n",
      "  File \"/home/marcus/anaconda3/lib/python3.9/site-packages/threadpoolctl.py\", line 400, in match_module_callback\n",
      "    self._make_module_from_path(filepath)\n",
      "  File \"/home/marcus/anaconda3/lib/python3.9/site-packages/threadpoolctl.py\", line 515, in _make_module_from_path\n",
      "    module = module_class(filepath, prefix, user_api, internal_api)\n",
      "  File \"/home/marcus/anaconda3/lib/python3.9/site-packages/threadpoolctl.py\", line 606, in __init__\n",
      "    self.version = self.get_version()\n",
      "  File \"/home/marcus/anaconda3/lib/python3.9/site-packages/threadpoolctl.py\", line 646, in get_version\n",
      "    config = get_config().split()\n",
      "AttributeError: 'NoneType' object has no attribute 'split'\n",
      "Exception ignored on calling ctypes callback function: <function _ThreadpoolInfo._find_modules_with_dl_iterate_phdr.<locals>.match_module_callback at 0x7f01b4dbbb80>\n",
      "Traceback (most recent call last):\n",
      "  File \"/home/marcus/anaconda3/lib/python3.9/site-packages/threadpoolctl.py\", line 400, in match_module_callback\n",
      "    self._make_module_from_path(filepath)\n",
      "  File \"/home/marcus/anaconda3/lib/python3.9/site-packages/threadpoolctl.py\", line 515, in _make_module_from_path\n",
      "    module = module_class(filepath, prefix, user_api, internal_api)\n",
      "  File \"/home/marcus/anaconda3/lib/python3.9/site-packages/threadpoolctl.py\", line 606, in __init__\n",
      "    self.version = self.get_version()\n",
      "  File \"/home/marcus/anaconda3/lib/python3.9/site-packages/threadpoolctl.py\", line 646, in get_version\n",
      "    config = get_config().split()\n",
      "AttributeError: 'NoneType' object has no attribute 'split'\n",
      "Exception ignored on calling ctypes callback function: <function _ThreadpoolInfo._find_modules_with_dl_iterate_phdr.<locals>.match_module_callback at 0x7f01b4eb00d0>\n",
      "Traceback (most recent call last):\n",
      "  File \"/home/marcus/anaconda3/lib/python3.9/site-packages/threadpoolctl.py\", line 400, in match_module_callback\n",
      "    self._make_module_from_path(filepath)\n",
      "  File \"/home/marcus/anaconda3/lib/python3.9/site-packages/threadpoolctl.py\", line 515, in _make_module_from_path\n",
      "    module = module_class(filepath, prefix, user_api, internal_api)\n",
      "  File \"/home/marcus/anaconda3/lib/python3.9/site-packages/threadpoolctl.py\", line 606, in __init__\n",
      "    self.version = self.get_version()\n",
      "  File \"/home/marcus/anaconda3/lib/python3.9/site-packages/threadpoolctl.py\", line 646, in get_version\n",
      "    config = get_config().split()\n",
      "AttributeError: 'NoneType' object has no attribute 'split'\n",
      "Exception ignored on calling ctypes callback function: <function _ThreadpoolInfo._find_modules_with_dl_iterate_phdr.<locals>.match_module_callback at 0x7f01b4dbbb80>\n",
      "Traceback (most recent call last):\n",
      "  File \"/home/marcus/anaconda3/lib/python3.9/site-packages/threadpoolctl.py\", line 400, in match_module_callback\n",
      "    self._make_module_from_path(filepath)\n",
      "  File \"/home/marcus/anaconda3/lib/python3.9/site-packages/threadpoolctl.py\", line 515, in _make_module_from_path\n",
      "    module = module_class(filepath, prefix, user_api, internal_api)\n",
      "  File \"/home/marcus/anaconda3/lib/python3.9/site-packages/threadpoolctl.py\", line 606, in __init__\n",
      "    self.version = self.get_version()\n",
      "  File \"/home/marcus/anaconda3/lib/python3.9/site-packages/threadpoolctl.py\", line 646, in get_version\n",
      "    config = get_config().split()\n",
      "AttributeError: 'NoneType' object has no attribute 'split'\n",
      "Exception ignored on calling ctypes callback function: <function _ThreadpoolInfo._find_modules_with_dl_iterate_phdr.<locals>.match_module_callback at 0x7f01b4eb00d0>\n",
      "Traceback (most recent call last):\n",
      "  File \"/home/marcus/anaconda3/lib/python3.9/site-packages/threadpoolctl.py\", line 400, in match_module_callback\n",
      "    self._make_module_from_path(filepath)\n",
      "  File \"/home/marcus/anaconda3/lib/python3.9/site-packages/threadpoolctl.py\", line 515, in _make_module_from_path\n",
      "    module = module_class(filepath, prefix, user_api, internal_api)\n",
      "  File \"/home/marcus/anaconda3/lib/python3.9/site-packages/threadpoolctl.py\", line 606, in __init__\n",
      "    self.version = self.get_version()\n",
      "  File \"/home/marcus/anaconda3/lib/python3.9/site-packages/threadpoolctl.py\", line 646, in get_version\n",
      "    config = get_config().split()\n",
      "AttributeError: 'NoneType' object has no attribute 'split'\n",
      "Exception ignored on calling ctypes callback function: <function _ThreadpoolInfo._find_modules_with_dl_iterate_phdr.<locals>.match_module_callback at 0x7f01b4dbbb80>\n",
      "Traceback (most recent call last):\n",
      "  File \"/home/marcus/anaconda3/lib/python3.9/site-packages/threadpoolctl.py\", line 400, in match_module_callback\n",
      "    self._make_module_from_path(filepath)\n",
      "  File \"/home/marcus/anaconda3/lib/python3.9/site-packages/threadpoolctl.py\", line 515, in _make_module_from_path\n",
      "    module = module_class(filepath, prefix, user_api, internal_api)\n",
      "  File \"/home/marcus/anaconda3/lib/python3.9/site-packages/threadpoolctl.py\", line 606, in __init__\n",
      "    self.version = self.get_version()\n",
      "  File \"/home/marcus/anaconda3/lib/python3.9/site-packages/threadpoolctl.py\", line 646, in get_version\n",
      "    config = get_config().split()\n",
      "AttributeError: 'NoneType' object has no attribute 'split'\n",
      "Exception ignored on calling ctypes callback function: <function _ThreadpoolInfo._find_modules_with_dl_iterate_phdr.<locals>.match_module_callback at 0x7f01b4eb00d0>\n",
      "Traceback (most recent call last):\n",
      "  File \"/home/marcus/anaconda3/lib/python3.9/site-packages/threadpoolctl.py\", line 400, in match_module_callback\n",
      "    self._make_module_from_path(filepath)\n",
      "  File \"/home/marcus/anaconda3/lib/python3.9/site-packages/threadpoolctl.py\", line 515, in _make_module_from_path\n",
      "    module = module_class(filepath, prefix, user_api, internal_api)\n",
      "  File \"/home/marcus/anaconda3/lib/python3.9/site-packages/threadpoolctl.py\", line 606, in __init__\n",
      "    self.version = self.get_version()\n",
      "  File \"/home/marcus/anaconda3/lib/python3.9/site-packages/threadpoolctl.py\", line 646, in get_version\n",
      "    config = get_config().split()\n",
      "AttributeError: 'NoneType' object has no attribute 'split'\n",
      "Exception ignored on calling ctypes callback function: <function _ThreadpoolInfo._find_modules_with_dl_iterate_phdr.<locals>.match_module_callback at 0x7f01b4dbbb80>\n",
      "Traceback (most recent call last):\n",
      "  File \"/home/marcus/anaconda3/lib/python3.9/site-packages/threadpoolctl.py\", line 400, in match_module_callback\n",
      "    self._make_module_from_path(filepath)\n",
      "  File \"/home/marcus/anaconda3/lib/python3.9/site-packages/threadpoolctl.py\", line 515, in _make_module_from_path\n",
      "    module = module_class(filepath, prefix, user_api, internal_api)\n",
      "  File \"/home/marcus/anaconda3/lib/python3.9/site-packages/threadpoolctl.py\", line 606, in __init__\n",
      "    self.version = self.get_version()\n",
      "  File \"/home/marcus/anaconda3/lib/python3.9/site-packages/threadpoolctl.py\", line 646, in get_version\n",
      "    config = get_config().split()\n",
      "AttributeError: 'NoneType' object has no attribute 'split'\n",
      "Exception ignored on calling ctypes callback function: <function _ThreadpoolInfo._find_modules_with_dl_iterate_phdr.<locals>.match_module_callback at 0x7f01b4eb00d0>\n",
      "Traceback (most recent call last):\n",
      "  File \"/home/marcus/anaconda3/lib/python3.9/site-packages/threadpoolctl.py\", line 400, in match_module_callback\n",
      "    self._make_module_from_path(filepath)\n",
      "  File \"/home/marcus/anaconda3/lib/python3.9/site-packages/threadpoolctl.py\", line 515, in _make_module_from_path\n",
      "    module = module_class(filepath, prefix, user_api, internal_api)\n",
      "  File \"/home/marcus/anaconda3/lib/python3.9/site-packages/threadpoolctl.py\", line 606, in __init__\n",
      "    self.version = self.get_version()\n",
      "  File \"/home/marcus/anaconda3/lib/python3.9/site-packages/threadpoolctl.py\", line 646, in get_version\n",
      "    config = get_config().split()\n",
      "AttributeError: 'NoneType' object has no attribute 'split'\n",
      "Exception ignored on calling ctypes callback function: <function _ThreadpoolInfo._find_modules_with_dl_iterate_phdr.<locals>.match_module_callback at 0x7f01b4dbbb80>\n",
      "Traceback (most recent call last):\n",
      "  File \"/home/marcus/anaconda3/lib/python3.9/site-packages/threadpoolctl.py\", line 400, in match_module_callback\n",
      "    self._make_module_from_path(filepath)\n",
      "  File \"/home/marcus/anaconda3/lib/python3.9/site-packages/threadpoolctl.py\", line 515, in _make_module_from_path\n",
      "    module = module_class(filepath, prefix, user_api, internal_api)\n",
      "  File \"/home/marcus/anaconda3/lib/python3.9/site-packages/threadpoolctl.py\", line 606, in __init__\n",
      "    self.version = self.get_version()\n",
      "  File \"/home/marcus/anaconda3/lib/python3.9/site-packages/threadpoolctl.py\", line 646, in get_version\n",
      "    config = get_config().split()\n",
      "AttributeError: 'NoneType' object has no attribute 'split'\n",
      "/home/marcus/anaconda3/lib/python3.9/site-packages/sklearn/utils/validation.py:1858: FutureWarning:\n",
      "\n",
      "Feature names only support names that are all strings. Got feature names with dtypes: ['int', 'str']. An error will be raised in 1.2.\n",
      "\n",
      "Exception ignored on calling ctypes callback function: <function _ThreadpoolInfo._find_modules_with_dl_iterate_phdr.<locals>.match_module_callback at 0x7f01b4eb00d0>\n",
      "Traceback (most recent call last):\n",
      "  File \"/home/marcus/anaconda3/lib/python3.9/site-packages/threadpoolctl.py\", line 400, in match_module_callback\n",
      "    self._make_module_from_path(filepath)\n",
      "  File \"/home/marcus/anaconda3/lib/python3.9/site-packages/threadpoolctl.py\", line 515, in _make_module_from_path\n",
      "    module = module_class(filepath, prefix, user_api, internal_api)\n",
      "  File \"/home/marcus/anaconda3/lib/python3.9/site-packages/threadpoolctl.py\", line 606, in __init__\n",
      "    self.version = self.get_version()\n",
      "  File \"/home/marcus/anaconda3/lib/python3.9/site-packages/threadpoolctl.py\", line 646, in get_version\n",
      "    config = get_config().split()\n",
      "AttributeError: 'NoneType' object has no attribute 'split'\n",
      "Exception ignored on calling ctypes callback function: <function _ThreadpoolInfo._find_modules_with_dl_iterate_phdr.<locals>.match_module_callback at 0x7f01b4dbbb80>\n",
      "Traceback (most recent call last):\n",
      "  File \"/home/marcus/anaconda3/lib/python3.9/site-packages/threadpoolctl.py\", line 400, in match_module_callback\n",
      "    self._make_module_from_path(filepath)\n",
      "  File \"/home/marcus/anaconda3/lib/python3.9/site-packages/threadpoolctl.py\", line 515, in _make_module_from_path\n",
      "    module = module_class(filepath, prefix, user_api, internal_api)\n",
      "  File \"/home/marcus/anaconda3/lib/python3.9/site-packages/threadpoolctl.py\", line 606, in __init__\n",
      "    self.version = self.get_version()\n",
      "  File \"/home/marcus/anaconda3/lib/python3.9/site-packages/threadpoolctl.py\", line 646, in get_version\n",
      "    config = get_config().split()\n",
      "AttributeError: 'NoneType' object has no attribute 'split'\n",
      "Exception ignored on calling ctypes callback function: <function _ThreadpoolInfo._find_modules_with_dl_iterate_phdr.<locals>.match_module_callback at 0x7f01b4eb00d0>\n",
      "Traceback (most recent call last):\n",
      "  File \"/home/marcus/anaconda3/lib/python3.9/site-packages/threadpoolctl.py\", line 400, in match_module_callback\n",
      "    self._make_module_from_path(filepath)\n",
      "  File \"/home/marcus/anaconda3/lib/python3.9/site-packages/threadpoolctl.py\", line 515, in _make_module_from_path\n",
      "    module = module_class(filepath, prefix, user_api, internal_api)\n",
      "  File \"/home/marcus/anaconda3/lib/python3.9/site-packages/threadpoolctl.py\", line 606, in __init__\n",
      "    self.version = self.get_version()\n",
      "  File \"/home/marcus/anaconda3/lib/python3.9/site-packages/threadpoolctl.py\", line 646, in get_version\n",
      "    config = get_config().split()\n",
      "AttributeError: 'NoneType' object has no attribute 'split'\n",
      "Exception ignored on calling ctypes callback function: <function _ThreadpoolInfo._find_modules_with_dl_iterate_phdr.<locals>.match_module_callback at 0x7f01b4dbbb80>\n",
      "Traceback (most recent call last):\n",
      "  File \"/home/marcus/anaconda3/lib/python3.9/site-packages/threadpoolctl.py\", line 400, in match_module_callback\n",
      "    self._make_module_from_path(filepath)\n",
      "  File \"/home/marcus/anaconda3/lib/python3.9/site-packages/threadpoolctl.py\", line 515, in _make_module_from_path\n",
      "    module = module_class(filepath, prefix, user_api, internal_api)\n",
      "  File \"/home/marcus/anaconda3/lib/python3.9/site-packages/threadpoolctl.py\", line 606, in __init__\n",
      "    self.version = self.get_version()\n",
      "  File \"/home/marcus/anaconda3/lib/python3.9/site-packages/threadpoolctl.py\", line 646, in get_version\n",
      "    config = get_config().split()\n",
      "AttributeError: 'NoneType' object has no attribute 'split'\n",
      "Exception ignored on calling ctypes callback function: <function _ThreadpoolInfo._find_modules_with_dl_iterate_phdr.<locals>.match_module_callback at 0x7f01b4eb00d0>\n",
      "Traceback (most recent call last):\n",
      "  File \"/home/marcus/anaconda3/lib/python3.9/site-packages/threadpoolctl.py\", line 400, in match_module_callback\n",
      "    self._make_module_from_path(filepath)\n",
      "  File \"/home/marcus/anaconda3/lib/python3.9/site-packages/threadpoolctl.py\", line 515, in _make_module_from_path\n",
      "    module = module_class(filepath, prefix, user_api, internal_api)\n",
      "  File \"/home/marcus/anaconda3/lib/python3.9/site-packages/threadpoolctl.py\", line 606, in __init__\n",
      "    self.version = self.get_version()\n",
      "  File \"/home/marcus/anaconda3/lib/python3.9/site-packages/threadpoolctl.py\", line 646, in get_version\n",
      "    config = get_config().split()\n",
      "AttributeError: 'NoneType' object has no attribute 'split'\n",
      "Exception ignored on calling ctypes callback function: <function _ThreadpoolInfo._find_modules_with_dl_iterate_phdr.<locals>.match_module_callback at 0x7f01b4dbbb80>\n",
      "Traceback (most recent call last):\n",
      "  File \"/home/marcus/anaconda3/lib/python3.9/site-packages/threadpoolctl.py\", line 400, in match_module_callback\n",
      "    self._make_module_from_path(filepath)\n",
      "  File \"/home/marcus/anaconda3/lib/python3.9/site-packages/threadpoolctl.py\", line 515, in _make_module_from_path\n",
      "    module = module_class(filepath, prefix, user_api, internal_api)\n",
      "  File \"/home/marcus/anaconda3/lib/python3.9/site-packages/threadpoolctl.py\", line 606, in __init__\n",
      "    self.version = self.get_version()\n",
      "  File \"/home/marcus/anaconda3/lib/python3.9/site-packages/threadpoolctl.py\", line 646, in get_version\n",
      "    config = get_config().split()\n",
      "AttributeError: 'NoneType' object has no attribute 'split'\n",
      "Exception ignored on calling ctypes callback function: <function _ThreadpoolInfo._find_modules_with_dl_iterate_phdr.<locals>.match_module_callback at 0x7f01b4eb00d0>\n",
      "Traceback (most recent call last):\n",
      "  File \"/home/marcus/anaconda3/lib/python3.9/site-packages/threadpoolctl.py\", line 400, in match_module_callback\n",
      "    self._make_module_from_path(filepath)\n",
      "  File \"/home/marcus/anaconda3/lib/python3.9/site-packages/threadpoolctl.py\", line 515, in _make_module_from_path\n",
      "    module = module_class(filepath, prefix, user_api, internal_api)\n",
      "  File \"/home/marcus/anaconda3/lib/python3.9/site-packages/threadpoolctl.py\", line 606, in __init__\n",
      "    self.version = self.get_version()\n",
      "  File \"/home/marcus/anaconda3/lib/python3.9/site-packages/threadpoolctl.py\", line 646, in get_version\n",
      "    config = get_config().split()\n",
      "AttributeError: 'NoneType' object has no attribute 'split'\n",
      "Exception ignored on calling ctypes callback function: <function _ThreadpoolInfo._find_modules_with_dl_iterate_phdr.<locals>.match_module_callback at 0x7f01b4dbbb80>\n",
      "Traceback (most recent call last):\n",
      "  File \"/home/marcus/anaconda3/lib/python3.9/site-packages/threadpoolctl.py\", line 400, in match_module_callback\n",
      "    self._make_module_from_path(filepath)\n",
      "  File \"/home/marcus/anaconda3/lib/python3.9/site-packages/threadpoolctl.py\", line 515, in _make_module_from_path\n",
      "    module = module_class(filepath, prefix, user_api, internal_api)\n",
      "  File \"/home/marcus/anaconda3/lib/python3.9/site-packages/threadpoolctl.py\", line 606, in __init__\n",
      "    self.version = self.get_version()\n",
      "  File \"/home/marcus/anaconda3/lib/python3.9/site-packages/threadpoolctl.py\", line 646, in get_version\n",
      "    config = get_config().split()\n",
      "AttributeError: 'NoneType' object has no attribute 'split'\n",
      "Exception ignored on calling ctypes callback function: <function _ThreadpoolInfo._find_modules_with_dl_iterate_phdr.<locals>.match_module_callback at 0x7f01b4eb00d0>\n",
      "Traceback (most recent call last):\n",
      "  File \"/home/marcus/anaconda3/lib/python3.9/site-packages/threadpoolctl.py\", line 400, in match_module_callback\n",
      "    self._make_module_from_path(filepath)\n",
      "  File \"/home/marcus/anaconda3/lib/python3.9/site-packages/threadpoolctl.py\", line 515, in _make_module_from_path\n",
      "    module = module_class(filepath, prefix, user_api, internal_api)\n",
      "  File \"/home/marcus/anaconda3/lib/python3.9/site-packages/threadpoolctl.py\", line 606, in __init__\n",
      "    self.version = self.get_version()\n",
      "  File \"/home/marcus/anaconda3/lib/python3.9/site-packages/threadpoolctl.py\", line 646, in get_version\n",
      "    config = get_config().split()\n",
      "AttributeError: 'NoneType' object has no attribute 'split'\n",
      "Exception ignored on calling ctypes callback function: <function _ThreadpoolInfo._find_modules_with_dl_iterate_phdr.<locals>.match_module_callback at 0x7f01b4dbbb80>\n",
      "Traceback (most recent call last):\n",
      "  File \"/home/marcus/anaconda3/lib/python3.9/site-packages/threadpoolctl.py\", line 400, in match_module_callback\n",
      "    self._make_module_from_path(filepath)\n",
      "  File \"/home/marcus/anaconda3/lib/python3.9/site-packages/threadpoolctl.py\", line 515, in _make_module_from_path\n",
      "    module = module_class(filepath, prefix, user_api, internal_api)\n",
      "  File \"/home/marcus/anaconda3/lib/python3.9/site-packages/threadpoolctl.py\", line 606, in __init__\n",
      "    self.version = self.get_version()\n",
      "  File \"/home/marcus/anaconda3/lib/python3.9/site-packages/threadpoolctl.py\", line 646, in get_version\n",
      "    config = get_config().split()\n",
      "AttributeError: 'NoneType' object has no attribute 'split'\n",
      "/home/marcus/anaconda3/lib/python3.9/site-packages/sklearn/utils/validation.py:1858: FutureWarning:\n",
      "\n",
      "Feature names only support names that are all strings. Got feature names with dtypes: ['int', 'str']. An error will be raised in 1.2.\n",
      "\n",
      "Exception ignored on calling ctypes callback function: <function _ThreadpoolInfo._find_modules_with_dl_iterate_phdr.<locals>.match_module_callback at 0x7f01b4dbbb80>\n",
      "Traceback (most recent call last):\n",
      "  File \"/home/marcus/anaconda3/lib/python3.9/site-packages/threadpoolctl.py\", line 400, in match_module_callback\n",
      "    self._make_module_from_path(filepath)\n",
      "  File \"/home/marcus/anaconda3/lib/python3.9/site-packages/threadpoolctl.py\", line 515, in _make_module_from_path\n",
      "    module = module_class(filepath, prefix, user_api, internal_api)\n",
      "  File \"/home/marcus/anaconda3/lib/python3.9/site-packages/threadpoolctl.py\", line 606, in __init__\n",
      "    self.version = self.get_version()\n",
      "  File \"/home/marcus/anaconda3/lib/python3.9/site-packages/threadpoolctl.py\", line 646, in get_version\n",
      "    config = get_config().split()\n",
      "AttributeError: 'NoneType' object has no attribute 'split'\n",
      "Exception ignored on calling ctypes callback function: <function _ThreadpoolInfo._find_modules_with_dl_iterate_phdr.<locals>.match_module_callback at 0x7f01b4eb00d0>\n",
      "Traceback (most recent call last):\n",
      "  File \"/home/marcus/anaconda3/lib/python3.9/site-packages/threadpoolctl.py\", line 400, in match_module_callback\n",
      "    self._make_module_from_path(filepath)\n",
      "  File \"/home/marcus/anaconda3/lib/python3.9/site-packages/threadpoolctl.py\", line 515, in _make_module_from_path\n",
      "    module = module_class(filepath, prefix, user_api, internal_api)\n",
      "  File \"/home/marcus/anaconda3/lib/python3.9/site-packages/threadpoolctl.py\", line 606, in __init__\n",
      "    self.version = self.get_version()\n",
      "  File \"/home/marcus/anaconda3/lib/python3.9/site-packages/threadpoolctl.py\", line 646, in get_version\n",
      "    config = get_config().split()\n",
      "AttributeError: 'NoneType' object has no attribute 'split'\n",
      "Exception ignored on calling ctypes callback function: <function _ThreadpoolInfo._find_modules_with_dl_iterate_phdr.<locals>.match_module_callback at 0x7f01b4dbbb80>\n",
      "Traceback (most recent call last):\n",
      "  File \"/home/marcus/anaconda3/lib/python3.9/site-packages/threadpoolctl.py\", line 400, in match_module_callback\n",
      "    self._make_module_from_path(filepath)\n",
      "  File \"/home/marcus/anaconda3/lib/python3.9/site-packages/threadpoolctl.py\", line 515, in _make_module_from_path\n",
      "    module = module_class(filepath, prefix, user_api, internal_api)\n",
      "  File \"/home/marcus/anaconda3/lib/python3.9/site-packages/threadpoolctl.py\", line 606, in __init__\n",
      "    self.version = self.get_version()\n",
      "  File \"/home/marcus/anaconda3/lib/python3.9/site-packages/threadpoolctl.py\", line 646, in get_version\n",
      "    config = get_config().split()\n",
      "AttributeError: 'NoneType' object has no attribute 'split'\n",
      "Exception ignored on calling ctypes callback function: <function _ThreadpoolInfo._find_modules_with_dl_iterate_phdr.<locals>.match_module_callback at 0x7f01b4eb00d0>\n",
      "Traceback (most recent call last):\n",
      "  File \"/home/marcus/anaconda3/lib/python3.9/site-packages/threadpoolctl.py\", line 400, in match_module_callback\n",
      "    self._make_module_from_path(filepath)\n",
      "  File \"/home/marcus/anaconda3/lib/python3.9/site-packages/threadpoolctl.py\", line 515, in _make_module_from_path\n",
      "    module = module_class(filepath, prefix, user_api, internal_api)\n",
      "  File \"/home/marcus/anaconda3/lib/python3.9/site-packages/threadpoolctl.py\", line 606, in __init__\n",
      "    self.version = self.get_version()\n",
      "  File \"/home/marcus/anaconda3/lib/python3.9/site-packages/threadpoolctl.py\", line 646, in get_version\n",
      "    config = get_config().split()\n",
      "AttributeError: 'NoneType' object has no attribute 'split'\n",
      "Exception ignored on calling ctypes callback function: <function _ThreadpoolInfo._find_modules_with_dl_iterate_phdr.<locals>.match_module_callback at 0x7f01b4dbbb80>\n",
      "Traceback (most recent call last):\n",
      "  File \"/home/marcus/anaconda3/lib/python3.9/site-packages/threadpoolctl.py\", line 400, in match_module_callback\n",
      "    self._make_module_from_path(filepath)\n",
      "  File \"/home/marcus/anaconda3/lib/python3.9/site-packages/threadpoolctl.py\", line 515, in _make_module_from_path\n",
      "    module = module_class(filepath, prefix, user_api, internal_api)\n",
      "  File \"/home/marcus/anaconda3/lib/python3.9/site-packages/threadpoolctl.py\", line 606, in __init__\n",
      "    self.version = self.get_version()\n",
      "  File \"/home/marcus/anaconda3/lib/python3.9/site-packages/threadpoolctl.py\", line 646, in get_version\n",
      "    config = get_config().split()\n",
      "AttributeError: 'NoneType' object has no attribute 'split'\n",
      "Exception ignored on calling ctypes callback function: <function _ThreadpoolInfo._find_modules_with_dl_iterate_phdr.<locals>.match_module_callback at 0x7f01b4eb00d0>\n",
      "Traceback (most recent call last):\n",
      "  File \"/home/marcus/anaconda3/lib/python3.9/site-packages/threadpoolctl.py\", line 400, in match_module_callback\n",
      "    self._make_module_from_path(filepath)\n",
      "  File \"/home/marcus/anaconda3/lib/python3.9/site-packages/threadpoolctl.py\", line 515, in _make_module_from_path\n",
      "    module = module_class(filepath, prefix, user_api, internal_api)\n",
      "  File \"/home/marcus/anaconda3/lib/python3.9/site-packages/threadpoolctl.py\", line 606, in __init__\n",
      "    self.version = self.get_version()\n",
      "  File \"/home/marcus/anaconda3/lib/python3.9/site-packages/threadpoolctl.py\", line 646, in get_version\n",
      "    config = get_config().split()\n",
      "AttributeError: 'NoneType' object has no attribute 'split'\n",
      "Exception ignored on calling ctypes callback function: <function _ThreadpoolInfo._find_modules_with_dl_iterate_phdr.<locals>.match_module_callback at 0x7f01b4dbbb80>\n",
      "Traceback (most recent call last):\n",
      "  File \"/home/marcus/anaconda3/lib/python3.9/site-packages/threadpoolctl.py\", line 400, in match_module_callback\n",
      "    self._make_module_from_path(filepath)\n",
      "  File \"/home/marcus/anaconda3/lib/python3.9/site-packages/threadpoolctl.py\", line 515, in _make_module_from_path\n",
      "    module = module_class(filepath, prefix, user_api, internal_api)\n",
      "  File \"/home/marcus/anaconda3/lib/python3.9/site-packages/threadpoolctl.py\", line 606, in __init__\n",
      "    self.version = self.get_version()\n",
      "  File \"/home/marcus/anaconda3/lib/python3.9/site-packages/threadpoolctl.py\", line 646, in get_version\n",
      "    config = get_config().split()\n",
      "AttributeError: 'NoneType' object has no attribute 'split'\n",
      "Exception ignored on calling ctypes callback function: <function _ThreadpoolInfo._find_modules_with_dl_iterate_phdr.<locals>.match_module_callback at 0x7f01b4eb00d0>\n",
      "Traceback (most recent call last):\n",
      "  File \"/home/marcus/anaconda3/lib/python3.9/site-packages/threadpoolctl.py\", line 400, in match_module_callback\n",
      "    self._make_module_from_path(filepath)\n",
      "  File \"/home/marcus/anaconda3/lib/python3.9/site-packages/threadpoolctl.py\", line 515, in _make_module_from_path\n",
      "    module = module_class(filepath, prefix, user_api, internal_api)\n",
      "  File \"/home/marcus/anaconda3/lib/python3.9/site-packages/threadpoolctl.py\", line 606, in __init__\n",
      "    self.version = self.get_version()\n",
      "  File \"/home/marcus/anaconda3/lib/python3.9/site-packages/threadpoolctl.py\", line 646, in get_version\n",
      "    config = get_config().split()\n",
      "AttributeError: 'NoneType' object has no attribute 'split'\n",
      "Exception ignored on calling ctypes callback function: <function _ThreadpoolInfo._find_modules_with_dl_iterate_phdr.<locals>.match_module_callback at 0x7f01b4dbbb80>\n",
      "Traceback (most recent call last):\n",
      "  File \"/home/marcus/anaconda3/lib/python3.9/site-packages/threadpoolctl.py\", line 400, in match_module_callback\n",
      "    self._make_module_from_path(filepath)\n",
      "  File \"/home/marcus/anaconda3/lib/python3.9/site-packages/threadpoolctl.py\", line 515, in _make_module_from_path\n",
      "    module = module_class(filepath, prefix, user_api, internal_api)\n",
      "  File \"/home/marcus/anaconda3/lib/python3.9/site-packages/threadpoolctl.py\", line 606, in __init__\n",
      "    self.version = self.get_version()\n",
      "  File \"/home/marcus/anaconda3/lib/python3.9/site-packages/threadpoolctl.py\", line 646, in get_version\n",
      "    config = get_config().split()\n",
      "AttributeError: 'NoneType' object has no attribute 'split'\n",
      "Exception ignored on calling ctypes callback function: <function _ThreadpoolInfo._find_modules_with_dl_iterate_phdr.<locals>.match_module_callback at 0x7f01b4eb00d0>\n",
      "Traceback (most recent call last):\n",
      "  File \"/home/marcus/anaconda3/lib/python3.9/site-packages/threadpoolctl.py\", line 400, in match_module_callback\n",
      "    self._make_module_from_path(filepath)\n",
      "  File \"/home/marcus/anaconda3/lib/python3.9/site-packages/threadpoolctl.py\", line 515, in _make_module_from_path\n",
      "    module = module_class(filepath, prefix, user_api, internal_api)\n",
      "  File \"/home/marcus/anaconda3/lib/python3.9/site-packages/threadpoolctl.py\", line 606, in __init__\n",
      "    self.version = self.get_version()\n",
      "  File \"/home/marcus/anaconda3/lib/python3.9/site-packages/threadpoolctl.py\", line 646, in get_version\n",
      "    config = get_config().split()\n",
      "AttributeError: 'NoneType' object has no attribute 'split'\n",
      "/home/marcus/anaconda3/lib/python3.9/site-packages/sklearn/utils/validation.py:1858: FutureWarning:\n",
      "\n",
      "Feature names only support names that are all strings. Got feature names with dtypes: ['int', 'str']. An error will be raised in 1.2.\n",
      "\n",
      "Exception ignored on calling ctypes callback function: <function _ThreadpoolInfo._find_modules_with_dl_iterate_phdr.<locals>.match_module_callback at 0x7f01b4dbbb80>\n",
      "Traceback (most recent call last):\n",
      "  File \"/home/marcus/anaconda3/lib/python3.9/site-packages/threadpoolctl.py\", line 400, in match_module_callback\n",
      "    self._make_module_from_path(filepath)\n",
      "  File \"/home/marcus/anaconda3/lib/python3.9/site-packages/threadpoolctl.py\", line 515, in _make_module_from_path\n",
      "    module = module_class(filepath, prefix, user_api, internal_api)\n",
      "  File \"/home/marcus/anaconda3/lib/python3.9/site-packages/threadpoolctl.py\", line 606, in __init__\n",
      "    self.version = self.get_version()\n",
      "  File \"/home/marcus/anaconda3/lib/python3.9/site-packages/threadpoolctl.py\", line 646, in get_version\n",
      "    config = get_config().split()\n",
      "AttributeError: 'NoneType' object has no attribute 'split'\n",
      "Exception ignored on calling ctypes callback function: <function _ThreadpoolInfo._find_modules_with_dl_iterate_phdr.<locals>.match_module_callback at 0x7f01b4eb00d0>\n",
      "Traceback (most recent call last):\n",
      "  File \"/home/marcus/anaconda3/lib/python3.9/site-packages/threadpoolctl.py\", line 400, in match_module_callback\n",
      "    self._make_module_from_path(filepath)\n",
      "  File \"/home/marcus/anaconda3/lib/python3.9/site-packages/threadpoolctl.py\", line 515, in _make_module_from_path\n",
      "    module = module_class(filepath, prefix, user_api, internal_api)\n",
      "  File \"/home/marcus/anaconda3/lib/python3.9/site-packages/threadpoolctl.py\", line 606, in __init__\n",
      "    self.version = self.get_version()\n",
      "  File \"/home/marcus/anaconda3/lib/python3.9/site-packages/threadpoolctl.py\", line 646, in get_version\n",
      "    config = get_config().split()\n",
      "AttributeError: 'NoneType' object has no attribute 'split'\n",
      "Exception ignored on calling ctypes callback function: <function _ThreadpoolInfo._find_modules_with_dl_iterate_phdr.<locals>.match_module_callback at 0x7f01b4dbbb80>\n",
      "Traceback (most recent call last):\n",
      "  File \"/home/marcus/anaconda3/lib/python3.9/site-packages/threadpoolctl.py\", line 400, in match_module_callback\n",
      "    self._make_module_from_path(filepath)\n",
      "  File \"/home/marcus/anaconda3/lib/python3.9/site-packages/threadpoolctl.py\", line 515, in _make_module_from_path\n",
      "    module = module_class(filepath, prefix, user_api, internal_api)\n",
      "  File \"/home/marcus/anaconda3/lib/python3.9/site-packages/threadpoolctl.py\", line 606, in __init__\n",
      "    self.version = self.get_version()\n",
      "  File \"/home/marcus/anaconda3/lib/python3.9/site-packages/threadpoolctl.py\", line 646, in get_version\n",
      "    config = get_config().split()\n",
      "AttributeError: 'NoneType' object has no attribute 'split'\n",
      "Exception ignored on calling ctypes callback function: <function _ThreadpoolInfo._find_modules_with_dl_iterate_phdr.<locals>.match_module_callback at 0x7f01b4eb00d0>\n",
      "Traceback (most recent call last):\n",
      "  File \"/home/marcus/anaconda3/lib/python3.9/site-packages/threadpoolctl.py\", line 400, in match_module_callback\n",
      "    self._make_module_from_path(filepath)\n",
      "  File \"/home/marcus/anaconda3/lib/python3.9/site-packages/threadpoolctl.py\", line 515, in _make_module_from_path\n",
      "    module = module_class(filepath, prefix, user_api, internal_api)\n",
      "  File \"/home/marcus/anaconda3/lib/python3.9/site-packages/threadpoolctl.py\", line 606, in __init__\n",
      "    self.version = self.get_version()\n",
      "  File \"/home/marcus/anaconda3/lib/python3.9/site-packages/threadpoolctl.py\", line 646, in get_version\n",
      "    config = get_config().split()\n",
      "AttributeError: 'NoneType' object has no attribute 'split'\n",
      "Exception ignored on calling ctypes callback function: <function _ThreadpoolInfo._find_modules_with_dl_iterate_phdr.<locals>.match_module_callback at 0x7f01b4dbbb80>\n",
      "Traceback (most recent call last):\n",
      "  File \"/home/marcus/anaconda3/lib/python3.9/site-packages/threadpoolctl.py\", line 400, in match_module_callback\n",
      "    self._make_module_from_path(filepath)\n",
      "  File \"/home/marcus/anaconda3/lib/python3.9/site-packages/threadpoolctl.py\", line 515, in _make_module_from_path\n",
      "    module = module_class(filepath, prefix, user_api, internal_api)\n",
      "  File \"/home/marcus/anaconda3/lib/python3.9/site-packages/threadpoolctl.py\", line 606, in __init__\n",
      "    self.version = self.get_version()\n",
      "  File \"/home/marcus/anaconda3/lib/python3.9/site-packages/threadpoolctl.py\", line 646, in get_version\n",
      "    config = get_config().split()\n",
      "AttributeError: 'NoneType' object has no attribute 'split'\n",
      "Exception ignored on calling ctypes callback function: <function _ThreadpoolInfo._find_modules_with_dl_iterate_phdr.<locals>.match_module_callback at 0x7f01b4eb00d0>\n",
      "Traceback (most recent call last):\n",
      "  File \"/home/marcus/anaconda3/lib/python3.9/site-packages/threadpoolctl.py\", line 400, in match_module_callback\n",
      "    self._make_module_from_path(filepath)\n",
      "  File \"/home/marcus/anaconda3/lib/python3.9/site-packages/threadpoolctl.py\", line 515, in _make_module_from_path\n",
      "    module = module_class(filepath, prefix, user_api, internal_api)\n",
      "  File \"/home/marcus/anaconda3/lib/python3.9/site-packages/threadpoolctl.py\", line 606, in __init__\n",
      "    self.version = self.get_version()\n",
      "  File \"/home/marcus/anaconda3/lib/python3.9/site-packages/threadpoolctl.py\", line 646, in get_version\n",
      "    config = get_config().split()\n",
      "AttributeError: 'NoneType' object has no attribute 'split'\n",
      "Exception ignored on calling ctypes callback function: <function _ThreadpoolInfo._find_modules_with_dl_iterate_phdr.<locals>.match_module_callback at 0x7f01b4dbbb80>\n",
      "Traceback (most recent call last):\n",
      "  File \"/home/marcus/anaconda3/lib/python3.9/site-packages/threadpoolctl.py\", line 400, in match_module_callback\n",
      "    self._make_module_from_path(filepath)\n",
      "  File \"/home/marcus/anaconda3/lib/python3.9/site-packages/threadpoolctl.py\", line 515, in _make_module_from_path\n",
      "    module = module_class(filepath, prefix, user_api, internal_api)\n",
      "  File \"/home/marcus/anaconda3/lib/python3.9/site-packages/threadpoolctl.py\", line 606, in __init__\n",
      "    self.version = self.get_version()\n",
      "  File \"/home/marcus/anaconda3/lib/python3.9/site-packages/threadpoolctl.py\", line 646, in get_version\n",
      "    config = get_config().split()\n",
      "AttributeError: 'NoneType' object has no attribute 'split'\n",
      "Exception ignored on calling ctypes callback function: <function _ThreadpoolInfo._find_modules_with_dl_iterate_phdr.<locals>.match_module_callback at 0x7f01b4eb00d0>\n",
      "Traceback (most recent call last):\n",
      "  File \"/home/marcus/anaconda3/lib/python3.9/site-packages/threadpoolctl.py\", line 400, in match_module_callback\n",
      "    self._make_module_from_path(filepath)\n",
      "  File \"/home/marcus/anaconda3/lib/python3.9/site-packages/threadpoolctl.py\", line 515, in _make_module_from_path\n",
      "    module = module_class(filepath, prefix, user_api, internal_api)\n",
      "  File \"/home/marcus/anaconda3/lib/python3.9/site-packages/threadpoolctl.py\", line 606, in __init__\n",
      "    self.version = self.get_version()\n",
      "  File \"/home/marcus/anaconda3/lib/python3.9/site-packages/threadpoolctl.py\", line 646, in get_version\n",
      "    config = get_config().split()\n",
      "AttributeError: 'NoneType' object has no attribute 'split'\n",
      "Exception ignored on calling ctypes callback function: <function _ThreadpoolInfo._find_modules_with_dl_iterate_phdr.<locals>.match_module_callback at 0x7f01b4dbbb80>\n",
      "Traceback (most recent call last):\n",
      "  File \"/home/marcus/anaconda3/lib/python3.9/site-packages/threadpoolctl.py\", line 400, in match_module_callback\n",
      "    self._make_module_from_path(filepath)\n",
      "  File \"/home/marcus/anaconda3/lib/python3.9/site-packages/threadpoolctl.py\", line 515, in _make_module_from_path\n",
      "    module = module_class(filepath, prefix, user_api, internal_api)\n",
      "  File \"/home/marcus/anaconda3/lib/python3.9/site-packages/threadpoolctl.py\", line 606, in __init__\n",
      "    self.version = self.get_version()\n",
      "  File \"/home/marcus/anaconda3/lib/python3.9/site-packages/threadpoolctl.py\", line 646, in get_version\n",
      "    config = get_config().split()\n",
      "AttributeError: 'NoneType' object has no attribute 'split'\n",
      "Exception ignored on calling ctypes callback function: <function _ThreadpoolInfo._find_modules_with_dl_iterate_phdr.<locals>.match_module_callback at 0x7f01b4eb00d0>\n",
      "Traceback (most recent call last):\n",
      "  File \"/home/marcus/anaconda3/lib/python3.9/site-packages/threadpoolctl.py\", line 400, in match_module_callback\n",
      "    self._make_module_from_path(filepath)\n",
      "  File \"/home/marcus/anaconda3/lib/python3.9/site-packages/threadpoolctl.py\", line 515, in _make_module_from_path\n",
      "    module = module_class(filepath, prefix, user_api, internal_api)\n",
      "  File \"/home/marcus/anaconda3/lib/python3.9/site-packages/threadpoolctl.py\", line 606, in __init__\n",
      "    self.version = self.get_version()\n",
      "  File \"/home/marcus/anaconda3/lib/python3.9/site-packages/threadpoolctl.py\", line 646, in get_version\n",
      "    config = get_config().split()\n",
      "AttributeError: 'NoneType' object has no attribute 'split'\n",
      "/home/marcus/anaconda3/lib/python3.9/site-packages/sklearn/utils/validation.py:1858: FutureWarning:\n",
      "\n",
      "Feature names only support names that are all strings. Got feature names with dtypes: ['int', 'str']. An error will be raised in 1.2.\n",
      "\n",
      "Exception ignored on calling ctypes callback function: <function _ThreadpoolInfo._find_modules_with_dl_iterate_phdr.<locals>.match_module_callback at 0x7f01b4eb00d0>\n",
      "Traceback (most recent call last):\n",
      "  File \"/home/marcus/anaconda3/lib/python3.9/site-packages/threadpoolctl.py\", line 400, in match_module_callback\n",
      "    self._make_module_from_path(filepath)\n",
      "  File \"/home/marcus/anaconda3/lib/python3.9/site-packages/threadpoolctl.py\", line 515, in _make_module_from_path\n",
      "    module = module_class(filepath, prefix, user_api, internal_api)\n",
      "  File \"/home/marcus/anaconda3/lib/python3.9/site-packages/threadpoolctl.py\", line 606, in __init__\n",
      "    self.version = self.get_version()\n",
      "  File \"/home/marcus/anaconda3/lib/python3.9/site-packages/threadpoolctl.py\", line 646, in get_version\n",
      "    config = get_config().split()\n",
      "AttributeError: 'NoneType' object has no attribute 'split'\n",
      "Exception ignored on calling ctypes callback function: <function _ThreadpoolInfo._find_modules_with_dl_iterate_phdr.<locals>.match_module_callback at 0x7f01b4dbbb80>\n",
      "Traceback (most recent call last):\n",
      "  File \"/home/marcus/anaconda3/lib/python3.9/site-packages/threadpoolctl.py\", line 400, in match_module_callback\n",
      "    self._make_module_from_path(filepath)\n",
      "  File \"/home/marcus/anaconda3/lib/python3.9/site-packages/threadpoolctl.py\", line 515, in _make_module_from_path\n",
      "    module = module_class(filepath, prefix, user_api, internal_api)\n",
      "  File \"/home/marcus/anaconda3/lib/python3.9/site-packages/threadpoolctl.py\", line 606, in __init__\n",
      "    self.version = self.get_version()\n",
      "  File \"/home/marcus/anaconda3/lib/python3.9/site-packages/threadpoolctl.py\", line 646, in get_version\n",
      "    config = get_config().split()\n",
      "AttributeError: 'NoneType' object has no attribute 'split'\n",
      "Exception ignored on calling ctypes callback function: <function _ThreadpoolInfo._find_modules_with_dl_iterate_phdr.<locals>.match_module_callback at 0x7f01b4eb00d0>\n",
      "Traceback (most recent call last):\n",
      "  File \"/home/marcus/anaconda3/lib/python3.9/site-packages/threadpoolctl.py\", line 400, in match_module_callback\n",
      "    self._make_module_from_path(filepath)\n",
      "  File \"/home/marcus/anaconda3/lib/python3.9/site-packages/threadpoolctl.py\", line 515, in _make_module_from_path\n",
      "    module = module_class(filepath, prefix, user_api, internal_api)\n",
      "  File \"/home/marcus/anaconda3/lib/python3.9/site-packages/threadpoolctl.py\", line 606, in __init__\n",
      "    self.version = self.get_version()\n",
      "  File \"/home/marcus/anaconda3/lib/python3.9/site-packages/threadpoolctl.py\", line 646, in get_version\n",
      "    config = get_config().split()\n",
      "AttributeError: 'NoneType' object has no attribute 'split'\n",
      "Exception ignored on calling ctypes callback function: <function _ThreadpoolInfo._find_modules_with_dl_iterate_phdr.<locals>.match_module_callback at 0x7f01b4dbbb80>\n",
      "Traceback (most recent call last):\n",
      "  File \"/home/marcus/anaconda3/lib/python3.9/site-packages/threadpoolctl.py\", line 400, in match_module_callback\n",
      "    self._make_module_from_path(filepath)\n",
      "  File \"/home/marcus/anaconda3/lib/python3.9/site-packages/threadpoolctl.py\", line 515, in _make_module_from_path\n",
      "    module = module_class(filepath, prefix, user_api, internal_api)\n",
      "  File \"/home/marcus/anaconda3/lib/python3.9/site-packages/threadpoolctl.py\", line 606, in __init__\n",
      "    self.version = self.get_version()\n",
      "  File \"/home/marcus/anaconda3/lib/python3.9/site-packages/threadpoolctl.py\", line 646, in get_version\n",
      "    config = get_config().split()\n",
      "AttributeError: 'NoneType' object has no attribute 'split'\n",
      "Exception ignored on calling ctypes callback function: <function _ThreadpoolInfo._find_modules_with_dl_iterate_phdr.<locals>.match_module_callback at 0x7f01b4eb00d0>\n",
      "Traceback (most recent call last):\n",
      "  File \"/home/marcus/anaconda3/lib/python3.9/site-packages/threadpoolctl.py\", line 400, in match_module_callback\n",
      "    self._make_module_from_path(filepath)\n",
      "  File \"/home/marcus/anaconda3/lib/python3.9/site-packages/threadpoolctl.py\", line 515, in _make_module_from_path\n",
      "    module = module_class(filepath, prefix, user_api, internal_api)\n",
      "  File \"/home/marcus/anaconda3/lib/python3.9/site-packages/threadpoolctl.py\", line 606, in __init__\n",
      "    self.version = self.get_version()\n",
      "  File \"/home/marcus/anaconda3/lib/python3.9/site-packages/threadpoolctl.py\", line 646, in get_version\n",
      "    config = get_config().split()\n",
      "AttributeError: 'NoneType' object has no attribute 'split'\n",
      "Exception ignored on calling ctypes callback function: <function _ThreadpoolInfo._find_modules_with_dl_iterate_phdr.<locals>.match_module_callback at 0x7f01b4dbbb80>\n",
      "Traceback (most recent call last):\n",
      "  File \"/home/marcus/anaconda3/lib/python3.9/site-packages/threadpoolctl.py\", line 400, in match_module_callback\n",
      "    self._make_module_from_path(filepath)\n",
      "  File \"/home/marcus/anaconda3/lib/python3.9/site-packages/threadpoolctl.py\", line 515, in _make_module_from_path\n",
      "    module = module_class(filepath, prefix, user_api, internal_api)\n",
      "  File \"/home/marcus/anaconda3/lib/python3.9/site-packages/threadpoolctl.py\", line 606, in __init__\n",
      "    self.version = self.get_version()\n",
      "  File \"/home/marcus/anaconda3/lib/python3.9/site-packages/threadpoolctl.py\", line 646, in get_version\n",
      "    config = get_config().split()\n",
      "AttributeError: 'NoneType' object has no attribute 'split'\n",
      "Exception ignored on calling ctypes callback function: <function _ThreadpoolInfo._find_modules_with_dl_iterate_phdr.<locals>.match_module_callback at 0x7f01b4eb00d0>\n",
      "Traceback (most recent call last):\n",
      "  File \"/home/marcus/anaconda3/lib/python3.9/site-packages/threadpoolctl.py\", line 400, in match_module_callback\n",
      "    self._make_module_from_path(filepath)\n",
      "  File \"/home/marcus/anaconda3/lib/python3.9/site-packages/threadpoolctl.py\", line 515, in _make_module_from_path\n",
      "    module = module_class(filepath, prefix, user_api, internal_api)\n",
      "  File \"/home/marcus/anaconda3/lib/python3.9/site-packages/threadpoolctl.py\", line 606, in __init__\n",
      "    self.version = self.get_version()\n",
      "  File \"/home/marcus/anaconda3/lib/python3.9/site-packages/threadpoolctl.py\", line 646, in get_version\n",
      "    config = get_config().split()\n",
      "AttributeError: 'NoneType' object has no attribute 'split'\n",
      "Exception ignored on calling ctypes callback function: <function _ThreadpoolInfo._find_modules_with_dl_iterate_phdr.<locals>.match_module_callback at 0x7f01b4dbbb80>\n",
      "Traceback (most recent call last):\n",
      "  File \"/home/marcus/anaconda3/lib/python3.9/site-packages/threadpoolctl.py\", line 400, in match_module_callback\n",
      "    self._make_module_from_path(filepath)\n",
      "  File \"/home/marcus/anaconda3/lib/python3.9/site-packages/threadpoolctl.py\", line 515, in _make_module_from_path\n",
      "    module = module_class(filepath, prefix, user_api, internal_api)\n",
      "  File \"/home/marcus/anaconda3/lib/python3.9/site-packages/threadpoolctl.py\", line 606, in __init__\n",
      "    self.version = self.get_version()\n",
      "  File \"/home/marcus/anaconda3/lib/python3.9/site-packages/threadpoolctl.py\", line 646, in get_version\n",
      "    config = get_config().split()\n",
      "AttributeError: 'NoneType' object has no attribute 'split'\n",
      "Exception ignored on calling ctypes callback function: <function _ThreadpoolInfo._find_modules_with_dl_iterate_phdr.<locals>.match_module_callback at 0x7f01b4eb00d0>\n",
      "Traceback (most recent call last):\n",
      "  File \"/home/marcus/anaconda3/lib/python3.9/site-packages/threadpoolctl.py\", line 400, in match_module_callback\n",
      "    self._make_module_from_path(filepath)\n",
      "  File \"/home/marcus/anaconda3/lib/python3.9/site-packages/threadpoolctl.py\", line 515, in _make_module_from_path\n",
      "    module = module_class(filepath, prefix, user_api, internal_api)\n",
      "  File \"/home/marcus/anaconda3/lib/python3.9/site-packages/threadpoolctl.py\", line 606, in __init__\n",
      "    self.version = self.get_version()\n",
      "  File \"/home/marcus/anaconda3/lib/python3.9/site-packages/threadpoolctl.py\", line 646, in get_version\n",
      "    config = get_config().split()\n",
      "AttributeError: 'NoneType' object has no attribute 'split'\n",
      "Exception ignored on calling ctypes callback function: <function _ThreadpoolInfo._find_modules_with_dl_iterate_phdr.<locals>.match_module_callback at 0x7f01b4dbbb80>\n",
      "Traceback (most recent call last):\n",
      "  File \"/home/marcus/anaconda3/lib/python3.9/site-packages/threadpoolctl.py\", line 400, in match_module_callback\n",
      "    self._make_module_from_path(filepath)\n",
      "  File \"/home/marcus/anaconda3/lib/python3.9/site-packages/threadpoolctl.py\", line 515, in _make_module_from_path\n",
      "    module = module_class(filepath, prefix, user_api, internal_api)\n",
      "  File \"/home/marcus/anaconda3/lib/python3.9/site-packages/threadpoolctl.py\", line 606, in __init__\n",
      "    self.version = self.get_version()\n",
      "  File \"/home/marcus/anaconda3/lib/python3.9/site-packages/threadpoolctl.py\", line 646, in get_version\n",
      "    config = get_config().split()\n",
      "AttributeError: 'NoneType' object has no attribute 'split'\n",
      "/home/marcus/anaconda3/lib/python3.9/site-packages/sklearn/utils/validation.py:1858: FutureWarning:\n",
      "\n",
      "Feature names only support names that are all strings. Got feature names with dtypes: ['int', 'str']. An error will be raised in 1.2.\n",
      "\n",
      "Exception ignored on calling ctypes callback function: <function _ThreadpoolInfo._find_modules_with_dl_iterate_phdr.<locals>.match_module_callback at 0x7f01b4eb00d0>\n",
      "Traceback (most recent call last):\n",
      "  File \"/home/marcus/anaconda3/lib/python3.9/site-packages/threadpoolctl.py\", line 400, in match_module_callback\n",
      "    self._make_module_from_path(filepath)\n",
      "  File \"/home/marcus/anaconda3/lib/python3.9/site-packages/threadpoolctl.py\", line 515, in _make_module_from_path\n",
      "    module = module_class(filepath, prefix, user_api, internal_api)\n",
      "  File \"/home/marcus/anaconda3/lib/python3.9/site-packages/threadpoolctl.py\", line 606, in __init__\n",
      "    self.version = self.get_version()\n",
      "  File \"/home/marcus/anaconda3/lib/python3.9/site-packages/threadpoolctl.py\", line 646, in get_version\n",
      "    config = get_config().split()\n",
      "AttributeError: 'NoneType' object has no attribute 'split'\n",
      "Exception ignored on calling ctypes callback function: <function _ThreadpoolInfo._find_modules_with_dl_iterate_phdr.<locals>.match_module_callback at 0x7f01b4dbbb80>\n",
      "Traceback (most recent call last):\n",
      "  File \"/home/marcus/anaconda3/lib/python3.9/site-packages/threadpoolctl.py\", line 400, in match_module_callback\n",
      "    self._make_module_from_path(filepath)\n",
      "  File \"/home/marcus/anaconda3/lib/python3.9/site-packages/threadpoolctl.py\", line 515, in _make_module_from_path\n",
      "    module = module_class(filepath, prefix, user_api, internal_api)\n",
      "  File \"/home/marcus/anaconda3/lib/python3.9/site-packages/threadpoolctl.py\", line 606, in __init__\n",
      "    self.version = self.get_version()\n",
      "  File \"/home/marcus/anaconda3/lib/python3.9/site-packages/threadpoolctl.py\", line 646, in get_version\n",
      "    config = get_config().split()\n",
      "AttributeError: 'NoneType' object has no attribute 'split'\n",
      "Exception ignored on calling ctypes callback function: <function _ThreadpoolInfo._find_modules_with_dl_iterate_phdr.<locals>.match_module_callback at 0x7f01b4eb00d0>\n",
      "Traceback (most recent call last):\n",
      "  File \"/home/marcus/anaconda3/lib/python3.9/site-packages/threadpoolctl.py\", line 400, in match_module_callback\n",
      "    self._make_module_from_path(filepath)\n",
      "  File \"/home/marcus/anaconda3/lib/python3.9/site-packages/threadpoolctl.py\", line 515, in _make_module_from_path\n",
      "    module = module_class(filepath, prefix, user_api, internal_api)\n",
      "  File \"/home/marcus/anaconda3/lib/python3.9/site-packages/threadpoolctl.py\", line 606, in __init__\n",
      "    self.version = self.get_version()\n",
      "  File \"/home/marcus/anaconda3/lib/python3.9/site-packages/threadpoolctl.py\", line 646, in get_version\n",
      "    config = get_config().split()\n",
      "AttributeError: 'NoneType' object has no attribute 'split'\n",
      "Exception ignored on calling ctypes callback function: <function _ThreadpoolInfo._find_modules_with_dl_iterate_phdr.<locals>.match_module_callback at 0x7f01b4dbbb80>\n",
      "Traceback (most recent call last):\n",
      "  File \"/home/marcus/anaconda3/lib/python3.9/site-packages/threadpoolctl.py\", line 400, in match_module_callback\n",
      "    self._make_module_from_path(filepath)\n",
      "  File \"/home/marcus/anaconda3/lib/python3.9/site-packages/threadpoolctl.py\", line 515, in _make_module_from_path\n",
      "    module = module_class(filepath, prefix, user_api, internal_api)\n",
      "  File \"/home/marcus/anaconda3/lib/python3.9/site-packages/threadpoolctl.py\", line 606, in __init__\n",
      "    self.version = self.get_version()\n",
      "  File \"/home/marcus/anaconda3/lib/python3.9/site-packages/threadpoolctl.py\", line 646, in get_version\n",
      "    config = get_config().split()\n",
      "AttributeError: 'NoneType' object has no attribute 'split'\n",
      "Exception ignored on calling ctypes callback function: <function _ThreadpoolInfo._find_modules_with_dl_iterate_phdr.<locals>.match_module_callback at 0x7f01b4eb00d0>\n",
      "Traceback (most recent call last):\n",
      "  File \"/home/marcus/anaconda3/lib/python3.9/site-packages/threadpoolctl.py\", line 400, in match_module_callback\n",
      "    self._make_module_from_path(filepath)\n",
      "  File \"/home/marcus/anaconda3/lib/python3.9/site-packages/threadpoolctl.py\", line 515, in _make_module_from_path\n",
      "    module = module_class(filepath, prefix, user_api, internal_api)\n",
      "  File \"/home/marcus/anaconda3/lib/python3.9/site-packages/threadpoolctl.py\", line 606, in __init__\n",
      "    self.version = self.get_version()\n",
      "  File \"/home/marcus/anaconda3/lib/python3.9/site-packages/threadpoolctl.py\", line 646, in get_version\n",
      "    config = get_config().split()\n",
      "AttributeError: 'NoneType' object has no attribute 'split'\n",
      "Exception ignored on calling ctypes callback function: <function _ThreadpoolInfo._find_modules_with_dl_iterate_phdr.<locals>.match_module_callback at 0x7f01b4dbbb80>\n",
      "Traceback (most recent call last):\n",
      "  File \"/home/marcus/anaconda3/lib/python3.9/site-packages/threadpoolctl.py\", line 400, in match_module_callback\n",
      "    self._make_module_from_path(filepath)\n",
      "  File \"/home/marcus/anaconda3/lib/python3.9/site-packages/threadpoolctl.py\", line 515, in _make_module_from_path\n",
      "    module = module_class(filepath, prefix, user_api, internal_api)\n",
      "  File \"/home/marcus/anaconda3/lib/python3.9/site-packages/threadpoolctl.py\", line 606, in __init__\n",
      "    self.version = self.get_version()\n",
      "  File \"/home/marcus/anaconda3/lib/python3.9/site-packages/threadpoolctl.py\", line 646, in get_version\n",
      "    config = get_config().split()\n",
      "AttributeError: 'NoneType' object has no attribute 'split'\n",
      "Exception ignored on calling ctypes callback function: <function _ThreadpoolInfo._find_modules_with_dl_iterate_phdr.<locals>.match_module_callback at 0x7f01b4eb00d0>\n",
      "Traceback (most recent call last):\n",
      "  File \"/home/marcus/anaconda3/lib/python3.9/site-packages/threadpoolctl.py\", line 400, in match_module_callback\n",
      "    self._make_module_from_path(filepath)\n",
      "  File \"/home/marcus/anaconda3/lib/python3.9/site-packages/threadpoolctl.py\", line 515, in _make_module_from_path\n",
      "    module = module_class(filepath, prefix, user_api, internal_api)\n",
      "  File \"/home/marcus/anaconda3/lib/python3.9/site-packages/threadpoolctl.py\", line 606, in __init__\n",
      "    self.version = self.get_version()\n",
      "  File \"/home/marcus/anaconda3/lib/python3.9/site-packages/threadpoolctl.py\", line 646, in get_version\n",
      "    config = get_config().split()\n",
      "AttributeError: 'NoneType' object has no attribute 'split'\n",
      "Exception ignored on calling ctypes callback function: <function _ThreadpoolInfo._find_modules_with_dl_iterate_phdr.<locals>.match_module_callback at 0x7f01b4dbbb80>\n",
      "Traceback (most recent call last):\n",
      "  File \"/home/marcus/anaconda3/lib/python3.9/site-packages/threadpoolctl.py\", line 400, in match_module_callback\n",
      "    self._make_module_from_path(filepath)\n",
      "  File \"/home/marcus/anaconda3/lib/python3.9/site-packages/threadpoolctl.py\", line 515, in _make_module_from_path\n",
      "    module = module_class(filepath, prefix, user_api, internal_api)\n",
      "  File \"/home/marcus/anaconda3/lib/python3.9/site-packages/threadpoolctl.py\", line 606, in __init__\n",
      "    self.version = self.get_version()\n",
      "  File \"/home/marcus/anaconda3/lib/python3.9/site-packages/threadpoolctl.py\", line 646, in get_version\n",
      "    config = get_config().split()\n",
      "AttributeError: 'NoneType' object has no attribute 'split'\n",
      "Exception ignored on calling ctypes callback function: <function _ThreadpoolInfo._find_modules_with_dl_iterate_phdr.<locals>.match_module_callback at 0x7f01b4eb00d0>\n",
      "Traceback (most recent call last):\n",
      "  File \"/home/marcus/anaconda3/lib/python3.9/site-packages/threadpoolctl.py\", line 400, in match_module_callback\n",
      "    self._make_module_from_path(filepath)\n",
      "  File \"/home/marcus/anaconda3/lib/python3.9/site-packages/threadpoolctl.py\", line 515, in _make_module_from_path\n",
      "    module = module_class(filepath, prefix, user_api, internal_api)\n",
      "  File \"/home/marcus/anaconda3/lib/python3.9/site-packages/threadpoolctl.py\", line 606, in __init__\n",
      "    self.version = self.get_version()\n",
      "  File \"/home/marcus/anaconda3/lib/python3.9/site-packages/threadpoolctl.py\", line 646, in get_version\n",
      "    config = get_config().split()\n",
      "AttributeError: 'NoneType' object has no attribute 'split'\n",
      "Exception ignored on calling ctypes callback function: <function _ThreadpoolInfo._find_modules_with_dl_iterate_phdr.<locals>.match_module_callback at 0x7f01b4dbbb80>\n",
      "Traceback (most recent call last):\n",
      "  File \"/home/marcus/anaconda3/lib/python3.9/site-packages/threadpoolctl.py\", line 400, in match_module_callback\n",
      "    self._make_module_from_path(filepath)\n",
      "  File \"/home/marcus/anaconda3/lib/python3.9/site-packages/threadpoolctl.py\", line 515, in _make_module_from_path\n",
      "    module = module_class(filepath, prefix, user_api, internal_api)\n",
      "  File \"/home/marcus/anaconda3/lib/python3.9/site-packages/threadpoolctl.py\", line 606, in __init__\n",
      "    self.version = self.get_version()\n",
      "  File \"/home/marcus/anaconda3/lib/python3.9/site-packages/threadpoolctl.py\", line 646, in get_version\n",
      "    config = get_config().split()\n",
      "AttributeError: 'NoneType' object has no attribute 'split'\n",
      "/home/marcus/anaconda3/lib/python3.9/site-packages/sklearn/utils/validation.py:1858: FutureWarning:\n",
      "\n",
      "Feature names only support names that are all strings. Got feature names with dtypes: ['int', 'str']. An error will be raised in 1.2.\n",
      "\n",
      "Exception ignored on calling ctypes callback function: <function _ThreadpoolInfo._find_modules_with_dl_iterate_phdr.<locals>.match_module_callback at 0x7f01b4eb00d0>\n",
      "Traceback (most recent call last):\n",
      "  File \"/home/marcus/anaconda3/lib/python3.9/site-packages/threadpoolctl.py\", line 400, in match_module_callback\n",
      "    self._make_module_from_path(filepath)\n",
      "  File \"/home/marcus/anaconda3/lib/python3.9/site-packages/threadpoolctl.py\", line 515, in _make_module_from_path\n",
      "    module = module_class(filepath, prefix, user_api, internal_api)\n",
      "  File \"/home/marcus/anaconda3/lib/python3.9/site-packages/threadpoolctl.py\", line 606, in __init__\n",
      "    self.version = self.get_version()\n",
      "  File \"/home/marcus/anaconda3/lib/python3.9/site-packages/threadpoolctl.py\", line 646, in get_version\n",
      "    config = get_config().split()\n",
      "AttributeError: 'NoneType' object has no attribute 'split'\n",
      "Exception ignored on calling ctypes callback function: <function _ThreadpoolInfo._find_modules_with_dl_iterate_phdr.<locals>.match_module_callback at 0x7f01b4dbbb80>\n",
      "Traceback (most recent call last):\n",
      "  File \"/home/marcus/anaconda3/lib/python3.9/site-packages/threadpoolctl.py\", line 400, in match_module_callback\n",
      "    self._make_module_from_path(filepath)\n",
      "  File \"/home/marcus/anaconda3/lib/python3.9/site-packages/threadpoolctl.py\", line 515, in _make_module_from_path\n",
      "    module = module_class(filepath, prefix, user_api, internal_api)\n",
      "  File \"/home/marcus/anaconda3/lib/python3.9/site-packages/threadpoolctl.py\", line 606, in __init__\n",
      "    self.version = self.get_version()\n",
      "  File \"/home/marcus/anaconda3/lib/python3.9/site-packages/threadpoolctl.py\", line 646, in get_version\n",
      "    config = get_config().split()\n",
      "AttributeError: 'NoneType' object has no attribute 'split'\n",
      "Exception ignored on calling ctypes callback function: <function _ThreadpoolInfo._find_modules_with_dl_iterate_phdr.<locals>.match_module_callback at 0x7f01b4eb00d0>\n",
      "Traceback (most recent call last):\n",
      "  File \"/home/marcus/anaconda3/lib/python3.9/site-packages/threadpoolctl.py\", line 400, in match_module_callback\n",
      "    self._make_module_from_path(filepath)\n",
      "  File \"/home/marcus/anaconda3/lib/python3.9/site-packages/threadpoolctl.py\", line 515, in _make_module_from_path\n",
      "    module = module_class(filepath, prefix, user_api, internal_api)\n",
      "  File \"/home/marcus/anaconda3/lib/python3.9/site-packages/threadpoolctl.py\", line 606, in __init__\n",
      "    self.version = self.get_version()\n",
      "  File \"/home/marcus/anaconda3/lib/python3.9/site-packages/threadpoolctl.py\", line 646, in get_version\n",
      "    config = get_config().split()\n",
      "AttributeError: 'NoneType' object has no attribute 'split'\n",
      "Exception ignored on calling ctypes callback function: <function _ThreadpoolInfo._find_modules_with_dl_iterate_phdr.<locals>.match_module_callback at 0x7f01b4dbbb80>\n",
      "Traceback (most recent call last):\n",
      "  File \"/home/marcus/anaconda3/lib/python3.9/site-packages/threadpoolctl.py\", line 400, in match_module_callback\n",
      "    self._make_module_from_path(filepath)\n",
      "  File \"/home/marcus/anaconda3/lib/python3.9/site-packages/threadpoolctl.py\", line 515, in _make_module_from_path\n",
      "    module = module_class(filepath, prefix, user_api, internal_api)\n",
      "  File \"/home/marcus/anaconda3/lib/python3.9/site-packages/threadpoolctl.py\", line 606, in __init__\n",
      "    self.version = self.get_version()\n",
      "  File \"/home/marcus/anaconda3/lib/python3.9/site-packages/threadpoolctl.py\", line 646, in get_version\n",
      "    config = get_config().split()\n",
      "AttributeError: 'NoneType' object has no attribute 'split'\n",
      "Exception ignored on calling ctypes callback function: <function _ThreadpoolInfo._find_modules_with_dl_iterate_phdr.<locals>.match_module_callback at 0x7f01b4dbbb80>\n",
      "Traceback (most recent call last):\n",
      "  File \"/home/marcus/anaconda3/lib/python3.9/site-packages/threadpoolctl.py\", line 400, in match_module_callback\n",
      "    self._make_module_from_path(filepath)\n",
      "  File \"/home/marcus/anaconda3/lib/python3.9/site-packages/threadpoolctl.py\", line 515, in _make_module_from_path\n",
      "    module = module_class(filepath, prefix, user_api, internal_api)\n",
      "  File \"/home/marcus/anaconda3/lib/python3.9/site-packages/threadpoolctl.py\", line 606, in __init__\n",
      "    self.version = self.get_version()\n",
      "  File \"/home/marcus/anaconda3/lib/python3.9/site-packages/threadpoolctl.py\", line 646, in get_version\n",
      "    config = get_config().split()\n",
      "AttributeError: 'NoneType' object has no attribute 'split'\n",
      "Exception ignored on calling ctypes callback function: <function _ThreadpoolInfo._find_modules_with_dl_iterate_phdr.<locals>.match_module_callback at 0x7f01b4eb00d0>\n",
      "Traceback (most recent call last):\n",
      "  File \"/home/marcus/anaconda3/lib/python3.9/site-packages/threadpoolctl.py\", line 400, in match_module_callback\n",
      "    self._make_module_from_path(filepath)\n",
      "  File \"/home/marcus/anaconda3/lib/python3.9/site-packages/threadpoolctl.py\", line 515, in _make_module_from_path\n",
      "    module = module_class(filepath, prefix, user_api, internal_api)\n",
      "  File \"/home/marcus/anaconda3/lib/python3.9/site-packages/threadpoolctl.py\", line 606, in __init__\n",
      "    self.version = self.get_version()\n",
      "  File \"/home/marcus/anaconda3/lib/python3.9/site-packages/threadpoolctl.py\", line 646, in get_version\n",
      "    config = get_config().split()\n",
      "AttributeError: 'NoneType' object has no attribute 'split'\n",
      "Exception ignored on calling ctypes callback function: <function _ThreadpoolInfo._find_modules_with_dl_iterate_phdr.<locals>.match_module_callback at 0x7f01b4dbbb80>\n",
      "Traceback (most recent call last):\n",
      "  File \"/home/marcus/anaconda3/lib/python3.9/site-packages/threadpoolctl.py\", line 400, in match_module_callback\n",
      "    self._make_module_from_path(filepath)\n",
      "  File \"/home/marcus/anaconda3/lib/python3.9/site-packages/threadpoolctl.py\", line 515, in _make_module_from_path\n",
      "    module = module_class(filepath, prefix, user_api, internal_api)\n",
      "  File \"/home/marcus/anaconda3/lib/python3.9/site-packages/threadpoolctl.py\", line 606, in __init__\n",
      "    self.version = self.get_version()\n",
      "  File \"/home/marcus/anaconda3/lib/python3.9/site-packages/threadpoolctl.py\", line 646, in get_version\n",
      "    config = get_config().split()\n",
      "AttributeError: 'NoneType' object has no attribute 'split'\n",
      "Exception ignored on calling ctypes callback function: <function _ThreadpoolInfo._find_modules_with_dl_iterate_phdr.<locals>.match_module_callback at 0x7f01b4dbbb80>\n",
      "Traceback (most recent call last):\n",
      "  File \"/home/marcus/anaconda3/lib/python3.9/site-packages/threadpoolctl.py\", line 400, in match_module_callback\n",
      "    self._make_module_from_path(filepath)\n",
      "  File \"/home/marcus/anaconda3/lib/python3.9/site-packages/threadpoolctl.py\", line 515, in _make_module_from_path\n",
      "    module = module_class(filepath, prefix, user_api, internal_api)\n",
      "  File \"/home/marcus/anaconda3/lib/python3.9/site-packages/threadpoolctl.py\", line 606, in __init__\n",
      "    self.version = self.get_version()\n",
      "  File \"/home/marcus/anaconda3/lib/python3.9/site-packages/threadpoolctl.py\", line 646, in get_version\n",
      "    config = get_config().split()\n",
      "AttributeError: 'NoneType' object has no attribute 'split'\n",
      "Exception ignored on calling ctypes callback function: <function _ThreadpoolInfo._find_modules_with_dl_iterate_phdr.<locals>.match_module_callback at 0x7f01b4eb00d0>\n",
      "Traceback (most recent call last):\n",
      "  File \"/home/marcus/anaconda3/lib/python3.9/site-packages/threadpoolctl.py\", line 400, in match_module_callback\n",
      "    self._make_module_from_path(filepath)\n",
      "  File \"/home/marcus/anaconda3/lib/python3.9/site-packages/threadpoolctl.py\", line 515, in _make_module_from_path\n",
      "    module = module_class(filepath, prefix, user_api, internal_api)\n",
      "  File \"/home/marcus/anaconda3/lib/python3.9/site-packages/threadpoolctl.py\", line 606, in __init__\n",
      "    self.version = self.get_version()\n",
      "  File \"/home/marcus/anaconda3/lib/python3.9/site-packages/threadpoolctl.py\", line 646, in get_version\n",
      "    config = get_config().split()\n",
      "AttributeError: 'NoneType' object has no attribute 'split'\n",
      "Exception ignored on calling ctypes callback function: <function _ThreadpoolInfo._find_modules_with_dl_iterate_phdr.<locals>.match_module_callback at 0x7f01b4dbbb80>\n",
      "Traceback (most recent call last):\n",
      "  File \"/home/marcus/anaconda3/lib/python3.9/site-packages/threadpoolctl.py\", line 400, in match_module_callback\n",
      "    self._make_module_from_path(filepath)\n",
      "  File \"/home/marcus/anaconda3/lib/python3.9/site-packages/threadpoolctl.py\", line 515, in _make_module_from_path\n",
      "    module = module_class(filepath, prefix, user_api, internal_api)\n",
      "  File \"/home/marcus/anaconda3/lib/python3.9/site-packages/threadpoolctl.py\", line 606, in __init__\n",
      "    self.version = self.get_version()\n",
      "  File \"/home/marcus/anaconda3/lib/python3.9/site-packages/threadpoolctl.py\", line 646, in get_version\n",
      "    config = get_config().split()\n",
      "AttributeError: 'NoneType' object has no attribute 'split'\n",
      "/home/marcus/anaconda3/lib/python3.9/site-packages/sklearn/utils/validation.py:1858: FutureWarning:\n",
      "\n",
      "Feature names only support names that are all strings. Got feature names with dtypes: ['int', 'str']. An error will be raised in 1.2.\n",
      "\n",
      "Exception ignored on calling ctypes callback function: <function _ThreadpoolInfo._find_modules_with_dl_iterate_phdr.<locals>.match_module_callback at 0x7f01b4dbbb80>\n",
      "Traceback (most recent call last):\n",
      "  File \"/home/marcus/anaconda3/lib/python3.9/site-packages/threadpoolctl.py\", line 400, in match_module_callback\n",
      "    self._make_module_from_path(filepath)\n",
      "  File \"/home/marcus/anaconda3/lib/python3.9/site-packages/threadpoolctl.py\", line 515, in _make_module_from_path\n",
      "    module = module_class(filepath, prefix, user_api, internal_api)\n",
      "  File \"/home/marcus/anaconda3/lib/python3.9/site-packages/threadpoolctl.py\", line 606, in __init__\n",
      "    self.version = self.get_version()\n",
      "  File \"/home/marcus/anaconda3/lib/python3.9/site-packages/threadpoolctl.py\", line 646, in get_version\n",
      "    config = get_config().split()\n",
      "AttributeError: 'NoneType' object has no attribute 'split'\n",
      "Exception ignored on calling ctypes callback function: <function _ThreadpoolInfo._find_modules_with_dl_iterate_phdr.<locals>.match_module_callback at 0x7f01b4eb00d0>\n",
      "Traceback (most recent call last):\n",
      "  File \"/home/marcus/anaconda3/lib/python3.9/site-packages/threadpoolctl.py\", line 400, in match_module_callback\n",
      "    self._make_module_from_path(filepath)\n",
      "  File \"/home/marcus/anaconda3/lib/python3.9/site-packages/threadpoolctl.py\", line 515, in _make_module_from_path\n",
      "    module = module_class(filepath, prefix, user_api, internal_api)\n",
      "  File \"/home/marcus/anaconda3/lib/python3.9/site-packages/threadpoolctl.py\", line 606, in __init__\n",
      "    self.version = self.get_version()\n",
      "  File \"/home/marcus/anaconda3/lib/python3.9/site-packages/threadpoolctl.py\", line 646, in get_version\n",
      "    config = get_config().split()\n",
      "AttributeError: 'NoneType' object has no attribute 'split'\n",
      "Exception ignored on calling ctypes callback function: <function _ThreadpoolInfo._find_modules_with_dl_iterate_phdr.<locals>.match_module_callback at 0x7f01b4dbbb80>\n",
      "Traceback (most recent call last):\n",
      "  File \"/home/marcus/anaconda3/lib/python3.9/site-packages/threadpoolctl.py\", line 400, in match_module_callback\n",
      "    self._make_module_from_path(filepath)\n",
      "  File \"/home/marcus/anaconda3/lib/python3.9/site-packages/threadpoolctl.py\", line 515, in _make_module_from_path\n",
      "    module = module_class(filepath, prefix, user_api, internal_api)\n",
      "  File \"/home/marcus/anaconda3/lib/python3.9/site-packages/threadpoolctl.py\", line 606, in __init__\n",
      "    self.version = self.get_version()\n",
      "  File \"/home/marcus/anaconda3/lib/python3.9/site-packages/threadpoolctl.py\", line 646, in get_version\n",
      "    config = get_config().split()\n",
      "AttributeError: 'NoneType' object has no attribute 'split'\n",
      "Exception ignored on calling ctypes callback function: <function _ThreadpoolInfo._find_modules_with_dl_iterate_phdr.<locals>.match_module_callback at 0x7f01b4eb00d0>\n",
      "Traceback (most recent call last):\n",
      "  File \"/home/marcus/anaconda3/lib/python3.9/site-packages/threadpoolctl.py\", line 400, in match_module_callback\n",
      "    self._make_module_from_path(filepath)\n",
      "  File \"/home/marcus/anaconda3/lib/python3.9/site-packages/threadpoolctl.py\", line 515, in _make_module_from_path\n",
      "    module = module_class(filepath, prefix, user_api, internal_api)\n",
      "  File \"/home/marcus/anaconda3/lib/python3.9/site-packages/threadpoolctl.py\", line 606, in __init__\n",
      "    self.version = self.get_version()\n",
      "  File \"/home/marcus/anaconda3/lib/python3.9/site-packages/threadpoolctl.py\", line 646, in get_version\n",
      "    config = get_config().split()\n",
      "AttributeError: 'NoneType' object has no attribute 'split'\n",
      "Exception ignored on calling ctypes callback function: <function _ThreadpoolInfo._find_modules_with_dl_iterate_phdr.<locals>.match_module_callback at 0x7f01b4dbbb80>\n",
      "Traceback (most recent call last):\n",
      "  File \"/home/marcus/anaconda3/lib/python3.9/site-packages/threadpoolctl.py\", line 400, in match_module_callback\n",
      "    self._make_module_from_path(filepath)\n",
      "  File \"/home/marcus/anaconda3/lib/python3.9/site-packages/threadpoolctl.py\", line 515, in _make_module_from_path\n",
      "    module = module_class(filepath, prefix, user_api, internal_api)\n",
      "  File \"/home/marcus/anaconda3/lib/python3.9/site-packages/threadpoolctl.py\", line 606, in __init__\n",
      "    self.version = self.get_version()\n",
      "  File \"/home/marcus/anaconda3/lib/python3.9/site-packages/threadpoolctl.py\", line 646, in get_version\n",
      "    config = get_config().split()\n",
      "AttributeError: 'NoneType' object has no attribute 'split'\n",
      "Exception ignored on calling ctypes callback function: <function _ThreadpoolInfo._find_modules_with_dl_iterate_phdr.<locals>.match_module_callback at 0x7f01b4eb00d0>\n",
      "Traceback (most recent call last):\n",
      "  File \"/home/marcus/anaconda3/lib/python3.9/site-packages/threadpoolctl.py\", line 400, in match_module_callback\n",
      "    self._make_module_from_path(filepath)\n",
      "  File \"/home/marcus/anaconda3/lib/python3.9/site-packages/threadpoolctl.py\", line 515, in _make_module_from_path\n",
      "    module = module_class(filepath, prefix, user_api, internal_api)\n",
      "  File \"/home/marcus/anaconda3/lib/python3.9/site-packages/threadpoolctl.py\", line 606, in __init__\n",
      "    self.version = self.get_version()\n",
      "  File \"/home/marcus/anaconda3/lib/python3.9/site-packages/threadpoolctl.py\", line 646, in get_version\n",
      "    config = get_config().split()\n",
      "AttributeError: 'NoneType' object has no attribute 'split'\n",
      "Exception ignored on calling ctypes callback function: <function _ThreadpoolInfo._find_modules_with_dl_iterate_phdr.<locals>.match_module_callback at 0x7f01b4dbbb80>\n",
      "Traceback (most recent call last):\n",
      "  File \"/home/marcus/anaconda3/lib/python3.9/site-packages/threadpoolctl.py\", line 400, in match_module_callback\n",
      "    self._make_module_from_path(filepath)\n",
      "  File \"/home/marcus/anaconda3/lib/python3.9/site-packages/threadpoolctl.py\", line 515, in _make_module_from_path\n",
      "    module = module_class(filepath, prefix, user_api, internal_api)\n",
      "  File \"/home/marcus/anaconda3/lib/python3.9/site-packages/threadpoolctl.py\", line 606, in __init__\n",
      "    self.version = self.get_version()\n",
      "  File \"/home/marcus/anaconda3/lib/python3.9/site-packages/threadpoolctl.py\", line 646, in get_version\n",
      "    config = get_config().split()\n",
      "AttributeError: 'NoneType' object has no attribute 'split'\n",
      "Exception ignored on calling ctypes callback function: <function _ThreadpoolInfo._find_modules_with_dl_iterate_phdr.<locals>.match_module_callback at 0x7f01b4eb00d0>\n",
      "Traceback (most recent call last):\n",
      "  File \"/home/marcus/anaconda3/lib/python3.9/site-packages/threadpoolctl.py\", line 400, in match_module_callback\n",
      "    self._make_module_from_path(filepath)\n",
      "  File \"/home/marcus/anaconda3/lib/python3.9/site-packages/threadpoolctl.py\", line 515, in _make_module_from_path\n",
      "    module = module_class(filepath, prefix, user_api, internal_api)\n",
      "  File \"/home/marcus/anaconda3/lib/python3.9/site-packages/threadpoolctl.py\", line 606, in __init__\n",
      "    self.version = self.get_version()\n",
      "  File \"/home/marcus/anaconda3/lib/python3.9/site-packages/threadpoolctl.py\", line 646, in get_version\n",
      "    config = get_config().split()\n",
      "AttributeError: 'NoneType' object has no attribute 'split'\n",
      "Exception ignored on calling ctypes callback function: <function _ThreadpoolInfo._find_modules_with_dl_iterate_phdr.<locals>.match_module_callback at 0x7f01b4dbbb80>\n",
      "Traceback (most recent call last):\n",
      "  File \"/home/marcus/anaconda3/lib/python3.9/site-packages/threadpoolctl.py\", line 400, in match_module_callback\n",
      "    self._make_module_from_path(filepath)\n",
      "  File \"/home/marcus/anaconda3/lib/python3.9/site-packages/threadpoolctl.py\", line 515, in _make_module_from_path\n",
      "    module = module_class(filepath, prefix, user_api, internal_api)\n",
      "  File \"/home/marcus/anaconda3/lib/python3.9/site-packages/threadpoolctl.py\", line 606, in __init__\n",
      "    self.version = self.get_version()\n",
      "  File \"/home/marcus/anaconda3/lib/python3.9/site-packages/threadpoolctl.py\", line 646, in get_version\n",
      "    config = get_config().split()\n",
      "AttributeError: 'NoneType' object has no attribute 'split'\n",
      "Exception ignored on calling ctypes callback function: <function _ThreadpoolInfo._find_modules_with_dl_iterate_phdr.<locals>.match_module_callback at 0x7f01b4eb00d0>\n",
      "Traceback (most recent call last):\n",
      "  File \"/home/marcus/anaconda3/lib/python3.9/site-packages/threadpoolctl.py\", line 400, in match_module_callback\n",
      "    self._make_module_from_path(filepath)\n",
      "  File \"/home/marcus/anaconda3/lib/python3.9/site-packages/threadpoolctl.py\", line 515, in _make_module_from_path\n",
      "    module = module_class(filepath, prefix, user_api, internal_api)\n",
      "  File \"/home/marcus/anaconda3/lib/python3.9/site-packages/threadpoolctl.py\", line 606, in __init__\n",
      "    self.version = self.get_version()\n",
      "  File \"/home/marcus/anaconda3/lib/python3.9/site-packages/threadpoolctl.py\", line 646, in get_version\n",
      "    config = get_config().split()\n",
      "AttributeError: 'NoneType' object has no attribute 'split'\n",
      "/home/marcus/anaconda3/lib/python3.9/site-packages/sklearn/utils/validation.py:1858: FutureWarning:\n",
      "\n",
      "Feature names only support names that are all strings. Got feature names with dtypes: ['int', 'str']. An error will be raised in 1.2.\n",
      "\n",
      "Exception ignored on calling ctypes callback function: <function _ThreadpoolInfo._find_modules_with_dl_iterate_phdr.<locals>.match_module_callback at 0x7f01b4dbbb80>\n",
      "Traceback (most recent call last):\n",
      "  File \"/home/marcus/anaconda3/lib/python3.9/site-packages/threadpoolctl.py\", line 400, in match_module_callback\n",
      "    self._make_module_from_path(filepath)\n",
      "  File \"/home/marcus/anaconda3/lib/python3.9/site-packages/threadpoolctl.py\", line 515, in _make_module_from_path\n",
      "    module = module_class(filepath, prefix, user_api, internal_api)\n",
      "  File \"/home/marcus/anaconda3/lib/python3.9/site-packages/threadpoolctl.py\", line 606, in __init__\n",
      "    self.version = self.get_version()\n",
      "  File \"/home/marcus/anaconda3/lib/python3.9/site-packages/threadpoolctl.py\", line 646, in get_version\n",
      "    config = get_config().split()\n",
      "AttributeError: 'NoneType' object has no attribute 'split'\n",
      "Exception ignored on calling ctypes callback function: <function _ThreadpoolInfo._find_modules_with_dl_iterate_phdr.<locals>.match_module_callback at 0x7f01b4eb00d0>\n",
      "Traceback (most recent call last):\n",
      "  File \"/home/marcus/anaconda3/lib/python3.9/site-packages/threadpoolctl.py\", line 400, in match_module_callback\n",
      "    self._make_module_from_path(filepath)\n",
      "  File \"/home/marcus/anaconda3/lib/python3.9/site-packages/threadpoolctl.py\", line 515, in _make_module_from_path\n",
      "    module = module_class(filepath, prefix, user_api, internal_api)\n",
      "  File \"/home/marcus/anaconda3/lib/python3.9/site-packages/threadpoolctl.py\", line 606, in __init__\n",
      "    self.version = self.get_version()\n",
      "  File \"/home/marcus/anaconda3/lib/python3.9/site-packages/threadpoolctl.py\", line 646, in get_version\n",
      "    config = get_config().split()\n",
      "AttributeError: 'NoneType' object has no attribute 'split'\n",
      "Exception ignored on calling ctypes callback function: <function _ThreadpoolInfo._find_modules_with_dl_iterate_phdr.<locals>.match_module_callback at 0x7f01b4dbbb80>\n",
      "Traceback (most recent call last):\n",
      "  File \"/home/marcus/anaconda3/lib/python3.9/site-packages/threadpoolctl.py\", line 400, in match_module_callback\n",
      "    self._make_module_from_path(filepath)\n",
      "  File \"/home/marcus/anaconda3/lib/python3.9/site-packages/threadpoolctl.py\", line 515, in _make_module_from_path\n",
      "    module = module_class(filepath, prefix, user_api, internal_api)\n",
      "  File \"/home/marcus/anaconda3/lib/python3.9/site-packages/threadpoolctl.py\", line 606, in __init__\n",
      "    self.version = self.get_version()\n",
      "  File \"/home/marcus/anaconda3/lib/python3.9/site-packages/threadpoolctl.py\", line 646, in get_version\n",
      "    config = get_config().split()\n",
      "AttributeError: 'NoneType' object has no attribute 'split'\n",
      "Exception ignored on calling ctypes callback function: <function _ThreadpoolInfo._find_modules_with_dl_iterate_phdr.<locals>.match_module_callback at 0x7f01b4eb00d0>\n",
      "Traceback (most recent call last):\n",
      "  File \"/home/marcus/anaconda3/lib/python3.9/site-packages/threadpoolctl.py\", line 400, in match_module_callback\n",
      "    self._make_module_from_path(filepath)\n",
      "  File \"/home/marcus/anaconda3/lib/python3.9/site-packages/threadpoolctl.py\", line 515, in _make_module_from_path\n",
      "    module = module_class(filepath, prefix, user_api, internal_api)\n",
      "  File \"/home/marcus/anaconda3/lib/python3.9/site-packages/threadpoolctl.py\", line 606, in __init__\n",
      "    self.version = self.get_version()\n",
      "  File \"/home/marcus/anaconda3/lib/python3.9/site-packages/threadpoolctl.py\", line 646, in get_version\n",
      "    config = get_config().split()\n",
      "AttributeError: 'NoneType' object has no attribute 'split'\n",
      "Exception ignored on calling ctypes callback function: <function _ThreadpoolInfo._find_modules_with_dl_iterate_phdr.<locals>.match_module_callback at 0x7f01b4dbbb80>\n",
      "Traceback (most recent call last):\n",
      "  File \"/home/marcus/anaconda3/lib/python3.9/site-packages/threadpoolctl.py\", line 400, in match_module_callback\n",
      "    self._make_module_from_path(filepath)\n",
      "  File \"/home/marcus/anaconda3/lib/python3.9/site-packages/threadpoolctl.py\", line 515, in _make_module_from_path\n",
      "    module = module_class(filepath, prefix, user_api, internal_api)\n",
      "  File \"/home/marcus/anaconda3/lib/python3.9/site-packages/threadpoolctl.py\", line 606, in __init__\n",
      "    self.version = self.get_version()\n",
      "  File \"/home/marcus/anaconda3/lib/python3.9/site-packages/threadpoolctl.py\", line 646, in get_version\n",
      "    config = get_config().split()\n",
      "AttributeError: 'NoneType' object has no attribute 'split'\n",
      "Exception ignored on calling ctypes callback function: <function _ThreadpoolInfo._find_modules_with_dl_iterate_phdr.<locals>.match_module_callback at 0x7f01b4eb00d0>\n",
      "Traceback (most recent call last):\n",
      "  File \"/home/marcus/anaconda3/lib/python3.9/site-packages/threadpoolctl.py\", line 400, in match_module_callback\n",
      "    self._make_module_from_path(filepath)\n",
      "  File \"/home/marcus/anaconda3/lib/python3.9/site-packages/threadpoolctl.py\", line 515, in _make_module_from_path\n",
      "    module = module_class(filepath, prefix, user_api, internal_api)\n",
      "  File \"/home/marcus/anaconda3/lib/python3.9/site-packages/threadpoolctl.py\", line 606, in __init__\n",
      "    self.version = self.get_version()\n",
      "  File \"/home/marcus/anaconda3/lib/python3.9/site-packages/threadpoolctl.py\", line 646, in get_version\n",
      "    config = get_config().split()\n",
      "AttributeError: 'NoneType' object has no attribute 'split'\n",
      "Exception ignored on calling ctypes callback function: <function _ThreadpoolInfo._find_modules_with_dl_iterate_phdr.<locals>.match_module_callback at 0x7f01b4dbbb80>\n",
      "Traceback (most recent call last):\n",
      "  File \"/home/marcus/anaconda3/lib/python3.9/site-packages/threadpoolctl.py\", line 400, in match_module_callback\n",
      "    self._make_module_from_path(filepath)\n",
      "  File \"/home/marcus/anaconda3/lib/python3.9/site-packages/threadpoolctl.py\", line 515, in _make_module_from_path\n",
      "    module = module_class(filepath, prefix, user_api, internal_api)\n",
      "  File \"/home/marcus/anaconda3/lib/python3.9/site-packages/threadpoolctl.py\", line 606, in __init__\n",
      "    self.version = self.get_version()\n",
      "  File \"/home/marcus/anaconda3/lib/python3.9/site-packages/threadpoolctl.py\", line 646, in get_version\n",
      "    config = get_config().split()\n",
      "AttributeError: 'NoneType' object has no attribute 'split'\n",
      "Exception ignored on calling ctypes callback function: <function _ThreadpoolInfo._find_modules_with_dl_iterate_phdr.<locals>.match_module_callback at 0x7f01b4eb00d0>\n",
      "Traceback (most recent call last):\n",
      "  File \"/home/marcus/anaconda3/lib/python3.9/site-packages/threadpoolctl.py\", line 400, in match_module_callback\n",
      "    self._make_module_from_path(filepath)\n",
      "  File \"/home/marcus/anaconda3/lib/python3.9/site-packages/threadpoolctl.py\", line 515, in _make_module_from_path\n",
      "    module = module_class(filepath, prefix, user_api, internal_api)\n",
      "  File \"/home/marcus/anaconda3/lib/python3.9/site-packages/threadpoolctl.py\", line 606, in __init__\n",
      "    self.version = self.get_version()\n",
      "  File \"/home/marcus/anaconda3/lib/python3.9/site-packages/threadpoolctl.py\", line 646, in get_version\n",
      "    config = get_config().split()\n",
      "AttributeError: 'NoneType' object has no attribute 'split'\n",
      "Exception ignored on calling ctypes callback function: <function _ThreadpoolInfo._find_modules_with_dl_iterate_phdr.<locals>.match_module_callback at 0x7f01b4dbbb80>\n",
      "Traceback (most recent call last):\n",
      "  File \"/home/marcus/anaconda3/lib/python3.9/site-packages/threadpoolctl.py\", line 400, in match_module_callback\n",
      "    self._make_module_from_path(filepath)\n",
      "  File \"/home/marcus/anaconda3/lib/python3.9/site-packages/threadpoolctl.py\", line 515, in _make_module_from_path\n",
      "    module = module_class(filepath, prefix, user_api, internal_api)\n",
      "  File \"/home/marcus/anaconda3/lib/python3.9/site-packages/threadpoolctl.py\", line 606, in __init__\n",
      "    self.version = self.get_version()\n",
      "  File \"/home/marcus/anaconda3/lib/python3.9/site-packages/threadpoolctl.py\", line 646, in get_version\n",
      "    config = get_config().split()\n",
      "AttributeError: 'NoneType' object has no attribute 'split'\n",
      "Exception ignored on calling ctypes callback function: <function _ThreadpoolInfo._find_modules_with_dl_iterate_phdr.<locals>.match_module_callback at 0x7f01b4eb00d0>\n",
      "Traceback (most recent call last):\n",
      "  File \"/home/marcus/anaconda3/lib/python3.9/site-packages/threadpoolctl.py\", line 400, in match_module_callback\n",
      "    self._make_module_from_path(filepath)\n",
      "  File \"/home/marcus/anaconda3/lib/python3.9/site-packages/threadpoolctl.py\", line 515, in _make_module_from_path\n",
      "    module = module_class(filepath, prefix, user_api, internal_api)\n",
      "  File \"/home/marcus/anaconda3/lib/python3.9/site-packages/threadpoolctl.py\", line 606, in __init__\n",
      "    self.version = self.get_version()\n",
      "  File \"/home/marcus/anaconda3/lib/python3.9/site-packages/threadpoolctl.py\", line 646, in get_version\n",
      "    config = get_config().split()\n",
      "AttributeError: 'NoneType' object has no attribute 'split'\n",
      "/home/marcus/anaconda3/lib/python3.9/site-packages/sklearn/utils/validation.py:1858: FutureWarning:\n",
      "\n",
      "Feature names only support names that are all strings. Got feature names with dtypes: ['int', 'str']. An error will be raised in 1.2.\n",
      "\n",
      "Exception ignored on calling ctypes callback function: <function _ThreadpoolInfo._find_modules_with_dl_iterate_phdr.<locals>.match_module_callback at 0x7f01b4dbbb80>\n",
      "Traceback (most recent call last):\n",
      "  File \"/home/marcus/anaconda3/lib/python3.9/site-packages/threadpoolctl.py\", line 400, in match_module_callback\n",
      "    self._make_module_from_path(filepath)\n",
      "  File \"/home/marcus/anaconda3/lib/python3.9/site-packages/threadpoolctl.py\", line 515, in _make_module_from_path\n",
      "    module = module_class(filepath, prefix, user_api, internal_api)\n",
      "  File \"/home/marcus/anaconda3/lib/python3.9/site-packages/threadpoolctl.py\", line 606, in __init__\n",
      "    self.version = self.get_version()\n",
      "  File \"/home/marcus/anaconda3/lib/python3.9/site-packages/threadpoolctl.py\", line 646, in get_version\n",
      "    config = get_config().split()\n",
      "AttributeError: 'NoneType' object has no attribute 'split'\n",
      "Exception ignored on calling ctypes callback function: <function _ThreadpoolInfo._find_modules_with_dl_iterate_phdr.<locals>.match_module_callback at 0x7f01b4eb00d0>\n",
      "Traceback (most recent call last):\n",
      "  File \"/home/marcus/anaconda3/lib/python3.9/site-packages/threadpoolctl.py\", line 400, in match_module_callback\n",
      "    self._make_module_from_path(filepath)\n",
      "  File \"/home/marcus/anaconda3/lib/python3.9/site-packages/threadpoolctl.py\", line 515, in _make_module_from_path\n",
      "    module = module_class(filepath, prefix, user_api, internal_api)\n",
      "  File \"/home/marcus/anaconda3/lib/python3.9/site-packages/threadpoolctl.py\", line 606, in __init__\n",
      "    self.version = self.get_version()\n",
      "  File \"/home/marcus/anaconda3/lib/python3.9/site-packages/threadpoolctl.py\", line 646, in get_version\n",
      "    config = get_config().split()\n",
      "AttributeError: 'NoneType' object has no attribute 'split'\n",
      "Exception ignored on calling ctypes callback function: <function _ThreadpoolInfo._find_modules_with_dl_iterate_phdr.<locals>.match_module_callback at 0x7f01b4dbbb80>\n",
      "Traceback (most recent call last):\n",
      "  File \"/home/marcus/anaconda3/lib/python3.9/site-packages/threadpoolctl.py\", line 400, in match_module_callback\n",
      "    self._make_module_from_path(filepath)\n",
      "  File \"/home/marcus/anaconda3/lib/python3.9/site-packages/threadpoolctl.py\", line 515, in _make_module_from_path\n",
      "    module = module_class(filepath, prefix, user_api, internal_api)\n",
      "  File \"/home/marcus/anaconda3/lib/python3.9/site-packages/threadpoolctl.py\", line 606, in __init__\n",
      "    self.version = self.get_version()\n",
      "  File \"/home/marcus/anaconda3/lib/python3.9/site-packages/threadpoolctl.py\", line 646, in get_version\n",
      "    config = get_config().split()\n",
      "AttributeError: 'NoneType' object has no attribute 'split'\n",
      "Exception ignored on calling ctypes callback function: <function _ThreadpoolInfo._find_modules_with_dl_iterate_phdr.<locals>.match_module_callback at 0x7f01b4eb00d0>\n",
      "Traceback (most recent call last):\n",
      "  File \"/home/marcus/anaconda3/lib/python3.9/site-packages/threadpoolctl.py\", line 400, in match_module_callback\n",
      "    self._make_module_from_path(filepath)\n",
      "  File \"/home/marcus/anaconda3/lib/python3.9/site-packages/threadpoolctl.py\", line 515, in _make_module_from_path\n",
      "    module = module_class(filepath, prefix, user_api, internal_api)\n",
      "  File \"/home/marcus/anaconda3/lib/python3.9/site-packages/threadpoolctl.py\", line 606, in __init__\n",
      "    self.version = self.get_version()\n",
      "  File \"/home/marcus/anaconda3/lib/python3.9/site-packages/threadpoolctl.py\", line 646, in get_version\n",
      "    config = get_config().split()\n",
      "AttributeError: 'NoneType' object has no attribute 'split'\n",
      "Exception ignored on calling ctypes callback function: <function _ThreadpoolInfo._find_modules_with_dl_iterate_phdr.<locals>.match_module_callback at 0x7f01b4dbbb80>\n",
      "Traceback (most recent call last):\n",
      "  File \"/home/marcus/anaconda3/lib/python3.9/site-packages/threadpoolctl.py\", line 400, in match_module_callback\n",
      "    self._make_module_from_path(filepath)\n",
      "  File \"/home/marcus/anaconda3/lib/python3.9/site-packages/threadpoolctl.py\", line 515, in _make_module_from_path\n",
      "    module = module_class(filepath, prefix, user_api, internal_api)\n",
      "  File \"/home/marcus/anaconda3/lib/python3.9/site-packages/threadpoolctl.py\", line 606, in __init__\n",
      "    self.version = self.get_version()\n",
      "  File \"/home/marcus/anaconda3/lib/python3.9/site-packages/threadpoolctl.py\", line 646, in get_version\n",
      "    config = get_config().split()\n",
      "AttributeError: 'NoneType' object has no attribute 'split'\n",
      "Exception ignored on calling ctypes callback function: <function _ThreadpoolInfo._find_modules_with_dl_iterate_phdr.<locals>.match_module_callback at 0x7f01b4eb00d0>\n",
      "Traceback (most recent call last):\n",
      "  File \"/home/marcus/anaconda3/lib/python3.9/site-packages/threadpoolctl.py\", line 400, in match_module_callback\n",
      "    self._make_module_from_path(filepath)\n",
      "  File \"/home/marcus/anaconda3/lib/python3.9/site-packages/threadpoolctl.py\", line 515, in _make_module_from_path\n",
      "    module = module_class(filepath, prefix, user_api, internal_api)\n",
      "  File \"/home/marcus/anaconda3/lib/python3.9/site-packages/threadpoolctl.py\", line 606, in __init__\n",
      "    self.version = self.get_version()\n",
      "  File \"/home/marcus/anaconda3/lib/python3.9/site-packages/threadpoolctl.py\", line 646, in get_version\n",
      "    config = get_config().split()\n",
      "AttributeError: 'NoneType' object has no attribute 'split'\n",
      "Exception ignored on calling ctypes callback function: <function _ThreadpoolInfo._find_modules_with_dl_iterate_phdr.<locals>.match_module_callback at 0x7f01b4dbbb80>\n",
      "Traceback (most recent call last):\n",
      "  File \"/home/marcus/anaconda3/lib/python3.9/site-packages/threadpoolctl.py\", line 400, in match_module_callback\n",
      "    self._make_module_from_path(filepath)\n",
      "  File \"/home/marcus/anaconda3/lib/python3.9/site-packages/threadpoolctl.py\", line 515, in _make_module_from_path\n",
      "    module = module_class(filepath, prefix, user_api, internal_api)\n",
      "  File \"/home/marcus/anaconda3/lib/python3.9/site-packages/threadpoolctl.py\", line 606, in __init__\n",
      "    self.version = self.get_version()\n",
      "  File \"/home/marcus/anaconda3/lib/python3.9/site-packages/threadpoolctl.py\", line 646, in get_version\n",
      "    config = get_config().split()\n",
      "AttributeError: 'NoneType' object has no attribute 'split'\n",
      "Exception ignored on calling ctypes callback function: <function _ThreadpoolInfo._find_modules_with_dl_iterate_phdr.<locals>.match_module_callback at 0x7f01b4dbbb80>\n",
      "Traceback (most recent call last):\n",
      "  File \"/home/marcus/anaconda3/lib/python3.9/site-packages/threadpoolctl.py\", line 400, in match_module_callback\n",
      "    self._make_module_from_path(filepath)\n",
      "  File \"/home/marcus/anaconda3/lib/python3.9/site-packages/threadpoolctl.py\", line 515, in _make_module_from_path\n",
      "    module = module_class(filepath, prefix, user_api, internal_api)\n",
      "  File \"/home/marcus/anaconda3/lib/python3.9/site-packages/threadpoolctl.py\", line 606, in __init__\n",
      "    self.version = self.get_version()\n",
      "  File \"/home/marcus/anaconda3/lib/python3.9/site-packages/threadpoolctl.py\", line 646, in get_version\n",
      "    config = get_config().split()\n",
      "AttributeError: 'NoneType' object has no attribute 'split'\n",
      "Exception ignored on calling ctypes callback function: <function _ThreadpoolInfo._find_modules_with_dl_iterate_phdr.<locals>.match_module_callback at 0x7f01b4eb00d0>\n",
      "Traceback (most recent call last):\n",
      "  File \"/home/marcus/anaconda3/lib/python3.9/site-packages/threadpoolctl.py\", line 400, in match_module_callback\n",
      "    self._make_module_from_path(filepath)\n",
      "  File \"/home/marcus/anaconda3/lib/python3.9/site-packages/threadpoolctl.py\", line 515, in _make_module_from_path\n",
      "    module = module_class(filepath, prefix, user_api, internal_api)\n",
      "  File \"/home/marcus/anaconda3/lib/python3.9/site-packages/threadpoolctl.py\", line 606, in __init__\n",
      "    self.version = self.get_version()\n",
      "  File \"/home/marcus/anaconda3/lib/python3.9/site-packages/threadpoolctl.py\", line 646, in get_version\n",
      "    config = get_config().split()\n",
      "AttributeError: 'NoneType' object has no attribute 'split'\n",
      "Exception ignored on calling ctypes callback function: <function _ThreadpoolInfo._find_modules_with_dl_iterate_phdr.<locals>.match_module_callback at 0x7f01b4dbbb80>\n",
      "Traceback (most recent call last):\n",
      "  File \"/home/marcus/anaconda3/lib/python3.9/site-packages/threadpoolctl.py\", line 400, in match_module_callback\n",
      "    self._make_module_from_path(filepath)\n",
      "  File \"/home/marcus/anaconda3/lib/python3.9/site-packages/threadpoolctl.py\", line 515, in _make_module_from_path\n",
      "    module = module_class(filepath, prefix, user_api, internal_api)\n",
      "  File \"/home/marcus/anaconda3/lib/python3.9/site-packages/threadpoolctl.py\", line 606, in __init__\n",
      "    self.version = self.get_version()\n",
      "  File \"/home/marcus/anaconda3/lib/python3.9/site-packages/threadpoolctl.py\", line 646, in get_version\n",
      "    config = get_config().split()\n",
      "AttributeError: 'NoneType' object has no attribute 'split'\n",
      "/home/marcus/anaconda3/lib/python3.9/site-packages/sklearn/utils/validation.py:1858: FutureWarning:\n",
      "\n",
      "Feature names only support names that are all strings. Got feature names with dtypes: ['int', 'str']. An error will be raised in 1.2.\n",
      "\n",
      "Exception ignored on calling ctypes callback function: <function _ThreadpoolInfo._find_modules_with_dl_iterate_phdr.<locals>.match_module_callback at 0x7f01b4dbbb80>\n",
      "Traceback (most recent call last):\n",
      "  File \"/home/marcus/anaconda3/lib/python3.9/site-packages/threadpoolctl.py\", line 400, in match_module_callback\n",
      "    self._make_module_from_path(filepath)\n",
      "  File \"/home/marcus/anaconda3/lib/python3.9/site-packages/threadpoolctl.py\", line 515, in _make_module_from_path\n",
      "    module = module_class(filepath, prefix, user_api, internal_api)\n",
      "  File \"/home/marcus/anaconda3/lib/python3.9/site-packages/threadpoolctl.py\", line 606, in __init__\n",
      "    self.version = self.get_version()\n",
      "  File \"/home/marcus/anaconda3/lib/python3.9/site-packages/threadpoolctl.py\", line 646, in get_version\n",
      "    config = get_config().split()\n",
      "AttributeError: 'NoneType' object has no attribute 'split'\n",
      "Exception ignored on calling ctypes callback function: <function _ThreadpoolInfo._find_modules_with_dl_iterate_phdr.<locals>.match_module_callback at 0x7f01b4eb00d0>\n",
      "Traceback (most recent call last):\n",
      "  File \"/home/marcus/anaconda3/lib/python3.9/site-packages/threadpoolctl.py\", line 400, in match_module_callback\n",
      "    self._make_module_from_path(filepath)\n",
      "  File \"/home/marcus/anaconda3/lib/python3.9/site-packages/threadpoolctl.py\", line 515, in _make_module_from_path\n",
      "    module = module_class(filepath, prefix, user_api, internal_api)\n",
      "  File \"/home/marcus/anaconda3/lib/python3.9/site-packages/threadpoolctl.py\", line 606, in __init__\n",
      "    self.version = self.get_version()\n",
      "  File \"/home/marcus/anaconda3/lib/python3.9/site-packages/threadpoolctl.py\", line 646, in get_version\n",
      "    config = get_config().split()\n",
      "AttributeError: 'NoneType' object has no attribute 'split'\n",
      "Exception ignored on calling ctypes callback function: <function _ThreadpoolInfo._find_modules_with_dl_iterate_phdr.<locals>.match_module_callback at 0x7f01b4eb00d0>\n",
      "Traceback (most recent call last):\n",
      "  File \"/home/marcus/anaconda3/lib/python3.9/site-packages/threadpoolctl.py\", line 400, in match_module_callback\n",
      "    self._make_module_from_path(filepath)\n",
      "  File \"/home/marcus/anaconda3/lib/python3.9/site-packages/threadpoolctl.py\", line 515, in _make_module_from_path\n",
      "    module = module_class(filepath, prefix, user_api, internal_api)\n",
      "  File \"/home/marcus/anaconda3/lib/python3.9/site-packages/threadpoolctl.py\", line 606, in __init__\n",
      "    self.version = self.get_version()\n",
      "  File \"/home/marcus/anaconda3/lib/python3.9/site-packages/threadpoolctl.py\", line 646, in get_version\n",
      "    config = get_config().split()\n",
      "AttributeError: 'NoneType' object has no attribute 'split'\n",
      "Exception ignored on calling ctypes callback function: <function _ThreadpoolInfo._find_modules_with_dl_iterate_phdr.<locals>.match_module_callback at 0x7f01b4dbbb80>\n",
      "Traceback (most recent call last):\n",
      "  File \"/home/marcus/anaconda3/lib/python3.9/site-packages/threadpoolctl.py\", line 400, in match_module_callback\n",
      "    self._make_module_from_path(filepath)\n",
      "  File \"/home/marcus/anaconda3/lib/python3.9/site-packages/threadpoolctl.py\", line 515, in _make_module_from_path\n",
      "    module = module_class(filepath, prefix, user_api, internal_api)\n",
      "  File \"/home/marcus/anaconda3/lib/python3.9/site-packages/threadpoolctl.py\", line 606, in __init__\n",
      "    self.version = self.get_version()\n",
      "  File \"/home/marcus/anaconda3/lib/python3.9/site-packages/threadpoolctl.py\", line 646, in get_version\n",
      "    config = get_config().split()\n",
      "AttributeError: 'NoneType' object has no attribute 'split'\n",
      "Exception ignored on calling ctypes callback function: <function _ThreadpoolInfo._find_modules_with_dl_iterate_phdr.<locals>.match_module_callback at 0x7f01b4eb00d0>\n",
      "Traceback (most recent call last):\n",
      "  File \"/home/marcus/anaconda3/lib/python3.9/site-packages/threadpoolctl.py\", line 400, in match_module_callback\n",
      "    self._make_module_from_path(filepath)\n",
      "  File \"/home/marcus/anaconda3/lib/python3.9/site-packages/threadpoolctl.py\", line 515, in _make_module_from_path\n",
      "    module = module_class(filepath, prefix, user_api, internal_api)\n",
      "  File \"/home/marcus/anaconda3/lib/python3.9/site-packages/threadpoolctl.py\", line 606, in __init__\n",
      "    self.version = self.get_version()\n",
      "  File \"/home/marcus/anaconda3/lib/python3.9/site-packages/threadpoolctl.py\", line 646, in get_version\n",
      "    config = get_config().split()\n",
      "AttributeError: 'NoneType' object has no attribute 'split'\n",
      "Exception ignored on calling ctypes callback function: <function _ThreadpoolInfo._find_modules_with_dl_iterate_phdr.<locals>.match_module_callback at 0x7f01b4dbbb80>\n",
      "Traceback (most recent call last):\n",
      "  File \"/home/marcus/anaconda3/lib/python3.9/site-packages/threadpoolctl.py\", line 400, in match_module_callback\n",
      "    self._make_module_from_path(filepath)\n",
      "  File \"/home/marcus/anaconda3/lib/python3.9/site-packages/threadpoolctl.py\", line 515, in _make_module_from_path\n",
      "    module = module_class(filepath, prefix, user_api, internal_api)\n",
      "  File \"/home/marcus/anaconda3/lib/python3.9/site-packages/threadpoolctl.py\", line 606, in __init__\n",
      "    self.version = self.get_version()\n",
      "  File \"/home/marcus/anaconda3/lib/python3.9/site-packages/threadpoolctl.py\", line 646, in get_version\n",
      "    config = get_config().split()\n",
      "AttributeError: 'NoneType' object has no attribute 'split'\n",
      "Exception ignored on calling ctypes callback function: <function _ThreadpoolInfo._find_modules_with_dl_iterate_phdr.<locals>.match_module_callback at 0x7f01b4eb00d0>\n",
      "Traceback (most recent call last):\n",
      "  File \"/home/marcus/anaconda3/lib/python3.9/site-packages/threadpoolctl.py\", line 400, in match_module_callback\n",
      "    self._make_module_from_path(filepath)\n",
      "  File \"/home/marcus/anaconda3/lib/python3.9/site-packages/threadpoolctl.py\", line 515, in _make_module_from_path\n",
      "    module = module_class(filepath, prefix, user_api, internal_api)\n",
      "  File \"/home/marcus/anaconda3/lib/python3.9/site-packages/threadpoolctl.py\", line 606, in __init__\n",
      "    self.version = self.get_version()\n",
      "  File \"/home/marcus/anaconda3/lib/python3.9/site-packages/threadpoolctl.py\", line 646, in get_version\n",
      "    config = get_config().split()\n",
      "AttributeError: 'NoneType' object has no attribute 'split'\n",
      "Exception ignored on calling ctypes callback function: <function _ThreadpoolInfo._find_modules_with_dl_iterate_phdr.<locals>.match_module_callback at 0x7f01b4dbbb80>\n",
      "Traceback (most recent call last):\n",
      "  File \"/home/marcus/anaconda3/lib/python3.9/site-packages/threadpoolctl.py\", line 400, in match_module_callback\n",
      "    self._make_module_from_path(filepath)\n",
      "  File \"/home/marcus/anaconda3/lib/python3.9/site-packages/threadpoolctl.py\", line 515, in _make_module_from_path\n",
      "    module = module_class(filepath, prefix, user_api, internal_api)\n",
      "  File \"/home/marcus/anaconda3/lib/python3.9/site-packages/threadpoolctl.py\", line 606, in __init__\n",
      "    self.version = self.get_version()\n",
      "  File \"/home/marcus/anaconda3/lib/python3.9/site-packages/threadpoolctl.py\", line 646, in get_version\n",
      "    config = get_config().split()\n",
      "AttributeError: 'NoneType' object has no attribute 'split'\n",
      "Exception ignored on calling ctypes callback function: <function _ThreadpoolInfo._find_modules_with_dl_iterate_phdr.<locals>.match_module_callback at 0x7f01b4eb00d0>\n",
      "Traceback (most recent call last):\n",
      "  File \"/home/marcus/anaconda3/lib/python3.9/site-packages/threadpoolctl.py\", line 400, in match_module_callback\n",
      "    self._make_module_from_path(filepath)\n",
      "  File \"/home/marcus/anaconda3/lib/python3.9/site-packages/threadpoolctl.py\", line 515, in _make_module_from_path\n",
      "    module = module_class(filepath, prefix, user_api, internal_api)\n",
      "  File \"/home/marcus/anaconda3/lib/python3.9/site-packages/threadpoolctl.py\", line 606, in __init__\n",
      "    self.version = self.get_version()\n",
      "  File \"/home/marcus/anaconda3/lib/python3.9/site-packages/threadpoolctl.py\", line 646, in get_version\n",
      "    config = get_config().split()\n",
      "AttributeError: 'NoneType' object has no attribute 'split'\n",
      "Exception ignored on calling ctypes callback function: <function _ThreadpoolInfo._find_modules_with_dl_iterate_phdr.<locals>.match_module_callback at 0x7f01b4dbbb80>\n",
      "Traceback (most recent call last):\n",
      "  File \"/home/marcus/anaconda3/lib/python3.9/site-packages/threadpoolctl.py\", line 400, in match_module_callback\n",
      "    self._make_module_from_path(filepath)\n",
      "  File \"/home/marcus/anaconda3/lib/python3.9/site-packages/threadpoolctl.py\", line 515, in _make_module_from_path\n",
      "    module = module_class(filepath, prefix, user_api, internal_api)\n",
      "  File \"/home/marcus/anaconda3/lib/python3.9/site-packages/threadpoolctl.py\", line 606, in __init__\n",
      "    self.version = self.get_version()\n",
      "  File \"/home/marcus/anaconda3/lib/python3.9/site-packages/threadpoolctl.py\", line 646, in get_version\n",
      "    config = get_config().split()\n",
      "AttributeError: 'NoneType' object has no attribute 'split'\n",
      "/home/marcus/anaconda3/lib/python3.9/site-packages/sklearn/utils/validation.py:1858: FutureWarning:\n",
      "\n",
      "Feature names only support names that are all strings. Got feature names with dtypes: ['int', 'str']. An error will be raised in 1.2.\n",
      "\n",
      "Exception ignored on calling ctypes callback function: <function _ThreadpoolInfo._find_modules_with_dl_iterate_phdr.<locals>.match_module_callback at 0x7f01b4dbbb80>\n",
      "Traceback (most recent call last):\n",
      "  File \"/home/marcus/anaconda3/lib/python3.9/site-packages/threadpoolctl.py\", line 400, in match_module_callback\n",
      "    self._make_module_from_path(filepath)\n",
      "  File \"/home/marcus/anaconda3/lib/python3.9/site-packages/threadpoolctl.py\", line 515, in _make_module_from_path\n",
      "    module = module_class(filepath, prefix, user_api, internal_api)\n",
      "  File \"/home/marcus/anaconda3/lib/python3.9/site-packages/threadpoolctl.py\", line 606, in __init__\n",
      "    self.version = self.get_version()\n",
      "  File \"/home/marcus/anaconda3/lib/python3.9/site-packages/threadpoolctl.py\", line 646, in get_version\n",
      "    config = get_config().split()\n",
      "AttributeError: 'NoneType' object has no attribute 'split'\n",
      "Exception ignored on calling ctypes callback function: <function _ThreadpoolInfo._find_modules_with_dl_iterate_phdr.<locals>.match_module_callback at 0x7f01b4eb00d0>\n",
      "Traceback (most recent call last):\n",
      "  File \"/home/marcus/anaconda3/lib/python3.9/site-packages/threadpoolctl.py\", line 400, in match_module_callback\n",
      "    self._make_module_from_path(filepath)\n",
      "  File \"/home/marcus/anaconda3/lib/python3.9/site-packages/threadpoolctl.py\", line 515, in _make_module_from_path\n",
      "    module = module_class(filepath, prefix, user_api, internal_api)\n",
      "  File \"/home/marcus/anaconda3/lib/python3.9/site-packages/threadpoolctl.py\", line 606, in __init__\n",
      "    self.version = self.get_version()\n",
      "  File \"/home/marcus/anaconda3/lib/python3.9/site-packages/threadpoolctl.py\", line 646, in get_version\n",
      "    config = get_config().split()\n",
      "AttributeError: 'NoneType' object has no attribute 'split'\n",
      "Exception ignored on calling ctypes callback function: <function _ThreadpoolInfo._find_modules_with_dl_iterate_phdr.<locals>.match_module_callback at 0x7f01b4dbbb80>\n",
      "Traceback (most recent call last):\n",
      "  File \"/home/marcus/anaconda3/lib/python3.9/site-packages/threadpoolctl.py\", line 400, in match_module_callback\n",
      "    self._make_module_from_path(filepath)\n",
      "  File \"/home/marcus/anaconda3/lib/python3.9/site-packages/threadpoolctl.py\", line 515, in _make_module_from_path\n",
      "    module = module_class(filepath, prefix, user_api, internal_api)\n",
      "  File \"/home/marcus/anaconda3/lib/python3.9/site-packages/threadpoolctl.py\", line 606, in __init__\n",
      "    self.version = self.get_version()\n",
      "  File \"/home/marcus/anaconda3/lib/python3.9/site-packages/threadpoolctl.py\", line 646, in get_version\n",
      "    config = get_config().split()\n",
      "AttributeError: 'NoneType' object has no attribute 'split'\n",
      "Exception ignored on calling ctypes callback function: <function _ThreadpoolInfo._find_modules_with_dl_iterate_phdr.<locals>.match_module_callback at 0x7f01b4eb00d0>\n",
      "Traceback (most recent call last):\n",
      "  File \"/home/marcus/anaconda3/lib/python3.9/site-packages/threadpoolctl.py\", line 400, in match_module_callback\n",
      "    self._make_module_from_path(filepath)\n",
      "  File \"/home/marcus/anaconda3/lib/python3.9/site-packages/threadpoolctl.py\", line 515, in _make_module_from_path\n",
      "    module = module_class(filepath, prefix, user_api, internal_api)\n",
      "  File \"/home/marcus/anaconda3/lib/python3.9/site-packages/threadpoolctl.py\", line 606, in __init__\n",
      "    self.version = self.get_version()\n",
      "  File \"/home/marcus/anaconda3/lib/python3.9/site-packages/threadpoolctl.py\", line 646, in get_version\n",
      "    config = get_config().split()\n",
      "AttributeError: 'NoneType' object has no attribute 'split'\n",
      "Exception ignored on calling ctypes callback function: <function _ThreadpoolInfo._find_modules_with_dl_iterate_phdr.<locals>.match_module_callback at 0x7f01b4dbbb80>\n",
      "Traceback (most recent call last):\n",
      "  File \"/home/marcus/anaconda3/lib/python3.9/site-packages/threadpoolctl.py\", line 400, in match_module_callback\n",
      "    self._make_module_from_path(filepath)\n",
      "  File \"/home/marcus/anaconda3/lib/python3.9/site-packages/threadpoolctl.py\", line 515, in _make_module_from_path\n",
      "    module = module_class(filepath, prefix, user_api, internal_api)\n",
      "  File \"/home/marcus/anaconda3/lib/python3.9/site-packages/threadpoolctl.py\", line 606, in __init__\n",
      "    self.version = self.get_version()\n",
      "  File \"/home/marcus/anaconda3/lib/python3.9/site-packages/threadpoolctl.py\", line 646, in get_version\n",
      "    config = get_config().split()\n",
      "AttributeError: 'NoneType' object has no attribute 'split'\n",
      "Exception ignored on calling ctypes callback function: <function _ThreadpoolInfo._find_modules_with_dl_iterate_phdr.<locals>.match_module_callback at 0x7f01b4eb00d0>\n",
      "Traceback (most recent call last):\n",
      "  File \"/home/marcus/anaconda3/lib/python3.9/site-packages/threadpoolctl.py\", line 400, in match_module_callback\n",
      "    self._make_module_from_path(filepath)\n",
      "  File \"/home/marcus/anaconda3/lib/python3.9/site-packages/threadpoolctl.py\", line 515, in _make_module_from_path\n",
      "    module = module_class(filepath, prefix, user_api, internal_api)\n",
      "  File \"/home/marcus/anaconda3/lib/python3.9/site-packages/threadpoolctl.py\", line 606, in __init__\n",
      "    self.version = self.get_version()\n",
      "  File \"/home/marcus/anaconda3/lib/python3.9/site-packages/threadpoolctl.py\", line 646, in get_version\n",
      "    config = get_config().split()\n",
      "AttributeError: 'NoneType' object has no attribute 'split'\n",
      "Exception ignored on calling ctypes callback function: <function _ThreadpoolInfo._find_modules_with_dl_iterate_phdr.<locals>.match_module_callback at 0x7f01b4dbbb80>\n",
      "Traceback (most recent call last):\n",
      "  File \"/home/marcus/anaconda3/lib/python3.9/site-packages/threadpoolctl.py\", line 400, in match_module_callback\n",
      "    self._make_module_from_path(filepath)\n",
      "  File \"/home/marcus/anaconda3/lib/python3.9/site-packages/threadpoolctl.py\", line 515, in _make_module_from_path\n",
      "    module = module_class(filepath, prefix, user_api, internal_api)\n",
      "  File \"/home/marcus/anaconda3/lib/python3.9/site-packages/threadpoolctl.py\", line 606, in __init__\n",
      "    self.version = self.get_version()\n",
      "  File \"/home/marcus/anaconda3/lib/python3.9/site-packages/threadpoolctl.py\", line 646, in get_version\n",
      "    config = get_config().split()\n",
      "AttributeError: 'NoneType' object has no attribute 'split'\n",
      "Exception ignored on calling ctypes callback function: <function _ThreadpoolInfo._find_modules_with_dl_iterate_phdr.<locals>.match_module_callback at 0x7f01b4eb00d0>\n",
      "Traceback (most recent call last):\n",
      "  File \"/home/marcus/anaconda3/lib/python3.9/site-packages/threadpoolctl.py\", line 400, in match_module_callback\n",
      "    self._make_module_from_path(filepath)\n",
      "  File \"/home/marcus/anaconda3/lib/python3.9/site-packages/threadpoolctl.py\", line 515, in _make_module_from_path\n",
      "    module = module_class(filepath, prefix, user_api, internal_api)\n",
      "  File \"/home/marcus/anaconda3/lib/python3.9/site-packages/threadpoolctl.py\", line 606, in __init__\n",
      "    self.version = self.get_version()\n",
      "  File \"/home/marcus/anaconda3/lib/python3.9/site-packages/threadpoolctl.py\", line 646, in get_version\n",
      "    config = get_config().split()\n",
      "AttributeError: 'NoneType' object has no attribute 'split'\n",
      "Exception ignored on calling ctypes callback function: <function _ThreadpoolInfo._find_modules_with_dl_iterate_phdr.<locals>.match_module_callback at 0x7f01b4dbbb80>\n",
      "Traceback (most recent call last):\n",
      "  File \"/home/marcus/anaconda3/lib/python3.9/site-packages/threadpoolctl.py\", line 400, in match_module_callback\n",
      "    self._make_module_from_path(filepath)\n",
      "  File \"/home/marcus/anaconda3/lib/python3.9/site-packages/threadpoolctl.py\", line 515, in _make_module_from_path\n",
      "    module = module_class(filepath, prefix, user_api, internal_api)\n",
      "  File \"/home/marcus/anaconda3/lib/python3.9/site-packages/threadpoolctl.py\", line 606, in __init__\n",
      "    self.version = self.get_version()\n",
      "  File \"/home/marcus/anaconda3/lib/python3.9/site-packages/threadpoolctl.py\", line 646, in get_version\n",
      "    config = get_config().split()\n",
      "AttributeError: 'NoneType' object has no attribute 'split'\n",
      "Exception ignored on calling ctypes callback function: <function _ThreadpoolInfo._find_modules_with_dl_iterate_phdr.<locals>.match_module_callback at 0x7f01b4eb00d0>\n",
      "Traceback (most recent call last):\n",
      "  File \"/home/marcus/anaconda3/lib/python3.9/site-packages/threadpoolctl.py\", line 400, in match_module_callback\n",
      "    self._make_module_from_path(filepath)\n",
      "  File \"/home/marcus/anaconda3/lib/python3.9/site-packages/threadpoolctl.py\", line 515, in _make_module_from_path\n",
      "    module = module_class(filepath, prefix, user_api, internal_api)\n",
      "  File \"/home/marcus/anaconda3/lib/python3.9/site-packages/threadpoolctl.py\", line 606, in __init__\n",
      "    self.version = self.get_version()\n",
      "  File \"/home/marcus/anaconda3/lib/python3.9/site-packages/threadpoolctl.py\", line 646, in get_version\n",
      "    config = get_config().split()\n",
      "AttributeError: 'NoneType' object has no attribute 'split'\n",
      "/home/marcus/anaconda3/lib/python3.9/site-packages/sklearn/utils/validation.py:1858: FutureWarning:\n",
      "\n",
      "Feature names only support names that are all strings. Got feature names with dtypes: ['int', 'str']. An error will be raised in 1.2.\n",
      "\n",
      "Exception ignored on calling ctypes callback function: <function _ThreadpoolInfo._find_modules_with_dl_iterate_phdr.<locals>.match_module_callback at 0x7f01b4eb00d0>\n",
      "Traceback (most recent call last):\n",
      "  File \"/home/marcus/anaconda3/lib/python3.9/site-packages/threadpoolctl.py\", line 400, in match_module_callback\n",
      "    self._make_module_from_path(filepath)\n",
      "  File \"/home/marcus/anaconda3/lib/python3.9/site-packages/threadpoolctl.py\", line 515, in _make_module_from_path\n",
      "    module = module_class(filepath, prefix, user_api, internal_api)\n",
      "  File \"/home/marcus/anaconda3/lib/python3.9/site-packages/threadpoolctl.py\", line 606, in __init__\n",
      "    self.version = self.get_version()\n",
      "  File \"/home/marcus/anaconda3/lib/python3.9/site-packages/threadpoolctl.py\", line 646, in get_version\n",
      "    config = get_config().split()\n",
      "AttributeError: 'NoneType' object has no attribute 'split'\n",
      "Exception ignored on calling ctypes callback function: <function _ThreadpoolInfo._find_modules_with_dl_iterate_phdr.<locals>.match_module_callback at 0x7f01b4dbbb80>\n",
      "Traceback (most recent call last):\n",
      "  File \"/home/marcus/anaconda3/lib/python3.9/site-packages/threadpoolctl.py\", line 400, in match_module_callback\n",
      "    self._make_module_from_path(filepath)\n",
      "  File \"/home/marcus/anaconda3/lib/python3.9/site-packages/threadpoolctl.py\", line 515, in _make_module_from_path\n",
      "    module = module_class(filepath, prefix, user_api, internal_api)\n",
      "  File \"/home/marcus/anaconda3/lib/python3.9/site-packages/threadpoolctl.py\", line 606, in __init__\n",
      "    self.version = self.get_version()\n",
      "  File \"/home/marcus/anaconda3/lib/python3.9/site-packages/threadpoolctl.py\", line 646, in get_version\n",
      "    config = get_config().split()\n",
      "AttributeError: 'NoneType' object has no attribute 'split'\n",
      "Exception ignored on calling ctypes callback function: <function _ThreadpoolInfo._find_modules_with_dl_iterate_phdr.<locals>.match_module_callback at 0x7f01b4eb00d0>\n",
      "Traceback (most recent call last):\n",
      "  File \"/home/marcus/anaconda3/lib/python3.9/site-packages/threadpoolctl.py\", line 400, in match_module_callback\n",
      "    self._make_module_from_path(filepath)\n",
      "  File \"/home/marcus/anaconda3/lib/python3.9/site-packages/threadpoolctl.py\", line 515, in _make_module_from_path\n",
      "    module = module_class(filepath, prefix, user_api, internal_api)\n",
      "  File \"/home/marcus/anaconda3/lib/python3.9/site-packages/threadpoolctl.py\", line 606, in __init__\n",
      "    self.version = self.get_version()\n",
      "  File \"/home/marcus/anaconda3/lib/python3.9/site-packages/threadpoolctl.py\", line 646, in get_version\n",
      "    config = get_config().split()\n",
      "AttributeError: 'NoneType' object has no attribute 'split'\n",
      "Exception ignored on calling ctypes callback function: <function _ThreadpoolInfo._find_modules_with_dl_iterate_phdr.<locals>.match_module_callback at 0x7f01b4dbbb80>\n",
      "Traceback (most recent call last):\n",
      "  File \"/home/marcus/anaconda3/lib/python3.9/site-packages/threadpoolctl.py\", line 400, in match_module_callback\n",
      "    self._make_module_from_path(filepath)\n",
      "  File \"/home/marcus/anaconda3/lib/python3.9/site-packages/threadpoolctl.py\", line 515, in _make_module_from_path\n",
      "    module = module_class(filepath, prefix, user_api, internal_api)\n",
      "  File \"/home/marcus/anaconda3/lib/python3.9/site-packages/threadpoolctl.py\", line 606, in __init__\n",
      "    self.version = self.get_version()\n",
      "  File \"/home/marcus/anaconda3/lib/python3.9/site-packages/threadpoolctl.py\", line 646, in get_version\n",
      "    config = get_config().split()\n",
      "AttributeError: 'NoneType' object has no attribute 'split'\n",
      "Exception ignored on calling ctypes callback function: <function _ThreadpoolInfo._find_modules_with_dl_iterate_phdr.<locals>.match_module_callback at 0x7f01b4eb00d0>\n",
      "Traceback (most recent call last):\n",
      "  File \"/home/marcus/anaconda3/lib/python3.9/site-packages/threadpoolctl.py\", line 400, in match_module_callback\n",
      "    self._make_module_from_path(filepath)\n",
      "  File \"/home/marcus/anaconda3/lib/python3.9/site-packages/threadpoolctl.py\", line 515, in _make_module_from_path\n",
      "    module = module_class(filepath, prefix, user_api, internal_api)\n",
      "  File \"/home/marcus/anaconda3/lib/python3.9/site-packages/threadpoolctl.py\", line 606, in __init__\n",
      "    self.version = self.get_version()\n",
      "  File \"/home/marcus/anaconda3/lib/python3.9/site-packages/threadpoolctl.py\", line 646, in get_version\n",
      "    config = get_config().split()\n",
      "AttributeError: 'NoneType' object has no attribute 'split'\n",
      "Exception ignored on calling ctypes callback function: <function _ThreadpoolInfo._find_modules_with_dl_iterate_phdr.<locals>.match_module_callback at 0x7f01b4dbbb80>\n",
      "Traceback (most recent call last):\n",
      "  File \"/home/marcus/anaconda3/lib/python3.9/site-packages/threadpoolctl.py\", line 400, in match_module_callback\n",
      "    self._make_module_from_path(filepath)\n",
      "  File \"/home/marcus/anaconda3/lib/python3.9/site-packages/threadpoolctl.py\", line 515, in _make_module_from_path\n",
      "    module = module_class(filepath, prefix, user_api, internal_api)\n",
      "  File \"/home/marcus/anaconda3/lib/python3.9/site-packages/threadpoolctl.py\", line 606, in __init__\n",
      "    self.version = self.get_version()\n",
      "  File \"/home/marcus/anaconda3/lib/python3.9/site-packages/threadpoolctl.py\", line 646, in get_version\n",
      "    config = get_config().split()\n",
      "AttributeError: 'NoneType' object has no attribute 'split'\n",
      "Exception ignored on calling ctypes callback function: <function _ThreadpoolInfo._find_modules_with_dl_iterate_phdr.<locals>.match_module_callback at 0x7f01b4eb00d0>\n",
      "Traceback (most recent call last):\n",
      "  File \"/home/marcus/anaconda3/lib/python3.9/site-packages/threadpoolctl.py\", line 400, in match_module_callback\n",
      "    self._make_module_from_path(filepath)\n",
      "  File \"/home/marcus/anaconda3/lib/python3.9/site-packages/threadpoolctl.py\", line 515, in _make_module_from_path\n",
      "    module = module_class(filepath, prefix, user_api, internal_api)\n",
      "  File \"/home/marcus/anaconda3/lib/python3.9/site-packages/threadpoolctl.py\", line 606, in __init__\n",
      "    self.version = self.get_version()\n",
      "  File \"/home/marcus/anaconda3/lib/python3.9/site-packages/threadpoolctl.py\", line 646, in get_version\n",
      "    config = get_config().split()\n",
      "AttributeError: 'NoneType' object has no attribute 'split'\n",
      "Exception ignored on calling ctypes callback function: <function _ThreadpoolInfo._find_modules_with_dl_iterate_phdr.<locals>.match_module_callback at 0x7f01b4dbbb80>\n",
      "Traceback (most recent call last):\n",
      "  File \"/home/marcus/anaconda3/lib/python3.9/site-packages/threadpoolctl.py\", line 400, in match_module_callback\n",
      "    self._make_module_from_path(filepath)\n",
      "  File \"/home/marcus/anaconda3/lib/python3.9/site-packages/threadpoolctl.py\", line 515, in _make_module_from_path\n",
      "    module = module_class(filepath, prefix, user_api, internal_api)\n",
      "  File \"/home/marcus/anaconda3/lib/python3.9/site-packages/threadpoolctl.py\", line 606, in __init__\n",
      "    self.version = self.get_version()\n",
      "  File \"/home/marcus/anaconda3/lib/python3.9/site-packages/threadpoolctl.py\", line 646, in get_version\n",
      "    config = get_config().split()\n",
      "AttributeError: 'NoneType' object has no attribute 'split'\n",
      "Exception ignored on calling ctypes callback function: <function _ThreadpoolInfo._find_modules_with_dl_iterate_phdr.<locals>.match_module_callback at 0x7f01b4eb00d0>\n",
      "Traceback (most recent call last):\n",
      "  File \"/home/marcus/anaconda3/lib/python3.9/site-packages/threadpoolctl.py\", line 400, in match_module_callback\n",
      "    self._make_module_from_path(filepath)\n",
      "  File \"/home/marcus/anaconda3/lib/python3.9/site-packages/threadpoolctl.py\", line 515, in _make_module_from_path\n",
      "    module = module_class(filepath, prefix, user_api, internal_api)\n",
      "  File \"/home/marcus/anaconda3/lib/python3.9/site-packages/threadpoolctl.py\", line 606, in __init__\n",
      "    self.version = self.get_version()\n",
      "  File \"/home/marcus/anaconda3/lib/python3.9/site-packages/threadpoolctl.py\", line 646, in get_version\n",
      "    config = get_config().split()\n",
      "AttributeError: 'NoneType' object has no attribute 'split'\n",
      "Exception ignored on calling ctypes callback function: <function _ThreadpoolInfo._find_modules_with_dl_iterate_phdr.<locals>.match_module_callback at 0x7f01b4dbbb80>\n",
      "Traceback (most recent call last):\n",
      "  File \"/home/marcus/anaconda3/lib/python3.9/site-packages/threadpoolctl.py\", line 400, in match_module_callback\n",
      "    self._make_module_from_path(filepath)\n",
      "  File \"/home/marcus/anaconda3/lib/python3.9/site-packages/threadpoolctl.py\", line 515, in _make_module_from_path\n",
      "    module = module_class(filepath, prefix, user_api, internal_api)\n",
      "  File \"/home/marcus/anaconda3/lib/python3.9/site-packages/threadpoolctl.py\", line 606, in __init__\n",
      "    self.version = self.get_version()\n",
      "  File \"/home/marcus/anaconda3/lib/python3.9/site-packages/threadpoolctl.py\", line 646, in get_version\n",
      "    config = get_config().split()\n",
      "AttributeError: 'NoneType' object has no attribute 'split'\n",
      "/home/marcus/anaconda3/lib/python3.9/site-packages/sklearn/utils/validation.py:1858: FutureWarning:\n",
      "\n",
      "Feature names only support names that are all strings. Got feature names with dtypes: ['int', 'str']. An error will be raised in 1.2.\n",
      "\n",
      "Exception ignored on calling ctypes callback function: <function _ThreadpoolInfo._find_modules_with_dl_iterate_phdr.<locals>.match_module_callback at 0x7f01b4dbbb80>\n",
      "Traceback (most recent call last):\n",
      "  File \"/home/marcus/anaconda3/lib/python3.9/site-packages/threadpoolctl.py\", line 400, in match_module_callback\n",
      "    self._make_module_from_path(filepath)\n",
      "  File \"/home/marcus/anaconda3/lib/python3.9/site-packages/threadpoolctl.py\", line 515, in _make_module_from_path\n",
      "    module = module_class(filepath, prefix, user_api, internal_api)\n",
      "  File \"/home/marcus/anaconda3/lib/python3.9/site-packages/threadpoolctl.py\", line 606, in __init__\n",
      "    self.version = self.get_version()\n",
      "  File \"/home/marcus/anaconda3/lib/python3.9/site-packages/threadpoolctl.py\", line 646, in get_version\n",
      "    config = get_config().split()\n",
      "AttributeError: 'NoneType' object has no attribute 'split'\n",
      "Exception ignored on calling ctypes callback function: <function _ThreadpoolInfo._find_modules_with_dl_iterate_phdr.<locals>.match_module_callback at 0x7f01b4eb00d0>\n",
      "Traceback (most recent call last):\n",
      "  File \"/home/marcus/anaconda3/lib/python3.9/site-packages/threadpoolctl.py\", line 400, in match_module_callback\n",
      "    self._make_module_from_path(filepath)\n",
      "  File \"/home/marcus/anaconda3/lib/python3.9/site-packages/threadpoolctl.py\", line 515, in _make_module_from_path\n",
      "    module = module_class(filepath, prefix, user_api, internal_api)\n",
      "  File \"/home/marcus/anaconda3/lib/python3.9/site-packages/threadpoolctl.py\", line 606, in __init__\n",
      "    self.version = self.get_version()\n",
      "  File \"/home/marcus/anaconda3/lib/python3.9/site-packages/threadpoolctl.py\", line 646, in get_version\n",
      "    config = get_config().split()\n",
      "AttributeError: 'NoneType' object has no attribute 'split'\n",
      "Exception ignored on calling ctypes callback function: <function _ThreadpoolInfo._find_modules_with_dl_iterate_phdr.<locals>.match_module_callback at 0x7f01b4dbbb80>\n",
      "Traceback (most recent call last):\n",
      "  File \"/home/marcus/anaconda3/lib/python3.9/site-packages/threadpoolctl.py\", line 400, in match_module_callback\n",
      "    self._make_module_from_path(filepath)\n",
      "  File \"/home/marcus/anaconda3/lib/python3.9/site-packages/threadpoolctl.py\", line 515, in _make_module_from_path\n",
      "    module = module_class(filepath, prefix, user_api, internal_api)\n",
      "  File \"/home/marcus/anaconda3/lib/python3.9/site-packages/threadpoolctl.py\", line 606, in __init__\n",
      "    self.version = self.get_version()\n",
      "  File \"/home/marcus/anaconda3/lib/python3.9/site-packages/threadpoolctl.py\", line 646, in get_version\n",
      "    config = get_config().split()\n",
      "AttributeError: 'NoneType' object has no attribute 'split'\n",
      "Exception ignored on calling ctypes callback function: <function _ThreadpoolInfo._find_modules_with_dl_iterate_phdr.<locals>.match_module_callback at 0x7f01b4eb00d0>\n",
      "Traceback (most recent call last):\n",
      "  File \"/home/marcus/anaconda3/lib/python3.9/site-packages/threadpoolctl.py\", line 400, in match_module_callback\n",
      "    self._make_module_from_path(filepath)\n",
      "  File \"/home/marcus/anaconda3/lib/python3.9/site-packages/threadpoolctl.py\", line 515, in _make_module_from_path\n",
      "    module = module_class(filepath, prefix, user_api, internal_api)\n",
      "  File \"/home/marcus/anaconda3/lib/python3.9/site-packages/threadpoolctl.py\", line 606, in __init__\n",
      "    self.version = self.get_version()\n",
      "  File \"/home/marcus/anaconda3/lib/python3.9/site-packages/threadpoolctl.py\", line 646, in get_version\n",
      "    config = get_config().split()\n",
      "AttributeError: 'NoneType' object has no attribute 'split'\n",
      "Exception ignored on calling ctypes callback function: <function _ThreadpoolInfo._find_modules_with_dl_iterate_phdr.<locals>.match_module_callback at 0x7f01b4dbbb80>\n",
      "Traceback (most recent call last):\n",
      "  File \"/home/marcus/anaconda3/lib/python3.9/site-packages/threadpoolctl.py\", line 400, in match_module_callback\n",
      "    self._make_module_from_path(filepath)\n",
      "  File \"/home/marcus/anaconda3/lib/python3.9/site-packages/threadpoolctl.py\", line 515, in _make_module_from_path\n",
      "    module = module_class(filepath, prefix, user_api, internal_api)\n",
      "  File \"/home/marcus/anaconda3/lib/python3.9/site-packages/threadpoolctl.py\", line 606, in __init__\n",
      "    self.version = self.get_version()\n",
      "  File \"/home/marcus/anaconda3/lib/python3.9/site-packages/threadpoolctl.py\", line 646, in get_version\n",
      "    config = get_config().split()\n",
      "AttributeError: 'NoneType' object has no attribute 'split'\n",
      "Exception ignored on calling ctypes callback function: <function _ThreadpoolInfo._find_modules_with_dl_iterate_phdr.<locals>.match_module_callback at 0x7f01b4eb00d0>\n",
      "Traceback (most recent call last):\n",
      "  File \"/home/marcus/anaconda3/lib/python3.9/site-packages/threadpoolctl.py\", line 400, in match_module_callback\n",
      "    self._make_module_from_path(filepath)\n",
      "  File \"/home/marcus/anaconda3/lib/python3.9/site-packages/threadpoolctl.py\", line 515, in _make_module_from_path\n",
      "    module = module_class(filepath, prefix, user_api, internal_api)\n",
      "  File \"/home/marcus/anaconda3/lib/python3.9/site-packages/threadpoolctl.py\", line 606, in __init__\n",
      "    self.version = self.get_version()\n",
      "  File \"/home/marcus/anaconda3/lib/python3.9/site-packages/threadpoolctl.py\", line 646, in get_version\n",
      "    config = get_config().split()\n",
      "AttributeError: 'NoneType' object has no attribute 'split'\n",
      "Exception ignored on calling ctypes callback function: <function _ThreadpoolInfo._find_modules_with_dl_iterate_phdr.<locals>.match_module_callback at 0x7f01b4dbbb80>\n",
      "Traceback (most recent call last):\n",
      "  File \"/home/marcus/anaconda3/lib/python3.9/site-packages/threadpoolctl.py\", line 400, in match_module_callback\n",
      "    self._make_module_from_path(filepath)\n",
      "  File \"/home/marcus/anaconda3/lib/python3.9/site-packages/threadpoolctl.py\", line 515, in _make_module_from_path\n",
      "    module = module_class(filepath, prefix, user_api, internal_api)\n",
      "  File \"/home/marcus/anaconda3/lib/python3.9/site-packages/threadpoolctl.py\", line 606, in __init__\n",
      "    self.version = self.get_version()\n",
      "  File \"/home/marcus/anaconda3/lib/python3.9/site-packages/threadpoolctl.py\", line 646, in get_version\n",
      "    config = get_config().split()\n",
      "AttributeError: 'NoneType' object has no attribute 'split'\n",
      "Exception ignored on calling ctypes callback function: <function _ThreadpoolInfo._find_modules_with_dl_iterate_phdr.<locals>.match_module_callback at 0x7f01b4eb00d0>\n",
      "Traceback (most recent call last):\n",
      "  File \"/home/marcus/anaconda3/lib/python3.9/site-packages/threadpoolctl.py\", line 400, in match_module_callback\n",
      "    self._make_module_from_path(filepath)\n",
      "  File \"/home/marcus/anaconda3/lib/python3.9/site-packages/threadpoolctl.py\", line 515, in _make_module_from_path\n",
      "    module = module_class(filepath, prefix, user_api, internal_api)\n",
      "  File \"/home/marcus/anaconda3/lib/python3.9/site-packages/threadpoolctl.py\", line 606, in __init__\n",
      "    self.version = self.get_version()\n",
      "  File \"/home/marcus/anaconda3/lib/python3.9/site-packages/threadpoolctl.py\", line 646, in get_version\n",
      "    config = get_config().split()\n",
      "AttributeError: 'NoneType' object has no attribute 'split'\n",
      "Exception ignored on calling ctypes callback function: <function _ThreadpoolInfo._find_modules_with_dl_iterate_phdr.<locals>.match_module_callback at 0x7f01b4dbbb80>\n",
      "Traceback (most recent call last):\n",
      "  File \"/home/marcus/anaconda3/lib/python3.9/site-packages/threadpoolctl.py\", line 400, in match_module_callback\n",
      "    self._make_module_from_path(filepath)\n",
      "  File \"/home/marcus/anaconda3/lib/python3.9/site-packages/threadpoolctl.py\", line 515, in _make_module_from_path\n",
      "    module = module_class(filepath, prefix, user_api, internal_api)\n",
      "  File \"/home/marcus/anaconda3/lib/python3.9/site-packages/threadpoolctl.py\", line 606, in __init__\n",
      "    self.version = self.get_version()\n",
      "  File \"/home/marcus/anaconda3/lib/python3.9/site-packages/threadpoolctl.py\", line 646, in get_version\n",
      "    config = get_config().split()\n",
      "AttributeError: 'NoneType' object has no attribute 'split'\n",
      "Exception ignored on calling ctypes callback function: <function _ThreadpoolInfo._find_modules_with_dl_iterate_phdr.<locals>.match_module_callback at 0x7f01b4eb00d0>\n",
      "Traceback (most recent call last):\n",
      "  File \"/home/marcus/anaconda3/lib/python3.9/site-packages/threadpoolctl.py\", line 400, in match_module_callback\n",
      "    self._make_module_from_path(filepath)\n",
      "  File \"/home/marcus/anaconda3/lib/python3.9/site-packages/threadpoolctl.py\", line 515, in _make_module_from_path\n",
      "    module = module_class(filepath, prefix, user_api, internal_api)\n",
      "  File \"/home/marcus/anaconda3/lib/python3.9/site-packages/threadpoolctl.py\", line 606, in __init__\n",
      "    self.version = self.get_version()\n",
      "  File \"/home/marcus/anaconda3/lib/python3.9/site-packages/threadpoolctl.py\", line 646, in get_version\n",
      "    config = get_config().split()\n",
      "AttributeError: 'NoneType' object has no attribute 'split'\n",
      "/home/marcus/anaconda3/lib/python3.9/site-packages/sklearn/utils/validation.py:1858: FutureWarning:\n",
      "\n",
      "Feature names only support names that are all strings. Got feature names with dtypes: ['int', 'str']. An error will be raised in 1.2.\n",
      "\n",
      "Exception ignored on calling ctypes callback function: <function _ThreadpoolInfo._find_modules_with_dl_iterate_phdr.<locals>.match_module_callback at 0x7f01b4eb00d0>\n",
      "Traceback (most recent call last):\n",
      "  File \"/home/marcus/anaconda3/lib/python3.9/site-packages/threadpoolctl.py\", line 400, in match_module_callback\n",
      "    self._make_module_from_path(filepath)\n",
      "  File \"/home/marcus/anaconda3/lib/python3.9/site-packages/threadpoolctl.py\", line 515, in _make_module_from_path\n",
      "    module = module_class(filepath, prefix, user_api, internal_api)\n",
      "  File \"/home/marcus/anaconda3/lib/python3.9/site-packages/threadpoolctl.py\", line 606, in __init__\n",
      "    self.version = self.get_version()\n",
      "  File \"/home/marcus/anaconda3/lib/python3.9/site-packages/threadpoolctl.py\", line 646, in get_version\n",
      "    config = get_config().split()\n",
      "AttributeError: 'NoneType' object has no attribute 'split'\n",
      "Exception ignored on calling ctypes callback function: <function _ThreadpoolInfo._find_modules_with_dl_iterate_phdr.<locals>.match_module_callback at 0x7f01b4dbbb80>\n",
      "Traceback (most recent call last):\n",
      "  File \"/home/marcus/anaconda3/lib/python3.9/site-packages/threadpoolctl.py\", line 400, in match_module_callback\n",
      "    self._make_module_from_path(filepath)\n",
      "  File \"/home/marcus/anaconda3/lib/python3.9/site-packages/threadpoolctl.py\", line 515, in _make_module_from_path\n",
      "    module = module_class(filepath, prefix, user_api, internal_api)\n",
      "  File \"/home/marcus/anaconda3/lib/python3.9/site-packages/threadpoolctl.py\", line 606, in __init__\n",
      "    self.version = self.get_version()\n",
      "  File \"/home/marcus/anaconda3/lib/python3.9/site-packages/threadpoolctl.py\", line 646, in get_version\n",
      "    config = get_config().split()\n",
      "AttributeError: 'NoneType' object has no attribute 'split'\n",
      "Exception ignored on calling ctypes callback function: <function _ThreadpoolInfo._find_modules_with_dl_iterate_phdr.<locals>.match_module_callback at 0x7f01b4eb00d0>\n",
      "Traceback (most recent call last):\n",
      "  File \"/home/marcus/anaconda3/lib/python3.9/site-packages/threadpoolctl.py\", line 400, in match_module_callback\n",
      "    self._make_module_from_path(filepath)\n",
      "  File \"/home/marcus/anaconda3/lib/python3.9/site-packages/threadpoolctl.py\", line 515, in _make_module_from_path\n",
      "    module = module_class(filepath, prefix, user_api, internal_api)\n",
      "  File \"/home/marcus/anaconda3/lib/python3.9/site-packages/threadpoolctl.py\", line 606, in __init__\n",
      "    self.version = self.get_version()\n",
      "  File \"/home/marcus/anaconda3/lib/python3.9/site-packages/threadpoolctl.py\", line 646, in get_version\n",
      "    config = get_config().split()\n",
      "AttributeError: 'NoneType' object has no attribute 'split'\n",
      "Exception ignored on calling ctypes callback function: <function _ThreadpoolInfo._find_modules_with_dl_iterate_phdr.<locals>.match_module_callback at 0x7f01b4dbbb80>\n",
      "Traceback (most recent call last):\n",
      "  File \"/home/marcus/anaconda3/lib/python3.9/site-packages/threadpoolctl.py\", line 400, in match_module_callback\n",
      "    self._make_module_from_path(filepath)\n",
      "  File \"/home/marcus/anaconda3/lib/python3.9/site-packages/threadpoolctl.py\", line 515, in _make_module_from_path\n",
      "    module = module_class(filepath, prefix, user_api, internal_api)\n",
      "  File \"/home/marcus/anaconda3/lib/python3.9/site-packages/threadpoolctl.py\", line 606, in __init__\n",
      "    self.version = self.get_version()\n",
      "  File \"/home/marcus/anaconda3/lib/python3.9/site-packages/threadpoolctl.py\", line 646, in get_version\n",
      "    config = get_config().split()\n",
      "AttributeError: 'NoneType' object has no attribute 'split'\n",
      "Exception ignored on calling ctypes callback function: <function _ThreadpoolInfo._find_modules_with_dl_iterate_phdr.<locals>.match_module_callback at 0x7f01b4eb00d0>\n",
      "Traceback (most recent call last):\n",
      "  File \"/home/marcus/anaconda3/lib/python3.9/site-packages/threadpoolctl.py\", line 400, in match_module_callback\n",
      "    self._make_module_from_path(filepath)\n",
      "  File \"/home/marcus/anaconda3/lib/python3.9/site-packages/threadpoolctl.py\", line 515, in _make_module_from_path\n",
      "    module = module_class(filepath, prefix, user_api, internal_api)\n",
      "  File \"/home/marcus/anaconda3/lib/python3.9/site-packages/threadpoolctl.py\", line 606, in __init__\n",
      "    self.version = self.get_version()\n",
      "  File \"/home/marcus/anaconda3/lib/python3.9/site-packages/threadpoolctl.py\", line 646, in get_version\n",
      "    config = get_config().split()\n",
      "AttributeError: 'NoneType' object has no attribute 'split'\n",
      "Exception ignored on calling ctypes callback function: <function _ThreadpoolInfo._find_modules_with_dl_iterate_phdr.<locals>.match_module_callback at 0x7f01b4dbbb80>\n",
      "Traceback (most recent call last):\n",
      "  File \"/home/marcus/anaconda3/lib/python3.9/site-packages/threadpoolctl.py\", line 400, in match_module_callback\n",
      "    self._make_module_from_path(filepath)\n",
      "  File \"/home/marcus/anaconda3/lib/python3.9/site-packages/threadpoolctl.py\", line 515, in _make_module_from_path\n",
      "    module = module_class(filepath, prefix, user_api, internal_api)\n",
      "  File \"/home/marcus/anaconda3/lib/python3.9/site-packages/threadpoolctl.py\", line 606, in __init__\n",
      "    self.version = self.get_version()\n",
      "  File \"/home/marcus/anaconda3/lib/python3.9/site-packages/threadpoolctl.py\", line 646, in get_version\n",
      "    config = get_config().split()\n",
      "AttributeError: 'NoneType' object has no attribute 'split'\n",
      "Exception ignored on calling ctypes callback function: <function _ThreadpoolInfo._find_modules_with_dl_iterate_phdr.<locals>.match_module_callback at 0x7f01b4eb00d0>\n",
      "Traceback (most recent call last):\n",
      "  File \"/home/marcus/anaconda3/lib/python3.9/site-packages/threadpoolctl.py\", line 400, in match_module_callback\n",
      "    self._make_module_from_path(filepath)\n",
      "  File \"/home/marcus/anaconda3/lib/python3.9/site-packages/threadpoolctl.py\", line 515, in _make_module_from_path\n",
      "    module = module_class(filepath, prefix, user_api, internal_api)\n",
      "  File \"/home/marcus/anaconda3/lib/python3.9/site-packages/threadpoolctl.py\", line 606, in __init__\n",
      "    self.version = self.get_version()\n",
      "  File \"/home/marcus/anaconda3/lib/python3.9/site-packages/threadpoolctl.py\", line 646, in get_version\n",
      "    config = get_config().split()\n",
      "AttributeError: 'NoneType' object has no attribute 'split'\n",
      "Exception ignored on calling ctypes callback function: <function _ThreadpoolInfo._find_modules_with_dl_iterate_phdr.<locals>.match_module_callback at 0x7f01b4dbbb80>\n",
      "Traceback (most recent call last):\n",
      "  File \"/home/marcus/anaconda3/lib/python3.9/site-packages/threadpoolctl.py\", line 400, in match_module_callback\n",
      "    self._make_module_from_path(filepath)\n",
      "  File \"/home/marcus/anaconda3/lib/python3.9/site-packages/threadpoolctl.py\", line 515, in _make_module_from_path\n",
      "    module = module_class(filepath, prefix, user_api, internal_api)\n",
      "  File \"/home/marcus/anaconda3/lib/python3.9/site-packages/threadpoolctl.py\", line 606, in __init__\n",
      "    self.version = self.get_version()\n",
      "  File \"/home/marcus/anaconda3/lib/python3.9/site-packages/threadpoolctl.py\", line 646, in get_version\n",
      "    config = get_config().split()\n",
      "AttributeError: 'NoneType' object has no attribute 'split'\n",
      "Exception ignored on calling ctypes callback function: <function _ThreadpoolInfo._find_modules_with_dl_iterate_phdr.<locals>.match_module_callback at 0x7f01b4eb00d0>\n",
      "Traceback (most recent call last):\n",
      "  File \"/home/marcus/anaconda3/lib/python3.9/site-packages/threadpoolctl.py\", line 400, in match_module_callback\n",
      "    self._make_module_from_path(filepath)\n",
      "  File \"/home/marcus/anaconda3/lib/python3.9/site-packages/threadpoolctl.py\", line 515, in _make_module_from_path\n",
      "    module = module_class(filepath, prefix, user_api, internal_api)\n",
      "  File \"/home/marcus/anaconda3/lib/python3.9/site-packages/threadpoolctl.py\", line 606, in __init__\n",
      "    self.version = self.get_version()\n",
      "  File \"/home/marcus/anaconda3/lib/python3.9/site-packages/threadpoolctl.py\", line 646, in get_version\n",
      "    config = get_config().split()\n",
      "AttributeError: 'NoneType' object has no attribute 'split'\n",
      "Exception ignored on calling ctypes callback function: <function _ThreadpoolInfo._find_modules_with_dl_iterate_phdr.<locals>.match_module_callback at 0x7f01b4dbbb80>\n",
      "Traceback (most recent call last):\n",
      "  File \"/home/marcus/anaconda3/lib/python3.9/site-packages/threadpoolctl.py\", line 400, in match_module_callback\n",
      "    self._make_module_from_path(filepath)\n",
      "  File \"/home/marcus/anaconda3/lib/python3.9/site-packages/threadpoolctl.py\", line 515, in _make_module_from_path\n",
      "    module = module_class(filepath, prefix, user_api, internal_api)\n",
      "  File \"/home/marcus/anaconda3/lib/python3.9/site-packages/threadpoolctl.py\", line 606, in __init__\n",
      "    self.version = self.get_version()\n",
      "  File \"/home/marcus/anaconda3/lib/python3.9/site-packages/threadpoolctl.py\", line 646, in get_version\n",
      "    config = get_config().split()\n",
      "AttributeError: 'NoneType' object has no attribute 'split'\n",
      "/home/marcus/anaconda3/lib/python3.9/site-packages/sklearn/utils/validation.py:1858: FutureWarning:\n",
      "\n",
      "Feature names only support names that are all strings. Got feature names with dtypes: ['int', 'str']. An error will be raised in 1.2.\n",
      "\n",
      "Exception ignored on calling ctypes callback function: <function _ThreadpoolInfo._find_modules_with_dl_iterate_phdr.<locals>.match_module_callback at 0x7f01b4dbbb80>\n",
      "Traceback (most recent call last):\n",
      "  File \"/home/marcus/anaconda3/lib/python3.9/site-packages/threadpoolctl.py\", line 400, in match_module_callback\n",
      "    self._make_module_from_path(filepath)\n",
      "  File \"/home/marcus/anaconda3/lib/python3.9/site-packages/threadpoolctl.py\", line 515, in _make_module_from_path\n",
      "    module = module_class(filepath, prefix, user_api, internal_api)\n",
      "  File \"/home/marcus/anaconda3/lib/python3.9/site-packages/threadpoolctl.py\", line 606, in __init__\n",
      "    self.version = self.get_version()\n",
      "  File \"/home/marcus/anaconda3/lib/python3.9/site-packages/threadpoolctl.py\", line 646, in get_version\n",
      "    config = get_config().split()\n",
      "AttributeError: 'NoneType' object has no attribute 'split'\n",
      "Exception ignored on calling ctypes callback function: <function _ThreadpoolInfo._find_modules_with_dl_iterate_phdr.<locals>.match_module_callback at 0x7f01b4eb00d0>\n",
      "Traceback (most recent call last):\n",
      "  File \"/home/marcus/anaconda3/lib/python3.9/site-packages/threadpoolctl.py\", line 400, in match_module_callback\n",
      "    self._make_module_from_path(filepath)\n",
      "  File \"/home/marcus/anaconda3/lib/python3.9/site-packages/threadpoolctl.py\", line 515, in _make_module_from_path\n",
      "    module = module_class(filepath, prefix, user_api, internal_api)\n",
      "  File \"/home/marcus/anaconda3/lib/python3.9/site-packages/threadpoolctl.py\", line 606, in __init__\n",
      "    self.version = self.get_version()\n",
      "  File \"/home/marcus/anaconda3/lib/python3.9/site-packages/threadpoolctl.py\", line 646, in get_version\n",
      "    config = get_config().split()\n",
      "AttributeError: 'NoneType' object has no attribute 'split'\n",
      "Exception ignored on calling ctypes callback function: <function _ThreadpoolInfo._find_modules_with_dl_iterate_phdr.<locals>.match_module_callback at 0x7f01b4dbbb80>\n",
      "Traceback (most recent call last):\n",
      "  File \"/home/marcus/anaconda3/lib/python3.9/site-packages/threadpoolctl.py\", line 400, in match_module_callback\n",
      "    self._make_module_from_path(filepath)\n",
      "  File \"/home/marcus/anaconda3/lib/python3.9/site-packages/threadpoolctl.py\", line 515, in _make_module_from_path\n",
      "    module = module_class(filepath, prefix, user_api, internal_api)\n",
      "  File \"/home/marcus/anaconda3/lib/python3.9/site-packages/threadpoolctl.py\", line 606, in __init__\n",
      "    self.version = self.get_version()\n",
      "  File \"/home/marcus/anaconda3/lib/python3.9/site-packages/threadpoolctl.py\", line 646, in get_version\n",
      "    config = get_config().split()\n",
      "AttributeError: 'NoneType' object has no attribute 'split'\n",
      "Exception ignored on calling ctypes callback function: <function _ThreadpoolInfo._find_modules_with_dl_iterate_phdr.<locals>.match_module_callback at 0x7f01b4eb00d0>\n",
      "Traceback (most recent call last):\n",
      "  File \"/home/marcus/anaconda3/lib/python3.9/site-packages/threadpoolctl.py\", line 400, in match_module_callback\n",
      "    self._make_module_from_path(filepath)\n",
      "  File \"/home/marcus/anaconda3/lib/python3.9/site-packages/threadpoolctl.py\", line 515, in _make_module_from_path\n",
      "    module = module_class(filepath, prefix, user_api, internal_api)\n",
      "  File \"/home/marcus/anaconda3/lib/python3.9/site-packages/threadpoolctl.py\", line 606, in __init__\n",
      "    self.version = self.get_version()\n",
      "  File \"/home/marcus/anaconda3/lib/python3.9/site-packages/threadpoolctl.py\", line 646, in get_version\n",
      "    config = get_config().split()\n",
      "AttributeError: 'NoneType' object has no attribute 'split'\n",
      "Exception ignored on calling ctypes callback function: <function _ThreadpoolInfo._find_modules_with_dl_iterate_phdr.<locals>.match_module_callback at 0x7f01b4dbbb80>\n",
      "Traceback (most recent call last):\n",
      "  File \"/home/marcus/anaconda3/lib/python3.9/site-packages/threadpoolctl.py\", line 400, in match_module_callback\n",
      "    self._make_module_from_path(filepath)\n",
      "  File \"/home/marcus/anaconda3/lib/python3.9/site-packages/threadpoolctl.py\", line 515, in _make_module_from_path\n",
      "    module = module_class(filepath, prefix, user_api, internal_api)\n",
      "  File \"/home/marcus/anaconda3/lib/python3.9/site-packages/threadpoolctl.py\", line 606, in __init__\n",
      "    self.version = self.get_version()\n",
      "  File \"/home/marcus/anaconda3/lib/python3.9/site-packages/threadpoolctl.py\", line 646, in get_version\n",
      "    config = get_config().split()\n",
      "AttributeError: 'NoneType' object has no attribute 'split'\n",
      "Exception ignored on calling ctypes callback function: <function _ThreadpoolInfo._find_modules_with_dl_iterate_phdr.<locals>.match_module_callback at 0x7f01b4eb00d0>\n",
      "Traceback (most recent call last):\n",
      "  File \"/home/marcus/anaconda3/lib/python3.9/site-packages/threadpoolctl.py\", line 400, in match_module_callback\n",
      "    self._make_module_from_path(filepath)\n",
      "  File \"/home/marcus/anaconda3/lib/python3.9/site-packages/threadpoolctl.py\", line 515, in _make_module_from_path\n",
      "    module = module_class(filepath, prefix, user_api, internal_api)\n",
      "  File \"/home/marcus/anaconda3/lib/python3.9/site-packages/threadpoolctl.py\", line 606, in __init__\n",
      "    self.version = self.get_version()\n",
      "  File \"/home/marcus/anaconda3/lib/python3.9/site-packages/threadpoolctl.py\", line 646, in get_version\n",
      "    config = get_config().split()\n",
      "AttributeError: 'NoneType' object has no attribute 'split'\n",
      "Exception ignored on calling ctypes callback function: <function _ThreadpoolInfo._find_modules_with_dl_iterate_phdr.<locals>.match_module_callback at 0x7f01b4dbbb80>\n",
      "Traceback (most recent call last):\n",
      "  File \"/home/marcus/anaconda3/lib/python3.9/site-packages/threadpoolctl.py\", line 400, in match_module_callback\n",
      "    self._make_module_from_path(filepath)\n",
      "  File \"/home/marcus/anaconda3/lib/python3.9/site-packages/threadpoolctl.py\", line 515, in _make_module_from_path\n",
      "    module = module_class(filepath, prefix, user_api, internal_api)\n",
      "  File \"/home/marcus/anaconda3/lib/python3.9/site-packages/threadpoolctl.py\", line 606, in __init__\n",
      "    self.version = self.get_version()\n",
      "  File \"/home/marcus/anaconda3/lib/python3.9/site-packages/threadpoolctl.py\", line 646, in get_version\n",
      "    config = get_config().split()\n",
      "AttributeError: 'NoneType' object has no attribute 'split'\n",
      "Exception ignored on calling ctypes callback function: <function _ThreadpoolInfo._find_modules_with_dl_iterate_phdr.<locals>.match_module_callback at 0x7f01b4eb00d0>\n",
      "Traceback (most recent call last):\n",
      "  File \"/home/marcus/anaconda3/lib/python3.9/site-packages/threadpoolctl.py\", line 400, in match_module_callback\n",
      "    self._make_module_from_path(filepath)\n",
      "  File \"/home/marcus/anaconda3/lib/python3.9/site-packages/threadpoolctl.py\", line 515, in _make_module_from_path\n",
      "    module = module_class(filepath, prefix, user_api, internal_api)\n",
      "  File \"/home/marcus/anaconda3/lib/python3.9/site-packages/threadpoolctl.py\", line 606, in __init__\n",
      "    self.version = self.get_version()\n",
      "  File \"/home/marcus/anaconda3/lib/python3.9/site-packages/threadpoolctl.py\", line 646, in get_version\n",
      "    config = get_config().split()\n",
      "AttributeError: 'NoneType' object has no attribute 'split'\n",
      "Exception ignored on calling ctypes callback function: <function _ThreadpoolInfo._find_modules_with_dl_iterate_phdr.<locals>.match_module_callback at 0x7f01b4dbbb80>\n",
      "Traceback (most recent call last):\n",
      "  File \"/home/marcus/anaconda3/lib/python3.9/site-packages/threadpoolctl.py\", line 400, in match_module_callback\n",
      "    self._make_module_from_path(filepath)\n",
      "  File \"/home/marcus/anaconda3/lib/python3.9/site-packages/threadpoolctl.py\", line 515, in _make_module_from_path\n",
      "    module = module_class(filepath, prefix, user_api, internal_api)\n",
      "  File \"/home/marcus/anaconda3/lib/python3.9/site-packages/threadpoolctl.py\", line 606, in __init__\n",
      "    self.version = self.get_version()\n",
      "  File \"/home/marcus/anaconda3/lib/python3.9/site-packages/threadpoolctl.py\", line 646, in get_version\n",
      "    config = get_config().split()\n",
      "AttributeError: 'NoneType' object has no attribute 'split'\n",
      "Exception ignored on calling ctypes callback function: <function _ThreadpoolInfo._find_modules_with_dl_iterate_phdr.<locals>.match_module_callback at 0x7f01b4eb00d0>\n",
      "Traceback (most recent call last):\n",
      "  File \"/home/marcus/anaconda3/lib/python3.9/site-packages/threadpoolctl.py\", line 400, in match_module_callback\n",
      "    self._make_module_from_path(filepath)\n",
      "  File \"/home/marcus/anaconda3/lib/python3.9/site-packages/threadpoolctl.py\", line 515, in _make_module_from_path\n",
      "    module = module_class(filepath, prefix, user_api, internal_api)\n",
      "  File \"/home/marcus/anaconda3/lib/python3.9/site-packages/threadpoolctl.py\", line 606, in __init__\n",
      "    self.version = self.get_version()\n",
      "  File \"/home/marcus/anaconda3/lib/python3.9/site-packages/threadpoolctl.py\", line 646, in get_version\n",
      "    config = get_config().split()\n",
      "AttributeError: 'NoneType' object has no attribute 'split'\n",
      "/home/marcus/anaconda3/lib/python3.9/site-packages/sklearn/utils/validation.py:1858: FutureWarning:\n",
      "\n",
      "Feature names only support names that are all strings. Got feature names with dtypes: ['int', 'str']. An error will be raised in 1.2.\n",
      "\n",
      "Exception ignored on calling ctypes callback function: <function _ThreadpoolInfo._find_modules_with_dl_iterate_phdr.<locals>.match_module_callback at 0x7f01b4eb00d0>\n",
      "Traceback (most recent call last):\n",
      "  File \"/home/marcus/anaconda3/lib/python3.9/site-packages/threadpoolctl.py\", line 400, in match_module_callback\n",
      "    self._make_module_from_path(filepath)\n",
      "  File \"/home/marcus/anaconda3/lib/python3.9/site-packages/threadpoolctl.py\", line 515, in _make_module_from_path\n",
      "    module = module_class(filepath, prefix, user_api, internal_api)\n",
      "  File \"/home/marcus/anaconda3/lib/python3.9/site-packages/threadpoolctl.py\", line 606, in __init__\n",
      "    self.version = self.get_version()\n",
      "  File \"/home/marcus/anaconda3/lib/python3.9/site-packages/threadpoolctl.py\", line 646, in get_version\n",
      "    config = get_config().split()\n",
      "AttributeError: 'NoneType' object has no attribute 'split'\n",
      "Exception ignored on calling ctypes callback function: <function _ThreadpoolInfo._find_modules_with_dl_iterate_phdr.<locals>.match_module_callback at 0x7f01b4dbbb80>\n",
      "Traceback (most recent call last):\n",
      "  File \"/home/marcus/anaconda3/lib/python3.9/site-packages/threadpoolctl.py\", line 400, in match_module_callback\n",
      "    self._make_module_from_path(filepath)\n",
      "  File \"/home/marcus/anaconda3/lib/python3.9/site-packages/threadpoolctl.py\", line 515, in _make_module_from_path\n",
      "    module = module_class(filepath, prefix, user_api, internal_api)\n",
      "  File \"/home/marcus/anaconda3/lib/python3.9/site-packages/threadpoolctl.py\", line 606, in __init__\n",
      "    self.version = self.get_version()\n",
      "  File \"/home/marcus/anaconda3/lib/python3.9/site-packages/threadpoolctl.py\", line 646, in get_version\n",
      "    config = get_config().split()\n",
      "AttributeError: 'NoneType' object has no attribute 'split'\n",
      "Exception ignored on calling ctypes callback function: <function _ThreadpoolInfo._find_modules_with_dl_iterate_phdr.<locals>.match_module_callback at 0x7f01b4eb00d0>\n",
      "Traceback (most recent call last):\n",
      "  File \"/home/marcus/anaconda3/lib/python3.9/site-packages/threadpoolctl.py\", line 400, in match_module_callback\n",
      "    self._make_module_from_path(filepath)\n",
      "  File \"/home/marcus/anaconda3/lib/python3.9/site-packages/threadpoolctl.py\", line 515, in _make_module_from_path\n",
      "    module = module_class(filepath, prefix, user_api, internal_api)\n",
      "  File \"/home/marcus/anaconda3/lib/python3.9/site-packages/threadpoolctl.py\", line 606, in __init__\n",
      "    self.version = self.get_version()\n",
      "  File \"/home/marcus/anaconda3/lib/python3.9/site-packages/threadpoolctl.py\", line 646, in get_version\n",
      "    config = get_config().split()\n",
      "AttributeError: 'NoneType' object has no attribute 'split'\n",
      "Exception ignored on calling ctypes callback function: <function _ThreadpoolInfo._find_modules_with_dl_iterate_phdr.<locals>.match_module_callback at 0x7f01b4dbbb80>\n",
      "Traceback (most recent call last):\n",
      "  File \"/home/marcus/anaconda3/lib/python3.9/site-packages/threadpoolctl.py\", line 400, in match_module_callback\n",
      "    self._make_module_from_path(filepath)\n",
      "  File \"/home/marcus/anaconda3/lib/python3.9/site-packages/threadpoolctl.py\", line 515, in _make_module_from_path\n",
      "    module = module_class(filepath, prefix, user_api, internal_api)\n",
      "  File \"/home/marcus/anaconda3/lib/python3.9/site-packages/threadpoolctl.py\", line 606, in __init__\n",
      "    self.version = self.get_version()\n",
      "  File \"/home/marcus/anaconda3/lib/python3.9/site-packages/threadpoolctl.py\", line 646, in get_version\n",
      "    config = get_config().split()\n",
      "AttributeError: 'NoneType' object has no attribute 'split'\n",
      "Exception ignored on calling ctypes callback function: <function _ThreadpoolInfo._find_modules_with_dl_iterate_phdr.<locals>.match_module_callback at 0x7f01b4eb00d0>\n",
      "Traceback (most recent call last):\n",
      "  File \"/home/marcus/anaconda3/lib/python3.9/site-packages/threadpoolctl.py\", line 400, in match_module_callback\n",
      "    self._make_module_from_path(filepath)\n",
      "  File \"/home/marcus/anaconda3/lib/python3.9/site-packages/threadpoolctl.py\", line 515, in _make_module_from_path\n",
      "    module = module_class(filepath, prefix, user_api, internal_api)\n",
      "  File \"/home/marcus/anaconda3/lib/python3.9/site-packages/threadpoolctl.py\", line 606, in __init__\n",
      "    self.version = self.get_version()\n",
      "  File \"/home/marcus/anaconda3/lib/python3.9/site-packages/threadpoolctl.py\", line 646, in get_version\n",
      "    config = get_config().split()\n",
      "AttributeError: 'NoneType' object has no attribute 'split'\n",
      "Exception ignored on calling ctypes callback function: <function _ThreadpoolInfo._find_modules_with_dl_iterate_phdr.<locals>.match_module_callback at 0x7f01b4dbbb80>\n",
      "Traceback (most recent call last):\n",
      "  File \"/home/marcus/anaconda3/lib/python3.9/site-packages/threadpoolctl.py\", line 400, in match_module_callback\n",
      "    self._make_module_from_path(filepath)\n",
      "  File \"/home/marcus/anaconda3/lib/python3.9/site-packages/threadpoolctl.py\", line 515, in _make_module_from_path\n",
      "    module = module_class(filepath, prefix, user_api, internal_api)\n",
      "  File \"/home/marcus/anaconda3/lib/python3.9/site-packages/threadpoolctl.py\", line 606, in __init__\n",
      "    self.version = self.get_version()\n",
      "  File \"/home/marcus/anaconda3/lib/python3.9/site-packages/threadpoolctl.py\", line 646, in get_version\n",
      "    config = get_config().split()\n",
      "AttributeError: 'NoneType' object has no attribute 'split'\n",
      "Exception ignored on calling ctypes callback function: <function _ThreadpoolInfo._find_modules_with_dl_iterate_phdr.<locals>.match_module_callback at 0x7f01b4eb00d0>\n",
      "Traceback (most recent call last):\n",
      "  File \"/home/marcus/anaconda3/lib/python3.9/site-packages/threadpoolctl.py\", line 400, in match_module_callback\n",
      "    self._make_module_from_path(filepath)\n",
      "  File \"/home/marcus/anaconda3/lib/python3.9/site-packages/threadpoolctl.py\", line 515, in _make_module_from_path\n",
      "    module = module_class(filepath, prefix, user_api, internal_api)\n",
      "  File \"/home/marcus/anaconda3/lib/python3.9/site-packages/threadpoolctl.py\", line 606, in __init__\n",
      "    self.version = self.get_version()\n",
      "  File \"/home/marcus/anaconda3/lib/python3.9/site-packages/threadpoolctl.py\", line 646, in get_version\n",
      "    config = get_config().split()\n",
      "AttributeError: 'NoneType' object has no attribute 'split'\n",
      "Exception ignored on calling ctypes callback function: <function _ThreadpoolInfo._find_modules_with_dl_iterate_phdr.<locals>.match_module_callback at 0x7f01b4dbbb80>\n",
      "Traceback (most recent call last):\n",
      "  File \"/home/marcus/anaconda3/lib/python3.9/site-packages/threadpoolctl.py\", line 400, in match_module_callback\n",
      "    self._make_module_from_path(filepath)\n",
      "  File \"/home/marcus/anaconda3/lib/python3.9/site-packages/threadpoolctl.py\", line 515, in _make_module_from_path\n",
      "    module = module_class(filepath, prefix, user_api, internal_api)\n",
      "  File \"/home/marcus/anaconda3/lib/python3.9/site-packages/threadpoolctl.py\", line 606, in __init__\n",
      "    self.version = self.get_version()\n",
      "  File \"/home/marcus/anaconda3/lib/python3.9/site-packages/threadpoolctl.py\", line 646, in get_version\n",
      "    config = get_config().split()\n",
      "AttributeError: 'NoneType' object has no attribute 'split'\n",
      "Exception ignored on calling ctypes callback function: <function _ThreadpoolInfo._find_modules_with_dl_iterate_phdr.<locals>.match_module_callback at 0x7f01b4eb00d0>\n",
      "Traceback (most recent call last):\n",
      "  File \"/home/marcus/anaconda3/lib/python3.9/site-packages/threadpoolctl.py\", line 400, in match_module_callback\n",
      "    self._make_module_from_path(filepath)\n",
      "  File \"/home/marcus/anaconda3/lib/python3.9/site-packages/threadpoolctl.py\", line 515, in _make_module_from_path\n",
      "    module = module_class(filepath, prefix, user_api, internal_api)\n",
      "  File \"/home/marcus/anaconda3/lib/python3.9/site-packages/threadpoolctl.py\", line 606, in __init__\n",
      "    self.version = self.get_version()\n",
      "  File \"/home/marcus/anaconda3/lib/python3.9/site-packages/threadpoolctl.py\", line 646, in get_version\n",
      "    config = get_config().split()\n",
      "AttributeError: 'NoneType' object has no attribute 'split'\n",
      "Exception ignored on calling ctypes callback function: <function _ThreadpoolInfo._find_modules_with_dl_iterate_phdr.<locals>.match_module_callback at 0x7f01b4dbbb80>\n",
      "Traceback (most recent call last):\n",
      "  File \"/home/marcus/anaconda3/lib/python3.9/site-packages/threadpoolctl.py\", line 400, in match_module_callback\n",
      "    self._make_module_from_path(filepath)\n",
      "  File \"/home/marcus/anaconda3/lib/python3.9/site-packages/threadpoolctl.py\", line 515, in _make_module_from_path\n",
      "    module = module_class(filepath, prefix, user_api, internal_api)\n",
      "  File \"/home/marcus/anaconda3/lib/python3.9/site-packages/threadpoolctl.py\", line 606, in __init__\n",
      "    self.version = self.get_version()\n",
      "  File \"/home/marcus/anaconda3/lib/python3.9/site-packages/threadpoolctl.py\", line 646, in get_version\n",
      "    config = get_config().split()\n",
      "AttributeError: 'NoneType' object has no attribute 'split'\n",
      "/home/marcus/anaconda3/lib/python3.9/site-packages/sklearn/utils/validation.py:1858: FutureWarning:\n",
      "\n",
      "Feature names only support names that are all strings. Got feature names with dtypes: ['int', 'str']. An error will be raised in 1.2.\n",
      "\n",
      "Exception ignored on calling ctypes callback function: <function _ThreadpoolInfo._find_modules_with_dl_iterate_phdr.<locals>.match_module_callback at 0x7f01b4dbbb80>\n",
      "Traceback (most recent call last):\n",
      "  File \"/home/marcus/anaconda3/lib/python3.9/site-packages/threadpoolctl.py\", line 400, in match_module_callback\n",
      "    self._make_module_from_path(filepath)\n",
      "  File \"/home/marcus/anaconda3/lib/python3.9/site-packages/threadpoolctl.py\", line 515, in _make_module_from_path\n",
      "    module = module_class(filepath, prefix, user_api, internal_api)\n",
      "  File \"/home/marcus/anaconda3/lib/python3.9/site-packages/threadpoolctl.py\", line 606, in __init__\n",
      "    self.version = self.get_version()\n",
      "  File \"/home/marcus/anaconda3/lib/python3.9/site-packages/threadpoolctl.py\", line 646, in get_version\n",
      "    config = get_config().split()\n",
      "AttributeError: 'NoneType' object has no attribute 'split'\n",
      "Exception ignored on calling ctypes callback function: <function _ThreadpoolInfo._find_modules_with_dl_iterate_phdr.<locals>.match_module_callback at 0x7f01b4eb00d0>\n",
      "Traceback (most recent call last):\n",
      "  File \"/home/marcus/anaconda3/lib/python3.9/site-packages/threadpoolctl.py\", line 400, in match_module_callback\n",
      "    self._make_module_from_path(filepath)\n",
      "  File \"/home/marcus/anaconda3/lib/python3.9/site-packages/threadpoolctl.py\", line 515, in _make_module_from_path\n",
      "    module = module_class(filepath, prefix, user_api, internal_api)\n",
      "  File \"/home/marcus/anaconda3/lib/python3.9/site-packages/threadpoolctl.py\", line 606, in __init__\n",
      "    self.version = self.get_version()\n",
      "  File \"/home/marcus/anaconda3/lib/python3.9/site-packages/threadpoolctl.py\", line 646, in get_version\n",
      "    config = get_config().split()\n",
      "AttributeError: 'NoneType' object has no attribute 'split'\n",
      "Exception ignored on calling ctypes callback function: <function _ThreadpoolInfo._find_modules_with_dl_iterate_phdr.<locals>.match_module_callback at 0x7f01b4dbbb80>\n",
      "Traceback (most recent call last):\n",
      "  File \"/home/marcus/anaconda3/lib/python3.9/site-packages/threadpoolctl.py\", line 400, in match_module_callback\n",
      "    self._make_module_from_path(filepath)\n",
      "  File \"/home/marcus/anaconda3/lib/python3.9/site-packages/threadpoolctl.py\", line 515, in _make_module_from_path\n",
      "    module = module_class(filepath, prefix, user_api, internal_api)\n",
      "  File \"/home/marcus/anaconda3/lib/python3.9/site-packages/threadpoolctl.py\", line 606, in __init__\n",
      "    self.version = self.get_version()\n",
      "  File \"/home/marcus/anaconda3/lib/python3.9/site-packages/threadpoolctl.py\", line 646, in get_version\n",
      "    config = get_config().split()\n",
      "AttributeError: 'NoneType' object has no attribute 'split'\n",
      "Exception ignored on calling ctypes callback function: <function _ThreadpoolInfo._find_modules_with_dl_iterate_phdr.<locals>.match_module_callback at 0x7f01b4eb00d0>\n",
      "Traceback (most recent call last):\n",
      "  File \"/home/marcus/anaconda3/lib/python3.9/site-packages/threadpoolctl.py\", line 400, in match_module_callback\n",
      "    self._make_module_from_path(filepath)\n",
      "  File \"/home/marcus/anaconda3/lib/python3.9/site-packages/threadpoolctl.py\", line 515, in _make_module_from_path\n",
      "    module = module_class(filepath, prefix, user_api, internal_api)\n",
      "  File \"/home/marcus/anaconda3/lib/python3.9/site-packages/threadpoolctl.py\", line 606, in __init__\n",
      "    self.version = self.get_version()\n",
      "  File \"/home/marcus/anaconda3/lib/python3.9/site-packages/threadpoolctl.py\", line 646, in get_version\n",
      "    config = get_config().split()\n",
      "AttributeError: 'NoneType' object has no attribute 'split'\n",
      "Exception ignored on calling ctypes callback function: <function _ThreadpoolInfo._find_modules_with_dl_iterate_phdr.<locals>.match_module_callback at 0x7f01b4dbbb80>\n",
      "Traceback (most recent call last):\n",
      "  File \"/home/marcus/anaconda3/lib/python3.9/site-packages/threadpoolctl.py\", line 400, in match_module_callback\n",
      "    self._make_module_from_path(filepath)\n",
      "  File \"/home/marcus/anaconda3/lib/python3.9/site-packages/threadpoolctl.py\", line 515, in _make_module_from_path\n",
      "    module = module_class(filepath, prefix, user_api, internal_api)\n",
      "  File \"/home/marcus/anaconda3/lib/python3.9/site-packages/threadpoolctl.py\", line 606, in __init__\n",
      "    self.version = self.get_version()\n",
      "  File \"/home/marcus/anaconda3/lib/python3.9/site-packages/threadpoolctl.py\", line 646, in get_version\n",
      "    config = get_config().split()\n",
      "AttributeError: 'NoneType' object has no attribute 'split'\n",
      "Exception ignored on calling ctypes callback function: <function _ThreadpoolInfo._find_modules_with_dl_iterate_phdr.<locals>.match_module_callback at 0x7f01b4eb00d0>\n",
      "Traceback (most recent call last):\n",
      "  File \"/home/marcus/anaconda3/lib/python3.9/site-packages/threadpoolctl.py\", line 400, in match_module_callback\n",
      "    self._make_module_from_path(filepath)\n",
      "  File \"/home/marcus/anaconda3/lib/python3.9/site-packages/threadpoolctl.py\", line 515, in _make_module_from_path\n",
      "    module = module_class(filepath, prefix, user_api, internal_api)\n",
      "  File \"/home/marcus/anaconda3/lib/python3.9/site-packages/threadpoolctl.py\", line 606, in __init__\n",
      "    self.version = self.get_version()\n",
      "  File \"/home/marcus/anaconda3/lib/python3.9/site-packages/threadpoolctl.py\", line 646, in get_version\n",
      "    config = get_config().split()\n",
      "AttributeError: 'NoneType' object has no attribute 'split'\n",
      "Exception ignored on calling ctypes callback function: <function _ThreadpoolInfo._find_modules_with_dl_iterate_phdr.<locals>.match_module_callback at 0x7f01b4dbbb80>\n",
      "Traceback (most recent call last):\n",
      "  File \"/home/marcus/anaconda3/lib/python3.9/site-packages/threadpoolctl.py\", line 400, in match_module_callback\n",
      "    self._make_module_from_path(filepath)\n",
      "  File \"/home/marcus/anaconda3/lib/python3.9/site-packages/threadpoolctl.py\", line 515, in _make_module_from_path\n",
      "    module = module_class(filepath, prefix, user_api, internal_api)\n",
      "  File \"/home/marcus/anaconda3/lib/python3.9/site-packages/threadpoolctl.py\", line 606, in __init__\n",
      "    self.version = self.get_version()\n",
      "  File \"/home/marcus/anaconda3/lib/python3.9/site-packages/threadpoolctl.py\", line 646, in get_version\n",
      "    config = get_config().split()\n",
      "AttributeError: 'NoneType' object has no attribute 'split'\n",
      "Exception ignored on calling ctypes callback function: <function _ThreadpoolInfo._find_modules_with_dl_iterate_phdr.<locals>.match_module_callback at 0x7f01b4eb00d0>\n",
      "Traceback (most recent call last):\n",
      "  File \"/home/marcus/anaconda3/lib/python3.9/site-packages/threadpoolctl.py\", line 400, in match_module_callback\n",
      "    self._make_module_from_path(filepath)\n",
      "  File \"/home/marcus/anaconda3/lib/python3.9/site-packages/threadpoolctl.py\", line 515, in _make_module_from_path\n",
      "    module = module_class(filepath, prefix, user_api, internal_api)\n",
      "  File \"/home/marcus/anaconda3/lib/python3.9/site-packages/threadpoolctl.py\", line 606, in __init__\n",
      "    self.version = self.get_version()\n",
      "  File \"/home/marcus/anaconda3/lib/python3.9/site-packages/threadpoolctl.py\", line 646, in get_version\n",
      "    config = get_config().split()\n",
      "AttributeError: 'NoneType' object has no attribute 'split'\n",
      "Exception ignored on calling ctypes callback function: <function _ThreadpoolInfo._find_modules_with_dl_iterate_phdr.<locals>.match_module_callback at 0x7f01b4dbbb80>\n",
      "Traceback (most recent call last):\n",
      "  File \"/home/marcus/anaconda3/lib/python3.9/site-packages/threadpoolctl.py\", line 400, in match_module_callback\n",
      "    self._make_module_from_path(filepath)\n",
      "  File \"/home/marcus/anaconda3/lib/python3.9/site-packages/threadpoolctl.py\", line 515, in _make_module_from_path\n",
      "    module = module_class(filepath, prefix, user_api, internal_api)\n",
      "  File \"/home/marcus/anaconda3/lib/python3.9/site-packages/threadpoolctl.py\", line 606, in __init__\n",
      "    self.version = self.get_version()\n",
      "  File \"/home/marcus/anaconda3/lib/python3.9/site-packages/threadpoolctl.py\", line 646, in get_version\n",
      "    config = get_config().split()\n",
      "AttributeError: 'NoneType' object has no attribute 'split'\n",
      "Exception ignored on calling ctypes callback function: <function _ThreadpoolInfo._find_modules_with_dl_iterate_phdr.<locals>.match_module_callback at 0x7f01b4eb00d0>\n",
      "Traceback (most recent call last):\n",
      "  File \"/home/marcus/anaconda3/lib/python3.9/site-packages/threadpoolctl.py\", line 400, in match_module_callback\n",
      "    self._make_module_from_path(filepath)\n",
      "  File \"/home/marcus/anaconda3/lib/python3.9/site-packages/threadpoolctl.py\", line 515, in _make_module_from_path\n",
      "    module = module_class(filepath, prefix, user_api, internal_api)\n",
      "  File \"/home/marcus/anaconda3/lib/python3.9/site-packages/threadpoolctl.py\", line 606, in __init__\n",
      "    self.version = self.get_version()\n",
      "  File \"/home/marcus/anaconda3/lib/python3.9/site-packages/threadpoolctl.py\", line 646, in get_version\n",
      "    config = get_config().split()\n",
      "AttributeError: 'NoneType' object has no attribute 'split'\n",
      "/home/marcus/anaconda3/lib/python3.9/site-packages/sklearn/utils/validation.py:1858: FutureWarning:\n",
      "\n",
      "Feature names only support names that are all strings. Got feature names with dtypes: ['int', 'str']. An error will be raised in 1.2.\n",
      "\n",
      "Exception ignored on calling ctypes callback function: <function _ThreadpoolInfo._find_modules_with_dl_iterate_phdr.<locals>.match_module_callback at 0x7f01b4eb00d0>\n",
      "Traceback (most recent call last):\n",
      "  File \"/home/marcus/anaconda3/lib/python3.9/site-packages/threadpoolctl.py\", line 400, in match_module_callback\n",
      "    self._make_module_from_path(filepath)\n",
      "  File \"/home/marcus/anaconda3/lib/python3.9/site-packages/threadpoolctl.py\", line 515, in _make_module_from_path\n",
      "    module = module_class(filepath, prefix, user_api, internal_api)\n",
      "  File \"/home/marcus/anaconda3/lib/python3.9/site-packages/threadpoolctl.py\", line 606, in __init__\n",
      "    self.version = self.get_version()\n",
      "  File \"/home/marcus/anaconda3/lib/python3.9/site-packages/threadpoolctl.py\", line 646, in get_version\n",
      "    config = get_config().split()\n",
      "AttributeError: 'NoneType' object has no attribute 'split'\n",
      "Exception ignored on calling ctypes callback function: <function _ThreadpoolInfo._find_modules_with_dl_iterate_phdr.<locals>.match_module_callback at 0x7f01b4dbbb80>\n",
      "Traceback (most recent call last):\n",
      "  File \"/home/marcus/anaconda3/lib/python3.9/site-packages/threadpoolctl.py\", line 400, in match_module_callback\n",
      "    self._make_module_from_path(filepath)\n",
      "  File \"/home/marcus/anaconda3/lib/python3.9/site-packages/threadpoolctl.py\", line 515, in _make_module_from_path\n",
      "    module = module_class(filepath, prefix, user_api, internal_api)\n",
      "  File \"/home/marcus/anaconda3/lib/python3.9/site-packages/threadpoolctl.py\", line 606, in __init__\n",
      "    self.version = self.get_version()\n",
      "  File \"/home/marcus/anaconda3/lib/python3.9/site-packages/threadpoolctl.py\", line 646, in get_version\n",
      "    config = get_config().split()\n",
      "AttributeError: 'NoneType' object has no attribute 'split'\n",
      "Exception ignored on calling ctypes callback function: <function _ThreadpoolInfo._find_modules_with_dl_iterate_phdr.<locals>.match_module_callback at 0x7f01b4eb00d0>\n",
      "Traceback (most recent call last):\n",
      "  File \"/home/marcus/anaconda3/lib/python3.9/site-packages/threadpoolctl.py\", line 400, in match_module_callback\n",
      "    self._make_module_from_path(filepath)\n",
      "  File \"/home/marcus/anaconda3/lib/python3.9/site-packages/threadpoolctl.py\", line 515, in _make_module_from_path\n",
      "    module = module_class(filepath, prefix, user_api, internal_api)\n",
      "  File \"/home/marcus/anaconda3/lib/python3.9/site-packages/threadpoolctl.py\", line 606, in __init__\n",
      "    self.version = self.get_version()\n",
      "  File \"/home/marcus/anaconda3/lib/python3.9/site-packages/threadpoolctl.py\", line 646, in get_version\n",
      "    config = get_config().split()\n",
      "AttributeError: 'NoneType' object has no attribute 'split'\n",
      "Exception ignored on calling ctypes callback function: <function _ThreadpoolInfo._find_modules_with_dl_iterate_phdr.<locals>.match_module_callback at 0x7f01b4dbbb80>\n",
      "Traceback (most recent call last):\n",
      "  File \"/home/marcus/anaconda3/lib/python3.9/site-packages/threadpoolctl.py\", line 400, in match_module_callback\n",
      "    self._make_module_from_path(filepath)\n",
      "  File \"/home/marcus/anaconda3/lib/python3.9/site-packages/threadpoolctl.py\", line 515, in _make_module_from_path\n",
      "    module = module_class(filepath, prefix, user_api, internal_api)\n",
      "  File \"/home/marcus/anaconda3/lib/python3.9/site-packages/threadpoolctl.py\", line 606, in __init__\n",
      "    self.version = self.get_version()\n",
      "  File \"/home/marcus/anaconda3/lib/python3.9/site-packages/threadpoolctl.py\", line 646, in get_version\n",
      "    config = get_config().split()\n",
      "AttributeError: 'NoneType' object has no attribute 'split'\n"
     ]
    }
   ],
   "source": [
    "distortions = []\n",
    "\n",
    "for i in range(1,30):\n",
    "    kmeans = KMeans(n_clusters=i)\n",
    "    kmeans.fit(projection_m)\n",
    "    distortions.append(kmeans.inertia_)"
   ]
  }
 ],
 "metadata": {
  "kernelspec": {
   "display_name": "base",
   "language": "python",
   "name": "python3"
  },
  "language_info": {
   "codemirror_mode": {
    "name": "ipython",
    "version": 3
   },
   "file_extension": ".py",
   "mimetype": "text/x-python",
   "name": "python",
   "nbconvert_exporter": "python",
   "pygments_lexer": "ipython3",
   "version": "3.9.12 (main, Apr  5 2022, 06:56:58) \n[GCC 7.5.0]"
  },
  "orig_nbformat": 4,
  "vscode": {
   "interpreter": {
    "hash": "ad4078168b69d66fe05634f3b7be757ef4015f974a20b20ffdc4b2de487ad266"
   }
  }
 },
 "nbformat": 4,
 "nbformat_minor": 2
}
