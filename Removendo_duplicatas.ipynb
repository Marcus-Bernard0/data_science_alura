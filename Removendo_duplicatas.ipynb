{
  "nbformat": 4,
  "nbformat_minor": 0,
  "metadata": {
    "colab": {
      "name": "Removendo_duplicatas.ipynb",
      "provenance": [],
      "authorship_tag": "ABX9TyN4a8ysZD6la+SA37F9wbvE"
    },
    "kernelspec": {
      "name": "python3",
      "display_name": "Python 3"
    },
    "language_info": {
      "name": "python"
    }
  },
  "cells": [
    {
      "cell_type": "markdown",
      "source": [
        "# Criando a lista\n"
      ],
      "metadata": {
        "id": "QY8PsCoz7eY3"
      }
    },
    {
      "cell_type": "code",
      "execution_count": null,
      "metadata": {
        "id": "u5bKrpEo7XCf"
      },
      "outputs": [],
      "source": [
        "import numpy as np\n",
        "#lista contém duplicatas\n",
        "dados = [ \n",
        "    ['Rodas de liga', 'Travas elétricas', 'Piloto automático', 'Bancos de couro', 'Ar condicionado', 'Sensor de estacionamento', 'Sensor crepuscular', 'Sensor de chuva'],\n",
        "    ['Central multimídia', 'Teto panorâmico', 'Freios ABS', '4 X 4', 'Painel digital', 'Piloto automático', 'Bancos de couro', 'Câmera de estacionamento'],\n",
        "    ['Piloto automático', 'Controle de estabilidade', 'Sensor crepuscular', 'Freios ABS', 'Câmbio automático', 'Bancos de couro', 'Central multimídia', 'Vidros elétricos']\n",
        "]\n",
        "dados"
      ]
    },
    {
      "cell_type": "markdown",
      "source": [
        "#Exibindo na mesma lista"
      ],
      "metadata": {
        "id": "bhwJCK5Y7zyJ"
      }
    },
    {
      "cell_type": "code",
      "source": [
        "for lista in dados:\n",
        "  for item in lista:\n",
        "    print(item)"
      ],
      "metadata": {
        "colab": {
          "base_uri": "https://localhost:8080/"
        },
        "id": "fwGzhdY-8J_Q",
        "outputId": "c677b5be-1509-4197-ce84-3bd38599d9f1"
      },
      "execution_count": 19,
      "outputs": [
        {
          "output_type": "stream",
          "name": "stdout",
          "text": [
            "Rodas de liga\n",
            "Travas elétricas\n",
            "Piloto automático\n",
            "Bancos de couro\n",
            "Ar condicionado\n",
            "Sensor de estacionamento\n",
            "Sensor crepuscular\n",
            "Sensor de chuva\n",
            "Central multimídia\n",
            "Teto panorâmico\n",
            "Freios ABS\n",
            "4 X 4\n",
            "Painel digital\n",
            "Piloto automático\n",
            "Bancos de couro\n",
            "Câmera de estacionamento\n",
            "Piloto automático\n",
            "Controle de estabilidade\n",
            "Sensor crepuscular\n",
            "Freios ABS\n",
            "Câmbio automático\n",
            "Bancos de couro\n",
            "Central multimídia\n",
            "Vidros elétricos\n"
          ]
        }
      ]
    },
    {
      "cell_type": "markdown",
      "source": [
        "#Atribuindo dados a Acessórios"
      ],
      "metadata": {
        "id": "6zTVW21b8YWl"
      }
    },
    {
      "cell_type": "code",
      "source": [
        "Acessorios= []\n",
        "for lista in dados:\n",
        "  for item in lista:\n",
        "    Acessorios.append(item)\n",
        "Acessorios  "
      ],
      "metadata": {
        "id": "59cvW8TJ8bkP"
      },
      "execution_count": null,
      "outputs": []
    },
    {
      "cell_type": "markdown",
      "source": [
        "#Removendo duplicatas"
      ],
      "metadata": {
        "id": "whEhvpON8Rhv"
      }
    },
    {
      "cell_type": "code",
      "source": [
        "list(set(Acessorios))"
      ],
      "metadata": {
        "id": "WSpsufBt8Txs"
      },
      "execution_count": null,
      "outputs": []
    },
    {
      "cell_type": "markdown",
      "source": [
        "# List comprehensions"
      ],
      "metadata": {
        "id": "_8LulcAp9dib"
      }
    },
    {
      "cell_type": "code",
      "source": [
        "[item for lista in dados for item in lista]"
      ],
      "metadata": {
        "id": "VRp6tK2C9gFV"
      },
      "execution_count": null,
      "outputs": []
    }
  ]
}