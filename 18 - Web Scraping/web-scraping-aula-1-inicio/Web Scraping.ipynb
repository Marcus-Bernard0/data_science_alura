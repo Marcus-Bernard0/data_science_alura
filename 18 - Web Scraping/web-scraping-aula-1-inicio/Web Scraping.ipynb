{
 "cells": [
  {
   "cell_type": "markdown",
   "metadata": {},
   "source": [
    "# <font color=green>1. MEU PRIMEIRO SCRAPING"
   ]
  },
  {
   "cell_type": "markdown",
   "metadata": {},
   "source": [
    "# 1.1. Introdução"
   ]
  },
  {
   "cell_type": "markdown",
   "metadata": {},
   "source": [
    "## *Web Scraping* é o termo utilizado para definir a prática de coletar automaticamente informações na Internet. Isto é feito, geralmente, por meio de programas que simulam a navegação humana na Web."
   ]
  },
  {
   "cell_type": "markdown",
   "metadata": {},
   "source": [
    "# 1.2. Ambiente e bibliotecas\n",
    "### Utilizaremos em nosso treinamento o navegador Google Chrome"
   ]
  },
  {
   "cell_type": "code",
   "execution_count": 1,
   "metadata": {
    "colab": {},
    "colab_type": "code",
    "id": "e9pXIMIWByAp"
   },
   "outputs": [
    {
     "name": "stdout",
     "output_type": "stream",
     "text": [
      "BeautifulSoup -> 4.11.1\n",
      "urllib -> 3.9\n",
      "pandas -> 1.2.4\n"
     ]
    }
   ],
   "source": [
    "import bs4\n",
    "import urllib.request as urllib_request\n",
    "import pandas\n",
    "\n",
    "print(\"BeautifulSoup ->\", bs4.__version__)\n",
    "print(\"urllib ->\", urllib_request.__version__)\n",
    "print(\"pandas ->\", pandas.__version__)"
   ]
  },
  {
   "cell_type": "markdown",
   "metadata": {},
   "source": [
    "# 1.3. Meu primeiro scraping"
   ]
  },
  {
   "cell_type": "code",
   "execution_count": 2,
   "metadata": {},
   "outputs": [
    {
     "data": {
      "text/plain": [
       "b'<!DOCTYPE html>\\r\\n<html lang=\"pt-br\">\\r\\n<head>\\r\\n    <meta charset=\"utf-8\">\\r\\n    <meta name=\"viewport\" content=\"width=device-width, initial-scale=1, shrink-to-fit=no\">\\r\\n\\r\\n    <title>Alura Motors</title>\\r\\n\\t<link rel=\"stylesheet\" href=\"https://maxcdn.bootstrapcdn.com/bootstrap/3.3.7/css/bootstrap.min.css\" integrity=\"sha384-BVYiiSIFeK1dGmJRAkycuHAHRg32OmUcww7on3RYdg4Va+PmSTsz/K68vbdEjh4u\" crossorigin=\"anonymous\">\\r\\n\\t<link rel=\"stylesheet\" href=\"css/styles.css\" media=\"all\">\\r\\n\\r\\n\\t<script src=\"https://code.jquery.com/jquery-1.12.4.js\"></script>\\r\\n\\t<script src=\"https://maxcdn.bootstrapcdn.com/bootstrap/3.3.7/js/bootstrap.min.js\" integrity=\"sha384-Tc5IQib027qvyjSMfHjOMaLkfuWVxZxUPnCJA7l2mCWNIpG9mGCD8wGNIcPD7Txa\" crossorigin=\"anonymous\"></script>\\r\\n\\t<script type=\"text/javascript\" src=\"js/index.js\"></script>\\r\\n\\r\\n</head>\\r\\n<body cz-shortcut-listen=\"true\">\\r\\n    <noscript>You need to enable JavaScript to run this app.</noscript>\\r\\n\\r\\n    <div id=\"root\">\\r\\n        <header>\\r\\n            <nav class=\"navbar navbar-inverse\" style=\"margin-bottom: 0;\">\\r\\n                <div class=\"container\" style=\"margin-bottom: -20px;\">\\r\\n                    <div class=\"navbar\">\\r\\n                        <a href=\"./index.php\" class=\"navbar-brand\" title=\"Alura Motors\">\\r\\n                            <img src=\"img/alura-logo.svg\" class=\"d-inline-block align-top\" alt=\"Alura\">Motors\\r\\n                        </a>\\r\\n                        <ul class=\"nav navbar-nav\" style=\"margin-top: 35px;\">\\r\\n                            <li><a href=\"./hello-world.php\">Hello World</a></li>\\r\\n                            <li><a href=\"./index.php\">An\\xc3\\xbancios</a></li>\\r\\n                        </ul>\\r\\n                    </div>\\r\\n                </div>\\r\\n            </nav>\\r\\n        </header>\\r\\n\\r\\n\\t\\t<div class=\"container\">\\r\\n\\t\\t\\t<h1 class=\"sub-header\">Curso de Web Scraping</h1>\\r\\n\\t\\t\\t<div class=\"row\">\\r\\n\\t\\t\\t\\t<div class=\"col-md-12\">\\r\\n\\t\\t\\t\\t\\t<div class=\"container\" style=\"width: 100%;\">\\r\\n                <h1 id=\"hello-world\">Hello World!!!</h1>\\r\\n                <p class=\"definition\"><b>Web Scraping</b> \\xc3\\xa9 o termo utilizado para definir a pr\\xc3\\xa1tica de coletar automaticamente informa\\xc3\\xa7\\xc3\\xb5es na Internet. Isto \\xc3\\xa9 feito, geralmente, por meio de programas que simulam a navega\\xc3\\xa7\\xc3\\xa3o humana na Web.</p>\\r\\n\\t\\t\\t\\t\\t</div>\\r\\n\\t\\t\\t\\t</div>\\r\\n\\t\\t\\t</div>\\r\\n\\t\\t</div>\\r\\n\\r\\n\\t\\t<footer id=\"footer\">\\r\\n\\t\\t\\t<nav class=\"navbar navbar-inverse\">\\r\\n\\t\\t\\t\\t<div class=\"container\" style=\"margin-bottom: 10px;\">\\r\\n\\t\\t\\t\\t\\t<div class=\"navbar\">\\r\\n\\t\\t\\t\\t\\t\\t<a href=\"./index.php\" class=\"navbar-brand\" title=\"Alura Motors\">\\r\\n\\t\\t\\t\\t\\t\\t\\t<img src=\"img/alura-logo.svg\" class=\"d-inline-block align-top\" alt=\"Alura\">Motors\\r\\n\\t\\t\\t\\t\\t\\t</a>\\r\\n\\t\\t\\t\\t\\t\\t<p style=\"color: #fff; text-align: center; margin-top: 40px;\">Aplica\\xc3\\xa7\\xc3\\xa3o para treinamento de web scraping</p>\\r\\n\\t\\t\\t\\t\\t</div>\\r\\n\\t\\t\\t\\t</div>\\r\\n\\t\\t\\t</nav>\\r\\n   </footer>\\r\\n\\r\\n\\t</div>\\r\\n\\r\\n</body>\\r\\n</html>\\r\\n'"
      ]
     },
     "execution_count": 2,
     "metadata": {},
     "output_type": "execute_result"
    }
   ],
   "source": [
    "from urllib.request import urlopen \n",
    "from bs4 import BeautifulSoup\n",
    "\n",
    "url ='https://alura-site-scraping.herokuapp.com/hello-world.php'\n",
    "\n",
    "response = urlopen(url)\n",
    "html = response.read()\n",
    "html"
   ]
  },
  {
   "cell_type": "markdown",
   "metadata": {},
   "source": [
    "### Passando para bs4 para deixar navegável"
   ]
  },
  {
   "cell_type": "code",
   "execution_count": 3,
   "metadata": {},
   "outputs": [
    {
     "data": {
      "text/plain": [
       "<!DOCTYPE html>\n",
       "\n",
       "<html lang=\"pt-br\">\n",
       "<head>\n",
       "<meta charset=\"utf-8\"/>\n",
       "<meta content=\"width=device-width, initial-scale=1, shrink-to-fit=no\" name=\"viewport\"/>\n",
       "<title>Alura Motors</title>\n",
       "<link crossorigin=\"anonymous\" href=\"https://maxcdn.bootstrapcdn.com/bootstrap/3.3.7/css/bootstrap.min.css\" integrity=\"sha384-BVYiiSIFeK1dGmJRAkycuHAHRg32OmUcww7on3RYdg4Va+PmSTsz/K68vbdEjh4u\" rel=\"stylesheet\"/>\n",
       "<link href=\"css/styles.css\" media=\"all\" rel=\"stylesheet\"/>\n",
       "<script src=\"https://code.jquery.com/jquery-1.12.4.js\"></script>\n",
       "<script crossorigin=\"anonymous\" integrity=\"sha384-Tc5IQib027qvyjSMfHjOMaLkfuWVxZxUPnCJA7l2mCWNIpG9mGCD8wGNIcPD7Txa\" src=\"https://maxcdn.bootstrapcdn.com/bootstrap/3.3.7/js/bootstrap.min.js\"></script>\n",
       "<script src=\"js/index.js\" type=\"text/javascript\"></script>\n",
       "</head>\n",
       "<body cz-shortcut-listen=\"true\">\n",
       "<noscript>You need to enable JavaScript to run this app.</noscript>\n",
       "<div id=\"root\">\n",
       "<header>\n",
       "<nav class=\"navbar navbar-inverse\" style=\"margin-bottom: 0;\">\n",
       "<div class=\"container\" style=\"margin-bottom: -20px;\">\n",
       "<div class=\"navbar\">\n",
       "<a class=\"navbar-brand\" href=\"./index.php\" title=\"Alura Motors\">\n",
       "<img alt=\"Alura\" class=\"d-inline-block align-top\" src=\"img/alura-logo.svg\"/>Motors\n",
       "                        </a>\n",
       "<ul class=\"nav navbar-nav\" style=\"margin-top: 35px;\">\n",
       "<li><a href=\"./hello-world.php\">Hello World</a></li>\n",
       "<li><a href=\"./index.php\">Anúncios</a></li>\n",
       "</ul>\n",
       "</div>\n",
       "</div>\n",
       "</nav>\n",
       "</header>\n",
       "<div class=\"container\">\n",
       "<h1 class=\"sub-header\">Curso de Web Scraping</h1>\n",
       "<div class=\"row\">\n",
       "<div class=\"col-md-12\">\n",
       "<div class=\"container\" style=\"width: 100%;\">\n",
       "<h1 id=\"hello-world\">Hello World!!!</h1>\n",
       "<p class=\"definition\"><b>Web Scraping</b> é o termo utilizado para definir a prática de coletar automaticamente informações na Internet. Isto é feito, geralmente, por meio de programas que simulam a navegação humana na Web.</p>\n",
       "</div>\n",
       "</div>\n",
       "</div>\n",
       "</div>\n",
       "<footer id=\"footer\">\n",
       "<nav class=\"navbar navbar-inverse\">\n",
       "<div class=\"container\" style=\"margin-bottom: 10px;\">\n",
       "<div class=\"navbar\">\n",
       "<a class=\"navbar-brand\" href=\"./index.php\" title=\"Alura Motors\">\n",
       "<img alt=\"Alura\" class=\"d-inline-block align-top\" src=\"img/alura-logo.svg\"/>Motors\n",
       "\t\t\t\t\t\t</a>\n",
       "<p style=\"color: #fff; text-align: center; margin-top: 40px;\">Aplicação para treinamento de web scraping</p>\n",
       "</div>\n",
       "</div>\n",
       "</nav>\n",
       "</footer>\n",
       "</div>\n",
       "</body>\n",
       "</html>"
      ]
     },
     "execution_count": 3,
     "metadata": {},
     "output_type": "execute_result"
    }
   ],
   "source": [
    "soup = BeautifulSoup(html, 'html.parser')\n",
    "soup"
   ]
  },
  {
   "cell_type": "code",
   "execution_count": 4,
   "metadata": {},
   "outputs": [
    {
     "name": "stdout",
     "output_type": "stream",
     "text": [
      "<h1 id=\"hello-world\">Hello World!!!</h1>\n"
     ]
    }
   ],
   "source": [
    "print(soup.find('h1', id ='hello-world'))"
   ]
  },
  {
   "cell_type": "code",
   "execution_count": 5,
   "metadata": {},
   "outputs": [
    {
     "data": {
      "text/plain": [
       "'Hello World!!!'"
      ]
     },
     "execution_count": 5,
     "metadata": {},
     "output_type": "execute_result"
    }
   ],
   "source": [
    "soup.find('h1', id ='hello-world').get_text()"
   ]
  },
  {
   "cell_type": "code",
   "execution_count": 6,
   "metadata": {},
   "outputs": [
    {
     "name": "stdout",
     "output_type": "stream",
     "text": [
      "Web Scraping é o termo utilizado para definir a prática de coletar automaticamente informações na Internet. Isto é feito, geralmente, por meio de programas que simulam a navegação humana na Web.\n"
     ]
    }
   ],
   "source": [
    "print(soup.find('p').get_text())"
   ]
  },
  {
   "cell_type": "code",
   "execution_count": 7,
   "metadata": {},
   "outputs": [
    {
     "data": {
      "text/plain": [
       "'Curso de Web Scraping'"
      ]
     },
     "execution_count": 7,
     "metadata": {},
     "output_type": "execute_result"
    }
   ],
   "source": [
    "\n",
    "soup.find('h1', {'class': 'sub-header'}).get_text()"
   ]
  },
  {
   "cell_type": "markdown",
   "metadata": {},
   "source": [
    "---\n",
    "# <font color=green>2. OBTENDO E TRATANDO O CONTEÚDO DE UM HTML"
   ]
  },
  {
   "cell_type": "markdown",
   "metadata": {},
   "source": [
    "# 2.1. Entendendo a web"
   ]
  },
  {
   "cell_type": "markdown",
   "metadata": {},
   "source": [
    "<img src=\"./web/web.png\" width=\"700\">"
   ]
  },
  {
   "cell_type": "markdown",
   "metadata": {},
   "source": [
    "# 2.2. Obtendo o conteúdo HTML de um site"
   ]
  },
  {
   "cell_type": "markdown",
   "metadata": {},
   "source": [
    "# urllib.request\n",
    "## https://docs.python.org/3/library/urllib.html"
   ]
  },
  {
   "cell_type": "code",
   "execution_count": 8,
   "metadata": {
    "colab": {
     "base_uri": "https://localhost:8080/",
     "height": 54
    },
    "colab_type": "code",
    "id": "c1pKGnTpgvFU",
    "outputId": "b6b7e32d-4c3e-4f52-a8ba-0b1cbfe15ea4"
   },
   "outputs": [],
   "source": [
    "from urllib.request import urlopen\n",
    "\n",
    "url = 'https://alura-site-scraping.herokuapp.com/index.php'\n",
    "\n",
    "response = urlopen(url)\n",
    "html = response.read()\n",
    "\n",
    "# print(html)"
   ]
  },
  {
   "cell_type": "markdown",
   "metadata": {},
   "source": [
    "## https://docs.python.org/3/library/urllib.request.html#urllib.request.Request"
   ]
  },
  {
   "cell_type": "markdown",
   "metadata": {},
   "source": [
    "#### Usado quando o site tem um bloqueador de acesso."
   ]
  },
  {
   "cell_type": "code",
   "execution_count": 9,
   "metadata": {},
   "outputs": [],
   "source": [
    "from urllib.request import Request, urlopen\n",
    "from urllib.error import URLError, HTTPError #bibliotecas que exibem o erro\n",
    "\n",
    "url = 'https://alura.com.br'\n",
    "\n",
    "headers = {'User-Agent': 'Mozilla/5.0 (Windows NT 10.0; Win64; x64) AppleWebKit/537.36 (KHTML, like Gecko) Chrome/105.0.0.0 Safari/537.36'}\n",
    "\n",
    "req = Request(url, headers = headers)\n",
    "response = urlopen(req)\n",
    "html = response.read()\n",
    "# print(html)"
   ]
  },
  {
   "cell_type": "code",
   "execution_count": 10,
   "metadata": {},
   "outputs": [
    {
     "name": "stdout",
     "output_type": "stream",
     "text": [
      "403 Forbidden\n"
     ]
    }
   ],
   "source": [
    "try:\n",
    "    req = Request(url) # sem o headers\n",
    "    response = urlopen(req)\n",
    "    html = response.read()\n",
    "    print(html)\n",
    "except HTTPError as e:\n",
    "    print(e.status, e.reason)"
   ]
  },
  {
   "cell_type": "code",
   "execution_count": 11,
   "metadata": {},
   "outputs": [
    {
     "data": {
      "text/plain": [
       "'try:\\n    req = Request(url, headers = headers)\\n    response = urlopen(req)\\n    html = response.read()\\n    print(html)\\nexcept HTTPError as e:\\n    print(e.status, e.reason)'"
      ]
     },
     "execution_count": 11,
     "metadata": {},
     "output_type": "execute_result"
    }
   ],
   "source": [
    "'''try:\n",
    "    req = Request(url, headers = headers)\n",
    "    response = urlopen(req)\n",
    "    html = response.read()\n",
    "    print(html)\n",
    "except HTTPError as e:\n",
    "    print(e.status, e.reason)'''"
   ]
  },
  {
   "cell_type": "code",
   "execution_count": 12,
   "metadata": {},
   "outputs": [
    {
     "data": {
      "text/plain": [
       "'try:\\n    req = Request(url, headers = headers)\\n    response = urlopen(req)\\n    html = response.read()\\n    print(html)\\n    \\nexcept HTTPError as e:\\n    print(e.status, e.reason)\\n\\nexcept ULRError as e:\\n    print(e.reason)'"
      ]
     },
     "execution_count": 12,
     "metadata": {},
     "output_type": "execute_result"
    }
   ],
   "source": [
    "'''try:\n",
    "    req = Request(url, headers = headers)\n",
    "    response = urlopen(req)\n",
    "    html = response.read()\n",
    "    print(html)\n",
    "    \n",
    "except HTTPError as e:\n",
    "    print(e.status, e.reason)\n",
    "\n",
    "except ULRError as e:\n",
    "    print(e.reason)'''"
   ]
  },
  {
   "cell_type": "markdown",
   "metadata": {},
   "source": [
    "# 2.3. Tratamento de string"
   ]
  },
  {
   "cell_type": "code",
   "execution_count": 13,
   "metadata": {},
   "outputs": [],
   "source": [
    "from urllib.request import urlopen\n",
    "\n",
    "url = 'https://alura-site-scraping.herokuapp.com/index.php'\n",
    "\n",
    "response = urlopen(url)\n",
    "html = response.read()\n",
    "\n",
    "# print(html)"
   ]
  },
  {
   "cell_type": "markdown",
   "metadata": {},
   "source": [
    "### Convertando o tipo bytes para string"
   ]
  },
  {
   "cell_type": "code",
   "execution_count": 14,
   "metadata": {},
   "outputs": [
    {
     "data": {
      "text/plain": [
       "bytes"
      ]
     },
     "execution_count": 14,
     "metadata": {},
     "output_type": "execute_result"
    }
   ],
   "source": [
    "type(html)"
   ]
  },
  {
   "cell_type": "code",
   "execution_count": 15,
   "metadata": {},
   "outputs": [],
   "source": [
    "html = html.decode('utf-8')"
   ]
  },
  {
   "cell_type": "code",
   "execution_count": 16,
   "metadata": {},
   "outputs": [
    {
     "data": {
      "text/plain": [
       "str"
      ]
     },
     "execution_count": 16,
     "metadata": {},
     "output_type": "execute_result"
    }
   ],
   "source": [
    "type(html)"
   ]
  },
  {
   "cell_type": "code",
   "execution_count": 17,
   "metadata": {},
   "outputs": [],
   "source": [
    "# html"
   ]
  },
  {
   "cell_type": "markdown",
   "metadata": {},
   "source": [
    "### Eliminando os caracteres de tabulação, quebra de linha etc."
   ]
  },
  {
   "cell_type": "code",
   "execution_count": 18,
   "metadata": {},
   "outputs": [
    {
     "data": {
      "text/plain": [
       "['<!DOCTYPE',\n",
       " 'html>',\n",
       " '<html',\n",
       " 'lang=\"pt-br\">',\n",
       " '<head>',\n",
       " '<meta',\n",
       " 'charset=\"utf-8\">',\n",
       " '<meta',\n",
       " 'name=\"viewport\"',\n",
       " 'content=\"width=device-width,',\n",
       " 'initial-scale=1,',\n",
       " 'shrink-to-fit=no\">',\n",
       " '<title>Alura',\n",
       " 'Motors</title>',\n",
       " '<style>',\n",
       " '/*Regra',\n",
       " 'para',\n",
       " 'a',\n",
       " 'animacao*/',\n",
       " '@keyframes',\n",
       " 'spin',\n",
       " '{',\n",
       " '0%',\n",
       " '{',\n",
       " 'transform:',\n",
       " 'rotate(0deg);',\n",
       " '}',\n",
       " '100%',\n",
       " '{',\n",
       " 'transform:',\n",
       " 'rotate(360deg);',\n",
       " '}',\n",
       " '}',\n",
       " '/*Mudando',\n",
       " 'o',\n",
       " 'tamanho',\n",
       " 'do',\n",
       " 'icone',\n",
       " 'de',\n",
       " 'resposta*/',\n",
       " 'div.glyphicon',\n",
       " '{',\n",
       " 'color:#6B8E23;',\n",
       " 'font-size:',\n",
       " '38px;',\n",
       " '}',\n",
       " '/*Classe',\n",
       " 'que',\n",
       " 'mostra',\n",
       " 'a',\n",
       " 'animacao',\n",
       " \"'spin'*/\",\n",
       " '.loader',\n",
       " '{',\n",
       " 'border:',\n",
       " '16px',\n",
       " 'solid',\n",
       " '#f3f3f3;',\n",
       " 'border-radius:',\n",
       " '50%;',\n",
       " 'border-top:',\n",
       " '16px',\n",
       " 'solid',\n",
       " '#3498db;',\n",
       " 'width:',\n",
       " '80px;',\n",
       " 'height:',\n",
       " '80px;',\n",
       " '-webkit-animation:',\n",
       " 'spin',\n",
       " '2s',\n",
       " 'linear',\n",
       " 'infinite;',\n",
       " 'animation:',\n",
       " 'spin',\n",
       " '2s',\n",
       " 'linear',\n",
       " 'infinite;',\n",
       " '}',\n",
       " '</style>',\n",
       " '<link',\n",
       " 'rel=\"stylesheet\"',\n",
       " 'href=\"https://maxcdn.bootstrapcdn.com/bootstrap/3.3.7/css/bootstrap.min.css\"',\n",
       " 'integrity=\"sha384-BVYiiSIFeK1dGmJRAkycuHAHRg32OmUcww7on3RYdg4Va+PmSTsz/K68vbdEjh4u\"',\n",
       " 'crossorigin=\"anonymous\">',\n",
       " '<link',\n",
       " 'rel=\"stylesheet\"',\n",
       " 'href=\"css/styles.css\"',\n",
       " 'media=\"all\">',\n",
       " '<script',\n",
       " 'src=\"https://code.jquery.com/jquery-1.12.4.js\"></script>',\n",
       " '<script',\n",
       " 'src=\"https://maxcdn.bootstrapcdn.com/bootstrap/3.3.7/js/bootstrap.min.js\"',\n",
       " 'integrity=\"sha384-Tc5IQib027qvyjSMfHjOMaLkfuWVxZxUPnCJA7l2mCWNIpG9mGCD8wGNIcPD7Txa\"',\n",
       " 'crossorigin=\"anonymous\"></script>',\n",
       " '<script',\n",
       " 'type=\"text/javascript\"',\n",
       " 'src=\"js/index.js\"></script>',\n",
       " '<script>',\n",
       " 'requisitar(\"https://alura-scraping.herokuapp.com/produtos?_page=\"+1+\"&_limit=10\")',\n",
       " '</script>',\n",
       " '</head>',\n",
       " '<body',\n",
       " 'cz-shortcut-listen=\"true\">',\n",
       " '<noscript>You',\n",
       " 'need',\n",
       " 'to',\n",
       " 'enable',\n",
       " 'JavaScript',\n",
       " 'to',\n",
       " 'run',\n",
       " 'this',\n",
       " 'app.</noscript>',\n",
       " '<div',\n",
       " 'class=\"modal',\n",
       " 'fade\"',\n",
       " 'data-backdrop=\"static\"',\n",
       " 'id=\"loadingModal\"',\n",
       " 'tabindex=\"-1\"',\n",
       " 'role=\"dialog\"',\n",
       " 'aria-labelledby=\"loadingModal_label\">',\n",
       " '<div',\n",
       " 'class=\"modal-dialog\"',\n",
       " 'role=\"document\">',\n",
       " '<div',\n",
       " 'class=\"modal-content\">',\n",
       " '<div',\n",
       " 'class=\"modal-header\">',\n",
       " '<h5',\n",
       " 'class=\"modal-title\"',\n",
       " 'id=\"loadingModal_label\">',\n",
       " '<span',\n",
       " 'class=\"glyphicon',\n",
       " 'glyphicon-refresh\"></span>Aguarde...',\n",
       " '</h5>',\n",
       " '</div>',\n",
       " '<div',\n",
       " 'class=\"modal-body\">',\n",
       " '<div',\n",
       " \"class='alert'\",\n",
       " \"role='alert'>\",\n",
       " '<center>',\n",
       " '<div',\n",
       " 'class=\"loader\"',\n",
       " 'id=\"loader\"></div><br>',\n",
       " '<h4><b',\n",
       " 'id=\"loadingModal_content\"></b></h4>',\n",
       " '</center>',\n",
       " '</div>',\n",
       " '</div>',\n",
       " '</div>',\n",
       " '</div>',\n",
       " '</div>',\n",
       " '<div',\n",
       " 'id=\"root\">',\n",
       " '<header>',\n",
       " '<nav',\n",
       " 'class=\"navbar',\n",
       " 'navbar-inverse\"',\n",
       " 'style=\"margin-bottom:',\n",
       " '0;\">',\n",
       " '<div',\n",
       " 'class=\"container\"',\n",
       " 'style=\"margin-bottom:',\n",
       " '-20px;\">',\n",
       " '<div',\n",
       " 'class=\"navbar\">',\n",
       " '<a',\n",
       " 'href=\"./index.php\"',\n",
       " 'class=\"navbar-brand\"',\n",
       " 'title=\"Alura',\n",
       " 'Motors\">',\n",
       " '<img',\n",
       " 'src=\"img/alura-logo.svg\"',\n",
       " 'class=\"d-inline-block',\n",
       " 'align-top\"',\n",
       " 'alt=\"Alura\">Motors',\n",
       " '</a>',\n",
       " '<ul',\n",
       " 'class=\"nav',\n",
       " 'navbar-nav\"',\n",
       " 'style=\"margin-top:',\n",
       " '35px;\">',\n",
       " '<li><a',\n",
       " 'href=\"./hello-world.php\">Hello',\n",
       " 'World</a></li>',\n",
       " '<li><a',\n",
       " 'href=\"./index.php\">Anúncios</a></li>',\n",
       " '</ul>',\n",
       " '</div>',\n",
       " '</div>',\n",
       " '</nav>',\n",
       " '</header>',\n",
       " '<div',\n",
       " 'class=\"container\">',\n",
       " '<h1',\n",
       " 'class=\"sub-header\">Veículos',\n",
       " 'de',\n",
       " 'Luxo',\n",
       " 'Novos',\n",
       " 'e',\n",
       " 'Usados',\n",
       " '-',\n",
       " 'Todas',\n",
       " 'as',\n",
       " 'Marcas</h1>',\n",
       " '<div',\n",
       " 'class=\"row\">',\n",
       " '<div',\n",
       " 'class=\"col-md-12\">',\n",
       " '<div',\n",
       " 'class=\"container\"',\n",
       " 'style=\"width:',\n",
       " '100%\">',\n",
       " '<div',\n",
       " 'class=\"type-select\">246',\n",
       " 'veículos',\n",
       " 'encontrados</div>',\n",
       " '<div',\n",
       " 'class=\"container-pagination\"',\n",
       " 'style=\"float:',\n",
       " 'right\">',\n",
       " '<span',\n",
       " 'class=\"info-pages\">Página',\n",
       " '1',\n",
       " 'de',\n",
       " '25</span>',\n",
       " '</div>',\n",
       " '</div>',\n",
       " '<div',\n",
       " 'id=\"container-cards\"',\n",
       " 'style=\"height:',\n",
       " '100%\">',\n",
       " '<div',\n",
       " 'class=\"well',\n",
       " 'card\">',\n",
       " '<div',\n",
       " 'class=\"col-md-3',\n",
       " 'image-card\">',\n",
       " '<img',\n",
       " 'width=\"220\"',\n",
       " 'height=\"155\"',\n",
       " 'alt=\"Foto\"',\n",
       " 'src=\"https://caelum-online-public.s3.amazonaws.com/1381-scraping/01/img-cars/lamborghini-aventador/lamborghini-aventador-2932196__340.jpg\">',\n",
       " '</div>',\n",
       " '<div',\n",
       " 'class=\"col-md-6',\n",
       " 'body-card\">',\n",
       " '<p',\n",
       " 'class=\"txt-name',\n",
       " 'inline\">LAMBORGHINI',\n",
       " 'AVENTADOR</p>',\n",
       " '<p',\n",
       " 'class=\"txt-category',\n",
       " 'badge',\n",
       " 'badge-secondary',\n",
       " 'inline\">USADO</p>',\n",
       " '<p',\n",
       " 'class=\"txt-motor\">Motor',\n",
       " '1.8',\n",
       " '16v</p>',\n",
       " '<p',\n",
       " 'class=\"txt-description\">Ano',\n",
       " '1993',\n",
       " '-',\n",
       " '55.286',\n",
       " 'km</p>',\n",
       " '<ul',\n",
       " 'class=\"lst-items\">',\n",
       " '<li',\n",
       " 'class=\"txt-items\">►',\n",
       " '4',\n",
       " 'X',\n",
       " '4</li>',\n",
       " '<li',\n",
       " 'class=\"txt-items\">►',\n",
       " 'Câmera',\n",
       " 'de',\n",
       " 'estacionamento</li>',\n",
       " '<li',\n",
       " 'class=\"txt-items\">►',\n",
       " 'Controle',\n",
       " 'de',\n",
       " 'tração</li>',\n",
       " '<li',\n",
       " 'class=\"txt-items\">►',\n",
       " 'Sensor',\n",
       " 'de',\n",
       " 'estacionamento</li>',\n",
       " '<li',\n",
       " 'class=\"txt-items\">...</li>',\n",
       " '</ul>',\n",
       " '<p',\n",
       " 'class=\"txt-location\">Belo',\n",
       " 'Horizonte',\n",
       " '-',\n",
       " 'MG</p>',\n",
       " '</div>',\n",
       " '<div',\n",
       " 'class=\"col-md-3',\n",
       " 'value-card\">',\n",
       " '<div',\n",
       " 'class=\"value\">',\n",
       " '<p',\n",
       " 'class=\"txt-value\">R$',\n",
       " '338.000</p>',\n",
       " '</div>',\n",
       " '</div>',\n",
       " '</div>',\n",
       " '<div',\n",
       " 'class=\"well',\n",
       " 'card\">',\n",
       " '<div',\n",
       " 'class=\"col-md-3',\n",
       " 'image-card\">',\n",
       " '<img',\n",
       " 'width=\"220\"',\n",
       " 'height=\"155\"',\n",
       " 'alt=\"Foto\"',\n",
       " 'src=\"https://caelum-online-public.s3.amazonaws.com/1381-scraping/01/img-cars/bmw-m2/bmw-m2-2970882__340.jpg\">',\n",
       " '</div>',\n",
       " '<div',\n",
       " 'class=\"col-md-6',\n",
       " 'body-card\">',\n",
       " '<p',\n",
       " 'class=\"txt-name',\n",
       " 'inline\">BMW',\n",
       " 'M2</p>',\n",
       " '<p',\n",
       " 'class=\"txt-category',\n",
       " 'badge',\n",
       " 'badge-secondary',\n",
       " 'inline\">USADO</p>',\n",
       " '<p',\n",
       " 'class=\"txt-motor\">Motor',\n",
       " '3.0',\n",
       " '32v</p>',\n",
       " '<p',\n",
       " 'class=\"txt-description\">Ano',\n",
       " '2018',\n",
       " '-',\n",
       " '83.447',\n",
       " 'km</p>',\n",
       " '<ul',\n",
       " 'class=\"lst-items\">',\n",
       " '<li',\n",
       " 'class=\"txt-items\">►',\n",
       " 'Câmera',\n",
       " 'de',\n",
       " 'estacionamento</li>',\n",
       " '<li',\n",
       " 'class=\"txt-items\">►',\n",
       " 'Controle',\n",
       " 'de',\n",
       " 'estabilidade</li>',\n",
       " '<li',\n",
       " 'class=\"txt-items\">►',\n",
       " 'Travas',\n",
       " 'elétricas</li>',\n",
       " '<li',\n",
       " 'class=\"txt-items\">►',\n",
       " 'Freios',\n",
       " 'ABS</li>',\n",
       " '<li',\n",
       " 'class=\"txt-items\">...</li>',\n",
       " '</ul>',\n",
       " '<p',\n",
       " 'class=\"txt-location\">Belo',\n",
       " 'Horizonte',\n",
       " '-',\n",
       " 'MG</p>',\n",
       " '</div>',\n",
       " '<div',\n",
       " 'class=\"col-md-3',\n",
       " 'value-card\">',\n",
       " '<div',\n",
       " 'class=\"value\">',\n",
       " '<p',\n",
       " 'class=\"txt-value\">R$',\n",
       " '346.000</p>',\n",
       " '</div>',\n",
       " '</div>',\n",
       " '</div>',\n",
       " '<div',\n",
       " 'class=\"well',\n",
       " 'card\">',\n",
       " '<div',\n",
       " 'class=\"col-md-3',\n",
       " 'image-card\">',\n",
       " '<img',\n",
       " 'width=\"220\"',\n",
       " 'height=\"155\"',\n",
       " 'alt=\"Foto\"',\n",
       " 'src=\"https://caelum-online-public.s3.amazonaws.com/1381-scraping/01/img-cars/alfa/alfa-1823056__340.jpg\">',\n",
       " '</div>',\n",
       " '<div',\n",
       " 'class=\"col-md-6',\n",
       " 'body-card\">',\n",
       " '<p',\n",
       " 'class=\"txt-name',\n",
       " 'inline\">ALFA</p>',\n",
       " '<p',\n",
       " 'class=\"txt-category',\n",
       " 'badge',\n",
       " 'badge-secondary',\n",
       " 'inline\">USADO</p>',\n",
       " '<p',\n",
       " 'class=\"txt-motor\">Motor',\n",
       " '1.8',\n",
       " '16v</p>',\n",
       " '<p',\n",
       " 'class=\"txt-description\">Ano',\n",
       " '2004',\n",
       " '-',\n",
       " '19.722',\n",
       " 'km</p>',\n",
       " '<ul',\n",
       " 'class=\"lst-items\">',\n",
       " '<li',\n",
       " 'class=\"txt-items\">►',\n",
       " 'Central',\n",
       " 'multimídia</li>',\n",
       " '<li',\n",
       " 'class=\"txt-items\">►',\n",
       " 'Bancos',\n",
       " 'de',\n",
       " 'couro</li>',\n",
       " '<li',\n",
       " 'class=\"txt-items\">►',\n",
       " 'Rodas',\n",
       " 'de',\n",
       " 'liga</li>',\n",
       " '<li',\n",
       " 'class=\"txt-items\">►',\n",
       " 'Câmera',\n",
       " 'de',\n",
       " 'estacionamento</li>',\n",
       " '<li',\n",
       " 'class=\"txt-items\">...</li>',\n",
       " '</ul>',\n",
       " '<p',\n",
       " 'class=\"txt-location\">Rio',\n",
       " 'de',\n",
       " 'Janeiro',\n",
       " '-',\n",
       " 'RJ</p>',\n",
       " '</div>',\n",
       " '<div',\n",
       " 'class=\"col-md-3',\n",
       " 'value-card\">',\n",
       " '<div',\n",
       " 'class=\"value\">',\n",
       " '<p',\n",
       " 'class=\"txt-value\">R$',\n",
       " '480.000</p>',\n",
       " '</div>',\n",
       " '</div>',\n",
       " '</div>',\n",
       " '<div',\n",
       " 'class=\"well',\n",
       " 'card\">',\n",
       " '<div',\n",
       " 'class=\"col-md-3',\n",
       " 'image-card\">',\n",
       " '<img',\n",
       " 'width=\"220\"',\n",
       " 'height=\"155\"',\n",
       " 'alt=\"Foto\"',\n",
       " 'src=\"https://caelum-online-public.s3.amazonaws.com/1381-scraping/01/img-cars/puech/puech-4055386__340.jpg\">',\n",
       " '</div>',\n",
       " '<div',\n",
       " 'class=\"col-md-6',\n",
       " 'body-card\">',\n",
       " '<p',\n",
       " 'class=\"txt-name',\n",
       " 'inline\">PUECH</p>',\n",
       " '<p',\n",
       " 'class=\"txt-category',\n",
       " 'badge',\n",
       " 'badge-secondary',\n",
       " 'inline\">USADO</p>',\n",
       " '<p',\n",
       " 'class=\"txt-motor\">Motor',\n",
       " 'Diesel',\n",
       " 'V8</p>',\n",
       " '<p',\n",
       " 'class=\"txt-description\">Ano',\n",
       " '1992',\n",
       " '-',\n",
       " '34.335',\n",
       " 'km</p>',\n",
       " '<ul',\n",
       " 'class=\"lst-items\">',\n",
       " '<li',\n",
       " 'class=\"txt-items\">►',\n",
       " 'Bancos',\n",
       " 'de',\n",
       " 'couro</li>',\n",
       " '<li',\n",
       " 'class=\"txt-items\">►',\n",
       " 'Freios',\n",
       " 'ABS</li>',\n",
       " '<li',\n",
       " 'class=\"txt-items\">►',\n",
       " 'Rodas',\n",
       " 'de',\n",
       " 'liga</li>',\n",
       " '<li',\n",
       " 'class=\"txt-items\">►',\n",
       " 'Câmbio',\n",
       " 'automático</li>',\n",
       " '<li',\n",
       " 'class=\"txt-items\">...</li>',\n",
       " '</ul>',\n",
       " '<p',\n",
       " 'class=\"txt-location\">São',\n",
       " 'Paulo',\n",
       " '-',\n",
       " 'SP</p>',\n",
       " '</div>',\n",
       " '<div',\n",
       " 'class=\"col-md-3',\n",
       " 'value-card\">',\n",
       " '<div',\n",
       " 'class=\"value\">',\n",
       " '<p',\n",
       " 'class=\"txt-value\">R$',\n",
       " '133.000</p>',\n",
       " '</div>',\n",
       " '</div>',\n",
       " '</div>',\n",
       " '<div',\n",
       " 'class=\"well',\n",
       " 'card\">',\n",
       " '<div',\n",
       " 'class=\"col-md-3',\n",
       " 'image-card\">',\n",
       " '<img',\n",
       " 'width=\"220\"',\n",
       " 'height=\"155\"',\n",
       " 'alt=\"Foto\"',\n",
       " 'src=\"https://caelum-online-public.s3.amazonaws.com/1381-scraping/01/img-cars/lamborghini-murcielago/lamborghini-murcielago-2872974__340.jpg\">',\n",
       " '</div>',\n",
       " '<div',\n",
       " 'class=\"col-md-6',\n",
       " 'body-card\">',\n",
       " '<p',\n",
       " 'class=\"txt-name',\n",
       " 'inline\">LAMBORGHINI',\n",
       " 'MURCIELAGO</p>',\n",
       " '<p',\n",
       " 'class=\"txt-category',\n",
       " 'badge',\n",
       " 'badge-secondary',\n",
       " 'inline\">USADO</p>',\n",
       " '<p',\n",
       " 'class=\"txt-motor\">Motor',\n",
       " '1.0',\n",
       " '8v</p>',\n",
       " '<p',\n",
       " 'class=\"txt-description\">Ano',\n",
       " '1991',\n",
       " '-',\n",
       " '464',\n",
       " 'km</p>',\n",
       " '<ul',\n",
       " 'class=\"lst-items\">',\n",
       " '<li',\n",
       " 'class=\"txt-items\">►',\n",
       " 'Central',\n",
       " 'multimídia</li>',\n",
       " '<li',\n",
       " 'class=\"txt-items\">►',\n",
       " 'Teto',\n",
       " 'panorâmico</li>',\n",
       " '<li',\n",
       " 'class=\"txt-items\">►',\n",
       " 'Sensor',\n",
       " 'crepuscular</li>',\n",
       " '<li',\n",
       " 'class=\"txt-items\">►',\n",
       " 'Piloto',\n",
       " 'automático</li>',\n",
       " '<li',\n",
       " 'class=\"txt-items\">...</li>',\n",
       " '</ul>',\n",
       " '<p',\n",
       " 'class=\"txt-location\">Belo',\n",
       " 'Horizonte',\n",
       " '-',\n",
       " 'MG</p>',\n",
       " '</div>',\n",
       " '<div',\n",
       " 'class=\"col-md-3',\n",
       " 'value-card\">',\n",
       " '<div',\n",
       " 'class=\"value\">',\n",
       " '<p',\n",
       " 'class=\"txt-value\">R$',\n",
       " '175.000</p>',\n",
       " '</div>',\n",
       " '</div>',\n",
       " '</div>',\n",
       " '<div',\n",
       " 'class=\"well',\n",
       " 'card\">',\n",
       " '<div',\n",
       " 'class=\"col-md-3',\n",
       " 'image-card\">',\n",
       " '<img',\n",
       " 'width=\"220\"',\n",
       " 'height=\"155\"',\n",
       " 'alt=\"Foto\"',\n",
       " 'src=\"https://caelum-online-public.s3.amazonaws.com/1381-scraping/01/img-cars/aston-martin/aston-martin-2977916__340.jpg\">',\n",
       " '</div>',\n",
       " '<div',\n",
       " 'class=\"col-md-6',\n",
       " 'body-card\">',\n",
       " '<p',\n",
       " 'class=\"txt-name',\n",
       " 'inline\">ASTON',\n",
       " 'MARTIN</p>',\n",
       " '<p',\n",
       " 'class=\"txt-category',\n",
       " 'badge',\n",
       " 'badge-secondary',\n",
       " 'inline\">USADO</p>',\n",
       " '<p',\n",
       " 'class=\"txt-opportunity',\n",
       " 'badge',\n",
       " 'badge-danger',\n",
       " 'inline\">OPORTUNIDADE</p>',\n",
       " '<p',\n",
       " 'class=\"txt-motor\">Motor',\n",
       " 'Diesel',\n",
       " 'V6</p>',\n",
       " '<p',\n",
       " 'class=\"txt-description\">Ano',\n",
       " '2004',\n",
       " '-',\n",
       " '50.189',\n",
       " 'km</p>',\n",
       " '<ul',\n",
       " 'class=\"lst-items\">',\n",
       " '<li',\n",
       " 'class=\"txt-items\">►',\n",
       " 'Painel',\n",
       " 'digital</li>',\n",
       " '<li',\n",
       " 'class=\"txt-items\">►',\n",
       " 'Controle',\n",
       " 'de',\n",
       " 'tração</li>',\n",
       " '<li',\n",
       " 'class=\"txt-items\">►',\n",
       " 'Teto',\n",
       " 'panorâmico</li>',\n",
       " '<li',\n",
       " 'class=\"txt-items\">►',\n",
       " 'Central',\n",
       " 'multimídia</li>',\n",
       " '<li',\n",
       " 'class=\"txt-items\">...</li>',\n",
       " '</ul>',\n",
       " '<p',\n",
       " 'class=\"txt-location\">Belo',\n",
       " 'Horizonte',\n",
       " '-',\n",
       " 'MG</p>',\n",
       " '</div>',\n",
       " '<div',\n",
       " 'class=\"col-md-3',\n",
       " 'value-card\">',\n",
       " '<div',\n",
       " 'class=\"value\">',\n",
       " '<p',\n",
       " 'class=\"txt-value\">R$',\n",
       " '239.000</p>',\n",
       " '</div>',\n",
       " '</div>',\n",
       " '</div>',\n",
       " '<div',\n",
       " 'class=\"well',\n",
       " 'card\">',\n",
       " '<div',\n",
       " 'class=\"col-md-3',\n",
       " 'image-card\">',\n",
       " '<img',\n",
       " 'width=\"220\"',\n",
       " 'height=\"155\"',\n",
       " 'alt=\"Foto\"',\n",
       " 'src=\"https://caelum-online-public.s3.amazonaws.com/1381-scraping/01/img-cars/tvr/tvr-2943925__340.jpg\">',\n",
       " '</div>',\n",
       " '<div',\n",
       " 'class=\"col-md-6',\n",
       " 'body-card\">',\n",
       " '<p',\n",
       " 'class=\"txt-name',\n",
       " 'inline\">TVR</p>',\n",
       " '<p',\n",
       " 'class=\"txt-category',\n",
       " 'badge',\n",
       " 'badge-secondary',\n",
       " 'inline\">USADO</p>',\n",
       " '<p',\n",
       " 'class=\"txt-motor\">Motor',\n",
       " '4.0',\n",
       " 'Turbo</p>',\n",
       " '<p',\n",
       " 'class=\"txt-description\">Ano',\n",
       " '2014',\n",
       " '-',\n",
       " '17.778',\n",
       " 'km</p>',\n",
       " '<ul',\n",
       " 'class=\"lst-items\">',\n",
       " '<li',\n",
       " 'class=\"txt-items\">►',\n",
       " '4',\n",
       " 'X',\n",
       " '4</li>',\n",
       " '<li',\n",
       " 'class=\"txt-items\">►',\n",
       " 'Teto',\n",
       " 'panorâmico</li>',\n",
       " '<li',\n",
       " 'class=\"txt-items\">►',\n",
       " 'Central',\n",
       " 'multimídia</li>',\n",
       " '<li',\n",
       " 'class=\"txt-items\">►',\n",
       " 'Controle',\n",
       " 'de',\n",
       " 'estabilidade</li>',\n",
       " '<li',\n",
       " 'class=\"txt-items\">...</li>',\n",
       " '</ul>',\n",
       " '<p',\n",
       " 'class=\"txt-location\">Belo',\n",
       " 'Horizonte',\n",
       " '-',\n",
       " 'MG</p>',\n",
       " '</div>',\n",
       " '<div',\n",
       " 'class=\"col-md-3',\n",
       " 'value-card\">',\n",
       " '<div',\n",
       " 'class=\"value\">',\n",
       " '<p',\n",
       " 'class=\"txt-value\">R$',\n",
       " '115.000</p>',\n",
       " '</div>',\n",
       " '</div>',\n",
       " '</div>',\n",
       " '<div',\n",
       " 'class=\"well',\n",
       " 'card\">',\n",
       " '<div',\n",
       " 'class=\"col-md-3',\n",
       " 'image-card\">',\n",
       " '<img',\n",
       " 'width=\"220\"',\n",
       " 'height=\"155\"',\n",
       " 'alt=\"Foto\"',\n",
       " 'src=\"https://caelum-online-public.s3.amazonaws.com/1381-scraping/01/img-cars/excalibur/excalibur-2916730__340.jpg\">',\n",
       " '</div>',\n",
       " '<div',\n",
       " 'class=\"col-md-6',\n",
       " 'body-card\">',\n",
       " '<p',\n",
       " 'class=\"txt-name',\n",
       " 'inline\">EXCALIBUR</p>',\n",
       " '<p',\n",
       " 'class=\"txt-category',\n",
       " 'badge',\n",
       " 'badge-secondary',\n",
       " 'inline\">USADO</p>',\n",
       " '<p',\n",
       " 'class=\"txt-motor\">Motor',\n",
       " '3.0',\n",
       " '32v</p>',\n",
       " '<p',\n",
       " 'class=\"txt-description\">Ano',\n",
       " '2009',\n",
       " '-',\n",
       " '81.251',\n",
       " 'km</p>',\n",
       " '<ul',\n",
       " 'class=\"lst-items\">',\n",
       " '<li',\n",
       " 'class=\"txt-items\">►',\n",
       " 'Painel',\n",
       " 'digital</li>',\n",
       " '<li',\n",
       " 'class=\"txt-items\">►',\n",
       " 'Câmbio',\n",
       " 'automático</li>',\n",
       " '<li',\n",
       " 'class=\"txt-items\">►',\n",
       " 'Sensor',\n",
       " 'de',\n",
       " 'chuva</li>',\n",
       " '<li',\n",
       " 'class=\"txt-items\">►',\n",
       " 'Travas',\n",
       " 'elétricas</li>',\n",
       " '<li',\n",
       " 'class=\"txt-items\">...</li>',\n",
       " '</ul>',\n",
       " '<p',\n",
       " 'class=\"txt-location\">Rio',\n",
       " 'de',\n",
       " 'Janeiro',\n",
       " '-',\n",
       " 'RJ</p>',\n",
       " '</div>',\n",
       " '<div',\n",
       " 'class=\"col-md-3',\n",
       " 'value-card\">',\n",
       " '<div',\n",
       " 'class=\"value\">',\n",
       " '<p',\n",
       " 'class=\"txt-value\">R$',\n",
       " '114.000</p>',\n",
       " '</div>',\n",
       " '</div>',\n",
       " '</div>',\n",
       " '<div',\n",
       " 'class=\"well',\n",
       " 'card\">',\n",
       " '<div',\n",
       " 'class=\"col-md-3',\n",
       " 'image-card\">',\n",
       " '<img',\n",
       " 'width=\"220\"',\n",
       " 'height=\"155\"',\n",
       " 'alt=\"Foto\"',\n",
       " 'src=\"https://caelum-online-public.s3.amazonaws.com/1381-scraping/01/img-cars/mclaren/mclaren-2855240__340.jpg\">',\n",
       " '</div>',\n",
       " '<div',\n",
       " 'class=\"col-md-6',\n",
       " 'body-card\">',\n",
       " '<p',\n",
       " 'class=\"txt-name',\n",
       " 'inline\">MCLAREN</p>',\n",
       " '<p',\n",
       " 'class=\"txt-category',\n",
       " 'badge',\n",
       " 'badge-secondary',\n",
       " 'inline\">NOVO</p>',\n",
       " '<p',\n",
       " 'class=\"txt-motor\">Motor',\n",
       " 'Diesel</p>',\n",
       " '<p',\n",
       " 'class=\"txt-description\">Ano',\n",
       " '2019',\n",
       " '-',\n",
       " '0',\n",
       " 'km</p>',\n",
       " '<ul',\n",
       " 'class=\"lst-items\">',\n",
       " '<li',\n",
       " 'class=\"txt-items\">►',\n",
       " 'Central',\n",
       " 'multimídia</li>',\n",
       " '<li',\n",
       " 'class=\"txt-items\">►',\n",
       " 'Câmera',\n",
       " 'de',\n",
       " 'estacionamento</li>',\n",
       " '<li',\n",
       " 'class=\"txt-items\">►',\n",
       " 'Câmbio',\n",
       " 'automático</li>',\n",
       " '<li',\n",
       " 'class=\"txt-items\">►',\n",
       " 'Ar',\n",
       " 'condicionado</li>',\n",
       " '<li',\n",
       " 'class=\"txt-items\">...</li>',\n",
       " '</ul>',\n",
       " '<p',\n",
       " 'class=\"txt-location\">São',\n",
       " 'Paulo',\n",
       " '-',\n",
       " 'SP</p>',\n",
       " '</div>',\n",
       " '<div',\n",
       " 'class=\"col-md-3',\n",
       " 'value-card\">',\n",
       " '<div',\n",
       " 'class=\"value\">',\n",
       " '<p',\n",
       " 'class=\"txt-value\">R$',\n",
       " '75.000</p>',\n",
       " '</div>',\n",
       " '</div>',\n",
       " '</div>',\n",
       " '<div',\n",
       " 'class=\"well',\n",
       " 'card\">',\n",
       " '<div',\n",
       " 'class=\"col-md-3',\n",
       " 'image-card\">',\n",
       " '<img',\n",
       " 'width=\"220\"',\n",
       " 'height=\"155\"',\n",
       " 'alt=\"Foto\"',\n",
       " 'src=\"https://caelum-online-public.s3.amazonaws.com/1381-scraping/01/img-cars/toyota/toyota-3245397__340.jpg\">',\n",
       " '</div>',\n",
       " '<div',\n",
       " 'class=\"col-md-6',\n",
       " 'body-card\">',\n",
       " '<p',\n",
       " 'class=\"txt-name',\n",
       " 'inline\">TOYOTA</p>',\n",
       " '<p',\n",
       " 'class=\"txt-category',\n",
       " 'badge',\n",
       " 'badge-secondary',\n",
       " 'inline\">USADO</p>',\n",
       " '<p',\n",
       " 'class=\"txt-opportunity',\n",
       " 'badge',\n",
       " 'badge-danger',\n",
       " 'inline\">OPORTUNIDADE</p>',\n",
       " '<p',\n",
       " 'class=\"txt-motor\">Motor',\n",
       " '4.0',\n",
       " 'Turbo</p>',\n",
       " '<p',\n",
       " 'class=\"txt-description\">Ano',\n",
       " '1999',\n",
       " '-',\n",
       " '12.536',\n",
       " 'km</p>',\n",
       " '<ul',\n",
       " 'class=\"lst-items\">',\n",
       " '<li',\n",
       " 'class=\"txt-items\">►',\n",
       " 'Bancos',\n",
       " 'de',\n",
       " 'couro</li>',\n",
       " '<li',\n",
       " 'class=\"txt-items\">►',\n",
       " 'Freios',\n",
       " 'ABS</li>',\n",
       " '<li',\n",
       " 'class=\"txt-items\">►',\n",
       " 'Piloto',\n",
       " 'automático</li>',\n",
       " '<li',\n",
       " 'class=\"txt-items\">►',\n",
       " 'Controle',\n",
       " 'de',\n",
       " 'estabilidade</li>',\n",
       " '<li',\n",
       " 'class=\"txt-items\">...</li>',\n",
       " '</ul>',\n",
       " '<p',\n",
       " 'class=\"txt-location\">São',\n",
       " 'Paulo',\n",
       " '-',\n",
       " 'SP</p>',\n",
       " '</div>',\n",
       " '<div',\n",
       " 'class=\"col-md-3',\n",
       " 'value-card\">',\n",
       " '<div',\n",
       " 'class=\"value\">',\n",
       " '<p',\n",
       " 'class=\"txt-value\">R$',\n",
       " '117.000</p>',\n",
       " '</div>',\n",
       " '</div>',\n",
       " '</div>',\n",
       " '</div>',\n",
       " '<div',\n",
       " 'class=\"type-select\">246',\n",
       " 'veículos',\n",
       " 'encontrados</div>',\n",
       " '<div',\n",
       " 'class=\"container-pagination\"',\n",
       " 'style=\"float:',\n",
       " 'right\">',\n",
       " '<span',\n",
       " 'class=\"info-pages\">Página',\n",
       " '1',\n",
       " 'de',\n",
       " '25</span>',\n",
       " '</div>',\n",
       " '</div>',\n",
       " '</div>',\n",
       " '</div>',\n",
       " '</div>',\n",
       " '</div>',\n",
       " '<footer>',\n",
       " '<nav',\n",
       " 'class=\"navbar',\n",
       " 'navbar-inverse\">',\n",
       " ...]"
      ]
     },
     "execution_count": 18,
     "metadata": {},
     "output_type": "execute_result"
    }
   ],
   "source": [
    "html.split()"
   ]
  },
  {
   "cell_type": "markdown",
   "metadata": {},
   "source": [
    "### Colocando um espaço apenas. Tirando os \\n..."
   ]
  },
  {
   "cell_type": "code",
   "execution_count": 19,
   "metadata": {
    "scrolled": true
   },
   "outputs": [],
   "source": [
    "# \" \".join(html.split())"
   ]
  },
  {
   "cell_type": "markdown",
   "metadata": {},
   "source": [
    "### Eliminando os espaços em branco entre as TAGS"
   ]
  },
  {
   "cell_type": "code",
   "execution_count": 20,
   "metadata": {
    "scrolled": true
   },
   "outputs": [],
   "source": [
    "# \" \".join(html.split()).replace('> <','><')"
   ]
  },
  {
   "cell_type": "markdown",
   "metadata": {},
   "source": [
    "### Função de tratamento de strings"
   ]
  },
  {
   "cell_type": "code",
   "execution_count": 21,
   "metadata": {},
   "outputs": [],
   "source": [
    "def trata_html(input):\n",
    "     return \" \".join(input.split()).replace('> <','><')"
   ]
  },
  {
   "cell_type": "code",
   "execution_count": 22,
   "metadata": {},
   "outputs": [],
   "source": [
    "html = trata_html(html)"
   ]
  },
  {
   "cell_type": "code",
   "execution_count": 23,
   "metadata": {
    "scrolled": true
   },
   "outputs": [],
   "source": [
    "# html"
   ]
  },
  {
   "cell_type": "markdown",
   "metadata": {
    "colab": {},
    "colab_type": "code",
    "id": "BsfhL3sZFRZu"
   },
   "source": [
    "---\n",
    "# <font color=green>3. INTRODUÇÃO AO BEAUTIFULSOUP"
   ]
  },
  {
   "cell_type": "markdown",
   "metadata": {
    "colab": {},
    "colab_type": "code",
    "id": "BsfhL3sZFRZu"
   },
   "source": [
    "# 3.1. HTML da nossa página"
   ]
  },
  {
   "cell_type": "markdown",
   "metadata": {},
   "source": [
    "**HTML** (*HyperText Markup Language*) é uma linguagem de marcação composta por **tags** que deteminam o papel que cada parte do documento vai assumir. As **tags** são formadas pelo seu nome e atributos. Os atributos servem para configurar e também modificar as características padrões de uma **tag**.\n",
    "\n",
    "## Estrutura básica\n",
    "\n",
    "```html\n",
    "<html>\n",
    "    <head>\n",
    "        <meta charset=\"utf-8\" />\n",
    "        <title>Alura Motors</title>\n",
    "    </head>\n",
    "    <body>\n",
    "        <div id=\"container\">\n",
    "            <h1>Alura</h1>\n",
    "            <h2 class=\"formato\">Cursos de Tecnologia</h2>\n",
    "            <p>Você vai estudar, praticar, discutir e aprender.</p>\n",
    "            <a href=\"https://www.alura.com.br/\">Clique aqui</a>\n",
    "        </div>\n",
    "    </body>\n",
    "</html>\n",
    "```\n",
    "\n",
    "```<html>``` - determina o início do documento.\n",
    "\n",
    "```<head>``` - cabeçalho. Contém informações e configurações do documento.\n",
    "\n",
    "```<body>``` - é o corpo do documento, onde todo o conteúdo é colocado. Esta é a parte visível em um navegador.\n",
    "\n",
    "## Tags mais comuns\n",
    "\n",
    "```<div>``` - define uma divisão da página. Pode ser formatada de diversas maneiras.\n",
    "\n",
    "```<h1>, <h2>, <h3>, <h4>, <h5>, <h6>``` - marcadores de títulos.\n",
    "\n",
    "```<p>``` - marcador de parágrafo.\n",
    "\n",
    "```<a>``` - hiperlink.\n",
    "\n",
    "```<img>``` - exibição de imagens.\n",
    "\n",
    "```<table>``` - definição de tabelas.\n",
    "\n",
    "```<ul>, <li>``` - definição de listas.\n"
   ]
  },
  {
   "cell_type": "markdown",
   "metadata": {},
   "source": [
    "# 3.2. Criando um objeto BeautifulSoup"
   ]
  },
  {
   "cell_type": "markdown",
   "metadata": {},
   "source": [
    "## https://www.crummy.com/software/BeautifulSoup/\n",
    "\n",
    "### Sobre parser ver: https://www.crummy.com/software/BeautifulSoup/bs4/doc/#parser-installation"
   ]
  },
  {
   "cell_type": "code",
   "execution_count": 24,
   "metadata": {
    "colab": {
     "base_uri": "https://localhost:8080/",
     "height": 316
    },
    "colab_type": "code",
    "id": "5Oxx_d0BCWGa",
    "outputId": "4d2c4e2b-57fe-413d-9521-91711e0e5fdc",
    "scrolled": true
   },
   "outputs": [],
   "source": [
    "from bs4 import BeautifulSoup\n",
    "\n",
    "soup = BeautifulSoup(html, 'html.parser')\n",
    "# soup"
   ]
  },
  {
   "cell_type": "code",
   "execution_count": 25,
   "metadata": {
    "scrolled": true
   },
   "outputs": [
    {
     "data": {
      "text/plain": [
       "bs4.BeautifulSoup"
      ]
     },
     "execution_count": 25,
     "metadata": {},
     "output_type": "execute_result"
    }
   ],
   "source": [
    "type(soup)"
   ]
  },
  {
   "cell_type": "markdown",
   "metadata": {},
   "source": [
    "#### Identação padrão\n"
   ]
  },
  {
   "cell_type": "code",
   "execution_count": 26,
   "metadata": {},
   "outputs": [
    {
     "name": "stdout",
     "output_type": "stream",
     "text": [
      "<!DOCTYPE html>\n",
      "<html lang=\"pt-br\">\n",
      " <head>\n",
      "  <meta charset=\"utf-8\"/>\n",
      "  <meta content=\"width=device-width, initial-scale=1, shrink-to-fit=no\" name=\"viewport\"/>\n",
      "  <title>\n",
      "   Alura Motors\n",
      "  </title>\n",
      "  <style>\n",
      "   /*Regra para a animacao*/ @keyframes spin { 0% { transform: rotate(0deg); } 100% { transform: rotate(360deg); } } /*Mudando o tamanho do icone de resposta*/ div.glyphicon { color:#6B8E23; font-size: 38px; } /*Classe que mostra a animacao 'spin'*/ .loader { border: 16px solid #f3f3f3; border-radius: 50%; border-top: 16px solid #3498db; width: 80px; height: 80px; -webkit-animation: spin 2s linear infinite; animation: spin 2s linear infinite; }\n",
      "  </style>\n",
      "  <link crossorigin=\"anonymous\" href=\"https://maxcdn.bootstrapcdn.com/bootstrap/3.3.7/css/bootstrap.min.css\" integrity=\"sha384-BVYiiSIFeK1dGmJRAkycuHAHRg32OmUcww7on3RYdg4Va+PmSTsz/K68vbdEjh4u\" rel=\"stylesheet\"/>\n",
      "  <link href=\"css/styles.css\" media=\"all\" rel=\"stylesheet\"/>\n",
      "  <script src=\"https://code.jquery.com/jquery-1.12.4.js\">\n",
      "  </script>\n",
      "  <script crossorigin=\"anonymous\" integrity=\"sha384-Tc5IQib027qvyjSMfHjOMaLkfuWVxZxUPnCJA7l2mCWNIpG9mGCD8wGNIcPD7Txa\" src=\"https://maxcdn.bootstrapcdn.com/bootstrap/3.3.7/js/bootstrap.min.js\">\n",
      "  </script>\n",
      "  <script src=\"js/index.js\" type=\"text/javascript\">\n",
      "  </script>\n",
      "  <script>\n",
      "   requisitar(\"https://alura-scraping.herokuapp.com/produtos?_page=\"+1+\"&_limit=10\")\n",
      "  </script>\n",
      " </head>\n",
      " <body cz-shortcut-listen=\"true\">\n",
      "  <noscript>\n",
      "   You need to enable JavaScript to run this app.\n",
      "  </noscript>\n",
      "  <div aria-labelledby=\"loadingModal_label\" class=\"modal fade\" data-backdrop=\"static\" id=\"loadingModal\" role=\"dialog\" tabindex=\"-1\">\n",
      "   <div class=\"modal-dialog\" role=\"document\">\n",
      "    <div class=\"modal-content\">\n",
      "     <div class=\"modal-header\">\n",
      "      <h5 class=\"modal-title\" id=\"loadingModal_label\">\n",
      "       <span class=\"glyphicon glyphicon-refresh\">\n",
      "       </span>\n",
      "       Aguarde...\n",
      "      </h5>\n",
      "     </div>\n",
      "     <div class=\"modal-body\">\n",
      "      <div class=\"alert\" role=\"alert\">\n",
      "       <center>\n",
      "        <div class=\"loader\" id=\"loader\">\n",
      "        </div>\n",
      "        <br/>\n",
      "        <h4>\n",
      "         <b id=\"loadingModal_content\">\n",
      "         </b>\n",
      "        </h4>\n",
      "       </center>\n",
      "      </div>\n",
      "     </div>\n",
      "    </div>\n",
      "   </div>\n",
      "  </div>\n",
      "  <div id=\"root\">\n",
      "   <header>\n",
      "    <nav class=\"navbar navbar-inverse\" style=\"margin-bottom: 0;\">\n",
      "     <div class=\"container\" style=\"margin-bottom: -20px;\">\n",
      "      <div class=\"navbar\">\n",
      "       <a class=\"navbar-brand\" href=\"./index.php\" title=\"Alura Motors\">\n",
      "        <img alt=\"Alura\" class=\"d-inline-block align-top\" src=\"img/alura-logo.svg\"/>\n",
      "        Motors\n",
      "       </a>\n",
      "       <ul class=\"nav navbar-nav\" style=\"margin-top: 35px;\">\n",
      "        <li>\n",
      "         <a href=\"./hello-world.php\">\n",
      "          Hello World\n",
      "         </a>\n",
      "        </li>\n",
      "        <li>\n",
      "         <a href=\"./index.php\">\n",
      "          Anúncios\n",
      "         </a>\n",
      "        </li>\n",
      "       </ul>\n",
      "      </div>\n",
      "     </div>\n",
      "    </nav>\n",
      "   </header>\n",
      "   <div class=\"container\">\n",
      "    <h1 class=\"sub-header\">\n",
      "     Veículos de Luxo Novos e Usados - Todas as Marcas\n",
      "    </h1>\n",
      "    <div class=\"row\">\n",
      "     <div class=\"col-md-12\">\n",
      "      <div class=\"container\" style=\"width: 100%\">\n",
      "       <div class=\"type-select\">\n",
      "        246 veículos encontrados\n",
      "       </div>\n",
      "       <div class=\"container-pagination\" style=\"float: right\">\n",
      "        <span class=\"info-pages\">\n",
      "         Página 1 de 25\n",
      "        </span>\n",
      "       </div>\n",
      "      </div>\n",
      "      <div id=\"container-cards\" style=\"height: 100%\">\n",
      "       <div class=\"well card\">\n",
      "        <div class=\"col-md-3 image-card\">\n",
      "         <img alt=\"Foto\" height=\"155\" src=\"https://caelum-online-public.s3.amazonaws.com/1381-scraping/01/img-cars/lamborghini-aventador/lamborghini-aventador-2932196__340.jpg\" width=\"220\"/>\n",
      "        </div>\n",
      "        <div class=\"col-md-6 body-card\">\n",
      "         <p class=\"txt-name inline\">\n",
      "          LAMBORGHINI AVENTADOR\n",
      "         </p>\n",
      "         <p class=\"txt-category badge badge-secondary inline\">\n",
      "          USADO\n",
      "         </p>\n",
      "         <p class=\"txt-motor\">\n",
      "          Motor 1.8 16v\n",
      "         </p>\n",
      "         <p class=\"txt-description\">\n",
      "          Ano 1993 - 55.286 km\n",
      "         </p>\n",
      "         <ul class=\"lst-items\">\n",
      "          <li class=\"txt-items\">\n",
      "           ► 4 X 4\n",
      "          </li>\n",
      "          <li class=\"txt-items\">\n",
      "           ► Câmera de estacionamento\n",
      "          </li>\n",
      "          <li class=\"txt-items\">\n",
      "           ► Controle de tração\n",
      "          </li>\n",
      "          <li class=\"txt-items\">\n",
      "           ► Sensor de estacionamento\n",
      "          </li>\n",
      "          <li class=\"txt-items\">\n",
      "           ...\n",
      "          </li>\n",
      "         </ul>\n",
      "         <p class=\"txt-location\">\n",
      "          Belo Horizonte - MG\n",
      "         </p>\n",
      "        </div>\n",
      "        <div class=\"col-md-3 value-card\">\n",
      "         <div class=\"value\">\n",
      "          <p class=\"txt-value\">\n",
      "           R$ 338.000\n",
      "          </p>\n",
      "         </div>\n",
      "        </div>\n",
      "       </div>\n",
      "       <div class=\"well card\">\n",
      "        <div class=\"col-md-3 image-card\">\n",
      "         <img alt=\"Foto\" height=\"155\" src=\"https://caelum-online-public.s3.amazonaws.com/1381-scraping/01/img-cars/bmw-m2/bmw-m2-2970882__340.jpg\" width=\"220\"/>\n",
      "        </div>\n",
      "        <div class=\"col-md-6 body-card\">\n",
      "         <p class=\"txt-name inline\">\n",
      "          BMW M2\n",
      "         </p>\n",
      "         <p class=\"txt-category badge badge-secondary inline\">\n",
      "          USADO\n",
      "         </p>\n",
      "         <p class=\"txt-motor\">\n",
      "          Motor 3.0 32v\n",
      "         </p>\n",
      "         <p class=\"txt-description\">\n",
      "          Ano 2018 - 83.447 km\n",
      "         </p>\n",
      "         <ul class=\"lst-items\">\n",
      "          <li class=\"txt-items\">\n",
      "           ► Câmera de estacionamento\n",
      "          </li>\n",
      "          <li class=\"txt-items\">\n",
      "           ► Controle de estabilidade\n",
      "          </li>\n",
      "          <li class=\"txt-items\">\n",
      "           ► Travas elétricas\n",
      "          </li>\n",
      "          <li class=\"txt-items\">\n",
      "           ► Freios ABS\n",
      "          </li>\n",
      "          <li class=\"txt-items\">\n",
      "           ...\n",
      "          </li>\n",
      "         </ul>\n",
      "         <p class=\"txt-location\">\n",
      "          Belo Horizonte - MG\n",
      "         </p>\n",
      "        </div>\n",
      "        <div class=\"col-md-3 value-card\">\n",
      "         <div class=\"value\">\n",
      "          <p class=\"txt-value\">\n",
      "           R$ 346.000\n",
      "          </p>\n",
      "         </div>\n",
      "        </div>\n",
      "       </div>\n",
      "       <div class=\"well card\">\n",
      "        <div class=\"col-md-3 image-card\">\n",
      "         <img alt=\"Foto\" height=\"155\" src=\"https://caelum-online-public.s3.amazonaws.com/1381-scraping/01/img-cars/alfa/alfa-1823056__340.jpg\" width=\"220\"/>\n",
      "        </div>\n",
      "        <div class=\"col-md-6 body-card\">\n",
      "         <p class=\"txt-name inline\">\n",
      "          ALFA\n",
      "         </p>\n",
      "         <p class=\"txt-category badge badge-secondary inline\">\n",
      "          USADO\n",
      "         </p>\n",
      "         <p class=\"txt-motor\">\n",
      "          Motor 1.8 16v\n",
      "         </p>\n",
      "         <p class=\"txt-description\">\n",
      "          Ano 2004 - 19.722 km\n",
      "         </p>\n",
      "         <ul class=\"lst-items\">\n",
      "          <li class=\"txt-items\">\n",
      "           ► Central multimídia\n",
      "          </li>\n",
      "          <li class=\"txt-items\">\n",
      "           ► Bancos de couro\n",
      "          </li>\n",
      "          <li class=\"txt-items\">\n",
      "           ► Rodas de liga\n",
      "          </li>\n",
      "          <li class=\"txt-items\">\n",
      "           ► Câmera de estacionamento\n",
      "          </li>\n",
      "          <li class=\"txt-items\">\n",
      "           ...\n",
      "          </li>\n",
      "         </ul>\n",
      "         <p class=\"txt-location\">\n",
      "          Rio de Janeiro - RJ\n",
      "         </p>\n",
      "        </div>\n",
      "        <div class=\"col-md-3 value-card\">\n",
      "         <div class=\"value\">\n",
      "          <p class=\"txt-value\">\n",
      "           R$ 480.000\n",
      "          </p>\n",
      "         </div>\n",
      "        </div>\n",
      "       </div>\n",
      "       <div class=\"well card\">\n",
      "        <div class=\"col-md-3 image-card\">\n",
      "         <img alt=\"Foto\" height=\"155\" src=\"https://caelum-online-public.s3.amazonaws.com/1381-scraping/01/img-cars/puech/puech-4055386__340.jpg\" width=\"220\"/>\n",
      "        </div>\n",
      "        <div class=\"col-md-6 body-card\">\n",
      "         <p class=\"txt-name inline\">\n",
      "          PUECH\n",
      "         </p>\n",
      "         <p class=\"txt-category badge badge-secondary inline\">\n",
      "          USADO\n",
      "         </p>\n",
      "         <p class=\"txt-motor\">\n",
      "          Motor Diesel V8\n",
      "         </p>\n",
      "         <p class=\"txt-description\">\n",
      "          Ano 1992 - 34.335 km\n",
      "         </p>\n",
      "         <ul class=\"lst-items\">\n",
      "          <li class=\"txt-items\">\n",
      "           ► Bancos de couro\n",
      "          </li>\n",
      "          <li class=\"txt-items\">\n",
      "           ► Freios ABS\n",
      "          </li>\n",
      "          <li class=\"txt-items\">\n",
      "           ► Rodas de liga\n",
      "          </li>\n",
      "          <li class=\"txt-items\">\n",
      "           ► Câmbio automático\n",
      "          </li>\n",
      "          <li class=\"txt-items\">\n",
      "           ...\n",
      "          </li>\n",
      "         </ul>\n",
      "         <p class=\"txt-location\">\n",
      "          São Paulo - SP\n",
      "         </p>\n",
      "        </div>\n",
      "        <div class=\"col-md-3 value-card\">\n",
      "         <div class=\"value\">\n",
      "          <p class=\"txt-value\">\n",
      "           R$ 133.000\n",
      "          </p>\n",
      "         </div>\n",
      "        </div>\n",
      "       </div>\n",
      "       <div class=\"well card\">\n",
      "        <div class=\"col-md-3 image-card\">\n",
      "         <img alt=\"Foto\" height=\"155\" src=\"https://caelum-online-public.s3.amazonaws.com/1381-scraping/01/img-cars/lamborghini-murcielago/lamborghini-murcielago-2872974__340.jpg\" width=\"220\"/>\n",
      "        </div>\n",
      "        <div class=\"col-md-6 body-card\">\n",
      "         <p class=\"txt-name inline\">\n",
      "          LAMBORGHINI MURCIELAGO\n",
      "         </p>\n",
      "         <p class=\"txt-category badge badge-secondary inline\">\n",
      "          USADO\n",
      "         </p>\n",
      "         <p class=\"txt-motor\">\n",
      "          Motor 1.0 8v\n",
      "         </p>\n",
      "         <p class=\"txt-description\">\n",
      "          Ano 1991 - 464 km\n",
      "         </p>\n",
      "         <ul class=\"lst-items\">\n",
      "          <li class=\"txt-items\">\n",
      "           ► Central multimídia\n",
      "          </li>\n",
      "          <li class=\"txt-items\">\n",
      "           ► Teto panorâmico\n",
      "          </li>\n",
      "          <li class=\"txt-items\">\n",
      "           ► Sensor crepuscular\n",
      "          </li>\n",
      "          <li class=\"txt-items\">\n",
      "           ► Piloto automático\n",
      "          </li>\n",
      "          <li class=\"txt-items\">\n",
      "           ...\n",
      "          </li>\n",
      "         </ul>\n",
      "         <p class=\"txt-location\">\n",
      "          Belo Horizonte - MG\n",
      "         </p>\n",
      "        </div>\n",
      "        <div class=\"col-md-3 value-card\">\n",
      "         <div class=\"value\">\n",
      "          <p class=\"txt-value\">\n",
      "           R$ 175.000\n",
      "          </p>\n",
      "         </div>\n",
      "        </div>\n",
      "       </div>\n",
      "       <div class=\"well card\">\n",
      "        <div class=\"col-md-3 image-card\">\n",
      "         <img alt=\"Foto\" height=\"155\" src=\"https://caelum-online-public.s3.amazonaws.com/1381-scraping/01/img-cars/aston-martin/aston-martin-2977916__340.jpg\" width=\"220\"/>\n",
      "        </div>\n",
      "        <div class=\"col-md-6 body-card\">\n",
      "         <p class=\"txt-name inline\">\n",
      "          ASTON MARTIN\n",
      "         </p>\n",
      "         <p class=\"txt-category badge badge-secondary inline\">\n",
      "          USADO\n",
      "         </p>\n",
      "         <p class=\"txt-opportunity badge badge-danger inline\">\n",
      "          OPORTUNIDADE\n",
      "         </p>\n",
      "         <p class=\"txt-motor\">\n",
      "          Motor Diesel V6\n",
      "         </p>\n",
      "         <p class=\"txt-description\">\n",
      "          Ano 2004 - 50.189 km\n",
      "         </p>\n",
      "         <ul class=\"lst-items\">\n",
      "          <li class=\"txt-items\">\n",
      "           ► Painel digital\n",
      "          </li>\n",
      "          <li class=\"txt-items\">\n",
      "           ► Controle de tração\n",
      "          </li>\n",
      "          <li class=\"txt-items\">\n",
      "           ► Teto panorâmico\n",
      "          </li>\n",
      "          <li class=\"txt-items\">\n",
      "           ► Central multimídia\n",
      "          </li>\n",
      "          <li class=\"txt-items\">\n",
      "           ...\n",
      "          </li>\n",
      "         </ul>\n",
      "         <p class=\"txt-location\">\n",
      "          Belo Horizonte - MG\n",
      "         </p>\n",
      "        </div>\n",
      "        <div class=\"col-md-3 value-card\">\n",
      "         <div class=\"value\">\n",
      "          <p class=\"txt-value\">\n",
      "           R$ 239.000\n",
      "          </p>\n",
      "         </div>\n",
      "        </div>\n",
      "       </div>\n",
      "       <div class=\"well card\">\n",
      "        <div class=\"col-md-3 image-card\">\n",
      "         <img alt=\"Foto\" height=\"155\" src=\"https://caelum-online-public.s3.amazonaws.com/1381-scraping/01/img-cars/tvr/tvr-2943925__340.jpg\" width=\"220\"/>\n",
      "        </div>\n",
      "        <div class=\"col-md-6 body-card\">\n",
      "         <p class=\"txt-name inline\">\n",
      "          TVR\n",
      "         </p>\n",
      "         <p class=\"txt-category badge badge-secondary inline\">\n",
      "          USADO\n",
      "         </p>\n",
      "         <p class=\"txt-motor\">\n",
      "          Motor 4.0 Turbo\n",
      "         </p>\n",
      "         <p class=\"txt-description\">\n",
      "          Ano 2014 - 17.778 km\n",
      "         </p>\n",
      "         <ul class=\"lst-items\">\n",
      "          <li class=\"txt-items\">\n",
      "           ► 4 X 4\n",
      "          </li>\n",
      "          <li class=\"txt-items\">\n",
      "           ► Teto panorâmico\n",
      "          </li>\n",
      "          <li class=\"txt-items\">\n",
      "           ► Central multimídia\n",
      "          </li>\n",
      "          <li class=\"txt-items\">\n",
      "           ► Controle de estabilidade\n",
      "          </li>\n",
      "          <li class=\"txt-items\">\n",
      "           ...\n",
      "          </li>\n",
      "         </ul>\n",
      "         <p class=\"txt-location\">\n",
      "          Belo Horizonte - MG\n",
      "         </p>\n",
      "        </div>\n",
      "        <div class=\"col-md-3 value-card\">\n",
      "         <div class=\"value\">\n",
      "          <p class=\"txt-value\">\n",
      "           R$ 115.000\n",
      "          </p>\n",
      "         </div>\n",
      "        </div>\n",
      "       </div>\n",
      "       <div class=\"well card\">\n",
      "        <div class=\"col-md-3 image-card\">\n",
      "         <img alt=\"Foto\" height=\"155\" src=\"https://caelum-online-public.s3.amazonaws.com/1381-scraping/01/img-cars/excalibur/excalibur-2916730__340.jpg\" width=\"220\"/>\n",
      "        </div>\n",
      "        <div class=\"col-md-6 body-card\">\n",
      "         <p class=\"txt-name inline\">\n",
      "          EXCALIBUR\n",
      "         </p>\n",
      "         <p class=\"txt-category badge badge-secondary inline\">\n",
      "          USADO\n",
      "         </p>\n",
      "         <p class=\"txt-motor\">\n",
      "          Motor 3.0 32v\n",
      "         </p>\n",
      "         <p class=\"txt-description\">\n",
      "          Ano 2009 - 81.251 km\n",
      "         </p>\n",
      "         <ul class=\"lst-items\">\n",
      "          <li class=\"txt-items\">\n",
      "           ► Painel digital\n",
      "          </li>\n",
      "          <li class=\"txt-items\">\n",
      "           ► Câmbio automático\n",
      "          </li>\n",
      "          <li class=\"txt-items\">\n",
      "           ► Sensor de chuva\n",
      "          </li>\n",
      "          <li class=\"txt-items\">\n",
      "           ► Travas elétricas\n",
      "          </li>\n",
      "          <li class=\"txt-items\">\n",
      "           ...\n",
      "          </li>\n",
      "         </ul>\n",
      "         <p class=\"txt-location\">\n",
      "          Rio de Janeiro - RJ\n",
      "         </p>\n",
      "        </div>\n",
      "        <div class=\"col-md-3 value-card\">\n",
      "         <div class=\"value\">\n",
      "          <p class=\"txt-value\">\n",
      "           R$ 114.000\n",
      "          </p>\n",
      "         </div>\n",
      "        </div>\n",
      "       </div>\n",
      "       <div class=\"well card\">\n",
      "        <div class=\"col-md-3 image-card\">\n",
      "         <img alt=\"Foto\" height=\"155\" src=\"https://caelum-online-public.s3.amazonaws.com/1381-scraping/01/img-cars/mclaren/mclaren-2855240__340.jpg\" width=\"220\"/>\n",
      "        </div>\n",
      "        <div class=\"col-md-6 body-card\">\n",
      "         <p class=\"txt-name inline\">\n",
      "          MCLAREN\n",
      "         </p>\n",
      "         <p class=\"txt-category badge badge-secondary inline\">\n",
      "          NOVO\n",
      "         </p>\n",
      "         <p class=\"txt-motor\">\n",
      "          Motor Diesel\n",
      "         </p>\n",
      "         <p class=\"txt-description\">\n",
      "          Ano 2019 - 0 km\n",
      "         </p>\n",
      "         <ul class=\"lst-items\">\n",
      "          <li class=\"txt-items\">\n",
      "           ► Central multimídia\n",
      "          </li>\n",
      "          <li class=\"txt-items\">\n",
      "           ► Câmera de estacionamento\n",
      "          </li>\n",
      "          <li class=\"txt-items\">\n",
      "           ► Câmbio automático\n",
      "          </li>\n",
      "          <li class=\"txt-items\">\n",
      "           ► Ar condicionado\n",
      "          </li>\n",
      "          <li class=\"txt-items\">\n",
      "           ...\n",
      "          </li>\n",
      "         </ul>\n",
      "         <p class=\"txt-location\">\n",
      "          São Paulo - SP\n",
      "         </p>\n",
      "        </div>\n",
      "        <div class=\"col-md-3 value-card\">\n",
      "         <div class=\"value\">\n",
      "          <p class=\"txt-value\">\n",
      "           R$ 75.000\n",
      "          </p>\n",
      "         </div>\n",
      "        </div>\n",
      "       </div>\n",
      "       <div class=\"well card\">\n",
      "        <div class=\"col-md-3 image-card\">\n",
      "         <img alt=\"Foto\" height=\"155\" src=\"https://caelum-online-public.s3.amazonaws.com/1381-scraping/01/img-cars/toyota/toyota-3245397__340.jpg\" width=\"220\"/>\n",
      "        </div>\n",
      "        <div class=\"col-md-6 body-card\">\n",
      "         <p class=\"txt-name inline\">\n",
      "          TOYOTA\n",
      "         </p>\n",
      "         <p class=\"txt-category badge badge-secondary inline\">\n",
      "          USADO\n",
      "         </p>\n",
      "         <p class=\"txt-opportunity badge badge-danger inline\">\n",
      "          OPORTUNIDADE\n",
      "         </p>\n",
      "         <p class=\"txt-motor\">\n",
      "          Motor 4.0 Turbo\n",
      "         </p>\n",
      "         <p class=\"txt-description\">\n",
      "          Ano 1999 - 12.536 km\n",
      "         </p>\n",
      "         <ul class=\"lst-items\">\n",
      "          <li class=\"txt-items\">\n",
      "           ► Bancos de couro\n",
      "          </li>\n",
      "          <li class=\"txt-items\">\n",
      "           ► Freios ABS\n",
      "          </li>\n",
      "          <li class=\"txt-items\">\n",
      "           ► Piloto automático\n",
      "          </li>\n",
      "          <li class=\"txt-items\">\n",
      "           ► Controle de estabilidade\n",
      "          </li>\n",
      "          <li class=\"txt-items\">\n",
      "           ...\n",
      "          </li>\n",
      "         </ul>\n",
      "         <p class=\"txt-location\">\n",
      "          São Paulo - SP\n",
      "         </p>\n",
      "        </div>\n",
      "        <div class=\"col-md-3 value-card\">\n",
      "         <div class=\"value\">\n",
      "          <p class=\"txt-value\">\n",
      "           R$ 117.000\n",
      "          </p>\n",
      "         </div>\n",
      "        </div>\n",
      "       </div>\n",
      "      </div>\n",
      "      <div class=\"type-select\">\n",
      "       246 veículos encontrados\n",
      "      </div>\n",
      "      <div class=\"container-pagination\" style=\"float: right\">\n",
      "       <span class=\"info-pages\">\n",
      "        Página 1 de 25\n",
      "       </span>\n",
      "      </div>\n",
      "     </div>\n",
      "    </div>\n",
      "   </div>\n",
      "  </div>\n",
      "  <footer>\n",
      "   <nav class=\"navbar navbar-inverse\">\n",
      "    <div class=\"container\" style=\"margin-bottom: 10px;\">\n",
      "     <div class=\"navbar\">\n",
      "      <a class=\"navbar-brand\" href=\"./index.php\" title=\"Alura Motors\">\n",
      "       <img alt=\"Alura\" class=\"d-inline-block align-top\" src=\"img/alura-logo.svg\"/>\n",
      "       Motors\n",
      "      </a>\n",
      "      <p style=\"color: #fff; text-align: center; margin-top: 40px;\">\n",
      "       Aplicação para treinamento de web scraping\n",
      "      </p>\n",
      "     </div>\n",
      "    </div>\n",
      "   </nav>\n",
      "  </footer>\n",
      " </body>\n",
      "</html>\n"
     ]
    }
   ],
   "source": [
    "print(soup.prettify())"
   ]
  },
  {
   "cell_type": "markdown",
   "metadata": {},
   "source": [
    "# 3.3. Acessando tags"
   ]
  },
  {
   "cell_type": "code",
   "execution_count": 27,
   "metadata": {
    "scrolled": true
   },
   "outputs": [],
   "source": [
    "# soup.html"
   ]
  },
  {
   "cell_type": "code",
   "execution_count": 28,
   "metadata": {
    "scrolled": true
   },
   "outputs": [
    {
     "data": {
      "text/plain": [
       "<title>Alura Motors</title>"
      ]
     },
     "execution_count": 28,
     "metadata": {},
     "output_type": "execute_result"
    }
   ],
   "source": [
    "soup.html.head.title"
   ]
  },
  {
   "cell_type": "markdown",
   "metadata": {},
   "source": [
    "Pega a primeira tag do title\n"
   ]
  },
  {
   "cell_type": "code",
   "execution_count": 29,
   "metadata": {},
   "outputs": [
    {
     "data": {
      "text/plain": [
       "<title>Alura Motors</title>"
      ]
     },
     "execution_count": 29,
     "metadata": {},
     "output_type": "execute_result"
    }
   ],
   "source": [
    "soup.title"
   ]
  },
  {
   "cell_type": "code",
   "execution_count": 30,
   "metadata": {},
   "outputs": [
    {
     "data": {
      "text/plain": [
       "<div aria-labelledby=\"loadingModal_label\" class=\"modal fade\" data-backdrop=\"static\" id=\"loadingModal\" role=\"dialog\" tabindex=\"-1\"><div class=\"modal-dialog\" role=\"document\"><div class=\"modal-content\"><div class=\"modal-header\"><h5 class=\"modal-title\" id=\"loadingModal_label\"><span class=\"glyphicon glyphicon-refresh\"></span>Aguarde... </h5></div><div class=\"modal-body\"><div class=\"alert\" role=\"alert\"><center><div class=\"loader\" id=\"loader\"></div><br/><h4><b id=\"loadingModal_content\"></b></h4></center></div></div></div></div></div>"
      ]
     },
     "execution_count": 30,
     "metadata": {},
     "output_type": "execute_result"
    }
   ],
   "source": [
    "soup.div"
   ]
  },
  {
   "cell_type": "code",
   "execution_count": 31,
   "metadata": {},
   "outputs": [
    {
     "data": {
      "text/plain": [
       "<h5 class=\"modal-title\" id=\"loadingModal_label\"><span class=\"glyphicon glyphicon-refresh\"></span>Aguarde... </h5>"
      ]
     },
     "execution_count": 31,
     "metadata": {},
     "output_type": "execute_result"
    }
   ],
   "source": [
    "soup.div.div.div.div.h5\n"
   ]
  },
  {
   "cell_type": "markdown",
   "metadata": {},
   "source": [
    "# 3.4. Acessando o conteúdo das tags"
   ]
  },
  {
   "cell_type": "code",
   "execution_count": 32,
   "metadata": {},
   "outputs": [
    {
     "data": {
      "text/plain": [
       "'Alura Motors'"
      ]
     },
     "execution_count": 32,
     "metadata": {},
     "output_type": "execute_result"
    }
   ],
   "source": [
    "soup.title.get_text()"
   ]
  },
  {
   "cell_type": "code",
   "execution_count": 33,
   "metadata": {},
   "outputs": [
    {
     "data": {
      "text/plain": [
       "'Aguarde... '"
      ]
     },
     "execution_count": 33,
     "metadata": {},
     "output_type": "execute_result"
    }
   ],
   "source": [
    "soup.h5.get_text()"
   ]
  },
  {
   "cell_type": "code",
   "execution_count": 34,
   "metadata": {},
   "outputs": [
    {
     "data": {
      "text/plain": [
       "'Alura Motors'"
      ]
     },
     "execution_count": 34,
     "metadata": {},
     "output_type": "execute_result"
    }
   ],
   "source": [
    "soup.head.getText()"
   ]
  },
  {
   "cell_type": "code",
   "execution_count": 35,
   "metadata": {},
   "outputs": [
    {
     "data": {
      "text/plain": [
       "''"
      ]
     },
     "execution_count": 35,
     "metadata": {},
     "output_type": "execute_result"
    }
   ],
   "source": [
    "soup.span.get_text()"
   ]
  },
  {
   "cell_type": "code",
   "execution_count": 36,
   "metadata": {},
   "outputs": [
    {
     "data": {
      "text/plain": [
       "'Alura Motors#You need to enable JavaScript to run this app.#Aguarde... #Motors #Hello World#Anúncios#Veículos de Luxo Novos e Usados - Todas as Marcas#246 veículos encontrados#Página 1 de 25#LAMBORGHINI AVENTADOR#USADO#Motor 1.8 16v#Ano 1993 - 55.286 km#► 4 X 4#► Câmera de estacionamento#► Controle de tração#► Sensor de estacionamento#...#Belo Horizonte - MG#R$ 338.000#BMW M2#USADO#Motor 3.0 32v#Ano 2018 - 83.447 km#► Câmera de estacionamento#► Controle de estabilidade#► Travas elétricas#► Freios ABS#...#Belo Horizonte - MG#R$ 346.000#ALFA#USADO#Motor 1.8 16v#Ano 2004 - 19.722 km#► Central multimídia#► Bancos de couro#► Rodas de liga#► Câmera de estacionamento#...#Rio de Janeiro - RJ#R$ 480.000#PUECH#USADO#Motor Diesel V8#Ano 1992 - 34.335 km#► Bancos de couro#► Freios ABS#► Rodas de liga#► Câmbio automático#...#São Paulo - SP#R$ 133.000#LAMBORGHINI MURCIELAGO#USADO#Motor 1.0 8v#Ano 1991 - 464 km#► Central multimídia#► Teto panorâmico#► Sensor crepuscular#► Piloto automático#...#Belo Horizonte - MG#R$ 175.000#ASTON MARTIN#USADO#OPORTUNIDADE#Motor Diesel V6#Ano 2004 - 50.189 km#► Painel digital#► Controle de tração#► Teto panorâmico#► Central multimídia#...#Belo Horizonte - MG#R$ 239.000#TVR#USADO#Motor 4.0 Turbo#Ano 2014 - 17.778 km#► 4 X 4#► Teto panorâmico#► Central multimídia#► Controle de estabilidade#...#Belo Horizonte - MG#R$ 115.000#EXCALIBUR#USADO#Motor 3.0 32v#Ano 2009 - 81.251 km#► Painel digital#► Câmbio automático#► Sensor de chuva#► Travas elétricas#...#Rio de Janeiro - RJ#R$ 114.000#MCLAREN#NOVO#Motor Diesel#Ano 2019 - 0 km#► Central multimídia#► Câmera de estacionamento#► Câmbio automático#► Ar condicionado#...#São Paulo - SP#R$ 75.000#TOYOTA#USADO#OPORTUNIDADE#Motor 4.0 Turbo#Ano 1999 - 12.536 km#► Bancos de couro#► Freios ABS#► Piloto automático#► Controle de estabilidade#...#São Paulo - SP#R$ 117.000#246 veículos encontrados#Página 1 de 25#Motors #Aplicação para treinamento de web scraping'"
      ]
     },
     "execution_count": 36,
     "metadata": {},
     "output_type": "execute_result"
    }
   ],
   "source": [
    "soup.get_text('#')"
   ]
  },
  {
   "cell_type": "code",
   "execution_count": 37,
   "metadata": {},
   "outputs": [
    {
     "data": {
      "text/plain": [
       "['Alura Motors # You need to enable JavaScript to run this app. # Aguarde... # Motors # Hello World # Anúncios # Veículos de Luxo Novos e Usados - Todas as Marcas # 246 veículos encontrados # Página 1 de 25 # LAMBORGHINI AVENTADOR # USADO # Motor 1.8 16v # Ano 1993 - 55.286 km # ► 4 X 4 # ► Câmera de estacionamento # ► Controle de tração # ► Sensor de estacionamento # ... # Belo Horizonte - MG # R$ 338.000 # BMW M2 # USADO # Motor 3.0 32v # Ano 2018 - 83.447 km # ► Câmera de estacionamento # ► Controle de estabilidade # ► Travas elétricas # ► Freios ABS # ... # Belo Horizonte - MG # R$ 346.000 # ALFA # USADO # Motor 1.8 16v # Ano 2004 - 19.722 km # ► Central multimídia # ► Bancos de couro # ► Rodas de liga # ► Câmera de estacionamento # ... # Rio de Janeiro - RJ # R$ 480.000 # PUECH # USADO # Motor Diesel V8 # Ano 1992 - 34.335 km # ► Bancos de couro # ► Freios ABS # ► Rodas de liga # ► Câmbio automático # ... # São Paulo - SP # R$ 133.000 # LAMBORGHINI MURCIELAGO # USADO # Motor 1.0 8v # Ano 1991 - 464 km # ► Central multimídia # ► Teto panorâmico # ► Sensor crepuscular # ► Piloto automático # ... # Belo Horizonte - MG # R$ 175.000 # ASTON MARTIN # USADO # OPORTUNIDADE # Motor Diesel V6 # Ano 2004 - 50.189 km # ► Painel digital # ► Controle de tração # ► Teto panorâmico # ► Central multimídia # ... # Belo Horizonte - MG # R$ 239.000 # TVR # USADO # Motor 4.0 Turbo # Ano 2014 - 17.778 km # ► 4 X 4 # ► Teto panorâmico # ► Central multimídia # ► Controle de estabilidade # ... # Belo Horizonte - MG # R$ 115.000 # EXCALIBUR # USADO # Motor 3.0 32v # Ano 2009 - 81.251 km # ► Painel digital # ► Câmbio automático # ► Sensor de chuva # ► Travas elétricas # ... # Rio de Janeiro - RJ # R$ 114.000 # MCLAREN # NOVO # Motor Diesel # Ano 2019 - 0 km # ► Central multimídia # ► Câmera de estacionamento # ► Câmbio automático # ► Ar condicionado # ... # São Paulo - SP # R$ 75.000 # TOYOTA # USADO # OPORTUNIDADE # Motor 4.0 Turbo # Ano 1999 - 12.536 km # ► Bancos de couro # ► Freios ABS # ► Piloto automático # ► Controle de estabilidade # ... # São Paulo - SP # R$ 117.000 # 246 veículos encontrados # Página 1 de 25 # Motors # Aplicação para treinamento de web scraping']"
      ]
     },
     "execution_count": 37,
     "metadata": {},
     "output_type": "execute_result"
    }
   ],
   "source": [
    "soup.get_text(separator = ' # ', strip = True).split(\" -- \")"
   ]
  },
  {
   "cell_type": "markdown",
   "metadata": {},
   "source": [
    "# 3.5. Acessando os atributos de uma tag"
   ]
  },
  {
   "cell_type": "code",
   "execution_count": 38,
   "metadata": {},
   "outputs": [
    {
     "data": {
      "text/plain": [
       "<img alt=\"Alura\" class=\"d-inline-block align-top\" src=\"img/alura-logo.svg\"/>"
      ]
     },
     "execution_count": 38,
     "metadata": {},
     "output_type": "execute_result"
    }
   ],
   "source": [
    "soup.img"
   ]
  },
  {
   "cell_type": "code",
   "execution_count": 39,
   "metadata": {},
   "outputs": [
    {
     "data": {
      "text/plain": [
       "{'src': 'img/alura-logo.svg',\n",
       " 'class': ['d-inline-block', 'align-top'],\n",
       " 'alt': 'Alura'}"
      ]
     },
     "execution_count": 39,
     "metadata": {},
     "output_type": "execute_result"
    }
   ],
   "source": [
    "soup.img.attrs"
   ]
  },
  {
   "cell_type": "code",
   "execution_count": 40,
   "metadata": {},
   "outputs": [
    {
     "data": {
      "text/plain": [
       "dict_keys(['src', 'class', 'alt'])"
      ]
     },
     "execution_count": 40,
     "metadata": {},
     "output_type": "execute_result"
    }
   ],
   "source": [
    "soup.img.attrs.keys()"
   ]
  },
  {
   "cell_type": "code",
   "execution_count": 41,
   "metadata": {},
   "outputs": [
    {
     "data": {
      "text/plain": [
       "dict_values(['img/alura-logo.svg', ['d-inline-block', 'align-top'], 'Alura'])"
      ]
     },
     "execution_count": 41,
     "metadata": {},
     "output_type": "execute_result"
    }
   ],
   "source": [
    "soup.img.attrs.values()"
   ]
  },
  {
   "cell_type": "code",
   "execution_count": 42,
   "metadata": {},
   "outputs": [
    {
     "data": {
      "text/plain": [
       "['d-inline-block', 'align-top']"
      ]
     },
     "execution_count": 42,
     "metadata": {},
     "output_type": "execute_result"
    }
   ],
   "source": [
    "soup.img['class']"
   ]
  },
  {
   "cell_type": "code",
   "execution_count": 43,
   "metadata": {},
   "outputs": [
    {
     "data": {
      "text/plain": [
       "'img/alura-logo.svg'"
      ]
     },
     "execution_count": 43,
     "metadata": {},
     "output_type": "execute_result"
    }
   ],
   "source": [
    "soup.img.get('src')"
   ]
  },
  {
   "cell_type": "markdown",
   "metadata": {},
   "source": [
    "---\n",
    "# <font color=green>4. PESQUISANDO COM O BEAUTIFULSOUP"
   ]
  },
  {
   "cell_type": "markdown",
   "metadata": {},
   "source": [
    "# 4.1. Os métodos *find()* e *findAll()*"
   ]
  },
  {
   "cell_type": "markdown",
   "metadata": {},
   "source": [
    "- ### *find(tag, attributes, recursive, text, **kwargs)*\n",
    "\n",
    "- ### *findAll(tag, attributes, recursive, text, limit, **kwargs)*\n",
    "\n",
    "#### https://www.crummy.com/software/BeautifulSoup/bs4/doc/#find\n",
    "#### https://www.crummy.com/software/BeautifulSoup/bs4/doc/#find-all\n",
    "\n",
    "> **Observação:**\n",
    "> - *findAll()* também pode ser utilizado como *find_all()*"
   ]
  },
  {
   "cell_type": "markdown",
   "metadata": {},
   "source": [
    "### Método *find()*"
   ]
  },
  {
   "cell_type": "code",
   "execution_count": 44,
   "metadata": {},
   "outputs": [
    {
     "data": {
      "text/plain": [
       "<img alt=\"Alura\" class=\"d-inline-block align-top\" src=\"img/alura-logo.svg\"/>"
      ]
     },
     "execution_count": 44,
     "metadata": {},
     "output_type": "execute_result"
    }
   ],
   "source": [
    "soup.find('img')"
   ]
  },
  {
   "cell_type": "code",
   "execution_count": 45,
   "metadata": {},
   "outputs": [
    {
     "data": {
      "text/plain": [
       "<img alt=\"Alura\" class=\"d-inline-block align-top\" src=\"img/alura-logo.svg\"/>"
      ]
     },
     "execution_count": 45,
     "metadata": {},
     "output_type": "execute_result"
    }
   ],
   "source": [
    "soup.img"
   ]
  },
  {
   "cell_type": "markdown",
   "metadata": {},
   "source": [
    "### Método *findAll()*"
   ]
  },
  {
   "cell_type": "code",
   "execution_count": 46,
   "metadata": {},
   "outputs": [
    {
     "data": {
      "text/plain": [
       "[<img alt=\"Alura\" class=\"d-inline-block align-top\" src=\"img/alura-logo.svg\"/>,\n",
       " <img alt=\"Foto\" height=\"155\" src=\"https://caelum-online-public.s3.amazonaws.com/1381-scraping/01/img-cars/lamborghini-aventador/lamborghini-aventador-2932196__340.jpg\" width=\"220\"/>,\n",
       " <img alt=\"Foto\" height=\"155\" src=\"https://caelum-online-public.s3.amazonaws.com/1381-scraping/01/img-cars/bmw-m2/bmw-m2-2970882__340.jpg\" width=\"220\"/>,\n",
       " <img alt=\"Foto\" height=\"155\" src=\"https://caelum-online-public.s3.amazonaws.com/1381-scraping/01/img-cars/alfa/alfa-1823056__340.jpg\" width=\"220\"/>,\n",
       " <img alt=\"Foto\" height=\"155\" src=\"https://caelum-online-public.s3.amazonaws.com/1381-scraping/01/img-cars/puech/puech-4055386__340.jpg\" width=\"220\"/>,\n",
       " <img alt=\"Foto\" height=\"155\" src=\"https://caelum-online-public.s3.amazonaws.com/1381-scraping/01/img-cars/lamborghini-murcielago/lamborghini-murcielago-2872974__340.jpg\" width=\"220\"/>,\n",
       " <img alt=\"Foto\" height=\"155\" src=\"https://caelum-online-public.s3.amazonaws.com/1381-scraping/01/img-cars/aston-martin/aston-martin-2977916__340.jpg\" width=\"220\"/>,\n",
       " <img alt=\"Foto\" height=\"155\" src=\"https://caelum-online-public.s3.amazonaws.com/1381-scraping/01/img-cars/tvr/tvr-2943925__340.jpg\" width=\"220\"/>,\n",
       " <img alt=\"Foto\" height=\"155\" src=\"https://caelum-online-public.s3.amazonaws.com/1381-scraping/01/img-cars/excalibur/excalibur-2916730__340.jpg\" width=\"220\"/>,\n",
       " <img alt=\"Foto\" height=\"155\" src=\"https://caelum-online-public.s3.amazonaws.com/1381-scraping/01/img-cars/mclaren/mclaren-2855240__340.jpg\" width=\"220\"/>,\n",
       " <img alt=\"Foto\" height=\"155\" src=\"https://caelum-online-public.s3.amazonaws.com/1381-scraping/01/img-cars/toyota/toyota-3245397__340.jpg\" width=\"220\"/>,\n",
       " <img alt=\"Alura\" class=\"d-inline-block align-top\" src=\"img/alura-logo.svg\"/>]"
      ]
     },
     "execution_count": 46,
     "metadata": {},
     "output_type": "execute_result"
    }
   ],
   "source": [
    "soup.findAll('img')"
   ]
  },
  {
   "cell_type": "markdown",
   "metadata": {},
   "source": [
    "### Comando equivalente ao método *find()*"
   ]
  },
  {
   "cell_type": "code",
   "execution_count": 47,
   "metadata": {},
   "outputs": [
    {
     "data": {
      "text/plain": [
       "<img alt=\"Alura\" class=\"d-inline-block align-top\" src=\"img/alura-logo.svg\"/>"
      ]
     },
     "execution_count": 47,
     "metadata": {},
     "output_type": "execute_result"
    }
   ],
   "source": [
    "soup.findAll('img', limit = 1)[0]"
   ]
  },
  {
   "cell_type": "markdown",
   "metadata": {},
   "source": [
    "### Atalho para o método *findAll()*"
   ]
  },
  {
   "cell_type": "code",
   "execution_count": 48,
   "metadata": {},
   "outputs": [
    {
     "data": {
      "text/plain": [
       "[<img alt=\"Alura\" class=\"d-inline-block align-top\" src=\"img/alura-logo.svg\"/>,\n",
       " <img alt=\"Foto\" height=\"155\" src=\"https://caelum-online-public.s3.amazonaws.com/1381-scraping/01/img-cars/lamborghini-aventador/lamborghini-aventador-2932196__340.jpg\" width=\"220\"/>,\n",
       " <img alt=\"Foto\" height=\"155\" src=\"https://caelum-online-public.s3.amazonaws.com/1381-scraping/01/img-cars/bmw-m2/bmw-m2-2970882__340.jpg\" width=\"220\"/>,\n",
       " <img alt=\"Foto\" height=\"155\" src=\"https://caelum-online-public.s3.amazonaws.com/1381-scraping/01/img-cars/alfa/alfa-1823056__340.jpg\" width=\"220\"/>,\n",
       " <img alt=\"Foto\" height=\"155\" src=\"https://caelum-online-public.s3.amazonaws.com/1381-scraping/01/img-cars/puech/puech-4055386__340.jpg\" width=\"220\"/>,\n",
       " <img alt=\"Foto\" height=\"155\" src=\"https://caelum-online-public.s3.amazonaws.com/1381-scraping/01/img-cars/lamborghini-murcielago/lamborghini-murcielago-2872974__340.jpg\" width=\"220\"/>,\n",
       " <img alt=\"Foto\" height=\"155\" src=\"https://caelum-online-public.s3.amazonaws.com/1381-scraping/01/img-cars/aston-martin/aston-martin-2977916__340.jpg\" width=\"220\"/>,\n",
       " <img alt=\"Foto\" height=\"155\" src=\"https://caelum-online-public.s3.amazonaws.com/1381-scraping/01/img-cars/tvr/tvr-2943925__340.jpg\" width=\"220\"/>,\n",
       " <img alt=\"Foto\" height=\"155\" src=\"https://caelum-online-public.s3.amazonaws.com/1381-scraping/01/img-cars/excalibur/excalibur-2916730__340.jpg\" width=\"220\"/>,\n",
       " <img alt=\"Foto\" height=\"155\" src=\"https://caelum-online-public.s3.amazonaws.com/1381-scraping/01/img-cars/mclaren/mclaren-2855240__340.jpg\" width=\"220\"/>,\n",
       " <img alt=\"Foto\" height=\"155\" src=\"https://caelum-online-public.s3.amazonaws.com/1381-scraping/01/img-cars/toyota/toyota-3245397__340.jpg\" width=\"220\"/>,\n",
       " <img alt=\"Alura\" class=\"d-inline-block align-top\" src=\"img/alura-logo.svg\"/>]"
      ]
     },
     "execution_count": 48,
     "metadata": {},
     "output_type": "execute_result"
    }
   ],
   "source": [
    "soup('img')"
   ]
  },
  {
   "cell_type": "markdown",
   "metadata": {},
   "source": [
    "### Passando listas de TAGs"
   ]
  },
  {
   "cell_type": "code",
   "execution_count": 49,
   "metadata": {},
   "outputs": [
    {
     "data": {
      "text/plain": [
       "[<h5 class=\"modal-title\" id=\"loadingModal_label\"><span class=\"glyphicon glyphicon-refresh\"></span>Aguarde... </h5>,\n",
       " <h4><b id=\"loadingModal_content\"></b></h4>]"
      ]
     },
     "execution_count": 49,
     "metadata": {},
     "output_type": "execute_result"
    }
   ],
   "source": [
    "soup.findAll(['41','h2','h3','h4','h5','h6'])"
   ]
  },
  {
   "cell_type": "markdown",
   "metadata": {},
   "source": [
    "### Utilizando o argumento *attributes*"
   ]
  },
  {
   "cell_type": "code",
   "execution_count": 50,
   "metadata": {
    "scrolled": true
   },
   "outputs": [
    {
     "data": {
      "text/plain": [
       "[<p class=\"txt-name inline\">LAMBORGHINI AVENTADOR</p>,\n",
       " <p class=\"txt-category badge badge-secondary inline\">USADO</p>,\n",
       " <p class=\"txt-motor\">Motor 1.8 16v</p>,\n",
       " <p class=\"txt-description\">Ano 1993 - 55.286 km</p>,\n",
       " <p class=\"txt-location\">Belo Horizonte - MG</p>,\n",
       " <p class=\"txt-value\">R$ 338.000</p>,\n",
       " <p class=\"txt-name inline\">BMW M2</p>,\n",
       " <p class=\"txt-category badge badge-secondary inline\">USADO</p>,\n",
       " <p class=\"txt-motor\">Motor 3.0 32v</p>,\n",
       " <p class=\"txt-description\">Ano 2018 - 83.447 km</p>,\n",
       " <p class=\"txt-location\">Belo Horizonte - MG</p>,\n",
       " <p class=\"txt-value\">R$ 346.000</p>,\n",
       " <p class=\"txt-name inline\">ALFA</p>,\n",
       " <p class=\"txt-category badge badge-secondary inline\">USADO</p>,\n",
       " <p class=\"txt-motor\">Motor 1.8 16v</p>,\n",
       " <p class=\"txt-description\">Ano 2004 - 19.722 km</p>,\n",
       " <p class=\"txt-location\">Rio de Janeiro - RJ</p>,\n",
       " <p class=\"txt-value\">R$ 480.000</p>,\n",
       " <p class=\"txt-name inline\">PUECH</p>,\n",
       " <p class=\"txt-category badge badge-secondary inline\">USADO</p>,\n",
       " <p class=\"txt-motor\">Motor Diesel V8</p>,\n",
       " <p class=\"txt-description\">Ano 1992 - 34.335 km</p>,\n",
       " <p class=\"txt-location\">São Paulo - SP</p>,\n",
       " <p class=\"txt-value\">R$ 133.000</p>,\n",
       " <p class=\"txt-name inline\">LAMBORGHINI MURCIELAGO</p>,\n",
       " <p class=\"txt-category badge badge-secondary inline\">USADO</p>,\n",
       " <p class=\"txt-motor\">Motor 1.0 8v</p>,\n",
       " <p class=\"txt-description\">Ano 1991 - 464 km</p>,\n",
       " <p class=\"txt-location\">Belo Horizonte - MG</p>,\n",
       " <p class=\"txt-value\">R$ 175.000</p>,\n",
       " <p class=\"txt-name inline\">ASTON MARTIN</p>,\n",
       " <p class=\"txt-category badge badge-secondary inline\">USADO</p>,\n",
       " <p class=\"txt-opportunity badge badge-danger inline\">OPORTUNIDADE</p>,\n",
       " <p class=\"txt-motor\">Motor Diesel V6</p>,\n",
       " <p class=\"txt-description\">Ano 2004 - 50.189 km</p>,\n",
       " <p class=\"txt-location\">Belo Horizonte - MG</p>,\n",
       " <p class=\"txt-value\">R$ 239.000</p>,\n",
       " <p class=\"txt-name inline\">TVR</p>,\n",
       " <p class=\"txt-category badge badge-secondary inline\">USADO</p>,\n",
       " <p class=\"txt-motor\">Motor 4.0 Turbo</p>,\n",
       " <p class=\"txt-description\">Ano 2014 - 17.778 km</p>,\n",
       " <p class=\"txt-location\">Belo Horizonte - MG</p>,\n",
       " <p class=\"txt-value\">R$ 115.000</p>,\n",
       " <p class=\"txt-name inline\">EXCALIBUR</p>,\n",
       " <p class=\"txt-category badge badge-secondary inline\">USADO</p>,\n",
       " <p class=\"txt-motor\">Motor 3.0 32v</p>,\n",
       " <p class=\"txt-description\">Ano 2009 - 81.251 km</p>,\n",
       " <p class=\"txt-location\">Rio de Janeiro - RJ</p>,\n",
       " <p class=\"txt-value\">R$ 114.000</p>,\n",
       " <p class=\"txt-name inline\">MCLAREN</p>,\n",
       " <p class=\"txt-category badge badge-secondary inline\">NOVO</p>,\n",
       " <p class=\"txt-motor\">Motor Diesel</p>,\n",
       " <p class=\"txt-description\">Ano 2019 - 0 km</p>,\n",
       " <p class=\"txt-location\">São Paulo - SP</p>,\n",
       " <p class=\"txt-value\">R$ 75.000</p>,\n",
       " <p class=\"txt-name inline\">TOYOTA</p>,\n",
       " <p class=\"txt-category badge badge-secondary inline\">USADO</p>,\n",
       " <p class=\"txt-opportunity badge badge-danger inline\">OPORTUNIDADE</p>,\n",
       " <p class=\"txt-motor\">Motor 4.0 Turbo</p>,\n",
       " <p class=\"txt-description\">Ano 1999 - 12.536 km</p>,\n",
       " <p class=\"txt-location\">São Paulo - SP</p>,\n",
       " <p class=\"txt-value\">R$ 117.000</p>,\n",
       " <p style=\"color: #fff; text-align: center; margin-top: 40px;\">Aplicação para treinamento de web scraping</p>]"
      ]
     },
     "execution_count": 50,
     "metadata": {},
     "output_type": "execute_result"
    }
   ],
   "source": [
    "soup.findAll('p')"
   ]
  },
  {
   "cell_type": "code",
   "execution_count": 51,
   "metadata": {},
   "outputs": [
    {
     "data": {
      "text/plain": [
       "[<p class=\"txt-value\">R$ 338.000</p>,\n",
       " <p class=\"txt-value\">R$ 346.000</p>,\n",
       " <p class=\"txt-value\">R$ 480.000</p>,\n",
       " <p class=\"txt-value\">R$ 133.000</p>,\n",
       " <p class=\"txt-value\">R$ 175.000</p>,\n",
       " <p class=\"txt-value\">R$ 239.000</p>,\n",
       " <p class=\"txt-value\">R$ 115.000</p>,\n",
       " <p class=\"txt-value\">R$ 114.000</p>,\n",
       " <p class=\"txt-value\">R$ 75.000</p>,\n",
       " <p class=\"txt-value\">R$ 117.000</p>]"
      ]
     },
     "execution_count": 51,
     "metadata": {},
     "output_type": "execute_result"
    }
   ],
   "source": [
    "soup.findAll('p', {'class' : 'txt-value'})"
   ]
  },
  {
   "cell_type": "markdown",
   "metadata": {},
   "source": [
    "### Buscando por conteúdo de uma TAG"
   ]
  },
  {
   "cell_type": "code",
   "execution_count": 52,
   "metadata": {},
   "outputs": [
    {
     "data": {
      "text/plain": [
       "[<p class=\"txt-location\">Belo Horizonte - MG</p>,\n",
       " <p class=\"txt-location\">Belo Horizonte - MG</p>,\n",
       " <p class=\"txt-location\">Belo Horizonte - MG</p>,\n",
       " <p class=\"txt-location\">Belo Horizonte - MG</p>,\n",
       " <p class=\"txt-location\">Belo Horizonte - MG</p>]"
      ]
     },
     "execution_count": 52,
     "metadata": {},
     "output_type": "execute_result"
    }
   ],
   "source": [
    "soup.findAll('p', text = \"Belo Horizonte - MG\")"
   ]
  },
  {
   "cell_type": "markdown",
   "metadata": {},
   "source": [
    "### Utilizando diretamente os atributos"
   ]
  },
  {
   "cell_type": "code",
   "execution_count": 53,
   "metadata": {},
   "outputs": [
    {
     "data": {
      "text/plain": [
       "[<img alt=\"Foto\" height=\"155\" src=\"https://caelum-online-public.s3.amazonaws.com/1381-scraping/01/img-cars/lamborghini-aventador/lamborghini-aventador-2932196__340.jpg\" width=\"220\"/>,\n",
       " <img alt=\"Foto\" height=\"155\" src=\"https://caelum-online-public.s3.amazonaws.com/1381-scraping/01/img-cars/bmw-m2/bmw-m2-2970882__340.jpg\" width=\"220\"/>,\n",
       " <img alt=\"Foto\" height=\"155\" src=\"https://caelum-online-public.s3.amazonaws.com/1381-scraping/01/img-cars/alfa/alfa-1823056__340.jpg\" width=\"220\"/>,\n",
       " <img alt=\"Foto\" height=\"155\" src=\"https://caelum-online-public.s3.amazonaws.com/1381-scraping/01/img-cars/puech/puech-4055386__340.jpg\" width=\"220\"/>,\n",
       " <img alt=\"Foto\" height=\"155\" src=\"https://caelum-online-public.s3.amazonaws.com/1381-scraping/01/img-cars/lamborghini-murcielago/lamborghini-murcielago-2872974__340.jpg\" width=\"220\"/>,\n",
       " <img alt=\"Foto\" height=\"155\" src=\"https://caelum-online-public.s3.amazonaws.com/1381-scraping/01/img-cars/aston-martin/aston-martin-2977916__340.jpg\" width=\"220\"/>,\n",
       " <img alt=\"Foto\" height=\"155\" src=\"https://caelum-online-public.s3.amazonaws.com/1381-scraping/01/img-cars/tvr/tvr-2943925__340.jpg\" width=\"220\"/>,\n",
       " <img alt=\"Foto\" height=\"155\" src=\"https://caelum-online-public.s3.amazonaws.com/1381-scraping/01/img-cars/excalibur/excalibur-2916730__340.jpg\" width=\"220\"/>,\n",
       " <img alt=\"Foto\" height=\"155\" src=\"https://caelum-online-public.s3.amazonaws.com/1381-scraping/01/img-cars/mclaren/mclaren-2855240__340.jpg\" width=\"220\"/>,\n",
       " <img alt=\"Foto\" height=\"155\" src=\"https://caelum-online-public.s3.amazonaws.com/1381-scraping/01/img-cars/toyota/toyota-3245397__340.jpg\" width=\"220\"/>]"
      ]
     },
     "execution_count": 53,
     "metadata": {},
     "output_type": "execute_result"
    }
   ],
   "source": [
    "soup.findAll('img', alt = 'Foto')"
   ]
  },
  {
   "cell_type": "code",
   "execution_count": 54,
   "metadata": {},
   "outputs": [
    {
     "name": "stdout",
     "output_type": "stream",
     "text": [
      "<img alt=\"Foto\" height=\"155\" src=\"https://caelum-online-public.s3.amazonaws.com/1381-scraping/01/img-cars/lamborghini-aventador/lamborghini-aventador-2932196__340.jpg\" width=\"220\"/>\n",
      "<img alt=\"Foto\" height=\"155\" src=\"https://caelum-online-public.s3.amazonaws.com/1381-scraping/01/img-cars/bmw-m2/bmw-m2-2970882__340.jpg\" width=\"220\"/>\n",
      "<img alt=\"Foto\" height=\"155\" src=\"https://caelum-online-public.s3.amazonaws.com/1381-scraping/01/img-cars/alfa/alfa-1823056__340.jpg\" width=\"220\"/>\n",
      "<img alt=\"Foto\" height=\"155\" src=\"https://caelum-online-public.s3.amazonaws.com/1381-scraping/01/img-cars/puech/puech-4055386__340.jpg\" width=\"220\"/>\n",
      "<img alt=\"Foto\" height=\"155\" src=\"https://caelum-online-public.s3.amazonaws.com/1381-scraping/01/img-cars/lamborghini-murcielago/lamborghini-murcielago-2872974__340.jpg\" width=\"220\"/>\n",
      "<img alt=\"Foto\" height=\"155\" src=\"https://caelum-online-public.s3.amazonaws.com/1381-scraping/01/img-cars/aston-martin/aston-martin-2977916__340.jpg\" width=\"220\"/>\n",
      "<img alt=\"Foto\" height=\"155\" src=\"https://caelum-online-public.s3.amazonaws.com/1381-scraping/01/img-cars/tvr/tvr-2943925__340.jpg\" width=\"220\"/>\n",
      "<img alt=\"Foto\" height=\"155\" src=\"https://caelum-online-public.s3.amazonaws.com/1381-scraping/01/img-cars/excalibur/excalibur-2916730__340.jpg\" width=\"220\"/>\n",
      "<img alt=\"Foto\" height=\"155\" src=\"https://caelum-online-public.s3.amazonaws.com/1381-scraping/01/img-cars/mclaren/mclaren-2855240__340.jpg\" width=\"220\"/>\n",
      "<img alt=\"Foto\" height=\"155\" src=\"https://caelum-online-public.s3.amazonaws.com/1381-scraping/01/img-cars/toyota/toyota-3245397__340.jpg\" width=\"220\"/>\n"
     ]
    }
   ],
   "source": [
    "for item in soup.findAll('img', alt = 'Foto'):\n",
    "    print(item)"
   ]
  },
  {
   "cell_type": "code",
   "execution_count": 55,
   "metadata": {},
   "outputs": [
    {
     "name": "stdout",
     "output_type": "stream",
     "text": [
      "https://caelum-online-public.s3.amazonaws.com/1381-scraping/01/img-cars/lamborghini-aventador/lamborghini-aventador-2932196__340.jpg\n",
      "https://caelum-online-public.s3.amazonaws.com/1381-scraping/01/img-cars/bmw-m2/bmw-m2-2970882__340.jpg\n",
      "https://caelum-online-public.s3.amazonaws.com/1381-scraping/01/img-cars/alfa/alfa-1823056__340.jpg\n",
      "https://caelum-online-public.s3.amazonaws.com/1381-scraping/01/img-cars/puech/puech-4055386__340.jpg\n",
      "https://caelum-online-public.s3.amazonaws.com/1381-scraping/01/img-cars/lamborghini-murcielago/lamborghini-murcielago-2872974__340.jpg\n",
      "https://caelum-online-public.s3.amazonaws.com/1381-scraping/01/img-cars/aston-martin/aston-martin-2977916__340.jpg\n",
      "https://caelum-online-public.s3.amazonaws.com/1381-scraping/01/img-cars/tvr/tvr-2943925__340.jpg\n",
      "https://caelum-online-public.s3.amazonaws.com/1381-scraping/01/img-cars/excalibur/excalibur-2916730__340.jpg\n",
      "https://caelum-online-public.s3.amazonaws.com/1381-scraping/01/img-cars/mclaren/mclaren-2855240__340.jpg\n",
      "https://caelum-online-public.s3.amazonaws.com/1381-scraping/01/img-cars/toyota/toyota-3245397__340.jpg\n"
     ]
    }
   ],
   "source": [
    "for item in soup.findAll('img', alt = 'Foto'):\n",
    "    print(item.get(\"src\"))"
   ]
  },
  {
   "cell_type": "markdown",
   "metadata": {},
   "source": [
    "### Cuidado com o atributo \"class\""
   ]
  },
  {
   "cell_type": "markdown",
   "metadata": {},
   "source": [
    "Esse método class ocorre erro pois no Python tem essa função. Para resolver **clas_**"
   ]
  },
  {
   "cell_type": "code",
   "execution_count": 56,
   "metadata": {},
   "outputs": [],
   "source": [
    "# soup.findAll('p', class = 'txt-value')"
   ]
  },
  {
   "cell_type": "code",
   "execution_count": 57,
   "metadata": {},
   "outputs": [
    {
     "data": {
      "text/plain": [
       "[<p class=\"txt-value\">R$ 338.000</p>,\n",
       " <p class=\"txt-value\">R$ 346.000</p>,\n",
       " <p class=\"txt-value\">R$ 480.000</p>,\n",
       " <p class=\"txt-value\">R$ 133.000</p>,\n",
       " <p class=\"txt-value\">R$ 175.000</p>,\n",
       " <p class=\"txt-value\">R$ 239.000</p>,\n",
       " <p class=\"txt-value\">R$ 115.000</p>,\n",
       " <p class=\"txt-value\">R$ 114.000</p>,\n",
       " <p class=\"txt-value\">R$ 75.000</p>,\n",
       " <p class=\"txt-value\">R$ 117.000</p>]"
      ]
     },
     "execution_count": 57,
     "metadata": {},
     "output_type": "execute_result"
    }
   ],
   "source": [
    "soup.findAll('p', class_ =\"txt-value\")"
   ]
  },
  {
   "cell_type": "markdown",
   "metadata": {},
   "source": [
    "### Obtendo todo o conteúdo de texto de uma página"
   ]
  },
  {
   "cell_type": "code",
   "execution_count": 58,
   "metadata": {},
   "outputs": [
    {
     "data": {
      "text/plain": [
       "['html',\n",
       " 'Alura Motors',\n",
       " \" /*Regra para a animacao*/ @keyframes spin { 0% { transform: rotate(0deg); } 100% { transform: rotate(360deg); } } /*Mudando o tamanho do icone de resposta*/ div.glyphicon { color:#6B8E23; font-size: 38px; } /*Classe que mostra a animacao 'spin'*/ .loader { border: 16px solid #f3f3f3; border-radius: 50%; border-top: 16px solid #3498db; width: 80px; height: 80px; -webkit-animation: spin 2s linear infinite; animation: spin 2s linear infinite; } \",\n",
       " ' requisitar(\"https://alura-scraping.herokuapp.com/produtos?_page=\"+1+\"&_limit=10\") ',\n",
       " 'You need to enable JavaScript to run this app.',\n",
       " 'Aguarde... ',\n",
       " 'Motors ',\n",
       " 'Hello World',\n",
       " 'Anúncios',\n",
       " 'Veículos de Luxo Novos e Usados - Todas as Marcas',\n",
       " '246 veículos encontrados',\n",
       " 'Página 1 de 25',\n",
       " 'LAMBORGHINI AVENTADOR',\n",
       " 'USADO',\n",
       " 'Motor 1.8 16v',\n",
       " 'Ano 1993 - 55.286 km',\n",
       " '► 4 X 4',\n",
       " '► Câmera de estacionamento',\n",
       " '► Controle de tração',\n",
       " '► Sensor de estacionamento',\n",
       " '...',\n",
       " 'Belo Horizonte - MG',\n",
       " 'R$ 338.000',\n",
       " 'BMW M2',\n",
       " 'USADO',\n",
       " 'Motor 3.0 32v',\n",
       " 'Ano 2018 - 83.447 km',\n",
       " '► Câmera de estacionamento',\n",
       " '► Controle de estabilidade',\n",
       " '► Travas elétricas',\n",
       " '► Freios ABS',\n",
       " '...',\n",
       " 'Belo Horizonte - MG',\n",
       " 'R$ 346.000',\n",
       " 'ALFA',\n",
       " 'USADO',\n",
       " 'Motor 1.8 16v',\n",
       " 'Ano 2004 - 19.722 km',\n",
       " '► Central multimídia',\n",
       " '► Bancos de couro',\n",
       " '► Rodas de liga',\n",
       " '► Câmera de estacionamento',\n",
       " '...',\n",
       " 'Rio de Janeiro - RJ',\n",
       " 'R$ 480.000',\n",
       " 'PUECH',\n",
       " 'USADO',\n",
       " 'Motor Diesel V8',\n",
       " 'Ano 1992 - 34.335 km',\n",
       " '► Bancos de couro',\n",
       " '► Freios ABS',\n",
       " '► Rodas de liga',\n",
       " '► Câmbio automático',\n",
       " '...',\n",
       " 'São Paulo - SP',\n",
       " 'R$ 133.000',\n",
       " 'LAMBORGHINI MURCIELAGO',\n",
       " 'USADO',\n",
       " 'Motor 1.0 8v',\n",
       " 'Ano 1991 - 464 km',\n",
       " '► Central multimídia',\n",
       " '► Teto panorâmico',\n",
       " '► Sensor crepuscular',\n",
       " '► Piloto automático',\n",
       " '...',\n",
       " 'Belo Horizonte - MG',\n",
       " 'R$ 175.000',\n",
       " 'ASTON MARTIN',\n",
       " 'USADO',\n",
       " 'OPORTUNIDADE',\n",
       " 'Motor Diesel V6',\n",
       " 'Ano 2004 - 50.189 km',\n",
       " '► Painel digital',\n",
       " '► Controle de tração',\n",
       " '► Teto panorâmico',\n",
       " '► Central multimídia',\n",
       " '...',\n",
       " 'Belo Horizonte - MG',\n",
       " 'R$ 239.000',\n",
       " 'TVR',\n",
       " 'USADO',\n",
       " 'Motor 4.0 Turbo',\n",
       " 'Ano 2014 - 17.778 km',\n",
       " '► 4 X 4',\n",
       " '► Teto panorâmico',\n",
       " '► Central multimídia',\n",
       " '► Controle de estabilidade',\n",
       " '...',\n",
       " 'Belo Horizonte - MG',\n",
       " 'R$ 115.000',\n",
       " 'EXCALIBUR',\n",
       " 'USADO',\n",
       " 'Motor 3.0 32v',\n",
       " 'Ano 2009 - 81.251 km',\n",
       " '► Painel digital',\n",
       " '► Câmbio automático',\n",
       " '► Sensor de chuva',\n",
       " '► Travas elétricas',\n",
       " '...',\n",
       " 'Rio de Janeiro - RJ',\n",
       " 'R$ 114.000',\n",
       " 'MCLAREN',\n",
       " 'NOVO',\n",
       " 'Motor Diesel',\n",
       " 'Ano 2019 - 0 km',\n",
       " '► Central multimídia',\n",
       " '► Câmera de estacionamento',\n",
       " '► Câmbio automático',\n",
       " '► Ar condicionado',\n",
       " '...',\n",
       " 'São Paulo - SP',\n",
       " 'R$ 75.000',\n",
       " 'TOYOTA',\n",
       " 'USADO',\n",
       " 'OPORTUNIDADE',\n",
       " 'Motor 4.0 Turbo',\n",
       " 'Ano 1999 - 12.536 km',\n",
       " '► Bancos de couro',\n",
       " '► Freios ABS',\n",
       " '► Piloto automático',\n",
       " '► Controle de estabilidade',\n",
       " '...',\n",
       " 'São Paulo - SP',\n",
       " 'R$ 117.000',\n",
       " '246 veículos encontrados',\n",
       " 'Página 1 de 25',\n",
       " 'Motors ',\n",
       " 'Aplicação para treinamento de web scraping']"
      ]
     },
     "execution_count": 58,
     "metadata": {},
     "output_type": "execute_result"
    }
   ],
   "source": [
    "soup.findAll(text = True)"
   ]
  },
  {
   "cell_type": "markdown",
   "metadata": {},
   "source": [
    "#### Exercício\n"
   ]
  },
  {
   "cell_type": "code",
   "execution_count": 59,
   "metadata": {},
   "outputs": [],
   "source": [
    "from bs4 import BeautifulSoup\n",
    "\n",
    "html = \"\"\"\n",
    "    <html>\n",
    "        <body>\n",
    "            <div id=\"container-a\">\n",
    "                <h1>Título A</h1>\n",
    "                <h2 class=\"ref-a\">Sub título A</h2>\n",
    "                <p>Texto de conteúdo A</p>\n",
    "            </div>\n",
    "            <div id=\"container-b\">\n",
    "                <h1>Título B</h1>\n",
    "                <h2 class=\"ref-b\">Sub título B</h2>\n",
    "                <p>Texto de conteúdo B</p>\n",
    "            </div>\n",
    "        </body>\n",
    "    </html>\n",
    "\"\"\"\n",
    "soup = BeautifulSoup(html, 'html.parser')"
   ]
  },
  {
   "cell_type": "code",
   "execution_count": 60,
   "metadata": {},
   "outputs": [
    {
     "data": {
      "text/plain": [
       "<h2 class=\"ref-b\">Sub título B</h2>"
      ]
     },
     "execution_count": 60,
     "metadata": {},
     "output_type": "execute_result"
    }
   ],
   "source": [
    "soup.find('h2', {'class' : 'ref-b'})"
   ]
  },
  {
   "cell_type": "code",
   "execution_count": 61,
   "metadata": {},
   "outputs": [
    {
     "data": {
      "text/plain": [
       "'Texto de conteúdo B'"
      ]
     },
     "execution_count": 61,
     "metadata": {},
     "output_type": "execute_result"
    }
   ],
   "source": [
    "soup.find('div',{'id': 'container-b'}).p.get_text()"
   ]
  },
  {
   "cell_type": "code",
   "execution_count": 62,
   "metadata": {},
   "outputs": [
    {
     "data": {
      "text/plain": [
       "[<h1>Título A</h1>, <h1>Título B</h1>]"
      ]
     },
     "execution_count": 62,
     "metadata": {},
     "output_type": "execute_result"
    }
   ],
   "source": [
    "soup.findAll('h1')"
   ]
  },
  {
   "cell_type": "code",
   "execution_count": null,
   "metadata": {},
   "outputs": [],
   "source": []
  },
  {
   "cell_type": "markdown",
   "metadata": {},
   "source": [
    "# 4.2. Outros métodos de pesquisa"
   ]
  },
  {
   "cell_type": "markdown",
   "metadata": {},
   "source": [
    "- ### *findParent(tag, attributes, text, **kwargs)*\n",
    "\n",
    "- ### *findParents(tag, attributes, text, limit, **kwargs)*\n",
    "\n",
    "#### https://www.crummy.com/software/BeautifulSoup/bs4/doc/#find-parents-and-find-parent\n",
    "\n",
    "> **Observação:**\n",
    "> - *findParent()* e *findParents()* também podem ser utilizados como *find_parent()* e *find_parents()*, respectivamente.\n",
    "---\n",
    "- ### *findNextSibling(tag, attributes, text, **kwargs)*\n",
    "\n",
    "- ### *findNextSiblings(tag, attributes, text, limit, **kwargs)*\n",
    "\n",
    "- ### *findPreviousSibling(tag, attributes, text, **kwargs)*\n",
    "\n",
    "- ### *findPreviousSiblings(tag, attributes, text, limit, **kwargs)*\n",
    "\n",
    "#### https://www.crummy.com/software/BeautifulSoup/bs4/doc/#find-next-siblings-and-find-next-sibling\n",
    "#### https://www.crummy.com/software/BeautifulSoup/bs4/doc/#find-previous-siblings-and-find-previous-sibling\n",
    "\n",
    "> **Observação:**\n",
    "> - *findNextSibling()*, *findNextSiblings()*, *findPreviousSibling()* e *findPreviousSiblings()* também podem ser utilizados como *find_next_sibling()*, *find_next_siblings()*, *find_previous_sibling()* e *find_previous_siblings()*, respectivamente.\n",
    "---\n",
    "- ### *findNext(tag, attributes, text, **kwargs)*\n",
    "\n",
    "- ### *findAllNext(tag, attributes, text, limit, **kwargs)*\n",
    "\n",
    "- ### *findPrevious(tag, attributes, text, **kwargs)*\n",
    "\n",
    "- ### *findAllPrevious(tag, attributes, text, limit, **kwargs)*\n",
    "\n",
    "#### https://www.crummy.com/software/BeautifulSoup/bs4/doc/#find-all-next-and-find-next\n",
    "#### https://www.crummy.com/software/BeautifulSoup/bs4/doc/#find-all-previous-and-find-previous\n",
    "\n",
    "> **Observação:**\n",
    "> - *findNext()*, *findAllNext()*, *findPrevious* e *findAllPrevious* também podem ser utilizados como *find_next()*, *find_all_next()*, *find_previous()* e *find_all_previous()*, respectivamente."
   ]
  },
  {
   "cell_type": "markdown",
   "metadata": {},
   "source": [
    "## HTML de exemplo para ilustrar a utilização dos métodos de pesquisa do BeautifulSoup"
   ]
  },
  {
   "cell_type": "markdown",
   "metadata": {},
   "source": [
    "<img src=\"https://caelum-online-public.s3.amazonaws.com/1381-scraping/01/BeautifulSoup-method.png\" width=80%>"
   ]
  },
  {
   "cell_type": "markdown",
   "metadata": {},
   "source": [
    "---\n",
    "## Resultado"
   ]
  },
  {
   "cell_type": "markdown",
   "metadata": {},
   "source": [
    "<html>\n",
    "    <body>\n",
    "        <div id=“container-a”>\n",
    "            <h1>Título A</h1>\n",
    "            <h2 class=\"ref-a\">Sub título A</h2>\n",
    "            <p>Texto de conteúdo A</p>\n",
    "        </div>\n",
    "        <div id=“container-b”>\n",
    "            <h1>Título B</h1>\n",
    "            <h2 class=\"ref-b\">Sub título B</h2>\n",
    "            <p>Texto de conteúdo B</p>\n",
    "        </div>\n",
    "    </body>\n",
    "</html>"
   ]
  },
  {
   "cell_type": "code",
   "execution_count": 63,
   "metadata": {},
   "outputs": [],
   "source": [
    "html_teste = \"\"\"\n",
    "<html>\n",
    "    <body>\n",
    "        <div id=\"container-a\">\n",
    "            <h1>Título A</h1>\n",
    "            <h2 class=\"ref-a\">Sub título A</h2>\n",
    "            <p>Texto de conteúdo A</p>\n",
    "        </div>\n",
    "        <div id=\"container-b\">\n",
    "            <h1>Título B</h1>\n",
    "            <h2 class=\"ref-b\">Sub título B</h2>\n",
    "            <p>Texto de conteúdo B</p>\n",
    "        </div>\n",
    "    </body>\n",
    "</html>\n",
    "\"\"\""
   ]
  },
  {
   "cell_type": "markdown",
   "metadata": {},
   "source": [
    "### Tratamentos para a string HTML"
   ]
  },
  {
   "cell_type": "code",
   "execution_count": 64,
   "metadata": {},
   "outputs": [
    {
     "data": {
      "text/plain": [
       "'\\n<html>\\n    <body>\\n        <div id=\"container-a\">\\n            <h1>Título A</h1>\\n            <h2 class=\"ref-a\">Sub título A</h2>\\n            <p>Texto de conteúdo A</p>\\n        </div>\\n        <div id=\"container-b\">\\n            <h1>Título B</h1>\\n            <h2 class=\"ref-b\">Sub título B</h2>\\n            <p>Texto de conteúdo B</p>\\n        </div>\\n    </body>\\n</html>\\n'"
      ]
     },
     "execution_count": 64,
     "metadata": {},
     "output_type": "execute_result"
    }
   ],
   "source": [
    "html_teste"
   ]
  },
  {
   "cell_type": "code",
   "execution_count": 65,
   "metadata": {},
   "outputs": [
    {
     "data": {
      "text/plain": [
       "'<html><body><div id=\"container-a\"><h1>Título A</h1><h2 class=\"ref-a\">Sub título A</h2><p>Texto de conteúdo A</p></div><div id=\"container-b\"><h1>Título B</h1><h2 class=\"ref-b\">Sub título B</h2><p>Texto de conteúdo B</p></div></body></html>'"
      ]
     },
     "execution_count": 65,
     "metadata": {},
     "output_type": "execute_result"
    }
   ],
   "source": [
    "html_teste = trata_html(html_teste)\n",
    "html_teste"
   ]
  },
  {
   "cell_type": "markdown",
   "metadata": {},
   "source": [
    "### Criando o objeto BeautifulSoup"
   ]
  },
  {
   "cell_type": "code",
   "execution_count": 66,
   "metadata": {
    "scrolled": true
   },
   "outputs": [],
   "source": [
    "soup = BeautifulSoup(html_teste, 'html.parser')"
   ]
  },
  {
   "cell_type": "markdown",
   "metadata": {},
   "source": [
    "### Parents"
   ]
  },
  {
   "cell_type": "code",
   "execution_count": 67,
   "metadata": {},
   "outputs": [
    {
     "data": {
      "text/plain": [
       "<h2 class=\"ref-a\">Sub título A</h2>"
      ]
     },
     "execution_count": 67,
     "metadata": {},
     "output_type": "execute_result"
    }
   ],
   "source": [
    "soup.find('h2')"
   ]
  },
  {
   "cell_type": "code",
   "execution_count": 68,
   "metadata": {},
   "outputs": [
    {
     "data": {
      "text/plain": [
       "<div id=\"container-a\"><h1>Título A</h1><h2 class=\"ref-a\">Sub título A</h2><p>Texto de conteúdo A</p></div>"
      ]
     },
     "execution_count": 68,
     "metadata": {},
     "output_type": "execute_result"
    }
   ],
   "source": [
    "soup.find('h2').find_parent('div')"
   ]
  },
  {
   "cell_type": "code",
   "execution_count": 69,
   "metadata": {},
   "outputs": [
    {
     "data": {
      "text/plain": [
       "[<div id=\"container-a\"><h1>Título A</h1><h2 class=\"ref-a\">Sub título A</h2><p>Texto de conteúdo A</p></div>,\n",
       " <body><div id=\"container-a\"><h1>Título A</h1><h2 class=\"ref-a\">Sub título A</h2><p>Texto de conteúdo A</p></div><div id=\"container-b\"><h1>Título B</h1><h2 class=\"ref-b\">Sub título B</h2><p>Texto de conteúdo B</p></div></body>,\n",
       " <html><body><div id=\"container-a\"><h1>Título A</h1><h2 class=\"ref-a\">Sub título A</h2><p>Texto de conteúdo A</p></div><div id=\"container-b\"><h1>Título B</h1><h2 class=\"ref-b\">Sub título B</h2><p>Texto de conteúdo B</p></div></body></html>,\n",
       " <html><body><div id=\"container-a\"><h1>Título A</h1><h2 class=\"ref-a\">Sub título A</h2><p>Texto de conteúdo A</p></div><div id=\"container-b\"><h1>Título B</h1><h2 class=\"ref-b\">Sub título B</h2><p>Texto de conteúdo B</p></div></body></html>]"
      ]
     },
     "execution_count": 69,
     "metadata": {},
     "output_type": "execute_result"
    }
   ],
   "source": [
    "soup.find('h2').find_parents()"
   ]
  },
  {
   "cell_type": "code",
   "execution_count": 70,
   "metadata": {},
   "outputs": [],
   "source": [
    "# soup.findAll('h2').find_parent('div')"
   ]
  },
  {
   "cell_type": "markdown",
   "metadata": {},
   "source": [
    "Resolvendo problema acima com laço"
   ]
  },
  {
   "cell_type": "code",
   "execution_count": 71,
   "metadata": {},
   "outputs": [
    {
     "name": "stdout",
     "output_type": "stream",
     "text": [
      "[<div id=\"container-a\"><h1>Título A</h1><h2 class=\"ref-a\">Sub título A</h2><p>Texto de conteúdo A</p></div>]\n",
      "[<div id=\"container-b\"><h1>Título B</h1><h2 class=\"ref-b\">Sub título B</h2><p>Texto de conteúdo B</p></div>]\n"
     ]
    }
   ],
   "source": [
    "for item in soup.findAll('h2'):\n",
    "    print(item.find_parents('div'))"
   ]
  },
  {
   "cell_type": "markdown",
   "metadata": {},
   "source": [
    "## Siblings"
   ]
  },
  {
   "cell_type": "code",
   "execution_count": 72,
   "metadata": {},
   "outputs": [
    {
     "data": {
      "text/plain": [
       "<p>Texto de conteúdo A</p>"
      ]
     },
     "execution_count": 72,
     "metadata": {},
     "output_type": "execute_result"
    }
   ],
   "source": [
    "soup.find('h2').findNextSibling()"
   ]
  },
  {
   "cell_type": "code",
   "execution_count": 73,
   "metadata": {},
   "outputs": [
    {
     "data": {
      "text/plain": [
       "<h1>Título A</h1>"
      ]
     },
     "execution_count": 73,
     "metadata": {},
     "output_type": "execute_result"
    }
   ],
   "source": [
    "soup.find('h2').findPreviousSibling()"
   ]
  },
  {
   "cell_type": "code",
   "execution_count": 74,
   "metadata": {},
   "outputs": [
    {
     "data": {
      "text/plain": [
       "[<h2 class=\"ref-a\">Sub título A</h2>, <h1>Título A</h1>]"
      ]
     },
     "execution_count": 74,
     "metadata": {},
     "output_type": "execute_result"
    }
   ],
   "source": [
    "soup.find('p').findPreviousSiblings()"
   ]
  },
  {
   "cell_type": "markdown",
   "metadata": {},
   "source": [
    "## Next e Previous"
   ]
  },
  {
   "cell_type": "code",
   "execution_count": 75,
   "metadata": {},
   "outputs": [
    {
     "data": {
      "text/plain": [
       "<p>Texto de conteúdo A</p>"
      ]
     },
     "execution_count": 75,
     "metadata": {},
     "output_type": "execute_result"
    }
   ],
   "source": [
    "soup.find('h2').findNext()"
   ]
  },
  {
   "cell_type": "code",
   "execution_count": 76,
   "metadata": {},
   "outputs": [
    {
     "data": {
      "text/plain": [
       "<h1>Título A</h1>"
      ]
     },
     "execution_count": 76,
     "metadata": {},
     "output_type": "execute_result"
    }
   ],
   "source": [
    "soup.find('h2').findPrevious()"
   ]
  },
  {
   "cell_type": "code",
   "execution_count": 77,
   "metadata": {},
   "outputs": [
    {
     "data": {
      "text/plain": [
       "[<p>Texto de conteúdo A</p>,\n",
       " <div id=\"container-b\"><h1>Título B</h1><h2 class=\"ref-b\">Sub título B</h2><p>Texto de conteúdo B</p></div>,\n",
       " <h1>Título B</h1>,\n",
       " <h2 class=\"ref-b\">Sub título B</h2>,\n",
       " <p>Texto de conteúdo B</p>]"
      ]
     },
     "execution_count": 77,
     "metadata": {},
     "output_type": "execute_result"
    }
   ],
   "source": [
    "soup.find('h2').findAllNext()"
   ]
  },
  {
   "cell_type": "markdown",
   "metadata": {},
   "source": [
    "# <font color=green>5. WEB SCRAPING DO SITE ALURA MOTORS - OBTENDO OS DADOS DE UM ANÚNCIO"
   ]
  },
  {
   "cell_type": "markdown",
   "metadata": {},
   "source": [
    "# 5.1. Identificando e selecionando os dados no HTML"
   ]
  },
  {
   "cell_type": "markdown",
   "metadata": {},
   "source": [
    "### Obtendo o HTML e criando o objeto BeautifulSoup"
   ]
  },
  {
   "cell_type": "code",
   "execution_count": 78,
   "metadata": {},
   "outputs": [],
   "source": [
    "response = urlopen('https://alura-site-scraping.herokuapp.com/index.php')\n",
    "html = response.read().decode('utf-8')\n",
    "soup = BeautifulSoup(html, 'html.parser')\n",
    "\n"
   ]
  },
  {
   "cell_type": "markdown",
   "metadata": {},
   "source": [
    "### Criando variávels para armazenar informações"
   ]
  },
  {
   "cell_type": "code",
   "execution_count": 79,
   "metadata": {},
   "outputs": [],
   "source": [
    "cards = []\n",
    "card = {}\n"
   ]
  },
  {
   "cell_type": "markdown",
   "metadata": {},
   "source": [
    "### Obtendo os dados do primeiro CARD"
   ]
  },
  {
   "cell_type": "code",
   "execution_count": 80,
   "metadata": {
    "scrolled": false
   },
   "outputs": [
    {
     "data": {
      "text/plain": [
       "<div class=\"well card\">\n",
       "<div class=\"col-md-3 image-card\">\n",
       "<img alt=\"Foto\" height=\"155\" src=\"https://caelum-online-public.s3.amazonaws.com/1381-scraping/01/img-cars/lamborghini-aventador/lamborghini-aventador-2932196__340.jpg\" width=\"220\"/>\n",
       "</div>\n",
       "<div class=\"col-md-6 body-card\">\n",
       "<p class=\"txt-name inline\">LAMBORGHINI AVENTADOR</p>\n",
       "<p class=\"txt-category badge badge-secondary inline\">USADO</p>\n",
       "<p class=\"txt-motor\">Motor 1.8 16v</p>\n",
       "<p class=\"txt-description\">Ano 1993 - 55.286 km</p>\n",
       "<ul class=\"lst-items\">\n",
       "<li class=\"txt-items\">► 4 X 4</li>\n",
       "<li class=\"txt-items\">► Câmera de estacionamento</li>\n",
       "<li class=\"txt-items\">► Controle de tração</li>\n",
       "<li class=\"txt-items\">► Sensor de estacionamento</li>\n",
       "<li class=\"txt-items\">...</li>\n",
       "</ul>\n",
       "<p class=\"txt-location\">Belo Horizonte - MG</p>\n",
       "</div>\n",
       "<div class=\"col-md-3 value-card\">\n",
       "<div class=\"value\">\n",
       "<p class=\"txt-value\">R$ 338.000</p>\n",
       "</div>\n",
       "</div>\n",
       "</div>"
      ]
     },
     "execution_count": 80,
     "metadata": {},
     "output_type": "execute_result"
    }
   ],
   "source": [
    "anuncio = soup.find('div' , {'class' : 'well card'})\n",
    "anuncio\n"
   ]
  },
  {
   "cell_type": "code",
   "execution_count": 81,
   "metadata": {},
   "outputs": [
    {
     "name": "stdout",
     "output_type": "stream",
     "text": [
      "LAMBORGHINI AVENTADOR\n",
      "USADO\n",
      "Motor 1.8 16v\n",
      "Ano 1993 - 55.286 km\n",
      "Belo Horizonte - MG\n",
      "R$ 338.000\n"
     ]
    }
   ],
   "source": [
    "for item in anuncio.findAll('p'):\n",
    "    print(item.get_text())"
   ]
  },
  {
   "cell_type": "markdown",
   "metadata": {},
   "source": [
    "# 5.2. Obtendo o VALOR do veículo anunciado"
   ]
  },
  {
   "cell_type": "code",
   "execution_count": 82,
   "metadata": {},
   "outputs": [
    {
     "data": {
      "text/plain": [
       "'\\n\\nR$ 338.000\\n\\n'"
      ]
     },
     "execution_count": 82,
     "metadata": {},
     "output_type": "execute_result"
    }
   ],
   "source": [
    "valor = soup.find('div', {'class' : 'col-md-3 value-card'}).get_text()\n",
    "valor"
   ]
  },
  {
   "cell_type": "code",
   "execution_count": 83,
   "metadata": {},
   "outputs": [
    {
     "data": {
      "text/plain": [
       "'R$ 338.000'"
      ]
     },
     "execution_count": 83,
     "metadata": {},
     "output_type": "execute_result"
    }
   ],
   "source": [
    "valor_2 = soup.find('p', {'class' : 'txt-value'}).get_text()\n",
    "valor_2"
   ]
  },
  {
   "cell_type": "code",
   "execution_count": 84,
   "metadata": {},
   "outputs": [
    {
     "data": {
      "text/plain": [
       "{'value ': 'R$ 338.000'}"
      ]
     },
     "execution_count": 84,
     "metadata": {},
     "output_type": "execute_result"
    }
   ],
   "source": [
    "card['value '] = valor_2 = soup.find('p', {'class' : 'txt-value'}).get_text()\n",
    "card\n"
   ]
  },
  {
   "cell_type": "code",
   "execution_count": null,
   "metadata": {},
   "outputs": [],
   "source": []
  },
  {
   "cell_type": "code",
   "execution_count": null,
   "metadata": {},
   "outputs": [],
   "source": []
  },
  {
   "cell_type": "markdown",
   "metadata": {},
   "source": [
    "### <font color=red>Resumo"
   ]
  },
  {
   "cell_type": "code",
   "execution_count": 85,
   "metadata": {},
   "outputs": [],
   "source": [
    "# Valor\n"
   ]
  },
  {
   "cell_type": "markdown",
   "metadata": {},
   "source": [
    "# 5.3. Obtendo as INFORMAÇÕES sobre o veículo anunciado"
   ]
  },
  {
   "cell_type": "code",
   "execution_count": 86,
   "metadata": {},
   "outputs": [
    {
     "data": {
      "text/plain": [
       "[<p class=\"txt-name inline\">LAMBORGHINI AVENTADOR</p>,\n",
       " <p class=\"txt-category badge badge-secondary inline\">USADO</p>,\n",
       " <p class=\"txt-motor\">Motor 1.8 16v</p>,\n",
       " <p class=\"txt-description\">Ano 1993 - 55.286 km</p>,\n",
       " <p class=\"txt-location\">Belo Horizonte - MG</p>]"
      ]
     },
     "execution_count": 86,
     "metadata": {},
     "output_type": "execute_result"
    }
   ],
   "source": [
    "anuncio.find('div', {'class' : 'body-card'}).findAll('p')"
   ]
  },
  {
   "cell_type": "code",
   "execution_count": 87,
   "metadata": {},
   "outputs": [],
   "source": [
    "infos = anuncio.find('div', {'class' : 'body-card'}).findAll('p')"
   ]
  },
  {
   "cell_type": "code",
   "execution_count": 88,
   "metadata": {},
   "outputs": [
    {
     "name": "stdout",
     "output_type": "stream",
     "text": [
      "LAMBORGHINI AVENTADOR\n",
      "USADO\n",
      "Motor 1.8 16v\n",
      "Ano 1993 - 55.286 km\n",
      "Belo Horizonte - MG\n"
     ]
    }
   ],
   "source": [
    "for info in infos:\n",
    "    print(info.get_text())"
   ]
  },
  {
   "cell_type": "code",
   "execution_count": 89,
   "metadata": {},
   "outputs": [
    {
     "name": "stdout",
     "output_type": "stream",
     "text": [
      "['txt-name', 'inline']\n",
      "['txt-category', 'badge', 'badge-secondary', 'inline']\n",
      "['txt-motor']\n",
      "['txt-description']\n",
      "['txt-location']\n"
     ]
    }
   ],
   "source": [
    "for info in infos:\n",
    "    print(info.get(\"class\"))"
   ]
  },
  {
   "cell_type": "code",
   "execution_count": 90,
   "metadata": {},
   "outputs": [
    {
     "name": "stdout",
     "output_type": "stream",
     "text": [
      "name\n",
      "category\n",
      "motor\n",
      "description\n",
      "location\n"
     ]
    }
   ],
   "source": [
    "for info in infos:\n",
    "    print(info.get(\"class\")[0].split('-')[1])"
   ]
  },
  {
   "cell_type": "code",
   "execution_count": 91,
   "metadata": {},
   "outputs": [
    {
     "name": "stdout",
     "output_type": "stream",
     "text": [
      "name - LAMBORGHINI AVENTADOR\n",
      "category - USADO\n",
      "motor - Motor 1.8 16v\n",
      "description - Ano 1993 - 55.286 km\n",
      "location - Belo Horizonte - MG\n"
     ]
    }
   ],
   "source": [
    "for info in infos:\n",
    "    print(info.get(\"class\")[0].split('-')[1], '-', info.get_text())"
   ]
  },
  {
   "cell_type": "code",
   "execution_count": 92,
   "metadata": {},
   "outputs": [],
   "source": [
    "for info in infos:\n",
    "    card[info.get(\"class\")[0].split('-')[-1]] = info.get_text()"
   ]
  },
  {
   "cell_type": "code",
   "execution_count": 93,
   "metadata": {},
   "outputs": [
    {
     "data": {
      "text/plain": [
       "{'value ': 'R$ 338.000',\n",
       " 'name': 'LAMBORGHINI AVENTADOR',\n",
       " 'category': 'USADO',\n",
       " 'motor': 'Motor 1.8 16v',\n",
       " 'description': 'Ano 1993 - 55.286 km',\n",
       " 'location': 'Belo Horizonte - MG'}"
      ]
     },
     "execution_count": 93,
     "metadata": {},
     "output_type": "execute_result"
    }
   ],
   "source": [
    "card"
   ]
  },
  {
   "cell_type": "markdown",
   "metadata": {},
   "source": [
    "### <font color=red>Resumo"
   ]
  },
  {
   "cell_type": "code",
   "execution_count": 94,
   "metadata": {},
   "outputs": [],
   "source": [
    "# Informações\n",
    "infos = anuncio.find('div', {'class' : 'body-card'}).findAll('p')\n",
    "for info in infos:\n",
    "    card[info.get(\"class\")[0].split('-')[-1]] = info.get_text()"
   ]
  },
  {
   "cell_type": "markdown",
   "metadata": {},
   "source": [
    "# 5.4. Obtendo os ACESSÓRIOS do veículo anunciado"
   ]
  },
  {
   "cell_type": "code",
   "execution_count": 95,
   "metadata": {},
   "outputs": [
    {
     "data": {
      "text/plain": [
       "<ul class=\"lst-items\">\n",
       "<li class=\"txt-items\">► 4 X 4</li>\n",
       "<li class=\"txt-items\">► Câmera de estacionamento</li>\n",
       "<li class=\"txt-items\">► Controle de tração</li>\n",
       "<li class=\"txt-items\">► Sensor de estacionamento</li>\n",
       "<li class=\"txt-items\">...</li>\n",
       "</ul>"
      ]
     },
     "execution_count": 95,
     "metadata": {},
     "output_type": "execute_result"
    }
   ],
   "source": [
    "anuncio.find('div', {'class': 'body-card'}).find('ul')"
   ]
  },
  {
   "cell_type": "code",
   "execution_count": 96,
   "metadata": {},
   "outputs": [
    {
     "data": {
      "text/plain": [
       "[<li class=\"txt-items\">► 4 X 4</li>,\n",
       " <li class=\"txt-items\">► Câmera de estacionamento</li>,\n",
       " <li class=\"txt-items\">► Controle de tração</li>,\n",
       " <li class=\"txt-items\">► Sensor de estacionamento</li>,\n",
       " <li class=\"txt-items\">...</li>]"
      ]
     },
     "execution_count": 96,
     "metadata": {},
     "output_type": "execute_result"
    }
   ],
   "source": [
    "anuncio.find('div', {'class': 'body-card'}).ul.findAll('li')"
   ]
  },
  {
   "cell_type": "code",
   "execution_count": 97,
   "metadata": {},
   "outputs": [],
   "source": [
    "itens = anuncio.find('div', {'class': 'body-card'}).ul.findAll('li')"
   ]
  },
  {
   "cell_type": "code",
   "execution_count": 98,
   "metadata": {},
   "outputs": [
    {
     "data": {
      "text/plain": [
       "<li class=\"txt-items\">...</li>"
      ]
     },
     "execution_count": 98,
     "metadata": {},
     "output_type": "execute_result"
    }
   ],
   "source": [
    "itens.pop()"
   ]
  },
  {
   "cell_type": "code",
   "execution_count": 99,
   "metadata": {},
   "outputs": [
    {
     "data": {
      "text/plain": [
       "[<li class=\"txt-items\">► 4 X 4</li>,\n",
       " <li class=\"txt-items\">► Câmera de estacionamento</li>,\n",
       " <li class=\"txt-items\">► Controle de tração</li>,\n",
       " <li class=\"txt-items\">► Sensor de estacionamento</li>]"
      ]
     },
     "execution_count": 99,
     "metadata": {},
     "output_type": "execute_result"
    }
   ],
   "source": [
    "itens"
   ]
  },
  {
   "cell_type": "code",
   "execution_count": 100,
   "metadata": {},
   "outputs": [
    {
     "name": "stdout",
     "output_type": "stream",
     "text": [
      "► 4 X 4\n",
      "► Câmera de estacionamento\n",
      "► Controle de tração\n",
      "► Sensor de estacionamento\n"
     ]
    }
   ],
   "source": [
    "for iten in itens:\n",
    "    print(iten.get_text())"
   ]
  },
  {
   "cell_type": "code",
   "execution_count": 101,
   "metadata": {},
   "outputs": [
    {
     "name": "stdout",
     "output_type": "stream",
     "text": [
      " 4 X 4\n",
      " Câmera de estacionamento\n",
      " Controle de tração\n",
      " Sensor de estacionamento\n"
     ]
    }
   ],
   "source": [
    "for iten in itens:\n",
    "    print(iten.get_text().replace('►', ''))"
   ]
  },
  {
   "cell_type": "code",
   "execution_count": 102,
   "metadata": {},
   "outputs": [],
   "source": [
    "acessorios = []\n",
    "for iten in itens:\n",
    "    acessorios.append(iten.get_text().replace('►', ''))"
   ]
  },
  {
   "cell_type": "code",
   "execution_count": 103,
   "metadata": {},
   "outputs": [
    {
     "data": {
      "text/plain": [
       "{'value ': 'R$ 338.000',\n",
       " 'name': 'LAMBORGHINI AVENTADOR',\n",
       " 'category': 'USADO',\n",
       " 'motor': 'Motor 1.8 16v',\n",
       " 'description': 'Ano 1993 - 55.286 km',\n",
       " 'location': 'Belo Horizonte - MG',\n",
       " 'itens': [' 4 X 4',\n",
       "  ' Câmera de estacionamento',\n",
       "  ' Controle de tração',\n",
       "  ' Sensor de estacionamento']}"
      ]
     },
     "execution_count": 103,
     "metadata": {},
     "output_type": "execute_result"
    }
   ],
   "source": [
    "card['itens'] = acessorios\n",
    "card"
   ]
  },
  {
   "cell_type": "code",
   "execution_count": null,
   "metadata": {},
   "outputs": [],
   "source": []
  },
  {
   "cell_type": "markdown",
   "metadata": {},
   "source": [
    "### <font color=red>Resumo"
   ]
  },
  {
   "cell_type": "code",
   "execution_count": 104,
   "metadata": {},
   "outputs": [
    {
     "data": {
      "text/plain": [
       "{'value ': 'R$ 338.000',\n",
       " 'name': 'LAMBORGHINI AVENTADOR',\n",
       " 'category': 'USADO',\n",
       " 'motor': 'Motor 1.8 16v',\n",
       " 'description': 'Ano 1993 - 55.286 km',\n",
       " 'location': 'Belo Horizonte - MG',\n",
       " 'itens': [' 4 X 4',\n",
       "  ' Câmera de estacionamento',\n",
       "  ' Controle de tração',\n",
       "  ' Sensor de estacionamento']}"
      ]
     },
     "execution_count": 104,
     "metadata": {},
     "output_type": "execute_result"
    }
   ],
   "source": [
    "# Acessórios\n",
    "itens = anuncio.find('div', {'class': 'body-card'}).ul.findAll('li')\n",
    "itens.pop()\n",
    "acessorios = []\n",
    "for iten in itens:\n",
    "    acessorios.append(iten.get_text().replace('►', ''))\n",
    "    card['itens'] = acessorios\n",
    "card"
   ]
  },
  {
   "cell_type": "markdown",
   "metadata": {},
   "source": [
    "# 5.5 Criando um DataFrame com os dados coletados do Alura Motors"
   ]
  },
  {
   "cell_type": "code",
   "execution_count": 105,
   "metadata": {},
   "outputs": [],
   "source": [
    "import pandas as pd"
   ]
  },
  {
   "cell_type": "code",
   "execution_count": 106,
   "metadata": {},
   "outputs": [
    {
     "data": {
      "text/html": [
       "<div>\n",
       "<style scoped>\n",
       "    .dataframe tbody tr th:only-of-type {\n",
       "        vertical-align: middle;\n",
       "    }\n",
       "\n",
       "    .dataframe tbody tr th {\n",
       "        vertical-align: top;\n",
       "    }\n",
       "\n",
       "    .dataframe thead th {\n",
       "        text-align: right;\n",
       "    }\n",
       "</style>\n",
       "<table border=\"1\" class=\"dataframe\">\n",
       "  <thead>\n",
       "    <tr style=\"text-align: right;\">\n",
       "      <th></th>\n",
       "      <th>value</th>\n",
       "      <th>name</th>\n",
       "      <th>category</th>\n",
       "      <th>motor</th>\n",
       "      <th>description</th>\n",
       "      <th>location</th>\n",
       "      <th>itens</th>\n",
       "    </tr>\n",
       "  </thead>\n",
       "  <tbody>\n",
       "    <tr>\n",
       "      <th>0</th>\n",
       "      <td>R$ 338.000</td>\n",
       "      <td>LAMBORGHINI AVENTADOR</td>\n",
       "      <td>USADO</td>\n",
       "      <td>Motor 1.8 16v</td>\n",
       "      <td>Ano 1993 - 55.286 km</td>\n",
       "      <td>Belo Horizonte - MG</td>\n",
       "      <td>[ 4 X 4,  Câmera de estacionamento,  Controle ...</td>\n",
       "    </tr>\n",
       "  </tbody>\n",
       "</table>\n",
       "</div>"
      ],
      "text/plain": [
       "       value                    name category          motor  \\\n",
       "0  R$ 338.000  LAMBORGHINI AVENTADOR    USADO  Motor 1.8 16v   \n",
       "\n",
       "            description             location  \\\n",
       "0  Ano 1993 - 55.286 km  Belo Horizonte - MG   \n",
       "\n",
       "                                               itens  \n",
       "0  [ 4 X 4,  Câmera de estacionamento,  Controle ...  "
      ]
     },
     "execution_count": 106,
     "metadata": {},
     "output_type": "execute_result"
    }
   ],
   "source": [
    "df = pd.DataFrame([card])\n",
    "df"
   ]
  },
  {
   "cell_type": "code",
   "execution_count": 107,
   "metadata": {},
   "outputs": [],
   "source": [
    "df.to_csv('./output/data/df.csv', sep = ';', index = False, encoding='utf-8-sig')"
   ]
  },
  {
   "cell_type": "markdown",
   "metadata": {},
   "source": [
    "# 5.6. Obtendo a FOTO do anúncio"
   ]
  },
  {
   "cell_type": "code",
   "execution_count": 108,
   "metadata": {},
   "outputs": [],
   "source": [
    "image =anuncio.find('div', {'class' : 'image-card'}).img"
   ]
  },
  {
   "cell_type": "code",
   "execution_count": 109,
   "metadata": {},
   "outputs": [
    {
     "data": {
      "text/plain": [
       "'https://caelum-online-public.s3.amazonaws.com/1381-scraping/01/img-cars/lamborghini-aventador/lamborghini-aventador-2932196__340.jpg'"
      ]
     },
     "execution_count": 109,
     "metadata": {},
     "output_type": "execute_result"
    }
   ],
   "source": [
    "image.get('src')"
   ]
  },
  {
   "cell_type": "code",
   "execution_count": null,
   "metadata": {},
   "outputs": [],
   "source": []
  },
  {
   "cell_type": "markdown",
   "metadata": {},
   "source": [
    "### Visualizando a FOTO no notebook (extra)"
   ]
  },
  {
   "cell_type": "code",
   "execution_count": 110,
   "metadata": {},
   "outputs": [
    {
     "name": "stderr",
     "output_type": "stream",
     "text": [
      "<ipython-input-110-76767e5ae642>:1: DeprecationWarning: Importing display from IPython.core.display is deprecated since IPython 7.14, please import from IPython display\n",
      "  from IPython.core.display import display, HTML\n"
     ]
    },
    {
     "data": {
      "text/html": [
       "<img alt=\"Foto\" height=\"155\" src=\"https://caelum-online-public.s3.amazonaws.com/1381-scraping/01/img-cars/lamborghini-aventador/lamborghini-aventador-2932196__340.jpg\" width=\"220\"/>"
      ],
      "text/plain": [
       "<IPython.core.display.HTML object>"
      ]
     },
     "metadata": {},
     "output_type": "display_data"
    }
   ],
   "source": [
    "from IPython.core.display import display, HTML\n",
    "display(HTML(str(image)))"
   ]
  },
  {
   "cell_type": "code",
   "execution_count": null,
   "metadata": {},
   "outputs": [],
   "source": []
  },
  {
   "cell_type": "markdown",
   "metadata": {},
   "source": [
    "### Rotina para acessar e salvar a FOTO do anúncio"
   ]
  },
  {
   "cell_type": "markdown",
   "metadata": {},
   "source": [
    "## https://docs.python.org/3/library/urllib.request.html#urllib.request.urlretrieve"
   ]
  },
  {
   "cell_type": "code",
   "execution_count": 111,
   "metadata": {},
   "outputs": [
    {
     "data": {
      "text/plain": [
       "'lamborghini-aventador-2932196__340.jpg'"
      ]
     },
     "execution_count": 111,
     "metadata": {},
     "output_type": "execute_result"
    }
   ],
   "source": [
    "image.get('src').split('/')[-1]"
   ]
  },
  {
   "cell_type": "code",
   "execution_count": 112,
   "metadata": {},
   "outputs": [
    {
     "data": {
      "text/plain": [
       "('./output/img/lamborghini-aventador-2932196__340.jpg',\n",
       " <http.client.HTTPMessage at 0x2502816ed90>)"
      ]
     },
     "execution_count": 112,
     "metadata": {},
     "output_type": "execute_result"
    }
   ],
   "source": [
    "from urllib.request import urlretrieve\n",
    "urlretrieve(image.get('src'), './output/img/' + image.get('src').split('/')[-1])"
   ]
  },
  {
   "cell_type": "code",
   "execution_count": null,
   "metadata": {},
   "outputs": [],
   "source": []
  },
  {
   "cell_type": "markdown",
   "metadata": {},
   "source": [
    "### <font color=red>Resumo"
   ]
  },
  {
   "cell_type": "code",
   "execution_count": null,
   "metadata": {},
   "outputs": [],
   "source": []
  },
  {
   "cell_type": "markdown",
   "metadata": {},
   "source": [
    "# <font color=green>6. WEB SCRAPING DO SITE ALURA MOTORS - OBTENDO OS DADOS DE TODOS OS ANÚNCIOS DE UMA PÁGINA"
   ]
  },
  {
   "cell_type": "markdown",
   "metadata": {},
   "source": [
    "# 6.1. Identificando as informações no HTML"
   ]
  },
  {
   "cell_type": "code",
   "execution_count": null,
   "metadata": {
    "scrolled": true
   },
   "outputs": [],
   "source": [
    "soup.find('div', {'id': 'container-cards'})\n"
   ]
  },
  {
   "cell_type": "code",
   "execution_count": null,
   "metadata": {
    "scrolled": true
   },
   "outputs": [],
   "source": [
    "soup.find('div', {'id': 'container-cards'}).findAll('div' , class_= 'card')"
   ]
  },
  {
   "cell_type": "code",
   "execution_count": 115,
   "metadata": {},
   "outputs": [
    {
     "data": {
      "text/plain": [
       "10"
      ]
     },
     "execution_count": 115,
     "metadata": {},
     "output_type": "execute_result"
    }
   ],
   "source": [
    "len(soup.find('div', {'id': 'container-cards'}).findAll('div' , class_= 'card'))"
   ]
  },
  {
   "cell_type": "code",
   "execution_count": null,
   "metadata": {},
   "outputs": [],
   "source": [
    "anuncios = soup.find('div', {'id': 'container-cards'}).findAll('div' , class_= 'card')\n",
    "for anuncio in anuncios:\n",
    "    print(str(anuncio)+ '\\n\\n')"
   ]
  },
  {
   "cell_type": "code",
   "execution_count": null,
   "metadata": {
    "scrolled": true
   },
   "outputs": [],
   "source": []
  },
  {
   "cell_type": "markdown",
   "metadata": {},
   "source": [
    "# 6.2. Criando uma rotina de scraping"
   ]
  },
  {
   "cell_type": "code",
   "execution_count": null,
   "metadata": {},
   "outputs": [],
   "source": [
    "# valor\n",
    "card['value'] = anuncio.find('p',  {'class' : 'txt-value'}).get_text()\n",
    "\n",
    "#informações\n",
    "infos = anuncio.find('div', {'class' : 'body-card'}).findAll('p')\n",
    "\n",
    "#acessorios\n",
    "itens = anuncio.find('div', {'class': 'body-card'}).ul.findAll('li')\n",
    "itens.pop()\n",
    "acessorios = []\n",
    "for iten in itens:\n",
    "    acessorios.append(iten.get_text().replace('►', ''))\n",
    "    card['itens'] = acessorios\n",
    "\n",
    "#imagens\n",
    "image =anuncio.find('div', {'class' : 'image-card'}).img\n",
    "urlretrieve(image.get('src'), './output/img/' + image.get('src').split('/')[-1])"
   ]
  },
  {
   "cell_type": "code",
   "execution_count": 122,
   "metadata": {},
   "outputs": [
    {
     "data": {
      "text/html": [
       "<div>\n",
       "<style scoped>\n",
       "    .dataframe tbody tr th:only-of-type {\n",
       "        vertical-align: middle;\n",
       "    }\n",
       "\n",
       "    .dataframe tbody tr th {\n",
       "        vertical-align: top;\n",
       "    }\n",
       "\n",
       "    .dataframe thead th {\n",
       "        text-align: right;\n",
       "    }\n",
       "</style>\n",
       "<table border=\"1\" class=\"dataframe\">\n",
       "  <thead>\n",
       "    <tr style=\"text-align: right;\">\n",
       "      <th></th>\n",
       "      <th>value</th>\n",
       "      <th>name</th>\n",
       "      <th>category</th>\n",
       "      <th>motor</th>\n",
       "      <th>description</th>\n",
       "      <th>location</th>\n",
       "      <th>itens</th>\n",
       "      <th>opportunity</th>\n",
       "    </tr>\n",
       "  </thead>\n",
       "  <tbody>\n",
       "    <tr>\n",
       "      <th>0</th>\n",
       "      <td>R$ 338.000</td>\n",
       "      <td>LAMBORGHINI AVENTADOR</td>\n",
       "      <td>USADO</td>\n",
       "      <td>Motor 1.8 16v</td>\n",
       "      <td>Ano 1993 - 55.286 km</td>\n",
       "      <td>Belo Horizonte - MG</td>\n",
       "      <td>[ 4 X 4,  Câmera de estacionamento,  Controle ...</td>\n",
       "      <td>NaN</td>\n",
       "    </tr>\n",
       "    <tr>\n",
       "      <th>1</th>\n",
       "      <td>R$ 346.000</td>\n",
       "      <td>BMW M2</td>\n",
       "      <td>USADO</td>\n",
       "      <td>Motor 3.0 32v</td>\n",
       "      <td>Ano 2018 - 83.447 km</td>\n",
       "      <td>Belo Horizonte - MG</td>\n",
       "      <td>[ Câmera de estacionamento,  Controle de estab...</td>\n",
       "      <td>NaN</td>\n",
       "    </tr>\n",
       "    <tr>\n",
       "      <th>2</th>\n",
       "      <td>R$ 480.000</td>\n",
       "      <td>ALFA</td>\n",
       "      <td>USADO</td>\n",
       "      <td>Motor 1.8 16v</td>\n",
       "      <td>Ano 2004 - 19.722 km</td>\n",
       "      <td>Rio de Janeiro - RJ</td>\n",
       "      <td>[ Central multimídia,  Bancos de couro,  Rodas...</td>\n",
       "      <td>NaN</td>\n",
       "    </tr>\n",
       "    <tr>\n",
       "      <th>3</th>\n",
       "      <td>R$ 133.000</td>\n",
       "      <td>PUECH</td>\n",
       "      <td>USADO</td>\n",
       "      <td>Motor Diesel V8</td>\n",
       "      <td>Ano 1992 - 34.335 km</td>\n",
       "      <td>São Paulo - SP</td>\n",
       "      <td>[ Bancos de couro,  Freios ABS,  Rodas de liga...</td>\n",
       "      <td>NaN</td>\n",
       "    </tr>\n",
       "    <tr>\n",
       "      <th>4</th>\n",
       "      <td>R$ 175.000</td>\n",
       "      <td>LAMBORGHINI MURCIELAGO</td>\n",
       "      <td>USADO</td>\n",
       "      <td>Motor 1.0 8v</td>\n",
       "      <td>Ano 1991 - 464 km</td>\n",
       "      <td>Belo Horizonte - MG</td>\n",
       "      <td>[ Central multimídia,  Teto panorâmico,  Senso...</td>\n",
       "      <td>NaN</td>\n",
       "    </tr>\n",
       "    <tr>\n",
       "      <th>5</th>\n",
       "      <td>R$ 239.000</td>\n",
       "      <td>ASTON MARTIN</td>\n",
       "      <td>USADO</td>\n",
       "      <td>Motor Diesel V6</td>\n",
       "      <td>Ano 2004 - 50.189 km</td>\n",
       "      <td>Belo Horizonte - MG</td>\n",
       "      <td>[ Painel digital,  Controle de tração,  Teto p...</td>\n",
       "      <td>OPORTUNIDADE</td>\n",
       "    </tr>\n",
       "    <tr>\n",
       "      <th>6</th>\n",
       "      <td>R$ 115.000</td>\n",
       "      <td>TVR</td>\n",
       "      <td>USADO</td>\n",
       "      <td>Motor 4.0 Turbo</td>\n",
       "      <td>Ano 2014 - 17.778 km</td>\n",
       "      <td>Belo Horizonte - MG</td>\n",
       "      <td>[ 4 X 4,  Teto panorâmico,  Central multimídia...</td>\n",
       "      <td>NaN</td>\n",
       "    </tr>\n",
       "    <tr>\n",
       "      <th>7</th>\n",
       "      <td>R$ 114.000</td>\n",
       "      <td>EXCALIBUR</td>\n",
       "      <td>USADO</td>\n",
       "      <td>Motor 3.0 32v</td>\n",
       "      <td>Ano 2009 - 81.251 km</td>\n",
       "      <td>Rio de Janeiro - RJ</td>\n",
       "      <td>[ Painel digital,  Câmbio automático,  Sensor ...</td>\n",
       "      <td>NaN</td>\n",
       "    </tr>\n",
       "    <tr>\n",
       "      <th>8</th>\n",
       "      <td>R$ 75.000</td>\n",
       "      <td>MCLAREN</td>\n",
       "      <td>NOVO</td>\n",
       "      <td>Motor Diesel</td>\n",
       "      <td>Ano 2019 - 0 km</td>\n",
       "      <td>São Paulo - SP</td>\n",
       "      <td>[ Central multimídia,  Câmera de estacionament...</td>\n",
       "      <td>NaN</td>\n",
       "    </tr>\n",
       "    <tr>\n",
       "      <th>9</th>\n",
       "      <td>R$ 117.000</td>\n",
       "      <td>TOYOTA</td>\n",
       "      <td>USADO</td>\n",
       "      <td>Motor 4.0 Turbo</td>\n",
       "      <td>Ano 1999 - 12.536 km</td>\n",
       "      <td>São Paulo - SP</td>\n",
       "      <td>[ Bancos de couro,  Freios ABS,  Piloto automá...</td>\n",
       "      <td>OPORTUNIDADE</td>\n",
       "    </tr>\n",
       "  </tbody>\n",
       "</table>\n",
       "</div>"
      ],
      "text/plain": [
       "        value                    name category            motor  \\\n",
       "0  R$ 338.000   LAMBORGHINI AVENTADOR    USADO    Motor 1.8 16v   \n",
       "1  R$ 346.000                  BMW M2    USADO    Motor 3.0 32v   \n",
       "2  R$ 480.000                    ALFA    USADO    Motor 1.8 16v   \n",
       "3  R$ 133.000                   PUECH    USADO  Motor Diesel V8   \n",
       "4  R$ 175.000  LAMBORGHINI MURCIELAGO    USADO     Motor 1.0 8v   \n",
       "5  R$ 239.000            ASTON MARTIN    USADO  Motor Diesel V6   \n",
       "6  R$ 115.000                     TVR    USADO  Motor 4.0 Turbo   \n",
       "7  R$ 114.000               EXCALIBUR    USADO    Motor 3.0 32v   \n",
       "8   R$ 75.000                 MCLAREN     NOVO     Motor Diesel   \n",
       "9  R$ 117.000                  TOYOTA    USADO  Motor 4.0 Turbo   \n",
       "\n",
       "            description             location  \\\n",
       "0  Ano 1993 - 55.286 km  Belo Horizonte - MG   \n",
       "1  Ano 2018 - 83.447 km  Belo Horizonte - MG   \n",
       "2  Ano 2004 - 19.722 km  Rio de Janeiro - RJ   \n",
       "3  Ano 1992 - 34.335 km       São Paulo - SP   \n",
       "4     Ano 1991 - 464 km  Belo Horizonte - MG   \n",
       "5  Ano 2004 - 50.189 km  Belo Horizonte - MG   \n",
       "6  Ano 2014 - 17.778 km  Belo Horizonte - MG   \n",
       "7  Ano 2009 - 81.251 km  Rio de Janeiro - RJ   \n",
       "8       Ano 2019 - 0 km       São Paulo - SP   \n",
       "9  Ano 1999 - 12.536 km       São Paulo - SP   \n",
       "\n",
       "                                               itens   opportunity  \n",
       "0  [ 4 X 4,  Câmera de estacionamento,  Controle ...           NaN  \n",
       "1  [ Câmera de estacionamento,  Controle de estab...           NaN  \n",
       "2  [ Central multimídia,  Bancos de couro,  Rodas...           NaN  \n",
       "3  [ Bancos de couro,  Freios ABS,  Rodas de liga...           NaN  \n",
       "4  [ Central multimídia,  Teto panorâmico,  Senso...           NaN  \n",
       "5  [ Painel digital,  Controle de tração,  Teto p...  OPORTUNIDADE  \n",
       "6  [ 4 X 4,  Teto panorâmico,  Central multimídia...           NaN  \n",
       "7  [ Painel digital,  Câmbio automático,  Sensor ...           NaN  \n",
       "8  [ Central multimídia,  Câmera de estacionament...           NaN  \n",
       "9  [ Bancos de couro,  Freios ABS,  Piloto automá...  OPORTUNIDADE  "
      ]
     },
     "execution_count": 122,
     "metadata": {},
     "output_type": "execute_result"
    }
   ],
   "source": [
    "from urllib.request import urlopen, urlretrieve\n",
    "from bs4 import BeautifulSoup\n",
    "import pandas as pd\n",
    "\n",
    "cards= []\n",
    "\n",
    "response = urlopen(\"https://alura-site-scraping.herokuapp.com/index.php\")\n",
    "html = response.read().decode('utf-8')\n",
    "soup = BeautifulSoup(html, 'html.parser')\n",
    "\n",
    "#tag de interesse\n",
    "anuncios =soup.find('div', {'id' : 'container-cards'}).findAll('div', class_ = 'card')\n",
    "\n",
    "\n",
    "#coletando informações\n",
    "for anuncio in anuncios:\n",
    "    card = {}\n",
    "    \n",
    "    #valor\n",
    "    card['value'] = anuncio.find('p',  {'class' : 'txt-value'}).get_text()\n",
    "\n",
    "    #informações\n",
    "    infos = anuncio.find('div', {'class' : 'body-card'}).findAll('p')\n",
    "    for info in infos:\n",
    "        card[info.get('class')[0].split('-')[-1]] = info.get_text()\n",
    "\n",
    "    #acessorios\n",
    "    itens = anuncio.find('div', {'class': 'body-card'}).ul.findAll('li')\n",
    "    itens.pop()\n",
    "    acessorios = []\n",
    "    for iten in itens:\n",
    "        acessorios.append(iten.get_text().replace('►', ''))\n",
    "        card['itens'] = acessorios\n",
    "    \n",
    "    #Adicionando a lista\n",
    "    cards.append(card)\n",
    "    #imagens\n",
    "    image =anuncio.find('div', {'class' : 'image-card'}).img\n",
    "    urlretrieve(image.get('src'), './output/img/' + image.get('src').split('/')[-1])\n",
    "    \n",
    "df = pd.DataFrame(cards)\n",
    "df.to_csv('./output/data/df.csv', sep = ';', index = False, encoding='utf-8-sig')\n",
    "df"
   ]
  },
  {
   "cell_type": "markdown",
   "metadata": {},
   "source": [
    "# <font color=green>7. WEB SCRAPING DO SITE ALURA MOTORS - OBTENDO OS DADOS DE TODOS OS ANÚNCIOS DO SITE"
   ]
  },
  {
   "cell_type": "markdown",
   "metadata": {},
   "source": [
    "# 7.1. Identificando as informações no HTML"
   ]
  },
  {
   "cell_type": "code",
   "execution_count": 123,
   "metadata": {},
   "outputs": [
    {
     "data": {
      "text/plain": [
       "<span class=\"info-pages\">Página 1 de 25</span>"
      ]
     },
     "execution_count": 123,
     "metadata": {},
     "output_type": "execute_result"
    }
   ],
   "source": [
    "soup.find('span',{'class' : 'info-pages'})"
   ]
  },
  {
   "cell_type": "code",
   "execution_count": 125,
   "metadata": {
    "scrolled": true
   },
   "outputs": [
    {
     "data": {
      "text/plain": [
       "['Página', '1', 'de', '25']"
      ]
     },
     "execution_count": 125,
     "metadata": {},
     "output_type": "execute_result"
    }
   ],
   "source": [
    "soup.find('span',{'class' : 'info-pages'}).get_text().split()"
   ]
  },
  {
   "cell_type": "code",
   "execution_count": 126,
   "metadata": {},
   "outputs": [
    {
     "data": {
      "text/plain": [
       "'25'"
      ]
     },
     "execution_count": 126,
     "metadata": {},
     "output_type": "execute_result"
    }
   ],
   "source": [
    "soup.find('span',{'class' : 'info-pages'}).get_text().split()[-1]"
   ]
  },
  {
   "cell_type": "code",
   "execution_count": 127,
   "metadata": {},
   "outputs": [
    {
     "data": {
      "text/plain": [
       "25"
      ]
     },
     "execution_count": 127,
     "metadata": {},
     "output_type": "execute_result"
    }
   ],
   "source": [
    "int(soup.find('span',{'class' : 'info-pages'}).get_text().split()[-1])"
   ]
  },
  {
   "cell_type": "markdown",
   "metadata": {},
   "source": [
    "# 7.2. Criando uma rotina de scraping"
   ]
  },
  {
   "cell_type": "code",
   "execution_count": 130,
   "metadata": {
    "scrolled": true
   },
   "outputs": [
    {
     "data": {
      "text/html": [
       "<div>\n",
       "<style scoped>\n",
       "    .dataframe tbody tr th:only-of-type {\n",
       "        vertical-align: middle;\n",
       "    }\n",
       "\n",
       "    .dataframe tbody tr th {\n",
       "        vertical-align: top;\n",
       "    }\n",
       "\n",
       "    .dataframe thead th {\n",
       "        text-align: right;\n",
       "    }\n",
       "</style>\n",
       "<table border=\"1\" class=\"dataframe\">\n",
       "  <thead>\n",
       "    <tr style=\"text-align: right;\">\n",
       "      <th></th>\n",
       "      <th>value</th>\n",
       "      <th>name</th>\n",
       "      <th>category</th>\n",
       "      <th>opportunity</th>\n",
       "      <th>motor</th>\n",
       "      <th>description</th>\n",
       "      <th>location</th>\n",
       "      <th>itens</th>\n",
       "    </tr>\n",
       "  </thead>\n",
       "  <tbody>\n",
       "    <tr>\n",
       "      <th>0</th>\n",
       "      <td>R$ 117.000</td>\n",
       "      <td>TOYOTA</td>\n",
       "      <td>USADO</td>\n",
       "      <td>OPORTUNIDADE</td>\n",
       "      <td>Motor 4.0 Turbo</td>\n",
       "      <td>Ano 1999 - 12.536 km</td>\n",
       "      <td>São Paulo - SP</td>\n",
       "      <td>[ Bancos de couro,  Freios ABS,  Piloto automá...</td>\n",
       "    </tr>\n",
       "    <tr>\n",
       "      <th>1</th>\n",
       "      <td>R$ 483.000</td>\n",
       "      <td>BMW M5</td>\n",
       "      <td>USADO</td>\n",
       "      <td>NaN</td>\n",
       "      <td>Motor 3.0 32v</td>\n",
       "      <td>Ano 2017 - 10.747 km</td>\n",
       "      <td>Rio de Janeiro - RJ</td>\n",
       "      <td>[ Painel digital,  Central multimídia,  Vidros...</td>\n",
       "    </tr>\n",
       "    <tr>\n",
       "      <th>2</th>\n",
       "      <td>R$ 356.000</td>\n",
       "      <td>AUDI R8</td>\n",
       "      <td>USADO</td>\n",
       "      <td>NaN</td>\n",
       "      <td>Motor 1.8 16v</td>\n",
       "      <td>Ano 1993 - 86.338 km</td>\n",
       "      <td>Belo Horizonte - MG</td>\n",
       "      <td>[ Painel digital,  Travas elétricas,  Vidros e...</td>\n",
       "    </tr>\n",
       "    <tr>\n",
       "      <th>3</th>\n",
       "      <td>R$ 61.000</td>\n",
       "      <td>MERCEDES BENZ 190 SL</td>\n",
       "      <td>USADO</td>\n",
       "      <td>OPORTUNIDADE</td>\n",
       "      <td>Motor 3.0 32v</td>\n",
       "      <td>Ano 1994 - 111.906 km</td>\n",
       "      <td>Belo Horizonte - MG</td>\n",
       "      <td>[ Câmbio automático,  Freios ABS,  Sensor crep...</td>\n",
       "    </tr>\n",
       "    <tr>\n",
       "      <th>4</th>\n",
       "      <td>R$ 396.000</td>\n",
       "      <td>CHRYSLER</td>\n",
       "      <td>NOVO</td>\n",
       "      <td>NaN</td>\n",
       "      <td>Motor 3.0 32v</td>\n",
       "      <td>Ano 2019 - 0 km</td>\n",
       "      <td>São Paulo - SP</td>\n",
       "      <td>[ 4 X 4,  Ar condicionado,  Câmera de estacion...</td>\n",
       "    </tr>\n",
       "    <tr>\n",
       "      <th>5</th>\n",
       "      <td>R$ 215.000</td>\n",
       "      <td>MERCEDES S CLASS</td>\n",
       "      <td>NOVO</td>\n",
       "      <td>NaN</td>\n",
       "      <td>Motor 2.4 Turbo</td>\n",
       "      <td>Ano 2019 - 0 km</td>\n",
       "      <td>São Paulo - SP</td>\n",
       "      <td>[ Central multimídia,  Câmera de estacionament...</td>\n",
       "    </tr>\n",
       "    <tr>\n",
       "      <th>6</th>\n",
       "      <td>R$ 396.000</td>\n",
       "      <td>MERCEDES BENZ</td>\n",
       "      <td>NOVO</td>\n",
       "      <td>NaN</td>\n",
       "      <td>Motor Diesel V6</td>\n",
       "      <td>Ano 2019 - 0 km</td>\n",
       "      <td>São Paulo - SP</td>\n",
       "      <td>[ Vidros elétricos,  Controle de tração,  Pain...</td>\n",
       "    </tr>\n",
       "    <tr>\n",
       "      <th>7</th>\n",
       "      <td>R$ 287.000</td>\n",
       "      <td>AMAZING</td>\n",
       "      <td>USADO</td>\n",
       "      <td>NaN</td>\n",
       "      <td>Motor 4.0 Turbo</td>\n",
       "      <td>Ano 2015 - 111.613 km</td>\n",
       "      <td>Rio de Janeiro - RJ</td>\n",
       "      <td>[ Controle de estabilidade,  Central multimídi...</td>\n",
       "    </tr>\n",
       "    <tr>\n",
       "      <th>8</th>\n",
       "      <td>R$ 201.000</td>\n",
       "      <td>OLDTIMERS</td>\n",
       "      <td>USADO</td>\n",
       "      <td>NaN</td>\n",
       "      <td>Motor Diesel</td>\n",
       "      <td>Ano 2015 - 41.735 km</td>\n",
       "      <td>Belo Horizonte - MG</td>\n",
       "      <td>[ Vidros elétricos,  Ar condicionado,  Control...</td>\n",
       "    </tr>\n",
       "    <tr>\n",
       "      <th>9</th>\n",
       "      <td>R$ 463.000</td>\n",
       "      <td>PAGANI HUAYRA</td>\n",
       "      <td>NOVO</td>\n",
       "      <td>NaN</td>\n",
       "      <td>Motor Diesel V8</td>\n",
       "      <td>Ano 2019 - 0 km</td>\n",
       "      <td>São Paulo - SP</td>\n",
       "      <td>[ Câmbio automático,  Freios ABS,  Sensor de c...</td>\n",
       "    </tr>\n",
       "    <tr>\n",
       "      <th>10</th>\n",
       "      <td>R$ 126.000</td>\n",
       "      <td>BOXSTER</td>\n",
       "      <td>USADO</td>\n",
       "      <td>NaN</td>\n",
       "      <td>Motor Diesel V6</td>\n",
       "      <td>Ano 2005 - 66.836 km</td>\n",
       "      <td>São Paulo - SP</td>\n",
       "      <td>[ 4 X 4,  Câmbio automático,  Painel digital, ...</td>\n",
       "    </tr>\n",
       "    <tr>\n",
       "      <th>11</th>\n",
       "      <td>R$ 332.000</td>\n",
       "      <td>PORSCHE TURBO</td>\n",
       "      <td>USADO</td>\n",
       "      <td>NaN</td>\n",
       "      <td>Motor 1.0 8v</td>\n",
       "      <td>Ano 1993 - 23.418 km</td>\n",
       "      <td>Rio de Janeiro - RJ</td>\n",
       "      <td>[ Travas elétricas,  Sensor de chuva,  Piloto ...</td>\n",
       "    </tr>\n",
       "    <tr>\n",
       "      <th>12</th>\n",
       "      <td>R$ 498.000</td>\n",
       "      <td>MERCEDES SLK55</td>\n",
       "      <td>NOVO</td>\n",
       "      <td>NaN</td>\n",
       "      <td>Motor Diesel V6</td>\n",
       "      <td>Ano 2019 - 0 km</td>\n",
       "      <td>Rio de Janeiro - RJ</td>\n",
       "      <td>[ Rodas de liga,  Câmera de estacionamento,  4...</td>\n",
       "    </tr>\n",
       "    <tr>\n",
       "      <th>13</th>\n",
       "      <td>R$ 102.000</td>\n",
       "      <td>SPORT CAR</td>\n",
       "      <td>NOVO</td>\n",
       "      <td>NaN</td>\n",
       "      <td>Motor V8</td>\n",
       "      <td>Ano 2019 - 0 km</td>\n",
       "      <td>São Paulo - SP</td>\n",
       "      <td>[ Ar condicionado,  Central multimídia,  Senso...</td>\n",
       "    </tr>\n",
       "    <tr>\n",
       "      <th>14</th>\n",
       "      <td>R$ 384.000</td>\n",
       "      <td>PEUGEOT</td>\n",
       "      <td>USADO</td>\n",
       "      <td>NaN</td>\n",
       "      <td>Motor 2.0 16v</td>\n",
       "      <td>Ano 2017 - 17.022 km</td>\n",
       "      <td>Belo Horizonte - MG</td>\n",
       "      <td>[ Rodas de liga,  Teto panorâmico,  Câmera de ...</td>\n",
       "    </tr>\n",
       "    <tr>\n",
       "      <th>15</th>\n",
       "      <td>R$ 434.000</td>\n",
       "      <td>RENAULT</td>\n",
       "      <td>USADO</td>\n",
       "      <td>NaN</td>\n",
       "      <td>Motor 5.0 V8 Bi-Turbo</td>\n",
       "      <td>Ano 1991 - 101.983 km</td>\n",
       "      <td>São Paulo - SP</td>\n",
       "      <td>[ Câmbio automático,  Sensor crepuscular,  Rod...</td>\n",
       "    </tr>\n",
       "    <tr>\n",
       "      <th>16</th>\n",
       "      <td>R$ 51.000</td>\n",
       "      <td>GMC YUKON</td>\n",
       "      <td>USADO</td>\n",
       "      <td>NaN</td>\n",
       "      <td>Motor 5.0 V8 Bi-Turbo</td>\n",
       "      <td>Ano 2017 - 24.757 km</td>\n",
       "      <td>São Paulo - SP</td>\n",
       "      <td>[ Sensor de estacionamento,  Rodas de liga,  C...</td>\n",
       "    </tr>\n",
       "    <tr>\n",
       "      <th>17</th>\n",
       "      <td>R$ 323.000</td>\n",
       "      <td>LAMBORGHINI MURCIELAGO SV</td>\n",
       "      <td>USADO</td>\n",
       "      <td>NaN</td>\n",
       "      <td>Motor Diesel V6</td>\n",
       "      <td>Ano 2005 - 96.423 km</td>\n",
       "      <td>São Paulo - SP</td>\n",
       "      <td>[ Câmbio automático,  Freios ABS,  Bancos de c...</td>\n",
       "    </tr>\n",
       "    <tr>\n",
       "      <th>18</th>\n",
       "      <td>R$ 105.000</td>\n",
       "      <td>COLD</td>\n",
       "      <td>USADO</td>\n",
       "      <td>OPORTUNIDADE</td>\n",
       "      <td>Motor 1.0 8v</td>\n",
       "      <td>Ano 2002 - 50.166 km</td>\n",
       "      <td>Belo Horizonte - MG</td>\n",
       "      <td>[ Câmbio automático,  Vidros elétricos,  Câmer...</td>\n",
       "    </tr>\n",
       "    <tr>\n",
       "      <th>19</th>\n",
       "      <td>R$ 357.000</td>\n",
       "      <td>CLASSIC MERCEDES</td>\n",
       "      <td>USADO</td>\n",
       "      <td>NaN</td>\n",
       "      <td>Motor 1.0 8v</td>\n",
       "      <td>Ano 2014 - 86.577 km</td>\n",
       "      <td>Belo Horizonte - MG</td>\n",
       "      <td>[ Vidros elétricos,  Bancos de couro,  Control...</td>\n",
       "    </tr>\n",
       "    <tr>\n",
       "      <th>20</th>\n",
       "      <td>R$ 376.000</td>\n",
       "      <td>PORSCHE 911 GT3</td>\n",
       "      <td>USADO</td>\n",
       "      <td>NaN</td>\n",
       "      <td>Motor Diesel V6</td>\n",
       "      <td>Ano 2009 - 86.538 km</td>\n",
       "      <td>Rio de Janeiro - RJ</td>\n",
       "      <td>[ 4 X 4,  Sensor de chuva,  Rodas de liga,  Ce...</td>\n",
       "    </tr>\n",
       "    <tr>\n",
       "      <th>21</th>\n",
       "      <td>R$ 353.000</td>\n",
       "      <td>LIMO</td>\n",
       "      <td>USADO</td>\n",
       "      <td>NaN</td>\n",
       "      <td>Motor V6</td>\n",
       "      <td>Ano 1990 - 92.448 km</td>\n",
       "      <td>Belo Horizonte - MG</td>\n",
       "      <td>[ Controle de estabilidade,  Câmbio automático...</td>\n",
       "    </tr>\n",
       "    <tr>\n",
       "      <th>22</th>\n",
       "      <td>R$ 492.000</td>\n",
       "      <td>JAGUAR</td>\n",
       "      <td>USADO</td>\n",
       "      <td>NaN</td>\n",
       "      <td>Motor V6</td>\n",
       "      <td>Ano 1991 - 117.377 km</td>\n",
       "      <td>Belo Horizonte - MG</td>\n",
       "      <td>[ Teto panorâmico,  Ar condicionado,  Vidros e...</td>\n",
       "    </tr>\n",
       "    <tr>\n",
       "      <th>23</th>\n",
       "      <td>R$ 192.000</td>\n",
       "      <td>CONVERTIBLE</td>\n",
       "      <td>USADO</td>\n",
       "      <td>OPORTUNIDADE</td>\n",
       "      <td>Motor V8</td>\n",
       "      <td>Ano 2008 - 42.427 km</td>\n",
       "      <td>Rio de Janeiro - RJ</td>\n",
       "      <td>[ Rodas de liga,  Freios ABS,  Câmera de estac...</td>\n",
       "    </tr>\n",
       "    <tr>\n",
       "      <th>24</th>\n",
       "      <td>R$ 366.000</td>\n",
       "      <td>KIA SPORTS CAR</td>\n",
       "      <td>USADO</td>\n",
       "      <td>NaN</td>\n",
       "      <td>Motor 3.0 32v</td>\n",
       "      <td>Ano 2001 - 88.564 km</td>\n",
       "      <td>Belo Horizonte - MG</td>\n",
       "      <td>[ Sensor crepuscular,  Bancos de couro,  Senso...</td>\n",
       "    </tr>\n",
       "  </tbody>\n",
       "</table>\n",
       "</div>"
      ],
      "text/plain": [
       "         value                       name category   opportunity  \\\n",
       "0   R$ 117.000                     TOYOTA    USADO  OPORTUNIDADE   \n",
       "1   R$ 483.000                     BMW M5    USADO           NaN   \n",
       "2   R$ 356.000                    AUDI R8    USADO           NaN   \n",
       "3    R$ 61.000       MERCEDES BENZ 190 SL    USADO  OPORTUNIDADE   \n",
       "4   R$ 396.000                   CHRYSLER     NOVO           NaN   \n",
       "5   R$ 215.000           MERCEDES S CLASS     NOVO           NaN   \n",
       "6   R$ 396.000              MERCEDES BENZ     NOVO           NaN   \n",
       "7   R$ 287.000                    AMAZING    USADO           NaN   \n",
       "8   R$ 201.000                  OLDTIMERS    USADO           NaN   \n",
       "9   R$ 463.000              PAGANI HUAYRA     NOVO           NaN   \n",
       "10  R$ 126.000                    BOXSTER    USADO           NaN   \n",
       "11  R$ 332.000              PORSCHE TURBO    USADO           NaN   \n",
       "12  R$ 498.000             MERCEDES SLK55     NOVO           NaN   \n",
       "13  R$ 102.000                  SPORT CAR     NOVO           NaN   \n",
       "14  R$ 384.000                    PEUGEOT    USADO           NaN   \n",
       "15  R$ 434.000                    RENAULT    USADO           NaN   \n",
       "16   R$ 51.000                  GMC YUKON    USADO           NaN   \n",
       "17  R$ 323.000  LAMBORGHINI MURCIELAGO SV    USADO           NaN   \n",
       "18  R$ 105.000                       COLD    USADO  OPORTUNIDADE   \n",
       "19  R$ 357.000           CLASSIC MERCEDES    USADO           NaN   \n",
       "20  R$ 376.000            PORSCHE 911 GT3    USADO           NaN   \n",
       "21  R$ 353.000                       LIMO    USADO           NaN   \n",
       "22  R$ 492.000                     JAGUAR    USADO           NaN   \n",
       "23  R$ 192.000                CONVERTIBLE    USADO  OPORTUNIDADE   \n",
       "24  R$ 366.000             KIA SPORTS CAR    USADO           NaN   \n",
       "\n",
       "                    motor            description             location  \\\n",
       "0         Motor 4.0 Turbo   Ano 1999 - 12.536 km       São Paulo - SP   \n",
       "1           Motor 3.0 32v   Ano 2017 - 10.747 km  Rio de Janeiro - RJ   \n",
       "2           Motor 1.8 16v   Ano 1993 - 86.338 km  Belo Horizonte - MG   \n",
       "3           Motor 3.0 32v  Ano 1994 - 111.906 km  Belo Horizonte - MG   \n",
       "4           Motor 3.0 32v        Ano 2019 - 0 km       São Paulo - SP   \n",
       "5         Motor 2.4 Turbo        Ano 2019 - 0 km       São Paulo - SP   \n",
       "6         Motor Diesel V6        Ano 2019 - 0 km       São Paulo - SP   \n",
       "7         Motor 4.0 Turbo  Ano 2015 - 111.613 km  Rio de Janeiro - RJ   \n",
       "8            Motor Diesel   Ano 2015 - 41.735 km  Belo Horizonte - MG   \n",
       "9         Motor Diesel V8        Ano 2019 - 0 km       São Paulo - SP   \n",
       "10        Motor Diesel V6   Ano 2005 - 66.836 km       São Paulo - SP   \n",
       "11           Motor 1.0 8v   Ano 1993 - 23.418 km  Rio de Janeiro - RJ   \n",
       "12        Motor Diesel V6        Ano 2019 - 0 km  Rio de Janeiro - RJ   \n",
       "13               Motor V8        Ano 2019 - 0 km       São Paulo - SP   \n",
       "14          Motor 2.0 16v   Ano 2017 - 17.022 km  Belo Horizonte - MG   \n",
       "15  Motor 5.0 V8 Bi-Turbo  Ano 1991 - 101.983 km       São Paulo - SP   \n",
       "16  Motor 5.0 V8 Bi-Turbo   Ano 2017 - 24.757 km       São Paulo - SP   \n",
       "17        Motor Diesel V6   Ano 2005 - 96.423 km       São Paulo - SP   \n",
       "18           Motor 1.0 8v   Ano 2002 - 50.166 km  Belo Horizonte - MG   \n",
       "19           Motor 1.0 8v   Ano 2014 - 86.577 km  Belo Horizonte - MG   \n",
       "20        Motor Diesel V6   Ano 2009 - 86.538 km  Rio de Janeiro - RJ   \n",
       "21               Motor V6   Ano 1990 - 92.448 km  Belo Horizonte - MG   \n",
       "22               Motor V6  Ano 1991 - 117.377 km  Belo Horizonte - MG   \n",
       "23               Motor V8   Ano 2008 - 42.427 km  Rio de Janeiro - RJ   \n",
       "24          Motor 3.0 32v   Ano 2001 - 88.564 km  Belo Horizonte - MG   \n",
       "\n",
       "                                                itens  \n",
       "0   [ Bancos de couro,  Freios ABS,  Piloto automá...  \n",
       "1   [ Painel digital,  Central multimídia,  Vidros...  \n",
       "2   [ Painel digital,  Travas elétricas,  Vidros e...  \n",
       "3   [ Câmbio automático,  Freios ABS,  Sensor crep...  \n",
       "4   [ 4 X 4,  Ar condicionado,  Câmera de estacion...  \n",
       "5   [ Central multimídia,  Câmera de estacionament...  \n",
       "6   [ Vidros elétricos,  Controle de tração,  Pain...  \n",
       "7   [ Controle de estabilidade,  Central multimídi...  \n",
       "8   [ Vidros elétricos,  Ar condicionado,  Control...  \n",
       "9   [ Câmbio automático,  Freios ABS,  Sensor de c...  \n",
       "10  [ 4 X 4,  Câmbio automático,  Painel digital, ...  \n",
       "11  [ Travas elétricas,  Sensor de chuva,  Piloto ...  \n",
       "12  [ Rodas de liga,  Câmera de estacionamento,  4...  \n",
       "13  [ Ar condicionado,  Central multimídia,  Senso...  \n",
       "14  [ Rodas de liga,  Teto panorâmico,  Câmera de ...  \n",
       "15  [ Câmbio automático,  Sensor crepuscular,  Rod...  \n",
       "16  [ Sensor de estacionamento,  Rodas de liga,  C...  \n",
       "17  [ Câmbio automático,  Freios ABS,  Bancos de c...  \n",
       "18  [ Câmbio automático,  Vidros elétricos,  Câmer...  \n",
       "19  [ Vidros elétricos,  Bancos de couro,  Control...  \n",
       "20  [ 4 X 4,  Sensor de chuva,  Rodas de liga,  Ce...  \n",
       "21  [ Controle de estabilidade,  Câmbio automático...  \n",
       "22  [ Teto panorâmico,  Ar condicionado,  Vidros e...  \n",
       "23  [ Rodas de liga,  Freios ABS,  Câmera de estac...  \n",
       "24  [ Sensor crepuscular,  Bancos de couro,  Senso...  "
      ]
     },
     "execution_count": 130,
     "metadata": {},
     "output_type": "execute_result"
    }
   ],
   "source": [
    "cards= []\n",
    "\n",
    "response = urlopen(\"https://alura-site-scraping.herokuapp.com/index.php\")\n",
    "html = response.read().decode('utf-8')\n",
    "soup = BeautifulSoup(html, 'html.parser')\n",
    "pages = int(soup.find('span',{'class' : 'info-pages'}).get_text().split()[-1])\n",
    "\n",
    "\n",
    "\n",
    "\n",
    "for i in range(pages):\n",
    "        response = urlopen(\"https://alura-site-scraping.herokuapp.com/index.php?page=\" + str(i + 1))\n",
    "        html = response.read().decode('utf-8')\n",
    "        soup = BeautifulSoup(html, 'html.parser')\n",
    "        \n",
    "        #tag de interesse\n",
    "        anuncios =soup.find('div', {'id' : 'container-cards'}).findAll('div', class_ = 'card')\n",
    "    #coletando informações\n",
    "        for anuncio in anuncios:\n",
    "            card = {}\n",
    "    \n",
    "        #valor\n",
    "        card['value'] = anuncio.find('p',  {'class' : 'txt-value'}).get_text()\n",
    "\n",
    "        #informações\n",
    "        infos = anuncio.find('div', {'class' : 'body-card'}).findAll('p')\n",
    "        for info in infos:\n",
    "            card[info.get('class')[0].split('-')[-1]] = info.get_text()\n",
    "\n",
    "        #acessorios\n",
    "        itens = anuncio.find('div', {'class': 'body-card'}).ul.findAll('li')\n",
    "        itens.pop()\n",
    "        acessorios = []\n",
    "        for iten in itens:\n",
    "            acessorios.append(iten.get_text().replace('►', ''))\n",
    "            card['itens'] = acessorios\n",
    "        \n",
    "        #Adicionando a lista\n",
    "        cards.append(card)\n",
    "        \n",
    "        #imagens\n",
    "        image =anuncio.find('div', {'class' : 'image-card'}).img\n",
    "        urlretrieve(image.get('src'), './output/img/' + image.get('src').split('/')[-1])\n",
    "    \n",
    "df = pd.DataFrame(cards)\n",
    "df.to_csv('./output/data/df.csv', sep = ';', index = False, encoding='utf-8-sig')\n",
    "df"
   ]
  },
  {
   "cell_type": "code",
   "execution_count": 135,
   "metadata": {},
   "outputs": [
    {
     "data": {
      "text/html": [
       "<div>\n",
       "<style scoped>\n",
       "    .dataframe tbody tr th:only-of-type {\n",
       "        vertical-align: middle;\n",
       "    }\n",
       "\n",
       "    .dataframe tbody tr th {\n",
       "        vertical-align: top;\n",
       "    }\n",
       "\n",
       "    .dataframe thead th {\n",
       "        text-align: right;\n",
       "    }\n",
       "</style>\n",
       "<table border=\"1\" class=\"dataframe\">\n",
       "  <thead>\n",
       "    <tr style=\"text-align: right;\">\n",
       "      <th></th>\n",
       "      <th>value</th>\n",
       "      <th>name</th>\n",
       "      <th>category</th>\n",
       "      <th>motor</th>\n",
       "      <th>description</th>\n",
       "      <th>location</th>\n",
       "      <th>items</th>\n",
       "      <th>opportunity</th>\n",
       "    </tr>\n",
       "  </thead>\n",
       "  <tbody>\n",
       "    <tr>\n",
       "      <th>0</th>\n",
       "      <td>R$ 432.000</td>\n",
       "      <td>ROLLAND PILAIN</td>\n",
       "      <td>USADO</td>\n",
       "      <td>Motor 1.8 16v</td>\n",
       "      <td>Ano 2006 - 15.128 km</td>\n",
       "      <td>São Paulo - SP</td>\n",
       "      <td>[Painel digital, Câmbio automático, Sensor cre...</td>\n",
       "      <td>NaN</td>\n",
       "    </tr>\n",
       "    <tr>\n",
       "      <th>1</th>\n",
       "      <td>R$ 432.000</td>\n",
       "      <td>ROLLAND PILAIN</td>\n",
       "      <td>USADO</td>\n",
       "      <td>Motor 1.8 16v</td>\n",
       "      <td>Ano 2006 - 15.128 km</td>\n",
       "      <td>São Paulo - SP</td>\n",
       "      <td>[Painel digital, Câmbio automático, Sensor cre...</td>\n",
       "      <td>NaN</td>\n",
       "    </tr>\n",
       "    <tr>\n",
       "      <th>2</th>\n",
       "      <td>R$ 432.000</td>\n",
       "      <td>ROLLAND PILAIN</td>\n",
       "      <td>USADO</td>\n",
       "      <td>Motor 1.8 16v</td>\n",
       "      <td>Ano 2006 - 15.128 km</td>\n",
       "      <td>São Paulo - SP</td>\n",
       "      <td>[Painel digital, Câmbio automático, Sensor cre...</td>\n",
       "      <td>NaN</td>\n",
       "    </tr>\n",
       "    <tr>\n",
       "      <th>3</th>\n",
       "      <td>R$ 432.000</td>\n",
       "      <td>ROLLAND PILAIN</td>\n",
       "      <td>USADO</td>\n",
       "      <td>Motor 1.8 16v</td>\n",
       "      <td>Ano 2006 - 15.128 km</td>\n",
       "      <td>São Paulo - SP</td>\n",
       "      <td>[Painel digital, Câmbio automático, Sensor cre...</td>\n",
       "      <td>NaN</td>\n",
       "    </tr>\n",
       "    <tr>\n",
       "      <th>4</th>\n",
       "      <td>R$ 489.000</td>\n",
       "      <td>SUV REAR TIRE</td>\n",
       "      <td>USADO</td>\n",
       "      <td>Motor 3.0 32v</td>\n",
       "      <td>Ano 1998 - 74.292 km</td>\n",
       "      <td>São Paulo - SP</td>\n",
       "      <td>[Câmera de estacionamento, Rodas de liga, Sens...</td>\n",
       "      <td>NaN</td>\n",
       "    </tr>\n",
       "    <tr>\n",
       "      <th>...</th>\n",
       "      <td>...</td>\n",
       "      <td>...</td>\n",
       "      <td>...</td>\n",
       "      <td>...</td>\n",
       "      <td>...</td>\n",
       "      <td>...</td>\n",
       "      <td>...</td>\n",
       "      <td>...</td>\n",
       "    </tr>\n",
       "    <tr>\n",
       "      <th>595</th>\n",
       "      <td>R$ 474.000</td>\n",
       "      <td>IMPERIAL</td>\n",
       "      <td>USADO</td>\n",
       "      <td>Motor 1.8 16v</td>\n",
       "      <td>Ano 2011 - 101.787 km</td>\n",
       "      <td>Belo Horizonte - MG</td>\n",
       "      <td>[Painel digital, Travas elétricas, Sensor de c...</td>\n",
       "      <td>OPORTUNIDADE</td>\n",
       "    </tr>\n",
       "    <tr>\n",
       "      <th>596</th>\n",
       "      <td>R$ 366.000</td>\n",
       "      <td>KIA SPORTS CAR</td>\n",
       "      <td>USADO</td>\n",
       "      <td>Motor 3.0 32v</td>\n",
       "      <td>Ano 2001 - 88.564 km</td>\n",
       "      <td>Belo Horizonte - MG</td>\n",
       "      <td>[Sensor crepuscular, Bancos de couro, Sensor d...</td>\n",
       "      <td>NaN</td>\n",
       "    </tr>\n",
       "    <tr>\n",
       "      <th>597</th>\n",
       "      <td>R$ 366.000</td>\n",
       "      <td>KIA SPORTS CAR</td>\n",
       "      <td>USADO</td>\n",
       "      <td>Motor 3.0 32v</td>\n",
       "      <td>Ano 2001 - 88.564 km</td>\n",
       "      <td>Belo Horizonte - MG</td>\n",
       "      <td>[Sensor crepuscular, Bancos de couro, Sensor d...</td>\n",
       "      <td>NaN</td>\n",
       "    </tr>\n",
       "    <tr>\n",
       "      <th>598</th>\n",
       "      <td>R$ 366.000</td>\n",
       "      <td>KIA SPORTS CAR</td>\n",
       "      <td>USADO</td>\n",
       "      <td>Motor 3.0 32v</td>\n",
       "      <td>Ano 2001 - 88.564 km</td>\n",
       "      <td>Belo Horizonte - MG</td>\n",
       "      <td>[Sensor crepuscular, Bancos de couro, Sensor d...</td>\n",
       "      <td>NaN</td>\n",
       "    </tr>\n",
       "    <tr>\n",
       "      <th>599</th>\n",
       "      <td>R$ 366.000</td>\n",
       "      <td>KIA SPORTS CAR</td>\n",
       "      <td>USADO</td>\n",
       "      <td>Motor 3.0 32v</td>\n",
       "      <td>Ano 2001 - 88.564 km</td>\n",
       "      <td>Belo Horizonte - MG</td>\n",
       "      <td>[Sensor crepuscular, Bancos de couro, Sensor d...</td>\n",
       "      <td>NaN</td>\n",
       "    </tr>\n",
       "  </tbody>\n",
       "</table>\n",
       "<p>600 rows × 8 columns</p>\n",
       "</div>"
      ],
      "text/plain": [
       "          value            name category          motor  \\\n",
       "0    R$ 432.000  ROLLAND PILAIN    USADO  Motor 1.8 16v   \n",
       "1    R$ 432.000  ROLLAND PILAIN    USADO  Motor 1.8 16v   \n",
       "2    R$ 432.000  ROLLAND PILAIN    USADO  Motor 1.8 16v   \n",
       "3    R$ 432.000  ROLLAND PILAIN    USADO  Motor 1.8 16v   \n",
       "4    R$ 489.000   SUV REAR TIRE    USADO  Motor 3.0 32v   \n",
       "..          ...             ...      ...            ...   \n",
       "595  R$ 474.000        IMPERIAL    USADO  Motor 1.8 16v   \n",
       "596  R$ 366.000  KIA SPORTS CAR    USADO  Motor 3.0 32v   \n",
       "597  R$ 366.000  KIA SPORTS CAR    USADO  Motor 3.0 32v   \n",
       "598  R$ 366.000  KIA SPORTS CAR    USADO  Motor 3.0 32v   \n",
       "599  R$ 366.000  KIA SPORTS CAR    USADO  Motor 3.0 32v   \n",
       "\n",
       "               description             location  \\\n",
       "0     Ano 2006 - 15.128 km       São Paulo - SP   \n",
       "1     Ano 2006 - 15.128 km       São Paulo - SP   \n",
       "2     Ano 2006 - 15.128 km       São Paulo - SP   \n",
       "3     Ano 2006 - 15.128 km       São Paulo - SP   \n",
       "4     Ano 1998 - 74.292 km       São Paulo - SP   \n",
       "..                     ...                  ...   \n",
       "595  Ano 2011 - 101.787 km  Belo Horizonte - MG   \n",
       "596   Ano 2001 - 88.564 km  Belo Horizonte - MG   \n",
       "597   Ano 2001 - 88.564 km  Belo Horizonte - MG   \n",
       "598   Ano 2001 - 88.564 km  Belo Horizonte - MG   \n",
       "599   Ano 2001 - 88.564 km  Belo Horizonte - MG   \n",
       "\n",
       "                                                 items   opportunity  \n",
       "0    [Painel digital, Câmbio automático, Sensor cre...           NaN  \n",
       "1    [Painel digital, Câmbio automático, Sensor cre...           NaN  \n",
       "2    [Painel digital, Câmbio automático, Sensor cre...           NaN  \n",
       "3    [Painel digital, Câmbio automático, Sensor cre...           NaN  \n",
       "4    [Câmera de estacionamento, Rodas de liga, Sens...           NaN  \n",
       "..                                                 ...           ...  \n",
       "595  [Painel digital, Travas elétricas, Sensor de c...  OPORTUNIDADE  \n",
       "596  [Sensor crepuscular, Bancos de couro, Sensor d...           NaN  \n",
       "597  [Sensor crepuscular, Bancos de couro, Sensor d...           NaN  \n",
       "598  [Sensor crepuscular, Bancos de couro, Sensor d...           NaN  \n",
       "599  [Sensor crepuscular, Bancos de couro, Sensor d...           NaN  \n",
       "\n",
       "[600 rows x 8 columns]"
      ]
     },
     "execution_count": 135,
     "metadata": {},
     "output_type": "execute_result"
    }
   ],
   "source": [
    "# Importando bibliotecas\n",
    "from urllib.request import urlopen, urlretrieve\n",
    "from bs4 import BeautifulSoup\n",
    "import pandas as pd\n",
    "\n",
    "# Declarando variável cards\n",
    "cards = []\n",
    "\n",
    "## Obtendo o HTML e o total de páginas\n",
    "response = urlopen('https://alura-site-scraping.herokuapp.com/index.php')\n",
    "html = response.read().decode('utf-8')\n",
    "soup = BeautifulSoup(html, 'html.parser')\n",
    "pages = int(soup.find('span', class_=\"info-pages\").get_text().split()[-1])\n",
    "\n",
    "## Iterando por todas as páginas do site\n",
    "for i in range(pages):\n",
    "    ## Obtendo o HTML\n",
    "    ## Iterando por todas as páginas do site\n",
    "    for i in range(pages):\n",
    "    ## Obtendo o HTML\n",
    "        response = urlopen('https://alura-site-scraping.herokuapp.com/index.php?page=' + str(i  + 1))\n",
    "        html = response.read().decode('utf-8')\n",
    "        soup = BeautifulSoup(html, 'html.parser')\n",
    "\n",
    "    # Obtendo as TAGs de interesse\n",
    "    anuncios = soup.find('div', {\"id\": \"container-cards\"}).findAll('div', class_=\"card\")\n",
    "\n",
    "    # Coletando as informações dos CARDS\n",
    "    for anuncio in anuncios:\n",
    "        card = {}\n",
    "\n",
    "        # Valor\n",
    "        card['value'] = anuncio.find('p', {'class': 'txt-value'}).getText()\n",
    "\n",
    "        # Informações\n",
    "        infos = anuncio.find('div', {'class': 'body-card'}).findAll('p')\n",
    "        for info in infos:\n",
    "                card[info.get('class')[0].split('-')[-1]] = info.get_text()\n",
    "\n",
    "        # Acessórios\n",
    "        items = anuncio.find('div', {'class': 'body-card'}).ul.findAll('li')\n",
    "        items.pop()\n",
    "        acessorios = []\n",
    "        for item in items:\n",
    "            acessorios.append(item.get_text().replace('► ', ''))\n",
    "            card['items'] = acessorios\n",
    "\n",
    "            # Adicionando resultado a lista cards\n",
    "            cards.append(card)\n",
    "\n",
    "            # Imagens\n",
    "            image = anuncio.find('div', {'class': 'image-card'}).img\n",
    "            urlretrieve(image.get('src'), './output/img/' + image.get('src').split('/')[-1])     \n",
    "\n",
    "# Criando um DataFrame com os resultados\n",
    "dataset = pd.DataFrame(cards)\n",
    "dataset.to_csv('./output/data/dataset.csv', sep=';', index = False, encoding = 'utf-8-sig')\n",
    "dataset"
   ]
  },
  {
   "cell_type": "code",
   "execution_count": 136,
   "metadata": {},
   "outputs": [
    {
     "data": {
      "text/html": [
       "<div>\n",
       "<style scoped>\n",
       "    .dataframe tbody tr th:only-of-type {\n",
       "        vertical-align: middle;\n",
       "    }\n",
       "\n",
       "    .dataframe tbody tr th {\n",
       "        vertical-align: top;\n",
       "    }\n",
       "\n",
       "    .dataframe thead th {\n",
       "        text-align: right;\n",
       "    }\n",
       "</style>\n",
       "<table border=\"1\" class=\"dataframe\">\n",
       "  <thead>\n",
       "    <tr style=\"text-align: right;\">\n",
       "      <th></th>\n",
       "      <th>value</th>\n",
       "      <th>name</th>\n",
       "      <th>category</th>\n",
       "      <th>motor</th>\n",
       "      <th>description</th>\n",
       "      <th>location</th>\n",
       "      <th>items</th>\n",
       "      <th>opportunity</th>\n",
       "    </tr>\n",
       "  </thead>\n",
       "  <tbody>\n",
       "    <tr>\n",
       "      <th>0</th>\n",
       "      <td>False</td>\n",
       "      <td>False</td>\n",
       "      <td>False</td>\n",
       "      <td>False</td>\n",
       "      <td>False</td>\n",
       "      <td>False</td>\n",
       "      <td>False</td>\n",
       "      <td>True</td>\n",
       "    </tr>\n",
       "    <tr>\n",
       "      <th>1</th>\n",
       "      <td>False</td>\n",
       "      <td>False</td>\n",
       "      <td>False</td>\n",
       "      <td>False</td>\n",
       "      <td>False</td>\n",
       "      <td>False</td>\n",
       "      <td>False</td>\n",
       "      <td>True</td>\n",
       "    </tr>\n",
       "    <tr>\n",
       "      <th>2</th>\n",
       "      <td>False</td>\n",
       "      <td>False</td>\n",
       "      <td>False</td>\n",
       "      <td>False</td>\n",
       "      <td>False</td>\n",
       "      <td>False</td>\n",
       "      <td>False</td>\n",
       "      <td>True</td>\n",
       "    </tr>\n",
       "    <tr>\n",
       "      <th>3</th>\n",
       "      <td>False</td>\n",
       "      <td>False</td>\n",
       "      <td>False</td>\n",
       "      <td>False</td>\n",
       "      <td>False</td>\n",
       "      <td>False</td>\n",
       "      <td>False</td>\n",
       "      <td>True</td>\n",
       "    </tr>\n",
       "    <tr>\n",
       "      <th>4</th>\n",
       "      <td>False</td>\n",
       "      <td>False</td>\n",
       "      <td>False</td>\n",
       "      <td>False</td>\n",
       "      <td>False</td>\n",
       "      <td>False</td>\n",
       "      <td>False</td>\n",
       "      <td>True</td>\n",
       "    </tr>\n",
       "    <tr>\n",
       "      <th>...</th>\n",
       "      <td>...</td>\n",
       "      <td>...</td>\n",
       "      <td>...</td>\n",
       "      <td>...</td>\n",
       "      <td>...</td>\n",
       "      <td>...</td>\n",
       "      <td>...</td>\n",
       "      <td>...</td>\n",
       "    </tr>\n",
       "    <tr>\n",
       "      <th>595</th>\n",
       "      <td>False</td>\n",
       "      <td>False</td>\n",
       "      <td>False</td>\n",
       "      <td>False</td>\n",
       "      <td>False</td>\n",
       "      <td>False</td>\n",
       "      <td>False</td>\n",
       "      <td>False</td>\n",
       "    </tr>\n",
       "    <tr>\n",
       "      <th>596</th>\n",
       "      <td>False</td>\n",
       "      <td>False</td>\n",
       "      <td>False</td>\n",
       "      <td>False</td>\n",
       "      <td>False</td>\n",
       "      <td>False</td>\n",
       "      <td>False</td>\n",
       "      <td>True</td>\n",
       "    </tr>\n",
       "    <tr>\n",
       "      <th>597</th>\n",
       "      <td>False</td>\n",
       "      <td>False</td>\n",
       "      <td>False</td>\n",
       "      <td>False</td>\n",
       "      <td>False</td>\n",
       "      <td>False</td>\n",
       "      <td>False</td>\n",
       "      <td>True</td>\n",
       "    </tr>\n",
       "    <tr>\n",
       "      <th>598</th>\n",
       "      <td>False</td>\n",
       "      <td>False</td>\n",
       "      <td>False</td>\n",
       "      <td>False</td>\n",
       "      <td>False</td>\n",
       "      <td>False</td>\n",
       "      <td>False</td>\n",
       "      <td>True</td>\n",
       "    </tr>\n",
       "    <tr>\n",
       "      <th>599</th>\n",
       "      <td>False</td>\n",
       "      <td>False</td>\n",
       "      <td>False</td>\n",
       "      <td>False</td>\n",
       "      <td>False</td>\n",
       "      <td>False</td>\n",
       "      <td>False</td>\n",
       "      <td>True</td>\n",
       "    </tr>\n",
       "  </tbody>\n",
       "</table>\n",
       "<p>600 rows × 8 columns</p>\n",
       "</div>"
      ],
      "text/plain": [
       "     value   name  category  motor  description  location  items  opportunity\n",
       "0    False  False     False  False        False     False  False         True\n",
       "1    False  False     False  False        False     False  False         True\n",
       "2    False  False     False  False        False     False  False         True\n",
       "3    False  False     False  False        False     False  False         True\n",
       "4    False  False     False  False        False     False  False         True\n",
       "..     ...    ...       ...    ...          ...       ...    ...          ...\n",
       "595  False  False     False  False        False     False  False        False\n",
       "596  False  False     False  False        False     False  False         True\n",
       "597  False  False     False  False        False     False  False         True\n",
       "598  False  False     False  False        False     False  False         True\n",
       "599  False  False     False  False        False     False  False         True\n",
       "\n",
       "[600 rows x 8 columns]"
      ]
     },
     "execution_count": 136,
     "metadata": {},
     "output_type": "execute_result"
    }
   ],
   "source": [
    "dataset.isnull()"
   ]
  },
  {
   "cell_type": "code",
   "execution_count": 137,
   "metadata": {},
   "outputs": [
    {
     "data": {
      "text/html": [
       "<div>\n",
       "<style scoped>\n",
       "    .dataframe tbody tr th:only-of-type {\n",
       "        vertical-align: middle;\n",
       "    }\n",
       "\n",
       "    .dataframe tbody tr th {\n",
       "        vertical-align: top;\n",
       "    }\n",
       "\n",
       "    .dataframe thead th {\n",
       "        text-align: right;\n",
       "    }\n",
       "</style>\n",
       "<table border=\"1\" class=\"dataframe\">\n",
       "  <thead>\n",
       "    <tr style=\"text-align: right;\">\n",
       "      <th></th>\n",
       "      <th>value</th>\n",
       "      <th>name</th>\n",
       "      <th>category</th>\n",
       "      <th>motor</th>\n",
       "      <th>description</th>\n",
       "      <th>location</th>\n",
       "      <th>items</th>\n",
       "      <th>opportunity</th>\n",
       "    </tr>\n",
       "  </thead>\n",
       "  <tbody>\n",
       "    <tr>\n",
       "      <th>0</th>\n",
       "      <td>R$ 432.000</td>\n",
       "      <td>ROLLAND PILAIN</td>\n",
       "      <td>USADO</td>\n",
       "      <td>Motor 1.8 16v</td>\n",
       "      <td>Ano 2006 - 15.128 km</td>\n",
       "      <td>São Paulo - SP</td>\n",
       "      <td>[Painel digital, Câmbio automático, Sensor cre...</td>\n",
       "      <td>not</td>\n",
       "    </tr>\n",
       "    <tr>\n",
       "      <th>1</th>\n",
       "      <td>R$ 432.000</td>\n",
       "      <td>ROLLAND PILAIN</td>\n",
       "      <td>USADO</td>\n",
       "      <td>Motor 1.8 16v</td>\n",
       "      <td>Ano 2006 - 15.128 km</td>\n",
       "      <td>São Paulo - SP</td>\n",
       "      <td>[Painel digital, Câmbio automático, Sensor cre...</td>\n",
       "      <td>not</td>\n",
       "    </tr>\n",
       "    <tr>\n",
       "      <th>2</th>\n",
       "      <td>R$ 432.000</td>\n",
       "      <td>ROLLAND PILAIN</td>\n",
       "      <td>USADO</td>\n",
       "      <td>Motor 1.8 16v</td>\n",
       "      <td>Ano 2006 - 15.128 km</td>\n",
       "      <td>São Paulo - SP</td>\n",
       "      <td>[Painel digital, Câmbio automático, Sensor cre...</td>\n",
       "      <td>not</td>\n",
       "    </tr>\n",
       "    <tr>\n",
       "      <th>3</th>\n",
       "      <td>R$ 432.000</td>\n",
       "      <td>ROLLAND PILAIN</td>\n",
       "      <td>USADO</td>\n",
       "      <td>Motor 1.8 16v</td>\n",
       "      <td>Ano 2006 - 15.128 km</td>\n",
       "      <td>São Paulo - SP</td>\n",
       "      <td>[Painel digital, Câmbio automático, Sensor cre...</td>\n",
       "      <td>not</td>\n",
       "    </tr>\n",
       "    <tr>\n",
       "      <th>4</th>\n",
       "      <td>R$ 489.000</td>\n",
       "      <td>SUV REAR TIRE</td>\n",
       "      <td>USADO</td>\n",
       "      <td>Motor 3.0 32v</td>\n",
       "      <td>Ano 1998 - 74.292 km</td>\n",
       "      <td>São Paulo - SP</td>\n",
       "      <td>[Câmera de estacionamento, Rodas de liga, Sens...</td>\n",
       "      <td>not</td>\n",
       "    </tr>\n",
       "    <tr>\n",
       "      <th>...</th>\n",
       "      <td>...</td>\n",
       "      <td>...</td>\n",
       "      <td>...</td>\n",
       "      <td>...</td>\n",
       "      <td>...</td>\n",
       "      <td>...</td>\n",
       "      <td>...</td>\n",
       "      <td>...</td>\n",
       "    </tr>\n",
       "    <tr>\n",
       "      <th>595</th>\n",
       "      <td>R$ 474.000</td>\n",
       "      <td>IMPERIAL</td>\n",
       "      <td>USADO</td>\n",
       "      <td>Motor 1.8 16v</td>\n",
       "      <td>Ano 2011 - 101.787 km</td>\n",
       "      <td>Belo Horizonte - MG</td>\n",
       "      <td>[Painel digital, Travas elétricas, Sensor de c...</td>\n",
       "      <td>OPORTUNIDADE</td>\n",
       "    </tr>\n",
       "    <tr>\n",
       "      <th>596</th>\n",
       "      <td>R$ 366.000</td>\n",
       "      <td>KIA SPORTS CAR</td>\n",
       "      <td>USADO</td>\n",
       "      <td>Motor 3.0 32v</td>\n",
       "      <td>Ano 2001 - 88.564 km</td>\n",
       "      <td>Belo Horizonte - MG</td>\n",
       "      <td>[Sensor crepuscular, Bancos de couro, Sensor d...</td>\n",
       "      <td>not</td>\n",
       "    </tr>\n",
       "    <tr>\n",
       "      <th>597</th>\n",
       "      <td>R$ 366.000</td>\n",
       "      <td>KIA SPORTS CAR</td>\n",
       "      <td>USADO</td>\n",
       "      <td>Motor 3.0 32v</td>\n",
       "      <td>Ano 2001 - 88.564 km</td>\n",
       "      <td>Belo Horizonte - MG</td>\n",
       "      <td>[Sensor crepuscular, Bancos de couro, Sensor d...</td>\n",
       "      <td>not</td>\n",
       "    </tr>\n",
       "    <tr>\n",
       "      <th>598</th>\n",
       "      <td>R$ 366.000</td>\n",
       "      <td>KIA SPORTS CAR</td>\n",
       "      <td>USADO</td>\n",
       "      <td>Motor 3.0 32v</td>\n",
       "      <td>Ano 2001 - 88.564 km</td>\n",
       "      <td>Belo Horizonte - MG</td>\n",
       "      <td>[Sensor crepuscular, Bancos de couro, Sensor d...</td>\n",
       "      <td>not</td>\n",
       "    </tr>\n",
       "    <tr>\n",
       "      <th>599</th>\n",
       "      <td>R$ 366.000</td>\n",
       "      <td>KIA SPORTS CAR</td>\n",
       "      <td>USADO</td>\n",
       "      <td>Motor 3.0 32v</td>\n",
       "      <td>Ano 2001 - 88.564 km</td>\n",
       "      <td>Belo Horizonte - MG</td>\n",
       "      <td>[Sensor crepuscular, Bancos de couro, Sensor d...</td>\n",
       "      <td>not</td>\n",
       "    </tr>\n",
       "  </tbody>\n",
       "</table>\n",
       "<p>600 rows × 8 columns</p>\n",
       "</div>"
      ],
      "text/plain": [
       "          value            name category          motor  \\\n",
       "0    R$ 432.000  ROLLAND PILAIN    USADO  Motor 1.8 16v   \n",
       "1    R$ 432.000  ROLLAND PILAIN    USADO  Motor 1.8 16v   \n",
       "2    R$ 432.000  ROLLAND PILAIN    USADO  Motor 1.8 16v   \n",
       "3    R$ 432.000  ROLLAND PILAIN    USADO  Motor 1.8 16v   \n",
       "4    R$ 489.000   SUV REAR TIRE    USADO  Motor 3.0 32v   \n",
       "..          ...             ...      ...            ...   \n",
       "595  R$ 474.000        IMPERIAL    USADO  Motor 1.8 16v   \n",
       "596  R$ 366.000  KIA SPORTS CAR    USADO  Motor 3.0 32v   \n",
       "597  R$ 366.000  KIA SPORTS CAR    USADO  Motor 3.0 32v   \n",
       "598  R$ 366.000  KIA SPORTS CAR    USADO  Motor 3.0 32v   \n",
       "599  R$ 366.000  KIA SPORTS CAR    USADO  Motor 3.0 32v   \n",
       "\n",
       "               description             location  \\\n",
       "0     Ano 2006 - 15.128 km       São Paulo - SP   \n",
       "1     Ano 2006 - 15.128 km       São Paulo - SP   \n",
       "2     Ano 2006 - 15.128 km       São Paulo - SP   \n",
       "3     Ano 2006 - 15.128 km       São Paulo - SP   \n",
       "4     Ano 1998 - 74.292 km       São Paulo - SP   \n",
       "..                     ...                  ...   \n",
       "595  Ano 2011 - 101.787 km  Belo Horizonte - MG   \n",
       "596   Ano 2001 - 88.564 km  Belo Horizonte - MG   \n",
       "597   Ano 2001 - 88.564 km  Belo Horizonte - MG   \n",
       "598   Ano 2001 - 88.564 km  Belo Horizonte - MG   \n",
       "599   Ano 2001 - 88.564 km  Belo Horizonte - MG   \n",
       "\n",
       "                                                 items   opportunity  \n",
       "0    [Painel digital, Câmbio automático, Sensor cre...           not  \n",
       "1    [Painel digital, Câmbio automático, Sensor cre...           not  \n",
       "2    [Painel digital, Câmbio automático, Sensor cre...           not  \n",
       "3    [Painel digital, Câmbio automático, Sensor cre...           not  \n",
       "4    [Câmera de estacionamento, Rodas de liga, Sens...           not  \n",
       "..                                                 ...           ...  \n",
       "595  [Painel digital, Travas elétricas, Sensor de c...  OPORTUNIDADE  \n",
       "596  [Sensor crepuscular, Bancos de couro, Sensor d...           not  \n",
       "597  [Sensor crepuscular, Bancos de couro, Sensor d...           not  \n",
       "598  [Sensor crepuscular, Bancos de couro, Sensor d...           not  \n",
       "599  [Sensor crepuscular, Bancos de couro, Sensor d...           not  \n",
       "\n",
       "[600 rows x 8 columns]"
      ]
     },
     "execution_count": 137,
     "metadata": {},
     "output_type": "execute_result"
    }
   ],
   "source": [
    "dataset.fillna('not')"
   ]
  },
  {
   "cell_type": "code",
   "execution_count": null,
   "metadata": {},
   "outputs": [],
   "source": []
  },
  {
   "cell_type": "code",
   "execution_count": null,
   "metadata": {},
   "outputs": [],
   "source": []
  }
 ],
 "metadata": {
  "colab": {
   "name": "Untitled12.ipynb",
   "provenance": [],
   "version": "0.3.2"
  },
  "kernelspec": {
   "display_name": "Python 3 (ipykernel)",
   "language": "python",
   "name": "python3"
  },
  "language_info": {
   "codemirror_mode": {
    "name": "ipython",
    "version": 3
   },
   "file_extension": ".py",
   "mimetype": "text/x-python",
   "name": "python",
   "nbconvert_exporter": "python",
   "pygments_lexer": "ipython3",
   "version": "3.9.12"
  },
  "vscode": {
   "interpreter": {
    "hash": "7ad2d2b061933ccb46f02c21d4dc257a7efb561c7355abd71f7246fa8dd772fc"
   }
  }
 },
 "nbformat": 4,
 "nbformat_minor": 1
}
