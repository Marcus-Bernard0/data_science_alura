{
  "cells": [
    {
      "cell_type": "markdown",
      "metadata": {
        "id": "KccqfD8ujL3K"
      },
      "source": [
        "# Começando o Trabalho\n",
        "---"
      ]
    },
    {
      "cell_type": "markdown",
      "metadata": {
        "id": "CyAh7l9hGlHq"
      },
      "source": [
        "## Apache Spark - Introdução"
      ]
    },
    {
      "cell_type": "markdown",
      "metadata": {
        "id": "Dy3ApfOoGlHt"
      },
      "source": [
        "### [Apache Spark](https://spark.apache.org/)\n",
        "\n",
        "Apache Spark é uma plataforma de computação em *cluster* que fornece uma API para programação distribuída para processamento de dados em larga escala, semelhante ao modelo *MapReduce*, mas projetada para ser rápida para consultas interativas e algoritmos iterativos.\n",
        "\n",
        "O Spark permite que você distribua dados e tarefas em clusters com vários nós. Imagine cada nó como um computador separado. A divisão dos dados torna mais fácil o trabalho com conjuntos de dados muito grandes porque cada nó funciona processa apenas uma parte parte do volume total de dados.\n",
        "\n",
        "O Spark é amplamente utilizado em projetos analíticos nas seguintes frentes:\n",
        "\n",
        "- Preparação de dados\n",
        "- Modelos de machine learning\n",
        "- Análise de dados em tempo real"
      ]
    },
    {
      "cell_type": "markdown",
      "metadata": {
        "id": "Rc3Adto4jWDj"
      },
      "source": [
        "### [PySpark](https://spark.apache.org/docs/3.1.2/api/python/index.html)\n",
        "\n",
        "PySpark é uma interface para Apache Spark em Python. Ele não apenas permite que você escreva aplicativos Spark usando APIs Python, mas também fornece o *shell* PySpark para analisar interativamente seus dados em um ambiente distribuído. O PySpark oferece suporte à maioria dos recursos do Spark, como Spark SQL, DataFrame, Streaming, MLlib (Machine Learning) e Spark Core.\n",
        "\n",
        "<center><img src=\"https://caelum-online-public.s3.amazonaws.com/2273-introducao-spark/01/img-001.png\"/></center>\n",
        "\n",
        "#### Spark SQL e DataFrame\n",
        "\n",
        "Spark SQL é um módulo Spark para processamento de dados estruturados. Ele fornece uma abstração de programação chamada DataFrame e também pode atuar como mecanismo de consulta SQL distribuído.\n",
        "\n",
        "#### Spark Streaming\n",
        "\n",
        "Executando em cima do Spark, o recurso de *streaming* no Apache Spark possibilita o uso de poderosas aplicações interativas e analíticas em *streaming* e dados históricos, enquanto herda a facilidade de uso do Spark e as características de tolerância a falhas.\n",
        "\n",
        "#### Spark MLlib\n",
        "\n",
        "Construído sobre o Spark, MLlib é uma biblioteca de aprendizado de máquina escalonável que fornece um conjunto uniforme de APIs de alto nível que ajudam os usuários a criar e ajustar *pipelines* de aprendizado de máquina práticos.\n",
        "\n",
        "#### Spark Core\n",
        "\n",
        "Spark Core é o mecanismo de execução geral subjacente para a plataforma Spark sobre o qual todas as outras funcionalidades são construídas. Ele fornece um RDD (*Resilient Distributed Dataset*) e recursos de computação na memória."
      ]
    },
    {
      "cell_type": "markdown",
      "metadata": {
        "id": "uh-9oWn7GlHw"
      },
      "source": [
        "## Utilizando o Spark no Windows\n",
        "\n",
        "[fonte](https://spark.apache.org/docs/3.1.2/api/python/getting_started/install.html)\n",
        "\n",
        "#### Passo 1 - Instalando o Java\n",
        "\n",
        "O PySpark requer a instalação do Java na versão 7 ou superior. Obtenha a versão mais recente clicando [aqui](https://www.java.com/pt-BR/download/). Para verificar a versão que está instalada em sua máquina execute a seguinte linha de código no seu *prompt*:\n",
        "\n",
        "```\n",
        "java -version\n",
        "```\n",
        "\n",
        "#### Passo 2 - Instalando o Python\n",
        "\n",
        "O Python deve ser instalado em sua versão 2.6 ou superior. Para obter a versão mais recente clique [aqui](https://www.python.org/downloads/windows/). Para verificar a versão do Python que está instalada em sua máquina digite o seguinte comando em seu *prompt*:\n",
        "\n",
        "```\n",
        "python --version\n",
        "```\n",
        "\n",
        "#### Passo 3 - Instalando o Apache Spark \n",
        "\n",
        "Selecione a versão mais estável clicando [aqui](http://spark.apache.org/downloads.html). Na criação deste projeto utilizamos a versão do Spark **3.1.2** e como tipo de pacote selecionamos **Pre-built for Apache Hadoop 2.7**.\n",
        "\n",
        "Para instalar o Apache Spark não é necessário executar um instalador, basta descomprimir os arquivos em uma pasta de sua escolha.\n",
        "\n",
        "<font color=red>Obs.: certifique-se de que o caminho onde os arquivos do Spark foram armazenados não contenham espaços (ex.: **\"C:\\spark\\spark-3.1.2-bin-hadoop2.7\"**).</font>\n",
        "\n",
        "Para testar o funcionamento do Spark execute os comandos abaixo em seu *prompt* de comando. Esses comandos assumem que você extraiu os arquivos do Spark na pasta **\"C:\\spark\\\"**.\n",
        "\n",
        "```\n",
        "cd C:\\spark\\spark-3.1.2-bin-hadoop2.7\n",
        "```\n",
        "\n",
        "```\n",
        "bin\\pyspark\n",
        "```\n",
        "\n",
        "O comando acima inicia o *shell* do PySpark que permite trabalhar interativamente com o Spark.\n",
        "\n",
        "Para sair basta digitar `exit()` e logo depois presionar *Enter*. Para voltar ao *prompt* pressione *Enter* novamente.\n",
        "\n",
        "#### Passo 4 - Instalando o findspark\n",
        "\n",
        "```\n",
        "pip install findspark\n",
        "```\n",
        "\n",
        "#### Passo 5 - Instalando o winutils\n",
        "\n",
        "Os arquivos do Spark não incluem o utilitário **winutils.exe** que é utilizado pelo Spark no Windows. Se não informar onde o Spark deve procurar este utilitário, veremos alguns erros no console e também não conseguiremos executar *scripts* Python utilizando o utilitário `spark-submit`.\n",
        "\n",
        "Faça o [download](https://github.com/steveloughran/winutils) para a versão do Hadoop para a qual sua instalação do Spark foi construída. Em nosso exemplo foi utilizada a [versão 2.7](https://github.com/steveloughran/winutils/tree/master/hadoop-2.7.1/bin). Faça o *download* apenas do arquivo **winutils.exe**.\n",
        "\n",
        "Crie a pasta **\"hadoop\\bin\"** dentro da pasta que contém os arquivos do Spark (em nosso exemplo **\"C:\\spark\\spark-3.1.2-bin-hadoop2.7\"**) e copie o arquivo **winutils.exe** para dentro desta pasta.\n",
        "\n",
        "Crie duas variáveis de ambiente no seu Windows. A primeira chamada **SPARK_HOME** que aponta para a pasta onde os arquivos Spark foram armazenados (em nosso exemplo **\"C:\\spark\\spark-3.1.2-bin-hadoop2.7\"**). A segunda chamada **HADOOP_HOME** que aponta para **%SPARK_HOME%\\hadoop** (assim podemos modificar **SPARK_HOME** sem precisar alterar **HADOOP_HOME**)."
      ]
    },
    {
      "cell_type": "markdown",
      "metadata": {
        "id": "A_pds0odi1Rj"
      },
      "source": [
        "## Utilizando o Spark no Google Colab\n",
        "\n",
        "Para facilitar o desenvolvimento de nosso projeto neste curso vamos utilizar o Google Colab como ferramenta e para configurar o PySpark basta executar os comandos abaixo na própria célula do seu *notebook*."
      ]
    },
    {
      "cell_type": "code",
      "execution_count": 1,
      "metadata": {
        "id": "JmcO4uWZ3OLO"
      },
      "outputs": [],
      "source": [
        "# instalar as dependências\n",
        "!apt-get update -qq\n",
        "!apt-get install openjdk-8-jdk-headless -qq > /dev/null\n",
        "!wget -q https://archive.apache.org/dist/spark/spark-3.1.2/spark-3.1.2-bin-hadoop2.7.tgz\n",
        "!tar xf spark-3.1.2-bin-hadoop2.7.tgz\n",
        "!pip install -q findspark"
      ]
    },
    {
      "cell_type": "code",
      "execution_count": 2,
      "metadata": {
        "id": "_4Z_1m0z3sPJ"
      },
      "outputs": [],
      "source": [
        "import os\n",
        "os.environ[\"JAVA_HOME\"] = \"/usr/lib/jvm/java-8-openjdk-amd64\"\n",
        "os.environ[\"SPARK_HOME\"] = \"/content/spark-3.1.2-bin-hadoop2.7\""
      ]
    },
    {
      "cell_type": "code",
      "execution_count": 3,
      "metadata": {
        "id": "kqdft9fpGlH0"
      },
      "outputs": [],
      "source": [
        "import findspark\n",
        "findspark.init()"
      ]
    },
    {
      "cell_type": "markdown",
      "metadata": {
        "id": "xIZNca7Pjgqf"
      },
      "source": [
        "# Carregamento de Dados\n",
        "---"
      ]
    },
    {
      "cell_type": "markdown",
      "metadata": {
        "id": "YGNS075GGlH0"
      },
      "source": [
        "## [SparkSession](https://spark.apache.org/docs/3.1.2/api/python/reference/api/pyspark.sql.SparkSession.html)\n",
        "\n",
        "O ponto de entrada para programar o Spark com a API Dataset e DataFrame.\n",
        "\n",
        "Uma SparkSession pode ser utilizada para criar DataFrames, registrar DataFrames como tabelas, executar consultas SQL em tabelas, armazenar em cache e ler arquivos parquet. Para criar uma SparkSession, use o seguinte padrão de construtor:"
      ]
    },
    {
      "cell_type": "code",
      "execution_count": 4,
      "metadata": {
        "id": "yayRGdn_GlH1"
      },
      "outputs": [],
      "source": [
        "# from pyspark.sql import SparkSession\n",
        "\n",
        "# spark = SparkSession.builder \\\n",
        "#     .master('local[*]') \\\n",
        "#     .appName(\"Iniciando com Spark\") \\\n",
        "#     .getOrCreate()"
      ]
    },
    {
      "cell_type": "code",
      "execution_count": 5,
      "metadata": {
        "id": "PizPNqbmCuSM"
      },
      "outputs": [],
      "source": [
        "# spark"
      ]
    },
    {
      "cell_type": "markdown",
      "metadata": {
        "id": "n2mFfLx470tO"
      },
      "source": [
        "## Acessando o [Spark UI](https://spark.apache.org/docs/3.1.2/web-ui.html) (Google Colab)"
      ]
    },
    {
      "cell_type": "code",
      "execution_count": 6,
      "metadata": {
        "id": "RpSjVUhR8AYq"
      },
      "outputs": [],
      "source": [
        "from pyspark.sql import SparkSession\n",
        "\n",
        "spark = SparkSession.builder \\\n",
        "    .master('local[*]') \\\n",
        "    .appName(\"Iniciando com Spark\") \\\n",
        "    .config('spark.ui.port','4050') \\\n",
        "    .getOrCreate()"
      ]
    },
    {
      "cell_type": "markdown",
      "metadata": {
        "id": "Otwtgug3T4tW"
      },
      "source": [
        "[Site ngrok](https://ngrok.com)"
      ]
    },
    {
      "cell_type": "code",
      "execution_count": 7,
      "metadata": {
        "id": "Wy6EXcMn8bg5",
        "colab": {
          "base_uri": "https://localhost:8080/"
        },
        "outputId": "9c7e70c0-857e-4b06-8b1f-8013ae1fae46"
      },
      "outputs": [
        {
          "output_type": "stream",
          "name": "stdout",
          "text": [
            "Archive:  ngrok-stable-linux-amd64.zip\n",
            "  inflating: ngrok                   \n"
          ]
        }
      ],
      "source": [
        "!wget -q https://bin.equinox.io/c/4VmDzA7iaHb/ngrok-stable-linux-amd64.zip\n",
        "!unzip ngrok-stable-linux-amd64.zip\n"
      ]
    },
    {
      "cell_type": "code",
      "execution_count": 8,
      "metadata": {
        "id": "UL5yysRL8i_I"
      },
      "outputs": [],
      "source": [
        "get_ipython().system_raw('./ngrok authtoken 2G8eBUY00heHlhyn9EEnIRNfw6C_7rEQLpwmMebUxpk1FqrtH')\n",
        "get_ipython().system_raw('./ngrok http 4050 &')"
      ]
    },
    {
      "cell_type": "code",
      "execution_count": 9,
      "metadata": {
        "id": "GOFKWePj8no0",
        "colab": {
          "base_uri": "https://localhost:8080/"
        },
        "outputId": "a9e51135-36a1-4b41-841e-5aa52417f92c"
      },
      "outputs": [
        {
          "output_type": "stream",
          "name": "stdout",
          "text": [
            "{\"tunnels\":[],\"uri\":\"/api/tunnels\"}\n"
          ]
        }
      ],
      "source": [
        "!curl -s http://localhost:4040/api/tunnels"
      ]
    },
    {
      "cell_type": "code",
      "source": [],
      "metadata": {
        "id": "DdcHc9lh8lSi"
      },
      "execution_count": 9,
      "outputs": []
    },
    {
      "cell_type": "code",
      "execution_count": 9,
      "metadata": {
        "id": "oonn_IJ08rfq"
      },
      "outputs": [],
      "source": []
    },
    {
      "cell_type": "markdown",
      "metadata": {
        "id": "MbOcx1oXGlH4"
      },
      "source": [
        "## DataFrames com Spark\n",
        "\n",
        "\n",
        "### Interfaces Spark\n",
        "\n",
        "Existem três interfaces principais do Apache Spark que você deve conhecer: Resilient Distributed Dataset, DataFrame e Dataset.\n",
        "\n",
        "- **Resilient Distributed Dataset**: A primeira abstração do Apache Spark foi o Resilient Distributed Dataset (RDD). É uma interface para uma sequência de objetos de dados que consiste em um ou mais tipos localizados em uma coleção de máquinas (um cluster). Os RDDs podem ser criados de várias maneiras e são a API de “nível mais baixo” disponível. Embora esta seja a estrutura de dados original do Apache Spark, você deve se concentrar na API DataFrame, que é um superconjunto da funcionalidade RDD. A API RDD está disponível nas linguagens Java, Python e Scala.\n",
        "\n",
        "- **DataFrame**: Trata-se de um conceito similar ao DataFrame que você pode estar familiarizado como o pacote pandas do Python e a linguagem R . A API DataFrame está disponível nas linguagens Java, Python, R e Scala.\n",
        "\n",
        "- **Dataset**: uma combinação de DataFrame e RDD. Ele fornece a interface digitada que está disponível em RDDs enquanto fornece a conveniência do DataFrame. A API Dataset está disponível nas linguagens Java e Scala.\n",
        "\n",
        "Em muitos cenários, especialmente com as otimizações de desempenho incorporadas em DataFrames e Datasets, não será necessário trabalhar com RDDs. Mas é importante entender a abstração RDD porque:\n",
        "\n",
        "- O RDD é a infraestrutura subjacente que permite que o Spark seja executado com tanta rapidez e forneça a linhagem de dados.\n",
        "\n",
        "- Se você estiver mergulhando em componentes mais avançados do Spark, pode ser necessário usar RDDs.\n",
        "\n",
        "- As visualizações na Spark UI fazem referência a RDDs."
      ]
    },
    {
      "cell_type": "code",
      "execution_count": 10,
      "metadata": {
        "id": "ZpFfzZN0GlH5"
      },
      "outputs": [],
      "source": [
        "data = [('Zeca','35'), ('Eva', '29')]\n",
        "colNames = ['Nome', 'Idade']\n",
        "df = spark.createDataFrame(data, colNames)"
      ]
    },
    {
      "cell_type": "code",
      "execution_count": 11,
      "metadata": {
        "id": "3APKGkAlGlH5",
        "colab": {
          "base_uri": "https://localhost:8080/"
        },
        "outputId": "f08e51b0-3c1a-4d72-bdc2-9fa8db420ca5"
      },
      "outputs": [
        {
          "output_type": "stream",
          "name": "stdout",
          "text": [
            "+----+-----+\n",
            "|Nome|Idade|\n",
            "+----+-----+\n",
            "|Zeca|   35|\n",
            "| Eva|   29|\n",
            "+----+-----+\n",
            "\n"
          ]
        }
      ],
      "source": [
        "df.show()"
      ]
    },
    {
      "cell_type": "code",
      "execution_count": 12,
      "metadata": {
        "id": "NyBW_ff-JMYs",
        "colab": {
          "base_uri": "https://localhost:8080/",
          "height": 112
        },
        "outputId": "cd028b6c-db00-4d92-c3bd-0afa2001ce45"
      },
      "outputs": [
        {
          "output_type": "execute_result",
          "data": {
            "text/plain": [
              "   Nome Idade\n",
              "0  Zeca    35\n",
              "1   Eva    29"
            ],
            "text/html": [
              "\n",
              "  <div id=\"df-d0dee7a9-ac82-49ba-84c4-e4b97002c44a\">\n",
              "    <div class=\"colab-df-container\">\n",
              "      <div>\n",
              "<style scoped>\n",
              "    .dataframe tbody tr th:only-of-type {\n",
              "        vertical-align: middle;\n",
              "    }\n",
              "\n",
              "    .dataframe tbody tr th {\n",
              "        vertical-align: top;\n",
              "    }\n",
              "\n",
              "    .dataframe thead th {\n",
              "        text-align: right;\n",
              "    }\n",
              "</style>\n",
              "<table border=\"1\" class=\"dataframe\">\n",
              "  <thead>\n",
              "    <tr style=\"text-align: right;\">\n",
              "      <th></th>\n",
              "      <th>Nome</th>\n",
              "      <th>Idade</th>\n",
              "    </tr>\n",
              "  </thead>\n",
              "  <tbody>\n",
              "    <tr>\n",
              "      <th>0</th>\n",
              "      <td>Zeca</td>\n",
              "      <td>35</td>\n",
              "    </tr>\n",
              "    <tr>\n",
              "      <th>1</th>\n",
              "      <td>Eva</td>\n",
              "      <td>29</td>\n",
              "    </tr>\n",
              "  </tbody>\n",
              "</table>\n",
              "</div>\n",
              "      <button class=\"colab-df-convert\" onclick=\"convertToInteractive('df-d0dee7a9-ac82-49ba-84c4-e4b97002c44a')\"\n",
              "              title=\"Convert this dataframe to an interactive table.\"\n",
              "              style=\"display:none;\">\n",
              "        \n",
              "  <svg xmlns=\"http://www.w3.org/2000/svg\" height=\"24px\"viewBox=\"0 0 24 24\"\n",
              "       width=\"24px\">\n",
              "    <path d=\"M0 0h24v24H0V0z\" fill=\"none\"/>\n",
              "    <path d=\"M18.56 5.44l.94 2.06.94-2.06 2.06-.94-2.06-.94-.94-2.06-.94 2.06-2.06.94zm-11 1L8.5 8.5l.94-2.06 2.06-.94-2.06-.94L8.5 2.5l-.94 2.06-2.06.94zm10 10l.94 2.06.94-2.06 2.06-.94-2.06-.94-.94-2.06-.94 2.06-2.06.94z\"/><path d=\"M17.41 7.96l-1.37-1.37c-.4-.4-.92-.59-1.43-.59-.52 0-1.04.2-1.43.59L10.3 9.45l-7.72 7.72c-.78.78-.78 2.05 0 2.83L4 21.41c.39.39.9.59 1.41.59.51 0 1.02-.2 1.41-.59l7.78-7.78 2.81-2.81c.8-.78.8-2.07 0-2.86zM5.41 20L4 18.59l7.72-7.72 1.47 1.35L5.41 20z\"/>\n",
              "  </svg>\n",
              "      </button>\n",
              "      \n",
              "  <style>\n",
              "    .colab-df-container {\n",
              "      display:flex;\n",
              "      flex-wrap:wrap;\n",
              "      gap: 12px;\n",
              "    }\n",
              "\n",
              "    .colab-df-convert {\n",
              "      background-color: #E8F0FE;\n",
              "      border: none;\n",
              "      border-radius: 50%;\n",
              "      cursor: pointer;\n",
              "      display: none;\n",
              "      fill: #1967D2;\n",
              "      height: 32px;\n",
              "      padding: 0 0 0 0;\n",
              "      width: 32px;\n",
              "    }\n",
              "\n",
              "    .colab-df-convert:hover {\n",
              "      background-color: #E2EBFA;\n",
              "      box-shadow: 0px 1px 2px rgba(60, 64, 67, 0.3), 0px 1px 3px 1px rgba(60, 64, 67, 0.15);\n",
              "      fill: #174EA6;\n",
              "    }\n",
              "\n",
              "    [theme=dark] .colab-df-convert {\n",
              "      background-color: #3B4455;\n",
              "      fill: #D2E3FC;\n",
              "    }\n",
              "\n",
              "    [theme=dark] .colab-df-convert:hover {\n",
              "      background-color: #434B5C;\n",
              "      box-shadow: 0px 1px 3px 1px rgba(0, 0, 0, 0.15);\n",
              "      filter: drop-shadow(0px 1px 2px rgba(0, 0, 0, 0.3));\n",
              "      fill: #FFFFFF;\n",
              "    }\n",
              "  </style>\n",
              "\n",
              "      <script>\n",
              "        const buttonEl =\n",
              "          document.querySelector('#df-d0dee7a9-ac82-49ba-84c4-e4b97002c44a button.colab-df-convert');\n",
              "        buttonEl.style.display =\n",
              "          google.colab.kernel.accessAllowed ? 'block' : 'none';\n",
              "\n",
              "        async function convertToInteractive(key) {\n",
              "          const element = document.querySelector('#df-d0dee7a9-ac82-49ba-84c4-e4b97002c44a');\n",
              "          const dataTable =\n",
              "            await google.colab.kernel.invokeFunction('convertToInteractive',\n",
              "                                                     [key], {});\n",
              "          if (!dataTable) return;\n",
              "\n",
              "          const docLinkHtml = 'Like what you see? Visit the ' +\n",
              "            '<a target=\"_blank\" href=https://colab.research.google.com/notebooks/data_table.ipynb>data table notebook</a>'\n",
              "            + ' to learn more about interactive tables.';\n",
              "          element.innerHTML = '';\n",
              "          dataTable['output_type'] = 'display_data';\n",
              "          await google.colab.output.renderOutput(dataTable, element);\n",
              "          const docLink = document.createElement('div');\n",
              "          docLink.innerHTML = docLinkHtml;\n",
              "          element.appendChild(docLink);\n",
              "        }\n",
              "      </script>\n",
              "    </div>\n",
              "  </div>\n",
              "  "
            ]
          },
          "metadata": {},
          "execution_count": 12
        }
      ],
      "source": [
        "df.toPandas()"
      ]
    },
    {
      "cell_type": "markdown",
      "metadata": {
        "id": "FXVfnTIHGlH3"
      },
      "source": [
        "## Projeto\n",
        "\n",
        "Nosso projeto consiste em ler, manipular, tratar e salvar um conjunto de dados volumosos utilizando como ferramenta o Spark."
      ]
    },
    {
      "cell_type": "markdown",
      "metadata": {
        "id": "KCYYVAtjhMa7"
      },
      "source": [
        "## Carregamento de dados\n",
        "\n",
        "### Dados Públicos CNPJ\n",
        "#### Receita Federal\n",
        "\n",
        "> [Empresas](https://caelum-online-public.s3.amazonaws.com/2273-introducao-spark/01/empresas.zip)\n",
        "> \n",
        "> [Estabelecimentos](https://caelum-online-public.s3.amazonaws.com/2273-introducao-spark/01/estabelecimentos.zip)\n",
        "> \n",
        "> [Sócios](https://caelum-online-public.s3.amazonaws.com/2273-introducao-spark/01/socios.zip)\n",
        "\n",
        "[Fonte original dos dados](https://www.gov.br/receitafederal/pt-br/assuntos/orientacao-tributaria/cadastros/consultas/dados-publicos-cnpj)\n",
        "\n",
        "---\n",
        "[property SparkSession.read](https://spark.apache.org/docs/3.1.2/api/python/reference/api/pyspark.sql.SparkSession.read.html)\n",
        "\n",
        "[DataFrameReader.csv(*args)](https://spark.apache.org/docs/3.1.2/api/python/reference/api/pyspark.sql.DataFrameReader.csv.html)\n"
      ]
    },
    {
      "cell_type": "markdown",
      "metadata": {
        "id": "6znrrAdApQmE"
      },
      "source": [
        "### Montando nosso drive"
      ]
    },
    {
      "cell_type": "code",
      "execution_count": 13,
      "metadata": {
        "id": "6g2I8wYShfYJ",
        "colab": {
          "base_uri": "https://localhost:8080/"
        },
        "outputId": "d5a1afb9-927d-4d1b-8f92-019ea78a1a42"
      },
      "outputs": [
        {
          "output_type": "stream",
          "name": "stdout",
          "text": [
            "Mounted at /content/drive\n"
          ]
        }
      ],
      "source": [
        "from google.colab import drive\n",
        "drive.mount('/content/drive')"
      ]
    },
    {
      "cell_type": "markdown",
      "metadata": {
        "id": "3f6bwFADGlH6"
      },
      "source": [
        "### Carregando os dados das empresas"
      ]
    },
    {
      "cell_type": "code",
      "execution_count": 14,
      "metadata": {
        "id": "sffAOcMQt_aR"
      },
      "outputs": [],
      "source": [
        "import zipfile"
      ]
    },
    {
      "cell_type": "code",
      "execution_count": 15,
      "metadata": {
        "id": "4RVsaljf8mus"
      },
      "outputs": [],
      "source": [
        "# zipfile.ZipFile('/content/drive/MyDrive/Colab Notebooks/Alura/Spark/empresas.zip', 'r').extractall('/content/drive/MyDrive/Colab Notebooks/Alura/Spark')"
      ]
    },
    {
      "cell_type": "code",
      "execution_count": 16,
      "metadata": {
        "id": "1rDKf8L-GlH6"
      },
      "outputs": [],
      "source": [
        "# zipfile.ZipFile('/content/drive/MyDrive/Colab Notebooks/Alura/Spark/empresas.zip', 'r').extractall('/content/drive/MyDrive/Colab Notebooks/Alura/Spark/')"
      ]
    },
    {
      "cell_type": "code",
      "execution_count": 17,
      "metadata": {
        "id": "-AnS7LIvJ0-5"
      },
      "outputs": [],
      "source": [
        "path ='/content/drive/MyDrive/Colab Notebooks/Alura/Spark/empresas'\n",
        "empresas = spark.read.csv(path, sep =';', inferSchema=True)"
      ]
    },
    {
      "cell_type": "code",
      "source": [
        "empresas.count()"
      ],
      "metadata": {
        "colab": {
          "base_uri": "https://localhost:8080/"
        },
        "id": "pC5L97cbMT_e",
        "outputId": "731f1fe3-f1b9-4cb9-e632-f1fd2cbae718"
      },
      "execution_count": 18,
      "outputs": [
        {
          "output_type": "execute_result",
          "data": {
            "text/plain": [
              "4328001"
            ]
          },
          "metadata": {},
          "execution_count": 18
        }
      ]
    },
    {
      "cell_type": "markdown",
      "metadata": {
        "id": "g0QOCzKVGlH7"
      },
      "source": [
        "## Faça como eu fiz: Estabelecimentos e Sócios"
      ]
    },
    {
      "cell_type": "markdown",
      "metadata": {
        "id": "4DXanOaDk1Hc"
      },
      "source": [
        "### Carregando os dados dos estabelecimentos"
      ]
    },
    {
      "cell_type": "code",
      "execution_count": 19,
      "metadata": {
        "id": "hIwhrJTIGlH7"
      },
      "outputs": [],
      "source": [
        "estabelecimento = '/content/drive/MyDrive/Colab Notebooks/Alura/Spark/estabelecimentos'\n",
        "estabelecimento = spark.read.csv(estabelecimento, sep =';', inferSchema = True)"
      ]
    },
    {
      "cell_type": "code",
      "source": [],
      "metadata": {
        "id": "waEGE7rTQYu2"
      },
      "execution_count": 19,
      "outputs": []
    },
    {
      "cell_type": "code",
      "execution_count": 19,
      "metadata": {
        "id": "Hpfe_ApWGlH7"
      },
      "outputs": [],
      "source": []
    },
    {
      "cell_type": "code",
      "execution_count": 19,
      "metadata": {
        "id": "UdBuLfZkGlH7"
      },
      "outputs": [],
      "source": []
    },
    {
      "cell_type": "markdown",
      "metadata": {
        "id": "bOylSh6PGlH8"
      },
      "source": [
        "### Carregando os dados dos sócios"
      ]
    },
    {
      "cell_type": "code",
      "execution_count": null,
      "metadata": {
        "id": "97PLgACTGlH8"
      },
      "outputs": [],
      "source": [
        "# zipfile.ZipFile('/content/drive/MyDrive/Colab Notebooks/Alura/Spark/socios/socios.zip').extractall('/content/drive/MyDrive/Colab Notebooks/Alura/Spark/socios')"
      ]
    },
    {
      "cell_type": "code",
      "execution_count": 21,
      "metadata": {
        "id": "B5giYMXnGlH8"
      },
      "outputs": [],
      "source": [
        "socios = '/content/drive/MyDrive/Colab Notebooks/Alura/Spark/socios/socios'\n",
        "socios = spark.read.csv(socios, sep = ';', inferSchema = True)"
      ]
    },
    {
      "cell_type": "code",
      "execution_count": null,
      "metadata": {
        "id": "94dmXGICGlH8"
      },
      "outputs": [],
      "source": []
    },
    {
      "cell_type": "markdown",
      "metadata": {
        "id": "yyeUU1CsGlH9"
      },
      "source": [
        "# Manipulando os Dados\n",
        "---"
      ]
    },
    {
      "cell_type": "markdown",
      "metadata": {
        "id": "2vvN_LyAGlH9"
      },
      "source": [
        "## Operações básicas"
      ]
    },
    {
      "cell_type": "code",
      "execution_count": 22,
      "metadata": {
        "id": "vc8_B1H8iNkX",
        "colab": {
          "base_uri": "https://localhost:8080/",
          "height": 206
        },
        "outputId": "7a483468-4979-41ea-e30a-dc88e6543091"
      },
      "outputs": [
        {
          "output_type": "execute_result",
          "data": {
            "text/plain": [
              "    _c0                                                _c1   _c2 _c3      _c4  \\\n",
              "0   306            FRANCAMAR REFRIGERACAO TECNICA S/C LTDA  2240  49     0,00   \n",
              "1  1355                         BRASILEIRO & OLIVEIRA LTDA  2062  49     0,00   \n",
              "2  4820  REGISTRO DE IMOVEIS, TABELIONATO 1 DE NOTAS E ...  3034  32     0,00   \n",
              "3  5347       ROSELY APARECIDA MONTEIRO CALTABIANO FREITAS  2135  50     0,00   \n",
              "4  6846                         BADU E FILHOS TECIDOS LTDA  2062  49  4000,00   \n",
              "\n",
              "  _c5   _c6  \n",
              "0   1  None  \n",
              "1   5  None  \n",
              "2   5  None  \n",
              "3   5  None  \n",
              "4   1  None  "
            ],
            "text/html": [
              "\n",
              "  <div id=\"df-07cef680-893c-4a69-b80a-f117b9e55b5d\">\n",
              "    <div class=\"colab-df-container\">\n",
              "      <div>\n",
              "<style scoped>\n",
              "    .dataframe tbody tr th:only-of-type {\n",
              "        vertical-align: middle;\n",
              "    }\n",
              "\n",
              "    .dataframe tbody tr th {\n",
              "        vertical-align: top;\n",
              "    }\n",
              "\n",
              "    .dataframe thead th {\n",
              "        text-align: right;\n",
              "    }\n",
              "</style>\n",
              "<table border=\"1\" class=\"dataframe\">\n",
              "  <thead>\n",
              "    <tr style=\"text-align: right;\">\n",
              "      <th></th>\n",
              "      <th>_c0</th>\n",
              "      <th>_c1</th>\n",
              "      <th>_c2</th>\n",
              "      <th>_c3</th>\n",
              "      <th>_c4</th>\n",
              "      <th>_c5</th>\n",
              "      <th>_c6</th>\n",
              "    </tr>\n",
              "  </thead>\n",
              "  <tbody>\n",
              "    <tr>\n",
              "      <th>0</th>\n",
              "      <td>306</td>\n",
              "      <td>FRANCAMAR REFRIGERACAO TECNICA S/C LTDA</td>\n",
              "      <td>2240</td>\n",
              "      <td>49</td>\n",
              "      <td>0,00</td>\n",
              "      <td>1</td>\n",
              "      <td>None</td>\n",
              "    </tr>\n",
              "    <tr>\n",
              "      <th>1</th>\n",
              "      <td>1355</td>\n",
              "      <td>BRASILEIRO &amp; OLIVEIRA LTDA</td>\n",
              "      <td>2062</td>\n",
              "      <td>49</td>\n",
              "      <td>0,00</td>\n",
              "      <td>5</td>\n",
              "      <td>None</td>\n",
              "    </tr>\n",
              "    <tr>\n",
              "      <th>2</th>\n",
              "      <td>4820</td>\n",
              "      <td>REGISTRO DE IMOVEIS, TABELIONATO 1 DE NOTAS E ...</td>\n",
              "      <td>3034</td>\n",
              "      <td>32</td>\n",
              "      <td>0,00</td>\n",
              "      <td>5</td>\n",
              "      <td>None</td>\n",
              "    </tr>\n",
              "    <tr>\n",
              "      <th>3</th>\n",
              "      <td>5347</td>\n",
              "      <td>ROSELY APARECIDA MONTEIRO CALTABIANO FREITAS</td>\n",
              "      <td>2135</td>\n",
              "      <td>50</td>\n",
              "      <td>0,00</td>\n",
              "      <td>5</td>\n",
              "      <td>None</td>\n",
              "    </tr>\n",
              "    <tr>\n",
              "      <th>4</th>\n",
              "      <td>6846</td>\n",
              "      <td>BADU E FILHOS TECIDOS LTDA</td>\n",
              "      <td>2062</td>\n",
              "      <td>49</td>\n",
              "      <td>4000,00</td>\n",
              "      <td>1</td>\n",
              "      <td>None</td>\n",
              "    </tr>\n",
              "  </tbody>\n",
              "</table>\n",
              "</div>\n",
              "      <button class=\"colab-df-convert\" onclick=\"convertToInteractive('df-07cef680-893c-4a69-b80a-f117b9e55b5d')\"\n",
              "              title=\"Convert this dataframe to an interactive table.\"\n",
              "              style=\"display:none;\">\n",
              "        \n",
              "  <svg xmlns=\"http://www.w3.org/2000/svg\" height=\"24px\"viewBox=\"0 0 24 24\"\n",
              "       width=\"24px\">\n",
              "    <path d=\"M0 0h24v24H0V0z\" fill=\"none\"/>\n",
              "    <path d=\"M18.56 5.44l.94 2.06.94-2.06 2.06-.94-2.06-.94-.94-2.06-.94 2.06-2.06.94zm-11 1L8.5 8.5l.94-2.06 2.06-.94-2.06-.94L8.5 2.5l-.94 2.06-2.06.94zm10 10l.94 2.06.94-2.06 2.06-.94-2.06-.94-.94-2.06-.94 2.06-2.06.94z\"/><path d=\"M17.41 7.96l-1.37-1.37c-.4-.4-.92-.59-1.43-.59-.52 0-1.04.2-1.43.59L10.3 9.45l-7.72 7.72c-.78.78-.78 2.05 0 2.83L4 21.41c.39.39.9.59 1.41.59.51 0 1.02-.2 1.41-.59l7.78-7.78 2.81-2.81c.8-.78.8-2.07 0-2.86zM5.41 20L4 18.59l7.72-7.72 1.47 1.35L5.41 20z\"/>\n",
              "  </svg>\n",
              "      </button>\n",
              "      \n",
              "  <style>\n",
              "    .colab-df-container {\n",
              "      display:flex;\n",
              "      flex-wrap:wrap;\n",
              "      gap: 12px;\n",
              "    }\n",
              "\n",
              "    .colab-df-convert {\n",
              "      background-color: #E8F0FE;\n",
              "      border: none;\n",
              "      border-radius: 50%;\n",
              "      cursor: pointer;\n",
              "      display: none;\n",
              "      fill: #1967D2;\n",
              "      height: 32px;\n",
              "      padding: 0 0 0 0;\n",
              "      width: 32px;\n",
              "    }\n",
              "\n",
              "    .colab-df-convert:hover {\n",
              "      background-color: #E2EBFA;\n",
              "      box-shadow: 0px 1px 2px rgba(60, 64, 67, 0.3), 0px 1px 3px 1px rgba(60, 64, 67, 0.15);\n",
              "      fill: #174EA6;\n",
              "    }\n",
              "\n",
              "    [theme=dark] .colab-df-convert {\n",
              "      background-color: #3B4455;\n",
              "      fill: #D2E3FC;\n",
              "    }\n",
              "\n",
              "    [theme=dark] .colab-df-convert:hover {\n",
              "      background-color: #434B5C;\n",
              "      box-shadow: 0px 1px 3px 1px rgba(0, 0, 0, 0.15);\n",
              "      filter: drop-shadow(0px 1px 2px rgba(0, 0, 0, 0.3));\n",
              "      fill: #FFFFFF;\n",
              "    }\n",
              "  </style>\n",
              "\n",
              "      <script>\n",
              "        const buttonEl =\n",
              "          document.querySelector('#df-07cef680-893c-4a69-b80a-f117b9e55b5d button.colab-df-convert');\n",
              "        buttonEl.style.display =\n",
              "          google.colab.kernel.accessAllowed ? 'block' : 'none';\n",
              "\n",
              "        async function convertToInteractive(key) {\n",
              "          const element = document.querySelector('#df-07cef680-893c-4a69-b80a-f117b9e55b5d');\n",
              "          const dataTable =\n",
              "            await google.colab.kernel.invokeFunction('convertToInteractive',\n",
              "                                                     [key], {});\n",
              "          if (!dataTable) return;\n",
              "\n",
              "          const docLinkHtml = 'Like what you see? Visit the ' +\n",
              "            '<a target=\"_blank\" href=https://colab.research.google.com/notebooks/data_table.ipynb>data table notebook</a>'\n",
              "            + ' to learn more about interactive tables.';\n",
              "          element.innerHTML = '';\n",
              "          dataTable['output_type'] = 'display_data';\n",
              "          await google.colab.output.renderOutput(dataTable, element);\n",
              "          const docLink = document.createElement('div');\n",
              "          docLink.innerHTML = docLinkHtml;\n",
              "          element.appendChild(docLink);\n",
              "        }\n",
              "      </script>\n",
              "    </div>\n",
              "  </div>\n",
              "  "
            ]
          },
          "metadata": {},
          "execution_count": 22
        }
      ],
      "source": [
        "empresas.limit(5).toPandas()"
      ]
    },
    {
      "cell_type": "markdown",
      "metadata": {
        "id": "1f7djxh5GlH9"
      },
      "source": [
        "### Renomeando as colunas do DataFrame"
      ]
    },
    {
      "cell_type": "code",
      "execution_count": 23,
      "metadata": {
        "id": "Hg0w9tDlGlH-"
      },
      "outputs": [],
      "source": [
        "empresasColNames = ['cnpj_basico', 'razao_social_nome_empresarial', 'natureza_juridica', 'qualificacao_do_responsavel', 'capital_social_da_empresa', 'porte_da_empresa', 'ente_federativo_responsavel']"
      ]
    },
    {
      "cell_type": "code",
      "execution_count": 24,
      "metadata": {
        "id": "1gYSVAgPk2h8",
        "colab": {
          "base_uri": "https://localhost:8080/"
        },
        "outputId": "fb61b1bf-ad5d-42cc-834a-fe97c19082b9"
      },
      "outputs": [
        {
          "output_type": "stream",
          "name": "stdout",
          "text": [
            "(0, 'cnpj_basico')\n",
            "(1, 'razao_social_nome_empresarial')\n",
            "(2, 'natureza_juridica')\n",
            "(3, 'qualificacao_do_responsavel')\n",
            "(4, 'capital_social_da_empresa')\n",
            "(5, 'porte_da_empresa')\n",
            "(6, 'ente_federativo_responsavel')\n"
          ]
        }
      ],
      "source": [
        "for item in enumerate(empresasColNames):\n",
        "  print(item)"
      ]
    },
    {
      "cell_type": "code",
      "source": [
        "for index, colName in enumerate(empresasColNames):\n",
        "  empresas = empresas.withColumnRenamed(f\"_c{index}\", colName)\n",
        "\n",
        "empresas.columns"
      ],
      "metadata": {
        "colab": {
          "base_uri": "https://localhost:8080/"
        },
        "id": "aLaf9mr-RyTh",
        "outputId": "a868d7fb-cf00-4197-e9de-b7317683dafd"
      },
      "execution_count": 25,
      "outputs": [
        {
          "output_type": "execute_result",
          "data": {
            "text/plain": [
              "['cnpj_basico',\n",
              " 'razao_social_nome_empresarial',\n",
              " 'natureza_juridica',\n",
              " 'qualificacao_do_responsavel',\n",
              " 'capital_social_da_empresa',\n",
              " 'porte_da_empresa',\n",
              " 'ente_federativo_responsavel']"
            ]
          },
          "metadata": {},
          "execution_count": 25
        }
      ]
    },
    {
      "cell_type": "code",
      "source": [
        "empresas.limit(5).toPandas()"
      ],
      "metadata": {
        "colab": {
          "base_uri": "https://localhost:8080/",
          "height": 206
        },
        "id": "C25BAvwjSd-g",
        "outputId": "552b7cc0-1d9d-40db-ba22-6fb1f995f3d8"
      },
      "execution_count": 26,
      "outputs": [
        {
          "output_type": "execute_result",
          "data": {
            "text/plain": [
              "  cnpj_basico                      razao_social_nome_empresarial  \\\n",
              "0         306            FRANCAMAR REFRIGERACAO TECNICA S/C LTDA   \n",
              "1        1355                         BRASILEIRO & OLIVEIRA LTDA   \n",
              "2        4820  REGISTRO DE IMOVEIS, TABELIONATO 1 DE NOTAS E ...   \n",
              "3        5347       ROSELY APARECIDA MONTEIRO CALTABIANO FREITAS   \n",
              "4        6846                         BADU E FILHOS TECIDOS LTDA   \n",
              "\n",
              "  natureza_juridica qualificacao_do_responsavel capital_social_da_empresa  \\\n",
              "0              2240                          49                      0,00   \n",
              "1              2062                          49                      0,00   \n",
              "2              3034                          32                      0,00   \n",
              "3              2135                          50                      0,00   \n",
              "4              2062                          49                   4000,00   \n",
              "\n",
              "  porte_da_empresa ente_federativo_responsavel  \n",
              "0                1                        None  \n",
              "1                5                        None  \n",
              "2                5                        None  \n",
              "3                5                        None  \n",
              "4                1                        None  "
            ],
            "text/html": [
              "\n",
              "  <div id=\"df-b342e9f1-4307-443a-91f9-100f4d886667\">\n",
              "    <div class=\"colab-df-container\">\n",
              "      <div>\n",
              "<style scoped>\n",
              "    .dataframe tbody tr th:only-of-type {\n",
              "        vertical-align: middle;\n",
              "    }\n",
              "\n",
              "    .dataframe tbody tr th {\n",
              "        vertical-align: top;\n",
              "    }\n",
              "\n",
              "    .dataframe thead th {\n",
              "        text-align: right;\n",
              "    }\n",
              "</style>\n",
              "<table border=\"1\" class=\"dataframe\">\n",
              "  <thead>\n",
              "    <tr style=\"text-align: right;\">\n",
              "      <th></th>\n",
              "      <th>cnpj_basico</th>\n",
              "      <th>razao_social_nome_empresarial</th>\n",
              "      <th>natureza_juridica</th>\n",
              "      <th>qualificacao_do_responsavel</th>\n",
              "      <th>capital_social_da_empresa</th>\n",
              "      <th>porte_da_empresa</th>\n",
              "      <th>ente_federativo_responsavel</th>\n",
              "    </tr>\n",
              "  </thead>\n",
              "  <tbody>\n",
              "    <tr>\n",
              "      <th>0</th>\n",
              "      <td>306</td>\n",
              "      <td>FRANCAMAR REFRIGERACAO TECNICA S/C LTDA</td>\n",
              "      <td>2240</td>\n",
              "      <td>49</td>\n",
              "      <td>0,00</td>\n",
              "      <td>1</td>\n",
              "      <td>None</td>\n",
              "    </tr>\n",
              "    <tr>\n",
              "      <th>1</th>\n",
              "      <td>1355</td>\n",
              "      <td>BRASILEIRO &amp; OLIVEIRA LTDA</td>\n",
              "      <td>2062</td>\n",
              "      <td>49</td>\n",
              "      <td>0,00</td>\n",
              "      <td>5</td>\n",
              "      <td>None</td>\n",
              "    </tr>\n",
              "    <tr>\n",
              "      <th>2</th>\n",
              "      <td>4820</td>\n",
              "      <td>REGISTRO DE IMOVEIS, TABELIONATO 1 DE NOTAS E ...</td>\n",
              "      <td>3034</td>\n",
              "      <td>32</td>\n",
              "      <td>0,00</td>\n",
              "      <td>5</td>\n",
              "      <td>None</td>\n",
              "    </tr>\n",
              "    <tr>\n",
              "      <th>3</th>\n",
              "      <td>5347</td>\n",
              "      <td>ROSELY APARECIDA MONTEIRO CALTABIANO FREITAS</td>\n",
              "      <td>2135</td>\n",
              "      <td>50</td>\n",
              "      <td>0,00</td>\n",
              "      <td>5</td>\n",
              "      <td>None</td>\n",
              "    </tr>\n",
              "    <tr>\n",
              "      <th>4</th>\n",
              "      <td>6846</td>\n",
              "      <td>BADU E FILHOS TECIDOS LTDA</td>\n",
              "      <td>2062</td>\n",
              "      <td>49</td>\n",
              "      <td>4000,00</td>\n",
              "      <td>1</td>\n",
              "      <td>None</td>\n",
              "    </tr>\n",
              "  </tbody>\n",
              "</table>\n",
              "</div>\n",
              "      <button class=\"colab-df-convert\" onclick=\"convertToInteractive('df-b342e9f1-4307-443a-91f9-100f4d886667')\"\n",
              "              title=\"Convert this dataframe to an interactive table.\"\n",
              "              style=\"display:none;\">\n",
              "        \n",
              "  <svg xmlns=\"http://www.w3.org/2000/svg\" height=\"24px\"viewBox=\"0 0 24 24\"\n",
              "       width=\"24px\">\n",
              "    <path d=\"M0 0h24v24H0V0z\" fill=\"none\"/>\n",
              "    <path d=\"M18.56 5.44l.94 2.06.94-2.06 2.06-.94-2.06-.94-.94-2.06-.94 2.06-2.06.94zm-11 1L8.5 8.5l.94-2.06 2.06-.94-2.06-.94L8.5 2.5l-.94 2.06-2.06.94zm10 10l.94 2.06.94-2.06 2.06-.94-2.06-.94-.94-2.06-.94 2.06-2.06.94z\"/><path d=\"M17.41 7.96l-1.37-1.37c-.4-.4-.92-.59-1.43-.59-.52 0-1.04.2-1.43.59L10.3 9.45l-7.72 7.72c-.78.78-.78 2.05 0 2.83L4 21.41c.39.39.9.59 1.41.59.51 0 1.02-.2 1.41-.59l7.78-7.78 2.81-2.81c.8-.78.8-2.07 0-2.86zM5.41 20L4 18.59l7.72-7.72 1.47 1.35L5.41 20z\"/>\n",
              "  </svg>\n",
              "      </button>\n",
              "      \n",
              "  <style>\n",
              "    .colab-df-container {\n",
              "      display:flex;\n",
              "      flex-wrap:wrap;\n",
              "      gap: 12px;\n",
              "    }\n",
              "\n",
              "    .colab-df-convert {\n",
              "      background-color: #E8F0FE;\n",
              "      border: none;\n",
              "      border-radius: 50%;\n",
              "      cursor: pointer;\n",
              "      display: none;\n",
              "      fill: #1967D2;\n",
              "      height: 32px;\n",
              "      padding: 0 0 0 0;\n",
              "      width: 32px;\n",
              "    }\n",
              "\n",
              "    .colab-df-convert:hover {\n",
              "      background-color: #E2EBFA;\n",
              "      box-shadow: 0px 1px 2px rgba(60, 64, 67, 0.3), 0px 1px 3px 1px rgba(60, 64, 67, 0.15);\n",
              "      fill: #174EA6;\n",
              "    }\n",
              "\n",
              "    [theme=dark] .colab-df-convert {\n",
              "      background-color: #3B4455;\n",
              "      fill: #D2E3FC;\n",
              "    }\n",
              "\n",
              "    [theme=dark] .colab-df-convert:hover {\n",
              "      background-color: #434B5C;\n",
              "      box-shadow: 0px 1px 3px 1px rgba(0, 0, 0, 0.15);\n",
              "      filter: drop-shadow(0px 1px 2px rgba(0, 0, 0, 0.3));\n",
              "      fill: #FFFFFF;\n",
              "    }\n",
              "  </style>\n",
              "\n",
              "      <script>\n",
              "        const buttonEl =\n",
              "          document.querySelector('#df-b342e9f1-4307-443a-91f9-100f4d886667 button.colab-df-convert');\n",
              "        buttonEl.style.display =\n",
              "          google.colab.kernel.accessAllowed ? 'block' : 'none';\n",
              "\n",
              "        async function convertToInteractive(key) {\n",
              "          const element = document.querySelector('#df-b342e9f1-4307-443a-91f9-100f4d886667');\n",
              "          const dataTable =\n",
              "            await google.colab.kernel.invokeFunction('convertToInteractive',\n",
              "                                                     [key], {});\n",
              "          if (!dataTable) return;\n",
              "\n",
              "          const docLinkHtml = 'Like what you see? Visit the ' +\n",
              "            '<a target=\"_blank\" href=https://colab.research.google.com/notebooks/data_table.ipynb>data table notebook</a>'\n",
              "            + ' to learn more about interactive tables.';\n",
              "          element.innerHTML = '';\n",
              "          dataTable['output_type'] = 'display_data';\n",
              "          await google.colab.output.renderOutput(dataTable, element);\n",
              "          const docLink = document.createElement('div');\n",
              "          docLink.innerHTML = docLinkHtml;\n",
              "          element.appendChild(docLink);\n",
              "        }\n",
              "      </script>\n",
              "    </div>\n",
              "  </div>\n",
              "  "
            ]
          },
          "metadata": {},
          "execution_count": 26
        }
      ]
    },
    {
      "cell_type": "markdown",
      "source": [
        "## Renomeando *estabelecimento*"
      ],
      "metadata": {
        "id": "xz3wAJjNTOIr"
      }
    },
    {
      "cell_type": "code",
      "execution_count": 27,
      "metadata": {
        "id": "QMfPDezDGlH-"
      },
      "outputs": [],
      "source": [
        "estabsColNames = ['cnpj_basico', 'cnpj_ordem', 'cnpj_dv', 'identificador_matriz_filial', 'nome_fantasia', 'situacao_cadastral', 'data_situacao_cadastral', 'motivo_situacao_cadastral', 'nome_da_cidade_no_exterior', 'pais', 'data_de_inicio_atividade', 'cnae_fiscal_principal', 'cnae_fiscal_secundaria', 'tipo_de_logradouro', 'logradouro', 'numero', 'complemento', 'bairro', 'cep', 'uf', 'municipio', 'ddd_1', 'telefone_1', 'ddd_2', 'telefone_2', 'ddd_do_fax', 'fax', 'correio_eletronico', 'situacao_especial', 'data_da_situacao_especial']"
      ]
    },
    {
      "cell_type": "code",
      "execution_count": 28,
      "metadata": {
        "id": "a04WKP_dGlH_",
        "colab": {
          "base_uri": "https://localhost:8080/",
          "height": 236
        },
        "outputId": "dfa67432-1bc9-4deb-dad4-9f360de80563"
      },
      "outputs": [
        {
          "output_type": "execute_result",
          "data": {
            "text/plain": [
              "    _c0  _c1  _c2  _c3                _c4  _c5       _c6  _c7   _c8  _c9  ...  \\\n",
              "0  1879    1   96    1     PIRAMIDE M. C.    8  20011029    1  None  NaN  ...   \n",
              "1  2818    1   43    1               None    8  20081231   71  None  NaN  ...   \n",
              "2  3110    1    7    1               None    8  19971231    1  None  NaN  ...   \n",
              "3  3733    1   80    1               None    8  20081231   71  None  NaN  ...   \n",
              "4  4628    3   27    2  EMBROIDERY & GIFT    8  19980429    1  None  NaN  ...   \n",
              "\n",
              "   _c20  _c21  _c22  _c23  _c24 _c25  _c26  _c27  _c28 _c29  \n",
              "0  7107  None  None  None  None  NaN  None  None  None  NaN  \n",
              "1  7107  None  None  None  None  NaN  None  None  None  NaN  \n",
              "2  7107  None  None  None  None  NaN  None  None  None  NaN  \n",
              "3  7107  None  None  None  None  NaN  None  None  None  NaN  \n",
              "4  7075  None  None  None  None  NaN  None  None  None  NaN  \n",
              "\n",
              "[5 rows x 30 columns]"
            ],
            "text/html": [
              "\n",
              "  <div id=\"df-f521171c-8d53-4064-8912-97e2f4f94249\">\n",
              "    <div class=\"colab-df-container\">\n",
              "      <div>\n",
              "<style scoped>\n",
              "    .dataframe tbody tr th:only-of-type {\n",
              "        vertical-align: middle;\n",
              "    }\n",
              "\n",
              "    .dataframe tbody tr th {\n",
              "        vertical-align: top;\n",
              "    }\n",
              "\n",
              "    .dataframe thead th {\n",
              "        text-align: right;\n",
              "    }\n",
              "</style>\n",
              "<table border=\"1\" class=\"dataframe\">\n",
              "  <thead>\n",
              "    <tr style=\"text-align: right;\">\n",
              "      <th></th>\n",
              "      <th>_c0</th>\n",
              "      <th>_c1</th>\n",
              "      <th>_c2</th>\n",
              "      <th>_c3</th>\n",
              "      <th>_c4</th>\n",
              "      <th>_c5</th>\n",
              "      <th>_c6</th>\n",
              "      <th>_c7</th>\n",
              "      <th>_c8</th>\n",
              "      <th>_c9</th>\n",
              "      <th>...</th>\n",
              "      <th>_c20</th>\n",
              "      <th>_c21</th>\n",
              "      <th>_c22</th>\n",
              "      <th>_c23</th>\n",
              "      <th>_c24</th>\n",
              "      <th>_c25</th>\n",
              "      <th>_c26</th>\n",
              "      <th>_c27</th>\n",
              "      <th>_c28</th>\n",
              "      <th>_c29</th>\n",
              "    </tr>\n",
              "  </thead>\n",
              "  <tbody>\n",
              "    <tr>\n",
              "      <th>0</th>\n",
              "      <td>1879</td>\n",
              "      <td>1</td>\n",
              "      <td>96</td>\n",
              "      <td>1</td>\n",
              "      <td>PIRAMIDE M. C.</td>\n",
              "      <td>8</td>\n",
              "      <td>20011029</td>\n",
              "      <td>1</td>\n",
              "      <td>None</td>\n",
              "      <td>NaN</td>\n",
              "      <td>...</td>\n",
              "      <td>7107</td>\n",
              "      <td>None</td>\n",
              "      <td>None</td>\n",
              "      <td>None</td>\n",
              "      <td>None</td>\n",
              "      <td>NaN</td>\n",
              "      <td>None</td>\n",
              "      <td>None</td>\n",
              "      <td>None</td>\n",
              "      <td>NaN</td>\n",
              "    </tr>\n",
              "    <tr>\n",
              "      <th>1</th>\n",
              "      <td>2818</td>\n",
              "      <td>1</td>\n",
              "      <td>43</td>\n",
              "      <td>1</td>\n",
              "      <td>None</td>\n",
              "      <td>8</td>\n",
              "      <td>20081231</td>\n",
              "      <td>71</td>\n",
              "      <td>None</td>\n",
              "      <td>NaN</td>\n",
              "      <td>...</td>\n",
              "      <td>7107</td>\n",
              "      <td>None</td>\n",
              "      <td>None</td>\n",
              "      <td>None</td>\n",
              "      <td>None</td>\n",
              "      <td>NaN</td>\n",
              "      <td>None</td>\n",
              "      <td>None</td>\n",
              "      <td>None</td>\n",
              "      <td>NaN</td>\n",
              "    </tr>\n",
              "    <tr>\n",
              "      <th>2</th>\n",
              "      <td>3110</td>\n",
              "      <td>1</td>\n",
              "      <td>7</td>\n",
              "      <td>1</td>\n",
              "      <td>None</td>\n",
              "      <td>8</td>\n",
              "      <td>19971231</td>\n",
              "      <td>1</td>\n",
              "      <td>None</td>\n",
              "      <td>NaN</td>\n",
              "      <td>...</td>\n",
              "      <td>7107</td>\n",
              "      <td>None</td>\n",
              "      <td>None</td>\n",
              "      <td>None</td>\n",
              "      <td>None</td>\n",
              "      <td>NaN</td>\n",
              "      <td>None</td>\n",
              "      <td>None</td>\n",
              "      <td>None</td>\n",
              "      <td>NaN</td>\n",
              "    </tr>\n",
              "    <tr>\n",
              "      <th>3</th>\n",
              "      <td>3733</td>\n",
              "      <td>1</td>\n",
              "      <td>80</td>\n",
              "      <td>1</td>\n",
              "      <td>None</td>\n",
              "      <td>8</td>\n",
              "      <td>20081231</td>\n",
              "      <td>71</td>\n",
              "      <td>None</td>\n",
              "      <td>NaN</td>\n",
              "      <td>...</td>\n",
              "      <td>7107</td>\n",
              "      <td>None</td>\n",
              "      <td>None</td>\n",
              "      <td>None</td>\n",
              "      <td>None</td>\n",
              "      <td>NaN</td>\n",
              "      <td>None</td>\n",
              "      <td>None</td>\n",
              "      <td>None</td>\n",
              "      <td>NaN</td>\n",
              "    </tr>\n",
              "    <tr>\n",
              "      <th>4</th>\n",
              "      <td>4628</td>\n",
              "      <td>3</td>\n",
              "      <td>27</td>\n",
              "      <td>2</td>\n",
              "      <td>EMBROIDERY &amp; GIFT</td>\n",
              "      <td>8</td>\n",
              "      <td>19980429</td>\n",
              "      <td>1</td>\n",
              "      <td>None</td>\n",
              "      <td>NaN</td>\n",
              "      <td>...</td>\n",
              "      <td>7075</td>\n",
              "      <td>None</td>\n",
              "      <td>None</td>\n",
              "      <td>None</td>\n",
              "      <td>None</td>\n",
              "      <td>NaN</td>\n",
              "      <td>None</td>\n",
              "      <td>None</td>\n",
              "      <td>None</td>\n",
              "      <td>NaN</td>\n",
              "    </tr>\n",
              "  </tbody>\n",
              "</table>\n",
              "<p>5 rows × 30 columns</p>\n",
              "</div>\n",
              "      <button class=\"colab-df-convert\" onclick=\"convertToInteractive('df-f521171c-8d53-4064-8912-97e2f4f94249')\"\n",
              "              title=\"Convert this dataframe to an interactive table.\"\n",
              "              style=\"display:none;\">\n",
              "        \n",
              "  <svg xmlns=\"http://www.w3.org/2000/svg\" height=\"24px\"viewBox=\"0 0 24 24\"\n",
              "       width=\"24px\">\n",
              "    <path d=\"M0 0h24v24H0V0z\" fill=\"none\"/>\n",
              "    <path d=\"M18.56 5.44l.94 2.06.94-2.06 2.06-.94-2.06-.94-.94-2.06-.94 2.06-2.06.94zm-11 1L8.5 8.5l.94-2.06 2.06-.94-2.06-.94L8.5 2.5l-.94 2.06-2.06.94zm10 10l.94 2.06.94-2.06 2.06-.94-2.06-.94-.94-2.06-.94 2.06-2.06.94z\"/><path d=\"M17.41 7.96l-1.37-1.37c-.4-.4-.92-.59-1.43-.59-.52 0-1.04.2-1.43.59L10.3 9.45l-7.72 7.72c-.78.78-.78 2.05 0 2.83L4 21.41c.39.39.9.59 1.41.59.51 0 1.02-.2 1.41-.59l7.78-7.78 2.81-2.81c.8-.78.8-2.07 0-2.86zM5.41 20L4 18.59l7.72-7.72 1.47 1.35L5.41 20z\"/>\n",
              "  </svg>\n",
              "      </button>\n",
              "      \n",
              "  <style>\n",
              "    .colab-df-container {\n",
              "      display:flex;\n",
              "      flex-wrap:wrap;\n",
              "      gap: 12px;\n",
              "    }\n",
              "\n",
              "    .colab-df-convert {\n",
              "      background-color: #E8F0FE;\n",
              "      border: none;\n",
              "      border-radius: 50%;\n",
              "      cursor: pointer;\n",
              "      display: none;\n",
              "      fill: #1967D2;\n",
              "      height: 32px;\n",
              "      padding: 0 0 0 0;\n",
              "      width: 32px;\n",
              "    }\n",
              "\n",
              "    .colab-df-convert:hover {\n",
              "      background-color: #E2EBFA;\n",
              "      box-shadow: 0px 1px 2px rgba(60, 64, 67, 0.3), 0px 1px 3px 1px rgba(60, 64, 67, 0.15);\n",
              "      fill: #174EA6;\n",
              "    }\n",
              "\n",
              "    [theme=dark] .colab-df-convert {\n",
              "      background-color: #3B4455;\n",
              "      fill: #D2E3FC;\n",
              "    }\n",
              "\n",
              "    [theme=dark] .colab-df-convert:hover {\n",
              "      background-color: #434B5C;\n",
              "      box-shadow: 0px 1px 3px 1px rgba(0, 0, 0, 0.15);\n",
              "      filter: drop-shadow(0px 1px 2px rgba(0, 0, 0, 0.3));\n",
              "      fill: #FFFFFF;\n",
              "    }\n",
              "  </style>\n",
              "\n",
              "      <script>\n",
              "        const buttonEl =\n",
              "          document.querySelector('#df-f521171c-8d53-4064-8912-97e2f4f94249 button.colab-df-convert');\n",
              "        buttonEl.style.display =\n",
              "          google.colab.kernel.accessAllowed ? 'block' : 'none';\n",
              "\n",
              "        async function convertToInteractive(key) {\n",
              "          const element = document.querySelector('#df-f521171c-8d53-4064-8912-97e2f4f94249');\n",
              "          const dataTable =\n",
              "            await google.colab.kernel.invokeFunction('convertToInteractive',\n",
              "                                                     [key], {});\n",
              "          if (!dataTable) return;\n",
              "\n",
              "          const docLinkHtml = 'Like what you see? Visit the ' +\n",
              "            '<a target=\"_blank\" href=https://colab.research.google.com/notebooks/data_table.ipynb>data table notebook</a>'\n",
              "            + ' to learn more about interactive tables.';\n",
              "          element.innerHTML = '';\n",
              "          dataTable['output_type'] = 'display_data';\n",
              "          await google.colab.output.renderOutput(dataTable, element);\n",
              "          const docLink = document.createElement('div');\n",
              "          docLink.innerHTML = docLinkHtml;\n",
              "          element.appendChild(docLink);\n",
              "        }\n",
              "      </script>\n",
              "    </div>\n",
              "  </div>\n",
              "  "
            ]
          },
          "metadata": {},
          "execution_count": 28
        }
      ],
      "source": [
        "estabelecimento.limit(5).toPandas()"
      ]
    },
    {
      "cell_type": "code",
      "source": [
        "for item in enumerate(estabsColNames):\n",
        "  print(item)"
      ],
      "metadata": {
        "colab": {
          "base_uri": "https://localhost:8080/"
        },
        "id": "jx6WH-gvTYwk",
        "outputId": "74c54939-022b-45a0-a06c-4acd11e7e39f"
      },
      "execution_count": 29,
      "outputs": [
        {
          "output_type": "stream",
          "name": "stdout",
          "text": [
            "(0, 'cnpj_basico')\n",
            "(1, 'cnpj_ordem')\n",
            "(2, 'cnpj_dv')\n",
            "(3, 'identificador_matriz_filial')\n",
            "(4, 'nome_fantasia')\n",
            "(5, 'situacao_cadastral')\n",
            "(6, 'data_situacao_cadastral')\n",
            "(7, 'motivo_situacao_cadastral')\n",
            "(8, 'nome_da_cidade_no_exterior')\n",
            "(9, 'pais')\n",
            "(10, 'data_de_inicio_atividade')\n",
            "(11, 'cnae_fiscal_principal')\n",
            "(12, 'cnae_fiscal_secundaria')\n",
            "(13, 'tipo_de_logradouro')\n",
            "(14, 'logradouro')\n",
            "(15, 'numero')\n",
            "(16, 'complemento')\n",
            "(17, 'bairro')\n",
            "(18, 'cep')\n",
            "(19, 'uf')\n",
            "(20, 'municipio')\n",
            "(21, 'ddd_1')\n",
            "(22, 'telefone_1')\n",
            "(23, 'ddd_2')\n",
            "(24, 'telefone_2')\n",
            "(25, 'ddd_do_fax')\n",
            "(26, 'fax')\n",
            "(27, 'correio_eletronico')\n",
            "(28, 'situacao_especial')\n",
            "(29, 'data_da_situacao_especial')\n"
          ]
        }
      ]
    },
    {
      "cell_type": "code",
      "source": [
        "for index, colName in enumerate(estabsColNames):\n",
        "  estabelecimento = estabelecimento.withColumnRenamed(f'_c{index}', colName)"
      ],
      "metadata": {
        "id": "GsgsiNSLTkSE"
      },
      "execution_count": 30,
      "outputs": []
    },
    {
      "cell_type": "code",
      "source": [
        "estabelecimento.limit(5).toPandas()"
      ],
      "metadata": {
        "colab": {
          "base_uri": "https://localhost:8080/",
          "height": 317
        },
        "id": "01dfcfbAUDBN",
        "outputId": "5dd3787d-a2be-4077-e128-1daf4cc9cd41"
      },
      "execution_count": 31,
      "outputs": [
        {
          "output_type": "execute_result",
          "data": {
            "text/plain": [
              "   cnpj_basico  cnpj_ordem  cnpj_dv  identificador_matriz_filial  \\\n",
              "0         1879           1       96                            1   \n",
              "1         2818           1       43                            1   \n",
              "2         3110           1        7                            1   \n",
              "3         3733           1       80                            1   \n",
              "4         4628           3       27                            2   \n",
              "\n",
              "       nome_fantasia  situacao_cadastral  data_situacao_cadastral  \\\n",
              "0     PIRAMIDE M. C.                   8                 20011029   \n",
              "1               None                   8                 20081231   \n",
              "2               None                   8                 19971231   \n",
              "3               None                   8                 20081231   \n",
              "4  EMBROIDERY & GIFT                   8                 19980429   \n",
              "\n",
              "   motivo_situacao_cadastral nome_da_cidade_no_exterior  pais  ...  municipio  \\\n",
              "0                          1                       None   NaN  ...       7107   \n",
              "1                         71                       None   NaN  ...       7107   \n",
              "2                          1                       None   NaN  ...       7107   \n",
              "3                         71                       None   NaN  ...       7107   \n",
              "4                          1                       None   NaN  ...       7075   \n",
              "\n",
              "   ddd_1 telefone_1 ddd_2 telefone_2 ddd_do_fax   fax correio_eletronico  \\\n",
              "0   None       None  None       None        NaN  None               None   \n",
              "1   None       None  None       None        NaN  None               None   \n",
              "2   None       None  None       None        NaN  None               None   \n",
              "3   None       None  None       None        NaN  None               None   \n",
              "4   None       None  None       None        NaN  None               None   \n",
              "\n",
              "   situacao_especial data_da_situacao_especial  \n",
              "0               None                       NaN  \n",
              "1               None                       NaN  \n",
              "2               None                       NaN  \n",
              "3               None                       NaN  \n",
              "4               None                       NaN  \n",
              "\n",
              "[5 rows x 30 columns]"
            ],
            "text/html": [
              "\n",
              "  <div id=\"df-15053acc-8f62-4b04-8aa0-3613af6d1e3b\">\n",
              "    <div class=\"colab-df-container\">\n",
              "      <div>\n",
              "<style scoped>\n",
              "    .dataframe tbody tr th:only-of-type {\n",
              "        vertical-align: middle;\n",
              "    }\n",
              "\n",
              "    .dataframe tbody tr th {\n",
              "        vertical-align: top;\n",
              "    }\n",
              "\n",
              "    .dataframe thead th {\n",
              "        text-align: right;\n",
              "    }\n",
              "</style>\n",
              "<table border=\"1\" class=\"dataframe\">\n",
              "  <thead>\n",
              "    <tr style=\"text-align: right;\">\n",
              "      <th></th>\n",
              "      <th>cnpj_basico</th>\n",
              "      <th>cnpj_ordem</th>\n",
              "      <th>cnpj_dv</th>\n",
              "      <th>identificador_matriz_filial</th>\n",
              "      <th>nome_fantasia</th>\n",
              "      <th>situacao_cadastral</th>\n",
              "      <th>data_situacao_cadastral</th>\n",
              "      <th>motivo_situacao_cadastral</th>\n",
              "      <th>nome_da_cidade_no_exterior</th>\n",
              "      <th>pais</th>\n",
              "      <th>...</th>\n",
              "      <th>municipio</th>\n",
              "      <th>ddd_1</th>\n",
              "      <th>telefone_1</th>\n",
              "      <th>ddd_2</th>\n",
              "      <th>telefone_2</th>\n",
              "      <th>ddd_do_fax</th>\n",
              "      <th>fax</th>\n",
              "      <th>correio_eletronico</th>\n",
              "      <th>situacao_especial</th>\n",
              "      <th>data_da_situacao_especial</th>\n",
              "    </tr>\n",
              "  </thead>\n",
              "  <tbody>\n",
              "    <tr>\n",
              "      <th>0</th>\n",
              "      <td>1879</td>\n",
              "      <td>1</td>\n",
              "      <td>96</td>\n",
              "      <td>1</td>\n",
              "      <td>PIRAMIDE M. C.</td>\n",
              "      <td>8</td>\n",
              "      <td>20011029</td>\n",
              "      <td>1</td>\n",
              "      <td>None</td>\n",
              "      <td>NaN</td>\n",
              "      <td>...</td>\n",
              "      <td>7107</td>\n",
              "      <td>None</td>\n",
              "      <td>None</td>\n",
              "      <td>None</td>\n",
              "      <td>None</td>\n",
              "      <td>NaN</td>\n",
              "      <td>None</td>\n",
              "      <td>None</td>\n",
              "      <td>None</td>\n",
              "      <td>NaN</td>\n",
              "    </tr>\n",
              "    <tr>\n",
              "      <th>1</th>\n",
              "      <td>2818</td>\n",
              "      <td>1</td>\n",
              "      <td>43</td>\n",
              "      <td>1</td>\n",
              "      <td>None</td>\n",
              "      <td>8</td>\n",
              "      <td>20081231</td>\n",
              "      <td>71</td>\n",
              "      <td>None</td>\n",
              "      <td>NaN</td>\n",
              "      <td>...</td>\n",
              "      <td>7107</td>\n",
              "      <td>None</td>\n",
              "      <td>None</td>\n",
              "      <td>None</td>\n",
              "      <td>None</td>\n",
              "      <td>NaN</td>\n",
              "      <td>None</td>\n",
              "      <td>None</td>\n",
              "      <td>None</td>\n",
              "      <td>NaN</td>\n",
              "    </tr>\n",
              "    <tr>\n",
              "      <th>2</th>\n",
              "      <td>3110</td>\n",
              "      <td>1</td>\n",
              "      <td>7</td>\n",
              "      <td>1</td>\n",
              "      <td>None</td>\n",
              "      <td>8</td>\n",
              "      <td>19971231</td>\n",
              "      <td>1</td>\n",
              "      <td>None</td>\n",
              "      <td>NaN</td>\n",
              "      <td>...</td>\n",
              "      <td>7107</td>\n",
              "      <td>None</td>\n",
              "      <td>None</td>\n",
              "      <td>None</td>\n",
              "      <td>None</td>\n",
              "      <td>NaN</td>\n",
              "      <td>None</td>\n",
              "      <td>None</td>\n",
              "      <td>None</td>\n",
              "      <td>NaN</td>\n",
              "    </tr>\n",
              "    <tr>\n",
              "      <th>3</th>\n",
              "      <td>3733</td>\n",
              "      <td>1</td>\n",
              "      <td>80</td>\n",
              "      <td>1</td>\n",
              "      <td>None</td>\n",
              "      <td>8</td>\n",
              "      <td>20081231</td>\n",
              "      <td>71</td>\n",
              "      <td>None</td>\n",
              "      <td>NaN</td>\n",
              "      <td>...</td>\n",
              "      <td>7107</td>\n",
              "      <td>None</td>\n",
              "      <td>None</td>\n",
              "      <td>None</td>\n",
              "      <td>None</td>\n",
              "      <td>NaN</td>\n",
              "      <td>None</td>\n",
              "      <td>None</td>\n",
              "      <td>None</td>\n",
              "      <td>NaN</td>\n",
              "    </tr>\n",
              "    <tr>\n",
              "      <th>4</th>\n",
              "      <td>4628</td>\n",
              "      <td>3</td>\n",
              "      <td>27</td>\n",
              "      <td>2</td>\n",
              "      <td>EMBROIDERY &amp; GIFT</td>\n",
              "      <td>8</td>\n",
              "      <td>19980429</td>\n",
              "      <td>1</td>\n",
              "      <td>None</td>\n",
              "      <td>NaN</td>\n",
              "      <td>...</td>\n",
              "      <td>7075</td>\n",
              "      <td>None</td>\n",
              "      <td>None</td>\n",
              "      <td>None</td>\n",
              "      <td>None</td>\n",
              "      <td>NaN</td>\n",
              "      <td>None</td>\n",
              "      <td>None</td>\n",
              "      <td>None</td>\n",
              "      <td>NaN</td>\n",
              "    </tr>\n",
              "  </tbody>\n",
              "</table>\n",
              "<p>5 rows × 30 columns</p>\n",
              "</div>\n",
              "      <button class=\"colab-df-convert\" onclick=\"convertToInteractive('df-15053acc-8f62-4b04-8aa0-3613af6d1e3b')\"\n",
              "              title=\"Convert this dataframe to an interactive table.\"\n",
              "              style=\"display:none;\">\n",
              "        \n",
              "  <svg xmlns=\"http://www.w3.org/2000/svg\" height=\"24px\"viewBox=\"0 0 24 24\"\n",
              "       width=\"24px\">\n",
              "    <path d=\"M0 0h24v24H0V0z\" fill=\"none\"/>\n",
              "    <path d=\"M18.56 5.44l.94 2.06.94-2.06 2.06-.94-2.06-.94-.94-2.06-.94 2.06-2.06.94zm-11 1L8.5 8.5l.94-2.06 2.06-.94-2.06-.94L8.5 2.5l-.94 2.06-2.06.94zm10 10l.94 2.06.94-2.06 2.06-.94-2.06-.94-.94-2.06-.94 2.06-2.06.94z\"/><path d=\"M17.41 7.96l-1.37-1.37c-.4-.4-.92-.59-1.43-.59-.52 0-1.04.2-1.43.59L10.3 9.45l-7.72 7.72c-.78.78-.78 2.05 0 2.83L4 21.41c.39.39.9.59 1.41.59.51 0 1.02-.2 1.41-.59l7.78-7.78 2.81-2.81c.8-.78.8-2.07 0-2.86zM5.41 20L4 18.59l7.72-7.72 1.47 1.35L5.41 20z\"/>\n",
              "  </svg>\n",
              "      </button>\n",
              "      \n",
              "  <style>\n",
              "    .colab-df-container {\n",
              "      display:flex;\n",
              "      flex-wrap:wrap;\n",
              "      gap: 12px;\n",
              "    }\n",
              "\n",
              "    .colab-df-convert {\n",
              "      background-color: #E8F0FE;\n",
              "      border: none;\n",
              "      border-radius: 50%;\n",
              "      cursor: pointer;\n",
              "      display: none;\n",
              "      fill: #1967D2;\n",
              "      height: 32px;\n",
              "      padding: 0 0 0 0;\n",
              "      width: 32px;\n",
              "    }\n",
              "\n",
              "    .colab-df-convert:hover {\n",
              "      background-color: #E2EBFA;\n",
              "      box-shadow: 0px 1px 2px rgba(60, 64, 67, 0.3), 0px 1px 3px 1px rgba(60, 64, 67, 0.15);\n",
              "      fill: #174EA6;\n",
              "    }\n",
              "\n",
              "    [theme=dark] .colab-df-convert {\n",
              "      background-color: #3B4455;\n",
              "      fill: #D2E3FC;\n",
              "    }\n",
              "\n",
              "    [theme=dark] .colab-df-convert:hover {\n",
              "      background-color: #434B5C;\n",
              "      box-shadow: 0px 1px 3px 1px rgba(0, 0, 0, 0.15);\n",
              "      filter: drop-shadow(0px 1px 2px rgba(0, 0, 0, 0.3));\n",
              "      fill: #FFFFFF;\n",
              "    }\n",
              "  </style>\n",
              "\n",
              "      <script>\n",
              "        const buttonEl =\n",
              "          document.querySelector('#df-15053acc-8f62-4b04-8aa0-3613af6d1e3b button.colab-df-convert');\n",
              "        buttonEl.style.display =\n",
              "          google.colab.kernel.accessAllowed ? 'block' : 'none';\n",
              "\n",
              "        async function convertToInteractive(key) {\n",
              "          const element = document.querySelector('#df-15053acc-8f62-4b04-8aa0-3613af6d1e3b');\n",
              "          const dataTable =\n",
              "            await google.colab.kernel.invokeFunction('convertToInteractive',\n",
              "                                                     [key], {});\n",
              "          if (!dataTable) return;\n",
              "\n",
              "          const docLinkHtml = 'Like what you see? Visit the ' +\n",
              "            '<a target=\"_blank\" href=https://colab.research.google.com/notebooks/data_table.ipynb>data table notebook</a>'\n",
              "            + ' to learn more about interactive tables.';\n",
              "          element.innerHTML = '';\n",
              "          dataTable['output_type'] = 'display_data';\n",
              "          await google.colab.output.renderOutput(dataTable, element);\n",
              "          const docLink = document.createElement('div');\n",
              "          docLink.innerHTML = docLinkHtml;\n",
              "          element.appendChild(docLink);\n",
              "        }\n",
              "      </script>\n",
              "    </div>\n",
              "  </div>\n",
              "  "
            ]
          },
          "metadata": {},
          "execution_count": 31
        }
      ]
    },
    {
      "cell_type": "markdown",
      "source": [
        "## Renomeando socios"
      ],
      "metadata": {
        "id": "DDzQX08sTWuN"
      }
    },
    {
      "cell_type": "code",
      "execution_count": 32,
      "metadata": {
        "id": "-hR0XZghGlH_"
      },
      "outputs": [],
      "source": [
        "sociosColNames = ['cnpj_basico', 'identificador_de_socio', 'nome_do_socio_ou_razao_social', 'cnpj_ou_cpf_do_socio', 'qualificacao_do_socio', 'data_de_entrada_sociedade', 'pais', 'representante_legal', 'nome_do_representante', 'qualificacao_do_representante_legal', 'faixa_etaria']"
      ]
    },
    {
      "cell_type": "code",
      "execution_count": 33,
      "metadata": {
        "id": "mjBME0tPGlH_",
        "colab": {
          "base_uri": "https://localhost:8080/",
          "height": 206
        },
        "outputId": "d3acd56a-3373-434b-cf58-8ed2a83321b1"
      },
      "outputs": [
        {
          "output_type": "execute_result",
          "data": {
            "text/plain": [
              "     _c0  _c1                              _c2          _c3  _c4       _c5  \\\n",
              "0    411    2      LILIANA PATRICIA GUASTAVINO  ***678188**   22  19940725   \n",
              "1    411    2             CRISTINA HUNDERTMARK  ***637848**   28  19940725   \n",
              "2   5813    2  CELSO EDUARDO DE CASTRO STEPHAN  ***786068**   49  19940516   \n",
              "3   5813    2        EDUARDO BERRINGER STEPHAN  ***442348**   49  19940516   \n",
              "4  14798    2              HANNE MAHFOUD FADEL  ***760388**   49  19940609   \n",
              "\n",
              "   _c6          _c7   _c8  _c9  _c10  \n",
              "0  NaN  ***000000**  None    0     7  \n",
              "1  NaN  ***000000**  None    0     7  \n",
              "2  NaN  ***000000**  None    0     8  \n",
              "3  NaN  ***000000**  None    0     5  \n",
              "4  NaN  ***000000**  None    0     8  "
            ],
            "text/html": [
              "\n",
              "  <div id=\"df-8c3f9ef0-8b47-41f8-a46a-0fccaf8da229\">\n",
              "    <div class=\"colab-df-container\">\n",
              "      <div>\n",
              "<style scoped>\n",
              "    .dataframe tbody tr th:only-of-type {\n",
              "        vertical-align: middle;\n",
              "    }\n",
              "\n",
              "    .dataframe tbody tr th {\n",
              "        vertical-align: top;\n",
              "    }\n",
              "\n",
              "    .dataframe thead th {\n",
              "        text-align: right;\n",
              "    }\n",
              "</style>\n",
              "<table border=\"1\" class=\"dataframe\">\n",
              "  <thead>\n",
              "    <tr style=\"text-align: right;\">\n",
              "      <th></th>\n",
              "      <th>_c0</th>\n",
              "      <th>_c1</th>\n",
              "      <th>_c2</th>\n",
              "      <th>_c3</th>\n",
              "      <th>_c4</th>\n",
              "      <th>_c5</th>\n",
              "      <th>_c6</th>\n",
              "      <th>_c7</th>\n",
              "      <th>_c8</th>\n",
              "      <th>_c9</th>\n",
              "      <th>_c10</th>\n",
              "    </tr>\n",
              "  </thead>\n",
              "  <tbody>\n",
              "    <tr>\n",
              "      <th>0</th>\n",
              "      <td>411</td>\n",
              "      <td>2</td>\n",
              "      <td>LILIANA PATRICIA GUASTAVINO</td>\n",
              "      <td>***678188**</td>\n",
              "      <td>22</td>\n",
              "      <td>19940725</td>\n",
              "      <td>NaN</td>\n",
              "      <td>***000000**</td>\n",
              "      <td>None</td>\n",
              "      <td>0</td>\n",
              "      <td>7</td>\n",
              "    </tr>\n",
              "    <tr>\n",
              "      <th>1</th>\n",
              "      <td>411</td>\n",
              "      <td>2</td>\n",
              "      <td>CRISTINA HUNDERTMARK</td>\n",
              "      <td>***637848**</td>\n",
              "      <td>28</td>\n",
              "      <td>19940725</td>\n",
              "      <td>NaN</td>\n",
              "      <td>***000000**</td>\n",
              "      <td>None</td>\n",
              "      <td>0</td>\n",
              "      <td>7</td>\n",
              "    </tr>\n",
              "    <tr>\n",
              "      <th>2</th>\n",
              "      <td>5813</td>\n",
              "      <td>2</td>\n",
              "      <td>CELSO EDUARDO DE CASTRO STEPHAN</td>\n",
              "      <td>***786068**</td>\n",
              "      <td>49</td>\n",
              "      <td>19940516</td>\n",
              "      <td>NaN</td>\n",
              "      <td>***000000**</td>\n",
              "      <td>None</td>\n",
              "      <td>0</td>\n",
              "      <td>8</td>\n",
              "    </tr>\n",
              "    <tr>\n",
              "      <th>3</th>\n",
              "      <td>5813</td>\n",
              "      <td>2</td>\n",
              "      <td>EDUARDO BERRINGER STEPHAN</td>\n",
              "      <td>***442348**</td>\n",
              "      <td>49</td>\n",
              "      <td>19940516</td>\n",
              "      <td>NaN</td>\n",
              "      <td>***000000**</td>\n",
              "      <td>None</td>\n",
              "      <td>0</td>\n",
              "      <td>5</td>\n",
              "    </tr>\n",
              "    <tr>\n",
              "      <th>4</th>\n",
              "      <td>14798</td>\n",
              "      <td>2</td>\n",
              "      <td>HANNE MAHFOUD FADEL</td>\n",
              "      <td>***760388**</td>\n",
              "      <td>49</td>\n",
              "      <td>19940609</td>\n",
              "      <td>NaN</td>\n",
              "      <td>***000000**</td>\n",
              "      <td>None</td>\n",
              "      <td>0</td>\n",
              "      <td>8</td>\n",
              "    </tr>\n",
              "  </tbody>\n",
              "</table>\n",
              "</div>\n",
              "      <button class=\"colab-df-convert\" onclick=\"convertToInteractive('df-8c3f9ef0-8b47-41f8-a46a-0fccaf8da229')\"\n",
              "              title=\"Convert this dataframe to an interactive table.\"\n",
              "              style=\"display:none;\">\n",
              "        \n",
              "  <svg xmlns=\"http://www.w3.org/2000/svg\" height=\"24px\"viewBox=\"0 0 24 24\"\n",
              "       width=\"24px\">\n",
              "    <path d=\"M0 0h24v24H0V0z\" fill=\"none\"/>\n",
              "    <path d=\"M18.56 5.44l.94 2.06.94-2.06 2.06-.94-2.06-.94-.94-2.06-.94 2.06-2.06.94zm-11 1L8.5 8.5l.94-2.06 2.06-.94-2.06-.94L8.5 2.5l-.94 2.06-2.06.94zm10 10l.94 2.06.94-2.06 2.06-.94-2.06-.94-.94-2.06-.94 2.06-2.06.94z\"/><path d=\"M17.41 7.96l-1.37-1.37c-.4-.4-.92-.59-1.43-.59-.52 0-1.04.2-1.43.59L10.3 9.45l-7.72 7.72c-.78.78-.78 2.05 0 2.83L4 21.41c.39.39.9.59 1.41.59.51 0 1.02-.2 1.41-.59l7.78-7.78 2.81-2.81c.8-.78.8-2.07 0-2.86zM5.41 20L4 18.59l7.72-7.72 1.47 1.35L5.41 20z\"/>\n",
              "  </svg>\n",
              "      </button>\n",
              "      \n",
              "  <style>\n",
              "    .colab-df-container {\n",
              "      display:flex;\n",
              "      flex-wrap:wrap;\n",
              "      gap: 12px;\n",
              "    }\n",
              "\n",
              "    .colab-df-convert {\n",
              "      background-color: #E8F0FE;\n",
              "      border: none;\n",
              "      border-radius: 50%;\n",
              "      cursor: pointer;\n",
              "      display: none;\n",
              "      fill: #1967D2;\n",
              "      height: 32px;\n",
              "      padding: 0 0 0 0;\n",
              "      width: 32px;\n",
              "    }\n",
              "\n",
              "    .colab-df-convert:hover {\n",
              "      background-color: #E2EBFA;\n",
              "      box-shadow: 0px 1px 2px rgba(60, 64, 67, 0.3), 0px 1px 3px 1px rgba(60, 64, 67, 0.15);\n",
              "      fill: #174EA6;\n",
              "    }\n",
              "\n",
              "    [theme=dark] .colab-df-convert {\n",
              "      background-color: #3B4455;\n",
              "      fill: #D2E3FC;\n",
              "    }\n",
              "\n",
              "    [theme=dark] .colab-df-convert:hover {\n",
              "      background-color: #434B5C;\n",
              "      box-shadow: 0px 1px 3px 1px rgba(0, 0, 0, 0.15);\n",
              "      filter: drop-shadow(0px 1px 2px rgba(0, 0, 0, 0.3));\n",
              "      fill: #FFFFFF;\n",
              "    }\n",
              "  </style>\n",
              "\n",
              "      <script>\n",
              "        const buttonEl =\n",
              "          document.querySelector('#df-8c3f9ef0-8b47-41f8-a46a-0fccaf8da229 button.colab-df-convert');\n",
              "        buttonEl.style.display =\n",
              "          google.colab.kernel.accessAllowed ? 'block' : 'none';\n",
              "\n",
              "        async function convertToInteractive(key) {\n",
              "          const element = document.querySelector('#df-8c3f9ef0-8b47-41f8-a46a-0fccaf8da229');\n",
              "          const dataTable =\n",
              "            await google.colab.kernel.invokeFunction('convertToInteractive',\n",
              "                                                     [key], {});\n",
              "          if (!dataTable) return;\n",
              "\n",
              "          const docLinkHtml = 'Like what you see? Visit the ' +\n",
              "            '<a target=\"_blank\" href=https://colab.research.google.com/notebooks/data_table.ipynb>data table notebook</a>'\n",
              "            + ' to learn more about interactive tables.';\n",
              "          element.innerHTML = '';\n",
              "          dataTable['output_type'] = 'display_data';\n",
              "          await google.colab.output.renderOutput(dataTable, element);\n",
              "          const docLink = document.createElement('div');\n",
              "          docLink.innerHTML = docLinkHtml;\n",
              "          element.appendChild(docLink);\n",
              "        }\n",
              "      </script>\n",
              "    </div>\n",
              "  </div>\n",
              "  "
            ]
          },
          "metadata": {},
          "execution_count": 33
        }
      ],
      "source": [
        "socios.limit(5).toPandas()"
      ]
    },
    {
      "cell_type": "code",
      "source": [
        "for index, colNames  in enumerate(sociosColNames):\n",
        "  socios = socios.withColumnRenamed(f'_c{index}', colNames)\n",
        "socios.limit(5).toPandas()"
      ],
      "metadata": {
        "colab": {
          "base_uri": "https://localhost:8080/",
          "height": 288
        },
        "id": "hRQdwQ7XUPNl",
        "outputId": "48781a4e-137e-4518-f2e5-b28dc04b5eeb"
      },
      "execution_count": 34,
      "outputs": [
        {
          "output_type": "execute_result",
          "data": {
            "text/plain": [
              "   cnpj_basico  identificador_de_socio    nome_do_socio_ou_razao_social  \\\n",
              "0          411                       2      LILIANA PATRICIA GUASTAVINO   \n",
              "1          411                       2             CRISTINA HUNDERTMARK   \n",
              "2         5813                       2  CELSO EDUARDO DE CASTRO STEPHAN   \n",
              "3         5813                       2        EDUARDO BERRINGER STEPHAN   \n",
              "4        14798                       2              HANNE MAHFOUD FADEL   \n",
              "\n",
              "  cnpj_ou_cpf_do_socio  qualificacao_do_socio  data_de_entrada_sociedade  \\\n",
              "0          ***678188**                     22                   19940725   \n",
              "1          ***637848**                     28                   19940725   \n",
              "2          ***786068**                     49                   19940516   \n",
              "3          ***442348**                     49                   19940516   \n",
              "4          ***760388**                     49                   19940609   \n",
              "\n",
              "   pais representante_legal nome_do_representante  \\\n",
              "0   NaN         ***000000**                  None   \n",
              "1   NaN         ***000000**                  None   \n",
              "2   NaN         ***000000**                  None   \n",
              "3   NaN         ***000000**                  None   \n",
              "4   NaN         ***000000**                  None   \n",
              "\n",
              "   qualificacao_do_representante_legal  faixa_etaria  \n",
              "0                                    0             7  \n",
              "1                                    0             7  \n",
              "2                                    0             8  \n",
              "3                                    0             5  \n",
              "4                                    0             8  "
            ],
            "text/html": [
              "\n",
              "  <div id=\"df-efc92adf-a1d6-4f32-8bbf-0d541160af66\">\n",
              "    <div class=\"colab-df-container\">\n",
              "      <div>\n",
              "<style scoped>\n",
              "    .dataframe tbody tr th:only-of-type {\n",
              "        vertical-align: middle;\n",
              "    }\n",
              "\n",
              "    .dataframe tbody tr th {\n",
              "        vertical-align: top;\n",
              "    }\n",
              "\n",
              "    .dataframe thead th {\n",
              "        text-align: right;\n",
              "    }\n",
              "</style>\n",
              "<table border=\"1\" class=\"dataframe\">\n",
              "  <thead>\n",
              "    <tr style=\"text-align: right;\">\n",
              "      <th></th>\n",
              "      <th>cnpj_basico</th>\n",
              "      <th>identificador_de_socio</th>\n",
              "      <th>nome_do_socio_ou_razao_social</th>\n",
              "      <th>cnpj_ou_cpf_do_socio</th>\n",
              "      <th>qualificacao_do_socio</th>\n",
              "      <th>data_de_entrada_sociedade</th>\n",
              "      <th>pais</th>\n",
              "      <th>representante_legal</th>\n",
              "      <th>nome_do_representante</th>\n",
              "      <th>qualificacao_do_representante_legal</th>\n",
              "      <th>faixa_etaria</th>\n",
              "    </tr>\n",
              "  </thead>\n",
              "  <tbody>\n",
              "    <tr>\n",
              "      <th>0</th>\n",
              "      <td>411</td>\n",
              "      <td>2</td>\n",
              "      <td>LILIANA PATRICIA GUASTAVINO</td>\n",
              "      <td>***678188**</td>\n",
              "      <td>22</td>\n",
              "      <td>19940725</td>\n",
              "      <td>NaN</td>\n",
              "      <td>***000000**</td>\n",
              "      <td>None</td>\n",
              "      <td>0</td>\n",
              "      <td>7</td>\n",
              "    </tr>\n",
              "    <tr>\n",
              "      <th>1</th>\n",
              "      <td>411</td>\n",
              "      <td>2</td>\n",
              "      <td>CRISTINA HUNDERTMARK</td>\n",
              "      <td>***637848**</td>\n",
              "      <td>28</td>\n",
              "      <td>19940725</td>\n",
              "      <td>NaN</td>\n",
              "      <td>***000000**</td>\n",
              "      <td>None</td>\n",
              "      <td>0</td>\n",
              "      <td>7</td>\n",
              "    </tr>\n",
              "    <tr>\n",
              "      <th>2</th>\n",
              "      <td>5813</td>\n",
              "      <td>2</td>\n",
              "      <td>CELSO EDUARDO DE CASTRO STEPHAN</td>\n",
              "      <td>***786068**</td>\n",
              "      <td>49</td>\n",
              "      <td>19940516</td>\n",
              "      <td>NaN</td>\n",
              "      <td>***000000**</td>\n",
              "      <td>None</td>\n",
              "      <td>0</td>\n",
              "      <td>8</td>\n",
              "    </tr>\n",
              "    <tr>\n",
              "      <th>3</th>\n",
              "      <td>5813</td>\n",
              "      <td>2</td>\n",
              "      <td>EDUARDO BERRINGER STEPHAN</td>\n",
              "      <td>***442348**</td>\n",
              "      <td>49</td>\n",
              "      <td>19940516</td>\n",
              "      <td>NaN</td>\n",
              "      <td>***000000**</td>\n",
              "      <td>None</td>\n",
              "      <td>0</td>\n",
              "      <td>5</td>\n",
              "    </tr>\n",
              "    <tr>\n",
              "      <th>4</th>\n",
              "      <td>14798</td>\n",
              "      <td>2</td>\n",
              "      <td>HANNE MAHFOUD FADEL</td>\n",
              "      <td>***760388**</td>\n",
              "      <td>49</td>\n",
              "      <td>19940609</td>\n",
              "      <td>NaN</td>\n",
              "      <td>***000000**</td>\n",
              "      <td>None</td>\n",
              "      <td>0</td>\n",
              "      <td>8</td>\n",
              "    </tr>\n",
              "  </tbody>\n",
              "</table>\n",
              "</div>\n",
              "      <button class=\"colab-df-convert\" onclick=\"convertToInteractive('df-efc92adf-a1d6-4f32-8bbf-0d541160af66')\"\n",
              "              title=\"Convert this dataframe to an interactive table.\"\n",
              "              style=\"display:none;\">\n",
              "        \n",
              "  <svg xmlns=\"http://www.w3.org/2000/svg\" height=\"24px\"viewBox=\"0 0 24 24\"\n",
              "       width=\"24px\">\n",
              "    <path d=\"M0 0h24v24H0V0z\" fill=\"none\"/>\n",
              "    <path d=\"M18.56 5.44l.94 2.06.94-2.06 2.06-.94-2.06-.94-.94-2.06-.94 2.06-2.06.94zm-11 1L8.5 8.5l.94-2.06 2.06-.94-2.06-.94L8.5 2.5l-.94 2.06-2.06.94zm10 10l.94 2.06.94-2.06 2.06-.94-2.06-.94-.94-2.06-.94 2.06-2.06.94z\"/><path d=\"M17.41 7.96l-1.37-1.37c-.4-.4-.92-.59-1.43-.59-.52 0-1.04.2-1.43.59L10.3 9.45l-7.72 7.72c-.78.78-.78 2.05 0 2.83L4 21.41c.39.39.9.59 1.41.59.51 0 1.02-.2 1.41-.59l7.78-7.78 2.81-2.81c.8-.78.8-2.07 0-2.86zM5.41 20L4 18.59l7.72-7.72 1.47 1.35L5.41 20z\"/>\n",
              "  </svg>\n",
              "      </button>\n",
              "      \n",
              "  <style>\n",
              "    .colab-df-container {\n",
              "      display:flex;\n",
              "      flex-wrap:wrap;\n",
              "      gap: 12px;\n",
              "    }\n",
              "\n",
              "    .colab-df-convert {\n",
              "      background-color: #E8F0FE;\n",
              "      border: none;\n",
              "      border-radius: 50%;\n",
              "      cursor: pointer;\n",
              "      display: none;\n",
              "      fill: #1967D2;\n",
              "      height: 32px;\n",
              "      padding: 0 0 0 0;\n",
              "      width: 32px;\n",
              "    }\n",
              "\n",
              "    .colab-df-convert:hover {\n",
              "      background-color: #E2EBFA;\n",
              "      box-shadow: 0px 1px 2px rgba(60, 64, 67, 0.3), 0px 1px 3px 1px rgba(60, 64, 67, 0.15);\n",
              "      fill: #174EA6;\n",
              "    }\n",
              "\n",
              "    [theme=dark] .colab-df-convert {\n",
              "      background-color: #3B4455;\n",
              "      fill: #D2E3FC;\n",
              "    }\n",
              "\n",
              "    [theme=dark] .colab-df-convert:hover {\n",
              "      background-color: #434B5C;\n",
              "      box-shadow: 0px 1px 3px 1px rgba(0, 0, 0, 0.15);\n",
              "      filter: drop-shadow(0px 1px 2px rgba(0, 0, 0, 0.3));\n",
              "      fill: #FFFFFF;\n",
              "    }\n",
              "  </style>\n",
              "\n",
              "      <script>\n",
              "        const buttonEl =\n",
              "          document.querySelector('#df-efc92adf-a1d6-4f32-8bbf-0d541160af66 button.colab-df-convert');\n",
              "        buttonEl.style.display =\n",
              "          google.colab.kernel.accessAllowed ? 'block' : 'none';\n",
              "\n",
              "        async function convertToInteractive(key) {\n",
              "          const element = document.querySelector('#df-efc92adf-a1d6-4f32-8bbf-0d541160af66');\n",
              "          const dataTable =\n",
              "            await google.colab.kernel.invokeFunction('convertToInteractive',\n",
              "                                                     [key], {});\n",
              "          if (!dataTable) return;\n",
              "\n",
              "          const docLinkHtml = 'Like what you see? Visit the ' +\n",
              "            '<a target=\"_blank\" href=https://colab.research.google.com/notebooks/data_table.ipynb>data table notebook</a>'\n",
              "            + ' to learn more about interactive tables.';\n",
              "          element.innerHTML = '';\n",
              "          dataTable['output_type'] = 'display_data';\n",
              "          await google.colab.output.renderOutput(dataTable, element);\n",
              "          const docLink = document.createElement('div');\n",
              "          docLink.innerHTML = docLinkHtml;\n",
              "          element.appendChild(docLink);\n",
              "        }\n",
              "      </script>\n",
              "    </div>\n",
              "  </div>\n",
              "  "
            ]
          },
          "metadata": {},
          "execution_count": 34
        }
      ]
    },
    {
      "cell_type": "markdown",
      "source": [
        "----------"
      ],
      "metadata": {
        "id": "Ff8R12vbWQww"
      }
    },
    {
      "cell_type": "markdown",
      "metadata": {
        "id": "EnibIqSUGlH_"
      },
      "source": [
        "## Analisando os dados\n",
        "\n",
        "[Data Types](https://spark.apache.org/docs/3.1.2/api/python/reference/pyspark.sql.html#data-types)"
      ]
    },
    {
      "cell_type": "markdown",
      "source": [
        "Vendo esquemas das labels</br>\n",
        "▶ **Importante** </br>\n",
        "No Spark o padrão é o \".\" (ponto) ao invés da virgula. O dataset está com informações brasileiras.\n",
        "\n",
        "- Algumas datas estão como inteiros;\n",
        "- Há valores nulos e NaN"
      ],
      "metadata": {
        "id": "BKTNiGJ8U2gm"
      }
    },
    {
      "cell_type": "code",
      "execution_count": 35,
      "metadata": {
        "id": "7BCEdVduXqLP",
        "colab": {
          "base_uri": "https://localhost:8080/"
        },
        "outputId": "48078ed7-58d6-4fb2-bf6c-102475779d28"
      },
      "outputs": [
        {
          "output_type": "stream",
          "name": "stdout",
          "text": [
            "root\n",
            " |-- cnpj_basico: string (nullable = true)\n",
            " |-- razao_social_nome_empresarial: string (nullable = true)\n",
            " |-- natureza_juridica: string (nullable = true)\n",
            " |-- qualificacao_do_responsavel: string (nullable = true)\n",
            " |-- capital_social_da_empresa: string (nullable = true)\n",
            " |-- porte_da_empresa: string (nullable = true)\n",
            " |-- ente_federativo_responsavel: string (nullable = true)\n",
            "\n"
          ]
        }
      ],
      "source": [
        "empresas.printSchema()"
      ]
    },
    {
      "cell_type": "code",
      "execution_count": 36,
      "metadata": {
        "id": "aocivOoxGlIA",
        "colab": {
          "base_uri": "https://localhost:8080/"
        },
        "outputId": "14eb6fd5-9788-49a3-f37b-f625e7221054"
      },
      "outputs": [
        {
          "output_type": "stream",
          "name": "stdout",
          "text": [
            "root\n",
            " |-- cnpj_basico: integer (nullable = true)\n",
            " |-- identificador_de_socio: integer (nullable = true)\n",
            " |-- nome_do_socio_ou_razao_social: string (nullable = true)\n",
            " |-- cnpj_ou_cpf_do_socio: string (nullable = true)\n",
            " |-- qualificacao_do_socio: integer (nullable = true)\n",
            " |-- data_de_entrada_sociedade: integer (nullable = true)\n",
            " |-- pais: integer (nullable = true)\n",
            " |-- representante_legal: string (nullable = true)\n",
            " |-- nome_do_representante: string (nullable = true)\n",
            " |-- qualificacao_do_representante_legal: integer (nullable = true)\n",
            " |-- faixa_etaria: integer (nullable = true)\n",
            "\n"
          ]
        }
      ],
      "source": [
        "socios.printSchema()"
      ]
    },
    {
      "cell_type": "code",
      "execution_count": 37,
      "metadata": {
        "id": "CNQJP7E6UsGC",
        "colab": {
          "base_uri": "https://localhost:8080/"
        },
        "outputId": "085a56e9-7afe-4b86-dc89-ec56ba144b6a"
      },
      "outputs": [
        {
          "output_type": "stream",
          "name": "stdout",
          "text": [
            "root\n",
            " |-- cnpj_basico: integer (nullable = true)\n",
            " |-- cnpj_ordem: integer (nullable = true)\n",
            " |-- cnpj_dv: integer (nullable = true)\n",
            " |-- identificador_matriz_filial: integer (nullable = true)\n",
            " |-- nome_fantasia: string (nullable = true)\n",
            " |-- situacao_cadastral: integer (nullable = true)\n",
            " |-- data_situacao_cadastral: integer (nullable = true)\n",
            " |-- motivo_situacao_cadastral: integer (nullable = true)\n",
            " |-- nome_da_cidade_no_exterior: string (nullable = true)\n",
            " |-- pais: integer (nullable = true)\n",
            " |-- data_de_inicio_atividade: integer (nullable = true)\n",
            " |-- cnae_fiscal_principal: integer (nullable = true)\n",
            " |-- cnae_fiscal_secundaria: string (nullable = true)\n",
            " |-- tipo_de_logradouro: string (nullable = true)\n",
            " |-- logradouro: string (nullable = true)\n",
            " |-- numero: string (nullable = true)\n",
            " |-- complemento: string (nullable = true)\n",
            " |-- bairro: string (nullable = true)\n",
            " |-- cep: integer (nullable = true)\n",
            " |-- uf: string (nullable = true)\n",
            " |-- municipio: integer (nullable = true)\n",
            " |-- ddd_1: string (nullable = true)\n",
            " |-- telefone_1: string (nullable = true)\n",
            " |-- ddd_2: string (nullable = true)\n",
            " |-- telefone_2: string (nullable = true)\n",
            " |-- ddd_do_fax: integer (nullable = true)\n",
            " |-- fax: string (nullable = true)\n",
            " |-- correio_eletronico: string (nullable = true)\n",
            " |-- situacao_especial: string (nullable = true)\n",
            " |-- data_da_situacao_especial: integer (nullable = true)\n",
            "\n"
          ]
        }
      ],
      "source": [
        "estabelecimento.printSchema()"
      ]
    },
    {
      "cell_type": "markdown",
      "metadata": {
        "id": "A75QicR-WYxn"
      },
      "source": [
        "## Modificando os tipos de dados\n",
        "\n",
        "[Functions](https://spark.apache.org/docs/3.1.2/api/python/reference/pyspark.sql.html#functions)\n",
        "\n",
        "[withColumn](https://spark.apache.org/docs/3.1.2/api/python/reference/api/pyspark.sql.DataFrame.withColumn.html)"
      ]
    },
    {
      "cell_type": "markdown",
      "metadata": {
        "id": "qVElbxNlfFjk"
      },
      "source": [
        "### Convertendo String ➔ Double\n",
        "\n",
        "#### `StringType ➔ DoubleType`"
      ]
    },
    {
      "cell_type": "code",
      "execution_count": 38,
      "metadata": {
        "id": "XSDekv4rbodk"
      },
      "outputs": [],
      "source": [
        "from pyspark.sql.types import DoubleType, StringType\n",
        "from pyspark.sql import functions as f"
      ]
    },
    {
      "cell_type": "code",
      "execution_count": 39,
      "metadata": {
        "id": "tjbORHHw4M5j",
        "colab": {
          "base_uri": "https://localhost:8080/"
        },
        "outputId": "b38f8bc8-c614-4095-a2c2-f849aa1b0a16"
      },
      "outputs": [
        {
          "output_type": "stream",
          "name": "stdout",
          "text": [
            "root\n",
            " |-- cnpj_basico: string (nullable = true)\n",
            " |-- razao_social_nome_empresarial: string (nullable = true)\n",
            " |-- natureza_juridica: string (nullable = true)\n",
            " |-- qualificacao_do_responsavel: string (nullable = true)\n",
            " |-- capital_social_da_empresa: string (nullable = true)\n",
            " |-- porte_da_empresa: string (nullable = true)\n",
            " |-- ente_federativo_responsavel: string (nullable = true)\n",
            "\n"
          ]
        }
      ],
      "source": [
        "empresas.printSchema()"
      ]
    },
    {
      "cell_type": "code",
      "execution_count": 40,
      "metadata": {
        "id": "EyIP_6ge4ZF4",
        "colab": {
          "base_uri": "https://localhost:8080/",
          "height": 206
        },
        "outputId": "faa6950b-0871-4cd3-850c-3dcac2035a85"
      },
      "outputs": [
        {
          "output_type": "execute_result",
          "data": {
            "text/plain": [
              "  cnpj_basico                      razao_social_nome_empresarial  \\\n",
              "0         306            FRANCAMAR REFRIGERACAO TECNICA S/C LTDA   \n",
              "1        1355                         BRASILEIRO & OLIVEIRA LTDA   \n",
              "2        4820  REGISTRO DE IMOVEIS, TABELIONATO 1 DE NOTAS E ...   \n",
              "3        5347       ROSELY APARECIDA MONTEIRO CALTABIANO FREITAS   \n",
              "4        6846                         BADU E FILHOS TECIDOS LTDA   \n",
              "\n",
              "  natureza_juridica qualificacao_do_responsavel capital_social_da_empresa  \\\n",
              "0              2240                          49                      0,00   \n",
              "1              2062                          49                      0,00   \n",
              "2              3034                          32                      0,00   \n",
              "3              2135                          50                      0,00   \n",
              "4              2062                          49                   4000,00   \n",
              "\n",
              "  porte_da_empresa ente_federativo_responsavel  \n",
              "0                1                        None  \n",
              "1                5                        None  \n",
              "2                5                        None  \n",
              "3                5                        None  \n",
              "4                1                        None  "
            ],
            "text/html": [
              "\n",
              "  <div id=\"df-94c65373-f77e-4bf0-9451-e416680f9ac3\">\n",
              "    <div class=\"colab-df-container\">\n",
              "      <div>\n",
              "<style scoped>\n",
              "    .dataframe tbody tr th:only-of-type {\n",
              "        vertical-align: middle;\n",
              "    }\n",
              "\n",
              "    .dataframe tbody tr th {\n",
              "        vertical-align: top;\n",
              "    }\n",
              "\n",
              "    .dataframe thead th {\n",
              "        text-align: right;\n",
              "    }\n",
              "</style>\n",
              "<table border=\"1\" class=\"dataframe\">\n",
              "  <thead>\n",
              "    <tr style=\"text-align: right;\">\n",
              "      <th></th>\n",
              "      <th>cnpj_basico</th>\n",
              "      <th>razao_social_nome_empresarial</th>\n",
              "      <th>natureza_juridica</th>\n",
              "      <th>qualificacao_do_responsavel</th>\n",
              "      <th>capital_social_da_empresa</th>\n",
              "      <th>porte_da_empresa</th>\n",
              "      <th>ente_federativo_responsavel</th>\n",
              "    </tr>\n",
              "  </thead>\n",
              "  <tbody>\n",
              "    <tr>\n",
              "      <th>0</th>\n",
              "      <td>306</td>\n",
              "      <td>FRANCAMAR REFRIGERACAO TECNICA S/C LTDA</td>\n",
              "      <td>2240</td>\n",
              "      <td>49</td>\n",
              "      <td>0,00</td>\n",
              "      <td>1</td>\n",
              "      <td>None</td>\n",
              "    </tr>\n",
              "    <tr>\n",
              "      <th>1</th>\n",
              "      <td>1355</td>\n",
              "      <td>BRASILEIRO &amp; OLIVEIRA LTDA</td>\n",
              "      <td>2062</td>\n",
              "      <td>49</td>\n",
              "      <td>0,00</td>\n",
              "      <td>5</td>\n",
              "      <td>None</td>\n",
              "    </tr>\n",
              "    <tr>\n",
              "      <th>2</th>\n",
              "      <td>4820</td>\n",
              "      <td>REGISTRO DE IMOVEIS, TABELIONATO 1 DE NOTAS E ...</td>\n",
              "      <td>3034</td>\n",
              "      <td>32</td>\n",
              "      <td>0,00</td>\n",
              "      <td>5</td>\n",
              "      <td>None</td>\n",
              "    </tr>\n",
              "    <tr>\n",
              "      <th>3</th>\n",
              "      <td>5347</td>\n",
              "      <td>ROSELY APARECIDA MONTEIRO CALTABIANO FREITAS</td>\n",
              "      <td>2135</td>\n",
              "      <td>50</td>\n",
              "      <td>0,00</td>\n",
              "      <td>5</td>\n",
              "      <td>None</td>\n",
              "    </tr>\n",
              "    <tr>\n",
              "      <th>4</th>\n",
              "      <td>6846</td>\n",
              "      <td>BADU E FILHOS TECIDOS LTDA</td>\n",
              "      <td>2062</td>\n",
              "      <td>49</td>\n",
              "      <td>4000,00</td>\n",
              "      <td>1</td>\n",
              "      <td>None</td>\n",
              "    </tr>\n",
              "  </tbody>\n",
              "</table>\n",
              "</div>\n",
              "      <button class=\"colab-df-convert\" onclick=\"convertToInteractive('df-94c65373-f77e-4bf0-9451-e416680f9ac3')\"\n",
              "              title=\"Convert this dataframe to an interactive table.\"\n",
              "              style=\"display:none;\">\n",
              "        \n",
              "  <svg xmlns=\"http://www.w3.org/2000/svg\" height=\"24px\"viewBox=\"0 0 24 24\"\n",
              "       width=\"24px\">\n",
              "    <path d=\"M0 0h24v24H0V0z\" fill=\"none\"/>\n",
              "    <path d=\"M18.56 5.44l.94 2.06.94-2.06 2.06-.94-2.06-.94-.94-2.06-.94 2.06-2.06.94zm-11 1L8.5 8.5l.94-2.06 2.06-.94-2.06-.94L8.5 2.5l-.94 2.06-2.06.94zm10 10l.94 2.06.94-2.06 2.06-.94-2.06-.94-.94-2.06-.94 2.06-2.06.94z\"/><path d=\"M17.41 7.96l-1.37-1.37c-.4-.4-.92-.59-1.43-.59-.52 0-1.04.2-1.43.59L10.3 9.45l-7.72 7.72c-.78.78-.78 2.05 0 2.83L4 21.41c.39.39.9.59 1.41.59.51 0 1.02-.2 1.41-.59l7.78-7.78 2.81-2.81c.8-.78.8-2.07 0-2.86zM5.41 20L4 18.59l7.72-7.72 1.47 1.35L5.41 20z\"/>\n",
              "  </svg>\n",
              "      </button>\n",
              "      \n",
              "  <style>\n",
              "    .colab-df-container {\n",
              "      display:flex;\n",
              "      flex-wrap:wrap;\n",
              "      gap: 12px;\n",
              "    }\n",
              "\n",
              "    .colab-df-convert {\n",
              "      background-color: #E8F0FE;\n",
              "      border: none;\n",
              "      border-radius: 50%;\n",
              "      cursor: pointer;\n",
              "      display: none;\n",
              "      fill: #1967D2;\n",
              "      height: 32px;\n",
              "      padding: 0 0 0 0;\n",
              "      width: 32px;\n",
              "    }\n",
              "\n",
              "    .colab-df-convert:hover {\n",
              "      background-color: #E2EBFA;\n",
              "      box-shadow: 0px 1px 2px rgba(60, 64, 67, 0.3), 0px 1px 3px 1px rgba(60, 64, 67, 0.15);\n",
              "      fill: #174EA6;\n",
              "    }\n",
              "\n",
              "    [theme=dark] .colab-df-convert {\n",
              "      background-color: #3B4455;\n",
              "      fill: #D2E3FC;\n",
              "    }\n",
              "\n",
              "    [theme=dark] .colab-df-convert:hover {\n",
              "      background-color: #434B5C;\n",
              "      box-shadow: 0px 1px 3px 1px rgba(0, 0, 0, 0.15);\n",
              "      filter: drop-shadow(0px 1px 2px rgba(0, 0, 0, 0.3));\n",
              "      fill: #FFFFFF;\n",
              "    }\n",
              "  </style>\n",
              "\n",
              "      <script>\n",
              "        const buttonEl =\n",
              "          document.querySelector('#df-94c65373-f77e-4bf0-9451-e416680f9ac3 button.colab-df-convert');\n",
              "        buttonEl.style.display =\n",
              "          google.colab.kernel.accessAllowed ? 'block' : 'none';\n",
              "\n",
              "        async function convertToInteractive(key) {\n",
              "          const element = document.querySelector('#df-94c65373-f77e-4bf0-9451-e416680f9ac3');\n",
              "          const dataTable =\n",
              "            await google.colab.kernel.invokeFunction('convertToInteractive',\n",
              "                                                     [key], {});\n",
              "          if (!dataTable) return;\n",
              "\n",
              "          const docLinkHtml = 'Like what you see? Visit the ' +\n",
              "            '<a target=\"_blank\" href=https://colab.research.google.com/notebooks/data_table.ipynb>data table notebook</a>'\n",
              "            + ' to learn more about interactive tables.';\n",
              "          element.innerHTML = '';\n",
              "          dataTable['output_type'] = 'display_data';\n",
              "          await google.colab.output.renderOutput(dataTable, element);\n",
              "          const docLink = document.createElement('div');\n",
              "          docLink.innerHTML = docLinkHtml;\n",
              "          element.appendChild(docLink);\n",
              "        }\n",
              "      </script>\n",
              "    </div>\n",
              "  </div>\n",
              "  "
            ]
          },
          "metadata": {},
          "execution_count": 40
        }
      ],
      "source": [
        "empresas.limit(5).toPandas()"
      ]
    },
    {
      "cell_type": "markdown",
      "source": [
        "Selecionando a coluna para trabalhar/modificar\n",
        "\n",
        "* Primeiro campo é o que irá ser substituido (',') e o segundo será o substituto('.')\n",
        "```\n",
        "# f.regexp_replace('capital_social_da_empresa', ',', '.')\n",
        "```\n",
        "\n",
        "\n"
      ],
      "metadata": {
        "id": "zRAV9gp8Y5Sp"
      }
    },
    {
      "cell_type": "code",
      "execution_count": 41,
      "metadata": {
        "id": "vsNOpcZoe20V",
        "colab": {
          "base_uri": "https://localhost:8080/"
        },
        "outputId": "a7c04d75-7a36-4d6a-9cbc-7d73de76eca4"
      },
      "outputs": [
        {
          "output_type": "execute_result",
          "data": {
            "text/plain": [
              "['cnpj_basico',\n",
              " 'razao_social_nome_empresarial',\n",
              " 'natureza_juridica',\n",
              " 'qualificacao_do_responsavel',\n",
              " 'capital_social_da_empresa',\n",
              " 'porte_da_empresa',\n",
              " 'ente_federativo_responsavel']"
            ]
          },
          "metadata": {},
          "execution_count": 41
        }
      ],
      "source": [
        "empresas.columns"
      ]
    },
    {
      "cell_type": "code",
      "execution_count": 42,
      "metadata": {
        "id": "ZUdfkV6EeCJt"
      },
      "outputs": [],
      "source": [
        "empresas = empresas.withColumn('capital_social_da_empresa', f.regexp_replace('capital_social_da_empresa', ',', '.'))"
      ]
    },
    {
      "cell_type": "code",
      "execution_count": 43,
      "metadata": {
        "id": "5qUYxtZSGlIE",
        "colab": {
          "base_uri": "https://localhost:8080/",
          "height": 206
        },
        "outputId": "0c66667d-fe87-45e1-d578-282285690e45"
      },
      "outputs": [
        {
          "output_type": "execute_result",
          "data": {
            "text/plain": [
              "  cnpj_basico                      razao_social_nome_empresarial  \\\n",
              "0         306            FRANCAMAR REFRIGERACAO TECNICA S/C LTDA   \n",
              "1        1355                         BRASILEIRO & OLIVEIRA LTDA   \n",
              "2        4820  REGISTRO DE IMOVEIS, TABELIONATO 1 DE NOTAS E ...   \n",
              "3        5347       ROSELY APARECIDA MONTEIRO CALTABIANO FREITAS   \n",
              "4        6846                         BADU E FILHOS TECIDOS LTDA   \n",
              "\n",
              "  natureza_juridica qualificacao_do_responsavel capital_social_da_empresa  \\\n",
              "0              2240                          49                      0.00   \n",
              "1              2062                          49                      0.00   \n",
              "2              3034                          32                      0.00   \n",
              "3              2135                          50                      0.00   \n",
              "4              2062                          49                   4000.00   \n",
              "\n",
              "  porte_da_empresa ente_federativo_responsavel  \n",
              "0                1                        None  \n",
              "1                5                        None  \n",
              "2                5                        None  \n",
              "3                5                        None  \n",
              "4                1                        None  "
            ],
            "text/html": [
              "\n",
              "  <div id=\"df-fad3964f-d6a4-439f-8510-a32934b57af5\">\n",
              "    <div class=\"colab-df-container\">\n",
              "      <div>\n",
              "<style scoped>\n",
              "    .dataframe tbody tr th:only-of-type {\n",
              "        vertical-align: middle;\n",
              "    }\n",
              "\n",
              "    .dataframe tbody tr th {\n",
              "        vertical-align: top;\n",
              "    }\n",
              "\n",
              "    .dataframe thead th {\n",
              "        text-align: right;\n",
              "    }\n",
              "</style>\n",
              "<table border=\"1\" class=\"dataframe\">\n",
              "  <thead>\n",
              "    <tr style=\"text-align: right;\">\n",
              "      <th></th>\n",
              "      <th>cnpj_basico</th>\n",
              "      <th>razao_social_nome_empresarial</th>\n",
              "      <th>natureza_juridica</th>\n",
              "      <th>qualificacao_do_responsavel</th>\n",
              "      <th>capital_social_da_empresa</th>\n",
              "      <th>porte_da_empresa</th>\n",
              "      <th>ente_federativo_responsavel</th>\n",
              "    </tr>\n",
              "  </thead>\n",
              "  <tbody>\n",
              "    <tr>\n",
              "      <th>0</th>\n",
              "      <td>306</td>\n",
              "      <td>FRANCAMAR REFRIGERACAO TECNICA S/C LTDA</td>\n",
              "      <td>2240</td>\n",
              "      <td>49</td>\n",
              "      <td>0.00</td>\n",
              "      <td>1</td>\n",
              "      <td>None</td>\n",
              "    </tr>\n",
              "    <tr>\n",
              "      <th>1</th>\n",
              "      <td>1355</td>\n",
              "      <td>BRASILEIRO &amp; OLIVEIRA LTDA</td>\n",
              "      <td>2062</td>\n",
              "      <td>49</td>\n",
              "      <td>0.00</td>\n",
              "      <td>5</td>\n",
              "      <td>None</td>\n",
              "    </tr>\n",
              "    <tr>\n",
              "      <th>2</th>\n",
              "      <td>4820</td>\n",
              "      <td>REGISTRO DE IMOVEIS, TABELIONATO 1 DE NOTAS E ...</td>\n",
              "      <td>3034</td>\n",
              "      <td>32</td>\n",
              "      <td>0.00</td>\n",
              "      <td>5</td>\n",
              "      <td>None</td>\n",
              "    </tr>\n",
              "    <tr>\n",
              "      <th>3</th>\n",
              "      <td>5347</td>\n",
              "      <td>ROSELY APARECIDA MONTEIRO CALTABIANO FREITAS</td>\n",
              "      <td>2135</td>\n",
              "      <td>50</td>\n",
              "      <td>0.00</td>\n",
              "      <td>5</td>\n",
              "      <td>None</td>\n",
              "    </tr>\n",
              "    <tr>\n",
              "      <th>4</th>\n",
              "      <td>6846</td>\n",
              "      <td>BADU E FILHOS TECIDOS LTDA</td>\n",
              "      <td>2062</td>\n",
              "      <td>49</td>\n",
              "      <td>4000.00</td>\n",
              "      <td>1</td>\n",
              "      <td>None</td>\n",
              "    </tr>\n",
              "  </tbody>\n",
              "</table>\n",
              "</div>\n",
              "      <button class=\"colab-df-convert\" onclick=\"convertToInteractive('df-fad3964f-d6a4-439f-8510-a32934b57af5')\"\n",
              "              title=\"Convert this dataframe to an interactive table.\"\n",
              "              style=\"display:none;\">\n",
              "        \n",
              "  <svg xmlns=\"http://www.w3.org/2000/svg\" height=\"24px\"viewBox=\"0 0 24 24\"\n",
              "       width=\"24px\">\n",
              "    <path d=\"M0 0h24v24H0V0z\" fill=\"none\"/>\n",
              "    <path d=\"M18.56 5.44l.94 2.06.94-2.06 2.06-.94-2.06-.94-.94-2.06-.94 2.06-2.06.94zm-11 1L8.5 8.5l.94-2.06 2.06-.94-2.06-.94L8.5 2.5l-.94 2.06-2.06.94zm10 10l.94 2.06.94-2.06 2.06-.94-2.06-.94-.94-2.06-.94 2.06-2.06.94z\"/><path d=\"M17.41 7.96l-1.37-1.37c-.4-.4-.92-.59-1.43-.59-.52 0-1.04.2-1.43.59L10.3 9.45l-7.72 7.72c-.78.78-.78 2.05 0 2.83L4 21.41c.39.39.9.59 1.41.59.51 0 1.02-.2 1.41-.59l7.78-7.78 2.81-2.81c.8-.78.8-2.07 0-2.86zM5.41 20L4 18.59l7.72-7.72 1.47 1.35L5.41 20z\"/>\n",
              "  </svg>\n",
              "      </button>\n",
              "      \n",
              "  <style>\n",
              "    .colab-df-container {\n",
              "      display:flex;\n",
              "      flex-wrap:wrap;\n",
              "      gap: 12px;\n",
              "    }\n",
              "\n",
              "    .colab-df-convert {\n",
              "      background-color: #E8F0FE;\n",
              "      border: none;\n",
              "      border-radius: 50%;\n",
              "      cursor: pointer;\n",
              "      display: none;\n",
              "      fill: #1967D2;\n",
              "      height: 32px;\n",
              "      padding: 0 0 0 0;\n",
              "      width: 32px;\n",
              "    }\n",
              "\n",
              "    .colab-df-convert:hover {\n",
              "      background-color: #E2EBFA;\n",
              "      box-shadow: 0px 1px 2px rgba(60, 64, 67, 0.3), 0px 1px 3px 1px rgba(60, 64, 67, 0.15);\n",
              "      fill: #174EA6;\n",
              "    }\n",
              "\n",
              "    [theme=dark] .colab-df-convert {\n",
              "      background-color: #3B4455;\n",
              "      fill: #D2E3FC;\n",
              "    }\n",
              "\n",
              "    [theme=dark] .colab-df-convert:hover {\n",
              "      background-color: #434B5C;\n",
              "      box-shadow: 0px 1px 3px 1px rgba(0, 0, 0, 0.15);\n",
              "      filter: drop-shadow(0px 1px 2px rgba(0, 0, 0, 0.3));\n",
              "      fill: #FFFFFF;\n",
              "    }\n",
              "  </style>\n",
              "\n",
              "      <script>\n",
              "        const buttonEl =\n",
              "          document.querySelector('#df-fad3964f-d6a4-439f-8510-a32934b57af5 button.colab-df-convert');\n",
              "        buttonEl.style.display =\n",
              "          google.colab.kernel.accessAllowed ? 'block' : 'none';\n",
              "\n",
              "        async function convertToInteractive(key) {\n",
              "          const element = document.querySelector('#df-fad3964f-d6a4-439f-8510-a32934b57af5');\n",
              "          const dataTable =\n",
              "            await google.colab.kernel.invokeFunction('convertToInteractive',\n",
              "                                                     [key], {});\n",
              "          if (!dataTable) return;\n",
              "\n",
              "          const docLinkHtml = 'Like what you see? Visit the ' +\n",
              "            '<a target=\"_blank\" href=https://colab.research.google.com/notebooks/data_table.ipynb>data table notebook</a>'\n",
              "            + ' to learn more about interactive tables.';\n",
              "          element.innerHTML = '';\n",
              "          dataTable['output_type'] = 'display_data';\n",
              "          await google.colab.output.renderOutput(dataTable, element);\n",
              "          const docLink = document.createElement('div');\n",
              "          docLink.innerHTML = docLinkHtml;\n",
              "          element.appendChild(docLink);\n",
              "        }\n",
              "      </script>\n",
              "    </div>\n",
              "  </div>\n",
              "  "
            ]
          },
          "metadata": {},
          "execution_count": 43
        }
      ],
      "source": [
        "empresas.limit(5).toPandas()"
      ]
    },
    {
      "cell_type": "markdown",
      "source": [
        "Usando essa formula, o tipo ainda é uma string. </br>\n",
        "####`capital_social_da_empresa: string (nullable = true)`"
      ],
      "metadata": {
        "id": "oSDxbCioaenR"
      }
    },
    {
      "cell_type": "code",
      "execution_count": 44,
      "metadata": {
        "id": "FVxWhP_DZkDC",
        "colab": {
          "base_uri": "https://localhost:8080/"
        },
        "outputId": "481e6209-893a-45ce-d4fd-0df7890b209b"
      },
      "outputs": [
        {
          "output_type": "stream",
          "name": "stdout",
          "text": [
            "root\n",
            " |-- cnpj_basico: string (nullable = true)\n",
            " |-- razao_social_nome_empresarial: string (nullable = true)\n",
            " |-- natureza_juridica: string (nullable = true)\n",
            " |-- qualificacao_do_responsavel: string (nullable = true)\n",
            " |-- capital_social_da_empresa: string (nullable = true)\n",
            " |-- porte_da_empresa: string (nullable = true)\n",
            " |-- ente_federativo_responsavel: string (nullable = true)\n",
            "\n"
          ]
        }
      ],
      "source": [
        "empresas.printSchema()"
      ]
    },
    {
      "cell_type": "markdown",
      "source": [
        "Convertendo para double </br>\n",
        "Resultado: `capital_social_da_empresa: double (nullable = true)`"
      ],
      "metadata": {
        "id": "nWvWC2EIaoKl"
      }
    },
    {
      "cell_type": "code",
      "source": [
        "empresas = empresas.withColumn('capital_social_da_empresa', empresas['capital_social_da_empresa'].cast(DoubleType()))\n",
        "empresas.printSchema()"
      ],
      "metadata": {
        "colab": {
          "base_uri": "https://localhost:8080/"
        },
        "id": "AzN2SIAsanxf",
        "outputId": "832864a2-9376-43e0-8516-7c6bcd7832a8"
      },
      "execution_count": 45,
      "outputs": [
        {
          "output_type": "stream",
          "name": "stdout",
          "text": [
            "root\n",
            " |-- cnpj_basico: string (nullable = true)\n",
            " |-- razao_social_nome_empresarial: string (nullable = true)\n",
            " |-- natureza_juridica: string (nullable = true)\n",
            " |-- qualificacao_do_responsavel: string (nullable = true)\n",
            " |-- capital_social_da_empresa: double (nullable = true)\n",
            " |-- porte_da_empresa: string (nullable = true)\n",
            " |-- ente_federativo_responsavel: string (nullable = true)\n",
            "\n"
          ]
        }
      ]
    },
    {
      "cell_type": "markdown",
      "metadata": {
        "id": "jp_Zv8tAgcbN"
      },
      "source": [
        "### Convertendo String ➔ Date\n",
        "\n",
        "#### `StringType ➔ DateType`\n",
        "\n",
        "[Datetime Patterns](https://spark.apache.org/docs/3.1.2/sql-ref-datetime-pattern.html)"
      ]
    },
    {
      "cell_type": "code",
      "execution_count": 46,
      "metadata": {
        "id": "iRdCvl26o1eC",
        "colab": {
          "base_uri": "https://localhost:8080/",
          "height": 143
        },
        "outputId": "d0a8a2f1-c933-4b24-8437-207ba002fedf"
      },
      "outputs": [
        {
          "output_type": "execute_result",
          "data": {
            "text/plain": [
              "       data\n",
              "0  20200924\n",
              "1  20201022\n",
              "2  20210215"
            ],
            "text/html": [
              "\n",
              "  <div id=\"df-03233ed3-0421-4381-9e1c-498b828c8c40\">\n",
              "    <div class=\"colab-df-container\">\n",
              "      <div>\n",
              "<style scoped>\n",
              "    .dataframe tbody tr th:only-of-type {\n",
              "        vertical-align: middle;\n",
              "    }\n",
              "\n",
              "    .dataframe tbody tr th {\n",
              "        vertical-align: top;\n",
              "    }\n",
              "\n",
              "    .dataframe thead th {\n",
              "        text-align: right;\n",
              "    }\n",
              "</style>\n",
              "<table border=\"1\" class=\"dataframe\">\n",
              "  <thead>\n",
              "    <tr style=\"text-align: right;\">\n",
              "      <th></th>\n",
              "      <th>data</th>\n",
              "    </tr>\n",
              "  </thead>\n",
              "  <tbody>\n",
              "    <tr>\n",
              "      <th>0</th>\n",
              "      <td>20200924</td>\n",
              "    </tr>\n",
              "    <tr>\n",
              "      <th>1</th>\n",
              "      <td>20201022</td>\n",
              "    </tr>\n",
              "    <tr>\n",
              "      <th>2</th>\n",
              "      <td>20210215</td>\n",
              "    </tr>\n",
              "  </tbody>\n",
              "</table>\n",
              "</div>\n",
              "      <button class=\"colab-df-convert\" onclick=\"convertToInteractive('df-03233ed3-0421-4381-9e1c-498b828c8c40')\"\n",
              "              title=\"Convert this dataframe to an interactive table.\"\n",
              "              style=\"display:none;\">\n",
              "        \n",
              "  <svg xmlns=\"http://www.w3.org/2000/svg\" height=\"24px\"viewBox=\"0 0 24 24\"\n",
              "       width=\"24px\">\n",
              "    <path d=\"M0 0h24v24H0V0z\" fill=\"none\"/>\n",
              "    <path d=\"M18.56 5.44l.94 2.06.94-2.06 2.06-.94-2.06-.94-.94-2.06-.94 2.06-2.06.94zm-11 1L8.5 8.5l.94-2.06 2.06-.94-2.06-.94L8.5 2.5l-.94 2.06-2.06.94zm10 10l.94 2.06.94-2.06 2.06-.94-2.06-.94-.94-2.06-.94 2.06-2.06.94z\"/><path d=\"M17.41 7.96l-1.37-1.37c-.4-.4-.92-.59-1.43-.59-.52 0-1.04.2-1.43.59L10.3 9.45l-7.72 7.72c-.78.78-.78 2.05 0 2.83L4 21.41c.39.39.9.59 1.41.59.51 0 1.02-.2 1.41-.59l7.78-7.78 2.81-2.81c.8-.78.8-2.07 0-2.86zM5.41 20L4 18.59l7.72-7.72 1.47 1.35L5.41 20z\"/>\n",
              "  </svg>\n",
              "      </button>\n",
              "      \n",
              "  <style>\n",
              "    .colab-df-container {\n",
              "      display:flex;\n",
              "      flex-wrap:wrap;\n",
              "      gap: 12px;\n",
              "    }\n",
              "\n",
              "    .colab-df-convert {\n",
              "      background-color: #E8F0FE;\n",
              "      border: none;\n",
              "      border-radius: 50%;\n",
              "      cursor: pointer;\n",
              "      display: none;\n",
              "      fill: #1967D2;\n",
              "      height: 32px;\n",
              "      padding: 0 0 0 0;\n",
              "      width: 32px;\n",
              "    }\n",
              "\n",
              "    .colab-df-convert:hover {\n",
              "      background-color: #E2EBFA;\n",
              "      box-shadow: 0px 1px 2px rgba(60, 64, 67, 0.3), 0px 1px 3px 1px rgba(60, 64, 67, 0.15);\n",
              "      fill: #174EA6;\n",
              "    }\n",
              "\n",
              "    [theme=dark] .colab-df-convert {\n",
              "      background-color: #3B4455;\n",
              "      fill: #D2E3FC;\n",
              "    }\n",
              "\n",
              "    [theme=dark] .colab-df-convert:hover {\n",
              "      background-color: #434B5C;\n",
              "      box-shadow: 0px 1px 3px 1px rgba(0, 0, 0, 0.15);\n",
              "      filter: drop-shadow(0px 1px 2px rgba(0, 0, 0, 0.3));\n",
              "      fill: #FFFFFF;\n",
              "    }\n",
              "  </style>\n",
              "\n",
              "      <script>\n",
              "        const buttonEl =\n",
              "          document.querySelector('#df-03233ed3-0421-4381-9e1c-498b828c8c40 button.colab-df-convert');\n",
              "        buttonEl.style.display =\n",
              "          google.colab.kernel.accessAllowed ? 'block' : 'none';\n",
              "\n",
              "        async function convertToInteractive(key) {\n",
              "          const element = document.querySelector('#df-03233ed3-0421-4381-9e1c-498b828c8c40');\n",
              "          const dataTable =\n",
              "            await google.colab.kernel.invokeFunction('convertToInteractive',\n",
              "                                                     [key], {});\n",
              "          if (!dataTable) return;\n",
              "\n",
              "          const docLinkHtml = 'Like what you see? Visit the ' +\n",
              "            '<a target=\"_blank\" href=https://colab.research.google.com/notebooks/data_table.ipynb>data table notebook</a>'\n",
              "            + ' to learn more about interactive tables.';\n",
              "          element.innerHTML = '';\n",
              "          dataTable['output_type'] = 'display_data';\n",
              "          await google.colab.output.renderOutput(dataTable, element);\n",
              "          const docLink = document.createElement('div');\n",
              "          docLink.innerHTML = docLinkHtml;\n",
              "          element.appendChild(docLink);\n",
              "        }\n",
              "      </script>\n",
              "    </div>\n",
              "  </div>\n",
              "  "
            ]
          },
          "metadata": {},
          "execution_count": 46
        }
      ],
      "source": [
        "df = spark.createDataFrame([(20200924,), (20201022,), (20210215,)], ['data'])\n",
        "df.toPandas()"
      ]
    },
    {
      "cell_type": "code",
      "execution_count": 47,
      "metadata": {
        "id": "_OMaiBT16YAX",
        "colab": {
          "base_uri": "https://localhost:8080/"
        },
        "outputId": "8d03019b-f26e-4640-8291-ef860d82ca79"
      },
      "outputs": [
        {
          "output_type": "stream",
          "name": "stdout",
          "text": [
            "root\n",
            " |-- data: long (nullable = true)\n",
            "\n"
          ]
        }
      ],
      "source": [
        "df.printSchema()"
      ]
    },
    {
      "cell_type": "code",
      "execution_count": 48,
      "metadata": {
        "id": "z4alYEILpRZe"
      },
      "outputs": [],
      "source": [
        "df = df.withColumn('data', f.to_date(df.data.cast(StringType()), 'yyyyMMdd'))"
      ]
    },
    {
      "cell_type": "code",
      "execution_count": 49,
      "metadata": {
        "id": "MxB1k7IGp2vo",
        "colab": {
          "base_uri": "https://localhost:8080/"
        },
        "outputId": "dea20efe-c835-4b02-d5a2-cb6c7e83756b"
      },
      "outputs": [
        {
          "output_type": "stream",
          "name": "stdout",
          "text": [
            "root\n",
            " |-- data: date (nullable = true)\n",
            "\n"
          ]
        }
      ],
      "source": [
        "df.printSchema()"
      ]
    },
    {
      "cell_type": "code",
      "execution_count": 50,
      "metadata": {
        "id": "0yBmkN9H2-QP"
      },
      "outputs": [],
      "source": [
        "column = [\"data_situacao_cadastral\", \"data_de_inicio_atividade\", \"data_da_situacao_especial\"]"
      ]
    },
    {
      "cell_type": "code",
      "source": [
        "estabelecimento.printSchema()"
      ],
      "metadata": {
        "colab": {
          "base_uri": "https://localhost:8080/"
        },
        "id": "0bUnwA5nfah6",
        "outputId": "1a1bac2c-8173-455b-ff7f-4495db5f0d9a"
      },
      "execution_count": 53,
      "outputs": [
        {
          "output_type": "stream",
          "name": "stdout",
          "text": [
            "root\n",
            " |-- cnpj_basico: integer (nullable = true)\n",
            " |-- cnpj_ordem: integer (nullable = true)\n",
            " |-- cnpj_dv: integer (nullable = true)\n",
            " |-- identificador_matriz_filial: integer (nullable = true)\n",
            " |-- nome_fantasia: string (nullable = true)\n",
            " |-- situacao_cadastral: integer (nullable = true)\n",
            " |-- data_situacao_cadastral: integer (nullable = true)\n",
            " |-- motivo_situacao_cadastral: integer (nullable = true)\n",
            " |-- nome_da_cidade_no_exterior: string (nullable = true)\n",
            " |-- pais: integer (nullable = true)\n",
            " |-- data_de_inicio_atividade: integer (nullable = true)\n",
            " |-- cnae_fiscal_principal: integer (nullable = true)\n",
            " |-- cnae_fiscal_secundaria: string (nullable = true)\n",
            " |-- tipo_de_logradouro: string (nullable = true)\n",
            " |-- logradouro: string (nullable = true)\n",
            " |-- numero: string (nullable = true)\n",
            " |-- complemento: string (nullable = true)\n",
            " |-- bairro: string (nullable = true)\n",
            " |-- cep: integer (nullable = true)\n",
            " |-- uf: string (nullable = true)\n",
            " |-- municipio: integer (nullable = true)\n",
            " |-- ddd_1: string (nullable = true)\n",
            " |-- telefone_1: string (nullable = true)\n",
            " |-- ddd_2: string (nullable = true)\n",
            " |-- telefone_2: string (nullable = true)\n",
            " |-- ddd_do_fax: integer (nullable = true)\n",
            " |-- fax: string (nullable = true)\n",
            " |-- correio_eletronico: string (nullable = true)\n",
            " |-- situacao_especial: string (nullable = true)\n",
            " |-- data_da_situacao_especial: integer (nullable = true)\n",
            "\n"
          ]
        }
      ]
    },
    {
      "cell_type": "code",
      "execution_count": 62,
      "metadata": {
        "id": "39H5_TRgV0j5"
      },
      "outputs": [],
      "source": [
        "estabelecimento = estabelecimento.withColumn(\n",
        "      'data_situacao_cadastral',\n",
        "      f.to_date(estabelecimento.data_situacao_cadastral.cast(StringType()), 'yyyyMMdd')\n",
        "  )\\\n",
        "  .withColumn(\n",
        "      'data_de_inicio_atividade',\n",
        "      f.to_date(estabelecimento.data_de_inicio_atividade.cast(StringType()), 'yyyyMMdd')\n",
        "  )\\\n",
        "  .withColumn(\n",
        "      'data_da_situacao_especial',\n",
        "      f.to_date(estabelecimento.data_da_situacao_especial.cast(StringType()), 'yyyyMMdd')\n",
        "  )\n"
      ]
    },
    {
      "cell_type": "code",
      "execution_count": 63,
      "metadata": {
        "id": "NE_Hf6G3gak_",
        "colab": {
          "base_uri": "https://localhost:8080/"
        },
        "outputId": "01767f52-d394-481a-b3c8-8c37e5491eed"
      },
      "outputs": [
        {
          "output_type": "stream",
          "name": "stdout",
          "text": [
            "root\n",
            " |-- cnpj_basico: integer (nullable = true)\n",
            " |-- cnpj_ordem: integer (nullable = true)\n",
            " |-- cnpj_dv: integer (nullable = true)\n",
            " |-- identificador_matriz_filial: integer (nullable = true)\n",
            " |-- nome_fantasia: string (nullable = true)\n",
            " |-- situacao_cadastral: integer (nullable = true)\n",
            " |-- data_situacao_cadastral: date (nullable = true)\n",
            " |-- motivo_situacao_cadastral: integer (nullable = true)\n",
            " |-- nome_da_cidade_no_exterior: string (nullable = true)\n",
            " |-- pais: integer (nullable = true)\n",
            " |-- data_de_inicio_atividade: date (nullable = true)\n",
            " |-- cnae_fiscal_principal: integer (nullable = true)\n",
            " |-- cnae_fiscal_secundaria: string (nullable = true)\n",
            " |-- tipo_de_logradouro: string (nullable = true)\n",
            " |-- logradouro: string (nullable = true)\n",
            " |-- numero: string (nullable = true)\n",
            " |-- complemento: string (nullable = true)\n",
            " |-- bairro: string (nullable = true)\n",
            " |-- cep: integer (nullable = true)\n",
            " |-- uf: string (nullable = true)\n",
            " |-- municipio: integer (nullable = true)\n",
            " |-- ddd_1: string (nullable = true)\n",
            " |-- telefone_1: string (nullable = true)\n",
            " |-- ddd_2: string (nullable = true)\n",
            " |-- telefone_2: string (nullable = true)\n",
            " |-- ddd_do_fax: integer (nullable = true)\n",
            " |-- fax: string (nullable = true)\n",
            " |-- correio_eletronico: string (nullable = true)\n",
            " |-- situacao_especial: string (nullable = true)\n",
            " |-- data_da_situacao_especial: date (nullable = true)\n",
            "\n"
          ]
        }
      ],
      "source": [
        "estabelecimento.printSchema()"
      ]
    },
    {
      "cell_type": "code",
      "execution_count": 64,
      "metadata": {
        "id": "mTsUeiapO3Pz",
        "colab": {
          "base_uri": "https://localhost:8080/"
        },
        "outputId": "8babae20-57ab-428b-ba28-e5cb8102b434"
      },
      "outputs": [
        {
          "output_type": "stream",
          "name": "stdout",
          "text": [
            "root\n",
            " |-- cnpj_basico: integer (nullable = true)\n",
            " |-- identificador_de_socio: integer (nullable = true)\n",
            " |-- nome_do_socio_ou_razao_social: string (nullable = true)\n",
            " |-- cnpj_ou_cpf_do_socio: string (nullable = true)\n",
            " |-- qualificacao_do_socio: integer (nullable = true)\n",
            " |-- data_de_entrada_sociedade: integer (nullable = true)\n",
            " |-- pais: integer (nullable = true)\n",
            " |-- representante_legal: string (nullable = true)\n",
            " |-- nome_do_representante: string (nullable = true)\n",
            " |-- qualificacao_do_representante_legal: integer (nullable = true)\n",
            " |-- faixa_etaria: integer (nullable = true)\n",
            "\n"
          ]
        }
      ],
      "source": [
        "socios.printSchema()"
      ]
    },
    {
      "cell_type": "code",
      "execution_count": 66,
      "metadata": {
        "id": "4rDRJjed8BzS"
      },
      "outputs": [],
      "source": [
        "from zmq.sugar.socket import ST\n",
        "socios = socios.withColumn('data_de_entrada_sociedade', f.to_date(socios.data_de_entrada_sociedade.cast(StringType()), 'yyyyMMdd'))\n",
        "    "
      ]
    },
    {
      "cell_type": "code",
      "execution_count": 67,
      "metadata": {
        "id": "Zv529a0SGgMF",
        "colab": {
          "base_uri": "https://localhost:8080/"
        },
        "outputId": "97141b67-ce8e-417e-a132-2d4bd498e512"
      },
      "outputs": [
        {
          "output_type": "stream",
          "name": "stdout",
          "text": [
            "root\n",
            " |-- cnpj_basico: integer (nullable = true)\n",
            " |-- identificador_de_socio: integer (nullable = true)\n",
            " |-- nome_do_socio_ou_razao_social: string (nullable = true)\n",
            " |-- cnpj_ou_cpf_do_socio: string (nullable = true)\n",
            " |-- qualificacao_do_socio: integer (nullable = true)\n",
            " |-- data_de_entrada_sociedade: date (nullable = true)\n",
            " |-- pais: integer (nullable = true)\n",
            " |-- representante_legal: string (nullable = true)\n",
            " |-- nome_do_representante: string (nullable = true)\n",
            " |-- qualificacao_do_representante_legal: integer (nullable = true)\n",
            " |-- faixa_etaria: integer (nullable = true)\n",
            "\n"
          ]
        }
      ],
      "source": [
        "socios.printSchema()"
      ]
    },
    {
      "cell_type": "markdown",
      "metadata": {
        "id": "rg0lldBjGlIB"
      },
      "source": [
        "# Seleções e consultas\n",
        "---"
      ]
    },
    {
      "cell_type": "markdown",
      "metadata": {
        "id": "H3q8yA8kgH9G"
      },
      "source": [
        "## Selecionando informações\n",
        " \n",
        "[DataFrame.select(*cols)](https://spark.apache.org/docs/3.1.2/api/python/reference/api/pyspark.sql.DataFrame.select.html)"
      ]
    },
    {
      "cell_type": "markdown",
      "source": [
        "Selecionando todas as colunas"
      ],
      "metadata": {
        "id": "paaAywjDNpdJ"
      }
    },
    {
      "cell_type": "code",
      "execution_count": 69,
      "metadata": {
        "id": "QdMi5XrjbNxA",
        "colab": {
          "base_uri": "https://localhost:8080/"
        },
        "outputId": "895a5eab-7059-49db-f85c-b0ce1055c678"
      },
      "outputs": [
        {
          "output_type": "execute_result",
          "data": {
            "text/plain": [
              "DataFrame[cnpj_basico: string, razao_social_nome_empresarial: string, natureza_juridica: string, qualificacao_do_responsavel: string, capital_social_da_empresa: double, porte_da_empresa: string, ente_federativo_responsavel: string]"
            ]
          },
          "metadata": {},
          "execution_count": 69
        }
      ],
      "source": [
        "empresas.select('*')"
      ]
    },
    {
      "cell_type": "code",
      "execution_count": 70,
      "metadata": {
        "id": "X9cgyry3GlIB",
        "colab": {
          "base_uri": "https://localhost:8080/"
        },
        "outputId": "9034b200-fa2b-4544-e70a-2de226174c40"
      },
      "outputs": [
        {
          "output_type": "stream",
          "name": "stdout",
          "text": [
            "+-----------+-----------------------------+-----------------+---------------------------+-------------------------+----------------+---------------------------+\n",
            "|cnpj_basico|razao_social_nome_empresarial|natureza_juridica|qualificacao_do_responsavel|capital_social_da_empresa|porte_da_empresa|ente_federativo_responsavel|\n",
            "+-----------+-----------------------------+-----------------+---------------------------+-------------------------+----------------+---------------------------+\n",
            "|        306|         FRANCAMAR REFRIGE...|             2240|                         49|                      0.0|               1|                       null|\n",
            "|       1355|         BRASILEIRO & OLIV...|             2062|                         49|                      0.0|               5|                       null|\n",
            "|       4820|         REGISTRO DE IMOVE...|             3034|                         32|                      0.0|               5|                       null|\n",
            "|       5347|         ROSELY APARECIDA ...|             2135|                         50|                      0.0|               5|                       null|\n",
            "|       6846|         BADU E FILHOS TEC...|             2062|                         49|                   4000.0|               1|                       null|\n",
            "+-----------+-----------------------------+-----------------+---------------------------+-------------------------+----------------+---------------------------+\n",
            "only showing top 5 rows\n",
            "\n"
          ]
        }
      ],
      "source": [
        "empresas.show(5)"
      ]
    },
    {
      "cell_type": "code",
      "execution_count": 71,
      "metadata": {
        "id": "7ilkFXsIbw9j",
        "colab": {
          "base_uri": "https://localhost:8080/"
        },
        "outputId": "3e558c07-eb1a-4aba-fb46-9729d570cdc2"
      },
      "outputs": [
        {
          "output_type": "stream",
          "name": "stdout",
          "text": [
            "+-----------+--------------------------------------------------------------------------------------------+-----------------+---------------------------+-------------------------+----------------+---------------------------+\n",
            "|cnpj_basico|razao_social_nome_empresarial                                                               |natureza_juridica|qualificacao_do_responsavel|capital_social_da_empresa|porte_da_empresa|ente_federativo_responsavel|\n",
            "+-----------+--------------------------------------------------------------------------------------------+-----------------+---------------------------+-------------------------+----------------+---------------------------+\n",
            "|306        |FRANCAMAR REFRIGERACAO TECNICA S/C LTDA                                                     |2240             |49                         |0.0                      |1               |null                       |\n",
            "|1355       |BRASILEIRO & OLIVEIRA LTDA                                                                  |2062             |49                         |0.0                      |5               |null                       |\n",
            "|4820       |REGISTRO DE IMOVEIS, TABELIONATO 1 DE NOTAS E TABELIONATO E REGISTRO DE CONSTRATOS MARITIMOS|3034             |32                         |0.0                      |5               |null                       |\n",
            "|5347       |ROSELY APARECIDA MONTEIRO CALTABIANO FREITAS                                                |2135             |50                         |0.0                      |5               |null                       |\n",
            "|6846       |BADU E FILHOS TECIDOS LTDA                                                                  |2062             |49                         |4000.0                   |1               |null                       |\n",
            "+-----------+--------------------------------------------------------------------------------------------+-----------------+---------------------------+-------------------------+----------------+---------------------------+\n",
            "only showing top 5 rows\n",
            "\n"
          ]
        }
      ],
      "source": [
        "empresas.show(5, False)"
      ]
    },
    {
      "cell_type": "code",
      "source": [
        "empresas\\\n",
        "        .select('natureza_juridica', 'porte_da_empresa', 'capital_social_da_empresa')\\\n",
        "        .show(5)\n"
      ],
      "metadata": {
        "colab": {
          "base_uri": "https://localhost:8080/"
        },
        "id": "9IbawHtsN1e-",
        "outputId": "24ec32f4-20ad-4590-8e95-d1f09653a4e5"
      },
      "execution_count": 76,
      "outputs": [
        {
          "output_type": "stream",
          "name": "stdout",
          "text": [
            "+-----------------+----------------+-------------------------+\n",
            "|natureza_juridica|porte_da_empresa|capital_social_da_empresa|\n",
            "+-----------------+----------------+-------------------------+\n",
            "|             2240|               1|                      0.0|\n",
            "|             2062|               5|                      0.0|\n",
            "|             3034|               5|                      0.0|\n",
            "|             2135|               5|                      0.0|\n",
            "|             2062|               1|                   4000.0|\n",
            "+-----------------+----------------+-------------------------+\n",
            "only showing top 5 rows\n",
            "\n"
          ]
        }
      ]
    },
    {
      "cell_type": "code",
      "source": [
        "socios\\\n",
        "      .select('nome_do_socio_ou_razao_social', 'faixa_etaria', f.year('data_de_entrada_sociedade').alias('ano_de_entrada'))\\\n",
        "      .show(5)"
      ],
      "metadata": {
        "colab": {
          "base_uri": "https://localhost:8080/"
        },
        "id": "K3-DFfEsORW-",
        "outputId": "3d4c00ab-3752-404c-9946-f5d6588df026"
      },
      "execution_count": 79,
      "outputs": [
        {
          "output_type": "stream",
          "name": "stdout",
          "text": [
            "+-----------------------------+------------+--------------+\n",
            "|nome_do_socio_ou_razao_social|faixa_etaria|ano_de_entrada|\n",
            "+-----------------------------+------------+--------------+\n",
            "|         LILIANA PATRICIA ...|           7|          1994|\n",
            "|         CRISTINA HUNDERTMARK|           7|          1994|\n",
            "|         CELSO EDUARDO DE ...|           8|          1994|\n",
            "|         EDUARDO BERRINGER...|           5|          1994|\n",
            "|          HANNE MAHFOUD FADEL|           8|          1994|\n",
            "+-----------------------------+------------+--------------+\n",
            "only showing top 5 rows\n",
            "\n"
          ]
        }
      ]
    },
    {
      "cell_type": "markdown",
      "metadata": {
        "id": "j94bdu9r0ykx"
      },
      "source": [
        "## Faça como eu fiz\n",
        "\n",
        "\n",
        "Em nossa última aula aprendemos como selecionar conjuntos específicos de colunas de nossos DataFrames e como criar novas colunas utilizando para isto apenas o método select.\n",
        "\n",
        "Repita este procedimento para o DataFrame de estabelecimentos selecionando as colunas nome_fantasia e municipio. Crie para esta seleção as colunas ano_de_inicio_atividade e mes_de_inicio_atividade que devem conter, respectivamente, o ano e o mês de início da atividade do estabelecimento. Estas duas últimas colunas devem ser criadas a partir da coluna data_de_inicio_atividade.\n",
        "\n"
      ]
    },
    {
      "cell_type": "code",
      "source": [
        "estabelecimento.printSchema()"
      ],
      "metadata": {
        "colab": {
          "base_uri": "https://localhost:8080/"
        },
        "id": "Kp76EGw2PXON",
        "outputId": "9e4623f5-21f1-4e94-9d08-68b3328e3f8b"
      },
      "execution_count": 83,
      "outputs": [
        {
          "output_type": "stream",
          "name": "stdout",
          "text": [
            "root\n",
            " |-- cnpj_basico: integer (nullable = true)\n",
            " |-- cnpj_ordem: integer (nullable = true)\n",
            " |-- cnpj_dv: integer (nullable = true)\n",
            " |-- identificador_matriz_filial: integer (nullable = true)\n",
            " |-- nome_fantasia: string (nullable = true)\n",
            " |-- situacao_cadastral: integer (nullable = true)\n",
            " |-- data_situacao_cadastral: date (nullable = true)\n",
            " |-- motivo_situacao_cadastral: integer (nullable = true)\n",
            " |-- nome_da_cidade_no_exterior: string (nullable = true)\n",
            " |-- pais: integer (nullable = true)\n",
            " |-- data_de_inicio_atividade: date (nullable = true)\n",
            " |-- cnae_fiscal_principal: integer (nullable = true)\n",
            " |-- cnae_fiscal_secundaria: string (nullable = true)\n",
            " |-- tipo_de_logradouro: string (nullable = true)\n",
            " |-- logradouro: string (nullable = true)\n",
            " |-- numero: string (nullable = true)\n",
            " |-- complemento: string (nullable = true)\n",
            " |-- bairro: string (nullable = true)\n",
            " |-- cep: integer (nullable = true)\n",
            " |-- uf: string (nullable = true)\n",
            " |-- municipio: integer (nullable = true)\n",
            " |-- ddd_1: string (nullable = true)\n",
            " |-- telefone_1: string (nullable = true)\n",
            " |-- ddd_2: string (nullable = true)\n",
            " |-- telefone_2: string (nullable = true)\n",
            " |-- ddd_do_fax: integer (nullable = true)\n",
            " |-- fax: string (nullable = true)\n",
            " |-- correio_eletronico: string (nullable = true)\n",
            " |-- situacao_especial: string (nullable = true)\n",
            " |-- data_da_situacao_especial: date (nullable = true)\n",
            "\n"
          ]
        }
      ]
    },
    {
      "cell_type": "code",
      "execution_count": 84,
      "metadata": {
        "id": "smUC0SgN0sGc",
        "colab": {
          "base_uri": "https://localhost:8080/"
        },
        "outputId": "0f796903-a06c-4191-d795-33ec108755bb"
      },
      "outputs": [
        {
          "output_type": "stream",
          "name": "stdout",
          "text": [
            "+-----------------+---------+\n",
            "|    nome_fantasia|municipio|\n",
            "+-----------------+---------+\n",
            "|   PIRAMIDE M. C.|     7107|\n",
            "|             null|     7107|\n",
            "|             null|     7107|\n",
            "|             null|     7107|\n",
            "|EMBROIDERY & GIFT|     7075|\n",
            "+-----------------+---------+\n",
            "only showing top 5 rows\n",
            "\n"
          ]
        }
      ],
      "source": [
        "estabelecimento\\\n",
        "              .select('nome_fantasia','municipio')\\\n",
        "              .show(5)"
      ]
    },
    {
      "cell_type": "code",
      "source": [
        "estabelecimento\\\n",
        "              .select('nome_fantasia','municipio', f.year('data_de_inicio_atividade').alias('ano_de_inicio_atividade'), f.month('data_de_inicio_atividade').alias('mes_de_inicio_atividade'))\\\n",
        "              .show(5)"
      ],
      "metadata": {
        "colab": {
          "base_uri": "https://localhost:8080/"
        },
        "id": "ICFtQW_8Peey",
        "outputId": "f40e89a9-db2f-4c5b-e6ce-9630b9327713"
      },
      "execution_count": 86,
      "outputs": [
        {
          "output_type": "stream",
          "name": "stdout",
          "text": [
            "+-----------------+---------+-----------------------+-----------------------+\n",
            "|    nome_fantasia|municipio|ano_de_inicio_atividade|mes_de_inicio_atividade|\n",
            "+-----------------+---------+-----------------------+-----------------------+\n",
            "|   PIRAMIDE M. C.|     7107|                   1994|                      5|\n",
            "|             null|     7107|                   1994|                      5|\n",
            "|             null|     7107|                   1994|                      5|\n",
            "|             null|     7107|                   1994|                      5|\n",
            "|EMBROIDERY & GIFT|     7075|                   1995|                      5|\n",
            "+-----------------+---------+-----------------------+-----------------------+\n",
            "only showing top 5 rows\n",
            "\n"
          ]
        }
      ]
    },
    {
      "cell_type": "markdown",
      "source": [
        "### Exercício"
      ],
      "metadata": {
        "id": "NnTnPZ1yQhNn"
      }
    },
    {
      "cell_type": "code",
      "source": [
        "data = [\n",
        "    ('GISELLE PAULA GUIMARAES CASTRO', 15),\n",
        "    ('ELAINE GARCIA DE OLIVEIRA', 22),\n",
        "    ('JOAO CARLOS ABNER DE LOURDES', 43),\n",
        "    ('MARTA ZELI FERREIRA', 24),\n",
        "    ('LAUDENETE WIGGERS ROEDER', 51)\n",
        "]\n",
        "colNames = ['nome', 'idade']\n",
        "df = spark.createDataFrame(data, colNames)\n",
        "df.show(truncate=False)"
      ],
      "metadata": {
        "colab": {
          "base_uri": "https://localhost:8080/"
        },
        "id": "XbJtN1EQQjdi",
        "outputId": "3cefe140-0fe3-463a-e334-c545b851fef1"
      },
      "execution_count": 87,
      "outputs": [
        {
          "output_type": "stream",
          "name": "stdout",
          "text": [
            "+------------------------------+-----+\n",
            "|nome                          |idade|\n",
            "+------------------------------+-----+\n",
            "|GISELLE PAULA GUIMARAES CASTRO|15   |\n",
            "|ELAINE GARCIA DE OLIVEIRA     |22   |\n",
            "|JOAO CARLOS ABNER DE LOURDES  |43   |\n",
            "|MARTA ZELI FERREIRA           |24   |\n",
            "|LAUDENETE WIGGERS ROEDER      |51   |\n",
            "+------------------------------+-----+\n",
            "\n"
          ]
        }
      ]
    },
    {
      "cell_type": "code",
      "source": [
        "df \\\n",
        "    .select(\n",
        "        f.concat_ws(\n",
        "            ', ', \n",
        "            f.substring_index('nome', ' ', -1), \n",
        "            f.substring_index('nome', ' ', 1)\n",
        "        ).alias('ident'), \n",
        "        'idade') \\\n",
        "    .show(truncate=False)"
      ],
      "metadata": {
        "colab": {
          "base_uri": "https://localhost:8080/"
        },
        "id": "wRi91MlEQjX6",
        "outputId": "df9a5183-7ee6-4a2b-d55f-dc7140a75973"
      },
      "execution_count": 89,
      "outputs": [
        {
          "output_type": "stream",
          "name": "stdout",
          "text": [
            "+-----------------+-----+\n",
            "|ident            |idade|\n",
            "+-----------------+-----+\n",
            "|CASTRO, GISELLE  |15   |\n",
            "|OLIVEIRA, ELAINE |22   |\n",
            "|LOURDES, JOAO    |43   |\n",
            "|FERREIRA, MARTA  |24   |\n",
            "|ROEDER, LAUDENETE|51   |\n",
            "+-----------------+-----+\n",
            "\n"
          ]
        }
      ]
    },
    {
      "cell_type": "markdown",
      "source": [
        "Exemplo documentação"
      ],
      "metadata": {
        "id": "dLXd_MHmRTdr"
      }
    },
    {
      "cell_type": "code",
      "source": [
        "from pyspark.sql.functions import concat, col, lit\n",
        "df = spark.createDataFrame([('abcd','123')], ['s', 'd'])\n",
        "df.show()"
      ],
      "metadata": {
        "colab": {
          "base_uri": "https://localhost:8080/"
        },
        "id": "8YpWYgIrQjPb",
        "outputId": "4eba414a-af59-4bb0-dc85-431b6f52f1ab"
      },
      "execution_count": 102,
      "outputs": [
        {
          "output_type": "stream",
          "name": "stdout",
          "text": [
            "+----+---+\n",
            "|   s|  d|\n",
            "+----+---+\n",
            "|abcd|123|\n",
            "+----+---+\n",
            "\n"
          ]
        }
      ]
    },
    {
      "cell_type": "code",
      "source": [
        "df = spark.createDataFrame([('abcd','123')], ['s', 'd'])\n",
        "df.select(concat_ws('-', df.s, df.d).alias('s')).collect()"
      ],
      "metadata": {
        "colab": {
          "base_uri": "https://localhost:8080/",
          "height": 184
        },
        "id": "-0SC3ot0Sre3",
        "outputId": "232b9863-391e-4d1e-8aae-0513e8932049"
      },
      "execution_count": 104,
      "outputs": [
        {
          "output_type": "error",
          "ename": "NameError",
          "evalue": "ignored",
          "traceback": [
            "\u001b[0;31m---------------------------------------------------------------------------\u001b[0m",
            "\u001b[0;31mNameError\u001b[0m                                 Traceback (most recent call last)",
            "\u001b[0;32m<ipython-input-104-c85161fbfe47>\u001b[0m in \u001b[0;36m<module>\u001b[0;34m\u001b[0m\n\u001b[1;32m      1\u001b[0m \u001b[0mdf\u001b[0m \u001b[0;34m=\u001b[0m \u001b[0mspark\u001b[0m\u001b[0;34m.\u001b[0m\u001b[0mcreateDataFrame\u001b[0m\u001b[0;34m(\u001b[0m\u001b[0;34m[\u001b[0m\u001b[0;34m(\u001b[0m\u001b[0;34m'abcd'\u001b[0m\u001b[0;34m,\u001b[0m\u001b[0;34m'123'\u001b[0m\u001b[0;34m)\u001b[0m\u001b[0;34m]\u001b[0m\u001b[0;34m,\u001b[0m \u001b[0;34m[\u001b[0m\u001b[0;34m's'\u001b[0m\u001b[0;34m,\u001b[0m \u001b[0;34m'd'\u001b[0m\u001b[0;34m]\u001b[0m\u001b[0;34m)\u001b[0m\u001b[0;34m\u001b[0m\u001b[0;34m\u001b[0m\u001b[0m\n\u001b[0;32m----> 2\u001b[0;31m \u001b[0mdf\u001b[0m\u001b[0;34m.\u001b[0m\u001b[0mselect\u001b[0m\u001b[0;34m(\u001b[0m\u001b[0mconcat_ws\u001b[0m\u001b[0;34m(\u001b[0m\u001b[0;34m'-'\u001b[0m\u001b[0;34m,\u001b[0m \u001b[0mdf\u001b[0m\u001b[0;34m.\u001b[0m\u001b[0ms\u001b[0m\u001b[0;34m,\u001b[0m \u001b[0mdf\u001b[0m\u001b[0;34m.\u001b[0m\u001b[0md\u001b[0m\u001b[0;34m)\u001b[0m\u001b[0;34m.\u001b[0m\u001b[0malias\u001b[0m\u001b[0;34m(\u001b[0m\u001b[0;34m's'\u001b[0m\u001b[0;34m)\u001b[0m\u001b[0;34m)\u001b[0m\u001b[0;34m.\u001b[0m\u001b[0mcollect\u001b[0m\u001b[0;34m(\u001b[0m\u001b[0;34m)\u001b[0m\u001b[0;34m\u001b[0m\u001b[0;34m\u001b[0m\u001b[0m\n\u001b[0m",
            "\u001b[0;31mNameError\u001b[0m: name 'concat_ws' is not defined"
          ]
        }
      ]
    },
    {
      "cell_type": "markdown",
      "metadata": {
        "id": "vS3mrMkHZjqX"
      },
      "source": [
        "## Identificando valores nulos"
      ]
    },
    {
      "cell_type": "code",
      "execution_count": 105,
      "metadata": {
        "id": "8orupk7E9sfp",
        "colab": {
          "base_uri": "https://localhost:8080/",
          "height": 175
        },
        "outputId": "cfc7ac09-93b8-4ad7-afbc-cac86bd799c3"
      },
      "outputs": [
        {
          "output_type": "execute_result",
          "data": {
            "text/plain": [
              "   data\n",
              "0   1.0\n",
              "1   2.0\n",
              "2   3.0\n",
              "3   NaN"
            ],
            "text/html": [
              "\n",
              "  <div id=\"df-c9972e54-fb58-4093-b25f-1dff6a7e6859\">\n",
              "    <div class=\"colab-df-container\">\n",
              "      <div>\n",
              "<style scoped>\n",
              "    .dataframe tbody tr th:only-of-type {\n",
              "        vertical-align: middle;\n",
              "    }\n",
              "\n",
              "    .dataframe tbody tr th {\n",
              "        vertical-align: top;\n",
              "    }\n",
              "\n",
              "    .dataframe thead th {\n",
              "        text-align: right;\n",
              "    }\n",
              "</style>\n",
              "<table border=\"1\" class=\"dataframe\">\n",
              "  <thead>\n",
              "    <tr style=\"text-align: right;\">\n",
              "      <th></th>\n",
              "      <th>data</th>\n",
              "    </tr>\n",
              "  </thead>\n",
              "  <tbody>\n",
              "    <tr>\n",
              "      <th>0</th>\n",
              "      <td>1.0</td>\n",
              "    </tr>\n",
              "    <tr>\n",
              "      <th>1</th>\n",
              "      <td>2.0</td>\n",
              "    </tr>\n",
              "    <tr>\n",
              "      <th>2</th>\n",
              "      <td>3.0</td>\n",
              "    </tr>\n",
              "    <tr>\n",
              "      <th>3</th>\n",
              "      <td>NaN</td>\n",
              "    </tr>\n",
              "  </tbody>\n",
              "</table>\n",
              "</div>\n",
              "      <button class=\"colab-df-convert\" onclick=\"convertToInteractive('df-c9972e54-fb58-4093-b25f-1dff6a7e6859')\"\n",
              "              title=\"Convert this dataframe to an interactive table.\"\n",
              "              style=\"display:none;\">\n",
              "        \n",
              "  <svg xmlns=\"http://www.w3.org/2000/svg\" height=\"24px\"viewBox=\"0 0 24 24\"\n",
              "       width=\"24px\">\n",
              "    <path d=\"M0 0h24v24H0V0z\" fill=\"none\"/>\n",
              "    <path d=\"M18.56 5.44l.94 2.06.94-2.06 2.06-.94-2.06-.94-.94-2.06-.94 2.06-2.06.94zm-11 1L8.5 8.5l.94-2.06 2.06-.94-2.06-.94L8.5 2.5l-.94 2.06-2.06.94zm10 10l.94 2.06.94-2.06 2.06-.94-2.06-.94-.94-2.06-.94 2.06-2.06.94z\"/><path d=\"M17.41 7.96l-1.37-1.37c-.4-.4-.92-.59-1.43-.59-.52 0-1.04.2-1.43.59L10.3 9.45l-7.72 7.72c-.78.78-.78 2.05 0 2.83L4 21.41c.39.39.9.59 1.41.59.51 0 1.02-.2 1.41-.59l7.78-7.78 2.81-2.81c.8-.78.8-2.07 0-2.86zM5.41 20L4 18.59l7.72-7.72 1.47 1.35L5.41 20z\"/>\n",
              "  </svg>\n",
              "      </button>\n",
              "      \n",
              "  <style>\n",
              "    .colab-df-container {\n",
              "      display:flex;\n",
              "      flex-wrap:wrap;\n",
              "      gap: 12px;\n",
              "    }\n",
              "\n",
              "    .colab-df-convert {\n",
              "      background-color: #E8F0FE;\n",
              "      border: none;\n",
              "      border-radius: 50%;\n",
              "      cursor: pointer;\n",
              "      display: none;\n",
              "      fill: #1967D2;\n",
              "      height: 32px;\n",
              "      padding: 0 0 0 0;\n",
              "      width: 32px;\n",
              "    }\n",
              "\n",
              "    .colab-df-convert:hover {\n",
              "      background-color: #E2EBFA;\n",
              "      box-shadow: 0px 1px 2px rgba(60, 64, 67, 0.3), 0px 1px 3px 1px rgba(60, 64, 67, 0.15);\n",
              "      fill: #174EA6;\n",
              "    }\n",
              "\n",
              "    [theme=dark] .colab-df-convert {\n",
              "      background-color: #3B4455;\n",
              "      fill: #D2E3FC;\n",
              "    }\n",
              "\n",
              "    [theme=dark] .colab-df-convert:hover {\n",
              "      background-color: #434B5C;\n",
              "      box-shadow: 0px 1px 3px 1px rgba(0, 0, 0, 0.15);\n",
              "      filter: drop-shadow(0px 1px 2px rgba(0, 0, 0, 0.3));\n",
              "      fill: #FFFFFF;\n",
              "    }\n",
              "  </style>\n",
              "\n",
              "      <script>\n",
              "        const buttonEl =\n",
              "          document.querySelector('#df-c9972e54-fb58-4093-b25f-1dff6a7e6859 button.colab-df-convert');\n",
              "        buttonEl.style.display =\n",
              "          google.colab.kernel.accessAllowed ? 'block' : 'none';\n",
              "\n",
              "        async function convertToInteractive(key) {\n",
              "          const element = document.querySelector('#df-c9972e54-fb58-4093-b25f-1dff6a7e6859');\n",
              "          const dataTable =\n",
              "            await google.colab.kernel.invokeFunction('convertToInteractive',\n",
              "                                                     [key], {});\n",
              "          if (!dataTable) return;\n",
              "\n",
              "          const docLinkHtml = 'Like what you see? Visit the ' +\n",
              "            '<a target=\"_blank\" href=https://colab.research.google.com/notebooks/data_table.ipynb>data table notebook</a>'\n",
              "            + ' to learn more about interactive tables.';\n",
              "          element.innerHTML = '';\n",
              "          dataTable['output_type'] = 'display_data';\n",
              "          await google.colab.output.renderOutput(dataTable, element);\n",
              "          const docLink = document.createElement('div');\n",
              "          docLink.innerHTML = docLinkHtml;\n",
              "          element.appendChild(docLink);\n",
              "        }\n",
              "      </script>\n",
              "    </div>\n",
              "  </div>\n",
              "  "
            ]
          },
          "metadata": {},
          "execution_count": 105
        }
      ],
      "source": [
        "df = spark.createDataFrame([(1,), (2,), (3,), (None,)], ['data'])\n",
        "df.toPandas()"
      ]
    },
    {
      "cell_type": "code",
      "execution_count": 106,
      "metadata": {
        "id": "4l4asr_S95MN",
        "colab": {
          "base_uri": "https://localhost:8080/"
        },
        "outputId": "3af92cbb-d230-48a5-d613-3ffd2d996401"
      },
      "outputs": [
        {
          "output_type": "stream",
          "name": "stdout",
          "text": [
            "+----+\n",
            "|data|\n",
            "+----+\n",
            "|   1|\n",
            "|   2|\n",
            "|   3|\n",
            "|null|\n",
            "+----+\n",
            "\n"
          ]
        }
      ],
      "source": [
        "df.show()"
      ]
    },
    {
      "cell_type": "code",
      "execution_count": 107,
      "metadata": {
        "id": "UYjUKTUa_KzT",
        "colab": {
          "base_uri": "https://localhost:8080/",
          "height": 175
        },
        "outputId": "85eeb435-6819-4e40-e0e5-198381af6727"
      },
      "outputs": [
        {
          "output_type": "execute_result",
          "data": {
            "text/plain": [
              "   data\n",
              "0   1.0\n",
              "1   2.0\n",
              "2   3.0\n",
              "3   NaN"
            ],
            "text/html": [
              "\n",
              "  <div id=\"df-2b08adc0-dc33-4976-9a71-b4522dc63886\">\n",
              "    <div class=\"colab-df-container\">\n",
              "      <div>\n",
              "<style scoped>\n",
              "    .dataframe tbody tr th:only-of-type {\n",
              "        vertical-align: middle;\n",
              "    }\n",
              "\n",
              "    .dataframe tbody tr th {\n",
              "        vertical-align: top;\n",
              "    }\n",
              "\n",
              "    .dataframe thead th {\n",
              "        text-align: right;\n",
              "    }\n",
              "</style>\n",
              "<table border=\"1\" class=\"dataframe\">\n",
              "  <thead>\n",
              "    <tr style=\"text-align: right;\">\n",
              "      <th></th>\n",
              "      <th>data</th>\n",
              "    </tr>\n",
              "  </thead>\n",
              "  <tbody>\n",
              "    <tr>\n",
              "      <th>0</th>\n",
              "      <td>1.0</td>\n",
              "    </tr>\n",
              "    <tr>\n",
              "      <th>1</th>\n",
              "      <td>2.0</td>\n",
              "    </tr>\n",
              "    <tr>\n",
              "      <th>2</th>\n",
              "      <td>3.0</td>\n",
              "    </tr>\n",
              "    <tr>\n",
              "      <th>3</th>\n",
              "      <td>NaN</td>\n",
              "    </tr>\n",
              "  </tbody>\n",
              "</table>\n",
              "</div>\n",
              "      <button class=\"colab-df-convert\" onclick=\"convertToInteractive('df-2b08adc0-dc33-4976-9a71-b4522dc63886')\"\n",
              "              title=\"Convert this dataframe to an interactive table.\"\n",
              "              style=\"display:none;\">\n",
              "        \n",
              "  <svg xmlns=\"http://www.w3.org/2000/svg\" height=\"24px\"viewBox=\"0 0 24 24\"\n",
              "       width=\"24px\">\n",
              "    <path d=\"M0 0h24v24H0V0z\" fill=\"none\"/>\n",
              "    <path d=\"M18.56 5.44l.94 2.06.94-2.06 2.06-.94-2.06-.94-.94-2.06-.94 2.06-2.06.94zm-11 1L8.5 8.5l.94-2.06 2.06-.94-2.06-.94L8.5 2.5l-.94 2.06-2.06.94zm10 10l.94 2.06.94-2.06 2.06-.94-2.06-.94-.94-2.06-.94 2.06-2.06.94z\"/><path d=\"M17.41 7.96l-1.37-1.37c-.4-.4-.92-.59-1.43-.59-.52 0-1.04.2-1.43.59L10.3 9.45l-7.72 7.72c-.78.78-.78 2.05 0 2.83L4 21.41c.39.39.9.59 1.41.59.51 0 1.02-.2 1.41-.59l7.78-7.78 2.81-2.81c.8-.78.8-2.07 0-2.86zM5.41 20L4 18.59l7.72-7.72 1.47 1.35L5.41 20z\"/>\n",
              "  </svg>\n",
              "      </button>\n",
              "      \n",
              "  <style>\n",
              "    .colab-df-container {\n",
              "      display:flex;\n",
              "      flex-wrap:wrap;\n",
              "      gap: 12px;\n",
              "    }\n",
              "\n",
              "    .colab-df-convert {\n",
              "      background-color: #E8F0FE;\n",
              "      border: none;\n",
              "      border-radius: 50%;\n",
              "      cursor: pointer;\n",
              "      display: none;\n",
              "      fill: #1967D2;\n",
              "      height: 32px;\n",
              "      padding: 0 0 0 0;\n",
              "      width: 32px;\n",
              "    }\n",
              "\n",
              "    .colab-df-convert:hover {\n",
              "      background-color: #E2EBFA;\n",
              "      box-shadow: 0px 1px 2px rgba(60, 64, 67, 0.3), 0px 1px 3px 1px rgba(60, 64, 67, 0.15);\n",
              "      fill: #174EA6;\n",
              "    }\n",
              "\n",
              "    [theme=dark] .colab-df-convert {\n",
              "      background-color: #3B4455;\n",
              "      fill: #D2E3FC;\n",
              "    }\n",
              "\n",
              "    [theme=dark] .colab-df-convert:hover {\n",
              "      background-color: #434B5C;\n",
              "      box-shadow: 0px 1px 3px 1px rgba(0, 0, 0, 0.15);\n",
              "      filter: drop-shadow(0px 1px 2px rgba(0, 0, 0, 0.3));\n",
              "      fill: #FFFFFF;\n",
              "    }\n",
              "  </style>\n",
              "\n",
              "      <script>\n",
              "        const buttonEl =\n",
              "          document.querySelector('#df-2b08adc0-dc33-4976-9a71-b4522dc63886 button.colab-df-convert');\n",
              "        buttonEl.style.display =\n",
              "          google.colab.kernel.accessAllowed ? 'block' : 'none';\n",
              "\n",
              "        async function convertToInteractive(key) {\n",
              "          const element = document.querySelector('#df-2b08adc0-dc33-4976-9a71-b4522dc63886');\n",
              "          const dataTable =\n",
              "            await google.colab.kernel.invokeFunction('convertToInteractive',\n",
              "                                                     [key], {});\n",
              "          if (!dataTable) return;\n",
              "\n",
              "          const docLinkHtml = 'Like what you see? Visit the ' +\n",
              "            '<a target=\"_blank\" href=https://colab.research.google.com/notebooks/data_table.ipynb>data table notebook</a>'\n",
              "            + ' to learn more about interactive tables.';\n",
              "          element.innerHTML = '';\n",
              "          dataTable['output_type'] = 'display_data';\n",
              "          await google.colab.output.renderOutput(dataTable, element);\n",
              "          const docLink = document.createElement('div');\n",
              "          docLink.innerHTML = docLinkHtml;\n",
              "          element.appendChild(docLink);\n",
              "        }\n",
              "      </script>\n",
              "    </div>\n",
              "  </div>\n",
              "  "
            ]
          },
          "metadata": {},
          "execution_count": 107
        }
      ],
      "source": [
        "df = spark.createDataFrame([(1.,), (2.,), (3.,), (float('nan'),)], ['data'])\n",
        "df.toPandas()"
      ]
    },
    {
      "cell_type": "code",
      "execution_count": 108,
      "metadata": {
        "id": "lqzQebm7_QAO",
        "colab": {
          "base_uri": "https://localhost:8080/"
        },
        "outputId": "47435b9f-3a2e-4dc4-cedb-78dc363732e1"
      },
      "outputs": [
        {
          "output_type": "stream",
          "name": "stdout",
          "text": [
            "+----+\n",
            "|data|\n",
            "+----+\n",
            "| 1.0|\n",
            "| 2.0|\n",
            "| 3.0|\n",
            "| NaN|\n",
            "+----+\n",
            "\n"
          ]
        }
      ],
      "source": [
        "df.show()"
      ]
    },
    {
      "cell_type": "code",
      "execution_count": 109,
      "metadata": {
        "id": "j8v6WOpb96qU",
        "colab": {
          "base_uri": "https://localhost:8080/",
          "height": 175
        },
        "outputId": "5256ec38-4356-4299-9d8b-d2193ac6e16b"
      },
      "outputs": [
        {
          "output_type": "execute_result",
          "data": {
            "text/plain": [
              "   data\n",
              "0     1\n",
              "1     2\n",
              "2     3\n",
              "3  None"
            ],
            "text/html": [
              "\n",
              "  <div id=\"df-f4ec7b75-35d3-483e-9f2e-dc43f304b749\">\n",
              "    <div class=\"colab-df-container\">\n",
              "      <div>\n",
              "<style scoped>\n",
              "    .dataframe tbody tr th:only-of-type {\n",
              "        vertical-align: middle;\n",
              "    }\n",
              "\n",
              "    .dataframe tbody tr th {\n",
              "        vertical-align: top;\n",
              "    }\n",
              "\n",
              "    .dataframe thead th {\n",
              "        text-align: right;\n",
              "    }\n",
              "</style>\n",
              "<table border=\"1\" class=\"dataframe\">\n",
              "  <thead>\n",
              "    <tr style=\"text-align: right;\">\n",
              "      <th></th>\n",
              "      <th>data</th>\n",
              "    </tr>\n",
              "  </thead>\n",
              "  <tbody>\n",
              "    <tr>\n",
              "      <th>0</th>\n",
              "      <td>1</td>\n",
              "    </tr>\n",
              "    <tr>\n",
              "      <th>1</th>\n",
              "      <td>2</td>\n",
              "    </tr>\n",
              "    <tr>\n",
              "      <th>2</th>\n",
              "      <td>3</td>\n",
              "    </tr>\n",
              "    <tr>\n",
              "      <th>3</th>\n",
              "      <td>None</td>\n",
              "    </tr>\n",
              "  </tbody>\n",
              "</table>\n",
              "</div>\n",
              "      <button class=\"colab-df-convert\" onclick=\"convertToInteractive('df-f4ec7b75-35d3-483e-9f2e-dc43f304b749')\"\n",
              "              title=\"Convert this dataframe to an interactive table.\"\n",
              "              style=\"display:none;\">\n",
              "        \n",
              "  <svg xmlns=\"http://www.w3.org/2000/svg\" height=\"24px\"viewBox=\"0 0 24 24\"\n",
              "       width=\"24px\">\n",
              "    <path d=\"M0 0h24v24H0V0z\" fill=\"none\"/>\n",
              "    <path d=\"M18.56 5.44l.94 2.06.94-2.06 2.06-.94-2.06-.94-.94-2.06-.94 2.06-2.06.94zm-11 1L8.5 8.5l.94-2.06 2.06-.94-2.06-.94L8.5 2.5l-.94 2.06-2.06.94zm10 10l.94 2.06.94-2.06 2.06-.94-2.06-.94-.94-2.06-.94 2.06-2.06.94z\"/><path d=\"M17.41 7.96l-1.37-1.37c-.4-.4-.92-.59-1.43-.59-.52 0-1.04.2-1.43.59L10.3 9.45l-7.72 7.72c-.78.78-.78 2.05 0 2.83L4 21.41c.39.39.9.59 1.41.59.51 0 1.02-.2 1.41-.59l7.78-7.78 2.81-2.81c.8-.78.8-2.07 0-2.86zM5.41 20L4 18.59l7.72-7.72 1.47 1.35L5.41 20z\"/>\n",
              "  </svg>\n",
              "      </button>\n",
              "      \n",
              "  <style>\n",
              "    .colab-df-container {\n",
              "      display:flex;\n",
              "      flex-wrap:wrap;\n",
              "      gap: 12px;\n",
              "    }\n",
              "\n",
              "    .colab-df-convert {\n",
              "      background-color: #E8F0FE;\n",
              "      border: none;\n",
              "      border-radius: 50%;\n",
              "      cursor: pointer;\n",
              "      display: none;\n",
              "      fill: #1967D2;\n",
              "      height: 32px;\n",
              "      padding: 0 0 0 0;\n",
              "      width: 32px;\n",
              "    }\n",
              "\n",
              "    .colab-df-convert:hover {\n",
              "      background-color: #E2EBFA;\n",
              "      box-shadow: 0px 1px 2px rgba(60, 64, 67, 0.3), 0px 1px 3px 1px rgba(60, 64, 67, 0.15);\n",
              "      fill: #174EA6;\n",
              "    }\n",
              "\n",
              "    [theme=dark] .colab-df-convert {\n",
              "      background-color: #3B4455;\n",
              "      fill: #D2E3FC;\n",
              "    }\n",
              "\n",
              "    [theme=dark] .colab-df-convert:hover {\n",
              "      background-color: #434B5C;\n",
              "      box-shadow: 0px 1px 3px 1px rgba(0, 0, 0, 0.15);\n",
              "      filter: drop-shadow(0px 1px 2px rgba(0, 0, 0, 0.3));\n",
              "      fill: #FFFFFF;\n",
              "    }\n",
              "  </style>\n",
              "\n",
              "      <script>\n",
              "        const buttonEl =\n",
              "          document.querySelector('#df-f4ec7b75-35d3-483e-9f2e-dc43f304b749 button.colab-df-convert');\n",
              "        buttonEl.style.display =\n",
              "          google.colab.kernel.accessAllowed ? 'block' : 'none';\n",
              "\n",
              "        async function convertToInteractive(key) {\n",
              "          const element = document.querySelector('#df-f4ec7b75-35d3-483e-9f2e-dc43f304b749');\n",
              "          const dataTable =\n",
              "            await google.colab.kernel.invokeFunction('convertToInteractive',\n",
              "                                                     [key], {});\n",
              "          if (!dataTable) return;\n",
              "\n",
              "          const docLinkHtml = 'Like what you see? Visit the ' +\n",
              "            '<a target=\"_blank\" href=https://colab.research.google.com/notebooks/data_table.ipynb>data table notebook</a>'\n",
              "            + ' to learn more about interactive tables.';\n",
              "          element.innerHTML = '';\n",
              "          dataTable['output_type'] = 'display_data';\n",
              "          await google.colab.output.renderOutput(dataTable, element);\n",
              "          const docLink = document.createElement('div');\n",
              "          docLink.innerHTML = docLinkHtml;\n",
              "          element.appendChild(docLink);\n",
              "        }\n",
              "      </script>\n",
              "    </div>\n",
              "  </div>\n",
              "  "
            ]
          },
          "metadata": {},
          "execution_count": 109
        }
      ],
      "source": [
        "df = spark.createDataFrame([('1',), ('2',), ('3',), (None,)], ['data'])\n",
        "df.toPandas()"
      ]
    },
    {
      "cell_type": "code",
      "execution_count": 110,
      "metadata": {
        "id": "Nokz_PPC994j",
        "colab": {
          "base_uri": "https://localhost:8080/"
        },
        "outputId": "efd18d24-b010-46ee-bd8d-d96f2064dfa2"
      },
      "outputs": [
        {
          "output_type": "stream",
          "name": "stdout",
          "text": [
            "+----+\n",
            "|data|\n",
            "+----+\n",
            "|   1|\n",
            "|   2|\n",
            "|   3|\n",
            "|null|\n",
            "+----+\n",
            "\n"
          ]
        }
      ],
      "source": [
        "df.show()"
      ]
    },
    {
      "cell_type": "code",
      "execution_count": 112,
      "metadata": {
        "id": "N1wvIzb8-Rpk",
        "colab": {
          "base_uri": "https://localhost:8080/",
          "height": 288
        },
        "outputId": "fc3bacc8-4b33-4fdd-8911-088b7f9c5fc6"
      },
      "outputs": [
        {
          "output_type": "execute_result",
          "data": {
            "text/plain": [
              "   cnpj_basico  identificador_de_socio    nome_do_socio_ou_razao_social  \\\n",
              "0          411                       2      LILIANA PATRICIA GUASTAVINO   \n",
              "1          411                       2             CRISTINA HUNDERTMARK   \n",
              "2         5813                       2  CELSO EDUARDO DE CASTRO STEPHAN   \n",
              "3         5813                       2        EDUARDO BERRINGER STEPHAN   \n",
              "4        14798                       2              HANNE MAHFOUD FADEL   \n",
              "\n",
              "  cnpj_ou_cpf_do_socio  qualificacao_do_socio data_de_entrada_sociedade  pais  \\\n",
              "0          ***678188**                     22                1994-07-25   NaN   \n",
              "1          ***637848**                     28                1994-07-25   NaN   \n",
              "2          ***786068**                     49                1994-05-16   NaN   \n",
              "3          ***442348**                     49                1994-05-16   NaN   \n",
              "4          ***760388**                     49                1994-06-09   NaN   \n",
              "\n",
              "  representante_legal nome_do_representante  \\\n",
              "0         ***000000**                  None   \n",
              "1         ***000000**                  None   \n",
              "2         ***000000**                  None   \n",
              "3         ***000000**                  None   \n",
              "4         ***000000**                  None   \n",
              "\n",
              "   qualificacao_do_representante_legal  faixa_etaria  \n",
              "0                                    0             7  \n",
              "1                                    0             7  \n",
              "2                                    0             8  \n",
              "3                                    0             5  \n",
              "4                                    0             8  "
            ],
            "text/html": [
              "\n",
              "  <div id=\"df-70892ff1-7101-459d-af66-703da5c739df\">\n",
              "    <div class=\"colab-df-container\">\n",
              "      <div>\n",
              "<style scoped>\n",
              "    .dataframe tbody tr th:only-of-type {\n",
              "        vertical-align: middle;\n",
              "    }\n",
              "\n",
              "    .dataframe tbody tr th {\n",
              "        vertical-align: top;\n",
              "    }\n",
              "\n",
              "    .dataframe thead th {\n",
              "        text-align: right;\n",
              "    }\n",
              "</style>\n",
              "<table border=\"1\" class=\"dataframe\">\n",
              "  <thead>\n",
              "    <tr style=\"text-align: right;\">\n",
              "      <th></th>\n",
              "      <th>cnpj_basico</th>\n",
              "      <th>identificador_de_socio</th>\n",
              "      <th>nome_do_socio_ou_razao_social</th>\n",
              "      <th>cnpj_ou_cpf_do_socio</th>\n",
              "      <th>qualificacao_do_socio</th>\n",
              "      <th>data_de_entrada_sociedade</th>\n",
              "      <th>pais</th>\n",
              "      <th>representante_legal</th>\n",
              "      <th>nome_do_representante</th>\n",
              "      <th>qualificacao_do_representante_legal</th>\n",
              "      <th>faixa_etaria</th>\n",
              "    </tr>\n",
              "  </thead>\n",
              "  <tbody>\n",
              "    <tr>\n",
              "      <th>0</th>\n",
              "      <td>411</td>\n",
              "      <td>2</td>\n",
              "      <td>LILIANA PATRICIA GUASTAVINO</td>\n",
              "      <td>***678188**</td>\n",
              "      <td>22</td>\n",
              "      <td>1994-07-25</td>\n",
              "      <td>NaN</td>\n",
              "      <td>***000000**</td>\n",
              "      <td>None</td>\n",
              "      <td>0</td>\n",
              "      <td>7</td>\n",
              "    </tr>\n",
              "    <tr>\n",
              "      <th>1</th>\n",
              "      <td>411</td>\n",
              "      <td>2</td>\n",
              "      <td>CRISTINA HUNDERTMARK</td>\n",
              "      <td>***637848**</td>\n",
              "      <td>28</td>\n",
              "      <td>1994-07-25</td>\n",
              "      <td>NaN</td>\n",
              "      <td>***000000**</td>\n",
              "      <td>None</td>\n",
              "      <td>0</td>\n",
              "      <td>7</td>\n",
              "    </tr>\n",
              "    <tr>\n",
              "      <th>2</th>\n",
              "      <td>5813</td>\n",
              "      <td>2</td>\n",
              "      <td>CELSO EDUARDO DE CASTRO STEPHAN</td>\n",
              "      <td>***786068**</td>\n",
              "      <td>49</td>\n",
              "      <td>1994-05-16</td>\n",
              "      <td>NaN</td>\n",
              "      <td>***000000**</td>\n",
              "      <td>None</td>\n",
              "      <td>0</td>\n",
              "      <td>8</td>\n",
              "    </tr>\n",
              "    <tr>\n",
              "      <th>3</th>\n",
              "      <td>5813</td>\n",
              "      <td>2</td>\n",
              "      <td>EDUARDO BERRINGER STEPHAN</td>\n",
              "      <td>***442348**</td>\n",
              "      <td>49</td>\n",
              "      <td>1994-05-16</td>\n",
              "      <td>NaN</td>\n",
              "      <td>***000000**</td>\n",
              "      <td>None</td>\n",
              "      <td>0</td>\n",
              "      <td>5</td>\n",
              "    </tr>\n",
              "    <tr>\n",
              "      <th>4</th>\n",
              "      <td>14798</td>\n",
              "      <td>2</td>\n",
              "      <td>HANNE MAHFOUD FADEL</td>\n",
              "      <td>***760388**</td>\n",
              "      <td>49</td>\n",
              "      <td>1994-06-09</td>\n",
              "      <td>NaN</td>\n",
              "      <td>***000000**</td>\n",
              "      <td>None</td>\n",
              "      <td>0</td>\n",
              "      <td>8</td>\n",
              "    </tr>\n",
              "  </tbody>\n",
              "</table>\n",
              "</div>\n",
              "      <button class=\"colab-df-convert\" onclick=\"convertToInteractive('df-70892ff1-7101-459d-af66-703da5c739df')\"\n",
              "              title=\"Convert this dataframe to an interactive table.\"\n",
              "              style=\"display:none;\">\n",
              "        \n",
              "  <svg xmlns=\"http://www.w3.org/2000/svg\" height=\"24px\"viewBox=\"0 0 24 24\"\n",
              "       width=\"24px\">\n",
              "    <path d=\"M0 0h24v24H0V0z\" fill=\"none\"/>\n",
              "    <path d=\"M18.56 5.44l.94 2.06.94-2.06 2.06-.94-2.06-.94-.94-2.06-.94 2.06-2.06.94zm-11 1L8.5 8.5l.94-2.06 2.06-.94-2.06-.94L8.5 2.5l-.94 2.06-2.06.94zm10 10l.94 2.06.94-2.06 2.06-.94-2.06-.94-.94-2.06-.94 2.06-2.06.94z\"/><path d=\"M17.41 7.96l-1.37-1.37c-.4-.4-.92-.59-1.43-.59-.52 0-1.04.2-1.43.59L10.3 9.45l-7.72 7.72c-.78.78-.78 2.05 0 2.83L4 21.41c.39.39.9.59 1.41.59.51 0 1.02-.2 1.41-.59l7.78-7.78 2.81-2.81c.8-.78.8-2.07 0-2.86zM5.41 20L4 18.59l7.72-7.72 1.47 1.35L5.41 20z\"/>\n",
              "  </svg>\n",
              "      </button>\n",
              "      \n",
              "  <style>\n",
              "    .colab-df-container {\n",
              "      display:flex;\n",
              "      flex-wrap:wrap;\n",
              "      gap: 12px;\n",
              "    }\n",
              "\n",
              "    .colab-df-convert {\n",
              "      background-color: #E8F0FE;\n",
              "      border: none;\n",
              "      border-radius: 50%;\n",
              "      cursor: pointer;\n",
              "      display: none;\n",
              "      fill: #1967D2;\n",
              "      height: 32px;\n",
              "      padding: 0 0 0 0;\n",
              "      width: 32px;\n",
              "    }\n",
              "\n",
              "    .colab-df-convert:hover {\n",
              "      background-color: #E2EBFA;\n",
              "      box-shadow: 0px 1px 2px rgba(60, 64, 67, 0.3), 0px 1px 3px 1px rgba(60, 64, 67, 0.15);\n",
              "      fill: #174EA6;\n",
              "    }\n",
              "\n",
              "    [theme=dark] .colab-df-convert {\n",
              "      background-color: #3B4455;\n",
              "      fill: #D2E3FC;\n",
              "    }\n",
              "\n",
              "    [theme=dark] .colab-df-convert:hover {\n",
              "      background-color: #434B5C;\n",
              "      box-shadow: 0px 1px 3px 1px rgba(0, 0, 0, 0.15);\n",
              "      filter: drop-shadow(0px 1px 2px rgba(0, 0, 0, 0.3));\n",
              "      fill: #FFFFFF;\n",
              "    }\n",
              "  </style>\n",
              "\n",
              "      <script>\n",
              "        const buttonEl =\n",
              "          document.querySelector('#df-70892ff1-7101-459d-af66-703da5c739df button.colab-df-convert');\n",
              "        buttonEl.style.display =\n",
              "          google.colab.kernel.accessAllowed ? 'block' : 'none';\n",
              "\n",
              "        async function convertToInteractive(key) {\n",
              "          const element = document.querySelector('#df-70892ff1-7101-459d-af66-703da5c739df');\n",
              "          const dataTable =\n",
              "            await google.colab.kernel.invokeFunction('convertToInteractive',\n",
              "                                                     [key], {});\n",
              "          if (!dataTable) return;\n",
              "\n",
              "          const docLinkHtml = 'Like what you see? Visit the ' +\n",
              "            '<a target=\"_blank\" href=https://colab.research.google.com/notebooks/data_table.ipynb>data table notebook</a>'\n",
              "            + ' to learn more about interactive tables.';\n",
              "          element.innerHTML = '';\n",
              "          dataTable['output_type'] = 'display_data';\n",
              "          await google.colab.output.renderOutput(dataTable, element);\n",
              "          const docLink = document.createElement('div');\n",
              "          docLink.innerHTML = docLinkHtml;\n",
              "          element.appendChild(docLink);\n",
              "        }\n",
              "      </script>\n",
              "    </div>\n",
              "  </div>\n",
              "  "
            ]
          },
          "metadata": {},
          "execution_count": 112
        }
      ],
      "source": [
        "socios.limit(5).toPandas()"
      ]
    },
    {
      "cell_type": "code",
      "execution_count": 113,
      "metadata": {
        "id": "i95DWXnV-Usy",
        "colab": {
          "base_uri": "https://localhost:8080/"
        },
        "outputId": "3a94a9dc-da75-4a5d-ad45-713abc3ca7b8"
      },
      "outputs": [
        {
          "output_type": "stream",
          "name": "stdout",
          "text": [
            "+-----------+----------------------+-----------------------------+--------------------+---------------------+-------------------------+----+-------------------+---------------------+-----------------------------------+------------+\n",
            "|cnpj_basico|identificador_de_socio|nome_do_socio_ou_razao_social|cnpj_ou_cpf_do_socio|qualificacao_do_socio|data_de_entrada_sociedade|pais|representante_legal|nome_do_representante|qualificacao_do_representante_legal|faixa_etaria|\n",
            "+-----------+----------------------+-----------------------------+--------------------+---------------------+-------------------------+----+-------------------+---------------------+-----------------------------------+------------+\n",
            "|        411|                     2|         LILIANA PATRICIA ...|         ***678188**|                   22|               1994-07-25|null|        ***000000**|                 null|                                  0|           7|\n",
            "|        411|                     2|         CRISTINA HUNDERTMARK|         ***637848**|                   28|               1994-07-25|null|        ***000000**|                 null|                                  0|           7|\n",
            "|       5813|                     2|         CELSO EDUARDO DE ...|         ***786068**|                   49|               1994-05-16|null|        ***000000**|                 null|                                  0|           8|\n",
            "|       5813|                     2|         EDUARDO BERRINGER...|         ***442348**|                   49|               1994-05-16|null|        ***000000**|                 null|                                  0|           5|\n",
            "|      14798|                     2|          HANNE MAHFOUD FADEL|         ***760388**|                   49|               1994-06-09|null|        ***000000**|                 null|                                  0|           8|\n",
            "+-----------+----------------------+-----------------------------+--------------------+---------------------+-------------------------+----+-------------------+---------------------+-----------------------------------+------------+\n",
            "only showing top 5 rows\n",
            "\n"
          ]
        }
      ],
      "source": [
        "socios.show(5)"
      ]
    },
    {
      "cell_type": "code",
      "execution_count": 114,
      "metadata": {
        "id": "7f2vmhnQZrod",
        "colab": {
          "base_uri": "https://localhost:8080/"
        },
        "outputId": "19e30e25-a3be-406d-a631-faeb7b15a1af"
      },
      "outputs": [
        {
          "output_type": "stream",
          "name": "stdout",
          "text": [
            "+-----------+----------------------+-----------------------------+--------------------+---------------------+-------------------------+-------+-------------------+---------------------+-----------------------------------+------------+\n",
            "|cnpj_basico|identificador_de_socio|nome_do_socio_ou_razao_social|cnpj_ou_cpf_do_socio|qualificacao_do_socio|data_de_entrada_sociedade|   pais|representante_legal|nome_do_representante|qualificacao_do_representante_legal|faixa_etaria|\n",
            "+-----------+----------------------+-----------------------------+--------------------+---------------------+-------------------------+-------+-------------------+---------------------+-----------------------------------+------------+\n",
            "|          0|                     0|                          208|                1234|                    0|                        1|2038255|                  0|              1995432|                                  0|           0|\n",
            "+-----------+----------------------+-----------------------------+--------------------+---------------------+-------------------------+-------+-------------------+---------------------+-----------------------------------+------------+\n",
            "\n"
          ]
        }
      ],
      "source": [
        "socios.select([f.count(f.when(f.isnull(c), 1)).alias(c) for c in socios.columns]).show()"
      ]
    },
    {
      "cell_type": "code",
      "execution_count": 120,
      "metadata": {
        "id": "nlccfXKMavJv",
        "colab": {
          "base_uri": "https://localhost:8080/",
          "height": 288
        },
        "outputId": "81dce941-7c58-452c-c2cd-6a9404d94140"
      },
      "outputs": [
        {
          "output_type": "execute_result",
          "data": {
            "text/plain": [
              "   cnpj_basico  identificador_de_socio    nome_do_socio_ou_razao_social  \\\n",
              "0          411                       2      LILIANA PATRICIA GUASTAVINO   \n",
              "1          411                       2             CRISTINA HUNDERTMARK   \n",
              "2         5813                       2  CELSO EDUARDO DE CASTRO STEPHAN   \n",
              "3         5813                       2        EDUARDO BERRINGER STEPHAN   \n",
              "4        14798                       2              HANNE MAHFOUD FADEL   \n",
              "\n",
              "  cnpj_ou_cpf_do_socio  qualificacao_do_socio data_de_entrada_sociedade  pais  \\\n",
              "0          ***678188**                     22                1994-07-25     0   \n",
              "1          ***637848**                     28                1994-07-25     0   \n",
              "2          ***786068**                     49                1994-05-16     0   \n",
              "3          ***442348**                     49                1994-05-16     0   \n",
              "4          ***760388**                     49                1994-06-09     0   \n",
              "\n",
              "  representante_legal nome_do_representante  \\\n",
              "0         ***000000**                  None   \n",
              "1         ***000000**                  None   \n",
              "2         ***000000**                  None   \n",
              "3         ***000000**                  None   \n",
              "4         ***000000**                  None   \n",
              "\n",
              "   qualificacao_do_representante_legal  faixa_etaria  \n",
              "0                                    0             7  \n",
              "1                                    0             7  \n",
              "2                                    0             8  \n",
              "3                                    0             5  \n",
              "4                                    0             8  "
            ],
            "text/html": [
              "\n",
              "  <div id=\"df-f9943ff1-304f-4dfc-8f7d-af043d1193b5\">\n",
              "    <div class=\"colab-df-container\">\n",
              "      <div>\n",
              "<style scoped>\n",
              "    .dataframe tbody tr th:only-of-type {\n",
              "        vertical-align: middle;\n",
              "    }\n",
              "\n",
              "    .dataframe tbody tr th {\n",
              "        vertical-align: top;\n",
              "    }\n",
              "\n",
              "    .dataframe thead th {\n",
              "        text-align: right;\n",
              "    }\n",
              "</style>\n",
              "<table border=\"1\" class=\"dataframe\">\n",
              "  <thead>\n",
              "    <tr style=\"text-align: right;\">\n",
              "      <th></th>\n",
              "      <th>cnpj_basico</th>\n",
              "      <th>identificador_de_socio</th>\n",
              "      <th>nome_do_socio_ou_razao_social</th>\n",
              "      <th>cnpj_ou_cpf_do_socio</th>\n",
              "      <th>qualificacao_do_socio</th>\n",
              "      <th>data_de_entrada_sociedade</th>\n",
              "      <th>pais</th>\n",
              "      <th>representante_legal</th>\n",
              "      <th>nome_do_representante</th>\n",
              "      <th>qualificacao_do_representante_legal</th>\n",
              "      <th>faixa_etaria</th>\n",
              "    </tr>\n",
              "  </thead>\n",
              "  <tbody>\n",
              "    <tr>\n",
              "      <th>0</th>\n",
              "      <td>411</td>\n",
              "      <td>2</td>\n",
              "      <td>LILIANA PATRICIA GUASTAVINO</td>\n",
              "      <td>***678188**</td>\n",
              "      <td>22</td>\n",
              "      <td>1994-07-25</td>\n",
              "      <td>0</td>\n",
              "      <td>***000000**</td>\n",
              "      <td>None</td>\n",
              "      <td>0</td>\n",
              "      <td>7</td>\n",
              "    </tr>\n",
              "    <tr>\n",
              "      <th>1</th>\n",
              "      <td>411</td>\n",
              "      <td>2</td>\n",
              "      <td>CRISTINA HUNDERTMARK</td>\n",
              "      <td>***637848**</td>\n",
              "      <td>28</td>\n",
              "      <td>1994-07-25</td>\n",
              "      <td>0</td>\n",
              "      <td>***000000**</td>\n",
              "      <td>None</td>\n",
              "      <td>0</td>\n",
              "      <td>7</td>\n",
              "    </tr>\n",
              "    <tr>\n",
              "      <th>2</th>\n",
              "      <td>5813</td>\n",
              "      <td>2</td>\n",
              "      <td>CELSO EDUARDO DE CASTRO STEPHAN</td>\n",
              "      <td>***786068**</td>\n",
              "      <td>49</td>\n",
              "      <td>1994-05-16</td>\n",
              "      <td>0</td>\n",
              "      <td>***000000**</td>\n",
              "      <td>None</td>\n",
              "      <td>0</td>\n",
              "      <td>8</td>\n",
              "    </tr>\n",
              "    <tr>\n",
              "      <th>3</th>\n",
              "      <td>5813</td>\n",
              "      <td>2</td>\n",
              "      <td>EDUARDO BERRINGER STEPHAN</td>\n",
              "      <td>***442348**</td>\n",
              "      <td>49</td>\n",
              "      <td>1994-05-16</td>\n",
              "      <td>0</td>\n",
              "      <td>***000000**</td>\n",
              "      <td>None</td>\n",
              "      <td>0</td>\n",
              "      <td>5</td>\n",
              "    </tr>\n",
              "    <tr>\n",
              "      <th>4</th>\n",
              "      <td>14798</td>\n",
              "      <td>2</td>\n",
              "      <td>HANNE MAHFOUD FADEL</td>\n",
              "      <td>***760388**</td>\n",
              "      <td>49</td>\n",
              "      <td>1994-06-09</td>\n",
              "      <td>0</td>\n",
              "      <td>***000000**</td>\n",
              "      <td>None</td>\n",
              "      <td>0</td>\n",
              "      <td>8</td>\n",
              "    </tr>\n",
              "  </tbody>\n",
              "</table>\n",
              "</div>\n",
              "      <button class=\"colab-df-convert\" onclick=\"convertToInteractive('df-f9943ff1-304f-4dfc-8f7d-af043d1193b5')\"\n",
              "              title=\"Convert this dataframe to an interactive table.\"\n",
              "              style=\"display:none;\">\n",
              "        \n",
              "  <svg xmlns=\"http://www.w3.org/2000/svg\" height=\"24px\"viewBox=\"0 0 24 24\"\n",
              "       width=\"24px\">\n",
              "    <path d=\"M0 0h24v24H0V0z\" fill=\"none\"/>\n",
              "    <path d=\"M18.56 5.44l.94 2.06.94-2.06 2.06-.94-2.06-.94-.94-2.06-.94 2.06-2.06.94zm-11 1L8.5 8.5l.94-2.06 2.06-.94-2.06-.94L8.5 2.5l-.94 2.06-2.06.94zm10 10l.94 2.06.94-2.06 2.06-.94-2.06-.94-.94-2.06-.94 2.06-2.06.94z\"/><path d=\"M17.41 7.96l-1.37-1.37c-.4-.4-.92-.59-1.43-.59-.52 0-1.04.2-1.43.59L10.3 9.45l-7.72 7.72c-.78.78-.78 2.05 0 2.83L4 21.41c.39.39.9.59 1.41.59.51 0 1.02-.2 1.41-.59l7.78-7.78 2.81-2.81c.8-.78.8-2.07 0-2.86zM5.41 20L4 18.59l7.72-7.72 1.47 1.35L5.41 20z\"/>\n",
              "  </svg>\n",
              "      </button>\n",
              "      \n",
              "  <style>\n",
              "    .colab-df-container {\n",
              "      display:flex;\n",
              "      flex-wrap:wrap;\n",
              "      gap: 12px;\n",
              "    }\n",
              "\n",
              "    .colab-df-convert {\n",
              "      background-color: #E8F0FE;\n",
              "      border: none;\n",
              "      border-radius: 50%;\n",
              "      cursor: pointer;\n",
              "      display: none;\n",
              "      fill: #1967D2;\n",
              "      height: 32px;\n",
              "      padding: 0 0 0 0;\n",
              "      width: 32px;\n",
              "    }\n",
              "\n",
              "    .colab-df-convert:hover {\n",
              "      background-color: #E2EBFA;\n",
              "      box-shadow: 0px 1px 2px rgba(60, 64, 67, 0.3), 0px 1px 3px 1px rgba(60, 64, 67, 0.15);\n",
              "      fill: #174EA6;\n",
              "    }\n",
              "\n",
              "    [theme=dark] .colab-df-convert {\n",
              "      background-color: #3B4455;\n",
              "      fill: #D2E3FC;\n",
              "    }\n",
              "\n",
              "    [theme=dark] .colab-df-convert:hover {\n",
              "      background-color: #434B5C;\n",
              "      box-shadow: 0px 1px 3px 1px rgba(0, 0, 0, 0.15);\n",
              "      filter: drop-shadow(0px 1px 2px rgba(0, 0, 0, 0.3));\n",
              "      fill: #FFFFFF;\n",
              "    }\n",
              "  </style>\n",
              "\n",
              "      <script>\n",
              "        const buttonEl =\n",
              "          document.querySelector('#df-f9943ff1-304f-4dfc-8f7d-af043d1193b5 button.colab-df-convert');\n",
              "        buttonEl.style.display =\n",
              "          google.colab.kernel.accessAllowed ? 'block' : 'none';\n",
              "\n",
              "        async function convertToInteractive(key) {\n",
              "          const element = document.querySelector('#df-f9943ff1-304f-4dfc-8f7d-af043d1193b5');\n",
              "          const dataTable =\n",
              "            await google.colab.kernel.invokeFunction('convertToInteractive',\n",
              "                                                     [key], {});\n",
              "          if (!dataTable) return;\n",
              "\n",
              "          const docLinkHtml = 'Like what you see? Visit the ' +\n",
              "            '<a target=\"_blank\" href=https://colab.research.google.com/notebooks/data_table.ipynb>data table notebook</a>'\n",
              "            + ' to learn more about interactive tables.';\n",
              "          element.innerHTML = '';\n",
              "          dataTable['output_type'] = 'display_data';\n",
              "          await google.colab.output.renderOutput(dataTable, element);\n",
              "          const docLink = document.createElement('div');\n",
              "          docLink.innerHTML = docLinkHtml;\n",
              "          element.appendChild(docLink);\n",
              "        }\n",
              "      </script>\n",
              "    </div>\n",
              "  </div>\n",
              "  "
            ]
          },
          "metadata": {},
          "execution_count": 120
        }
      ],
      "source": [
        "socios.na.fill(0).limit(5).toPandas()"
      ]
    },
    {
      "cell_type": "code",
      "execution_count": 122,
      "metadata": {
        "id": "p_BjVZKeu_V2",
        "colab": {
          "base_uri": "https://localhost:8080/",
          "height": 288
        },
        "outputId": "494f173c-a5d3-471d-e92b-b74c67cfbaa8"
      },
      "outputs": [
        {
          "output_type": "execute_result",
          "data": {
            "text/plain": [
              "   cnpj_basico  identificador_de_socio    nome_do_socio_ou_razao_social  \\\n",
              "0          411                       2      LILIANA PATRICIA GUASTAVINO   \n",
              "1          411                       2             CRISTINA HUNDERTMARK   \n",
              "2         5813                       2  CELSO EDUARDO DE CASTRO STEPHAN   \n",
              "3         5813                       2        EDUARDO BERRINGER STEPHAN   \n",
              "4        14798                       2              HANNE MAHFOUD FADEL   \n",
              "\n",
              "  cnpj_ou_cpf_do_socio  qualificacao_do_socio data_de_entrada_sociedade  pais  \\\n",
              "0          ***678188**                     22                1994-07-25   NaN   \n",
              "1          ***637848**                     28                1994-07-25   NaN   \n",
              "2          ***786068**                     49                1994-05-16   NaN   \n",
              "3          ***442348**                     49                1994-05-16   NaN   \n",
              "4          ***760388**                     49                1994-06-09   NaN   \n",
              "\n",
              "  representante_legal nome_do_representante  \\\n",
              "0         ***000000**                     -   \n",
              "1         ***000000**                     -   \n",
              "2         ***000000**                     -   \n",
              "3         ***000000**                     -   \n",
              "4         ***000000**                     -   \n",
              "\n",
              "   qualificacao_do_representante_legal  faixa_etaria  \n",
              "0                                    0             7  \n",
              "1                                    0             7  \n",
              "2                                    0             8  \n",
              "3                                    0             5  \n",
              "4                                    0             8  "
            ],
            "text/html": [
              "\n",
              "  <div id=\"df-7e339759-1d74-4068-81a0-b409ffa7b769\">\n",
              "    <div class=\"colab-df-container\">\n",
              "      <div>\n",
              "<style scoped>\n",
              "    .dataframe tbody tr th:only-of-type {\n",
              "        vertical-align: middle;\n",
              "    }\n",
              "\n",
              "    .dataframe tbody tr th {\n",
              "        vertical-align: top;\n",
              "    }\n",
              "\n",
              "    .dataframe thead th {\n",
              "        text-align: right;\n",
              "    }\n",
              "</style>\n",
              "<table border=\"1\" class=\"dataframe\">\n",
              "  <thead>\n",
              "    <tr style=\"text-align: right;\">\n",
              "      <th></th>\n",
              "      <th>cnpj_basico</th>\n",
              "      <th>identificador_de_socio</th>\n",
              "      <th>nome_do_socio_ou_razao_social</th>\n",
              "      <th>cnpj_ou_cpf_do_socio</th>\n",
              "      <th>qualificacao_do_socio</th>\n",
              "      <th>data_de_entrada_sociedade</th>\n",
              "      <th>pais</th>\n",
              "      <th>representante_legal</th>\n",
              "      <th>nome_do_representante</th>\n",
              "      <th>qualificacao_do_representante_legal</th>\n",
              "      <th>faixa_etaria</th>\n",
              "    </tr>\n",
              "  </thead>\n",
              "  <tbody>\n",
              "    <tr>\n",
              "      <th>0</th>\n",
              "      <td>411</td>\n",
              "      <td>2</td>\n",
              "      <td>LILIANA PATRICIA GUASTAVINO</td>\n",
              "      <td>***678188**</td>\n",
              "      <td>22</td>\n",
              "      <td>1994-07-25</td>\n",
              "      <td>NaN</td>\n",
              "      <td>***000000**</td>\n",
              "      <td>-</td>\n",
              "      <td>0</td>\n",
              "      <td>7</td>\n",
              "    </tr>\n",
              "    <tr>\n",
              "      <th>1</th>\n",
              "      <td>411</td>\n",
              "      <td>2</td>\n",
              "      <td>CRISTINA HUNDERTMARK</td>\n",
              "      <td>***637848**</td>\n",
              "      <td>28</td>\n",
              "      <td>1994-07-25</td>\n",
              "      <td>NaN</td>\n",
              "      <td>***000000**</td>\n",
              "      <td>-</td>\n",
              "      <td>0</td>\n",
              "      <td>7</td>\n",
              "    </tr>\n",
              "    <tr>\n",
              "      <th>2</th>\n",
              "      <td>5813</td>\n",
              "      <td>2</td>\n",
              "      <td>CELSO EDUARDO DE CASTRO STEPHAN</td>\n",
              "      <td>***786068**</td>\n",
              "      <td>49</td>\n",
              "      <td>1994-05-16</td>\n",
              "      <td>NaN</td>\n",
              "      <td>***000000**</td>\n",
              "      <td>-</td>\n",
              "      <td>0</td>\n",
              "      <td>8</td>\n",
              "    </tr>\n",
              "    <tr>\n",
              "      <th>3</th>\n",
              "      <td>5813</td>\n",
              "      <td>2</td>\n",
              "      <td>EDUARDO BERRINGER STEPHAN</td>\n",
              "      <td>***442348**</td>\n",
              "      <td>49</td>\n",
              "      <td>1994-05-16</td>\n",
              "      <td>NaN</td>\n",
              "      <td>***000000**</td>\n",
              "      <td>-</td>\n",
              "      <td>0</td>\n",
              "      <td>5</td>\n",
              "    </tr>\n",
              "    <tr>\n",
              "      <th>4</th>\n",
              "      <td>14798</td>\n",
              "      <td>2</td>\n",
              "      <td>HANNE MAHFOUD FADEL</td>\n",
              "      <td>***760388**</td>\n",
              "      <td>49</td>\n",
              "      <td>1994-06-09</td>\n",
              "      <td>NaN</td>\n",
              "      <td>***000000**</td>\n",
              "      <td>-</td>\n",
              "      <td>0</td>\n",
              "      <td>8</td>\n",
              "    </tr>\n",
              "  </tbody>\n",
              "</table>\n",
              "</div>\n",
              "      <button class=\"colab-df-convert\" onclick=\"convertToInteractive('df-7e339759-1d74-4068-81a0-b409ffa7b769')\"\n",
              "              title=\"Convert this dataframe to an interactive table.\"\n",
              "              style=\"display:none;\">\n",
              "        \n",
              "  <svg xmlns=\"http://www.w3.org/2000/svg\" height=\"24px\"viewBox=\"0 0 24 24\"\n",
              "       width=\"24px\">\n",
              "    <path d=\"M0 0h24v24H0V0z\" fill=\"none\"/>\n",
              "    <path d=\"M18.56 5.44l.94 2.06.94-2.06 2.06-.94-2.06-.94-.94-2.06-.94 2.06-2.06.94zm-11 1L8.5 8.5l.94-2.06 2.06-.94-2.06-.94L8.5 2.5l-.94 2.06-2.06.94zm10 10l.94 2.06.94-2.06 2.06-.94-2.06-.94-.94-2.06-.94 2.06-2.06.94z\"/><path d=\"M17.41 7.96l-1.37-1.37c-.4-.4-.92-.59-1.43-.59-.52 0-1.04.2-1.43.59L10.3 9.45l-7.72 7.72c-.78.78-.78 2.05 0 2.83L4 21.41c.39.39.9.59 1.41.59.51 0 1.02-.2 1.41-.59l7.78-7.78 2.81-2.81c.8-.78.8-2.07 0-2.86zM5.41 20L4 18.59l7.72-7.72 1.47 1.35L5.41 20z\"/>\n",
              "  </svg>\n",
              "      </button>\n",
              "      \n",
              "  <style>\n",
              "    .colab-df-container {\n",
              "      display:flex;\n",
              "      flex-wrap:wrap;\n",
              "      gap: 12px;\n",
              "    }\n",
              "\n",
              "    .colab-df-convert {\n",
              "      background-color: #E8F0FE;\n",
              "      border: none;\n",
              "      border-radius: 50%;\n",
              "      cursor: pointer;\n",
              "      display: none;\n",
              "      fill: #1967D2;\n",
              "      height: 32px;\n",
              "      padding: 0 0 0 0;\n",
              "      width: 32px;\n",
              "    }\n",
              "\n",
              "    .colab-df-convert:hover {\n",
              "      background-color: #E2EBFA;\n",
              "      box-shadow: 0px 1px 2px rgba(60, 64, 67, 0.3), 0px 1px 3px 1px rgba(60, 64, 67, 0.15);\n",
              "      fill: #174EA6;\n",
              "    }\n",
              "\n",
              "    [theme=dark] .colab-df-convert {\n",
              "      background-color: #3B4455;\n",
              "      fill: #D2E3FC;\n",
              "    }\n",
              "\n",
              "    [theme=dark] .colab-df-convert:hover {\n",
              "      background-color: #434B5C;\n",
              "      box-shadow: 0px 1px 3px 1px rgba(0, 0, 0, 0.15);\n",
              "      filter: drop-shadow(0px 1px 2px rgba(0, 0, 0, 0.3));\n",
              "      fill: #FFFFFF;\n",
              "    }\n",
              "  </style>\n",
              "\n",
              "      <script>\n",
              "        const buttonEl =\n",
              "          document.querySelector('#df-7e339759-1d74-4068-81a0-b409ffa7b769 button.colab-df-convert');\n",
              "        buttonEl.style.display =\n",
              "          google.colab.kernel.accessAllowed ? 'block' : 'none';\n",
              "\n",
              "        async function convertToInteractive(key) {\n",
              "          const element = document.querySelector('#df-7e339759-1d74-4068-81a0-b409ffa7b769');\n",
              "          const dataTable =\n",
              "            await google.colab.kernel.invokeFunction('convertToInteractive',\n",
              "                                                     [key], {});\n",
              "          if (!dataTable) return;\n",
              "\n",
              "          const docLinkHtml = 'Like what you see? Visit the ' +\n",
              "            '<a target=\"_blank\" href=https://colab.research.google.com/notebooks/data_table.ipynb>data table notebook</a>'\n",
              "            + ' to learn more about interactive tables.';\n",
              "          element.innerHTML = '';\n",
              "          dataTable['output_type'] = 'display_data';\n",
              "          await google.colab.output.renderOutput(dataTable, element);\n",
              "          const docLink = document.createElement('div');\n",
              "          docLink.innerHTML = docLinkHtml;\n",
              "          element.appendChild(docLink);\n",
              "        }\n",
              "      </script>\n",
              "    </div>\n",
              "  </div>\n",
              "  "
            ]
          },
          "metadata": {},
          "execution_count": 122
        }
      ],
      "source": [
        "socios.na.fill('-').limit(5).toPandas()"
      ]
    },
    {
      "cell_type": "code",
      "execution_count": null,
      "metadata": {
        "id": "VYp2I6NBaz2C"
      },
      "outputs": [],
      "source": []
    },
    {
      "cell_type": "code",
      "execution_count": null,
      "metadata": {
        "id": "8DrHfT6vbSeU"
      },
      "outputs": [],
      "source": []
    },
    {
      "cell_type": "markdown",
      "metadata": {
        "id": "m_NMPijDgp97"
      },
      "source": [
        "## Ordenando os dados\n",
        "\n",
        "[DataFrame.orderBy(*cols, **kwargs)](https://spark.apache.org/docs/3.1.2/api/python/reference/api/pyspark.sql.DataFrame.orderBy.html)"
      ]
    },
    {
      "cell_type": "code",
      "execution_count": null,
      "metadata": {
        "id": "RiEEP4eTd9K_"
      },
      "outputs": [],
      "source": []
    },
    {
      "cell_type": "code",
      "execution_count": null,
      "metadata": {
        "id": "PZrd_p7mfFDR"
      },
      "outputs": [],
      "source": []
    },
    {
      "cell_type": "markdown",
      "metadata": {
        "id": "DeMk86UGhZvc"
      },
      "source": [
        "## Filtrando os dados\n",
        "\n",
        "[DataFrame.where(condition)](https://spark.apache.org/docs/3.1.2/api/python/reference/api/pyspark.sql.DataFrame.where.html) ou [DataFrame.filter(condition)](https://spark.apache.org/docs/3.1.2/api/python/reference/api/pyspark.sql.DataFrame.filter.html)"
      ]
    },
    {
      "cell_type": "code",
      "execution_count": null,
      "metadata": {
        "id": "Y6ZHVYBHjPa5"
      },
      "outputs": [],
      "source": []
    },
    {
      "cell_type": "code",
      "execution_count": null,
      "metadata": {
        "id": "Z6tE7LiKXT1I"
      },
      "outputs": [],
      "source": []
    },
    {
      "cell_type": "markdown",
      "metadata": {
        "id": "WJ_FrfbOK-1a"
      },
      "source": [
        "## O comando LIKE\n",
        "\n",
        "[Column.like(other)](https://spark.apache.org/docs/3.1.2/api/python/reference/api/pyspark.sql.Column.like.html)"
      ]
    },
    {
      "cell_type": "code",
      "execution_count": null,
      "metadata": {
        "id": "R3sMWIEIQLY7"
      },
      "outputs": [],
      "source": [
        "df = spark.createDataFrame([('RESTAURANTE DO RUI',), ('Juca restaurantes ltda',), ('Joca Restaurante',)], ['data'])\n",
        "df.toPandas()"
      ]
    },
    {
      "cell_type": "code",
      "execution_count": null,
      "metadata": {
        "id": "Zfc1p_pEQ1UJ"
      },
      "outputs": [],
      "source": []
    },
    {
      "cell_type": "code",
      "execution_count": null,
      "metadata": {
        "id": "eHqcmjIxGlIF"
      },
      "outputs": [],
      "source": []
    },
    {
      "cell_type": "markdown",
      "metadata": {
        "id": "uiyZCFaEQPtQ"
      },
      "source": [
        "# Agregações e Junções\n",
        "---\n",
        "\n",
        "[DataFrame.groupBy(*cols)](https://spark.apache.org/docs/3.1.2/api/python/reference/api/pyspark.sql.DataFrame.groupBy.html)\n",
        "\n",
        "[DataFrame.agg(*exprs)](https://spark.apache.org/docs/3.1.2/api/python/reference/api/pyspark.sql.DataFrame.agg.html)\n",
        "\n",
        "[DataFrame.summary(*statistics)](https://spark.apache.org/docs/3.1.2/api/python/reference/api/pyspark.sql.DataFrame.summary.html)\n",
        "\n",
        "> Funções:\n",
        "[approx_count_distinct](https://spark.apache.org/docs/3.1.2/api/python/reference/api/pyspark.sql.functions.approx_count_distinct.html) | \n",
        "[avg](https://spark.apache.org/docs/3.1.2/api/python/reference/api/pyspark.sql.functions.avg.html) | \n",
        "[collect_list](https://spark.apache.org/docs/3.1.2/api/python/reference/api/pyspark.sql.functions.collect_list.html) | \n",
        "[collect_set](https://spark.apache.org/docs/3.1.2/api/python/reference/api/pyspark.sql.functions.collect_set.html) | \n",
        "[countDistinct](https://spark.apache.org/docs/3.1.2/api/python/reference/api/pyspark.sql.functions.countDistinct.html) | \n",
        "[count](https://spark.apache.org/docs/3.1.2/api/python/reference/api/pyspark.sql.functions.count.html) | \n",
        "[grouping](https://spark.apache.org/docs/3.1.2/api/python/reference/api/pyspark.sql.functions.grouping.html) | \n",
        "[first](https://spark.apache.org/docs/3.1.2/api/python/reference/api/pyspark.sql.functions.first.html) | \n",
        "[last](https://spark.apache.org/docs/3.1.2/api/python/reference/api/pyspark.sql.functions.last.html) | \n",
        "[kurtosis](https://spark.apache.org/docs/3.1.2/api/python/reference/api/pyspark.sql.functions.kurtosis.html) | \n",
        "[max](https://spark.apache.org/docs/3.1.2/api/python/reference/api/pyspark.sql.functions.max.html) | \n",
        "[min](https://spark.apache.org/docs/3.1.2/api/python/reference/api/pyspark.sql.functions.min.html) | \n",
        "[mean](https://spark.apache.org/docs/3.1.2/api/python/reference/api/pyspark.sql.functions.mean.html) | \n",
        "[skewness](https://spark.apache.org/docs/3.1.2/api/python/reference/api/pyspark.sql.functions.skewness.html) | \n",
        "[stddev ou stddev_samp](https://spark.apache.org/docs/3.1.2/api/python/reference/api/pyspark.sql.functions.stddev.html) | \n",
        "[stddev_pop](https://spark.apache.org/docs/3.1.2/api/python/reference/api/pyspark.sql.functions.stddev_pop.html) | \n",
        "[sum](https://spark.apache.org/docs/3.1.2/api/python/reference/api/pyspark.sql.functions.sum.html) | \n",
        "[sumDistinct](https://spark.apache.org/docs/3.1.2/api/python/reference/api/pyspark.sql.functions.sumDistinct.html) | \n",
        "[variance ou var_samp](https://spark.apache.org/docs/3.1.2/api/python/reference/api/pyspark.sql.functions.variance.html) | \n",
        "[var_pop](https://spark.apache.org/docs/3.1.2/api/python/reference/api/pyspark.sql.functions.var_pop.html)"
      ]
    },
    {
      "cell_type": "markdown",
      "metadata": {
        "id": "Mc6YDFOkywQc"
      },
      "source": [
        "## Sumarizando os dados"
      ]
    },
    {
      "cell_type": "code",
      "execution_count": null,
      "metadata": {
        "id": "o8p8BS7QQKfS"
      },
      "outputs": [],
      "source": []
    },
    {
      "cell_type": "code",
      "execution_count": null,
      "metadata": {
        "id": "xlAbbR4SdZHw"
      },
      "outputs": [],
      "source": []
    },
    {
      "cell_type": "code",
      "execution_count": null,
      "metadata": {
        "id": "_oOOQPUqNiRZ"
      },
      "outputs": [],
      "source": []
    },
    {
      "cell_type": "markdown",
      "metadata": {
        "id": "rOCWSMepX5jN"
      },
      "source": [
        "## Juntando DataFrames - Joins\n",
        "\n",
        "[DataFrame.join(*args)](https://spark.apache.org/docs/3.1.2/api/python/reference/api/pyspark.sql.DataFrame.join.html)"
      ]
    },
    {
      "cell_type": "code",
      "execution_count": null,
      "metadata": {
        "id": "6uklRCkDX4Tf"
      },
      "outputs": [],
      "source": []
    },
    {
      "cell_type": "code",
      "execution_count": null,
      "metadata": {
        "id": "eCMHBCrokoc3"
      },
      "outputs": [],
      "source": []
    },
    {
      "cell_type": "code",
      "execution_count": null,
      "metadata": {
        "id": "oDaN4XFQkdsE"
      },
      "outputs": [],
      "source": []
    },
    {
      "cell_type": "code",
      "execution_count": null,
      "metadata": {
        "id": "VyvClbqRHviC"
      },
      "outputs": [],
      "source": []
    },
    {
      "cell_type": "code",
      "execution_count": null,
      "metadata": {
        "id": "nq_pGKucIjri"
      },
      "outputs": [],
      "source": []
    },
    {
      "cell_type": "code",
      "execution_count": null,
      "metadata": {
        "id": "wWoVxvYKJkC-"
      },
      "outputs": [],
      "source": []
    },
    {
      "cell_type": "code",
      "execution_count": null,
      "metadata": {
        "id": "Ta9UsinQJn1w"
      },
      "outputs": [],
      "source": []
    },
    {
      "cell_type": "code",
      "execution_count": null,
      "metadata": {
        "id": "kki6ZPfNJ_sI"
      },
      "outputs": [],
      "source": []
    },
    {
      "cell_type": "code",
      "execution_count": null,
      "metadata": {
        "id": "EIhL8EKGN09L"
      },
      "outputs": [],
      "source": []
    },
    {
      "cell_type": "code",
      "execution_count": null,
      "metadata": {
        "id": "mrIpShtRN3WK"
      },
      "outputs": [],
      "source": []
    },
    {
      "cell_type": "code",
      "execution_count": null,
      "metadata": {
        "id": "LZ9OYX7NN8SM"
      },
      "outputs": [],
      "source": []
    },
    {
      "cell_type": "code",
      "execution_count": null,
      "metadata": {
        "id": "FdFVRNJeQRua"
      },
      "outputs": [],
      "source": []
    },
    {
      "cell_type": "code",
      "execution_count": null,
      "metadata": {
        "id": "RSEJMOF5PxGF"
      },
      "outputs": [],
      "source": []
    },
    {
      "cell_type": "code",
      "execution_count": null,
      "metadata": {
        "id": "qARQXzC71hPq"
      },
      "outputs": [],
      "source": []
    },
    {
      "cell_type": "code",
      "execution_count": null,
      "metadata": {
        "id": "26U30E70nTew"
      },
      "outputs": [],
      "source": []
    },
    {
      "cell_type": "markdown",
      "metadata": {
        "id": "Bq-9n_n2GlIF"
      },
      "source": [
        "## SparkSQL\n",
        "\n",
        "[SparkSession.sql(sqlQuery)](https://spark.apache.org/docs/3.1.2/api/python/reference/api/pyspark.sql.SparkSession.sql.html)\n",
        "\n",
        "Para saber mais sobre performance: [Artigo - Spark RDDs vs DataFrames vs SparkSQL](https://community.cloudera.com/t5/Community-Articles/Spark-RDDs-vs-DataFrames-vs-SparkSQL/ta-p/246547)"
      ]
    },
    {
      "cell_type": "code",
      "execution_count": null,
      "metadata": {
        "id": "NGCFVpPnGlIF"
      },
      "outputs": [],
      "source": []
    },
    {
      "cell_type": "code",
      "execution_count": null,
      "metadata": {
        "id": "5c_OrvMLGlIF"
      },
      "outputs": [],
      "source": []
    },
    {
      "cell_type": "code",
      "execution_count": null,
      "metadata": {
        "id": "5cff25Y3GlIG"
      },
      "outputs": [],
      "source": []
    },
    {
      "cell_type": "code",
      "execution_count": null,
      "metadata": {
        "id": "Rj0ADzBfGlIG"
      },
      "outputs": [],
      "source": []
    },
    {
      "cell_type": "code",
      "execution_count": null,
      "metadata": {
        "id": "RRxV3Crg1ZFo"
      },
      "outputs": [],
      "source": []
    },
    {
      "cell_type": "code",
      "execution_count": null,
      "metadata": {
        "id": "Q0zjZOxM0jzy"
      },
      "outputs": [],
      "source": []
    },
    {
      "cell_type": "code",
      "execution_count": null,
      "metadata": {
        "id": "Z0oUrvo4E76z"
      },
      "outputs": [],
      "source": []
    },
    {
      "cell_type": "code",
      "execution_count": null,
      "metadata": {
        "id": "ghAEAvfj0eS3"
      },
      "outputs": [],
      "source": []
    },
    {
      "cell_type": "markdown",
      "metadata": {
        "id": "XDM3l-CUGlIJ"
      },
      "source": [
        "# Formas de Armazenamento\n",
        "---"
      ]
    },
    {
      "cell_type": "markdown",
      "metadata": {
        "id": "ySrkXajNGlIK"
      },
      "source": [
        "## Arquivos CSV\n",
        "\n",
        "[property DataFrame.write](https://spark.apache.org/docs/3.1.2/api/python/reference/api/pyspark.sql.DataFrame.write.html)\n",
        "\n",
        "[DataFrameWriter.csv(*args)](https://spark.apache.org/docs/3.1.2/api/python/reference/api/pyspark.sql.DataFrameWriter.csv.html)"
      ]
    },
    {
      "cell_type": "code",
      "execution_count": null,
      "metadata": {
        "id": "f1PBgc6kGlIK"
      },
      "outputs": [],
      "source": []
    },
    {
      "cell_type": "code",
      "execution_count": null,
      "metadata": {
        "id": "42_1Y8eW6e2r"
      },
      "outputs": [],
      "source": []
    },
    {
      "cell_type": "code",
      "execution_count": null,
      "metadata": {
        "id": "eD01X0MN6pgp"
      },
      "outputs": [],
      "source": []
    },
    {
      "cell_type": "markdown",
      "metadata": {
        "id": "Z4KYGLOUe9VN"
      },
      "source": [
        "## Faça como eu fiz"
      ]
    },
    {
      "cell_type": "code",
      "execution_count": null,
      "metadata": {
        "id": "8ttmS8v1GlIK"
      },
      "outputs": [],
      "source": []
    },
    {
      "cell_type": "code",
      "execution_count": null,
      "metadata": {
        "id": "3YvAdU_MGlIK"
      },
      "outputs": [],
      "source": []
    },
    {
      "cell_type": "markdown",
      "metadata": {
        "id": "ge7vmWujGlIK"
      },
      "source": [
        "## Arquivos PARQUET\n",
        "\n",
        "[Apache Parquet](https://parquet.apache.org/)\n",
        "\n",
        "[DataFrameWriter.parquet(*args)](https://spark.apache.org/docs/3.1.2/api/python/reference/api/pyspark.sql.DataFrameWriter.parquet.html)"
      ]
    },
    {
      "cell_type": "code",
      "execution_count": null,
      "metadata": {
        "id": "qd14cXcto9za"
      },
      "outputs": [],
      "source": []
    },
    {
      "cell_type": "code",
      "execution_count": null,
      "metadata": {
        "id": "ZysCHmzicRo4"
      },
      "outputs": [],
      "source": []
    },
    {
      "cell_type": "code",
      "execution_count": null,
      "metadata": {
        "id": "9siUUauWdAej"
      },
      "outputs": [],
      "source": []
    },
    {
      "cell_type": "markdown",
      "metadata": {
        "id": "UYsfCfudGlIK"
      },
      "source": [
        "## Particionamento dos dados\n",
        "\n",
        "[DataFrameWriter.partitionBy(*cols)](https://spark.apache.org/docs/3.1.2/api/python/reference/api/pyspark.sql.DataFrameWriter.partitionBy.html)"
      ]
    },
    {
      "cell_type": "code",
      "execution_count": null,
      "metadata": {
        "id": "p3lGYb4qRVz3"
      },
      "outputs": [],
      "source": []
    },
    {
      "cell_type": "code",
      "execution_count": null,
      "metadata": {
        "id": "i6Tv9DelGlIL"
      },
      "outputs": [],
      "source": []
    },
    {
      "cell_type": "code",
      "execution_count": null,
      "metadata": {
        "id": "zFAQ-XlHScMr"
      },
      "outputs": [],
      "source": []
    },
    {
      "cell_type": "code",
      "execution_count": null,
      "metadata": {
        "id": "dveTyKd1VitH"
      },
      "outputs": [],
      "source": []
    }
  ],
  "metadata": {
    "colab": {
      "collapsed_sections": [],
      "provenance": []
    },
    "kernelspec": {
      "display_name": "Python 3.9.12 ('base')",
      "language": "python",
      "name": "python3"
    },
    "language_info": {
      "codemirror_mode": {
        "name": "ipython",
        "version": 3
      },
      "file_extension": ".py",
      "mimetype": "text/x-python",
      "name": "python",
      "nbconvert_exporter": "python",
      "pygments_lexer": "ipython3",
      "version": "3.9.12"
    },
    "varInspector": {
      "cols": {
        "lenName": 16,
        "lenType": 16,
        "lenVar": 40
      },
      "kernels_config": {
        "python": {
          "delete_cmd_postfix": "",
          "delete_cmd_prefix": "del ",
          "library": "var_list.py",
          "varRefreshCmd": "print(var_dic_list())"
        },
        "r": {
          "delete_cmd_postfix": ") ",
          "delete_cmd_prefix": "rm(",
          "library": "var_list.r",
          "varRefreshCmd": "cat(var_dic_list()) "
        }
      },
      "types_to_exclude": [
        "module",
        "function",
        "builtin_function_or_method",
        "instance",
        "_Feature"
      ],
      "window_display": false
    },
    "vscode": {
      "interpreter": {
        "hash": "7ad2d2b061933ccb46f02c21d4dc257a7efb561c7355abd71f7246fa8dd772fc"
      }
    }
  },
  "nbformat": 4,
  "nbformat_minor": 0
}