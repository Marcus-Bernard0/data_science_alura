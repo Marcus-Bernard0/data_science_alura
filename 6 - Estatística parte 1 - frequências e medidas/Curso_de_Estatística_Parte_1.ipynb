{
 "cells": [
  {
   "cell_type": "markdown",
   "metadata": {
    "colab_type": "text",
    "id": "WvMflodMjQKe"
   },
   "source": [
    "***\n",
    "# <font color=black size=10>CURSO DE ESTATÍSTICA - PARTE 1</font>\n",
    "***"
   ]
  },
  {
   "cell_type": "markdown",
   "metadata": {
    "colab_type": "text",
    "id": "cVgsZ_E3jQKg"
   },
   "source": [
    "# <font color=black>1 CONHECENDO OS DADOS</font>\n",
    "***"
   ]
  },
  {
   "cell_type": "markdown",
   "metadata": {
    "colab_type": "text",
    "id": "TDjqYYNojQKh"
   },
   "source": [
    "## <font color=black>1.1 Dataset do projeto</font>\n",
    "***"
   ]
  },
  {
   "cell_type": "markdown",
   "metadata": {
    "colab_type": "text",
    "id": "iN1gIbaKjQKh"
   },
   "source": [
    "### Pesquisa Nacional por Amostra de Domicílios - 2015\n",
    "\n",
    "A <b>Pesquisa Nacional por Amostra de Domicílios - PNAD</b> investiga anualmente, de forma permanente, características gerais da população, de educação, trabalho, rendimento e habitação e outras, com periodicidade variável, de acordo com as necessidades de informação para o país, como as características sobre migração, fecundidade, nupcialidade, saúde, segurança alimentar, entre outros temas. O levantamento dessas estatísticas constitui, ao longo dos 49 anos de realização da pesquisa, um importante instrumento para formulação, validação e avaliação de políticas orientadas para o desenvolvimento socioeconômico e a melhoria das condições de vida no Brasil."
   ]
  },
  {
   "cell_type": "markdown",
   "metadata": {
    "colab_type": "text",
    "id": "U6V7br1RjQKi"
   },
   "source": [
    "### Fonte dos Dados\n",
    "\n",
    "https://ww2.ibge.gov.br/home/estatistica/populacao/trabalhoerendimento/pnad2015/microdados.shtm"
   ]
  },
  {
   "cell_type": "markdown",
   "metadata": {
    "colab_type": "text",
    "id": "r0Fe_qnzjQKj"
   },
   "source": [
    "### Variáveis utilizadas\n",
    "\n",
    "### Renda\n",
    "***\n",
    "\n",
    "Rendimento mensal do trabalho principal para pessoas de 10 anos ou mais de idade.\n",
    "\n",
    "### Idade\n",
    "***\n",
    "\n",
    "Idade do morador na data de referência em anos.\n",
    "\n",
    "### Altura (elaboração própria)\n",
    "***\n",
    "\n",
    "Altura do morador em metros.\n",
    "\n",
    "### UF\n",
    "***\n",
    "\n",
    "|Código|Descrição|\n",
    "|---|---|\n",
    "|11|Rondônia|\n",
    "|12|Acre|\n",
    "|13|Amazonas|\n",
    "|14|Roraima|\n",
    "|15|Pará|\n",
    "|16|Amapá|\n",
    "|17|Tocantins|\n",
    "|21|Maranhão|\n",
    "|22|Piauí|\n",
    "|23|Ceará|\n",
    "|24|Rio Grande do Norte|\n",
    "|25|Paraíba|\n",
    "|26|Pernambuco|\n",
    "|27|Alagoas|\n",
    "|28|Sergipe|\n",
    "|29|Bahia|\n",
    "|31|Minas Gerais|\n",
    "|32|Espírito Santo|\n",
    "|33|Rio de Janeiro|\n",
    "|35|São Paulo|\n",
    "|41|Paraná|\n",
    "|42|Santa Catarina|\n",
    "|43|Rio Grande do Sul|\n",
    "|50|Mato Grosso do Sul|\n",
    "|51|Mato Grosso|\n",
    "|52|Goiás|\n",
    "|53|Distrito Federal|\n",
    "\n",
    "### Sexo\t\n",
    "***\n",
    "\n",
    "|Código|Descrição|\n",
    "|---|---|\n",
    "|0|Masculino|\n",
    "|1|Feminino|\n",
    "\n",
    "### Anos de Estudo\n",
    "***\n",
    "\n",
    "|Código|Descrição|\n",
    "|---|---|\n",
    "|1|Sem instrução e menos de 1 ano|\n",
    "|2|1 ano|\n",
    "|3|2 anos|\n",
    "|4|3 anos|\n",
    "|5|4 anos|\n",
    "|6|5 anos|\n",
    "|7|6 anos|\n",
    "|8|7 anos|\n",
    "|9|8 anos|\n",
    "|10|9 anos|\n",
    "|11|10 anos|\n",
    "|12|11 anos|\n",
    "|13|12 anos|\n",
    "|14|13 anos|\n",
    "|15|14 anos|\n",
    "|16|15 anos ou mais|\n",
    "|17|Não determinados| \n",
    "||Não aplicável|\n",
    "\n",
    "### Cor\n",
    "***\n",
    "\n",
    "|Código|Descrição|\n",
    "|---|---|\n",
    "|0|Indígena|\n",
    "|2|Branca|\n",
    "|4|Preta|\n",
    "|6|Amarela|\n",
    "|8|Parda|\n",
    "|9|Sem declaração|"
   ]
  },
  {
   "cell_type": "markdown",
   "metadata": {
    "colab_type": "text",
    "id": "OK1IQH5cX7Gb"
   },
   "source": [
    "#### <font color='red'>Observação</font>\n",
    "***\n",
    "> Os seguintes tratamentos foram realizados nos dados originais:\n",
    "> 1. Foram eliminados os registros onde a <b>Renda</b> era inválida (999 999 999 999);\n",
    "> 2. Foram eliminados os registros onde a <b>Renda</b> era missing;\n",
    "> 3. Foram considerados somente os registros das <b>Pessoas de Referência</b> de cada domicílio (responsável pelo domicílio)."
   ]
  },
  {
   "cell_type": "markdown",
   "metadata": {
    "colab_type": "text",
    "id": "8Rw70V6ojQKk"
   },
   "source": [
    "### Importando pandas e lendo o dataset do projeto\n",
    "\n",
    "https://pandas.pydata.org/"
   ]
  },
  {
   "cell_type": "code",
   "execution_count": 1,
   "metadata": {
    "colab": {},
    "colab_type": "code",
    "id": "8QgOpE-wjQKl"
   },
   "outputs": [],
   "source": [
    "import pandas as pd"
   ]
  },
  {
   "cell_type": "code",
   "execution_count": 2,
   "metadata": {
    "colab": {},
    "colab_type": "code",
    "id": "ufRZ7TLwjQKo"
   },
   "outputs": [],
   "source": [
    "dados = pd.read_csv('dados/dados.csv')"
   ]
  },
  {
   "cell_type": "code",
   "execution_count": 3,
   "metadata": {
    "colab": {
     "base_uri": "https://localhost:8080/",
     "height": 204
    },
    "colab_type": "code",
    "id": "GsC_WhLFjQKq",
    "outputId": "5eef662c-f904-4e46-ee7a-159616d06554",
    "scrolled": true
   },
   "outputs": [
    {
     "data": {
      "text/html": [
       "<div>\n",
       "<style scoped>\n",
       "    .dataframe tbody tr th:only-of-type {\n",
       "        vertical-align: middle;\n",
       "    }\n",
       "\n",
       "    .dataframe tbody tr th {\n",
       "        vertical-align: top;\n",
       "    }\n",
       "\n",
       "    .dataframe thead th {\n",
       "        text-align: right;\n",
       "    }\n",
       "</style>\n",
       "<table border=\"1\" class=\"dataframe\">\n",
       "  <thead>\n",
       "    <tr style=\"text-align: right;\">\n",
       "      <th></th>\n",
       "      <th>UF</th>\n",
       "      <th>Sexo</th>\n",
       "      <th>Idade</th>\n",
       "      <th>Cor</th>\n",
       "      <th>Anos de Estudo</th>\n",
       "      <th>Renda</th>\n",
       "      <th>Altura</th>\n",
       "    </tr>\n",
       "  </thead>\n",
       "  <tbody>\n",
       "    <tr>\n",
       "      <th>0</th>\n",
       "      <td>11</td>\n",
       "      <td>0</td>\n",
       "      <td>23</td>\n",
       "      <td>8</td>\n",
       "      <td>12</td>\n",
       "      <td>800</td>\n",
       "      <td>1.603808</td>\n",
       "    </tr>\n",
       "    <tr>\n",
       "      <th>1</th>\n",
       "      <td>11</td>\n",
       "      <td>1</td>\n",
       "      <td>23</td>\n",
       "      <td>2</td>\n",
       "      <td>12</td>\n",
       "      <td>1150</td>\n",
       "      <td>1.739790</td>\n",
       "    </tr>\n",
       "    <tr>\n",
       "      <th>2</th>\n",
       "      <td>11</td>\n",
       "      <td>1</td>\n",
       "      <td>35</td>\n",
       "      <td>8</td>\n",
       "      <td>15</td>\n",
       "      <td>880</td>\n",
       "      <td>1.760444</td>\n",
       "    </tr>\n",
       "    <tr>\n",
       "      <th>3</th>\n",
       "      <td>11</td>\n",
       "      <td>0</td>\n",
       "      <td>46</td>\n",
       "      <td>2</td>\n",
       "      <td>6</td>\n",
       "      <td>3500</td>\n",
       "      <td>1.783158</td>\n",
       "    </tr>\n",
       "    <tr>\n",
       "      <th>4</th>\n",
       "      <td>11</td>\n",
       "      <td>1</td>\n",
       "      <td>47</td>\n",
       "      <td>8</td>\n",
       "      <td>9</td>\n",
       "      <td>150</td>\n",
       "      <td>1.690631</td>\n",
       "    </tr>\n",
       "  </tbody>\n",
       "</table>\n",
       "</div>"
      ],
      "text/plain": [
       "   UF  Sexo  Idade  Cor  Anos de Estudo  Renda    Altura\n",
       "0  11     0     23    8              12    800  1.603808\n",
       "1  11     1     23    2              12   1150  1.739790\n",
       "2  11     1     35    8              15    880  1.760444\n",
       "3  11     0     46    2               6   3500  1.783158\n",
       "4  11     1     47    8               9    150  1.690631"
      ]
     },
     "execution_count": 3,
     "metadata": {},
     "output_type": "execute_result"
    }
   ],
   "source": [
    "dados.head()"
   ]
  },
  {
   "cell_type": "markdown",
   "metadata": {
    "colab_type": "text",
    "id": "E3Mx0tVqjQKs"
   },
   "source": [
    "## <font color=green>1.2 Tipos de dados</font>\n",
    "***"
   ]
  },
  {
   "cell_type": "markdown",
   "metadata": {
    "colab_type": "text",
    "id": "oB4TCBFojQKt"
   },
   "source": [
    "### Variáveis qualitativas ordinais\n",
    "\n",
    "► Variáveis que podem ser ordenadas ou hierarquizardas"
   ]
  },
  {
   "cell_type": "code",
   "execution_count": 4,
   "metadata": {
    "colab": {
     "base_uri": "https://localhost:8080/",
     "height": 35
    },
    "colab_type": "code",
    "id": "NtQZNGNbjQKt",
    "outputId": "f75cd222-87e0-487c-b3cd-641c701dd6b1"
   },
   "outputs": [
    {
     "data": {
      "text/plain": [
       "[1, 2, 3, 4, 5, 6, 7, 8, 9, 10, 11, 12, 13, 14, 15, 16, 17]"
      ]
     },
     "execution_count": 4,
     "metadata": {},
     "output_type": "execute_result"
    }
   ],
   "source": [
    "sorted(dados['Anos de Estudo'].unique())"
   ]
  },
  {
   "cell_type": "markdown",
   "metadata": {
    "colab_type": "text",
    "id": "i2mCIMyojQKv"
   },
   "source": [
    "### Variáveis qualitativas nominais\n",
    "\n",
    "► Variáveis que não podem ser ordenadas ou hierarquizardas"
   ]
  },
  {
   "cell_type": "code",
   "execution_count": 5,
   "metadata": {
    "colab": {
     "base_uri": "https://localhost:8080/",
     "height": 503
    },
    "colab_type": "code",
    "id": "NODtY5IxjQKw",
    "outputId": "9b36ef0c-fa30-47cd-a568-6334b2330fd7",
    "scrolled": true
   },
   "outputs": [
    {
     "data": {
      "text/plain": [
       "[11,\n",
       " 12,\n",
       " 13,\n",
       " 14,\n",
       " 15,\n",
       " 16,\n",
       " 17,\n",
       " 21,\n",
       " 22,\n",
       " 23,\n",
       " 24,\n",
       " 25,\n",
       " 26,\n",
       " 27,\n",
       " 28,\n",
       " 29,\n",
       " 31,\n",
       " 32,\n",
       " 33,\n",
       " 35,\n",
       " 41,\n",
       " 42,\n",
       " 43,\n",
       " 50,\n",
       " 51,\n",
       " 52,\n",
       " 53]"
      ]
     },
     "execution_count": 5,
     "metadata": {},
     "output_type": "execute_result"
    }
   ],
   "source": [
    "sorted(dados['UF'].unique())"
   ]
  },
  {
   "cell_type": "code",
   "execution_count": 6,
   "metadata": {
    "colab": {
     "base_uri": "https://localhost:8080/",
     "height": 35
    },
    "colab_type": "code",
    "id": "NURfft2QjQKy",
    "outputId": "8dd13533-8135-4234-e3ff-44f72b8fa535"
   },
   "outputs": [
    {
     "data": {
      "text/plain": [
       "[0, 1]"
      ]
     },
     "execution_count": 6,
     "metadata": {},
     "output_type": "execute_result"
    }
   ],
   "source": [
    "sorted(dados['Sexo'].unique())"
   ]
  },
  {
   "cell_type": "code",
   "execution_count": 7,
   "metadata": {
    "colab": {
     "base_uri": "https://localhost:8080/",
     "height": 35
    },
    "colab_type": "code",
    "id": "6VwGyqxMjQK1",
    "outputId": "6f0a238e-e94a-4691-eff8-239e64db9913"
   },
   "outputs": [
    {
     "data": {
      "text/plain": [
       "[0, 2, 4, 6, 8]"
      ]
     },
     "execution_count": 7,
     "metadata": {},
     "output_type": "execute_result"
    }
   ],
   "source": [
    "sorted(dados['Cor'].unique())"
   ]
  },
  {
   "cell_type": "markdown",
   "metadata": {
    "colab_type": "text",
    "id": "FQhi81LsjQK5"
   },
   "source": [
    "### Variáveis quantitativas discretas\n",
    "\n",
    "► Variáveis que representam uma contagem onde os valores possíveis formam um conjunto finito ou enumerável."
   ]
  },
  {
   "cell_type": "code",
   "execution_count": 8,
   "metadata": {
    "colab": {
     "base_uri": "https://localhost:8080/",
     "height": 35
    },
    "colab_type": "code",
    "id": "sr4JXeZkjQK5",
    "outputId": "eea4cb2d-c154-4ad1-b03f-7f5cdf06a285"
   },
   "outputs": [
    {
     "data": {
      "text/plain": [
       "13"
      ]
     },
     "execution_count": 8,
     "metadata": {},
     "output_type": "execute_result"
    }
   ],
   "source": [
    "dados.Idade.min()"
   ]
  },
  {
   "cell_type": "code",
   "execution_count": 9,
   "metadata": {},
   "outputs": [
    {
     "data": {
      "text/plain": [
       "99"
      ]
     },
     "execution_count": 9,
     "metadata": {},
     "output_type": "execute_result"
    }
   ],
   "source": [
    "dados.Idade.max()"
   ]
  },
  {
   "cell_type": "code",
   "execution_count": 10,
   "metadata": {},
   "outputs": [
    {
     "name": "stdout",
     "output_type": "stream",
     "text": [
      "De 13 até 99 anos\n"
     ]
    }
   ],
   "source": [
    "print(f'De {dados.Idade.min()} até {dados.Idade.max()} anos')"
   ]
  },
  {
   "cell_type": "markdown",
   "metadata": {
    "colab_type": "text",
    "id": "7mMXLTukjQK-"
   },
   "source": [
    "#### <font color='red'>Observação</font>\n",
    "***\n",
    "> A variável idade pode ser classificada de três formas distintas:\n",
    "> 1. <b>QUANTITATIVA DISCRETA</b> - quando representa anos completos (números inteiros);\n",
    "> 2. <b>QUANTITATIVA CONTÍNUA</b> - quando representa a idade exata, sendo representado por frações de anos; e\n",
    "> 3. <b>QUALITATIVA ORDINAL</b> - quando representa faixas de idade."
   ]
  },
  {
   "cell_type": "markdown",
   "metadata": {
    "colab_type": "text",
    "id": "J0L2OkaQjQK7"
   },
   "source": [
    "### Variáveis quantitativas contínuas\n",
    "\n",
    "► Variáveis que representam uma contagem ou mensuração que assumem valores em uma escala contínua (números reais)."
   ]
  },
  {
   "cell_type": "code",
   "execution_count": 11,
   "metadata": {
    "colab": {
     "base_uri": "https://localhost:8080/",
     "height": 35
    },
    "colab_type": "code",
    "id": "jOW-bGyRjQK8",
    "outputId": "f3667c96-a570-4f95-818e-4bcc9cbe9403"
   },
   "outputs": [
    {
     "data": {
      "text/plain": [
       "1.339244614"
      ]
     },
     "execution_count": 11,
     "metadata": {},
     "output_type": "execute_result"
    }
   ],
   "source": [
    "dados.Altura.min()"
   ]
  },
  {
   "cell_type": "code",
   "execution_count": 12,
   "metadata": {},
   "outputs": [
    {
     "data": {
      "text/plain": [
       "2.028496765"
      ]
     },
     "execution_count": 12,
     "metadata": {},
     "output_type": "execute_result"
    }
   ],
   "source": [
    "dados.Altura.max()"
   ]
  },
  {
   "cell_type": "markdown",
   "metadata": {
    "colab_type": "text",
    "id": "d_LW5gMIjQK_"
   },
   "source": [
    "### Classificação de uma variável\n",
    "<img src='https://caelum-online-public.s3.amazonaws.com/1177-estatistica-parte1/01/img001.png' width='70%'>"
   ]
  },
  {
   "cell_type": "markdown",
   "metadata": {
    "colab_type": "text",
    "id": "PNIg_4VEjQK_"
   },
   "source": [
    "# <font color=green>2 DISTRIBUIÇÃO DE FREQUÊNCIAS</font>\n",
    "***\n",
    "\n",
    "O primeiro passo em um trabalho de análise é o conhecimento do comportamento das variáveis envolvidas no estudo. Utilizando técnicas estatísticas como as análises das <b>DISTRIBUIÇÕES DE FREQUÊNCIAS</b> e <b>HISTOGRAMAS</b> podemos avaliar melhor a forma como os fenômenos em estudo se distribuem."
   ]
  },
  {
   "cell_type": "markdown",
   "metadata": {
    "colab_type": "text",
    "id": "JhpyjkEFjQLA"
   },
   "source": [
    "## <font color=green>2.1 Distribuição de frequências para variáveis qualitativas</font>\n",
    "***"
   ]
  },
  {
   "cell_type": "markdown",
   "metadata": {
    "colab_type": "text",
    "id": "SsN3ikjqjQLB"
   },
   "source": [
    "### Método 1"
   ]
  },
  {
   "cell_type": "markdown",
   "metadata": {
    "colab_type": "text",
    "id": "dj_v0M44X7G3"
   },
   "source": [
    "https://pandas.pydata.org/pandas-docs/version/0.22/generated/pandas.Series.value_counts.html"
   ]
  },
  {
   "cell_type": "code",
   "execution_count": 13,
   "metadata": {
    "colab": {
     "base_uri": "https://localhost:8080/",
     "height": 71
    },
    "colab_type": "code",
    "id": "cA4gUboZjQLB",
    "outputId": "960bc58d-62e2-4ca2-bb6d-df888813cb34"
   },
   "outputs": [
    {
     "data": {
      "text/plain": [
       "0    53250\n",
       "1    23590\n",
       "Name: Sexo, dtype: int64"
      ]
     },
     "execution_count": 13,
     "metadata": {},
     "output_type": "execute_result"
    }
   ],
   "source": [
    "dados.Sexo.value_counts()"
   ]
  },
  {
   "cell_type": "code",
   "execution_count": 14,
   "metadata": {
    "colab": {
     "base_uri": "https://localhost:8080/",
     "height": 71
    },
    "colab_type": "code",
    "id": "iy4-ijknjQLD",
    "outputId": "609cb9bf-45b6-4d6a-ab57-f7eee496a41b"
   },
   "outputs": [
    {
     "data": {
      "text/plain": [
       "0    69.299844\n",
       "1    30.700156\n",
       "Name: Sexo, dtype: float64"
      ]
     },
     "execution_count": 14,
     "metadata": {},
     "output_type": "execute_result"
    }
   ],
   "source": [
    "dados.Sexo.value_counts(normalize= True) * 100"
   ]
  },
  {
   "cell_type": "code",
   "execution_count": 15,
   "metadata": {
    "colab": {},
    "colab_type": "code",
    "id": "qfkiLcFijQLG"
   },
   "outputs": [],
   "source": [
    "frequencia = dados.Sexo.value_counts()"
   ]
  },
  {
   "cell_type": "code",
   "execution_count": 16,
   "metadata": {
    "colab": {},
    "colab_type": "code",
    "id": "t4uFMt6fjQLI"
   },
   "outputs": [],
   "source": [
    "percentual = dados.Sexo.value_counts(normalize= True) * 100"
   ]
  },
  {
   "cell_type": "code",
   "execution_count": 17,
   "metadata": {
    "colab": {},
    "colab_type": "code",
    "id": "zUGfju86jQLM"
   },
   "outputs": [],
   "source": [
    "dist_freque_qualitativas = pd.DataFrame({'Frequencia' : frequencia, 'Percentual %' : percentual})"
   ]
  },
  {
   "cell_type": "code",
   "execution_count": 18,
   "metadata": {
    "colab": {
     "base_uri": "https://localhost:8080/",
     "height": 111
    },
    "colab_type": "code",
    "id": "kPOYfijijQLO",
    "outputId": "4af843fe-2772-4fc7-a04c-6e50d2384b58"
   },
   "outputs": [
    {
     "data": {
      "text/html": [
       "<div>\n",
       "<style scoped>\n",
       "    .dataframe tbody tr th:only-of-type {\n",
       "        vertical-align: middle;\n",
       "    }\n",
       "\n",
       "    .dataframe tbody tr th {\n",
       "        vertical-align: top;\n",
       "    }\n",
       "\n",
       "    .dataframe thead th {\n",
       "        text-align: right;\n",
       "    }\n",
       "</style>\n",
       "<table border=\"1\" class=\"dataframe\">\n",
       "  <thead>\n",
       "    <tr style=\"text-align: right;\">\n",
       "      <th></th>\n",
       "      <th>Frequencia</th>\n",
       "      <th>Percentual %</th>\n",
       "    </tr>\n",
       "  </thead>\n",
       "  <tbody>\n",
       "    <tr>\n",
       "      <th>0</th>\n",
       "      <td>53250</td>\n",
       "      <td>69.299844</td>\n",
       "    </tr>\n",
       "    <tr>\n",
       "      <th>1</th>\n",
       "      <td>23590</td>\n",
       "      <td>30.700156</td>\n",
       "    </tr>\n",
       "  </tbody>\n",
       "</table>\n",
       "</div>"
      ],
      "text/plain": [
       "   Frequencia  Percentual %\n",
       "0       53250     69.299844\n",
       "1       23590     30.700156"
      ]
     },
     "execution_count": 18,
     "metadata": {},
     "output_type": "execute_result"
    }
   ],
   "source": [
    "dist_freque_qualitativas"
   ]
  },
  {
   "cell_type": "code",
   "execution_count": 19,
   "metadata": {
    "colab": {},
    "colab_type": "code",
    "id": "tMS-VSk3jQLQ"
   },
   "outputs": [],
   "source": [
    "#Definindo labels\n",
    "#usando o inplace True para gravar a modificação\n",
    "dist_freque_qualitativas.rename(index = {0 : 'Masculino', 1 : 'Feminino'}, inplace = True)"
   ]
  },
  {
   "cell_type": "code",
   "execution_count": 20,
   "metadata": {},
   "outputs": [],
   "source": [
    "dist_freque_qualitativas.rename_axis('Sexo', axis= 'columns', inplace= True)"
   ]
  },
  {
   "cell_type": "code",
   "execution_count": 21,
   "metadata": {
    "colab": {
     "base_uri": "https://localhost:8080/",
     "height": 111
    },
    "colab_type": "code",
    "id": "B9zkYdcCyHe6",
    "outputId": "870e3f1e-498f-47f2-f9c7-30f748d0870a"
   },
   "outputs": [
    {
     "data": {
      "text/html": [
       "<div>\n",
       "<style scoped>\n",
       "    .dataframe tbody tr th:only-of-type {\n",
       "        vertical-align: middle;\n",
       "    }\n",
       "\n",
       "    .dataframe tbody tr th {\n",
       "        vertical-align: top;\n",
       "    }\n",
       "\n",
       "    .dataframe thead th {\n",
       "        text-align: right;\n",
       "    }\n",
       "</style>\n",
       "<table border=\"1\" class=\"dataframe\">\n",
       "  <thead>\n",
       "    <tr style=\"text-align: right;\">\n",
       "      <th>Sexo</th>\n",
       "      <th>Frequencia</th>\n",
       "      <th>Percentual %</th>\n",
       "    </tr>\n",
       "  </thead>\n",
       "  <tbody>\n",
       "    <tr>\n",
       "      <th>Masculino</th>\n",
       "      <td>53250</td>\n",
       "      <td>69.299844</td>\n",
       "    </tr>\n",
       "    <tr>\n",
       "      <th>Feminino</th>\n",
       "      <td>23590</td>\n",
       "      <td>30.700156</td>\n",
       "    </tr>\n",
       "  </tbody>\n",
       "</table>\n",
       "</div>"
      ],
      "text/plain": [
       "Sexo       Frequencia  Percentual %\n",
       "Masculino       53250     69.299844\n",
       "Feminino        23590     30.700156"
      ]
     },
     "execution_count": 21,
     "metadata": {},
     "output_type": "execute_result"
    }
   ],
   "source": [
    "dist_freque_qualitativas"
   ]
  },
  {
   "cell_type": "markdown",
   "metadata": {
    "colab_type": "text",
    "id": "D82ocp_djQLR"
   },
   "source": [
    "### Método 2"
   ]
  },
  {
   "cell_type": "markdown",
   "metadata": {
    "colab_type": "text",
    "id": "rLbfeA_UX7HF"
   },
   "source": [
    "https://pandas.pydata.org/pandas-docs/version/0.22/generated/pandas.crosstab.html"
   ]
  },
  {
   "cell_type": "code",
   "execution_count": 22,
   "metadata": {
    "colab": {},
    "colab_type": "code",
    "id": "d8XMZiEfjQLS"
   },
   "outputs": [],
   "source": [
    "#dicionário criado para alteração de index e coluna.\n",
    "sexo = {0: 'Masculino',\n",
    "        1: 'Feminino'}\n",
    "\n",
    "cor = {0: 'Indígena',\n",
    "        2: 'Branca',\n",
    "        4: 'Preta',\n",
    "        6: 'Amarela',\n",
    "        8: 'Parda',\n",
    "        9: 'Sem declaração'}"
   ]
  },
  {
   "cell_type": "code",
   "execution_count": 23,
   "metadata": {
    "colab": {
     "base_uri": "https://localhost:8080/",
     "height": 142
    },
    "colab_type": "code",
    "id": "YLCyOKYcjQLU",
    "outputId": "7edebb2b-4a25-4b77-f78a-f47adbc8b3d9"
   },
   "outputs": [],
   "source": [
    "frequencia = pd.crosstab(dados.Sexo,\n",
    "                        dados.Cor)\n",
    "                        "
   ]
  },
  {
   "cell_type": "code",
   "execution_count": 24,
   "metadata": {
    "colab": {
     "base_uri": "https://localhost:8080/",
     "height": 142
    },
    "colab_type": "code",
    "id": "nrDtcf5gjQLV",
    "outputId": "6138e377-ca89-4606-8f22-084729b89637"
   },
   "outputs": [
    {
     "data": {
      "text/html": [
       "<div>\n",
       "<style scoped>\n",
       "    .dataframe tbody tr th:only-of-type {\n",
       "        vertical-align: middle;\n",
       "    }\n",
       "\n",
       "    .dataframe tbody tr th {\n",
       "        vertical-align: top;\n",
       "    }\n",
       "\n",
       "    .dataframe thead th {\n",
       "        text-align: right;\n",
       "    }\n",
       "</style>\n",
       "<table border=\"1\" class=\"dataframe\">\n",
       "  <thead>\n",
       "    <tr style=\"text-align: right;\">\n",
       "      <th>Cor</th>\n",
       "      <th>0</th>\n",
       "      <th>2</th>\n",
       "      <th>4</th>\n",
       "      <th>6</th>\n",
       "      <th>8</th>\n",
       "    </tr>\n",
       "    <tr>\n",
       "      <th>Sexo</th>\n",
       "      <th></th>\n",
       "      <th></th>\n",
       "      <th></th>\n",
       "      <th></th>\n",
       "      <th></th>\n",
       "    </tr>\n",
       "  </thead>\n",
       "  <tbody>\n",
       "    <tr>\n",
       "      <th>0</th>\n",
       "      <td>256</td>\n",
       "      <td>22194</td>\n",
       "      <td>5502</td>\n",
       "      <td>235</td>\n",
       "      <td>25063</td>\n",
       "    </tr>\n",
       "    <tr>\n",
       "      <th>1</th>\n",
       "      <td>101</td>\n",
       "      <td>9621</td>\n",
       "      <td>2889</td>\n",
       "      <td>117</td>\n",
       "      <td>10862</td>\n",
       "    </tr>\n",
       "  </tbody>\n",
       "</table>\n",
       "</div>"
      ],
      "text/plain": [
       "Cor     0      2     4    6      8\n",
       "Sexo                              \n",
       "0     256  22194  5502  235  25063\n",
       "1     101   9621  2889  117  10862"
      ]
     },
     "execution_count": 24,
     "metadata": {},
     "output_type": "execute_result"
    }
   ],
   "source": [
    "frequencia"
   ]
  },
  {
   "cell_type": "code",
   "execution_count": 25,
   "metadata": {
    "colab": {
     "base_uri": "https://localhost:8080/",
     "height": 142
    },
    "colab_type": "code",
    "id": "_MHwBGcdp6dl",
    "outputId": "d2674b4f-214e-4b08-de79-13e443d41d41"
   },
   "outputs": [],
   "source": [
    "frequencia.rename(index = sexo, inplace= True)"
   ]
  },
  {
   "cell_type": "code",
   "execution_count": 26,
   "metadata": {},
   "outputs": [
    {
     "data": {
      "text/html": [
       "<div>\n",
       "<style scoped>\n",
       "    .dataframe tbody tr th:only-of-type {\n",
       "        vertical-align: middle;\n",
       "    }\n",
       "\n",
       "    .dataframe tbody tr th {\n",
       "        vertical-align: top;\n",
       "    }\n",
       "\n",
       "    .dataframe thead th {\n",
       "        text-align: right;\n",
       "    }\n",
       "</style>\n",
       "<table border=\"1\" class=\"dataframe\">\n",
       "  <thead>\n",
       "    <tr style=\"text-align: right;\">\n",
       "      <th>Cor</th>\n",
       "      <th>0</th>\n",
       "      <th>2</th>\n",
       "      <th>4</th>\n",
       "      <th>6</th>\n",
       "      <th>8</th>\n",
       "    </tr>\n",
       "    <tr>\n",
       "      <th>Sexo</th>\n",
       "      <th></th>\n",
       "      <th></th>\n",
       "      <th></th>\n",
       "      <th></th>\n",
       "      <th></th>\n",
       "    </tr>\n",
       "  </thead>\n",
       "  <tbody>\n",
       "    <tr>\n",
       "      <th>Masculino</th>\n",
       "      <td>256</td>\n",
       "      <td>22194</td>\n",
       "      <td>5502</td>\n",
       "      <td>235</td>\n",
       "      <td>25063</td>\n",
       "    </tr>\n",
       "    <tr>\n",
       "      <th>Feminino</th>\n",
       "      <td>101</td>\n",
       "      <td>9621</td>\n",
       "      <td>2889</td>\n",
       "      <td>117</td>\n",
       "      <td>10862</td>\n",
       "    </tr>\n",
       "  </tbody>\n",
       "</table>\n",
       "</div>"
      ],
      "text/plain": [
       "Cor          0      2     4    6      8\n",
       "Sexo                                   \n",
       "Masculino  256  22194  5502  235  25063\n",
       "Feminino   101   9621  2889  117  10862"
      ]
     },
     "execution_count": 26,
     "metadata": {},
     "output_type": "execute_result"
    }
   ],
   "source": [
    "frequencia"
   ]
  },
  {
   "cell_type": "code",
   "execution_count": 27,
   "metadata": {},
   "outputs": [],
   "source": [
    "frequencia.rename(columns = cor, inplace= True)"
   ]
  },
  {
   "cell_type": "markdown",
   "metadata": {},
   "source": [
    "#### Criando percentual"
   ]
  },
  {
   "cell_type": "code",
   "execution_count": 28,
   "metadata": {},
   "outputs": [],
   "source": [
    "\n",
    "frequencia = pd.crosstab(dados.Sexo,\n",
    "                        dados.Cor,\n",
    "                        normalize=True) * 100\n",
    "frequencia.rename(index = sexo, inplace= True) \n",
    "frequencia.rename(columns = cor, inplace= True)\n"
   ]
  },
  {
   "cell_type": "code",
   "execution_count": 29,
   "metadata": {},
   "outputs": [
    {
     "data": {
      "text/html": [
       "<div>\n",
       "<style scoped>\n",
       "    .dataframe tbody tr th:only-of-type {\n",
       "        vertical-align: middle;\n",
       "    }\n",
       "\n",
       "    .dataframe tbody tr th {\n",
       "        vertical-align: top;\n",
       "    }\n",
       "\n",
       "    .dataframe thead th {\n",
       "        text-align: right;\n",
       "    }\n",
       "</style>\n",
       "<table border=\"1\" class=\"dataframe\">\n",
       "  <thead>\n",
       "    <tr style=\"text-align: right;\">\n",
       "      <th>Cor</th>\n",
       "      <th>Indígena</th>\n",
       "      <th>Branca</th>\n",
       "      <th>Preta</th>\n",
       "      <th>Amarela</th>\n",
       "      <th>Parda</th>\n",
       "    </tr>\n",
       "    <tr>\n",
       "      <th>Sexo</th>\n",
       "      <th></th>\n",
       "      <th></th>\n",
       "      <th></th>\n",
       "      <th></th>\n",
       "      <th></th>\n",
       "    </tr>\n",
       "  </thead>\n",
       "  <tbody>\n",
       "    <tr>\n",
       "      <th>Masculino</th>\n",
       "      <td>0.333160</td>\n",
       "      <td>28.883394</td>\n",
       "      <td>7.160333</td>\n",
       "      <td>0.305830</td>\n",
       "      <td>32.617126</td>\n",
       "    </tr>\n",
       "    <tr>\n",
       "      <th>Feminino</th>\n",
       "      <td>0.131442</td>\n",
       "      <td>12.520822</td>\n",
       "      <td>3.759761</td>\n",
       "      <td>0.152264</td>\n",
       "      <td>14.135867</td>\n",
       "    </tr>\n",
       "  </tbody>\n",
       "</table>\n",
       "</div>"
      ],
      "text/plain": [
       "Cor        Indígena     Branca     Preta   Amarela      Parda\n",
       "Sexo                                                         \n",
       "Masculino  0.333160  28.883394  7.160333  0.305830  32.617126\n",
       "Feminino   0.131442  12.520822  3.759761  0.152264  14.135867"
      ]
     },
     "execution_count": 29,
     "metadata": {},
     "output_type": "execute_result"
    }
   ],
   "source": [
    "frequencia"
   ]
  },
  {
   "cell_type": "markdown",
   "metadata": {},
   "source": [
    "#### Criando a média com a função agg"
   ]
  },
  {
   "cell_type": "code",
   "execution_count": 30,
   "metadata": {},
   "outputs": [],
   "source": [
    "\n",
    "frequencia = pd.crosstab(dados.Sexo,\n",
    "                        dados.Cor,\n",
    "                        aggfunc= 'mean', values= dados.Renda)\n",
    "frequencia.rename(index = sexo, inplace= True) \n",
    "frequencia.rename(columns = cor, inplace= True)"
   ]
  },
  {
   "cell_type": "code",
   "execution_count": 31,
   "metadata": {},
   "outputs": [
    {
     "data": {
      "text/html": [
       "<div>\n",
       "<style scoped>\n",
       "    .dataframe tbody tr th:only-of-type {\n",
       "        vertical-align: middle;\n",
       "    }\n",
       "\n",
       "    .dataframe tbody tr th {\n",
       "        vertical-align: top;\n",
       "    }\n",
       "\n",
       "    .dataframe thead th {\n",
       "        text-align: right;\n",
       "    }\n",
       "</style>\n",
       "<table border=\"1\" class=\"dataframe\">\n",
       "  <thead>\n",
       "    <tr style=\"text-align: right;\">\n",
       "      <th>Cor</th>\n",
       "      <th>Indígena</th>\n",
       "      <th>Branca</th>\n",
       "      <th>Preta</th>\n",
       "      <th>Amarela</th>\n",
       "      <th>Parda</th>\n",
       "    </tr>\n",
       "    <tr>\n",
       "      <th>Sexo</th>\n",
       "      <th></th>\n",
       "      <th></th>\n",
       "      <th></th>\n",
       "      <th></th>\n",
       "      <th></th>\n",
       "    </tr>\n",
       "  </thead>\n",
       "  <tbody>\n",
       "    <tr>\n",
       "      <th>Masculino</th>\n",
       "      <td>1081.710938</td>\n",
       "      <td>2925.744435</td>\n",
       "      <td>1603.861687</td>\n",
       "      <td>4758.251064</td>\n",
       "      <td>1659.577425</td>\n",
       "    </tr>\n",
       "    <tr>\n",
       "      <th>Feminino</th>\n",
       "      <td>2464.386139</td>\n",
       "      <td>2109.866750</td>\n",
       "      <td>1134.596400</td>\n",
       "      <td>3027.341880</td>\n",
       "      <td>1176.758516</td>\n",
       "    </tr>\n",
       "  </tbody>\n",
       "</table>\n",
       "</div>"
      ],
      "text/plain": [
       "Cor           Indígena       Branca        Preta      Amarela        Parda\n",
       "Sexo                                                                      \n",
       "Masculino  1081.710938  2925.744435  1603.861687  4758.251064  1659.577425\n",
       "Feminino   2464.386139  2109.866750  1134.596400  3027.341880  1176.758516"
      ]
     },
     "execution_count": 31,
     "metadata": {},
     "output_type": "execute_result"
    }
   ],
   "source": [
    "frequencia"
   ]
  },
  {
   "cell_type": "markdown",
   "metadata": {
    "colab_type": "text",
    "id": "eaXQUxnXjQLa"
   },
   "source": [
    "## <font color=green>2.2 Distribuição de frequências para variáveis quantitativas (classes personalizadas)</font>\n",
    "***"
   ]
  },
  {
   "cell_type": "markdown",
   "metadata": {
    "colab_type": "text",
    "id": "wxsSD-VVjQLb"
   },
   "source": [
    "### Passo 1 - Especificar os limites de cada classe\n",
    "\n",
    "Utilizar a seguinte classificação:\n",
    "\n",
    "<b> SM = Salários mínimos. <b>\n",
    "\n",
    "<b>A</b> ► Acima de 20 SM\n",
    "\n",
    "<b>B</b> ► De 10 a 20 SM\n",
    "\n",
    "<b>C</b> ► De 4 a 10 SM\n",
    "\n",
    "<b>D</b> ► De 2 a 4 SM\n",
    "\n",
    "<b>E</b> ► Até 2 SM\n",
    "\n",
    "onde <b>SM</b> é o valor do salário mínimo na época. Em nosso caso <b>R$ 788,00</b> (2015):\n",
    "\n",
    "<b>A</b> ► Acima de 15.760\n",
    "\n",
    "<b>B</b> ► De 7.880 a 15.760\n",
    "\n",
    "<b>C</b> ► De 3.152 a 7.880\n",
    "\n",
    "<b>D</b> ► De 1.576 a 3.152\n",
    "\n",
    "<b>E</b> ► Até 1.576\n"
   ]
  },
  {
   "cell_type": "code",
   "execution_count": 32,
   "metadata": {
    "colab": {
     "base_uri": "https://localhost:8080/",
     "height": 35
    },
    "colab_type": "code",
    "id": "Z08790GUjQLc",
    "outputId": "4a7bafb3-8440-42ee-fc60-a29080527059"
   },
   "outputs": [
    {
     "data": {
      "text/plain": [
       "0"
      ]
     },
     "execution_count": 32,
     "metadata": {},
     "output_type": "execute_result"
    }
   ],
   "source": [
    "dados.Renda.min()"
   ]
  },
  {
   "cell_type": "code",
   "execution_count": 33,
   "metadata": {
    "colab": {
     "base_uri": "https://localhost:8080/",
     "height": 35
    },
    "colab_type": "code",
    "id": "5q2V5-0FjQLe",
    "outputId": "4d3c65eb-f1b0-454d-eb93-09c82314e311"
   },
   "outputs": [
    {
     "data": {
      "text/plain": [
       "200000"
      ]
     },
     "execution_count": 33,
     "metadata": {},
     "output_type": "execute_result"
    }
   ],
   "source": [
    "dados.Renda.max()"
   ]
  },
  {
   "cell_type": "markdown",
   "metadata": {},
   "source": [
    "#### Criando limites da classe"
   ]
  },
  {
   "cell_type": "code",
   "execution_count": 34,
   "metadata": {
    "colab": {},
    "colab_type": "code",
    "id": "Qt5F5w2UjQLg"
   },
   "outputs": [],
   "source": [
    "classe = [0, 1576, 3152, 7880, 15760, 200000 ]"
   ]
  },
  {
   "cell_type": "code",
   "execution_count": 35,
   "metadata": {
    "colab": {},
    "colab_type": "code",
    "id": "DKPIGOLLjQLi"
   },
   "outputs": [],
   "source": [
    "labels = [\"E\", \"D\", \"C\", \"B\", \"A\"]"
   ]
  },
  {
   "cell_type": "markdown",
   "metadata": {
    "colab_type": "text",
    "id": "IQhlvrQUjQLk"
   },
   "source": [
    "### Passo 2 - Criar a tabela de frequências"
   ]
  },
  {
   "cell_type": "markdown",
   "metadata": {
    "colab_type": "text",
    "id": "Uy3fH4IxX7Hc"
   },
   "source": [
    "https://pandas.pydata.org/pandas-docs/version/0.22/generated/pandas.cut.html"
   ]
  },
  {
   "cell_type": "code",
   "execution_count": 36,
   "metadata": {},
   "outputs": [
    {
     "data": {
      "text/html": [
       "<div>\n",
       "<style scoped>\n",
       "    .dataframe tbody tr th:only-of-type {\n",
       "        vertical-align: middle;\n",
       "    }\n",
       "\n",
       "    .dataframe tbody tr th {\n",
       "        vertical-align: top;\n",
       "    }\n",
       "\n",
       "    .dataframe thead th {\n",
       "        text-align: right;\n",
       "    }\n",
       "</style>\n",
       "<table border=\"1\" class=\"dataframe\">\n",
       "  <thead>\n",
       "    <tr style=\"text-align: right;\">\n",
       "      <th></th>\n",
       "      <th>UF</th>\n",
       "      <th>Sexo</th>\n",
       "      <th>Idade</th>\n",
       "      <th>Cor</th>\n",
       "      <th>Anos de Estudo</th>\n",
       "      <th>Renda</th>\n",
       "      <th>Altura</th>\n",
       "    </tr>\n",
       "  </thead>\n",
       "  <tbody>\n",
       "    <tr>\n",
       "      <th>0</th>\n",
       "      <td>11</td>\n",
       "      <td>0</td>\n",
       "      <td>23</td>\n",
       "      <td>8</td>\n",
       "      <td>12</td>\n",
       "      <td>800</td>\n",
       "      <td>1.603808</td>\n",
       "    </tr>\n",
       "    <tr>\n",
       "      <th>1</th>\n",
       "      <td>11</td>\n",
       "      <td>1</td>\n",
       "      <td>23</td>\n",
       "      <td>2</td>\n",
       "      <td>12</td>\n",
       "      <td>1150</td>\n",
       "      <td>1.739790</td>\n",
       "    </tr>\n",
       "    <tr>\n",
       "      <th>2</th>\n",
       "      <td>11</td>\n",
       "      <td>1</td>\n",
       "      <td>35</td>\n",
       "      <td>8</td>\n",
       "      <td>15</td>\n",
       "      <td>880</td>\n",
       "      <td>1.760444</td>\n",
       "    </tr>\n",
       "    <tr>\n",
       "      <th>3</th>\n",
       "      <td>11</td>\n",
       "      <td>0</td>\n",
       "      <td>46</td>\n",
       "      <td>2</td>\n",
       "      <td>6</td>\n",
       "      <td>3500</td>\n",
       "      <td>1.783158</td>\n",
       "    </tr>\n",
       "    <tr>\n",
       "      <th>4</th>\n",
       "      <td>11</td>\n",
       "      <td>1</td>\n",
       "      <td>47</td>\n",
       "      <td>8</td>\n",
       "      <td>9</td>\n",
       "      <td>150</td>\n",
       "      <td>1.690631</td>\n",
       "    </tr>\n",
       "  </tbody>\n",
       "</table>\n",
       "</div>"
      ],
      "text/plain": [
       "   UF  Sexo  Idade  Cor  Anos de Estudo  Renda    Altura\n",
       "0  11     0     23    8              12    800  1.603808\n",
       "1  11     1     23    2              12   1150  1.739790\n",
       "2  11     1     35    8              15    880  1.760444\n",
       "3  11     0     46    2               6   3500  1.783158\n",
       "4  11     1     47    8               9    150  1.690631"
      ]
     },
     "execution_count": 36,
     "metadata": {},
     "output_type": "execute_result"
    }
   ],
   "source": [
    "dados.head()"
   ]
  },
  {
   "cell_type": "code",
   "execution_count": 37,
   "metadata": {
    "colab": {
     "base_uri": "https://localhost:8080/",
     "height": 125
    },
    "colab_type": "code",
    "id": "N-wZ_2UajQLm",
    "outputId": "62245a56-ed43-4344-d2fa-bbad51c61c55"
   },
   "outputs": [
    {
     "data": {
      "text/plain": [
       "0        E\n",
       "1        E\n",
       "2        E\n",
       "3        C\n",
       "4        E\n",
       "        ..\n",
       "76835    E\n",
       "76836    E\n",
       "76837    E\n",
       "76838    E\n",
       "76839    E\n",
       "Name: Renda, Length: 76840, dtype: category\n",
       "Categories (5, object): ['E' < 'D' < 'C' < 'B' < 'A']"
      ]
     },
     "execution_count": 37,
     "metadata": {},
     "output_type": "execute_result"
    }
   ],
   "source": [
    "pd.cut(x = dados.Renda, #pegando dados da renda do dataframe\n",
    "        bins = classe,\n",
    "        labels = labels,\n",
    "        include_lowest = True) #incluindo o menor valor\n",
    "        "
   ]
  },
  {
   "cell_type": "code",
   "execution_count": 38,
   "metadata": {
    "colab": {
     "base_uri": "https://localhost:8080/",
     "height": 125
    },
    "colab_type": "code",
    "id": "WrZ2m2GajQLo",
    "outputId": "363ba010-04c1-4f23-a08a-f5431372fcf4"
   },
   "outputs": [],
   "source": [
    "frequencia = pd.value_counts(pd.cut(x = dados.Renda, #pegando dados da renda do dataframe\n",
    "        bins = classe,\n",
    "        labels = labels,\n",
    "        include_lowest = True)) #incluindo o menor valor"
   ]
  },
  {
   "cell_type": "code",
   "execution_count": 39,
   "metadata": {
    "colab": {
     "base_uri": "https://localhost:8080/",
     "height": 204
    },
    "colab_type": "code",
    "id": "btKoxJDujQLp",
    "outputId": "849e9644-dcf1-4c0f-88c8-9bd00f24a53b"
   },
   "outputs": [
    {
     "data": {
      "text/plain": [
       "E    49755\n",
       "D    16700\n",
       "C     7599\n",
       "B     2178\n",
       "A      608\n",
       "Name: Renda, dtype: int64"
      ]
     },
     "execution_count": 39,
     "metadata": {},
     "output_type": "execute_result"
    }
   ],
   "source": [
    "frequencia"
   ]
  },
  {
   "cell_type": "code",
   "execution_count": 40,
   "metadata": {},
   "outputs": [],
   "source": [
    "porcentagem = pd.value_counts(\n",
    "        pd.cut(x = dados.Renda, #pegando dados da renda do dataframe\n",
    "        bins = classe,\n",
    "        labels = labels,\n",
    "        include_lowest = True),\n",
    "        normalize = True) * 100\n",
    "         #incluindo o menor valor"
   ]
  },
  {
   "cell_type": "code",
   "execution_count": 41,
   "metadata": {
    "colab": {
     "base_uri": "https://localhost:8080/",
     "height": 204
    },
    "colab_type": "code",
    "id": "uTMEJXUHjQLs",
    "outputId": "ce17e408-9d56-44b2-fb26-a4037df3af00"
   },
   "outputs": [
    {
     "data": {
      "text/plain": [
       "E    64.751432\n",
       "D    21.733472\n",
       "C     9.889381\n",
       "B     2.834461\n",
       "A     0.791255\n",
       "Name: Renda, dtype: float64"
      ]
     },
     "execution_count": 41,
     "metadata": {},
     "output_type": "execute_result"
    }
   ],
   "source": [
    "porcentagem"
   ]
  },
  {
   "cell_type": "code",
   "execution_count": 42,
   "metadata": {},
   "outputs": [],
   "source": [
    "dist_freque_quantitativas = pd.DataFrame(\n",
    "    {'Frequência' : frequencia, 'Porcentagem (%)' : porcentagem}\n",
    ")"
   ]
  },
  {
   "cell_type": "code",
   "execution_count": 43,
   "metadata": {},
   "outputs": [
    {
     "data": {
      "text/html": [
       "<div>\n",
       "<style scoped>\n",
       "    .dataframe tbody tr th:only-of-type {\n",
       "        vertical-align: middle;\n",
       "    }\n",
       "\n",
       "    .dataframe tbody tr th {\n",
       "        vertical-align: top;\n",
       "    }\n",
       "\n",
       "    .dataframe thead th {\n",
       "        text-align: right;\n",
       "    }\n",
       "</style>\n",
       "<table border=\"1\" class=\"dataframe\">\n",
       "  <thead>\n",
       "    <tr style=\"text-align: right;\">\n",
       "      <th></th>\n",
       "      <th>Frequência</th>\n",
       "      <th>Porcentagem (%)</th>\n",
       "    </tr>\n",
       "  </thead>\n",
       "  <tbody>\n",
       "    <tr>\n",
       "      <th>A</th>\n",
       "      <td>608</td>\n",
       "      <td>0.791255</td>\n",
       "    </tr>\n",
       "    <tr>\n",
       "      <th>B</th>\n",
       "      <td>2178</td>\n",
       "      <td>2.834461</td>\n",
       "    </tr>\n",
       "    <tr>\n",
       "      <th>C</th>\n",
       "      <td>7599</td>\n",
       "      <td>9.889381</td>\n",
       "    </tr>\n",
       "    <tr>\n",
       "      <th>D</th>\n",
       "      <td>16700</td>\n",
       "      <td>21.733472</td>\n",
       "    </tr>\n",
       "    <tr>\n",
       "      <th>E</th>\n",
       "      <td>49755</td>\n",
       "      <td>64.751432</td>\n",
       "    </tr>\n",
       "  </tbody>\n",
       "</table>\n",
       "</div>"
      ],
      "text/plain": [
       "   Frequência  Porcentagem (%)\n",
       "A         608         0.791255\n",
       "B        2178         2.834461\n",
       "C        7599         9.889381\n",
       "D       16700        21.733472\n",
       "E       49755        64.751432"
      ]
     },
     "execution_count": 43,
     "metadata": {},
     "output_type": "execute_result"
    }
   ],
   "source": [
    "dist_freque_quantitativas = dist_freque_quantitativas.sort_index(ascending = False)\n",
    "dist_freque_quantitativas "
   ]
  },
  {
   "cell_type": "code",
   "execution_count": 44,
   "metadata": {},
   "outputs": [],
   "source": [
    "dist_freque_quantitativas.rename_axis(\"Classes\", axis=1, inplace = True)"
   ]
  },
  {
   "cell_type": "code",
   "execution_count": 45,
   "metadata": {},
   "outputs": [
    {
     "data": {
      "text/html": [
       "<div>\n",
       "<style scoped>\n",
       "    .dataframe tbody tr th:only-of-type {\n",
       "        vertical-align: middle;\n",
       "    }\n",
       "\n",
       "    .dataframe tbody tr th {\n",
       "        vertical-align: top;\n",
       "    }\n",
       "\n",
       "    .dataframe thead th {\n",
       "        text-align: right;\n",
       "    }\n",
       "</style>\n",
       "<table border=\"1\" class=\"dataframe\">\n",
       "  <thead>\n",
       "    <tr style=\"text-align: right;\">\n",
       "      <th>Classes</th>\n",
       "      <th>Frequência</th>\n",
       "      <th>Porcentagem (%)</th>\n",
       "    </tr>\n",
       "  </thead>\n",
       "  <tbody>\n",
       "    <tr>\n",
       "      <th>A</th>\n",
       "      <td>608</td>\n",
       "      <td>0.791255</td>\n",
       "    </tr>\n",
       "    <tr>\n",
       "      <th>B</th>\n",
       "      <td>2178</td>\n",
       "      <td>2.834461</td>\n",
       "    </tr>\n",
       "    <tr>\n",
       "      <th>C</th>\n",
       "      <td>7599</td>\n",
       "      <td>9.889381</td>\n",
       "    </tr>\n",
       "    <tr>\n",
       "      <th>D</th>\n",
       "      <td>16700</td>\n",
       "      <td>21.733472</td>\n",
       "    </tr>\n",
       "    <tr>\n",
       "      <th>E</th>\n",
       "      <td>49755</td>\n",
       "      <td>64.751432</td>\n",
       "    </tr>\n",
       "  </tbody>\n",
       "</table>\n",
       "</div>"
      ],
      "text/plain": [
       "Classes  Frequência  Porcentagem (%)\n",
       "A               608         0.791255\n",
       "B              2178         2.834461\n",
       "C              7599         9.889381\n",
       "D             16700        21.733472\n",
       "E             49755        64.751432"
      ]
     },
     "execution_count": 45,
     "metadata": {},
     "output_type": "execute_result"
    }
   ],
   "source": [
    "dist_freque_quantitativas"
   ]
  },
  {
   "cell_type": "markdown",
   "metadata": {
    "colab_type": "text",
    "id": "ViJYvvjujQLu"
   },
   "source": [
    "## <font color=green>2.3 Distribuição de frequências para variáveis quantitativas (classes de amplitude fixa)</font>\n",
    "***"
   ]
  },
  {
   "cell_type": "markdown",
   "metadata": {
    "colab_type": "text",
    "id": "02ve2BVojQLv"
   },
   "source": [
    "### Importando bibliotecas\n",
    "\n",
    "http://www.numpy.org/"
   ]
  },
  {
   "cell_type": "code",
   "execution_count": 46,
   "metadata": {
    "colab": {},
    "colab_type": "code",
    "id": "hSIsHKuJjQLw"
   },
   "outputs": [],
   "source": [
    "import numpy as np"
   ]
  },
  {
   "cell_type": "markdown",
   "metadata": {
    "colab_type": "text",
    "id": "s9UGNaMzjQLy"
   },
   "source": [
    "### Passo 1 - Difinindo o número de classes"
   ]
  },
  {
   "cell_type": "markdown",
   "metadata": {
    "colab_type": "text",
    "id": "p268tvNHjQLy"
   },
   "source": [
    "#### Regra de Sturges\n",
    "\n",
    "# $$k = 1 + \\frac {10}{3}\\log_{10}n$$"
   ]
  },
  {
   "cell_type": "code",
   "execution_count": 47,
   "metadata": {
    "colab": {
     "base_uri": "https://localhost:8080/",
     "height": 35
    },
    "colab_type": "code",
    "id": "wgLH6gGqjQLz",
    "outputId": "0cac691b-d35f-40a2-e1e7-31cfa0a5698a"
   },
   "outputs": [
    {
     "data": {
      "text/plain": [
       "76840"
      ]
     },
     "execution_count": 47,
     "metadata": {},
     "output_type": "execute_result"
    }
   ],
   "source": [
    "n = dados.shape[0]\n",
    "n"
   ]
  },
  {
   "cell_type": "code",
   "execution_count": 48,
   "metadata": {
    "colab": {},
    "colab_type": "code",
    "id": "uTuVep-8jQL0"
   },
   "outputs": [],
   "source": [
    "k = 1 + (10/3)*np.log10(n)"
   ]
  },
  {
   "cell_type": "code",
   "execution_count": 49,
   "metadata": {
    "colab": {
     "base_uri": "https://localhost:8080/",
     "height": 35
    },
    "colab_type": "code",
    "id": "988IDFNOjQL2",
    "outputId": "9de2b02d-c804-487c-b95e-3f5386860fd0"
   },
   "outputs": [
    {
     "data": {
      "text/plain": [
       "17.285291187298853"
      ]
     },
     "execution_count": 49,
     "metadata": {},
     "output_type": "execute_result"
    }
   ],
   "source": [
    "k"
   ]
  },
  {
   "cell_type": "code",
   "execution_count": 50,
   "metadata": {
    "colab": {
     "base_uri": "https://localhost:8080/",
     "height": 35
    },
    "colab_type": "code",
    "id": "B_Y66_KFjQL4",
    "outputId": "b93f7e32-c1f3-46b0-86d2-4575bab25906"
   },
   "outputs": [],
   "source": [
    "k = int(k.round(0))"
   ]
  },
  {
   "cell_type": "code",
   "execution_count": 51,
   "metadata": {},
   "outputs": [
    {
     "data": {
      "text/plain": [
       "17"
      ]
     },
     "execution_count": 51,
     "metadata": {},
     "output_type": "execute_result"
    }
   ],
   "source": [
    "k"
   ]
  },
  {
   "cell_type": "markdown",
   "metadata": {
    "colab_type": "text",
    "id": "5eO-RhaljQL6"
   },
   "source": [
    "### Passo 2 - Criar a tabela de frequências"
   ]
  },
  {
   "cell_type": "code",
   "execution_count": 52,
   "metadata": {
    "colab": {},
    "colab_type": "code",
    "id": "sVVA-jvDjQL7"
   },
   "outputs": [
    {
     "data": {
      "text/plain": [
       "(-200.001, 11764.706]       75594\n",
       "(11764.706, 23529.412]       1022\n",
       "(23529.412, 35294.118]        169\n",
       "(35294.118, 47058.824]         19\n",
       "(47058.824, 58823.529]         16\n",
       "(58823.529, 70588.235]          5\n",
       "(70588.235, 82352.941]          4\n",
       "(82352.941, 94117.647]          1\n",
       "(94117.647, 105882.353]         6\n",
       "(105882.353, 117647.059]        0\n",
       "(117647.059, 129411.765]        1\n",
       "(129411.765, 141176.471]        0\n",
       "(141176.471, 152941.176]        0\n",
       "(152941.176, 164705.882]        0\n",
       "(164705.882, 176470.588]        0\n",
       "(176470.588, 188235.294]        0\n",
       "(188235.294, 200000.0]          3\n",
       "Name: Renda, dtype: int64"
      ]
     },
     "execution_count": 52,
     "metadata": {},
     "output_type": "execute_result"
    }
   ],
   "source": [
    "frequencia_1= pd.value_counts(\n",
    "    pd.cut(\n",
    "        x = dados.Renda,\n",
    "        bins = 17,\n",
    "        include_lowest = True\n",
    "    ),\n",
    "    sort= False\n",
    ")\n",
    "frequencia_1"
   ]
  },
  {
   "cell_type": "code",
   "execution_count": 53,
   "metadata": {
    "colab": {
     "base_uri": "https://localhost:8080/",
     "height": 341
    },
    "colab_type": "code",
    "id": "-ylxSip1jQL9",
    "outputId": "d362e353-a3c9-4721-efd3-2a8ff7c85ab5"
   },
   "outputs": [
    {
     "data": {
      "text/plain": [
       "(-200.001, 11764.706]       0.983784\n",
       "(11764.706, 23529.412]      0.013300\n",
       "(23529.412, 35294.118]      0.002199\n",
       "(35294.118, 47058.824]      0.000247\n",
       "(47058.824, 58823.529]      0.000208\n",
       "(58823.529, 70588.235]      0.000065\n",
       "(70588.235, 82352.941]      0.000052\n",
       "(82352.941, 94117.647]      0.000013\n",
       "(94117.647, 105882.353]     0.000078\n",
       "(105882.353, 117647.059]    0.000000\n",
       "(117647.059, 129411.765]    0.000013\n",
       "(129411.765, 141176.471]    0.000000\n",
       "(141176.471, 152941.176]    0.000000\n",
       "(152941.176, 164705.882]    0.000000\n",
       "(164705.882, 176470.588]    0.000000\n",
       "(176470.588, 188235.294]    0.000000\n",
       "(188235.294, 200000.0]      0.000039\n",
       "Name: Renda, dtype: float64"
      ]
     },
     "execution_count": 53,
     "metadata": {},
     "output_type": "execute_result"
    }
   ],
   "source": [
    "percentual_1 = pd.value_counts(\n",
    "    pd.cut(\n",
    "        x = dados.Renda,\n",
    "        bins = 17,\n",
    "        include_lowest = True\n",
    "    ),\n",
    "    sort= False,\n",
    "    normalize= True,\n",
    "    \n",
    ")\n",
    "percentual_1"
   ]
  },
  {
   "cell_type": "code",
   "execution_count": 54,
   "metadata": {
    "colab": {
     "base_uri": "https://localhost:8080/",
     "height": 576
    },
    "colab_type": "code",
    "id": "n9kkJ0WTjQL_",
    "outputId": "994669b3-9a10-424c-adab-6f934f87fd45"
   },
   "outputs": [],
   "source": [
    "dist_freque_quantitativas_amplitude_fixa = pd.DataFrame(\n",
    "    {'Frequência' : frequencia_1, 'Porcentagem (%)' : percentual_1}\n",
    ")"
   ]
  },
  {
   "cell_type": "code",
   "execution_count": 55,
   "metadata": {},
   "outputs": [
    {
     "data": {
      "text/html": [
       "<div>\n",
       "<style scoped>\n",
       "    .dataframe tbody tr th:only-of-type {\n",
       "        vertical-align: middle;\n",
       "    }\n",
       "\n",
       "    .dataframe tbody tr th {\n",
       "        vertical-align: top;\n",
       "    }\n",
       "\n",
       "    .dataframe thead th {\n",
       "        text-align: right;\n",
       "    }\n",
       "</style>\n",
       "<table border=\"1\" class=\"dataframe\">\n",
       "  <thead>\n",
       "    <tr style=\"text-align: right;\">\n",
       "      <th>Renda</th>\n",
       "      <th>Frequência</th>\n",
       "      <th>Porcentagem (%)</th>\n",
       "    </tr>\n",
       "  </thead>\n",
       "  <tbody>\n",
       "    <tr>\n",
       "      <th>(-200.001, 11764.706]</th>\n",
       "      <td>75594</td>\n",
       "      <td>0.983784</td>\n",
       "    </tr>\n",
       "    <tr>\n",
       "      <th>(11764.706, 23529.412]</th>\n",
       "      <td>1022</td>\n",
       "      <td>0.013300</td>\n",
       "    </tr>\n",
       "    <tr>\n",
       "      <th>(23529.412, 35294.118]</th>\n",
       "      <td>169</td>\n",
       "      <td>0.002199</td>\n",
       "    </tr>\n",
       "    <tr>\n",
       "      <th>(35294.118, 47058.824]</th>\n",
       "      <td>19</td>\n",
       "      <td>0.000247</td>\n",
       "    </tr>\n",
       "    <tr>\n",
       "      <th>(47058.824, 58823.529]</th>\n",
       "      <td>16</td>\n",
       "      <td>0.000208</td>\n",
       "    </tr>\n",
       "    <tr>\n",
       "      <th>(58823.529, 70588.235]</th>\n",
       "      <td>5</td>\n",
       "      <td>0.000065</td>\n",
       "    </tr>\n",
       "    <tr>\n",
       "      <th>(70588.235, 82352.941]</th>\n",
       "      <td>4</td>\n",
       "      <td>0.000052</td>\n",
       "    </tr>\n",
       "    <tr>\n",
       "      <th>(82352.941, 94117.647]</th>\n",
       "      <td>1</td>\n",
       "      <td>0.000013</td>\n",
       "    </tr>\n",
       "    <tr>\n",
       "      <th>(94117.647, 105882.353]</th>\n",
       "      <td>6</td>\n",
       "      <td>0.000078</td>\n",
       "    </tr>\n",
       "    <tr>\n",
       "      <th>(105882.353, 117647.059]</th>\n",
       "      <td>0</td>\n",
       "      <td>0.000000</td>\n",
       "    </tr>\n",
       "    <tr>\n",
       "      <th>(117647.059, 129411.765]</th>\n",
       "      <td>1</td>\n",
       "      <td>0.000013</td>\n",
       "    </tr>\n",
       "    <tr>\n",
       "      <th>(129411.765, 141176.471]</th>\n",
       "      <td>0</td>\n",
       "      <td>0.000000</td>\n",
       "    </tr>\n",
       "    <tr>\n",
       "      <th>(141176.471, 152941.176]</th>\n",
       "      <td>0</td>\n",
       "      <td>0.000000</td>\n",
       "    </tr>\n",
       "    <tr>\n",
       "      <th>(152941.176, 164705.882]</th>\n",
       "      <td>0</td>\n",
       "      <td>0.000000</td>\n",
       "    </tr>\n",
       "    <tr>\n",
       "      <th>(164705.882, 176470.588]</th>\n",
       "      <td>0</td>\n",
       "      <td>0.000000</td>\n",
       "    </tr>\n",
       "    <tr>\n",
       "      <th>(176470.588, 188235.294]</th>\n",
       "      <td>0</td>\n",
       "      <td>0.000000</td>\n",
       "    </tr>\n",
       "    <tr>\n",
       "      <th>(188235.294, 200000.0]</th>\n",
       "      <td>3</td>\n",
       "      <td>0.000039</td>\n",
       "    </tr>\n",
       "  </tbody>\n",
       "</table>\n",
       "</div>"
      ],
      "text/plain": [
       "Renda                     Frequência  Porcentagem (%)\n",
       "(-200.001, 11764.706]          75594         0.983784\n",
       "(11764.706, 23529.412]          1022         0.013300\n",
       "(23529.412, 35294.118]           169         0.002199\n",
       "(35294.118, 47058.824]            19         0.000247\n",
       "(47058.824, 58823.529]            16         0.000208\n",
       "(58823.529, 70588.235]             5         0.000065\n",
       "(70588.235, 82352.941]             4         0.000052\n",
       "(82352.941, 94117.647]             1         0.000013\n",
       "(94117.647, 105882.353]            6         0.000078\n",
       "(105882.353, 117647.059]           0         0.000000\n",
       "(117647.059, 129411.765]           1         0.000013\n",
       "(129411.765, 141176.471]           0         0.000000\n",
       "(141176.471, 152941.176]           0         0.000000\n",
       "(152941.176, 164705.882]           0         0.000000\n",
       "(164705.882, 176470.588]           0         0.000000\n",
       "(176470.588, 188235.294]           0         0.000000\n",
       "(188235.294, 200000.0]             3         0.000039"
      ]
     },
     "execution_count": 55,
     "metadata": {},
     "output_type": "execute_result"
    }
   ],
   "source": [
    "dist_freque_quantitativas_amplitude_fixa.rename_axis('Renda', axis= 1)"
   ]
  },
  {
   "cell_type": "markdown",
   "metadata": {
    "colab_type": "text",
    "id": "Js9iLwNkjQME"
   },
   "source": [
    "## <font color=green>2.4 Histograma</font>\n",
    "***\n",
    "\n",
    "O <b>HISTOGRAMA</b> é a representação gráfica de uma distribuição de frequências. É uma gráfico formado por um conjunto de retângulos colocados lado a lado, onde a área de cada retângulo é proporcional à frequência da classe que ele representa."
   ]
  },
  {
   "cell_type": "markdown",
   "metadata": {
    "colab_type": "text",
    "id": "VzZEXDKX3PUH"
   },
   "source": [
    "### Importando a biblioteca\n",
    "\n",
    "https://seaborn.pydata.org/"
   ]
  },
  {
   "cell_type": "code",
   "execution_count": 92,
   "metadata": {
    "colab": {},
    "colab_type": "code",
    "id": "PYRaBCnxjQME"
   },
   "outputs": [],
   "source": [
    "import seaborn as sns"
   ]
  },
  {
   "cell_type": "code",
   "execution_count": 57,
   "metadata": {
    "colab": {
     "base_uri": "https://localhost:8080/",
     "height": 429
    },
    "colab_type": "code",
    "id": "GAX3aCa6jQMG",
    "outputId": "e9da92bc-7d3e-4c46-e4e1-eeed3d853fef"
   },
   "outputs": [
    {
     "name": "stderr",
     "output_type": "stream",
     "text": [
      "c:\\Users\\marcu\\anaconda3\\lib\\site-packages\\seaborn\\distributions.py:2619: FutureWarning: `distplot` is a deprecated function and will be removed in a future version. Please adapt your code to use either `displot` (a figure-level function with similar flexibility) or `histplot` (an axes-level function for histograms).\n",
      "  warnings.warn(msg, FutureWarning)\n"
     ]
    },
    {
     "data": {
      "image/png": "[encoded data removed]",
      "text/plain": [
       "<Figure size 432x288 with 1 Axes>"
      ]
     },
     "metadata": {
      "needs_background": "light"
     },
     "output_type": "display_data"
    }
   ],
   "source": [
    "ax = sns.distplot(dados.Altura)"
   ]
  },
  {
   "cell_type": "code",
   "execution_count": 58,
   "metadata": {
    "colab": {
     "base_uri": "https://localhost:8080/",
     "height": 429
    },
    "colab_type": "code",
    "id": "wiQPnuMojQMJ",
    "outputId": "5deacde5-bca6-49cd-d054-02e250708859"
   },
   "outputs": [
    {
     "name": "stderr",
     "output_type": "stream",
     "text": [
      "c:\\Users\\marcu\\anaconda3\\lib\\site-packages\\seaborn\\distributions.py:2619: FutureWarning: `distplot` is a deprecated function and will be removed in a future version. Please adapt your code to use either `displot` (a figure-level function with similar flexibility) or `histplot` (an axes-level function for histograms).\n",
      "  warnings.warn(msg, FutureWarning)\n"
     ]
    },
    {
     "data": {
      "text/plain": [
       "<AxesSubplot:title={'center':'Distribuição de frequências - Altura'}, xlabel='Metros', ylabel='Density'>"
      ]
     },
     "execution_count": 58,
     "metadata": {},
     "output_type": "execute_result"
    },
    {
     "data": {
      "image/png": "[encoded data removed]",
      "text/plain": [
       "<Figure size 864x432 with 1 Axes>"
      ]
     },
     "metadata": {
      "needs_background": "light"
     },
     "output_type": "display_data"
    }
   ],
   "source": [
    "ax = sns.distplot(dados.Altura)\n",
    "ax.figure.set_size_inches(12, 6)\n",
    "ax.set_title('Distribuição de frequências - Altura', fontsize = 18)\n",
    "ax.set_xlabel('Metros', fontsize = 14)\n",
    "ax"
   ]
  },
  {
   "cell_type": "markdown",
   "metadata": {
    "colab": {
     "base_uri": "https://localhost:8080/",
     "height": 392
    },
    "colab_type": "code",
    "id": "3fySBW7qjQMK",
    "outputId": "43604d3b-3b8a-42e9-eb74-5dd1eab2a00b"
   },
   "source": [
    "#### Usando pandas"
   ]
  },
  {
   "cell_type": "code",
   "execution_count": 59,
   "metadata": {
    "colab": {
     "base_uri": "https://localhost:8080/",
     "height": 204
    },
    "colab_type": "code",
    "id": "0HcLhLYtjQMM",
    "outputId": "45a291b3-4b7a-4ea8-c135-a873ad231c02"
   },
   "outputs": [
    {
     "data": {
      "text/plain": [
       "<AxesSubplot:>"
      ]
     },
     "execution_count": 59,
     "metadata": {},
     "output_type": "execute_result"
    },
    {
     "data": {
      "image/png": "[encoded data removed]",
      "text/plain": [
       "<Figure size 432x288 with 1 Axes>"
      ]
     },
     "metadata": {
      "needs_background": "light"
     },
     "output_type": "display_data"
    }
   ],
   "source": [
    "dados.Altura.hist()"
   ]
  },
  {
   "cell_type": "code",
   "execution_count": 60,
   "metadata": {
    "colab": {
     "base_uri": "https://localhost:8080/",
     "height": 389
    },
    "colab_type": "code",
    "id": "IQYnbxoS-kjQ",
    "outputId": "fddf3891-eea9-4097-ae5a-5fb60e28b159"
   },
   "outputs": [
    {
     "data": {
      "text/plain": [
       "<AxesSubplot:>"
      ]
     },
     "execution_count": 60,
     "metadata": {},
     "output_type": "execute_result"
    },
    {
     "data": {
      "image/png": "[encoded data removed]",
      "text/plain": [
       "<Figure size 864x432 with 1 Axes>"
      ]
     },
     "metadata": {
      "needs_background": "light"
     },
     "output_type": "display_data"
    }
   ],
   "source": [
    "dados.Altura.hist(bins = 50, figsize= (12,6) )"
   ]
  },
  {
   "cell_type": "code",
   "execution_count": 61,
   "metadata": {},
   "outputs": [
    {
     "data": {
      "text/html": [
       "<div>\n",
       "<style scoped>\n",
       "    .dataframe tbody tr th:only-of-type {\n",
       "        vertical-align: middle;\n",
       "    }\n",
       "\n",
       "    .dataframe tbody tr th {\n",
       "        vertical-align: top;\n",
       "    }\n",
       "\n",
       "    .dataframe thead th {\n",
       "        text-align: right;\n",
       "    }\n",
       "</style>\n",
       "<table border=\"1\" class=\"dataframe\">\n",
       "  <thead>\n",
       "    <tr style=\"text-align: right;\">\n",
       "      <th>Classes</th>\n",
       "      <th>Frequência</th>\n",
       "      <th>Porcentagem (%)</th>\n",
       "    </tr>\n",
       "  </thead>\n",
       "  <tbody>\n",
       "    <tr>\n",
       "      <th>A</th>\n",
       "      <td>608</td>\n",
       "      <td>0.791255</td>\n",
       "    </tr>\n",
       "    <tr>\n",
       "      <th>B</th>\n",
       "      <td>2178</td>\n",
       "      <td>2.834461</td>\n",
       "    </tr>\n",
       "    <tr>\n",
       "      <th>C</th>\n",
       "      <td>7599</td>\n",
       "      <td>9.889381</td>\n",
       "    </tr>\n",
       "    <tr>\n",
       "      <th>D</th>\n",
       "      <td>16700</td>\n",
       "      <td>21.733472</td>\n",
       "    </tr>\n",
       "    <tr>\n",
       "      <th>E</th>\n",
       "      <td>49755</td>\n",
       "      <td>64.751432</td>\n",
       "    </tr>\n",
       "  </tbody>\n",
       "</table>\n",
       "</div>"
      ],
      "text/plain": [
       "Classes  Frequência  Porcentagem (%)\n",
       "A               608         0.791255\n",
       "B              2178         2.834461\n",
       "C              7599         9.889381\n",
       "D             16700        21.733472\n",
       "E             49755        64.751432"
      ]
     },
     "execution_count": 61,
     "metadata": {},
     "output_type": "execute_result"
    }
   ],
   "source": [
    "dist_freque_quantitativas"
   ]
  },
  {
   "cell_type": "code",
   "execution_count": 62,
   "metadata": {},
   "outputs": [
    {
     "data": {
      "text/plain": [
       "<AxesSubplot:>"
      ]
     },
     "execution_count": 62,
     "metadata": {},
     "output_type": "execute_result"
    },
    {
     "data": {
      "image/png": "[encoded data removed]",
      "text/plain": [
       "<Figure size 864x432 with 1 Axes>"
      ]
     },
     "metadata": {
      "needs_background": "light"
     },
     "output_type": "display_data"
    }
   ],
   "source": [
    "dist_freque_quantitativas['Frequência'].plot.bar(width = 0.8, \n",
    "                                                color = 'blue', \n",
    "                                                figsize = (12, 6),\n",
    "                                                rot = 0)\n",
    "                                                "
   ]
  },
  {
   "cell_type": "code",
   "execution_count": null,
   "metadata": {},
   "outputs": [],
   "source": []
  },
  {
   "cell_type": "markdown",
   "metadata": {
    "colab_type": "text",
    "id": "uIb17Es3jQMP"
   },
   "source": [
    "# <font color=green>3 MEDIDAS DE TENDÊNCIA CENTRAL</font>\n",
    "***"
   ]
  },
  {
   "cell_type": "markdown",
   "metadata": {
    "colab_type": "text",
    "id": "Wrya4suEX7H-"
   },
   "source": [
    "## DataFrame de exemplo"
   ]
  },
  {
   "cell_type": "code",
   "execution_count": 63,
   "metadata": {
    "colab": {
     "base_uri": "https://localhost:8080/",
     "height": 266
    },
    "colab_type": "code",
    "id": "jj7a21flX7H_",
    "outputId": "772a6f47-ed2a-4d49-9db0-bd0944270891"
   },
   "outputs": [
    {
     "data": {
      "text/html": [
       "<div>\n",
       "<style scoped>\n",
       "    .dataframe tbody tr th:only-of-type {\n",
       "        vertical-align: middle;\n",
       "    }\n",
       "\n",
       "    .dataframe tbody tr th {\n",
       "        vertical-align: top;\n",
       "    }\n",
       "\n",
       "    .dataframe thead th {\n",
       "        text-align: right;\n",
       "    }\n",
       "</style>\n",
       "<table border=\"1\" class=\"dataframe\">\n",
       "  <thead>\n",
       "    <tr style=\"text-align: right;\">\n",
       "      <th>Matérias</th>\n",
       "      <th>Fulano</th>\n",
       "      <th>Beltrano</th>\n",
       "      <th>Sicrano</th>\n",
       "    </tr>\n",
       "  </thead>\n",
       "  <tbody>\n",
       "    <tr>\n",
       "      <th>Matemática</th>\n",
       "      <td>8</td>\n",
       "      <td>10.0</td>\n",
       "      <td>7.5</td>\n",
       "    </tr>\n",
       "    <tr>\n",
       "      <th>Português</th>\n",
       "      <td>10</td>\n",
       "      <td>2.0</td>\n",
       "      <td>8.0</td>\n",
       "    </tr>\n",
       "    <tr>\n",
       "      <th>Inglês</th>\n",
       "      <td>4</td>\n",
       "      <td>0.5</td>\n",
       "      <td>7.0</td>\n",
       "    </tr>\n",
       "    <tr>\n",
       "      <th>Geografia</th>\n",
       "      <td>8</td>\n",
       "      <td>1.0</td>\n",
       "      <td>8.0</td>\n",
       "    </tr>\n",
       "    <tr>\n",
       "      <th>História</th>\n",
       "      <td>6</td>\n",
       "      <td>3.0</td>\n",
       "      <td>8.0</td>\n",
       "    </tr>\n",
       "    <tr>\n",
       "      <th>Física</th>\n",
       "      <td>10</td>\n",
       "      <td>9.5</td>\n",
       "      <td>8.5</td>\n",
       "    </tr>\n",
       "    <tr>\n",
       "      <th>Química</th>\n",
       "      <td>8</td>\n",
       "      <td>10.0</td>\n",
       "      <td>7.0</td>\n",
       "    </tr>\n",
       "  </tbody>\n",
       "</table>\n",
       "</div>"
      ],
      "text/plain": [
       "Matérias    Fulano  Beltrano  Sicrano\n",
       "Matemática       8      10.0      7.5\n",
       "Português       10       2.0      8.0\n",
       "Inglês           4       0.5      7.0\n",
       "Geografia        8       1.0      8.0\n",
       "História         6       3.0      8.0\n",
       "Física          10       9.5      8.5\n",
       "Química          8      10.0      7.0"
      ]
     },
     "execution_count": 63,
     "metadata": {},
     "output_type": "execute_result"
    }
   ],
   "source": [
    "df = pd.DataFrame(data = {'Fulano': [8, 10, 4, 8, 6, 10, 8],\n",
    "                          'Beltrano': [10, 2, 0.5, 1, 3, 9.5, 10],\n",
    "                          'Sicrano': [7.5, 8, 7, 8, 8, 8.5, 7]},\n",
    "                 index = ['Matemática',\n",
    "                          'Português',\n",
    "                          'Inglês',\n",
    "                          'Geografia',\n",
    "                          'História',\n",
    "                          'Física',\n",
    "                          'Química'])\n",
    "df.rename_axis('Matérias', axis = 'columns', inplace = True)\n",
    "df"
   ]
  },
  {
   "cell_type": "markdown",
   "metadata": {
    "colab_type": "text",
    "id": "kcHJFW-YjQMP"
   },
   "source": [
    "## <font color=green>3.1 Média aritmética</font>\n",
    "***\n",
    "\n",
    "É representada por $\\mu$ quando se refere à população e por $\\bar{X}$ quando se refere à amostra\n",
    "\n",
    "# $$\\mu = \\frac 1n\\sum_{i=1}^{n}X_i$$\n",
    "\n",
    "onde \n",
    "\n",
    "$n$ = número de observações (registros)\n",
    "\n",
    "$X_i$ = valor da i-ésima observação (registro)"
   ]
  },
  {
   "cell_type": "code",
   "execution_count": 64,
   "metadata": {
    "colab": {
     "base_uri": "https://localhost:8080/",
     "height": 35
    },
    "colab_type": "code",
    "id": "QW4JPcBmX7IA",
    "outputId": "45810cfa-fba2-4bf3-b571-eddd9d8ebd09"
   },
   "outputs": [
    {
     "data": {
      "text/plain": [
       "7.714285714285714"
      ]
     },
     "execution_count": 64,
     "metadata": {},
     "output_type": "execute_result"
    }
   ],
   "source": [
    "(8+ 10 + 4 + 8 + 6 + 10 + 8)/7"
   ]
  },
  {
   "cell_type": "code",
   "execution_count": 65,
   "metadata": {
    "colab": {
     "base_uri": "https://localhost:8080/",
     "height": 35
    },
    "colab_type": "code",
    "id": "LuT8WNy5X7IB",
    "outputId": "1fde4b44-b250-41d9-ff02-70c9a0e05aca"
   },
   "outputs": [
    {
     "data": {
      "text/plain": [
       "7.714285714285714"
      ]
     },
     "execution_count": 65,
     "metadata": {},
     "output_type": "execute_result"
    }
   ],
   "source": [
    "df['Fulano'].mean()"
   ]
  },
  {
   "cell_type": "code",
   "execution_count": 66,
   "metadata": {
    "colab": {
     "base_uri": "https://localhost:8080/",
     "height": 35
    },
    "colab_type": "code",
    "id": "BRMZcmMEjQMQ",
    "outputId": "5f3334d9-0f5f-40e2-e2b7-191e0bc3a5d6"
   },
   "outputs": [
    {
     "data": {
      "text/plain": [
       "2000.3831988547631"
      ]
     },
     "execution_count": 66,
     "metadata": {},
     "output_type": "execute_result"
    }
   ],
   "source": [
    "dados.Renda.mean()"
   ]
  },
  {
   "cell_type": "code",
   "execution_count": 67,
   "metadata": {
    "colab": {
     "base_uri": "https://localhost:8080/",
     "height": 89
    },
    "colab_type": "code",
    "id": "CGgJbsK0HBQc",
    "outputId": "35b8a334-5f7d-4f17-ec85-2e10ec6ae5ab"
   },
   "outputs": [
    {
     "data": {
      "text/html": [
       "<div>\n",
       "<style scoped>\n",
       "    .dataframe tbody tr th:only-of-type {\n",
       "        vertical-align: middle;\n",
       "    }\n",
       "\n",
       "    .dataframe tbody tr th {\n",
       "        vertical-align: top;\n",
       "    }\n",
       "\n",
       "    .dataframe thead th {\n",
       "        text-align: right;\n",
       "    }\n",
       "</style>\n",
       "<table border=\"1\" class=\"dataframe\">\n",
       "  <thead>\n",
       "    <tr style=\"text-align: right;\">\n",
       "      <th></th>\n",
       "      <th>UF</th>\n",
       "      <th>Sexo</th>\n",
       "      <th>Idade</th>\n",
       "      <th>Cor</th>\n",
       "      <th>Anos de Estudo</th>\n",
       "      <th>Renda</th>\n",
       "      <th>Altura</th>\n",
       "    </tr>\n",
       "  </thead>\n",
       "  <tbody>\n",
       "    <tr>\n",
       "      <th>0</th>\n",
       "      <td>11</td>\n",
       "      <td>0</td>\n",
       "      <td>23</td>\n",
       "      <td>8</td>\n",
       "      <td>12</td>\n",
       "      <td>800</td>\n",
       "      <td>1.603808</td>\n",
       "    </tr>\n",
       "    <tr>\n",
       "      <th>1</th>\n",
       "      <td>11</td>\n",
       "      <td>1</td>\n",
       "      <td>23</td>\n",
       "      <td>2</td>\n",
       "      <td>12</td>\n",
       "      <td>1150</td>\n",
       "      <td>1.739790</td>\n",
       "    </tr>\n",
       "    <tr>\n",
       "      <th>2</th>\n",
       "      <td>11</td>\n",
       "      <td>1</td>\n",
       "      <td>35</td>\n",
       "      <td>8</td>\n",
       "      <td>15</td>\n",
       "      <td>880</td>\n",
       "      <td>1.760444</td>\n",
       "    </tr>\n",
       "    <tr>\n",
       "      <th>3</th>\n",
       "      <td>11</td>\n",
       "      <td>0</td>\n",
       "      <td>46</td>\n",
       "      <td>2</td>\n",
       "      <td>6</td>\n",
       "      <td>3500</td>\n",
       "      <td>1.783158</td>\n",
       "    </tr>\n",
       "    <tr>\n",
       "      <th>4</th>\n",
       "      <td>11</td>\n",
       "      <td>1</td>\n",
       "      <td>47</td>\n",
       "      <td>8</td>\n",
       "      <td>9</td>\n",
       "      <td>150</td>\n",
       "      <td>1.690631</td>\n",
       "    </tr>\n",
       "  </tbody>\n",
       "</table>\n",
       "</div>"
      ],
      "text/plain": [
       "   UF  Sexo  Idade  Cor  Anos de Estudo  Renda    Altura\n",
       "0  11     0     23    8              12    800  1.603808\n",
       "1  11     1     23    2              12   1150  1.739790\n",
       "2  11     1     35    8              15    880  1.760444\n",
       "3  11     0     46    2               6   3500  1.783158\n",
       "4  11     1     47    8               9    150  1.690631"
      ]
     },
     "execution_count": 67,
     "metadata": {},
     "output_type": "execute_result"
    }
   ],
   "source": [
    "dados.head()"
   ]
  },
  {
   "cell_type": "markdown",
   "metadata": {},
   "source": [
    "#### Calculando a média de acordo com o sexo"
   ]
  },
  {
   "cell_type": "code",
   "execution_count": 68,
   "metadata": {},
   "outputs": [
    {
     "data": {
      "text/html": [
       "<div>\n",
       "<style scoped>\n",
       "    .dataframe tbody tr th:only-of-type {\n",
       "        vertical-align: middle;\n",
       "    }\n",
       "\n",
       "    .dataframe tbody tr th {\n",
       "        vertical-align: top;\n",
       "    }\n",
       "\n",
       "    .dataframe thead th {\n",
       "        text-align: right;\n",
       "    }\n",
       "</style>\n",
       "<table border=\"1\" class=\"dataframe\">\n",
       "  <thead>\n",
       "    <tr style=\"text-align: right;\">\n",
       "      <th></th>\n",
       "      <th>UF</th>\n",
       "      <th>Idade</th>\n",
       "      <th>Cor</th>\n",
       "      <th>Anos de Estudo</th>\n",
       "      <th>Renda</th>\n",
       "      <th>Altura</th>\n",
       "    </tr>\n",
       "    <tr>\n",
       "      <th>Sexo</th>\n",
       "      <th></th>\n",
       "      <th></th>\n",
       "      <th></th>\n",
       "      <th></th>\n",
       "      <th></th>\n",
       "      <th></th>\n",
       "    </tr>\n",
       "  </thead>\n",
       "  <tbody>\n",
       "    <tr>\n",
       "      <th>0</th>\n",
       "      <td>31.901991</td>\n",
       "      <td>44.046554</td>\n",
       "      <td>5.038685</td>\n",
       "      <td>9.120169</td>\n",
       "      <td>2192.441596</td>\n",
       "      <td>1.699443</td>\n",
       "    </tr>\n",
       "    <tr>\n",
       "      <th>1</th>\n",
       "      <td>31.937728</td>\n",
       "      <td>44.127554</td>\n",
       "      <td>5.018906</td>\n",
       "      <td>10.258584</td>\n",
       "      <td>1566.847393</td>\n",
       "      <td>1.699670</td>\n",
       "    </tr>\n",
       "  </tbody>\n",
       "</table>\n",
       "</div>"
      ],
      "text/plain": [
       "             UF      Idade       Cor  Anos de Estudo        Renda    Altura\n",
       "Sexo                                                                       \n",
       "0     31.901991  44.046554  5.038685        9.120169  2192.441596  1.699443\n",
       "1     31.937728  44.127554  5.018906       10.258584  1566.847393  1.699670"
      ]
     },
     "execution_count": 68,
     "metadata": {},
     "output_type": "execute_result"
    }
   ],
   "source": [
    "dados.groupby(['Sexo']).mean()"
   ]
  },
  {
   "cell_type": "code",
   "execution_count": 69,
   "metadata": {},
   "outputs": [
    {
     "data": {
      "text/plain": [
       "Sexo\n",
       "0    2192.441596\n",
       "1    1566.847393\n",
       "Name: Renda, dtype: float64"
      ]
     },
     "execution_count": 69,
     "metadata": {},
     "output_type": "execute_result"
    }
   ],
   "source": [
    "media = dados.groupby(['Sexo'])['Renda'].mean()\n",
    "media"
   ]
  },
  {
   "cell_type": "code",
   "execution_count": 70,
   "metadata": {},
   "outputs": [],
   "source": [
    "media = pd.DataFrame(media)"
   ]
  },
  {
   "cell_type": "code",
   "execution_count": 71,
   "metadata": {},
   "outputs": [
    {
     "data": {
      "text/html": [
       "<div>\n",
       "<style scoped>\n",
       "    .dataframe tbody tr th:only-of-type {\n",
       "        vertical-align: middle;\n",
       "    }\n",
       "\n",
       "    .dataframe tbody tr th {\n",
       "        vertical-align: top;\n",
       "    }\n",
       "\n",
       "    .dataframe thead th {\n",
       "        text-align: right;\n",
       "    }\n",
       "</style>\n",
       "<table border=\"1\" class=\"dataframe\">\n",
       "  <thead>\n",
       "    <tr style=\"text-align: right;\">\n",
       "      <th></th>\n",
       "      <th>Renda</th>\n",
       "    </tr>\n",
       "    <tr>\n",
       "      <th>Sexo</th>\n",
       "      <th></th>\n",
       "    </tr>\n",
       "  </thead>\n",
       "  <tbody>\n",
       "    <tr>\n",
       "      <th>Masculino</th>\n",
       "      <td>2192.441596</td>\n",
       "    </tr>\n",
       "    <tr>\n",
       "      <th>Feminino</th>\n",
       "      <td>1566.847393</td>\n",
       "    </tr>\n",
       "  </tbody>\n",
       "</table>\n",
       "</div>"
      ],
      "text/plain": [
       "                 Renda\n",
       "Sexo                  \n",
       "Masculino  2192.441596\n",
       "Feminino   1566.847393"
      ]
     },
     "execution_count": 71,
     "metadata": {},
     "output_type": "execute_result"
    }
   ],
   "source": [
    "media.rename(index = sexo, inplace= True)\n",
    "media"
   ]
  },
  {
   "cell_type": "markdown",
   "metadata": {
    "colab_type": "text",
    "id": "9geu3UcKjQMS"
   },
   "source": [
    "## <font color=green>3.2 Mediana</font>\n",
    "***\n",
    "\n",
    "Para obtermos a mediana de uma conjunto de dados devemos proceder da seguinte maneira:\n",
    "1. Ordenar o conjunto de dados;\n",
    "2. Identificar o número de observações (registros) do conjunto de dados ($n$);\n",
    "3. Identicar o elemento mediano:\n",
    "\n",
    "> Quando $n$ for ímpar, a posição do elemento mediano será obtida da seguinte forma:\n",
    "\n",
    "\n",
    "# $$Elemento_{Md} = \\frac{n+1}2$$\n",
    "\n",
    "> Quando $n$ for par, a posição do elemento mediano será obtida da seguinte forma:\n",
    "\n",
    "\n",
    "# $$Elemento_{Md} = \\frac{n}2$$\n",
    "\n",
    "4. Obter a mediana:\n",
    "\n",
    "> Quando $n$ for ímpar:\n",
    "\n",
    "\n",
    "# $$Md = X_{Elemento_{Md}}$$\n",
    "\n",
    "> Quando $n$ for par:\n",
    "\n",
    "\n",
    "# $$Md = \\frac{X_{Elemento_{Md}} + X_{Elemento_{Md}+1}}2$$\n",
    "***"
   ]
  },
  {
   "cell_type": "markdown",
   "metadata": {
    "colab_type": "text",
    "id": "e0IuYdJFjQMT"
   },
   "source": [
    "### Exemplo 1 - n ímpar\n",
    "\n",
    "<img src='https://caelum-online-public.s3.amazonaws.com/1177-estatistica-parte1/01/img002.png' width='40%' style=\"float:left\">"
   ]
  },
  {
   "cell_type": "code",
   "execution_count": 72,
   "metadata": {
    "colab": {
     "base_uri": "https://localhost:8080/",
     "height": 161
    },
    "colab_type": "code",
    "id": "3dXjdRFlX7IH",
    "outputId": "d032eb05-bd06-4c1f-817d-f19abedb42bc"
   },
   "outputs": [
    {
     "data": {
      "text/plain": [
       "Matemática     8\n",
       "Português     10\n",
       "Inglês         4\n",
       "Geografia      8\n",
       "História       6\n",
       "Física        10\n",
       "Química        8\n",
       "Name: Fulano, dtype: int64"
      ]
     },
     "execution_count": 72,
     "metadata": {},
     "output_type": "execute_result"
    }
   ],
   "source": [
    "notas_fulano = df.Fulano\n",
    "notas_fulano"
   ]
  },
  {
   "cell_type": "code",
   "execution_count": 73,
   "metadata": {
    "colab": {
     "base_uri": "https://localhost:8080/",
     "height": 161
    },
    "colab_type": "code",
    "id": "cU91DJ-yjQMV",
    "outputId": "928ea4b6-51e4-433e-9140-412596b3b42a"
   },
   "outputs": [
    {
     "data": {
      "text/plain": [
       "Inglês         4\n",
       "História       6\n",
       "Matemática     8\n",
       "Geografia      8\n",
       "Química        8\n",
       "Português     10\n",
       "Física        10\n",
       "Name: Fulano, dtype: int64"
      ]
     },
     "execution_count": 73,
     "metadata": {},
     "output_type": "execute_result"
    }
   ],
   "source": [
    "notas_fulano.sort_values()"
   ]
  },
  {
   "cell_type": "code",
   "execution_count": 74,
   "metadata": {
    "colab": {
     "base_uri": "https://localhost:8080/",
     "height": 266
    },
    "colab_type": "code",
    "id": "z9bOnYKf1NOd",
    "outputId": "a1d69cc0-145e-4ec9-9504-32b220cf4e5c"
   },
   "outputs": [
    {
     "data": {
      "text/html": [
       "<div>\n",
       "<style scoped>\n",
       "    .dataframe tbody tr th:only-of-type {\n",
       "        vertical-align: middle;\n",
       "    }\n",
       "\n",
       "    .dataframe tbody tr th {\n",
       "        vertical-align: top;\n",
       "    }\n",
       "\n",
       "    .dataframe thead th {\n",
       "        text-align: right;\n",
       "    }\n",
       "</style>\n",
       "<table border=\"1\" class=\"dataframe\">\n",
       "  <thead>\n",
       "    <tr style=\"text-align: right;\">\n",
       "      <th></th>\n",
       "      <th>index</th>\n",
       "      <th>Fulano</th>\n",
       "    </tr>\n",
       "  </thead>\n",
       "  <tbody>\n",
       "    <tr>\n",
       "      <th>0</th>\n",
       "      <td>Matemática</td>\n",
       "      <td>8</td>\n",
       "    </tr>\n",
       "    <tr>\n",
       "      <th>1</th>\n",
       "      <td>Português</td>\n",
       "      <td>10</td>\n",
       "    </tr>\n",
       "    <tr>\n",
       "      <th>2</th>\n",
       "      <td>Inglês</td>\n",
       "      <td>4</td>\n",
       "    </tr>\n",
       "    <tr>\n",
       "      <th>3</th>\n",
       "      <td>Geografia</td>\n",
       "      <td>8</td>\n",
       "    </tr>\n",
       "    <tr>\n",
       "      <th>4</th>\n",
       "      <td>História</td>\n",
       "      <td>6</td>\n",
       "    </tr>\n",
       "    <tr>\n",
       "      <th>5</th>\n",
       "      <td>Física</td>\n",
       "      <td>10</td>\n",
       "    </tr>\n",
       "    <tr>\n",
       "      <th>6</th>\n",
       "      <td>Química</td>\n",
       "      <td>8</td>\n",
       "    </tr>\n",
       "  </tbody>\n",
       "</table>\n",
       "</div>"
      ],
      "text/plain": [
       "        index  Fulano\n",
       "0  Matemática       8\n",
       "1   Português      10\n",
       "2      Inglês       4\n",
       "3   Geografia       8\n",
       "4    História       6\n",
       "5      Física      10\n",
       "6     Química       8"
      ]
     },
     "execution_count": 74,
     "metadata": {},
     "output_type": "execute_result"
    }
   ],
   "source": [
    "notas_fulano.reset_index()"
   ]
  },
  {
   "cell_type": "code",
   "execution_count": 75,
   "metadata": {
    "colab": {
     "base_uri": "https://localhost:8080/",
     "height": 35
    },
    "colab_type": "code",
    "id": "trC12MHxjQMY",
    "outputId": "917c6720-daa2-45be-a72d-3e0d63c67fd0"
   },
   "outputs": [],
   "source": [
    "n = notas_fulano.shape[0]"
   ]
  },
  {
   "cell_type": "code",
   "execution_count": 76,
   "metadata": {
    "colab": {
     "base_uri": "https://localhost:8080/",
     "height": 71
    },
    "colab_type": "code",
    "id": "NKccffcLjQMZ",
    "outputId": "46c1c33a-100b-4aca-e876-f3589b699b48"
   },
   "outputs": [
    {
     "data": {
      "text/plain": [
       "4.0"
      ]
     },
     "execution_count": 76,
     "metadata": {},
     "output_type": "execute_result"
    }
   ],
   "source": [
    "# Resultado é a posição do elemento, que no caso é a quarta (4)\n",
    "elemento_md = (n+1)/2\n",
    "elemento_md\n"
   ]
  },
  {
   "cell_type": "code",
   "execution_count": 77,
   "metadata": {},
   "outputs": [
    {
     "data": {
      "text/plain": [
       "8.0"
      ]
     },
     "execution_count": 77,
     "metadata": {},
     "output_type": "execute_result"
    }
   ],
   "source": [
    "notas_fulano.median()"
   ]
  },
  {
   "cell_type": "markdown",
   "metadata": {
    "colab_type": "text",
    "id": "hQHyjfLkjQMe"
   },
   "source": [
    "### Exemplo 2 - n par\n",
    "\n",
    "<img src='https://caelum-online-public.s3.amazonaws.com/1177-estatistica-parte1/01/img003.png' width='50%' style=\"float:left\">"
   ]
  },
  {
   "cell_type": "code",
   "execution_count": 78,
   "metadata": {
    "colab": {
     "base_uri": "https://localhost:8080/",
     "height": 143
    },
    "colab_type": "code",
    "id": "Jkx1WZenjQMe",
    "outputId": "2482f6a4-b2c1-4751-865c-827ac57bba01"
   },
   "outputs": [
    {
     "data": {
      "text/plain": [
       "Matemática    10.0\n",
       "Inglês         0.5\n",
       "Física         9.5\n",
       "História       3.0\n",
       "Química       10.0\n",
       "Português      2.0\n",
       "Name: Beltrano, dtype: float64"
      ]
     },
     "execution_count": 78,
     "metadata": {},
     "output_type": "execute_result"
    }
   ],
   "source": [
    "notas_beltrano = df.Beltrano.sample(6, random_state= 101)\n",
    "notas_beltrano"
   ]
  },
  {
   "cell_type": "code",
   "execution_count": 79,
   "metadata": {
    "colab": {
     "base_uri": "https://localhost:8080/",
     "height": 143
    },
    "colab_type": "code",
    "id": "D1LUpvZkYsHq",
    "outputId": "d23d2d1c-bf17-4273-c441-092e04ec1ea8"
   },
   "outputs": [],
   "source": [
    "n = notas_beltrano.shape[0]"
   ]
  },
  {
   "cell_type": "code",
   "execution_count": 80,
   "metadata": {
    "colab": {
     "base_uri": "https://localhost:8080/",
     "height": 235
    },
    "colab_type": "code",
    "id": "PuiScCf0-vh9",
    "outputId": "569288f3-b67d-4932-91cb-8c66685163c6"
   },
   "outputs": [
    {
     "data": {
      "text/plain": [
       "3.0"
      ]
     },
     "execution_count": 80,
     "metadata": {},
     "output_type": "execute_result"
    }
   ],
   "source": [
    "beltrano_md = n/2\n",
    "beltrano_md"
   ]
  },
  {
   "cell_type": "code",
   "execution_count": 81,
   "metadata": {},
   "outputs": [
    {
     "data": {
      "text/plain": [
       "Matemática    10.0\n",
       "Português      2.0\n",
       "Inglês         0.5\n",
       "Geografia      1.0\n",
       "História       3.0\n",
       "Física         9.5\n",
       "Química       10.0\n",
       "Name: Beltrano, dtype: float64"
      ]
     },
     "execution_count": 81,
     "metadata": {},
     "output_type": "execute_result"
    }
   ],
   "source": [
    "df.Beltrano"
   ]
  },
  {
   "cell_type": "code",
   "execution_count": 82,
   "metadata": {},
   "outputs": [
    {
     "data": {
      "text/plain": [
       "3.0"
      ]
     },
     "execution_count": 82,
     "metadata": {},
     "output_type": "execute_result"
    }
   ],
   "source": [
    "df.Beltrano.median()"
   ]
  },
  {
   "cell_type": "markdown",
   "metadata": {
    "colab_type": "text",
    "id": "nK27TxrkjQMl"
   },
   "source": [
    "### Obtendo a mediana em nosso dataset"
   ]
  },
  {
   "cell_type": "code",
   "execution_count": 83,
   "metadata": {
    "colab": {
     "base_uri": "https://localhost:8080/",
     "height": 35
    },
    "colab_type": "code",
    "id": "dJznpnjUjQMl",
    "outputId": "f4728447-b763-4116-9076-9ac9c4d19d75"
   },
   "outputs": [
    {
     "data": {
      "text/plain": [
       "1200.0"
      ]
     },
     "execution_count": 83,
     "metadata": {},
     "output_type": "execute_result"
    }
   ],
   "source": [
    "dados.Renda.median()"
   ]
  },
  {
   "cell_type": "code",
   "execution_count": 84,
   "metadata": {
    "colab": {
     "base_uri": "https://localhost:8080/",
     "height": 35
    },
    "colab_type": "code",
    "id": "W4a5PVYdjQMm",
    "outputId": "3e8a9233-4eb6-4684-9f96-ce79e53ffa7a"
   },
   "outputs": [
    {
     "data": {
      "text/plain": [
       "1200.0"
      ]
     },
     "execution_count": 84,
     "metadata": {},
     "output_type": "execute_result"
    }
   ],
   "source": [
    "dados.Renda.quantile()"
   ]
  },
  {
   "cell_type": "markdown",
   "metadata": {
    "colab_type": "text",
    "id": "CmCu6BXQjQMo"
   },
   "source": [
    "## <font color=green>3.3 Moda</font>\n",
    "***\n",
    "\n",
    "Pode-se definir a moda como sendo o valor mais frequente de um conjunto de dados. A moda é bastante utilizada para dados qualitativos."
   ]
  },
  {
   "cell_type": "code",
   "execution_count": 85,
   "metadata": {
    "colab": {
     "base_uri": "https://localhost:8080/",
     "height": 266
    },
    "colab_type": "code",
    "id": "BHibMzw8X7Id",
    "outputId": "6b9375f3-1c22-4866-a40b-c28be3a01047"
   },
   "outputs": [
    {
     "data": {
      "text/html": [
       "<div>\n",
       "<style scoped>\n",
       "    .dataframe tbody tr th:only-of-type {\n",
       "        vertical-align: middle;\n",
       "    }\n",
       "\n",
       "    .dataframe tbody tr th {\n",
       "        vertical-align: top;\n",
       "    }\n",
       "\n",
       "    .dataframe thead th {\n",
       "        text-align: right;\n",
       "    }\n",
       "</style>\n",
       "<table border=\"1\" class=\"dataframe\">\n",
       "  <thead>\n",
       "    <tr style=\"text-align: right;\">\n",
       "      <th>Matérias</th>\n",
       "      <th>Fulano</th>\n",
       "      <th>Beltrano</th>\n",
       "      <th>Sicrano</th>\n",
       "    </tr>\n",
       "  </thead>\n",
       "  <tbody>\n",
       "    <tr>\n",
       "      <th>Matemática</th>\n",
       "      <td>8</td>\n",
       "      <td>10.0</td>\n",
       "      <td>7.5</td>\n",
       "    </tr>\n",
       "    <tr>\n",
       "      <th>Português</th>\n",
       "      <td>10</td>\n",
       "      <td>2.0</td>\n",
       "      <td>8.0</td>\n",
       "    </tr>\n",
       "    <tr>\n",
       "      <th>Inglês</th>\n",
       "      <td>4</td>\n",
       "      <td>0.5</td>\n",
       "      <td>7.0</td>\n",
       "    </tr>\n",
       "    <tr>\n",
       "      <th>Geografia</th>\n",
       "      <td>8</td>\n",
       "      <td>1.0</td>\n",
       "      <td>8.0</td>\n",
       "    </tr>\n",
       "    <tr>\n",
       "      <th>História</th>\n",
       "      <td>6</td>\n",
       "      <td>3.0</td>\n",
       "      <td>8.0</td>\n",
       "    </tr>\n",
       "  </tbody>\n",
       "</table>\n",
       "</div>"
      ],
      "text/plain": [
       "Matérias    Fulano  Beltrano  Sicrano\n",
       "Matemática       8      10.0      7.5\n",
       "Português       10       2.0      8.0\n",
       "Inglês           4       0.5      7.0\n",
       "Geografia        8       1.0      8.0\n",
       "História         6       3.0      8.0"
      ]
     },
     "execution_count": 85,
     "metadata": {},
     "output_type": "execute_result"
    }
   ],
   "source": [
    "df.head()"
   ]
  },
  {
   "cell_type": "code",
   "execution_count": 86,
   "metadata": {
    "colab": {
     "base_uri": "https://localhost:8080/",
     "height": 80
    },
    "colab_type": "code",
    "id": "xICDpQguX7Ik",
    "outputId": "7863773e-e0d3-4fa4-d565-deb63cf0e82b"
   },
   "outputs": [
    {
     "data": {
      "text/html": [
       "<div>\n",
       "<style scoped>\n",
       "    .dataframe tbody tr th:only-of-type {\n",
       "        vertical-align: middle;\n",
       "    }\n",
       "\n",
       "    .dataframe tbody tr th {\n",
       "        vertical-align: top;\n",
       "    }\n",
       "\n",
       "    .dataframe thead th {\n",
       "        text-align: right;\n",
       "    }\n",
       "</style>\n",
       "<table border=\"1\" class=\"dataframe\">\n",
       "  <thead>\n",
       "    <tr style=\"text-align: right;\">\n",
       "      <th>Matérias</th>\n",
       "      <th>Fulano</th>\n",
       "      <th>Beltrano</th>\n",
       "      <th>Sicrano</th>\n",
       "    </tr>\n",
       "  </thead>\n",
       "  <tbody>\n",
       "    <tr>\n",
       "      <th>0</th>\n",
       "      <td>8</td>\n",
       "      <td>10.0</td>\n",
       "      <td>8.0</td>\n",
       "    </tr>\n",
       "  </tbody>\n",
       "</table>\n",
       "</div>"
      ],
      "text/plain": [
       "Matérias  Fulano  Beltrano  Sicrano\n",
       "0              8      10.0      8.0"
      ]
     },
     "execution_count": 86,
     "metadata": {},
     "output_type": "execute_result"
    }
   ],
   "source": [
    "df.mode()"
   ]
  },
  {
   "cell_type": "code",
   "execution_count": null,
   "metadata": {
    "colab": {
     "base_uri": "https://localhost:8080/",
     "height": 197
    },
    "colab_type": "code",
    "id": "x9lIRFESX7Il",
    "outputId": "44945487-3723-422d-e720-57fd216be8e2"
   },
   "outputs": [],
   "source": []
  },
  {
   "cell_type": "code",
   "execution_count": null,
   "metadata": {
    "colab": {
     "base_uri": "https://localhost:8080/",
     "height": 71
    },
    "colab_type": "code",
    "id": "yUP6QFuiX7Io",
    "outputId": "4d51e179-bf46-4e35-dd06-f772e2fcab39"
   },
   "outputs": [],
   "source": []
  },
  {
   "cell_type": "markdown",
   "metadata": {
    "colab_type": "text",
    "id": "YwhBwz-JjQMr"
   },
   "source": [
    "### Obtendo a moda em nosso dataset"
   ]
  },
  {
   "cell_type": "code",
   "execution_count": 87,
   "metadata": {
    "colab": {
     "base_uri": "https://localhost:8080/",
     "height": 53
    },
    "colab_type": "code",
    "id": "mC8vvYk-jQMr",
    "outputId": "bb3e196d-2447-4596-917f-5bdf34067dd9"
   },
   "outputs": [
    {
     "data": {
      "text/plain": [
       "0    788\n",
       "Name: Renda, dtype: int64"
      ]
     },
     "execution_count": 87,
     "metadata": {},
     "output_type": "execute_result"
    }
   ],
   "source": [
    "dados.Renda.mode()"
   ]
  },
  {
   "cell_type": "code",
   "execution_count": 88,
   "metadata": {
    "colab": {
     "base_uri": "https://localhost:8080/",
     "height": 197
    },
    "colab_type": "code",
    "id": "Sdosy_vSX7Iw",
    "outputId": "949a3b5a-b978-40ab-eed0-872fb425d0f4"
   },
   "outputs": [
    {
     "data": {
      "text/plain": [
       "0    1.568128\n",
       "1    1.671225\n",
       "2    1.681659\n",
       "3    1.692977\n",
       "4    1.708163\n",
       "5    1.708370\n",
       "6    1.753842\n",
       "7    1.779073\n",
       "8    1.796462\n",
       "Name: Altura, dtype: float64"
      ]
     },
     "execution_count": 88,
     "metadata": {},
     "output_type": "execute_result"
    }
   ],
   "source": [
    "dados.Altura.mode()"
   ]
  },
  {
   "cell_type": "markdown",
   "metadata": {
    "colab_type": "text",
    "id": "_-0gjQWFjQMu"
   },
   "source": [
    "## <font color=green>3.4 Relação entre média, mediana e moda</font>\n",
    "***"
   ]
  },
  {
   "cell_type": "markdown",
   "metadata": {
    "colab_type": "text",
    "id": "0S7pa_jLjQMu"
   },
   "source": [
    "<img src='https://caelum-online-public.s3.amazonaws.com/1177-estatistica-parte1/01/img004.png' width='80%'>"
   ]
  },
  {
   "cell_type": "markdown",
   "metadata": {
    "colab_type": "text",
    "id": "b7ZchyFsjQMu"
   },
   "source": [
    "### Avaliando a variável RENDA"
   ]
  },
  {
   "cell_type": "code",
   "execution_count": 98,
   "metadata": {
    "colab": {
     "base_uri": "https://localhost:8080/",
     "height": 406
    },
    "colab_type": "code",
    "id": "d8WQQ0PdjQMv",
    "outputId": "da495910-b7ab-4d66-f187-a8d6ff6b00f0"
   },
   "outputs": [
    {
     "name": "stderr",
     "output_type": "stream",
     "text": [
      "c:\\Users\\marcu\\anaconda3\\lib\\site-packages\\seaborn\\distributions.py:2619: FutureWarning: `distplot` is a deprecated function and will be removed in a future version. Please adapt your code to use either `displot` (a figure-level function with similar flexibility) or `histplot` (an axes-level function for histograms).\n",
      "  warnings.warn(msg, FutureWarning)\n"
     ]
    },
    {
     "data": {
      "text/plain": [
       "<AxesSubplot:xlabel='Renda', ylabel='Density'>"
      ]
     },
     "execution_count": 98,
     "metadata": {},
     "output_type": "execute_result"
    },
    {
     "data": {
      "image/png": "[encoded data removed]",
      "text/plain": [
       "<Figure size 864x432 with 1 Axes>"
      ]
     },
     "metadata": {
      "needs_background": "light"
     },
     "output_type": "display_data"
    }
   ],
   "source": [
    "ax = sns.distplot(dados.query('Renda < 20000').Renda)\n",
    "ax.figure.set_size_inches(12, 6)\n",
    "ax\n"
   ]
  },
  {
   "cell_type": "code",
   "execution_count": 106,
   "metadata": {
    "colab": {
     "base_uri": "https://localhost:8080/",
     "height": 35
    },
    "colab_type": "code",
    "id": "krws6f_SjQMw",
    "outputId": "22ef1fae-c11c-468c-fa4a-f19fbf932411"
   },
   "outputs": [
    {
     "data": {
      "text/plain": [
       "0    788\n",
       "Name: Renda, dtype: int64"
      ]
     },
     "execution_count": 106,
     "metadata": {},
     "output_type": "execute_result"
    }
   ],
   "source": [
    "#Verificando estatísticas\n",
    "moda = dados.Renda.mode()\n",
    "moda"
   ]
  },
  {
   "cell_type": "code",
   "execution_count": 107,
   "metadata": {
    "colab": {
     "base_uri": "https://localhost:8080/",
     "height": 35
    },
    "colab_type": "code",
    "id": "_Y7KpB25jQMx",
    "outputId": "66d5c523-420c-47a3-a5d7-964d29545c02"
   },
   "outputs": [
    {
     "data": {
      "text/plain": [
       "2000.3831988547631"
      ]
     },
     "execution_count": 107,
     "metadata": {},
     "output_type": "execute_result"
    }
   ],
   "source": [
    "media = dados.Renda.mean()\n",
    "media"
   ]
  },
  {
   "cell_type": "code",
   "execution_count": 108,
   "metadata": {
    "colab": {
     "base_uri": "https://localhost:8080/",
     "height": 35
    },
    "colab_type": "code",
    "id": "gQ0e56VajQMy",
    "outputId": "796f4faa-7171-4322-89e9-fd62b950a463"
   },
   "outputs": [
    {
     "data": {
      "text/plain": [
       "1200.0"
      ]
     },
     "execution_count": 108,
     "metadata": {},
     "output_type": "execute_result"
    }
   ],
   "source": [
    "mediana = dados.Renda.median()\n",
    "mediana"
   ]
  },
  {
   "cell_type": "code",
   "execution_count": 114,
   "metadata": {
    "colab": {
     "base_uri": "https://localhost:8080/",
     "height": 35
    },
    "colab_type": "code",
    "id": "nX6lnCBujQM0",
    "outputId": "d4bd80b4-9eee-4ad2-f41d-29c12362580e"
   },
   "outputs": [
    {
     "data": {
      "text/plain": [
       "0    True\n",
       "Name: Renda, dtype: bool"
      ]
     },
     "execution_count": 114,
     "metadata": {},
     "output_type": "execute_result"
    }
   ],
   "source": [
    "a = moda < mediana \n",
    "a"
   ]
  },
  {
   "cell_type": "code",
   "execution_count": 115,
   "metadata": {},
   "outputs": [
    {
     "data": {
      "text/plain": [
       "0    True\n",
       "Name: Renda, dtype: bool"
      ]
     },
     "execution_count": 115,
     "metadata": {},
     "output_type": "execute_result"
    }
   ],
   "source": [
    "a < media"
   ]
  },
  {
   "cell_type": "markdown",
   "metadata": {
    "colab_type": "text",
    "id": "FnLQAxSijQM1"
   },
   "source": [
    "***"
   ]
  },
  {
   "cell_type": "markdown",
   "metadata": {
    "colab_type": "text",
    "id": "WazchssNjQM1"
   },
   "source": [
    "### Avaliando a variável ALTURA"
   ]
  },
  {
   "cell_type": "code",
   "execution_count": 118,
   "metadata": {
    "colab": {
     "base_uri": "https://localhost:8080/",
     "height": 406
    },
    "colab_type": "code",
    "id": "41uJsCk9jQM2",
    "outputId": "3f7aec0c-e6b0-4629-d235-8061ce3b25c4"
   },
   "outputs": [
    {
     "name": "stderr",
     "output_type": "stream",
     "text": [
      "c:\\Users\\marcu\\anaconda3\\lib\\site-packages\\seaborn\\distributions.py:2619: FutureWarning: `distplot` is a deprecated function and will be removed in a future version. Please adapt your code to use either `displot` (a figure-level function with similar flexibility) or `histplot` (an axes-level function for histograms).\n",
      "  warnings.warn(msg, FutureWarning)\n"
     ]
    },
    {
     "data": {
      "image/png": "[encoded data removed]",
      "text/plain": [
       "<Figure size 864x432 with 1 Axes>"
      ]
     },
     "metadata": {
      "needs_background": "light"
     },
     "output_type": "display_data"
    }
   ],
   "source": [
    "ax = sns.distplot(dados.Altura)\n",
    "ax.figure.set_size_inches(12, 6)"
   ]
  },
  {
   "cell_type": "code",
   "execution_count": 120,
   "metadata": {
    "colab": {
     "base_uri": "https://localhost:8080/",
     "height": 197
    },
    "colab_type": "code",
    "id": "EkgerGuXjQM3",
    "outputId": "2966d112-76a5-4286-923c-bb01f02c6acf"
   },
   "outputs": [
    {
     "data": {
      "text/plain": [
       "0    1.568128\n",
       "1    1.671225\n",
       "2    1.681659\n",
       "3    1.692977\n",
       "4    1.708163\n",
       "5    1.708370\n",
       "6    1.753842\n",
       "7    1.779073\n",
       "8    1.796462\n",
       "Name: Altura, dtype: float64"
      ]
     },
     "execution_count": 120,
     "metadata": {},
     "output_type": "execute_result"
    }
   ],
   "source": [
    "moda = dados.Altura.mode()\n",
    "moda"
   ]
  },
  {
   "cell_type": "code",
   "execution_count": 122,
   "metadata": {
    "colab": {
     "base_uri": "https://localhost:8080/",
     "height": 35
    },
    "colab_type": "code",
    "id": "Jj6MFUXbjQM4",
    "outputId": "ef153a71-fa7b-4165-b23c-136157955825"
   },
   "outputs": [
    {
     "data": {
      "text/plain": [
       "1.6993247325"
      ]
     },
     "execution_count": 122,
     "metadata": {},
     "output_type": "execute_result"
    }
   ],
   "source": [
    "mediana = dados.Altura.median()\n",
    "mediana"
   ]
  },
  {
   "cell_type": "code",
   "execution_count": 123,
   "metadata": {
    "colab": {
     "base_uri": "https://localhost:8080/",
     "height": 35
    },
    "colab_type": "code",
    "id": "84X-3AzvjQM5",
    "outputId": "c2b94040-6ef1-46d1-cac1-58c8f6ba0d53"
   },
   "outputs": [
    {
     "data": {
      "text/plain": [
       "1.6995124540575812"
      ]
     },
     "execution_count": 123,
     "metadata": {},
     "output_type": "execute_result"
    }
   ],
   "source": [
    "media = dados.Altura.mean()\n",
    "media"
   ]
  },
  {
   "cell_type": "markdown",
   "metadata": {
    "colab_type": "text",
    "id": "PJIMB8i8jQM6"
   },
   "source": [
    "***"
   ]
  },
  {
   "cell_type": "markdown",
   "metadata": {
    "colab_type": "text",
    "id": "eS4I2H7jjQM7"
   },
   "source": [
    "### Avaliando a variável ANOS DE ESTUDO"
   ]
  },
  {
   "cell_type": "code",
   "execution_count": 127,
   "metadata": {
    "colab": {
     "base_uri": "https://localhost:8080/",
     "height": 407
    },
    "colab_type": "code",
    "id": "NPCcjXqPjQM8",
    "outputId": "e811449e-866e-4986-a20b-8f2d44ddb437"
   },
   "outputs": [
    {
     "name": "stderr",
     "output_type": "stream",
     "text": [
      "c:\\Users\\marcu\\anaconda3\\lib\\site-packages\\seaborn\\distributions.py:2619: FutureWarning: `distplot` is a deprecated function and will be removed in a future version. Please adapt your code to use either `displot` (a figure-level function with similar flexibility) or `histplot` (an axes-level function for histograms).\n",
      "  warnings.warn(msg, FutureWarning)\n"
     ]
    },
    {
     "data": {
      "text/plain": [
       "<AxesSubplot:xlabel='Anos de Estudo', ylabel='Density'>"
      ]
     },
     "execution_count": 127,
     "metadata": {},
     "output_type": "execute_result"
    },
    {
     "data": {
      "image/png": "[encoded data removed]",
      "text/plain": [
       "<Figure size 864x432 with 1 Axes>"
      ]
     },
     "metadata": {
      "needs_background": "light"
     },
     "output_type": "display_data"
    }
   ],
   "source": [
    "ax = sns.distplot(dados['Anos de Estudo'], bins = 17)\n",
    "ax.figure.set_size_inches(12, 6)\n",
    "ax"
   ]
  },
  {
   "cell_type": "code",
   "execution_count": 130,
   "metadata": {
    "colab": {
     "base_uri": "https://localhost:8080/",
     "height": 35
    },
    "colab_type": "code",
    "id": "PjfvPYUajQM9",
    "outputId": "477cf5fc-d11a-4e6f-dc45-dade49eff315"
   },
   "outputs": [
    {
     "data": {
      "text/plain": [
       "0    12\n",
       "Name: Anos de Estudo, dtype: int64"
      ]
     },
     "execution_count": 130,
     "metadata": {},
     "output_type": "execute_result"
    }
   ],
   "source": [
    "moda = dados['Anos de Estudo'].mode()\n",
    "moda"
   ]
  },
  {
   "cell_type": "code",
   "execution_count": 133,
   "metadata": {
    "colab": {
     "base_uri": "https://localhost:8080/",
     "height": 35
    },
    "colab_type": "code",
    "id": "VF_Bj8x2jQM-",
    "outputId": "70b0abb2-902e-4f80-b8c7-fe0f8c0e3140"
   },
   "outputs": [
    {
     "data": {
      "text/plain": [
       "11.0"
      ]
     },
     "execution_count": 133,
     "metadata": {},
     "output_type": "execute_result"
    }
   ],
   "source": [
    "mediana = dados['Anos de Estudo'].median()\n",
    "mediana"
   ]
  },
  {
   "cell_type": "code",
   "execution_count": 135,
   "metadata": {
    "colab": {
     "base_uri": "https://localhost:8080/",
     "height": 35
    },
    "colab_type": "code",
    "id": "ohqUZ5RsjQNA",
    "outputId": "286e2b23-ef56-453f-e92a-2c73887c1af4"
   },
   "outputs": [
    {
     "data": {
      "text/plain": [
       "9.469664237376367"
      ]
     },
     "execution_count": 135,
     "metadata": {},
     "output_type": "execute_result"
    }
   ],
   "source": [
    "media = dados['Anos de Estudo'].mean()\n",
    "media"
   ]
  },
  {
   "cell_type": "code",
   "execution_count": null,
   "metadata": {
    "colab": {
     "base_uri": "https://localhost:8080/",
     "height": 35
    },
    "colab_type": "code",
    "id": "AwM8UvApjQNC",
    "outputId": "91f0c84b-13ff-43e1-cac0-46ce0527ddec"
   },
   "outputs": [],
   "source": []
  },
  {
   "cell_type": "markdown",
   "metadata": {
    "colab_type": "text",
    "id": "vcaIo45UjQND"
   },
   "source": [
    "# <font color=green>4 MEDIDAS SEPARATRIZES</font>\n",
    "***"
   ]
  },
  {
   "cell_type": "markdown",
   "metadata": {
    "colab_type": "text",
    "id": "f4XrApNxjQNE"
   },
   "source": [
    "## <font color=green>4.1 Quartis, decis e percentis</font>\n",
    "***\n",
    "\n",
    "Há uma série de medidas de posição semelhantes na sua concepção à mediana, embora não sejam medidas de tendência central. Como se sabe, a mediana divide a distribuição em duas partes iguais quanto ao número de elementos de cada parte. Já os quartis permitem dividir a distribuição em quatro partes iguais quanto ao número de elementos de cada uma; os decis em dez partes e os centis em cem partes iguais."
   ]
  },
  {
   "cell_type": "markdown",
   "metadata": {},
   "source": [
    "#### Lembrando sempre n - 1\n",
    "Por exemplo quartis n = 4 : 4-1 = 3"
   ]
  },
  {
   "cell_type": "code",
   "execution_count": 137,
   "metadata": {
    "colab": {
     "base_uri": "https://localhost:8080/",
     "height": 89
    },
    "colab_type": "code",
    "id": "VmbdUO-ujQNE",
    "outputId": "d7a091db-3901-45ae-95c9-2d1a6b840cb6"
   },
   "outputs": [
    {
     "data": {
      "text/plain": [
       "0.25     788.0\n",
       "0.50    1200.0\n",
       "0.75    2000.0\n",
       "Name: Renda, dtype: float64"
      ]
     },
     "execution_count": 137,
     "metadata": {},
     "output_type": "execute_result"
    }
   ],
   "source": [
    "#Definindo os quartis\n",
    "dados.Renda.quantile([0.25, 0.5, 0.75]) #primeiro quartil, mediana e terceiro quartil."
   ]
  },
  {
   "cell_type": "markdown",
   "metadata": {},
   "source": [
    "#### Calculando decis"
   ]
  },
  {
   "cell_type": "code",
   "execution_count": 145,
   "metadata": {
    "colab": {
     "base_uri": "https://localhost:8080/",
     "height": 35
    },
    "colab_type": "code",
    "id": "gyiJDAMbjQNF",
    "outputId": "565e6c38-11b6-4030-c05e-c1e74f69b2b9"
   },
   "outputs": [
    {
     "data": {
      "text/plain": [
       "[1, 2, 3, 4, 5, 6, 7, 8, 9]"
      ]
     },
     "execution_count": 145,
     "metadata": {},
     "output_type": "execute_result"
    }
   ],
   "source": [
    "[i for i in range(1, 10)]"
   ]
  },
  {
   "cell_type": "code",
   "execution_count": 143,
   "metadata": {
    "colab": {
     "base_uri": "https://localhost:8080/",
     "height": 197
    },
    "colab_type": "code",
    "id": "EpRKboV5jQNG",
    "outputId": "dfe7892e-35d2-4b99-a635-68a04967b84f"
   },
   "outputs": [
    {
     "data": {
      "text/plain": [
       "[0.1, 0.2, 0.3, 0.4, 0.5, 0.6, 0.7, 0.8, 0.9]"
      ]
     },
     "execution_count": 143,
     "metadata": {},
     "output_type": "execute_result"
    }
   ],
   "source": [
    "decis = [i / 10 for i in range(1, 10)]\n",
    "decis"
   ]
  },
  {
   "cell_type": "markdown",
   "metadata": {},
   "source": [
    "#### Cerca de 10% recebe cerca de 350,00\n",
    "#### 90% Recebe acima de 350,00"
   ]
  },
  {
   "cell_type": "code",
   "execution_count": 144,
   "metadata": {
    "colab": {},
    "colab_type": "code",
    "id": "LQW--GapjQNI",
    "scrolled": true
   },
   "outputs": [
    {
     "data": {
      "text/plain": [
       "0.1     350.0\n",
       "0.2     788.0\n",
       "0.3     800.0\n",
       "0.4    1000.0\n",
       "0.5    1200.0\n",
       "0.6    1500.0\n",
       "0.7    1900.0\n",
       "0.8    2500.0\n",
       "0.9    4000.0\n",
       "Name: Renda, dtype: float64"
      ]
     },
     "execution_count": 144,
     "metadata": {},
     "output_type": "execute_result"
    }
   ],
   "source": [
    "dados.Renda.quantile(decis)"
   ]
  },
  {
   "cell_type": "markdown",
   "metadata": {
    "colab": {
     "base_uri": "https://localhost:8080/",
     "height": 449
    },
    "colab_type": "code",
    "id": "pO2HCo1WUE5F",
    "outputId": "1d51695f-6cf2-4a2e-dae1-738ee842e617"
   },
   "source": [
    "#### Percentis"
   ]
  },
  {
   "cell_type": "code",
   "execution_count": 152,
   "metadata": {},
   "outputs": [],
   "source": [
    "percentis =  [i / 100 for i in range(1, 100)]"
   ]
  },
  {
   "cell_type": "code",
   "execution_count": 153,
   "metadata": {},
   "outputs": [
    {
     "data": {
      "text/plain": [
       "0.01        0.0\n",
       "0.02        0.0\n",
       "0.03        0.0\n",
       "0.04       50.0\n",
       "0.05      100.0\n",
       "         ...   \n",
       "0.95     6000.0\n",
       "0.96     7000.0\n",
       "0.97     8000.0\n",
       "0.98    10000.0\n",
       "0.99    15000.0\n",
       "Name: Renda, Length: 99, dtype: float64"
      ]
     },
     "execution_count": 153,
     "metadata": {},
     "output_type": "execute_result"
    }
   ],
   "source": [
    "dados.Renda.quantile(percentis)"
   ]
  },
  {
   "cell_type": "code",
   "execution_count": 167,
   "metadata": {},
   "outputs": [
    {
     "name": "stderr",
     "output_type": "stream",
     "text": [
      "c:\\Users\\marcu\\anaconda3\\lib\\site-packages\\seaborn\\distributions.py:2619: FutureWarning: `distplot` is a deprecated function and will be removed in a future version. Please adapt your code to use either `displot` (a figure-level function with similar flexibility) or `histplot` (an axes-level function for histograms).\n",
      "  warnings.warn(msg, FutureWarning)\n"
     ]
    },
    {
     "data": {
      "text/plain": [
       "<AxesSubplot:title={'center':'Distribuição de Frequências Acumulada'}, xlabel='Anos', ylabel='Acumulado'>"
      ]
     },
     "execution_count": 167,
     "metadata": {},
     "output_type": "execute_result"
    },
    {
     "data": {
      "image/png": "[encoded data removed]",
      "text/plain": [
       "<Figure size 1008x432 with 1 Axes>"
      ]
     },
     "metadata": {
      "needs_background": "light"
     },
     "output_type": "display_data"
    }
   ],
   "source": [
    "ax = sns.distplot(dados.Idade,\n",
    "                hist_kws= {'cumulative' : True},\n",
    "                kde_kws= {'cumulative' : True},\n",
    "                bins = 10)\n",
    "\n",
    "ax.figure.set_size_inches(14, 6)\n",
    "ax.set_title('Distribuição de Frequências Acumulada', fontsize=18)\n",
    "ax.set_ylabel('Acumulado', fontsize=14)\n",
    "ax.set_xlabel('Anos', fontsize=14)\n",
    "ax "
   ]
  },
  {
   "cell_type": "markdown",
   "metadata": {},
   "source": [
    "#### Decil da idade"
   ]
  },
  {
   "cell_type": "code",
   "execution_count": 165,
   "metadata": {},
   "outputs": [
    {
     "data": {
      "text/plain": [
       "[0.1, 0.2, 0.3, 0.4, 0.5, 0.6, 0.7, 0.8, 0.9]"
      ]
     },
     "execution_count": 165,
     "metadata": {},
     "output_type": "execute_result"
    }
   ],
   "source": [
    "decil_idade = [i / 10 for i in range(1, 10)]\n",
    "decil_idade\n"
   ]
  },
  {
   "cell_type": "code",
   "execution_count": 166,
   "metadata": {},
   "outputs": [
    {
     "data": {
      "text/plain": [
       "0.1    28.0\n",
       "0.2    33.0\n",
       "0.3    36.0\n",
       "0.4    40.0\n",
       "0.5    43.0\n",
       "0.6    47.0\n",
       "0.7    51.0\n",
       "0.8    55.0\n",
       "0.9    61.0\n",
       "Name: Idade, dtype: float64"
      ]
     },
     "execution_count": 166,
     "metadata": {},
     "output_type": "execute_result"
    }
   ],
   "source": [
    "dados.Idade.quantile(decil_idade)"
   ]
  },
  {
   "cell_type": "markdown",
   "metadata": {
    "colab_type": "text",
    "id": "6gIeZO_CjQNJ"
   },
   "source": [
    "## <font color=green>4.2 Box-plot</font>\n",
    "***\n",
    "\n",
    "O box plot dá uma idéia da posição, dispersão, assimetria, caudas e dados discrepantes (outliers). A posição central é dada pela mediana e a dispersão por $IIQ$. As posições relativas de $Q1$, $Mediana$ e $Q3$ dão uma noção da simetria da distribuição. Os comprimentos das cauda são dados pelas linhas que vão do retângulo aos valores remotos e pelos valores atípicos."
   ]
  },
  {
   "cell_type": "markdown",
   "metadata": {
    "colab_type": "text",
    "id": "VeiTE_gvjQNK"
   },
   "source": [
    "<img src='https://caelum-online-public.s3.amazonaws.com/1177-estatistica-parte1/01/img005.png' width='65%'>"
   ]
  },
  {
   "cell_type": "code",
   "execution_count": 175,
   "metadata": {
    "colab": {
     "base_uri": "https://localhost:8080/",
     "height": 320
    },
    "colab_type": "code",
    "id": "pBY2EWkzjQNK",
    "outputId": "eaef866d-66ed-4f6e-b0de-3e9a8bfa4b50"
   },
   "outputs": [
    {
     "data": {
      "text/plain": [
       "Text(0.5, 0, 'Metros')"
      ]
     },
     "execution_count": 175,
     "metadata": {},
     "output_type": "execute_result"
    },
    {
     "data": {
      "image/png": "[encoded data removed]",
      "text/plain": [
       "<Figure size 864x432 with 1 Axes>"
      ]
     },
     "metadata": {
      "needs_background": "light"
     },
     "output_type": "display_data"
    }
   ],
   "source": [
    "ax = sns.boxplot(x = 'Altura', data = dados, orient = 'h')\n",
    "ax.figure.set_size_inches(12, 6)\n",
    "ax.set_title(\"Altura\", fontsize = 20)\n",
    "ax.set_xlabel(\"Metros\", fontsize = 16)"
   ]
  },
  {
   "cell_type": "markdown",
   "metadata": {},
   "source": [
    "#### Comparando"
   ]
  },
  {
   "cell_type": "code",
   "execution_count": 176,
   "metadata": {
    "colab": {
     "base_uri": "https://localhost:8080/",
     "height": 320
    },
    "colab_type": "code",
    "id": "AEhX7-ggsuiY",
    "outputId": "b484ac10-4c32-42bd-db4c-053898fa034c"
   },
   "outputs": [
    {
     "data": {
      "text/plain": [
       "Text(0.5, 0, 'Metros')"
      ]
     },
     "execution_count": 176,
     "metadata": {},
     "output_type": "execute_result"
    },
    {
     "data": {
      "image/png": "[encoded data removed]",
      "text/plain": [
       "<Figure size 864x432 with 1 Axes>"
      ]
     },
     "metadata": {
      "needs_background": "light"
     },
     "output_type": "display_data"
    }
   ],
   "source": [
    "ax = sns.boxplot(x = 'Altura', y ='Sexo', data = dados, orient = 'h')\n",
    "ax.figure.set_size_inches(12, 6)\n",
    "ax.set_title(\"Altura\", fontsize = 20)\n",
    "ax.set_xlabel(\"Metros\", fontsize = 16)"
   ]
  },
  {
   "cell_type": "markdown",
   "metadata": {},
   "source": [
    "#### Renda"
   ]
  },
  {
   "cell_type": "code",
   "execution_count": 180,
   "metadata": {
    "colab": {
     "base_uri": "https://localhost:8080/",
     "height": 320
    },
    "colab_type": "code",
    "id": "2ZPrRov1suSF",
    "outputId": "6b176c56-cee6-4570-f288-5adfa84bc022"
   },
   "outputs": [
    {
     "data": {
      "text/plain": [
       "Text(0.5, 0, 'R$')"
      ]
     },
     "execution_count": 180,
     "metadata": {},
     "output_type": "execute_result"
    },
    {
     "data": {
      "image/png": "[encoded data removed]",
      "text/plain": [
       "<Figure size 864x432 with 1 Axes>"
      ]
     },
     "metadata": {
      "needs_background": "light"
     },
     "output_type": "display_data"
    }
   ],
   "source": [
    "ax = sns.boxplot(x = 'Renda', data = dados.query('Renda < 10000'), orient = 'h')\n",
    "ax.figure.set_size_inches(12, 6)\n",
    "ax.set_title(\"Renda\", fontsize = 20)\n",
    "ax.set_xlabel(\"R$\", fontsize = 16)"
   ]
  },
  {
   "cell_type": "code",
   "execution_count": 181,
   "metadata": {
    "colab": {
     "base_uri": "https://localhost:8080/",
     "height": 320
    },
    "colab_type": "code",
    "id": "CSwlKUrrsuFi",
    "outputId": "895356d3-f6ab-4659-f821-f1bee28ae21a"
   },
   "outputs": [
    {
     "data": {
      "text/plain": [
       "Text(0.5, 0, 'R$')"
      ]
     },
     "execution_count": 181,
     "metadata": {},
     "output_type": "execute_result"
    },
    {
     "data": {
      "image/png": "[encoded data removed]",
      "text/plain": [
       "<Figure size 864x432 with 1 Axes>"
      ]
     },
     "metadata": {
      "needs_background": "light"
     },
     "output_type": "display_data"
    }
   ],
   "source": [
    "ax = sns.boxplot(x = 'Renda', data = dados.query('Renda < 2000'), orient = 'h')\n",
    "ax.figure.set_size_inches(12, 6)\n",
    "ax.set_title(\"Renda\", fontsize = 20)\n",
    "ax.set_xlabel(\"R$\", fontsize = 16)"
   ]
  },
  {
   "cell_type": "markdown",
   "metadata": {},
   "source": [
    "#### Homens x Mulheres"
   ]
  },
  {
   "cell_type": "code",
   "execution_count": 194,
   "metadata": {
    "colab": {
     "base_uri": "https://localhost:8080/",
     "height": 320
    },
    "colab_type": "code",
    "id": "IDrzBcJ_jQNL",
    "outputId": "af4f0ff0-8db8-4550-f230-3508561dd8a6"
   },
   "outputs": [
    {
     "data": {
      "text/plain": [
       "[Text(0, 0, 'Homem'), Text(0, 1, 'Mulher')]"
      ]
     },
     "execution_count": 194,
     "metadata": {},
     "output_type": "execute_result"
    },
    {
     "data": {
      "image/png": "[encoded data removed]",
      "text/plain": [
       "<Figure size 864x432 with 1 Axes>"
      ]
     },
     "metadata": {
      "needs_background": "light"
     },
     "output_type": "display_data"
    }
   ],
   "source": [
    "ax = sns.boxplot(x = 'Renda', y = 'Sexo',  data = dados.query('Renda < 10000'), orient = 'h')\n",
    "ax.figure.set_size_inches(12, 6)\n",
    "ax.set_title(\"Renda\", fontsize = 20)\n",
    "ax.set_xlabel(\"R$\", fontsize = 16)\n",
    "ax.set_yticklabels(['Homem', 'Mulher'])"
   ]
  },
  {
   "cell_type": "markdown",
   "metadata": {},
   "source": [
    "#### Anos de estudo"
   ]
  },
  {
   "cell_type": "code",
   "execution_count": 184,
   "metadata": {
    "colab": {
     "base_uri": "https://localhost:8080/",
     "height": 320
    },
    "colab_type": "code",
    "id": "V3I-2KsbjQNM",
    "outputId": "4ba82684-e7cf-4ca8-eec3-21df2008f5ad"
   },
   "outputs": [
    {
     "data": {
      "text/plain": [
       "Text(0.5, 0, 'Anos')"
      ]
     },
     "execution_count": 184,
     "metadata": {},
     "output_type": "execute_result"
    },
    {
     "data": {
      "image/png": "[encoded data removed]",
      "text/plain": [
       "<Figure size 864x432 with 1 Axes>"
      ]
     },
     "metadata": {
      "needs_background": "light"
     },
     "output_type": "display_data"
    }
   ],
   "source": [
    "ax = sns.boxplot(x = 'Anos de Estudo', data = dados, orient = 'h')\n",
    "ax.figure.set_size_inches(12, 6)\n",
    "ax.set_title(\"Anos estudo\", fontsize = 20)\n",
    "ax.set_xlabel(\"Anos\", fontsize = 16)"
   ]
  },
  {
   "cell_type": "code",
   "execution_count": 192,
   "metadata": {},
   "outputs": [
    {
     "data": {
      "text/plain": [
       "[Text(0, 0, 'Homem'), Text(0, 1, 'Mulher')]"
      ]
     },
     "execution_count": 192,
     "metadata": {},
     "output_type": "execute_result"
    },
    {
     "data": {
      "image/png": "[encoded data removed]",
      "text/plain": [
       "<Figure size 864x432 with 1 Axes>"
      ]
     },
     "metadata": {
      "needs_background": "light"
     },
     "output_type": "display_data"
    }
   ],
   "source": [
    "ax = sns.boxplot(x = 'Anos de Estudo', y ='Sexo', data = dados, orient = 'h')\n",
    "ax.figure.set_size_inches(12, 6)\n",
    "ax.set_title(\"Anos de estudo\", fontsize = 20)\n",
    "ax.set_xlabel(\"Anos\", fontsize = 16)\n",
    "ax.set_yticklabels(['Homem', 'Mulher' ])"
   ]
  },
  {
   "cell_type": "markdown",
   "metadata": {},
   "source": [
    "#### Renda Bahia x São Paulo"
   ]
  },
  {
   "cell_type": "code",
   "execution_count": 187,
   "metadata": {},
   "outputs": [
    {
     "data": {
      "text/plain": [
       "<AxesSubplot:title={'center':'Renda (R$) - Bahia X São Paulo'}, xlabel='R$', ylabel='UF'>"
      ]
     },
     "execution_count": 187,
     "metadata": {},
     "output_type": "execute_result"
    },
    {
     "data": {
      "image/png": "[encoded data removed]",
      "text/plain": [
       "<Figure size 864x432 with 1 Axes>"
      ]
     },
     "metadata": {
      "needs_background": "light"
     },
     "output_type": "display_data"
    }
   ],
   "source": [
    "ax = sns.boxplot(x = 'Renda', y = 'UF', data = dados.query('(UF==35 or UF==29) and Renda < 10000'), orient = 'h')\n",
    "\n",
    "ax.figure.set_size_inches(12, 6)\n",
    "ax.set_title('Renda (R$) - Bahia X São Paulo', fontsize=18)\n",
    "ax.set_xlabel('R$', fontsize=14)\n",
    "ax"
   ]
  },
  {
   "cell_type": "markdown",
   "metadata": {
    "colab_type": "text",
    "id": "amloMZwVjQNN"
   },
   "source": [
    "<img src='https://caelum-online-public.s3.amazonaws.com/1177-estatistica-parte1/01/img006.png' width='80%'>"
   ]
  },
  {
   "cell_type": "markdown",
   "metadata": {
    "colab_type": "text",
    "id": "aJ6v_NI9jQNN"
   },
   "source": [
    "# <font color=green>5 MEDIDAS DE DISPERSÃO</font>\n",
    "***\n",
    "\n",
    "Embora as medidas de posição forneçam uma sumarização bastante importante dos dados, elas podem não ser suficientes para caracterizar conjuntos distintos, especialmente quando as observações de determinada distribuição apresentarem dados muito dispersos."
   ]
  },
  {
   "cell_type": "markdown",
   "metadata": {
    "colab_type": "text",
    "id": "D6xVxAQ7jQNO"
   },
   "source": [
    "## <font color=green>5.1 Desvio médio absoluto</font>\n",
    "***\n",
    "\n",
    "\n",
    "# $$DM = \\frac 1n\\sum_{i=1}^{n}|X_i-\\bar{X}|$$\n"
   ]
  },
  {
   "cell_type": "code",
   "execution_count": null,
   "metadata": {
    "colab": {
     "base_uri": "https://localhost:8080/",
     "height": 266
    },
    "colab_type": "code",
    "id": "0sL31blV7nz3",
    "outputId": "5f44f5d3-88b4-40e2-810c-7e1e1a9bace0"
   },
   "outputs": [],
   "source": []
  },
  {
   "cell_type": "code",
   "execution_count": null,
   "metadata": {
    "colab": {
     "base_uri": "https://localhost:8080/",
     "height": 266
    },
    "colab_type": "code",
    "id": "f3pAri4G7nc4",
    "outputId": "f6800dd6-a0dd-47ae-d6d1-b7feca522389"
   },
   "outputs": [],
   "source": []
  },
  {
   "cell_type": "code",
   "execution_count": null,
   "metadata": {
    "colab": {
     "base_uri": "https://localhost:8080/",
     "height": 35
    },
    "colab_type": "code",
    "id": "8_Q2tOTmjQNO",
    "outputId": "5c0d8214-aa63-4d0f-cfb1-f61bc171195f"
   },
   "outputs": [],
   "source": []
  },
  {
   "cell_type": "code",
   "execution_count": null,
   "metadata": {
    "colab": {
     "base_uri": "https://localhost:8080/",
     "height": 266
    },
    "colab_type": "code",
    "id": "RWo0AhBEjQNP",
    "outputId": "19437165-543f-4cb7-885c-956eb5e31090"
   },
   "outputs": [],
   "source": []
  },
  {
   "cell_type": "code",
   "execution_count": null,
   "metadata": {
    "colab": {
     "base_uri": "https://localhost:8080/",
     "height": 35
    },
    "colab_type": "code",
    "id": "OiWDTw0ljQNQ",
    "outputId": "0123646d-ad0d-457e-cc5a-035bd6a843ec"
   },
   "outputs": [],
   "source": []
  },
  {
   "cell_type": "code",
   "execution_count": null,
   "metadata": {
    "colab": {
     "base_uri": "https://localhost:8080/",
     "height": 266
    },
    "colab_type": "code",
    "id": "qQbjktz5jQNR",
    "outputId": "d3649964-e345-457c-859c-e179e57e1468"
   },
   "outputs": [],
   "source": []
  },
  {
   "cell_type": "code",
   "execution_count": null,
   "metadata": {
    "colab": {
     "base_uri": "https://localhost:8080/",
     "height": 375
    },
    "colab_type": "code",
    "id": "dtIDTt6djQNV",
    "outputId": "ee4b72f8-e0d6-4f04-e445-1178a190332c"
   },
   "outputs": [],
   "source": []
  },
  {
   "cell_type": "code",
   "execution_count": null,
   "metadata": {
    "colab": {
     "base_uri": "https://localhost:8080/",
     "height": 35
    },
    "colab_type": "code",
    "id": "m4buiQWF01xt",
    "outputId": "e166623b-e7a4-44f6-ecb1-2cfc0bc43ab1"
   },
   "outputs": [],
   "source": []
  },
  {
   "cell_type": "code",
   "execution_count": null,
   "metadata": {
    "colab": {
     "base_uri": "https://localhost:8080/",
     "height": 35
    },
    "colab_type": "code",
    "id": "1PEJ_LUn01eV",
    "outputId": "ff37d20d-b3d1-408a-c300-79b81dafb398"
   },
   "outputs": [],
   "source": []
  },
  {
   "cell_type": "markdown",
   "metadata": {
    "colab_type": "text",
    "id": "jSKfnKwEjQNW"
   },
   "source": [
    "## <font color=green>5.2 Variância</font>\n",
    "***"
   ]
  },
  {
   "cell_type": "markdown",
   "metadata": {
    "colab_type": "text",
    "id": "tHD3yNqzjQNW"
   },
   "source": [
    "### Variância\n",
    "\n",
    "A variância é construída a partir das diferenças entre cada observação e a média dos dados, ou seja, o desvio em torno da média. No cálculo da variância, os desvios em torno da média são elevados ao quadrado."
   ]
  },
  {
   "cell_type": "markdown",
   "metadata": {
    "colab_type": "text",
    "id": "WrCn9hw0jQNX"
   },
   "source": [
    "### Variância populacional\n",
    "\n",
    "# $$\\sigma^2 = \\frac 1n\\sum_{i=1}^{n}(X_i-\\mu)^2$$"
   ]
  },
  {
   "cell_type": "markdown",
   "metadata": {
    "colab_type": "text",
    "id": "jV5mQT_djQNX"
   },
   "source": [
    "### Variância amostral\n",
    "\n",
    "# $$S^2 = \\frac 1{n-1}\\sum_{i=1}^{n}(X_i-\\bar{X})^2$$"
   ]
  },
  {
   "cell_type": "code",
   "execution_count": null,
   "metadata": {
    "colab": {
     "base_uri": "https://localhost:8080/",
     "height": 266
    },
    "colab_type": "code",
    "id": "4tlbCQeujQNZ",
    "outputId": "21e4a6b5-8a87-4338-8f94-b02ef2ea9e07"
   },
   "outputs": [],
   "source": []
  },
  {
   "cell_type": "code",
   "execution_count": null,
   "metadata": {
    "colab": {
     "base_uri": "https://localhost:8080/",
     "height": 35
    },
    "colab_type": "code",
    "id": "oCcAfoIOjQNa",
    "outputId": "e55249a4-6d91-4776-d89f-428f067a87ae"
   },
   "outputs": [],
   "source": []
  },
  {
   "cell_type": "code",
   "execution_count": null,
   "metadata": {
    "colab": {
     "base_uri": "https://localhost:8080/",
     "height": 35
    },
    "colab_type": "code",
    "id": "EyrfPHLtjQNb",
    "outputId": "a024839f-1c4a-4a91-b892-3966d7cc8f95"
   },
   "outputs": [],
   "source": []
  },
  {
   "cell_type": "markdown",
   "metadata": {
    "colab_type": "text",
    "id": "wQl_CsytjQNg"
   },
   "source": [
    "## <font color=green>5.3 Desvio padrão</font>\n",
    "***\n",
    "\n",
    "Uma das restrições da variância é o fato de fornecer medidas em quadrados das unidades originais - a variância de medidas de comprimento, por exemplo, é em unidades de área. Logo, o fato de as unidades serem diferentes dificulta a comparação da dispersão com as variáveis que a definem. Um modo de eliminar essa dificuldade é considerar sua raiz quadrada."
   ]
  },
  {
   "cell_type": "markdown",
   "metadata": {
    "colab_type": "text",
    "id": "X9w1Iqt3jQNg"
   },
   "source": [
    "### Desvio padrão populacional\n",
    "\n",
    "# $$\\sigma = \\sqrt{\\frac 1n\\sum_{i=1}^{n}(X_i-\\mu)^2} \\Longrightarrow \\sigma = \\sqrt{\\sigma^2}$$"
   ]
  },
  {
   "cell_type": "markdown",
   "metadata": {
    "colab_type": "text",
    "id": "D3J4MvMpjQNg"
   },
   "source": [
    "### Desvio padrão amostral\n",
    "\n",
    "# $$S = \\sqrt{\\frac 1{n-1}\\sum_{i=1}^{n}(X_i-\\bar{X})^2} \\Longrightarrow S = \\sqrt{S^2}$$"
   ]
  },
  {
   "cell_type": "code",
   "execution_count": null,
   "metadata": {
    "colab": {
     "base_uri": "https://localhost:8080/",
     "height": 35
    },
    "colab_type": "code",
    "id": "2di6iLFaSPda",
    "outputId": "d4b3d928-0ef9-4412-8b97-a16724770f84"
   },
   "outputs": [],
   "source": []
  },
  {
   "cell_type": "code",
   "execution_count": null,
   "metadata": {
    "colab": {
     "base_uri": "https://localhost:8080/",
     "height": 35
    },
    "colab_type": "code",
    "id": "BMTx9yKHSPON",
    "outputId": "2a045e01-b0a6-4c42-96e8-18708617687d"
   },
   "outputs": [],
   "source": []
  },
  {
   "cell_type": "code",
   "execution_count": null,
   "metadata": {
    "colab": {
     "base_uri": "https://localhost:8080/",
     "height": 266
    },
    "colab_type": "code",
    "id": "_PeQtqbdjQNh",
    "outputId": "dd38bbe1-9fbc-4be6-85a5-8e481520bf85"
   },
   "outputs": [],
   "source": []
  },
  {
   "cell_type": "code",
   "execution_count": null,
   "metadata": {
    "colab": {
     "base_uri": "https://localhost:8080/",
     "height": 107
    },
    "colab_type": "code",
    "id": "5LYOKy25jQNi",
    "outputId": "c263cc75-8407-4546-ef00-64a6abd9a6a7"
   },
   "outputs": [],
   "source": []
  },
  {
   "cell_type": "code",
   "execution_count": null,
   "metadata": {
    "colab": {
     "base_uri": "https://localhost:8080/",
     "height": 107
    },
    "colab_type": "code",
    "id": "FfcyfSkFjQNj",
    "outputId": "ccdf8bc6-4e1c-4845-b6b7-bb5ae85fe25f"
   },
   "outputs": [],
   "source": []
  },
  {
   "cell_type": "code",
   "execution_count": null,
   "metadata": {
    "colab": {
     "base_uri": "https://localhost:8080/",
     "height": 80
    },
    "colab_type": "code",
    "id": "G8vorygCjQNk",
    "outputId": "39af6a22-deed-47eb-eeee-17e48ccf9a7f"
   },
   "outputs": [],
   "source": []
  },
  {
   "cell_type": "code",
   "execution_count": null,
   "metadata": {
    "colab": {
     "base_uri": "https://localhost:8080/",
     "height": 107
    },
    "colab_type": "code",
    "id": "01op3BEvjQNl",
    "outputId": "5b427605-ac79-4071-8b6f-4eee089337a0"
   },
   "outputs": [],
   "source": []
  },
  {
   "cell_type": "code",
   "execution_count": null,
   "metadata": {
    "colab": {},
    "colab_type": "code",
    "id": "aiUvZluhUx-0"
   },
   "outputs": [],
   "source": []
  }
 ],
 "metadata": {
  "colab": {
   "name": "Curso_de_Estatística_Parte_1.ipynb",
   "provenance": [],
   "toc_visible": true,
   "version": "0.3.2"
  },
  "kernelspec": {
   "display_name": "Python 3.9.12 ('base')",
   "language": "python",
   "name": "python3"
  },
  "language_info": {
   "codemirror_mode": {
    "name": "ipython",
    "version": 3
   },
   "file_extension": ".py",
   "mimetype": "text/x-python",
   "name": "python",
   "nbconvert_exporter": "python",
   "pygments_lexer": "ipython3",
   "version": "3.9.12"
  },
  "vscode": {
   "interpreter": {
    "hash": "7ad2d2b061933ccb46f02c21d4dc257a7efb561c7355abd71f7246fa8dd772fc"
   }
  }
 },
 "nbformat": 4,
 "nbformat_minor": 1
}
