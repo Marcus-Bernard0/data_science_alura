{
  "cells": [
    {
      "cell_type": "code",
      "execution_count": null,
      "metadata": {
        "id": "qklxNM8g3Qw6"
      },
      "outputs": [],
      "source": [
        "import pandas as pd"
      ]
    },
    {
      "cell_type": "markdown",
      "metadata": {
        "id": "oAndW7eo3QxD"
      },
      "source": [
        "Validação e interpretação de clusters  \n",
        "utilizamos a clusterização, que faz parte do aprendizado não supervisionado."
      ]
    },
    {
      "cell_type": "code",
      "execution_count": null,
      "metadata": {
        "colab": {
          "base_uri": "https://localhost:8080/",
          "height": 270
        },
        "id": "RQIc0ZFk3QxJ",
        "outputId": "8a25cf95-42a9-4074-df4f-3c91642efd12"
      },
      "outputs": [
        {
          "output_type": "execute_result",
          "data": {
            "text/plain": [
              "  CUST_ID      BALANCE  BALANCE_FREQUENCY  PURCHASES  ONEOFF_PURCHASES  \\\n",
              "0  C10001    40.900749           0.818182      95.40              0.00   \n",
              "1  C10002  3202.467416           0.909091       0.00              0.00   \n",
              "2  C10003  2495.148862           1.000000     773.17            773.17   \n",
              "3  C10004  1666.670542           0.636364    1499.00           1499.00   \n",
              "4  C10005   817.714335           1.000000      16.00             16.00   \n",
              "\n",
              "   INSTALLMENTS_PURCHASES  CASH_ADVANCE  PURCHASES_FREQUENCY  \\\n",
              "0                    95.4      0.000000             0.166667   \n",
              "1                     0.0   6442.945483             0.000000   \n",
              "2                     0.0      0.000000             1.000000   \n",
              "3                     0.0    205.788017             0.083333   \n",
              "4                     0.0      0.000000             0.083333   \n",
              "\n",
              "   ONEOFF_PURCHASES_FREQUENCY  PURCHASES_INSTALLMENTS_FREQUENCY  \\\n",
              "0                    0.000000                          0.083333   \n",
              "1                    0.000000                          0.000000   \n",
              "2                    1.000000                          0.000000   \n",
              "3                    0.083333                          0.000000   \n",
              "4                    0.083333                          0.000000   \n",
              "\n",
              "   CASH_ADVANCE_FREQUENCY  CASH_ADVANCE_TRX  PURCHASES_TRX  CREDIT_LIMIT  \\\n",
              "0                0.000000                 0              2        1000.0   \n",
              "1                0.250000                 4              0        7000.0   \n",
              "2                0.000000                 0             12        7500.0   \n",
              "3                0.083333                 1              1        7500.0   \n",
              "4                0.000000                 0              1        1200.0   \n",
              "\n",
              "      PAYMENTS  MINIMUM_PAYMENTS  PRC_FULL_PAYMENT  TENURE  \n",
              "0   201.802084        139.509787          0.000000      12  \n",
              "1  4103.032597       1072.340217          0.222222      12  \n",
              "2   622.066742        627.284787          0.000000      12  \n",
              "3     0.000000               NaN          0.000000      12  \n",
              "4   678.334763        244.791237          0.000000      12  "
            ],
            "text/html": [
              "\n",
              "  <div id=\"df-f7b82b6c-7c60-442a-b440-9ec457eaa3b8\">\n",
              "    <div class=\"colab-df-container\">\n",
              "      <div>\n",
              "<style scoped>\n",
              "    .dataframe tbody tr th:only-of-type {\n",
              "        vertical-align: middle;\n",
              "    }\n",
              "\n",
              "    .dataframe tbody tr th {\n",
              "        vertical-align: top;\n",
              "    }\n",
              "\n",
              "    .dataframe thead th {\n",
              "        text-align: right;\n",
              "    }\n",
              "</style>\n",
              "<table border=\"1\" class=\"dataframe\">\n",
              "  <thead>\n",
              "    <tr style=\"text-align: right;\">\n",
              "      <th></th>\n",
              "      <th>CUST_ID</th>\n",
              "      <th>BALANCE</th>\n",
              "      <th>BALANCE_FREQUENCY</th>\n",
              "      <th>PURCHASES</th>\n",
              "      <th>ONEOFF_PURCHASES</th>\n",
              "      <th>INSTALLMENTS_PURCHASES</th>\n",
              "      <th>CASH_ADVANCE</th>\n",
              "      <th>PURCHASES_FREQUENCY</th>\n",
              "      <th>ONEOFF_PURCHASES_FREQUENCY</th>\n",
              "      <th>PURCHASES_INSTALLMENTS_FREQUENCY</th>\n",
              "      <th>CASH_ADVANCE_FREQUENCY</th>\n",
              "      <th>CASH_ADVANCE_TRX</th>\n",
              "      <th>PURCHASES_TRX</th>\n",
              "      <th>CREDIT_LIMIT</th>\n",
              "      <th>PAYMENTS</th>\n",
              "      <th>MINIMUM_PAYMENTS</th>\n",
              "      <th>PRC_FULL_PAYMENT</th>\n",
              "      <th>TENURE</th>\n",
              "    </tr>\n",
              "  </thead>\n",
              "  <tbody>\n",
              "    <tr>\n",
              "      <th>0</th>\n",
              "      <td>C10001</td>\n",
              "      <td>40.900749</td>\n",
              "      <td>0.818182</td>\n",
              "      <td>95.40</td>\n",
              "      <td>0.00</td>\n",
              "      <td>95.4</td>\n",
              "      <td>0.000000</td>\n",
              "      <td>0.166667</td>\n",
              "      <td>0.000000</td>\n",
              "      <td>0.083333</td>\n",
              "      <td>0.000000</td>\n",
              "      <td>0</td>\n",
              "      <td>2</td>\n",
              "      <td>1000.0</td>\n",
              "      <td>201.802084</td>\n",
              "      <td>139.509787</td>\n",
              "      <td>0.000000</td>\n",
              "      <td>12</td>\n",
              "    </tr>\n",
              "    <tr>\n",
              "      <th>1</th>\n",
              "      <td>C10002</td>\n",
              "      <td>3202.467416</td>\n",
              "      <td>0.909091</td>\n",
              "      <td>0.00</td>\n",
              "      <td>0.00</td>\n",
              "      <td>0.0</td>\n",
              "      <td>6442.945483</td>\n",
              "      <td>0.000000</td>\n",
              "      <td>0.000000</td>\n",
              "      <td>0.000000</td>\n",
              "      <td>0.250000</td>\n",
              "      <td>4</td>\n",
              "      <td>0</td>\n",
              "      <td>7000.0</td>\n",
              "      <td>4103.032597</td>\n",
              "      <td>1072.340217</td>\n",
              "      <td>0.222222</td>\n",
              "      <td>12</td>\n",
              "    </tr>\n",
              "    <tr>\n",
              "      <th>2</th>\n",
              "      <td>C10003</td>\n",
              "      <td>2495.148862</td>\n",
              "      <td>1.000000</td>\n",
              "      <td>773.17</td>\n",
              "      <td>773.17</td>\n",
              "      <td>0.0</td>\n",
              "      <td>0.000000</td>\n",
              "      <td>1.000000</td>\n",
              "      <td>1.000000</td>\n",
              "      <td>0.000000</td>\n",
              "      <td>0.000000</td>\n",
              "      <td>0</td>\n",
              "      <td>12</td>\n",
              "      <td>7500.0</td>\n",
              "      <td>622.066742</td>\n",
              "      <td>627.284787</td>\n",
              "      <td>0.000000</td>\n",
              "      <td>12</td>\n",
              "    </tr>\n",
              "    <tr>\n",
              "      <th>3</th>\n",
              "      <td>C10004</td>\n",
              "      <td>1666.670542</td>\n",
              "      <td>0.636364</td>\n",
              "      <td>1499.00</td>\n",
              "      <td>1499.00</td>\n",
              "      <td>0.0</td>\n",
              "      <td>205.788017</td>\n",
              "      <td>0.083333</td>\n",
              "      <td>0.083333</td>\n",
              "      <td>0.000000</td>\n",
              "      <td>0.083333</td>\n",
              "      <td>1</td>\n",
              "      <td>1</td>\n",
              "      <td>7500.0</td>\n",
              "      <td>0.000000</td>\n",
              "      <td>NaN</td>\n",
              "      <td>0.000000</td>\n",
              "      <td>12</td>\n",
              "    </tr>\n",
              "    <tr>\n",
              "      <th>4</th>\n",
              "      <td>C10005</td>\n",
              "      <td>817.714335</td>\n",
              "      <td>1.000000</td>\n",
              "      <td>16.00</td>\n",
              "      <td>16.00</td>\n",
              "      <td>0.0</td>\n",
              "      <td>0.000000</td>\n",
              "      <td>0.083333</td>\n",
              "      <td>0.083333</td>\n",
              "      <td>0.000000</td>\n",
              "      <td>0.000000</td>\n",
              "      <td>0</td>\n",
              "      <td>1</td>\n",
              "      <td>1200.0</td>\n",
              "      <td>678.334763</td>\n",
              "      <td>244.791237</td>\n",
              "      <td>0.000000</td>\n",
              "      <td>12</td>\n",
              "    </tr>\n",
              "  </tbody>\n",
              "</table>\n",
              "</div>\n",
              "      <button class=\"colab-df-convert\" onclick=\"convertToInteractive('df-f7b82b6c-7c60-442a-b440-9ec457eaa3b8')\"\n",
              "              title=\"Convert this dataframe to an interactive table.\"\n",
              "              style=\"display:none;\">\n",
              "        \n",
              "  <svg xmlns=\"http://www.w3.org/2000/svg\" height=\"24px\"viewBox=\"0 0 24 24\"\n",
              "       width=\"24px\">\n",
              "    <path d=\"M0 0h24v24H0V0z\" fill=\"none\"/>\n",
              "    <path d=\"M18.56 5.44l.94 2.06.94-2.06 2.06-.94-2.06-.94-.94-2.06-.94 2.06-2.06.94zm-11 1L8.5 8.5l.94-2.06 2.06-.94-2.06-.94L8.5 2.5l-.94 2.06-2.06.94zm10 10l.94 2.06.94-2.06 2.06-.94-2.06-.94-.94-2.06-.94 2.06-2.06.94z\"/><path d=\"M17.41 7.96l-1.37-1.37c-.4-.4-.92-.59-1.43-.59-.52 0-1.04.2-1.43.59L10.3 9.45l-7.72 7.72c-.78.78-.78 2.05 0 2.83L4 21.41c.39.39.9.59 1.41.59.51 0 1.02-.2 1.41-.59l7.78-7.78 2.81-2.81c.8-.78.8-2.07 0-2.86zM5.41 20L4 18.59l7.72-7.72 1.47 1.35L5.41 20z\"/>\n",
              "  </svg>\n",
              "      </button>\n",
              "      \n",
              "  <style>\n",
              "    .colab-df-container {\n",
              "      display:flex;\n",
              "      flex-wrap:wrap;\n",
              "      gap: 12px;\n",
              "    }\n",
              "\n",
              "    .colab-df-convert {\n",
              "      background-color: #E8F0FE;\n",
              "      border: none;\n",
              "      border-radius: 50%;\n",
              "      cursor: pointer;\n",
              "      display: none;\n",
              "      fill: #1967D2;\n",
              "      height: 32px;\n",
              "      padding: 0 0 0 0;\n",
              "      width: 32px;\n",
              "    }\n",
              "\n",
              "    .colab-df-convert:hover {\n",
              "      background-color: #E2EBFA;\n",
              "      box-shadow: 0px 1px 2px rgba(60, 64, 67, 0.3), 0px 1px 3px 1px rgba(60, 64, 67, 0.15);\n",
              "      fill: #174EA6;\n",
              "    }\n",
              "\n",
              "    [theme=dark] .colab-df-convert {\n",
              "      background-color: #3B4455;\n",
              "      fill: #D2E3FC;\n",
              "    }\n",
              "\n",
              "    [theme=dark] .colab-df-convert:hover {\n",
              "      background-color: #434B5C;\n",
              "      box-shadow: 0px 1px 3px 1px rgba(0, 0, 0, 0.15);\n",
              "      filter: drop-shadow(0px 1px 2px rgba(0, 0, 0, 0.3));\n",
              "      fill: #FFFFFF;\n",
              "    }\n",
              "  </style>\n",
              "\n",
              "      <script>\n",
              "        const buttonEl =\n",
              "          document.querySelector('#df-f7b82b6c-7c60-442a-b440-9ec457eaa3b8 button.colab-df-convert');\n",
              "        buttonEl.style.display =\n",
              "          google.colab.kernel.accessAllowed ? 'block' : 'none';\n",
              "\n",
              "        async function convertToInteractive(key) {\n",
              "          const element = document.querySelector('#df-f7b82b6c-7c60-442a-b440-9ec457eaa3b8');\n",
              "          const dataTable =\n",
              "            await google.colab.kernel.invokeFunction('convertToInteractive',\n",
              "                                                     [key], {});\n",
              "          if (!dataTable) return;\n",
              "\n",
              "          const docLinkHtml = 'Like what you see? Visit the ' +\n",
              "            '<a target=\"_blank\" href=https://colab.research.google.com/notebooks/data_table.ipynb>data table notebook</a>'\n",
              "            + ' to learn more about interactive tables.';\n",
              "          element.innerHTML = '';\n",
              "          dataTable['output_type'] = 'display_data';\n",
              "          await google.colab.output.renderOutput(dataTable, element);\n",
              "          const docLink = document.createElement('div');\n",
              "          docLink.innerHTML = docLinkHtml;\n",
              "          element.appendChild(docLink);\n",
              "        }\n",
              "      </script>\n",
              "    </div>\n",
              "  </div>\n",
              "  "
            ]
          },
          "metadata": {},
          "execution_count": 2
        }
      ],
      "source": [
        "df = pd.read_csv('CC GENERAL.csv')\n",
        "df.head()"
      ]
    },
    {
      "cell_type": "code",
      "execution_count": null,
      "metadata": {
        "colab": {
          "base_uri": "https://localhost:8080/"
        },
        "id": "q1A1V9rM3QxK",
        "outputId": "5860fad2-8c36-4912-a874-b05385cd0ace"
      },
      "outputs": [
        {
          "output_type": "execute_result",
          "data": {
            "text/plain": [
              "(8950, 18)"
            ]
          },
          "metadata": {},
          "execution_count": 3
        }
      ],
      "source": [
        "df.shape"
      ]
    },
    {
      "cell_type": "code",
      "execution_count": null,
      "metadata": {
        "colab": {
          "base_uri": "https://localhost:8080/",
          "height": 364
        },
        "id": "oz5lAuBF3QxL",
        "outputId": "64a79fcd-cd86-4c28-8559-8f6457a1a3cb"
      },
      "outputs": [
        {
          "output_type": "execute_result",
          "data": {
            "text/plain": [
              "            BALANCE  BALANCE_FREQUENCY     PURCHASES  ONEOFF_PURCHASES  \\\n",
              "count   8950.000000        8950.000000   8950.000000       8950.000000   \n",
              "mean    1564.474828           0.877271   1003.204834        592.437371   \n",
              "std     2081.531879           0.236904   2136.634782       1659.887917   \n",
              "min        0.000000           0.000000      0.000000          0.000000   \n",
              "25%      128.281915           0.888889     39.635000          0.000000   \n",
              "50%      873.385231           1.000000    361.280000         38.000000   \n",
              "75%     2054.140036           1.000000   1110.130000        577.405000   \n",
              "max    19043.138560           1.000000  49039.570000      40761.250000   \n",
              "\n",
              "       INSTALLMENTS_PURCHASES  CASH_ADVANCE  PURCHASES_FREQUENCY  \\\n",
              "count             8950.000000   8950.000000          8950.000000   \n",
              "mean               411.067645    978.871112             0.490351   \n",
              "std                904.338115   2097.163877             0.401371   \n",
              "min                  0.000000      0.000000             0.000000   \n",
              "25%                  0.000000      0.000000             0.083333   \n",
              "50%                 89.000000      0.000000             0.500000   \n",
              "75%                468.637500   1113.821139             0.916667   \n",
              "max              22500.000000  47137.211760             1.000000   \n",
              "\n",
              "       ONEOFF_PURCHASES_FREQUENCY  PURCHASES_INSTALLMENTS_FREQUENCY  \\\n",
              "count                 8950.000000                       8950.000000   \n",
              "mean                     0.202458                          0.364437   \n",
              "std                      0.298336                          0.397448   \n",
              "min                      0.000000                          0.000000   \n",
              "25%                      0.000000                          0.000000   \n",
              "50%                      0.083333                          0.166667   \n",
              "75%                      0.300000                          0.750000   \n",
              "max                      1.000000                          1.000000   \n",
              "\n",
              "       CASH_ADVANCE_FREQUENCY  CASH_ADVANCE_TRX  PURCHASES_TRX  CREDIT_LIMIT  \\\n",
              "count             8950.000000       8950.000000    8950.000000   8949.000000   \n",
              "mean                 0.135144          3.248827      14.709832   4494.449450   \n",
              "std                  0.200121          6.824647      24.857649   3638.815725   \n",
              "min                  0.000000          0.000000       0.000000     50.000000   \n",
              "25%                  0.000000          0.000000       1.000000   1600.000000   \n",
              "50%                  0.000000          0.000000       7.000000   3000.000000   \n",
              "75%                  0.222222          4.000000      17.000000   6500.000000   \n",
              "max                  1.500000        123.000000     358.000000  30000.000000   \n",
              "\n",
              "           PAYMENTS  MINIMUM_PAYMENTS  PRC_FULL_PAYMENT       TENURE  \n",
              "count   8950.000000       8637.000000       8950.000000  8950.000000  \n",
              "mean    1733.143852        864.206542          0.153715    11.517318  \n",
              "std     2895.063757       2372.446607          0.292499     1.338331  \n",
              "min        0.000000          0.019163          0.000000     6.000000  \n",
              "25%      383.276166        169.123707          0.000000    12.000000  \n",
              "50%      856.901546        312.343947          0.000000    12.000000  \n",
              "75%     1901.134317        825.485459          0.142857    12.000000  \n",
              "max    50721.483360      76406.207520          1.000000    12.000000  "
            ],
            "text/html": [
              "\n",
              "  <div id=\"df-151cc81f-79ac-46af-a778-85ff8b763b08\">\n",
              "    <div class=\"colab-df-container\">\n",
              "      <div>\n",
              "<style scoped>\n",
              "    .dataframe tbody tr th:only-of-type {\n",
              "        vertical-align: middle;\n",
              "    }\n",
              "\n",
              "    .dataframe tbody tr th {\n",
              "        vertical-align: top;\n",
              "    }\n",
              "\n",
              "    .dataframe thead th {\n",
              "        text-align: right;\n",
              "    }\n",
              "</style>\n",
              "<table border=\"1\" class=\"dataframe\">\n",
              "  <thead>\n",
              "    <tr style=\"text-align: right;\">\n",
              "      <th></th>\n",
              "      <th>BALANCE</th>\n",
              "      <th>BALANCE_FREQUENCY</th>\n",
              "      <th>PURCHASES</th>\n",
              "      <th>ONEOFF_PURCHASES</th>\n",
              "      <th>INSTALLMENTS_PURCHASES</th>\n",
              "      <th>CASH_ADVANCE</th>\n",
              "      <th>PURCHASES_FREQUENCY</th>\n",
              "      <th>ONEOFF_PURCHASES_FREQUENCY</th>\n",
              "      <th>PURCHASES_INSTALLMENTS_FREQUENCY</th>\n",
              "      <th>CASH_ADVANCE_FREQUENCY</th>\n",
              "      <th>CASH_ADVANCE_TRX</th>\n",
              "      <th>PURCHASES_TRX</th>\n",
              "      <th>CREDIT_LIMIT</th>\n",
              "      <th>PAYMENTS</th>\n",
              "      <th>MINIMUM_PAYMENTS</th>\n",
              "      <th>PRC_FULL_PAYMENT</th>\n",
              "      <th>TENURE</th>\n",
              "    </tr>\n",
              "  </thead>\n",
              "  <tbody>\n",
              "    <tr>\n",
              "      <th>count</th>\n",
              "      <td>8950.000000</td>\n",
              "      <td>8950.000000</td>\n",
              "      <td>8950.000000</td>\n",
              "      <td>8950.000000</td>\n",
              "      <td>8950.000000</td>\n",
              "      <td>8950.000000</td>\n",
              "      <td>8950.000000</td>\n",
              "      <td>8950.000000</td>\n",
              "      <td>8950.000000</td>\n",
              "      <td>8950.000000</td>\n",
              "      <td>8950.000000</td>\n",
              "      <td>8950.000000</td>\n",
              "      <td>8949.000000</td>\n",
              "      <td>8950.000000</td>\n",
              "      <td>8637.000000</td>\n",
              "      <td>8950.000000</td>\n",
              "      <td>8950.000000</td>\n",
              "    </tr>\n",
              "    <tr>\n",
              "      <th>mean</th>\n",
              "      <td>1564.474828</td>\n",
              "      <td>0.877271</td>\n",
              "      <td>1003.204834</td>\n",
              "      <td>592.437371</td>\n",
              "      <td>411.067645</td>\n",
              "      <td>978.871112</td>\n",
              "      <td>0.490351</td>\n",
              "      <td>0.202458</td>\n",
              "      <td>0.364437</td>\n",
              "      <td>0.135144</td>\n",
              "      <td>3.248827</td>\n",
              "      <td>14.709832</td>\n",
              "      <td>4494.449450</td>\n",
              "      <td>1733.143852</td>\n",
              "      <td>864.206542</td>\n",
              "      <td>0.153715</td>\n",
              "      <td>11.517318</td>\n",
              "    </tr>\n",
              "    <tr>\n",
              "      <th>std</th>\n",
              "      <td>2081.531879</td>\n",
              "      <td>0.236904</td>\n",
              "      <td>2136.634782</td>\n",
              "      <td>1659.887917</td>\n",
              "      <td>904.338115</td>\n",
              "      <td>2097.163877</td>\n",
              "      <td>0.401371</td>\n",
              "      <td>0.298336</td>\n",
              "      <td>0.397448</td>\n",
              "      <td>0.200121</td>\n",
              "      <td>6.824647</td>\n",
              "      <td>24.857649</td>\n",
              "      <td>3638.815725</td>\n",
              "      <td>2895.063757</td>\n",
              "      <td>2372.446607</td>\n",
              "      <td>0.292499</td>\n",
              "      <td>1.338331</td>\n",
              "    </tr>\n",
              "    <tr>\n",
              "      <th>min</th>\n",
              "      <td>0.000000</td>\n",
              "      <td>0.000000</td>\n",
              "      <td>0.000000</td>\n",
              "      <td>0.000000</td>\n",
              "      <td>0.000000</td>\n",
              "      <td>0.000000</td>\n",
              "      <td>0.000000</td>\n",
              "      <td>0.000000</td>\n",
              "      <td>0.000000</td>\n",
              "      <td>0.000000</td>\n",
              "      <td>0.000000</td>\n",
              "      <td>0.000000</td>\n",
              "      <td>50.000000</td>\n",
              "      <td>0.000000</td>\n",
              "      <td>0.019163</td>\n",
              "      <td>0.000000</td>\n",
              "      <td>6.000000</td>\n",
              "    </tr>\n",
              "    <tr>\n",
              "      <th>25%</th>\n",
              "      <td>128.281915</td>\n",
              "      <td>0.888889</td>\n",
              "      <td>39.635000</td>\n",
              "      <td>0.000000</td>\n",
              "      <td>0.000000</td>\n",
              "      <td>0.000000</td>\n",
              "      <td>0.083333</td>\n",
              "      <td>0.000000</td>\n",
              "      <td>0.000000</td>\n",
              "      <td>0.000000</td>\n",
              "      <td>0.000000</td>\n",
              "      <td>1.000000</td>\n",
              "      <td>1600.000000</td>\n",
              "      <td>383.276166</td>\n",
              "      <td>169.123707</td>\n",
              "      <td>0.000000</td>\n",
              "      <td>12.000000</td>\n",
              "    </tr>\n",
              "    <tr>\n",
              "      <th>50%</th>\n",
              "      <td>873.385231</td>\n",
              "      <td>1.000000</td>\n",
              "      <td>361.280000</td>\n",
              "      <td>38.000000</td>\n",
              "      <td>89.000000</td>\n",
              "      <td>0.000000</td>\n",
              "      <td>0.500000</td>\n",
              "      <td>0.083333</td>\n",
              "      <td>0.166667</td>\n",
              "      <td>0.000000</td>\n",
              "      <td>0.000000</td>\n",
              "      <td>7.000000</td>\n",
              "      <td>3000.000000</td>\n",
              "      <td>856.901546</td>\n",
              "      <td>312.343947</td>\n",
              "      <td>0.000000</td>\n",
              "      <td>12.000000</td>\n",
              "    </tr>\n",
              "    <tr>\n",
              "      <th>75%</th>\n",
              "      <td>2054.140036</td>\n",
              "      <td>1.000000</td>\n",
              "      <td>1110.130000</td>\n",
              "      <td>577.405000</td>\n",
              "      <td>468.637500</td>\n",
              "      <td>1113.821139</td>\n",
              "      <td>0.916667</td>\n",
              "      <td>0.300000</td>\n",
              "      <td>0.750000</td>\n",
              "      <td>0.222222</td>\n",
              "      <td>4.000000</td>\n",
              "      <td>17.000000</td>\n",
              "      <td>6500.000000</td>\n",
              "      <td>1901.134317</td>\n",
              "      <td>825.485459</td>\n",
              "      <td>0.142857</td>\n",
              "      <td>12.000000</td>\n",
              "    </tr>\n",
              "    <tr>\n",
              "      <th>max</th>\n",
              "      <td>19043.138560</td>\n",
              "      <td>1.000000</td>\n",
              "      <td>49039.570000</td>\n",
              "      <td>40761.250000</td>\n",
              "      <td>22500.000000</td>\n",
              "      <td>47137.211760</td>\n",
              "      <td>1.000000</td>\n",
              "      <td>1.000000</td>\n",
              "      <td>1.000000</td>\n",
              "      <td>1.500000</td>\n",
              "      <td>123.000000</td>\n",
              "      <td>358.000000</td>\n",
              "      <td>30000.000000</td>\n",
              "      <td>50721.483360</td>\n",
              "      <td>76406.207520</td>\n",
              "      <td>1.000000</td>\n",
              "      <td>12.000000</td>\n",
              "    </tr>\n",
              "  </tbody>\n",
              "</table>\n",
              "</div>\n",
              "      <button class=\"colab-df-convert\" onclick=\"convertToInteractive('df-151cc81f-79ac-46af-a778-85ff8b763b08')\"\n",
              "              title=\"Convert this dataframe to an interactive table.\"\n",
              "              style=\"display:none;\">\n",
              "        \n",
              "  <svg xmlns=\"http://www.w3.org/2000/svg\" height=\"24px\"viewBox=\"0 0 24 24\"\n",
              "       width=\"24px\">\n",
              "    <path d=\"M0 0h24v24H0V0z\" fill=\"none\"/>\n",
              "    <path d=\"M18.56 5.44l.94 2.06.94-2.06 2.06-.94-2.06-.94-.94-2.06-.94 2.06-2.06.94zm-11 1L8.5 8.5l.94-2.06 2.06-.94-2.06-.94L8.5 2.5l-.94 2.06-2.06.94zm10 10l.94 2.06.94-2.06 2.06-.94-2.06-.94-.94-2.06-.94 2.06-2.06.94z\"/><path d=\"M17.41 7.96l-1.37-1.37c-.4-.4-.92-.59-1.43-.59-.52 0-1.04.2-1.43.59L10.3 9.45l-7.72 7.72c-.78.78-.78 2.05 0 2.83L4 21.41c.39.39.9.59 1.41.59.51 0 1.02-.2 1.41-.59l7.78-7.78 2.81-2.81c.8-.78.8-2.07 0-2.86zM5.41 20L4 18.59l7.72-7.72 1.47 1.35L5.41 20z\"/>\n",
              "  </svg>\n",
              "      </button>\n",
              "      \n",
              "  <style>\n",
              "    .colab-df-container {\n",
              "      display:flex;\n",
              "      flex-wrap:wrap;\n",
              "      gap: 12px;\n",
              "    }\n",
              "\n",
              "    .colab-df-convert {\n",
              "      background-color: #E8F0FE;\n",
              "      border: none;\n",
              "      border-radius: 50%;\n",
              "      cursor: pointer;\n",
              "      display: none;\n",
              "      fill: #1967D2;\n",
              "      height: 32px;\n",
              "      padding: 0 0 0 0;\n",
              "      width: 32px;\n",
              "    }\n",
              "\n",
              "    .colab-df-convert:hover {\n",
              "      background-color: #E2EBFA;\n",
              "      box-shadow: 0px 1px 2px rgba(60, 64, 67, 0.3), 0px 1px 3px 1px rgba(60, 64, 67, 0.15);\n",
              "      fill: #174EA6;\n",
              "    }\n",
              "\n",
              "    [theme=dark] .colab-df-convert {\n",
              "      background-color: #3B4455;\n",
              "      fill: #D2E3FC;\n",
              "    }\n",
              "\n",
              "    [theme=dark] .colab-df-convert:hover {\n",
              "      background-color: #434B5C;\n",
              "      box-shadow: 0px 1px 3px 1px rgba(0, 0, 0, 0.15);\n",
              "      filter: drop-shadow(0px 1px 2px rgba(0, 0, 0, 0.3));\n",
              "      fill: #FFFFFF;\n",
              "    }\n",
              "  </style>\n",
              "\n",
              "      <script>\n",
              "        const buttonEl =\n",
              "          document.querySelector('#df-151cc81f-79ac-46af-a778-85ff8b763b08 button.colab-df-convert');\n",
              "        buttonEl.style.display =\n",
              "          google.colab.kernel.accessAllowed ? 'block' : 'none';\n",
              "\n",
              "        async function convertToInteractive(key) {\n",
              "          const element = document.querySelector('#df-151cc81f-79ac-46af-a778-85ff8b763b08');\n",
              "          const dataTable =\n",
              "            await google.colab.kernel.invokeFunction('convertToInteractive',\n",
              "                                                     [key], {});\n",
              "          if (!dataTable) return;\n",
              "\n",
              "          const docLinkHtml = 'Like what you see? Visit the ' +\n",
              "            '<a target=\"_blank\" href=https://colab.research.google.com/notebooks/data_table.ipynb>data table notebook</a>'\n",
              "            + ' to learn more about interactive tables.';\n",
              "          element.innerHTML = '';\n",
              "          dataTable['output_type'] = 'display_data';\n",
              "          await google.colab.output.renderOutput(dataTable, element);\n",
              "          const docLink = document.createElement('div');\n",
              "          docLink.innerHTML = docLinkHtml;\n",
              "          element.appendChild(docLink);\n",
              "        }\n",
              "      </script>\n",
              "    </div>\n",
              "  </div>\n",
              "  "
            ]
          },
          "metadata": {},
          "execution_count": 4
        }
      ],
      "source": [
        "df.describe()"
      ]
    },
    {
      "cell_type": "code",
      "execution_count": null,
      "metadata": {
        "id": "0_jLDsg_3QxM"
      },
      "outputs": [],
      "source": [
        "df.drop(columns = ['CUST_ID', 'TENURE'], inplace = True)"
      ]
    },
    {
      "cell_type": "code",
      "execution_count": null,
      "metadata": {
        "colab": {
          "base_uri": "https://localhost:8080/",
          "height": 270
        },
        "id": "wq1yhsvU3QxM",
        "outputId": "cc64279d-cc6e-4eb4-df97-f34441939268"
      },
      "outputs": [
        {
          "output_type": "execute_result",
          "data": {
            "text/plain": [
              "       BALANCE  BALANCE_FREQUENCY  PURCHASES  ONEOFF_PURCHASES  \\\n",
              "0    40.900749           0.818182      95.40              0.00   \n",
              "1  3202.467416           0.909091       0.00              0.00   \n",
              "2  2495.148862           1.000000     773.17            773.17   \n",
              "3  1666.670542           0.636364    1499.00           1499.00   \n",
              "4   817.714335           1.000000      16.00             16.00   \n",
              "\n",
              "   INSTALLMENTS_PURCHASES  CASH_ADVANCE  PURCHASES_FREQUENCY  \\\n",
              "0                    95.4      0.000000             0.166667   \n",
              "1                     0.0   6442.945483             0.000000   \n",
              "2                     0.0      0.000000             1.000000   \n",
              "3                     0.0    205.788017             0.083333   \n",
              "4                     0.0      0.000000             0.083333   \n",
              "\n",
              "   ONEOFF_PURCHASES_FREQUENCY  PURCHASES_INSTALLMENTS_FREQUENCY  \\\n",
              "0                    0.000000                          0.083333   \n",
              "1                    0.000000                          0.000000   \n",
              "2                    1.000000                          0.000000   \n",
              "3                    0.083333                          0.000000   \n",
              "4                    0.083333                          0.000000   \n",
              "\n",
              "   CASH_ADVANCE_FREQUENCY  CASH_ADVANCE_TRX  PURCHASES_TRX  CREDIT_LIMIT  \\\n",
              "0                0.000000                 0              2        1000.0   \n",
              "1                0.250000                 4              0        7000.0   \n",
              "2                0.000000                 0             12        7500.0   \n",
              "3                0.083333                 1              1        7500.0   \n",
              "4                0.000000                 0              1        1200.0   \n",
              "\n",
              "      PAYMENTS  MINIMUM_PAYMENTS  PRC_FULL_PAYMENT  \n",
              "0   201.802084        139.509787          0.000000  \n",
              "1  4103.032597       1072.340217          0.222222  \n",
              "2   622.066742        627.284787          0.000000  \n",
              "3     0.000000               NaN          0.000000  \n",
              "4   678.334763        244.791237          0.000000  "
            ],
            "text/html": [
              "\n",
              "  <div id=\"df-1d09af2e-1a51-41e4-a11a-e693eeeae35a\">\n",
              "    <div class=\"colab-df-container\">\n",
              "      <div>\n",
              "<style scoped>\n",
              "    .dataframe tbody tr th:only-of-type {\n",
              "        vertical-align: middle;\n",
              "    }\n",
              "\n",
              "    .dataframe tbody tr th {\n",
              "        vertical-align: top;\n",
              "    }\n",
              "\n",
              "    .dataframe thead th {\n",
              "        text-align: right;\n",
              "    }\n",
              "</style>\n",
              "<table border=\"1\" class=\"dataframe\">\n",
              "  <thead>\n",
              "    <tr style=\"text-align: right;\">\n",
              "      <th></th>\n",
              "      <th>BALANCE</th>\n",
              "      <th>BALANCE_FREQUENCY</th>\n",
              "      <th>PURCHASES</th>\n",
              "      <th>ONEOFF_PURCHASES</th>\n",
              "      <th>INSTALLMENTS_PURCHASES</th>\n",
              "      <th>CASH_ADVANCE</th>\n",
              "      <th>PURCHASES_FREQUENCY</th>\n",
              "      <th>ONEOFF_PURCHASES_FREQUENCY</th>\n",
              "      <th>PURCHASES_INSTALLMENTS_FREQUENCY</th>\n",
              "      <th>CASH_ADVANCE_FREQUENCY</th>\n",
              "      <th>CASH_ADVANCE_TRX</th>\n",
              "      <th>PURCHASES_TRX</th>\n",
              "      <th>CREDIT_LIMIT</th>\n",
              "      <th>PAYMENTS</th>\n",
              "      <th>MINIMUM_PAYMENTS</th>\n",
              "      <th>PRC_FULL_PAYMENT</th>\n",
              "    </tr>\n",
              "  </thead>\n",
              "  <tbody>\n",
              "    <tr>\n",
              "      <th>0</th>\n",
              "      <td>40.900749</td>\n",
              "      <td>0.818182</td>\n",
              "      <td>95.40</td>\n",
              "      <td>0.00</td>\n",
              "      <td>95.4</td>\n",
              "      <td>0.000000</td>\n",
              "      <td>0.166667</td>\n",
              "      <td>0.000000</td>\n",
              "      <td>0.083333</td>\n",
              "      <td>0.000000</td>\n",
              "      <td>0</td>\n",
              "      <td>2</td>\n",
              "      <td>1000.0</td>\n",
              "      <td>201.802084</td>\n",
              "      <td>139.509787</td>\n",
              "      <td>0.000000</td>\n",
              "    </tr>\n",
              "    <tr>\n",
              "      <th>1</th>\n",
              "      <td>3202.467416</td>\n",
              "      <td>0.909091</td>\n",
              "      <td>0.00</td>\n",
              "      <td>0.00</td>\n",
              "      <td>0.0</td>\n",
              "      <td>6442.945483</td>\n",
              "      <td>0.000000</td>\n",
              "      <td>0.000000</td>\n",
              "      <td>0.000000</td>\n",
              "      <td>0.250000</td>\n",
              "      <td>4</td>\n",
              "      <td>0</td>\n",
              "      <td>7000.0</td>\n",
              "      <td>4103.032597</td>\n",
              "      <td>1072.340217</td>\n",
              "      <td>0.222222</td>\n",
              "    </tr>\n",
              "    <tr>\n",
              "      <th>2</th>\n",
              "      <td>2495.148862</td>\n",
              "      <td>1.000000</td>\n",
              "      <td>773.17</td>\n",
              "      <td>773.17</td>\n",
              "      <td>0.0</td>\n",
              "      <td>0.000000</td>\n",
              "      <td>1.000000</td>\n",
              "      <td>1.000000</td>\n",
              "      <td>0.000000</td>\n",
              "      <td>0.000000</td>\n",
              "      <td>0</td>\n",
              "      <td>12</td>\n",
              "      <td>7500.0</td>\n",
              "      <td>622.066742</td>\n",
              "      <td>627.284787</td>\n",
              "      <td>0.000000</td>\n",
              "    </tr>\n",
              "    <tr>\n",
              "      <th>3</th>\n",
              "      <td>1666.670542</td>\n",
              "      <td>0.636364</td>\n",
              "      <td>1499.00</td>\n",
              "      <td>1499.00</td>\n",
              "      <td>0.0</td>\n",
              "      <td>205.788017</td>\n",
              "      <td>0.083333</td>\n",
              "      <td>0.083333</td>\n",
              "      <td>0.000000</td>\n",
              "      <td>0.083333</td>\n",
              "      <td>1</td>\n",
              "      <td>1</td>\n",
              "      <td>7500.0</td>\n",
              "      <td>0.000000</td>\n",
              "      <td>NaN</td>\n",
              "      <td>0.000000</td>\n",
              "    </tr>\n",
              "    <tr>\n",
              "      <th>4</th>\n",
              "      <td>817.714335</td>\n",
              "      <td>1.000000</td>\n",
              "      <td>16.00</td>\n",
              "      <td>16.00</td>\n",
              "      <td>0.0</td>\n",
              "      <td>0.000000</td>\n",
              "      <td>0.083333</td>\n",
              "      <td>0.083333</td>\n",
              "      <td>0.000000</td>\n",
              "      <td>0.000000</td>\n",
              "      <td>0</td>\n",
              "      <td>1</td>\n",
              "      <td>1200.0</td>\n",
              "      <td>678.334763</td>\n",
              "      <td>244.791237</td>\n",
              "      <td>0.000000</td>\n",
              "    </tr>\n",
              "  </tbody>\n",
              "</table>\n",
              "</div>\n",
              "      <button class=\"colab-df-convert\" onclick=\"convertToInteractive('df-1d09af2e-1a51-41e4-a11a-e693eeeae35a')\"\n",
              "              title=\"Convert this dataframe to an interactive table.\"\n",
              "              style=\"display:none;\">\n",
              "        \n",
              "  <svg xmlns=\"http://www.w3.org/2000/svg\" height=\"24px\"viewBox=\"0 0 24 24\"\n",
              "       width=\"24px\">\n",
              "    <path d=\"M0 0h24v24H0V0z\" fill=\"none\"/>\n",
              "    <path d=\"M18.56 5.44l.94 2.06.94-2.06 2.06-.94-2.06-.94-.94-2.06-.94 2.06-2.06.94zm-11 1L8.5 8.5l.94-2.06 2.06-.94-2.06-.94L8.5 2.5l-.94 2.06-2.06.94zm10 10l.94 2.06.94-2.06 2.06-.94-2.06-.94-.94-2.06-.94 2.06-2.06.94z\"/><path d=\"M17.41 7.96l-1.37-1.37c-.4-.4-.92-.59-1.43-.59-.52 0-1.04.2-1.43.59L10.3 9.45l-7.72 7.72c-.78.78-.78 2.05 0 2.83L4 21.41c.39.39.9.59 1.41.59.51 0 1.02-.2 1.41-.59l7.78-7.78 2.81-2.81c.8-.78.8-2.07 0-2.86zM5.41 20L4 18.59l7.72-7.72 1.47 1.35L5.41 20z\"/>\n",
              "  </svg>\n",
              "      </button>\n",
              "      \n",
              "  <style>\n",
              "    .colab-df-container {\n",
              "      display:flex;\n",
              "      flex-wrap:wrap;\n",
              "      gap: 12px;\n",
              "    }\n",
              "\n",
              "    .colab-df-convert {\n",
              "      background-color: #E8F0FE;\n",
              "      border: none;\n",
              "      border-radius: 50%;\n",
              "      cursor: pointer;\n",
              "      display: none;\n",
              "      fill: #1967D2;\n",
              "      height: 32px;\n",
              "      padding: 0 0 0 0;\n",
              "      width: 32px;\n",
              "    }\n",
              "\n",
              "    .colab-df-convert:hover {\n",
              "      background-color: #E2EBFA;\n",
              "      box-shadow: 0px 1px 2px rgba(60, 64, 67, 0.3), 0px 1px 3px 1px rgba(60, 64, 67, 0.15);\n",
              "      fill: #174EA6;\n",
              "    }\n",
              "\n",
              "    [theme=dark] .colab-df-convert {\n",
              "      background-color: #3B4455;\n",
              "      fill: #D2E3FC;\n",
              "    }\n",
              "\n",
              "    [theme=dark] .colab-df-convert:hover {\n",
              "      background-color: #434B5C;\n",
              "      box-shadow: 0px 1px 3px 1px rgba(0, 0, 0, 0.15);\n",
              "      filter: drop-shadow(0px 1px 2px rgba(0, 0, 0, 0.3));\n",
              "      fill: #FFFFFF;\n",
              "    }\n",
              "  </style>\n",
              "\n",
              "      <script>\n",
              "        const buttonEl =\n",
              "          document.querySelector('#df-1d09af2e-1a51-41e4-a11a-e693eeeae35a button.colab-df-convert');\n",
              "        buttonEl.style.display =\n",
              "          google.colab.kernel.accessAllowed ? 'block' : 'none';\n",
              "\n",
              "        async function convertToInteractive(key) {\n",
              "          const element = document.querySelector('#df-1d09af2e-1a51-41e4-a11a-e693eeeae35a');\n",
              "          const dataTable =\n",
              "            await google.colab.kernel.invokeFunction('convertToInteractive',\n",
              "                                                     [key], {});\n",
              "          if (!dataTable) return;\n",
              "\n",
              "          const docLinkHtml = 'Like what you see? Visit the ' +\n",
              "            '<a target=\"_blank\" href=https://colab.research.google.com/notebooks/data_table.ipynb>data table notebook</a>'\n",
              "            + ' to learn more about interactive tables.';\n",
              "          element.innerHTML = '';\n",
              "          dataTable['output_type'] = 'display_data';\n",
              "          await google.colab.output.renderOutput(dataTable, element);\n",
              "          const docLink = document.createElement('div');\n",
              "          docLink.innerHTML = docLinkHtml;\n",
              "          element.appendChild(docLink);\n",
              "        }\n",
              "      </script>\n",
              "    </div>\n",
              "  </div>\n",
              "  "
            ]
          },
          "metadata": {},
          "execution_count": 6
        }
      ],
      "source": [
        "df.head()"
      ]
    },
    {
      "cell_type": "code",
      "execution_count": null,
      "metadata": {
        "colab": {
          "base_uri": "https://localhost:8080/"
        },
        "id": "_DMxGCm93QxN",
        "outputId": "13399f5b-cca3-4399-ac0b-8893025dc945"
      },
      "outputs": [
        {
          "output_type": "execute_result",
          "data": {
            "text/plain": [
              "BALANCE                               0\n",
              "BALANCE_FREQUENCY                     0\n",
              "PURCHASES                             0\n",
              "ONEOFF_PURCHASES                      0\n",
              "INSTALLMENTS_PURCHASES                0\n",
              "CASH_ADVANCE                          0\n",
              "PURCHASES_FREQUENCY                   0\n",
              "ONEOFF_PURCHASES_FREQUENCY            0\n",
              "PURCHASES_INSTALLMENTS_FREQUENCY      0\n",
              "CASH_ADVANCE_FREQUENCY                0\n",
              "CASH_ADVANCE_TRX                      0\n",
              "PURCHASES_TRX                         0\n",
              "CREDIT_LIMIT                          1\n",
              "PAYMENTS                              0\n",
              "MINIMUM_PAYMENTS                    313\n",
              "PRC_FULL_PAYMENT                      0\n",
              "dtype: int64"
            ]
          },
          "metadata": {},
          "execution_count": 7
        }
      ],
      "source": [
        "missing = df.isna().sum()\n",
        "missing"
      ]
    },
    {
      "cell_type": "code",
      "execution_count": null,
      "metadata": {
        "id": "x99s7rQg3QxO"
      },
      "outputs": [],
      "source": [
        "df.fillna(df.median(), inplace = True)"
      ]
    },
    {
      "cell_type": "code",
      "execution_count": null,
      "metadata": {
        "colab": {
          "base_uri": "https://localhost:8080/"
        },
        "id": "r2fWUxTA3QxP",
        "outputId": "70679215-8222-4941-bb39-ea11435881d8"
      },
      "outputs": [
        {
          "output_type": "execute_result",
          "data": {
            "text/plain": [
              "BALANCE                             0\n",
              "BALANCE_FREQUENCY                   0\n",
              "PURCHASES                           0\n",
              "ONEOFF_PURCHASES                    0\n",
              "INSTALLMENTS_PURCHASES              0\n",
              "CASH_ADVANCE                        0\n",
              "PURCHASES_FREQUENCY                 0\n",
              "ONEOFF_PURCHASES_FREQUENCY          0\n",
              "PURCHASES_INSTALLMENTS_FREQUENCY    0\n",
              "CASH_ADVANCE_FREQUENCY              0\n",
              "CASH_ADVANCE_TRX                    0\n",
              "PURCHASES_TRX                       0\n",
              "CREDIT_LIMIT                        0\n",
              "PAYMENTS                            0\n",
              "MINIMUM_PAYMENTS                    0\n",
              "PRC_FULL_PAYMENT                    0\n",
              "dtype: int64"
            ]
          },
          "metadata": {},
          "execution_count": 9
        }
      ],
      "source": [
        "missing = df.isna().sum()\n",
        "missing"
      ]
    },
    {
      "cell_type": "markdown",
      "metadata": {
        "id": "EiXqe6WD3QxQ"
      },
      "source": [
        "**Normalizando os dados**"
      ]
    },
    {
      "cell_type": "markdown",
      "metadata": {
        "id": "FRS_h7N_3QxR"
      },
      "source": [
        "O próximo passo é normalizar nossos dados. Em alguns atributos relacionados à frequência, teremos um limite que varia de 0 a 1, sendo que 0 é 0% de frequência e 1, por sua vez, significa 100%. Para o atributo de balanço, não teremos a mesma organização de mínimo ou máximo, e isso pode fazer com que o algorítimo gere dados pouco satisfatórios para nós"
      ]
    },
    {
      "cell_type": "markdown",
      "metadata": {
        "id": "CNDH0o9D3QxS"
      },
      "source": [
        "Os valores de cada atributo devem estar no mesmo intervalo, caso contrário o algoritmo de agrupamento pode acabar priorizando somente alguns atributos."
      ]
    },
    {
      "cell_type": "code",
      "execution_count": null,
      "metadata": {
        "id": "CkDMUyZC3QxV"
      },
      "outputs": [],
      "source": [
        "from sklearn.preprocessing import Normalizer\n",
        "values = Normalizer().fit_transform(df.values)"
      ]
    },
    {
      "cell_type": "code",
      "execution_count": null,
      "metadata": {
        "colab": {
          "base_uri": "https://localhost:8080/"
        },
        "id": "4Gw1HU8G3QxW",
        "outputId": "54b858fa-8f79-483f-f765-714f1444f0da"
      },
      "outputs": [
        {
          "output_type": "execute_result",
          "data": {
            "text/plain": [
              "array([[3.93555441e-02, 7.87271593e-04, 9.17958473e-02, ...,\n",
              "        1.94178127e-01, 1.34239194e-01, 0.00000000e+00],\n",
              "       [2.93875903e-01, 8.34231560e-05, 0.00000000e+00, ...,\n",
              "        3.76516684e-01, 9.84037959e-02, 2.03923046e-05],\n",
              "       [3.10798149e-01, 1.24560965e-04, 9.63068011e-02, ...,\n",
              "        7.74852335e-02, 7.81351982e-02, 0.00000000e+00],\n",
              "       ...,\n",
              "       [2.27733092e-02, 8.11060955e-04, 1.40540698e-01, ...,\n",
              "        7.90986945e-02, 8.02156174e-02, 2.43318384e-04],\n",
              "       [2.65257948e-02, 1.64255731e-03, 0.00000000e+00, ...,\n",
              "        1.03579625e-01, 1.09898221e-01, 4.92767391e-04],\n",
              "       [1.86406219e-01, 3.33426837e-04, 5.46778061e-01, ...,\n",
              "        3.15915455e-02, 4.41568390e-02, 0.00000000e+00]])"
            ]
          },
          "metadata": {},
          "execution_count": 11
        }
      ],
      "source": [
        "values"
      ]
    },
    {
      "cell_type": "markdown",
      "metadata": {
        "id": "Nylo6_Ow3QxX"
      },
      "source": [
        "Em seguida, inseriremos o n_init como 10, mas o que isso significa? O KMeans é um algoritmo não-determinístico, isto é, a cada execução, obteremos um resultado diferente. Então configurando o valor 10, dez vezes seguidas o caminho deve retornar o mesmo valor para garantir sua confiabilidade. Basicamente forçamos o algoritmo a ser executado dez vezes."
      ]
    },
    {
      "cell_type": "code",
      "execution_count": null,
      "metadata": {
        "id": "XX9f4-lp3QxX"
      },
      "outputs": [],
      "source": [
        "from sklearn.cluster import KMeans\n",
        "kmeans = KMeans(n_clusters = 5, n_init =10, max_iter = 300)\n",
        "y_pred = kmeans.fit_predict(values)"
      ]
    },
    {
      "cell_type": "markdown",
      "metadata": {
        "id": "A01IxcWz3QxY"
      },
      "source": [
        "**Critérios de validação**"
      ]
    },
    {
      "cell_type": "markdown",
      "metadata": {
        "id": "2-w4bhRY3QxZ"
      },
      "source": [
        "Vamos conhecer algumas métricas de validação existentes, que são dividas basicamente em duas categorias: métricas externas e internas.\n",
        "\n",
        "As métricas internas se baseiam em dois critérios de validação, e o primeiro deles é **compactação**, que nos relata quão próximos estão os pontos em um mesmo cluster. Quanto mais próximos os pontos, mais compactado ele está.\n",
        "\n",
        "O segundo critério de validação é a **separação**, que indica quão bem separados estão os pontos em clusters diferentes. A ideia é justamente o contrário da compactação, quanto mais distantes estão os clusters um dos outros, melhor. Isso significa que estão mais diversificados."
      ]
    },
    {
      "cell_type": "code",
      "execution_count": null,
      "metadata": {
        "id": "iKrLpU5g3Qxa"
      },
      "outputs": [],
      "source": [
        "\n"
      ]
    },
    {
      "cell_type": "markdown",
      "metadata": {
        "id": "IOgpDEQO3Qxb"
      },
      "source": [
        "### Calcuulando Silhouette\n"
      ]
    },
    {
      "cell_type": "code",
      "execution_count": null,
      "metadata": {
        "id": "Fdczl_913Qxc"
      },
      "outputs": [],
      "source": [
        "from sklearn import metrics\n",
        "labels = kmeans.labels_\n",
        "silhouette = metrics.silhouette_score(values, labels, metric ='euclidean')"
      ]
    },
    {
      "cell_type": "markdown",
      "metadata": {
        "id": "7-xLIQpT3Qxd"
      },
      "source": [
        "Um valor mais próximo de 1 indica clusters mais separados uns dos outros."
      ]
    },
    {
      "cell_type": "code",
      "execution_count": null,
      "metadata": {
        "colab": {
          "base_uri": "https://localhost:8080/"
        },
        "id": "FfvNCiAx3Qxe",
        "outputId": "622165a5-80d4-4c2f-9938-8b301cc49867"
      },
      "outputs": [
        {
          "output_type": "execute_result",
          "data": {
            "text/plain": [
              "0.36443927743081506"
            ]
          },
          "metadata": {},
          "execution_count": 14
        }
      ],
      "source": [
        "silhouette"
      ]
    },
    {
      "cell_type": "markdown",
      "metadata": {
        "id": "F4xAOHaD3Qxe"
      },
      "source": [
        "Calculando Davies Bouldin"
      ]
    },
    {
      "cell_type": "code",
      "execution_count": null,
      "metadata": {
        "colab": {
          "base_uri": "https://localhost:8080/"
        },
        "id": "XeLee1ah3Qxf",
        "outputId": "fccd9310-bea7-4a32-fe88-22e6669f20d8"
      },
      "outputs": [
        {
          "output_type": "execute_result",
          "data": {
            "text/plain": [
              "1.0758787031571042"
            ]
          },
          "metadata": {},
          "execution_count": 15
        }
      ],
      "source": [
        "dbs = metrics.davies_bouldin_score(values, labels)\n",
        "dbs"
      ]
    },
    {
      "cell_type": "code",
      "execution_count": null,
      "metadata": {
        "colab": {
          "base_uri": "https://localhost:8080/"
        },
        "id": "DPwmEaZ73Qxg",
        "outputId": "3bed6648-e822-4b13-c062-0dc28884b5a3"
      },
      "outputs": [
        {
          "output_type": "execute_result",
          "data": {
            "text/plain": [
              "3431.782548172111"
            ]
          },
          "metadata": {},
          "execution_count": 16
        }
      ],
      "source": [
        "calinski = metrics.calinski_harabasz_score(values, labels)\n",
        "calinski"
      ]
    },
    {
      "cell_type": "markdown",
      "source": [
        "##Validalçao Relativa\n"
      ],
      "metadata": {
        "id": "gPUr8tPeKYSk"
      }
    },
    {
      "cell_type": "code",
      "source": [
        "from sklearn.cluster import KMeans\n"
      ],
      "metadata": {
        "id": "-Flq_L16Mrjw"
      },
      "execution_count": null,
      "outputs": []
    },
    {
      "cell_type": "code",
      "source": [
        "def clustering_algorithm(n_clusters, df):\n",
        "    kmeans = KMeans(n_clusters=n_clusters, n_init=10, max_iter=300)\n",
        "    labels = kmeans.fit_predict(df)\n",
        "    s = metrics.silhouette_score(df, labels, metric='euclidean')\n",
        "    dbs = metrics.davies_bouldin_score(df, labels)\n",
        "    calinski = metrics.calinski_harabasz_score(df, labels)\n",
        "    return s, dbs, calinski"
      ],
      "metadata": {
        "id": "qybHnm3SNny8"
      },
      "execution_count": null,
      "outputs": []
    },
    {
      "cell_type": "code",
      "source": [
        "s1, dbs1, calinski1 = clustering_algorithm(3, values)\n",
        "print(s1, dbs1, calinski1)"
      ],
      "metadata": {
        "colab": {
          "base_uri": "https://localhost:8080/"
        },
        "id": "rHqZlyzDMXYa",
        "outputId": "d8da6670-9692-4ee7-e3ec-8e651b252f53"
      },
      "execution_count": null,
      "outputs": [
        {
          "output_type": "stream",
          "name": "stdout",
          "text": [
            "0.3272203126696238 1.3096073640088426 3526.440519908274\n"
          ]
        }
      ]
    },
    {
      "cell_type": "markdown",
      "source": [
        "Comparando com um comjunto aleatório\n"
      ],
      "metadata": {
        "id": "6F4NFqqVMbCm"
      }
    },
    {
      "cell_type": "code",
      "source": [
        "df.shape"
      ],
      "metadata": {
        "colab": {
          "base_uri": "https://localhost:8080/"
        },
        "id": "pKVbzQB66Zd1",
        "outputId": "67dec84e-f16d-443b-948e-8aa7e4145034"
      },
      "execution_count": null,
      "outputs": [
        {
          "output_type": "execute_result",
          "data": {
            "text/plain": [
              "(8950, 16)"
            ]
          },
          "metadata": {},
          "execution_count": 20
        }
      ]
    },
    {
      "cell_type": "code",
      "source": [
        "import numpy as np\n",
        "random_df = np.random.rand(8650, 16)\n",
        "s2, dbs2, calinski2 = clustering_algorithm(5, random_df)\n",
        "print(f'Parametros aleatórios: {s2}, {dbs2}, {calinski2}')\n",
        "print(f'Parametros do dataframe : {s1}, {dbs1}, {calinski1}')"
      ],
      "metadata": {
        "colab": {
          "base_uri": "https://localhost:8080/"
        },
        "id": "wc1h43Im6Rk1",
        "outputId": "08415640-718e-4cd2-cde1-b3d1314e0c6d"
      },
      "execution_count": null,
      "outputs": [
        {
          "output_type": "stream",
          "name": "stdout",
          "text": [
            "Parametros aleatórios: 0.040011781559953205, 3.4787118639536323, 293.84160681742776\n",
            "Parametros do dataframe : 0.3272203126696238, 1.3096073640088426, 3526.440519908274\n"
          ]
        }
      ]
    },
    {
      "cell_type": "markdown",
      "source": [
        "Como percebido, o dataframe está muito bom com a validação"
      ],
      "metadata": {
        "id": "DL2w5MFe64rE"
      }
    },
    {
      "cell_type": "markdown",
      "source": [
        "Estabilidade do cluster\n",
        "Objetivo é ser semelhante\n"
      ],
      "metadata": {
        "id": "ymYbE15F7BdI"
      }
    },
    {
      "cell_type": "code",
      "source": [
        "set1, set2, set3 = np.array_split(values, 3)\n",
        "s1, dbs1, calinski1 = clustering_algorithm(5, set1)\n",
        "s2, dbs2, calinski2 = clustering_algorithm(5, set2)\n",
        "s3, dbs3, calinski3 = clustering_algorithm(5, set3)\n",
        "print(s1, dbs1, calinski1)\n",
        "print(s2, dbs2, calinski2)\n",
        "print(s3, dbs3, calinski3)"
      ],
      "metadata": {
        "colab": {
          "base_uri": "https://localhost:8080/"
        },
        "id": "MALinrpU69iS",
        "outputId": "4be3fd02-a969-4432-d773-74169d83bdcd"
      },
      "execution_count": null,
      "outputs": [
        {
          "output_type": "stream",
          "name": "stdout",
          "text": [
            "0.368870543902123 1.0584885126600132 1204.047822901713\n",
            "0.35406999696241026 1.1389554530299943 1194.9454119497243\n",
            "0.3670355256183801 1.09937675801675 1167.5313828364538\n"
          ]
        }
      ]
    },
    {
      "cell_type": "markdown",
      "source": [
        "Assim, os valores obtidos são bem próximos. Isso é bom."
      ],
      "metadata": {
        "id": "YbMyxB0t8IJ_"
      }
    },
    {
      "cell_type": "markdown",
      "source": [
        "### Interpretação dos clusters"
      ],
      "metadata": {
        "id": "i-2Ozh2u8PrG"
      }
    },
    {
      "cell_type": "code",
      "source": [
        "import matplotlib.pyplot as plt"
      ],
      "metadata": {
        "id": "A9hPplg18MPM"
      },
      "execution_count": null,
      "outputs": []
    },
    {
      "cell_type": "code",
      "source": [
        "plt.figure(figsize = (12,6))\n",
        "plt.scatter(df.PURCHASES ,df.PAYMENTS, c = labels, s = 5, cmap = 'rainbow')\n",
        "plt.xlabel('Valor total pago')\n",
        "plt.ylabel('Valor total gasto')\n",
        "\n",
        "plt.show()"
      ],
      "metadata": {
        "colab": {
          "base_uri": "https://localhost:8080/",
          "height": 388
        },
        "id": "m2kE9GPv-eZg",
        "outputId": "3d8e158f-99bd-4d43-bd7c-0861492d003b"
      },
      "execution_count": null,
      "outputs": [
        {
          "output_type": "display_data",
          "data": {
            "text/plain": [
              "<Figure size 864x432 with 1 Axes>"
            ],
            "image/png": "[encoded data removed]"
          },
          "metadata": {
            "needs_background": "light"
          }
        }
      ]
    }
  ],
  "metadata": {
    "kernelspec": {
      "display_name": "Python 3.9.12 ('base')",
      "language": "python",
      "name": "python3"
    },
    "language_info": {
      "codemirror_mode": {
        "name": "ipython",
        "version": 3
      },
      "file_extension": ".py",
      "mimetype": "text/x-python",
      "name": "python",
      "nbconvert_exporter": "python",
      "pygments_lexer": "ipython3",
      "version": "3.9.12"
    },
    "orig_nbformat": 4,
    "vscode": {
      "interpreter": {
        "hash": "7ad2d2b061933ccb46f02c21d4dc257a7efb561c7355abd71f7246fa8dd772fc"
      }
    },
    "colab": {
      "provenance": []
    }
  },
  "nbformat": 4,
  "nbformat_minor": 0
}