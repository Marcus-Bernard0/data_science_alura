{
  "cells": [
    {
      "cell_type": "code",
      "execution_count": 1,
      "metadata": {
        "id": "qklxNM8g3Qw6"
      },
      "outputs": [],
      "source": [
        "import pandas as pd"
      ]
    },
    {
      "cell_type": "markdown",
      "metadata": {
        "id": "oAndW7eo3QxD"
      },
      "source": [
        "Validação e interpretação de clusters  \n",
        "utilizamos a clusterização, que faz parte do aprendizado não supervisionado."
      ]
    },
    {
      "cell_type": "code",
      "execution_count": 2,
      "metadata": {
        "colab": {
          "base_uri": "https://localhost:8080/",
          "height": 270
        },
        "id": "RQIc0ZFk3QxJ",
        "outputId": "8a25cf95-42a9-4074-df4f-3c91642efd12"
      },
      "outputs": [
        {
          "data": {
            "text/html": [
              "<div>\n",
              "<style scoped>\n",
              "    .dataframe tbody tr th:only-of-type {\n",
              "        vertical-align: middle;\n",
              "    }\n",
              "\n",
              "    .dataframe tbody tr th {\n",
              "        vertical-align: top;\n",
              "    }\n",
              "\n",
              "    .dataframe thead th {\n",
              "        text-align: right;\n",
              "    }\n",
              "</style>\n",
              "<table border=\"1\" class=\"dataframe\">\n",
              "  <thead>\n",
              "    <tr style=\"text-align: right;\">\n",
              "      <th></th>\n",
              "      <th>CUST_ID</th>\n",
              "      <th>BALANCE</th>\n",
              "      <th>BALANCE_FREQUENCY</th>\n",
              "      <th>PURCHASES</th>\n",
              "      <th>ONEOFF_PURCHASES</th>\n",
              "      <th>INSTALLMENTS_PURCHASES</th>\n",
              "      <th>CASH_ADVANCE</th>\n",
              "      <th>PURCHASES_FREQUENCY</th>\n",
              "      <th>ONEOFF_PURCHASES_FREQUENCY</th>\n",
              "      <th>PURCHASES_INSTALLMENTS_FREQUENCY</th>\n",
              "      <th>CASH_ADVANCE_FREQUENCY</th>\n",
              "      <th>CASH_ADVANCE_TRX</th>\n",
              "      <th>PURCHASES_TRX</th>\n",
              "      <th>CREDIT_LIMIT</th>\n",
              "      <th>PAYMENTS</th>\n",
              "      <th>MINIMUM_PAYMENTS</th>\n",
              "      <th>PRC_FULL_PAYMENT</th>\n",
              "      <th>TENURE</th>\n",
              "    </tr>\n",
              "  </thead>\n",
              "  <tbody>\n",
              "    <tr>\n",
              "      <th>0</th>\n",
              "      <td>C10001</td>\n",
              "      <td>40.900749</td>\n",
              "      <td>0.818182</td>\n",
              "      <td>95.40</td>\n",
              "      <td>0.00</td>\n",
              "      <td>95.4</td>\n",
              "      <td>0.000000</td>\n",
              "      <td>0.166667</td>\n",
              "      <td>0.000000</td>\n",
              "      <td>0.083333</td>\n",
              "      <td>0.000000</td>\n",
              "      <td>0</td>\n",
              "      <td>2</td>\n",
              "      <td>1000.0</td>\n",
              "      <td>201.802084</td>\n",
              "      <td>139.509787</td>\n",
              "      <td>0.000000</td>\n",
              "      <td>12</td>\n",
              "    </tr>\n",
              "    <tr>\n",
              "      <th>1</th>\n",
              "      <td>C10002</td>\n",
              "      <td>3202.467416</td>\n",
              "      <td>0.909091</td>\n",
              "      <td>0.00</td>\n",
              "      <td>0.00</td>\n",
              "      <td>0.0</td>\n",
              "      <td>6442.945483</td>\n",
              "      <td>0.000000</td>\n",
              "      <td>0.000000</td>\n",
              "      <td>0.000000</td>\n",
              "      <td>0.250000</td>\n",
              "      <td>4</td>\n",
              "      <td>0</td>\n",
              "      <td>7000.0</td>\n",
              "      <td>4103.032597</td>\n",
              "      <td>1072.340217</td>\n",
              "      <td>0.222222</td>\n",
              "      <td>12</td>\n",
              "    </tr>\n",
              "    <tr>\n",
              "      <th>2</th>\n",
              "      <td>C10003</td>\n",
              "      <td>2495.148862</td>\n",
              "      <td>1.000000</td>\n",
              "      <td>773.17</td>\n",
              "      <td>773.17</td>\n",
              "      <td>0.0</td>\n",
              "      <td>0.000000</td>\n",
              "      <td>1.000000</td>\n",
              "      <td>1.000000</td>\n",
              "      <td>0.000000</td>\n",
              "      <td>0.000000</td>\n",
              "      <td>0</td>\n",
              "      <td>12</td>\n",
              "      <td>7500.0</td>\n",
              "      <td>622.066742</td>\n",
              "      <td>627.284787</td>\n",
              "      <td>0.000000</td>\n",
              "      <td>12</td>\n",
              "    </tr>\n",
              "    <tr>\n",
              "      <th>3</th>\n",
              "      <td>C10004</td>\n",
              "      <td>1666.670542</td>\n",
              "      <td>0.636364</td>\n",
              "      <td>1499.00</td>\n",
              "      <td>1499.00</td>\n",
              "      <td>0.0</td>\n",
              "      <td>205.788017</td>\n",
              "      <td>0.083333</td>\n",
              "      <td>0.083333</td>\n",
              "      <td>0.000000</td>\n",
              "      <td>0.083333</td>\n",
              "      <td>1</td>\n",
              "      <td>1</td>\n",
              "      <td>7500.0</td>\n",
              "      <td>0.000000</td>\n",
              "      <td>NaN</td>\n",
              "      <td>0.000000</td>\n",
              "      <td>12</td>\n",
              "    </tr>\n",
              "    <tr>\n",
              "      <th>4</th>\n",
              "      <td>C10005</td>\n",
              "      <td>817.714335</td>\n",
              "      <td>1.000000</td>\n",
              "      <td>16.00</td>\n",
              "      <td>16.00</td>\n",
              "      <td>0.0</td>\n",
              "      <td>0.000000</td>\n",
              "      <td>0.083333</td>\n",
              "      <td>0.083333</td>\n",
              "      <td>0.000000</td>\n",
              "      <td>0.000000</td>\n",
              "      <td>0</td>\n",
              "      <td>1</td>\n",
              "      <td>1200.0</td>\n",
              "      <td>678.334763</td>\n",
              "      <td>244.791237</td>\n",
              "      <td>0.000000</td>\n",
              "      <td>12</td>\n",
              "    </tr>\n",
              "  </tbody>\n",
              "</table>\n",
              "</div>"
            ],
            "text/plain": [
              "  CUST_ID      BALANCE  BALANCE_FREQUENCY  PURCHASES  ONEOFF_PURCHASES  \\\n",
              "0  C10001    40.900749           0.818182      95.40              0.00   \n",
              "1  C10002  3202.467416           0.909091       0.00              0.00   \n",
              "2  C10003  2495.148862           1.000000     773.17            773.17   \n",
              "3  C10004  1666.670542           0.636364    1499.00           1499.00   \n",
              "4  C10005   817.714335           1.000000      16.00             16.00   \n",
              "\n",
              "   INSTALLMENTS_PURCHASES  CASH_ADVANCE  PURCHASES_FREQUENCY  \\\n",
              "0                    95.4      0.000000             0.166667   \n",
              "1                     0.0   6442.945483             0.000000   \n",
              "2                     0.0      0.000000             1.000000   \n",
              "3                     0.0    205.788017             0.083333   \n",
              "4                     0.0      0.000000             0.083333   \n",
              "\n",
              "   ONEOFF_PURCHASES_FREQUENCY  PURCHASES_INSTALLMENTS_FREQUENCY  \\\n",
              "0                    0.000000                          0.083333   \n",
              "1                    0.000000                          0.000000   \n",
              "2                    1.000000                          0.000000   \n",
              "3                    0.083333                          0.000000   \n",
              "4                    0.083333                          0.000000   \n",
              "\n",
              "   CASH_ADVANCE_FREQUENCY  CASH_ADVANCE_TRX  PURCHASES_TRX  CREDIT_LIMIT  \\\n",
              "0                0.000000                 0              2        1000.0   \n",
              "1                0.250000                 4              0        7000.0   \n",
              "2                0.000000                 0             12        7500.0   \n",
              "3                0.083333                 1              1        7500.0   \n",
              "4                0.000000                 0              1        1200.0   \n",
              "\n",
              "      PAYMENTS  MINIMUM_PAYMENTS  PRC_FULL_PAYMENT  TENURE  \n",
              "0   201.802084        139.509787          0.000000      12  \n",
              "1  4103.032597       1072.340217          0.222222      12  \n",
              "2   622.066742        627.284787          0.000000      12  \n",
              "3     0.000000               NaN          0.000000      12  \n",
              "4   678.334763        244.791237          0.000000      12  "
            ]
          },
          "execution_count": 2,
          "metadata": {},
          "output_type": "execute_result"
        }
      ],
      "source": [
        "df = pd.read_csv('CC GENERAL.csv')\n",
        "df.head()"
      ]
    },
    {
      "cell_type": "code",
      "execution_count": 3,
      "metadata": {
        "colab": {
          "base_uri": "https://localhost:8080/"
        },
        "id": "q1A1V9rM3QxK",
        "outputId": "5860fad2-8c36-4912-a874-b05385cd0ace"
      },
      "outputs": [
        {
          "data": {
            "text/plain": [
              "(8950, 18)"
            ]
          },
          "execution_count": 3,
          "metadata": {},
          "output_type": "execute_result"
        }
      ],
      "source": [
        "df.shape"
      ]
    },
    {
      "cell_type": "code",
      "execution_count": 4,
      "metadata": {
        "colab": {
          "base_uri": "https://localhost:8080/",
          "height": 364
        },
        "id": "oz5lAuBF3QxL",
        "outputId": "64a79fcd-cd86-4c28-8559-8f6457a1a3cb"
      },
      "outputs": [
        {
          "data": {
            "text/html": [
              "<div>\n",
              "<style scoped>\n",
              "    .dataframe tbody tr th:only-of-type {\n",
              "        vertical-align: middle;\n",
              "    }\n",
              "\n",
              "    .dataframe tbody tr th {\n",
              "        vertical-align: top;\n",
              "    }\n",
              "\n",
              "    .dataframe thead th {\n",
              "        text-align: right;\n",
              "    }\n",
              "</style>\n",
              "<table border=\"1\" class=\"dataframe\">\n",
              "  <thead>\n",
              "    <tr style=\"text-align: right;\">\n",
              "      <th></th>\n",
              "      <th>BALANCE</th>\n",
              "      <th>BALANCE_FREQUENCY</th>\n",
              "      <th>PURCHASES</th>\n",
              "      <th>ONEOFF_PURCHASES</th>\n",
              "      <th>INSTALLMENTS_PURCHASES</th>\n",
              "      <th>CASH_ADVANCE</th>\n",
              "      <th>PURCHASES_FREQUENCY</th>\n",
              "      <th>ONEOFF_PURCHASES_FREQUENCY</th>\n",
              "      <th>PURCHASES_INSTALLMENTS_FREQUENCY</th>\n",
              "      <th>CASH_ADVANCE_FREQUENCY</th>\n",
              "      <th>CASH_ADVANCE_TRX</th>\n",
              "      <th>PURCHASES_TRX</th>\n",
              "      <th>CREDIT_LIMIT</th>\n",
              "      <th>PAYMENTS</th>\n",
              "      <th>MINIMUM_PAYMENTS</th>\n",
              "      <th>PRC_FULL_PAYMENT</th>\n",
              "      <th>TENURE</th>\n",
              "    </tr>\n",
              "  </thead>\n",
              "  <tbody>\n",
              "    <tr>\n",
              "      <th>count</th>\n",
              "      <td>8950.000000</td>\n",
              "      <td>8950.000000</td>\n",
              "      <td>8950.000000</td>\n",
              "      <td>8950.000000</td>\n",
              "      <td>8950.000000</td>\n",
              "      <td>8950.000000</td>\n",
              "      <td>8950.000000</td>\n",
              "      <td>8950.000000</td>\n",
              "      <td>8950.000000</td>\n",
              "      <td>8950.000000</td>\n",
              "      <td>8950.000000</td>\n",
              "      <td>8950.000000</td>\n",
              "      <td>8949.000000</td>\n",
              "      <td>8950.000000</td>\n",
              "      <td>8637.000000</td>\n",
              "      <td>8950.000000</td>\n",
              "      <td>8950.000000</td>\n",
              "    </tr>\n",
              "    <tr>\n",
              "      <th>mean</th>\n",
              "      <td>1564.474828</td>\n",
              "      <td>0.877271</td>\n",
              "      <td>1003.204834</td>\n",
              "      <td>592.437371</td>\n",
              "      <td>411.067645</td>\n",
              "      <td>978.871112</td>\n",
              "      <td>0.490351</td>\n",
              "      <td>0.202458</td>\n",
              "      <td>0.364437</td>\n",
              "      <td>0.135144</td>\n",
              "      <td>3.248827</td>\n",
              "      <td>14.709832</td>\n",
              "      <td>4494.449450</td>\n",
              "      <td>1733.143852</td>\n",
              "      <td>864.206542</td>\n",
              "      <td>0.153715</td>\n",
              "      <td>11.517318</td>\n",
              "    </tr>\n",
              "    <tr>\n",
              "      <th>std</th>\n",
              "      <td>2081.531879</td>\n",
              "      <td>0.236904</td>\n",
              "      <td>2136.634782</td>\n",
              "      <td>1659.887917</td>\n",
              "      <td>904.338115</td>\n",
              "      <td>2097.163877</td>\n",
              "      <td>0.401371</td>\n",
              "      <td>0.298336</td>\n",
              "      <td>0.397448</td>\n",
              "      <td>0.200121</td>\n",
              "      <td>6.824647</td>\n",
              "      <td>24.857649</td>\n",
              "      <td>3638.815725</td>\n",
              "      <td>2895.063757</td>\n",
              "      <td>2372.446607</td>\n",
              "      <td>0.292499</td>\n",
              "      <td>1.338331</td>\n",
              "    </tr>\n",
              "    <tr>\n",
              "      <th>min</th>\n",
              "      <td>0.000000</td>\n",
              "      <td>0.000000</td>\n",
              "      <td>0.000000</td>\n",
              "      <td>0.000000</td>\n",
              "      <td>0.000000</td>\n",
              "      <td>0.000000</td>\n",
              "      <td>0.000000</td>\n",
              "      <td>0.000000</td>\n",
              "      <td>0.000000</td>\n",
              "      <td>0.000000</td>\n",
              "      <td>0.000000</td>\n",
              "      <td>0.000000</td>\n",
              "      <td>50.000000</td>\n",
              "      <td>0.000000</td>\n",
              "      <td>0.019163</td>\n",
              "      <td>0.000000</td>\n",
              "      <td>6.000000</td>\n",
              "    </tr>\n",
              "    <tr>\n",
              "      <th>25%</th>\n",
              "      <td>128.281915</td>\n",
              "      <td>0.888889</td>\n",
              "      <td>39.635000</td>\n",
              "      <td>0.000000</td>\n",
              "      <td>0.000000</td>\n",
              "      <td>0.000000</td>\n",
              "      <td>0.083333</td>\n",
              "      <td>0.000000</td>\n",
              "      <td>0.000000</td>\n",
              "      <td>0.000000</td>\n",
              "      <td>0.000000</td>\n",
              "      <td>1.000000</td>\n",
              "      <td>1600.000000</td>\n",
              "      <td>383.276166</td>\n",
              "      <td>169.123707</td>\n",
              "      <td>0.000000</td>\n",
              "      <td>12.000000</td>\n",
              "    </tr>\n",
              "    <tr>\n",
              "      <th>50%</th>\n",
              "      <td>873.385231</td>\n",
              "      <td>1.000000</td>\n",
              "      <td>361.280000</td>\n",
              "      <td>38.000000</td>\n",
              "      <td>89.000000</td>\n",
              "      <td>0.000000</td>\n",
              "      <td>0.500000</td>\n",
              "      <td>0.083333</td>\n",
              "      <td>0.166667</td>\n",
              "      <td>0.000000</td>\n",
              "      <td>0.000000</td>\n",
              "      <td>7.000000</td>\n",
              "      <td>3000.000000</td>\n",
              "      <td>856.901546</td>\n",
              "      <td>312.343947</td>\n",
              "      <td>0.000000</td>\n",
              "      <td>12.000000</td>\n",
              "    </tr>\n",
              "    <tr>\n",
              "      <th>75%</th>\n",
              "      <td>2054.140036</td>\n",
              "      <td>1.000000</td>\n",
              "      <td>1110.130000</td>\n",
              "      <td>577.405000</td>\n",
              "      <td>468.637500</td>\n",
              "      <td>1113.821139</td>\n",
              "      <td>0.916667</td>\n",
              "      <td>0.300000</td>\n",
              "      <td>0.750000</td>\n",
              "      <td>0.222222</td>\n",
              "      <td>4.000000</td>\n",
              "      <td>17.000000</td>\n",
              "      <td>6500.000000</td>\n",
              "      <td>1901.134317</td>\n",
              "      <td>825.485459</td>\n",
              "      <td>0.142857</td>\n",
              "      <td>12.000000</td>\n",
              "    </tr>\n",
              "    <tr>\n",
              "      <th>max</th>\n",
              "      <td>19043.138560</td>\n",
              "      <td>1.000000</td>\n",
              "      <td>49039.570000</td>\n",
              "      <td>40761.250000</td>\n",
              "      <td>22500.000000</td>\n",
              "      <td>47137.211760</td>\n",
              "      <td>1.000000</td>\n",
              "      <td>1.000000</td>\n",
              "      <td>1.000000</td>\n",
              "      <td>1.500000</td>\n",
              "      <td>123.000000</td>\n",
              "      <td>358.000000</td>\n",
              "      <td>30000.000000</td>\n",
              "      <td>50721.483360</td>\n",
              "      <td>76406.207520</td>\n",
              "      <td>1.000000</td>\n",
              "      <td>12.000000</td>\n",
              "    </tr>\n",
              "  </tbody>\n",
              "</table>\n",
              "</div>"
            ],
            "text/plain": [
              "            BALANCE  BALANCE_FREQUENCY     PURCHASES  ONEOFF_PURCHASES  \\\n",
              "count   8950.000000        8950.000000   8950.000000       8950.000000   \n",
              "mean    1564.474828           0.877271   1003.204834        592.437371   \n",
              "std     2081.531879           0.236904   2136.634782       1659.887917   \n",
              "min        0.000000           0.000000      0.000000          0.000000   \n",
              "25%      128.281915           0.888889     39.635000          0.000000   \n",
              "50%      873.385231           1.000000    361.280000         38.000000   \n",
              "75%     2054.140036           1.000000   1110.130000        577.405000   \n",
              "max    19043.138560           1.000000  49039.570000      40761.250000   \n",
              "\n",
              "       INSTALLMENTS_PURCHASES  CASH_ADVANCE  PURCHASES_FREQUENCY  \\\n",
              "count             8950.000000   8950.000000          8950.000000   \n",
              "mean               411.067645    978.871112             0.490351   \n",
              "std                904.338115   2097.163877             0.401371   \n",
              "min                  0.000000      0.000000             0.000000   \n",
              "25%                  0.000000      0.000000             0.083333   \n",
              "50%                 89.000000      0.000000             0.500000   \n",
              "75%                468.637500   1113.821139             0.916667   \n",
              "max              22500.000000  47137.211760             1.000000   \n",
              "\n",
              "       ONEOFF_PURCHASES_FREQUENCY  PURCHASES_INSTALLMENTS_FREQUENCY  \\\n",
              "count                 8950.000000                       8950.000000   \n",
              "mean                     0.202458                          0.364437   \n",
              "std                      0.298336                          0.397448   \n",
              "min                      0.000000                          0.000000   \n",
              "25%                      0.000000                          0.000000   \n",
              "50%                      0.083333                          0.166667   \n",
              "75%                      0.300000                          0.750000   \n",
              "max                      1.000000                          1.000000   \n",
              "\n",
              "       CASH_ADVANCE_FREQUENCY  CASH_ADVANCE_TRX  PURCHASES_TRX  CREDIT_LIMIT  \\\n",
              "count             8950.000000       8950.000000    8950.000000   8949.000000   \n",
              "mean                 0.135144          3.248827      14.709832   4494.449450   \n",
              "std                  0.200121          6.824647      24.857649   3638.815725   \n",
              "min                  0.000000          0.000000       0.000000     50.000000   \n",
              "25%                  0.000000          0.000000       1.000000   1600.000000   \n",
              "50%                  0.000000          0.000000       7.000000   3000.000000   \n",
              "75%                  0.222222          4.000000      17.000000   6500.000000   \n",
              "max                  1.500000        123.000000     358.000000  30000.000000   \n",
              "\n",
              "           PAYMENTS  MINIMUM_PAYMENTS  PRC_FULL_PAYMENT       TENURE  \n",
              "count   8950.000000       8637.000000       8950.000000  8950.000000  \n",
              "mean    1733.143852        864.206542          0.153715    11.517318  \n",
              "std     2895.063757       2372.446607          0.292499     1.338331  \n",
              "min        0.000000          0.019163          0.000000     6.000000  \n",
              "25%      383.276166        169.123707          0.000000    12.000000  \n",
              "50%      856.901546        312.343947          0.000000    12.000000  \n",
              "75%     1901.134317        825.485459          0.142857    12.000000  \n",
              "max    50721.483360      76406.207520          1.000000    12.000000  "
            ]
          },
          "execution_count": 4,
          "metadata": {},
          "output_type": "execute_result"
        }
      ],
      "source": [
        "df.describe()"
      ]
    },
    {
      "cell_type": "code",
      "execution_count": 5,
      "metadata": {
        "id": "0_jLDsg_3QxM"
      },
      "outputs": [],
      "source": [
        "df.drop(columns = ['CUST_ID', 'TENURE'], inplace = True)"
      ]
    },
    {
      "cell_type": "code",
      "execution_count": 6,
      "metadata": {
        "colab": {
          "base_uri": "https://localhost:8080/",
          "height": 270
        },
        "id": "wq1yhsvU3QxM",
        "outputId": "cc64279d-cc6e-4eb4-df97-f34441939268"
      },
      "outputs": [
        {
          "data": {
            "text/html": [
              "<div>\n",
              "<style scoped>\n",
              "    .dataframe tbody tr th:only-of-type {\n",
              "        vertical-align: middle;\n",
              "    }\n",
              "\n",
              "    .dataframe tbody tr th {\n",
              "        vertical-align: top;\n",
              "    }\n",
              "\n",
              "    .dataframe thead th {\n",
              "        text-align: right;\n",
              "    }\n",
              "</style>\n",
              "<table border=\"1\" class=\"dataframe\">\n",
              "  <thead>\n",
              "    <tr style=\"text-align: right;\">\n",
              "      <th></th>\n",
              "      <th>BALANCE</th>\n",
              "      <th>BALANCE_FREQUENCY</th>\n",
              "      <th>PURCHASES</th>\n",
              "      <th>ONEOFF_PURCHASES</th>\n",
              "      <th>INSTALLMENTS_PURCHASES</th>\n",
              "      <th>CASH_ADVANCE</th>\n",
              "      <th>PURCHASES_FREQUENCY</th>\n",
              "      <th>ONEOFF_PURCHASES_FREQUENCY</th>\n",
              "      <th>PURCHASES_INSTALLMENTS_FREQUENCY</th>\n",
              "      <th>CASH_ADVANCE_FREQUENCY</th>\n",
              "      <th>CASH_ADVANCE_TRX</th>\n",
              "      <th>PURCHASES_TRX</th>\n",
              "      <th>CREDIT_LIMIT</th>\n",
              "      <th>PAYMENTS</th>\n",
              "      <th>MINIMUM_PAYMENTS</th>\n",
              "      <th>PRC_FULL_PAYMENT</th>\n",
              "    </tr>\n",
              "  </thead>\n",
              "  <tbody>\n",
              "    <tr>\n",
              "      <th>0</th>\n",
              "      <td>40.900749</td>\n",
              "      <td>0.818182</td>\n",
              "      <td>95.40</td>\n",
              "      <td>0.00</td>\n",
              "      <td>95.4</td>\n",
              "      <td>0.000000</td>\n",
              "      <td>0.166667</td>\n",
              "      <td>0.000000</td>\n",
              "      <td>0.083333</td>\n",
              "      <td>0.000000</td>\n",
              "      <td>0</td>\n",
              "      <td>2</td>\n",
              "      <td>1000.0</td>\n",
              "      <td>201.802084</td>\n",
              "      <td>139.509787</td>\n",
              "      <td>0.000000</td>\n",
              "    </tr>\n",
              "    <tr>\n",
              "      <th>1</th>\n",
              "      <td>3202.467416</td>\n",
              "      <td>0.909091</td>\n",
              "      <td>0.00</td>\n",
              "      <td>0.00</td>\n",
              "      <td>0.0</td>\n",
              "      <td>6442.945483</td>\n",
              "      <td>0.000000</td>\n",
              "      <td>0.000000</td>\n",
              "      <td>0.000000</td>\n",
              "      <td>0.250000</td>\n",
              "      <td>4</td>\n",
              "      <td>0</td>\n",
              "      <td>7000.0</td>\n",
              "      <td>4103.032597</td>\n",
              "      <td>1072.340217</td>\n",
              "      <td>0.222222</td>\n",
              "    </tr>\n",
              "    <tr>\n",
              "      <th>2</th>\n",
              "      <td>2495.148862</td>\n",
              "      <td>1.000000</td>\n",
              "      <td>773.17</td>\n",
              "      <td>773.17</td>\n",
              "      <td>0.0</td>\n",
              "      <td>0.000000</td>\n",
              "      <td>1.000000</td>\n",
              "      <td>1.000000</td>\n",
              "      <td>0.000000</td>\n",
              "      <td>0.000000</td>\n",
              "      <td>0</td>\n",
              "      <td>12</td>\n",
              "      <td>7500.0</td>\n",
              "      <td>622.066742</td>\n",
              "      <td>627.284787</td>\n",
              "      <td>0.000000</td>\n",
              "    </tr>\n",
              "    <tr>\n",
              "      <th>3</th>\n",
              "      <td>1666.670542</td>\n",
              "      <td>0.636364</td>\n",
              "      <td>1499.00</td>\n",
              "      <td>1499.00</td>\n",
              "      <td>0.0</td>\n",
              "      <td>205.788017</td>\n",
              "      <td>0.083333</td>\n",
              "      <td>0.083333</td>\n",
              "      <td>0.000000</td>\n",
              "      <td>0.083333</td>\n",
              "      <td>1</td>\n",
              "      <td>1</td>\n",
              "      <td>7500.0</td>\n",
              "      <td>0.000000</td>\n",
              "      <td>NaN</td>\n",
              "      <td>0.000000</td>\n",
              "    </tr>\n",
              "    <tr>\n",
              "      <th>4</th>\n",
              "      <td>817.714335</td>\n",
              "      <td>1.000000</td>\n",
              "      <td>16.00</td>\n",
              "      <td>16.00</td>\n",
              "      <td>0.0</td>\n",
              "      <td>0.000000</td>\n",
              "      <td>0.083333</td>\n",
              "      <td>0.083333</td>\n",
              "      <td>0.000000</td>\n",
              "      <td>0.000000</td>\n",
              "      <td>0</td>\n",
              "      <td>1</td>\n",
              "      <td>1200.0</td>\n",
              "      <td>678.334763</td>\n",
              "      <td>244.791237</td>\n",
              "      <td>0.000000</td>\n",
              "    </tr>\n",
              "  </tbody>\n",
              "</table>\n",
              "</div>"
            ],
            "text/plain": [
              "       BALANCE  BALANCE_FREQUENCY  PURCHASES  ONEOFF_PURCHASES  \\\n",
              "0    40.900749           0.818182      95.40              0.00   \n",
              "1  3202.467416           0.909091       0.00              0.00   \n",
              "2  2495.148862           1.000000     773.17            773.17   \n",
              "3  1666.670542           0.636364    1499.00           1499.00   \n",
              "4   817.714335           1.000000      16.00             16.00   \n",
              "\n",
              "   INSTALLMENTS_PURCHASES  CASH_ADVANCE  PURCHASES_FREQUENCY  \\\n",
              "0                    95.4      0.000000             0.166667   \n",
              "1                     0.0   6442.945483             0.000000   \n",
              "2                     0.0      0.000000             1.000000   \n",
              "3                     0.0    205.788017             0.083333   \n",
              "4                     0.0      0.000000             0.083333   \n",
              "\n",
              "   ONEOFF_PURCHASES_FREQUENCY  PURCHASES_INSTALLMENTS_FREQUENCY  \\\n",
              "0                    0.000000                          0.083333   \n",
              "1                    0.000000                          0.000000   \n",
              "2                    1.000000                          0.000000   \n",
              "3                    0.083333                          0.000000   \n",
              "4                    0.083333                          0.000000   \n",
              "\n",
              "   CASH_ADVANCE_FREQUENCY  CASH_ADVANCE_TRX  PURCHASES_TRX  CREDIT_LIMIT  \\\n",
              "0                0.000000                 0              2        1000.0   \n",
              "1                0.250000                 4              0        7000.0   \n",
              "2                0.000000                 0             12        7500.0   \n",
              "3                0.083333                 1              1        7500.0   \n",
              "4                0.000000                 0              1        1200.0   \n",
              "\n",
              "      PAYMENTS  MINIMUM_PAYMENTS  PRC_FULL_PAYMENT  \n",
              "0   201.802084        139.509787          0.000000  \n",
              "1  4103.032597       1072.340217          0.222222  \n",
              "2   622.066742        627.284787          0.000000  \n",
              "3     0.000000               NaN          0.000000  \n",
              "4   678.334763        244.791237          0.000000  "
            ]
          },
          "execution_count": 6,
          "metadata": {},
          "output_type": "execute_result"
        }
      ],
      "source": [
        "df.head()"
      ]
    },
    {
      "cell_type": "code",
      "execution_count": 7,
      "metadata": {
        "colab": {
          "base_uri": "https://localhost:8080/"
        },
        "id": "_DMxGCm93QxN",
        "outputId": "13399f5b-cca3-4399-ac0b-8893025dc945"
      },
      "outputs": [
        {
          "data": {
            "text/plain": [
              "BALANCE                               0\n",
              "BALANCE_FREQUENCY                     0\n",
              "PURCHASES                             0\n",
              "ONEOFF_PURCHASES                      0\n",
              "INSTALLMENTS_PURCHASES                0\n",
              "CASH_ADVANCE                          0\n",
              "PURCHASES_FREQUENCY                   0\n",
              "ONEOFF_PURCHASES_FREQUENCY            0\n",
              "PURCHASES_INSTALLMENTS_FREQUENCY      0\n",
              "CASH_ADVANCE_FREQUENCY                0\n",
              "CASH_ADVANCE_TRX                      0\n",
              "PURCHASES_TRX                         0\n",
              "CREDIT_LIMIT                          1\n",
              "PAYMENTS                              0\n",
              "MINIMUM_PAYMENTS                    313\n",
              "PRC_FULL_PAYMENT                      0\n",
              "dtype: int64"
            ]
          },
          "execution_count": 7,
          "metadata": {},
          "output_type": "execute_result"
        }
      ],
      "source": [
        "missing = df.isna().sum()\n",
        "missing"
      ]
    },
    {
      "cell_type": "code",
      "execution_count": 8,
      "metadata": {
        "id": "x99s7rQg3QxO"
      },
      "outputs": [],
      "source": [
        "df.fillna(df.median(), inplace = True)"
      ]
    },
    {
      "cell_type": "code",
      "execution_count": 9,
      "metadata": {
        "colab": {
          "base_uri": "https://localhost:8080/"
        },
        "id": "r2fWUxTA3QxP",
        "outputId": "70679215-8222-4941-bb39-ea11435881d8"
      },
      "outputs": [
        {
          "data": {
            "text/plain": [
              "BALANCE                             0\n",
              "BALANCE_FREQUENCY                   0\n",
              "PURCHASES                           0\n",
              "ONEOFF_PURCHASES                    0\n",
              "INSTALLMENTS_PURCHASES              0\n",
              "CASH_ADVANCE                        0\n",
              "PURCHASES_FREQUENCY                 0\n",
              "ONEOFF_PURCHASES_FREQUENCY          0\n",
              "PURCHASES_INSTALLMENTS_FREQUENCY    0\n",
              "CASH_ADVANCE_FREQUENCY              0\n",
              "CASH_ADVANCE_TRX                    0\n",
              "PURCHASES_TRX                       0\n",
              "CREDIT_LIMIT                        0\n",
              "PAYMENTS                            0\n",
              "MINIMUM_PAYMENTS                    0\n",
              "PRC_FULL_PAYMENT                    0\n",
              "dtype: int64"
            ]
          },
          "execution_count": 9,
          "metadata": {},
          "output_type": "execute_result"
        }
      ],
      "source": [
        "missing = df.isna().sum()\n",
        "missing"
      ]
    },
    {
      "cell_type": "markdown",
      "metadata": {
        "id": "EiXqe6WD3QxQ"
      },
      "source": [
        "**Normalizando os dados**"
      ]
    },
    {
      "cell_type": "markdown",
      "metadata": {
        "id": "FRS_h7N_3QxR"
      },
      "source": [
        "O próximo passo é normalizar nossos dados. Em alguns atributos relacionados à frequência, teremos um limite que varia de 0 a 1, sendo que 0 é 0% de frequência e 1, por sua vez, significa 100%. Para o atributo de balanço, não teremos a mesma organização de mínimo ou máximo, e isso pode fazer com que o algorítimo gere dados pouco satisfatórios para nós"
      ]
    },
    {
      "cell_type": "markdown",
      "metadata": {
        "id": "CNDH0o9D3QxS"
      },
      "source": [
        "Os valores de cada atributo devem estar no mesmo intervalo, caso contrário o algoritmo de agrupamento pode acabar priorizando somente alguns atributos."
      ]
    },
    {
      "cell_type": "code",
      "execution_count": 10,
      "metadata": {
        "id": "CkDMUyZC3QxV"
      },
      "outputs": [],
      "source": [
        "from sklearn.preprocessing import Normalizer\n",
        "values = Normalizer().fit_transform(df.values)"
      ]
    },
    {
      "cell_type": "code",
      "execution_count": 11,
      "metadata": {
        "colab": {
          "base_uri": "https://localhost:8080/"
        },
        "id": "4Gw1HU8G3QxW",
        "outputId": "54b858fa-8f79-483f-f765-714f1444f0da"
      },
      "outputs": [
        {
          "data": {
            "text/plain": [
              "array([[3.93555441e-02, 7.87271593e-04, 9.17958473e-02, ...,\n",
              "        1.94178127e-01, 1.34239194e-01, 0.00000000e+00],\n",
              "       [2.93875903e-01, 8.34231560e-05, 0.00000000e+00, ...,\n",
              "        3.76516684e-01, 9.84037959e-02, 2.03923046e-05],\n",
              "       [3.10798149e-01, 1.24560965e-04, 9.63068011e-02, ...,\n",
              "        7.74852335e-02, 7.81351982e-02, 0.00000000e+00],\n",
              "       ...,\n",
              "       [2.27733092e-02, 8.11060955e-04, 1.40540698e-01, ...,\n",
              "        7.90986945e-02, 8.02156174e-02, 2.43318384e-04],\n",
              "       [2.65257948e-02, 1.64255731e-03, 0.00000000e+00, ...,\n",
              "        1.03579625e-01, 1.09898221e-01, 4.92767391e-04],\n",
              "       [1.86406219e-01, 3.33426837e-04, 5.46778061e-01, ...,\n",
              "        3.15915455e-02, 4.41568390e-02, 0.00000000e+00]])"
            ]
          },
          "execution_count": 11,
          "metadata": {},
          "output_type": "execute_result"
        }
      ],
      "source": [
        "values"
      ]
    },
    {
      "cell_type": "markdown",
      "metadata": {
        "id": "Nylo6_Ow3QxX"
      },
      "source": [
        "Em seguida, inseriremos o n_init como 10, mas o que isso significa? O KMeans é um algoritmo não-determinístico, isto é, a cada execução, obteremos um resultado diferente. Então configurando o valor 10, dez vezes seguidas o caminho deve retornar o mesmo valor para garantir sua confiabilidade. Basicamente forçamos o algoritmo a ser executado dez vezes."
      ]
    },
    {
      "cell_type": "code",
      "execution_count": 12,
      "metadata": {
        "id": "XX9f4-lp3QxX"
      },
      "outputs": [],
      "source": [
        "from sklearn.cluster import KMeans\n",
        "kmeans = KMeans(n_clusters = 5, n_init =10, max_iter = 300)\n",
        "y_pred = kmeans.fit_predict(values)"
      ]
    },
    {
      "cell_type": "markdown",
      "metadata": {
        "id": "A01IxcWz3QxY"
      },
      "source": [
        "**Critérios de validação**"
      ]
    },
    {
      "cell_type": "markdown",
      "metadata": {
        "id": "2-w4bhRY3QxZ"
      },
      "source": [
        "Vamos conhecer algumas métricas de validação existentes, que são dividas basicamente em duas categorias: métricas externas e internas.\n",
        "\n",
        "As métricas internas se baseiam em dois critérios de validação, e o primeiro deles é **compactação**, que nos relata quão próximos estão os pontos em um mesmo cluster. Quanto mais próximos os pontos, mais compactado ele está.\n",
        "\n",
        "O segundo critério de validação é a **separação**, que indica quão bem separados estão os pontos em clusters diferentes. A ideia é justamente o contrário da compactação, quanto mais distantes estão os clusters um dos outros, melhor. Isso significa que estão mais diversificados."
      ]
    },
    {
      "cell_type": "markdown",
      "metadata": {
        "id": "IOgpDEQO3Qxb"
      },
      "source": [
        "### Calcuulando Silhouette\n"
      ]
    },
    {
      "cell_type": "code",
      "execution_count": 13,
      "metadata": {
        "id": "Fdczl_913Qxc"
      },
      "outputs": [],
      "source": [
        "from sklearn import metrics\n",
        "labels = kmeans.labels_\n",
        "silhouette = metrics.silhouette_score(values, labels, metric ='euclidean')"
      ]
    },
    {
      "cell_type": "markdown",
      "metadata": {
        "id": "7-xLIQpT3Qxd"
      },
      "source": [
        "Um valor mais próximo de 1 indica clusters mais separados uns dos outros."
      ]
    },
    {
      "cell_type": "code",
      "execution_count": 14,
      "metadata": {
        "colab": {
          "base_uri": "https://localhost:8080/"
        },
        "id": "FfvNCiAx3Qxe",
        "outputId": "622165a5-80d4-4c2f-9938-8b301cc49867"
      },
      "outputs": [
        {
          "data": {
            "text/plain": [
              "0.3646017628085195"
            ]
          },
          "execution_count": 14,
          "metadata": {},
          "output_type": "execute_result"
        }
      ],
      "source": [
        "silhouette"
      ]
    },
    {
      "attachments": {},
      "cell_type": "markdown",
      "metadata": {},
      "source": [
        "---"
      ]
    },
    {
      "attachments": {},
      "cell_type": "markdown",
      "metadata": {
        "id": "F4xAOHaD3Qxe"
      },
      "source": [
        "## Calculando Davies Bouldin\n",
        "\n",
        "- Relação ao centróide\n",
        "- Quanto mais próximo de 0, melhor"
      ]
    },
    {
      "cell_type": "code",
      "execution_count": 15,
      "metadata": {
        "colab": {
          "base_uri": "https://localhost:8080/"
        },
        "id": "XeLee1ah3Qxf",
        "outputId": "fccd9310-bea7-4a32-fe88-22e6669f20d8"
      },
      "outputs": [
        {
          "data": {
            "text/plain": [
              "1.0753510081923618"
            ]
          },
          "execution_count": 15,
          "metadata": {},
          "output_type": "execute_result"
        }
      ],
      "source": [
        "dbs = metrics.davies_bouldin_score(values, labels)\n",
        "dbs"
      ]
    },
    {
      "cell_type": "code",
      "execution_count": 16,
      "metadata": {
        "colab": {
          "base_uri": "https://localhost:8080/"
        },
        "id": "DPwmEaZ73Qxg",
        "outputId": "3bed6648-e822-4b13-c062-0dc28884b5a3"
      },
      "outputs": [
        {
          "data": {
            "text/plain": [
              "3431.783254564093"
            ]
          },
          "execution_count": 16,
          "metadata": {},
          "output_type": "execute_result"
        }
      ],
      "source": [
        "calinski = metrics.calinski_harabasz_score(values, labels)\n",
        "calinski"
      ]
    },
    {
      "attachments": {},
      "cell_type": "markdown",
      "metadata": {
        "id": "gPUr8tPeKYSk"
      },
      "source": [
        "## Validalçao Relativa\n"
      ]
    },
    {
      "cell_type": "code",
      "execution_count": 17,
      "metadata": {
        "id": "-Flq_L16Mrjw"
      },
      "outputs": [],
      "source": [
        "from sklearn.cluster import KMeans\n"
      ]
    },
    {
      "cell_type": "code",
      "execution_count": 18,
      "metadata": {
        "id": "qybHnm3SNny8"
      },
      "outputs": [],
      "source": [
        "def clustering_algorithm(n_clusters, df):\n",
        "    kmeans = KMeans(n_clusters=n_clusters, n_init=10, max_iter=300)\n",
        "    labels = kmeans.fit_predict(df)\n",
        "    s = metrics.silhouette_score(df, labels, metric='euclidean')\n",
        "    dbs = metrics.davies_bouldin_score(df, labels)\n",
        "    calinski = metrics.calinski_harabasz_score(df, labels)\n",
        "    return s, dbs, calinski"
      ]
    },
    {
      "cell_type": "code",
      "execution_count": 19,
      "metadata": {
        "colab": {
          "base_uri": "https://localhost:8080/"
        },
        "id": "rHqZlyzDMXYa",
        "outputId": "d8da6670-9692-4ee7-e3ec-8e651b252f53"
      },
      "outputs": [
        {
          "name": "stdout",
          "output_type": "stream",
          "text": [
            "0.3271492812992462 1.3096284719241689 3526.4511418777784\n"
          ]
        }
      ],
      "source": [
        "s1, dbs1, calinski1 = clustering_algorithm(3, values)\n",
        "print(s1, dbs1, calinski1)"
      ]
    },
    {
      "attachments": {},
      "cell_type": "markdown",
      "metadata": {
        "id": "6F4NFqqVMbCm"
      },
      "source": [
        "Comparando com um conjunto aleatório\n"
      ]
    },
    {
      "cell_type": "code",
      "execution_count": 20,
      "metadata": {
        "colab": {
          "base_uri": "https://localhost:8080/"
        },
        "id": "pKVbzQB66Zd1",
        "outputId": "67dec84e-f16d-443b-948e-8aa7e4145034"
      },
      "outputs": [
        {
          "data": {
            "text/plain": [
              "(8950, 16)"
            ]
          },
          "execution_count": 20,
          "metadata": {},
          "output_type": "execute_result"
        }
      ],
      "source": [
        "df.shape"
      ]
    },
    {
      "cell_type": "code",
      "execution_count": 21,
      "metadata": {
        "colab": {
          "base_uri": "https://localhost:8080/"
        },
        "id": "wc1h43Im6Rk1",
        "outputId": "08415640-718e-4cd2-cde1-b3d1314e0c6d"
      },
      "outputs": [
        {
          "name": "stdout",
          "output_type": "stream",
          "text": [
            "Parametros aleatórios: 0.04003914414809834, 3.484870313378449, 294.2970550347653\n",
            "Parametros do dataframe : 0.3271492812992462, 1.3096284719241689, 3526.4511418777784\n"
          ]
        }
      ],
      "source": [
        "import numpy as np\n",
        "random_df = np.random.rand(8650, 16)\n",
        "s2, dbs2, calinski2 = clustering_algorithm(5, random_df)\n",
        "print(f'Parametros aleatórios: {s2}, {dbs2}, {calinski2}')\n",
        "print(f'Parametros do dataframe : {s1}, {dbs1}, {calinski1}')"
      ]
    },
    {
      "cell_type": "markdown",
      "metadata": {
        "id": "DL2w5MFe64rE"
      },
      "source": [
        "Como percebido, o dataframe está muito bom com a validação"
      ]
    },
    {
      "cell_type": "markdown",
      "metadata": {
        "id": "ymYbE15F7BdI"
      },
      "source": [
        "Estabilidade do cluster\n",
        "Objetivo é ser semelhante\n"
      ]
    },
    {
      "cell_type": "code",
      "execution_count": 22,
      "metadata": {
        "colab": {
          "base_uri": "https://localhost:8080/"
        },
        "id": "MALinrpU69iS",
        "outputId": "4be3fd02-a969-4432-d773-74169d83bdcd"
      },
      "outputs": [
        {
          "name": "stdout",
          "output_type": "stream",
          "text": [
            "0.36897094584161894 1.0581656052369075 1204.0560966145404\n",
            "0.35416642754504835 1.1382306445993162 1194.951986504888\n",
            "0.36704573758244236 1.0990426578873276 1167.5322875560996\n"
          ]
        }
      ],
      "source": [
        "set1, set2, set3 = np.array_split(values, 3)\n",
        "s1, dbs1, calinski1 = clustering_algorithm(5, set1)\n",
        "s2, dbs2, calinski2 = clustering_algorithm(5, set2)\n",
        "s3, dbs3, calinski3 = clustering_algorithm(5, set3)\n",
        "print(s1, dbs1, calinski1)\n",
        "print(s2, dbs2, calinski2)\n",
        "print(s3, dbs3, calinski3)"
      ]
    },
    {
      "cell_type": "markdown",
      "metadata": {
        "id": "YbMyxB0t8IJ_"
      },
      "source": [
        "Assim, os valores obtidos são bem próximos. Isso é bom."
      ]
    },
    {
      "cell_type": "markdown",
      "metadata": {
        "id": "i-2Ozh2u8PrG"
      },
      "source": [
        "### Interpretação dos clusters"
      ]
    },
    {
      "cell_type": "code",
      "execution_count": 23,
      "metadata": {
        "id": "A9hPplg18MPM"
      },
      "outputs": [],
      "source": [
        "import matplotlib.pyplot as plt"
      ]
    },
    {
      "cell_type": "code",
      "execution_count": 24,
      "metadata": {
        "colab": {
          "base_uri": "https://localhost:8080/",
          "height": 388
        },
        "id": "m2kE9GPv-eZg",
        "outputId": "3d8e158f-99bd-4d43-bd7c-0861492d003b"
      },
      "outputs": [
        {
          "data": {
            "image/png": "[encoded data removed]",
            "text/plain": [
              "<Figure size 864x432 with 1 Axes>"
            ]
          },
          "metadata": {
            "needs_background": "light"
          },
          "output_type": "display_data"
        }
      ],
      "source": [
        "plt.figure(figsize = (12,6))\n",
        "plt.scatter(df.PURCHASES ,df.PAYMENTS, c = labels, s = 5, cmap = 'rainbow')\n",
        "plt.xlabel('Valor total pago')\n",
        "plt.ylabel('Valor total gasto')\n",
        "\n",
        "plt.show()"
      ]
    },
    {
      "cell_type": "code",
      "execution_count": 25,
      "metadata": {},
      "outputs": [],
      "source": [
        "df['cluster'] = labels"
      ]
    },
    {
      "cell_type": "code",
      "execution_count": 26,
      "metadata": {},
      "outputs": [
        {
          "data": {
            "text/html": [
              "<div>\n",
              "<style scoped>\n",
              "    .dataframe tbody tr th:only-of-type {\n",
              "        vertical-align: middle;\n",
              "    }\n",
              "\n",
              "    .dataframe tbody tr th {\n",
              "        vertical-align: top;\n",
              "    }\n",
              "\n",
              "    .dataframe thead tr th {\n",
              "        text-align: left;\n",
              "    }\n",
              "\n",
              "    .dataframe thead tr:last-of-type th {\n",
              "        text-align: right;\n",
              "    }\n",
              "</style>\n",
              "<table border=\"1\" class=\"dataframe\">\n",
              "  <thead>\n",
              "    <tr>\n",
              "      <th></th>\n",
              "      <th colspan=\"8\" halign=\"left\">BALANCE</th>\n",
              "      <th colspan=\"2\" halign=\"left\">BALANCE_FREQUENCY</th>\n",
              "      <th>...</th>\n",
              "      <th colspan=\"2\" halign=\"left\">MINIMUM_PAYMENTS</th>\n",
              "      <th colspan=\"8\" halign=\"left\">PRC_FULL_PAYMENT</th>\n",
              "    </tr>\n",
              "    <tr>\n",
              "      <th></th>\n",
              "      <th>count</th>\n",
              "      <th>mean</th>\n",
              "      <th>std</th>\n",
              "      <th>min</th>\n",
              "      <th>25%</th>\n",
              "      <th>50%</th>\n",
              "      <th>75%</th>\n",
              "      <th>max</th>\n",
              "      <th>count</th>\n",
              "      <th>mean</th>\n",
              "      <th>...</th>\n",
              "      <th>75%</th>\n",
              "      <th>max</th>\n",
              "      <th>count</th>\n",
              "      <th>mean</th>\n",
              "      <th>std</th>\n",
              "      <th>min</th>\n",
              "      <th>25%</th>\n",
              "      <th>50%</th>\n",
              "      <th>75%</th>\n",
              "      <th>max</th>\n",
              "    </tr>\n",
              "    <tr>\n",
              "      <th>cluster</th>\n",
              "      <th></th>\n",
              "      <th></th>\n",
              "      <th></th>\n",
              "      <th></th>\n",
              "      <th></th>\n",
              "      <th></th>\n",
              "      <th></th>\n",
              "      <th></th>\n",
              "      <th></th>\n",
              "      <th></th>\n",
              "      <th></th>\n",
              "      <th></th>\n",
              "      <th></th>\n",
              "      <th></th>\n",
              "      <th></th>\n",
              "      <th></th>\n",
              "      <th></th>\n",
              "      <th></th>\n",
              "      <th></th>\n",
              "      <th></th>\n",
              "      <th></th>\n",
              "    </tr>\n",
              "  </thead>\n",
              "  <tbody>\n",
              "    <tr>\n",
              "      <th>0</th>\n",
              "      <td>2651.0</td>\n",
              "      <td>3036.509818</td>\n",
              "      <td>2478.358491</td>\n",
              "      <td>6.824905</td>\n",
              "      <td>1257.895616</td>\n",
              "      <td>2171.222526</td>\n",
              "      <td>4223.849965</td>\n",
              "      <td>18495.558550</td>\n",
              "      <td>2651.0</td>\n",
              "      <td>0.963809</td>\n",
              "      <td>...</td>\n",
              "      <td>1330.279644</td>\n",
              "      <td>8345.641905</td>\n",
              "      <td>2651.0</td>\n",
              "      <td>0.001798</td>\n",
              "      <td>0.023251</td>\n",
              "      <td>0.0</td>\n",
              "      <td>0.0</td>\n",
              "      <td>0.000000</td>\n",
              "      <td>0.000000</td>\n",
              "      <td>0.6</td>\n",
              "    </tr>\n",
              "    <tr>\n",
              "      <th>1</th>\n",
              "      <td>3280.0</td>\n",
              "      <td>443.746756</td>\n",
              "      <td>846.398201</td>\n",
              "      <td>0.000000</td>\n",
              "      <td>23.365333</td>\n",
              "      <td>82.941478</td>\n",
              "      <td>410.126095</td>\n",
              "      <td>9630.367575</td>\n",
              "      <td>3280.0</td>\n",
              "      <td>0.774389</td>\n",
              "      <td>...</td>\n",
              "      <td>248.733727</td>\n",
              "      <td>4483.503862</td>\n",
              "      <td>3280.0</td>\n",
              "      <td>0.246806</td>\n",
              "      <td>0.346748</td>\n",
              "      <td>0.0</td>\n",
              "      <td>0.0</td>\n",
              "      <td>0.000000</td>\n",
              "      <td>0.444444</td>\n",
              "      <td>1.0</td>\n",
              "    </tr>\n",
              "    <tr>\n",
              "      <th>2</th>\n",
              "      <td>1073.0</td>\n",
              "      <td>1795.941069</td>\n",
              "      <td>1982.629330</td>\n",
              "      <td>0.000000</td>\n",
              "      <td>507.076999</td>\n",
              "      <td>1088.056301</td>\n",
              "      <td>2320.402196</td>\n",
              "      <td>14581.459140</td>\n",
              "      <td>1073.0</td>\n",
              "      <td>0.862241</td>\n",
              "      <td>...</td>\n",
              "      <td>886.322345</td>\n",
              "      <td>21235.065300</td>\n",
              "      <td>1073.0</td>\n",
              "      <td>0.117326</td>\n",
              "      <td>0.186807</td>\n",
              "      <td>0.0</td>\n",
              "      <td>0.0</td>\n",
              "      <td>0.083333</td>\n",
              "      <td>0.142857</td>\n",
              "      <td>1.0</td>\n",
              "    </tr>\n",
              "    <tr>\n",
              "      <th>3</th>\n",
              "      <td>1538.0</td>\n",
              "      <td>1142.833592</td>\n",
              "      <td>1663.943440</td>\n",
              "      <td>0.000000</td>\n",
              "      <td>212.513230</td>\n",
              "      <td>555.745265</td>\n",
              "      <td>1371.943854</td>\n",
              "      <td>19043.138560</td>\n",
              "      <td>1538.0</td>\n",
              "      <td>0.928255</td>\n",
              "      <td>...</td>\n",
              "      <td>524.765832</td>\n",
              "      <td>18621.013310</td>\n",
              "      <td>1538.0</td>\n",
              "      <td>0.278041</td>\n",
              "      <td>0.366991</td>\n",
              "      <td>0.0</td>\n",
              "      <td>0.0</td>\n",
              "      <td>0.083333</td>\n",
              "      <td>0.545455</td>\n",
              "      <td>1.0</td>\n",
              "    </tr>\n",
              "    <tr>\n",
              "      <th>4</th>\n",
              "      <td>408.0</td>\n",
              "      <td>1990.318603</td>\n",
              "      <td>1860.968409</td>\n",
              "      <td>70.794108</td>\n",
              "      <td>1016.567882</td>\n",
              "      <td>1326.681742</td>\n",
              "      <td>2149.639085</td>\n",
              "      <td>11670.179850</td>\n",
              "      <td>408.0</td>\n",
              "      <td>0.989409</td>\n",
              "      <td>...</td>\n",
              "      <td>7184.162991</td>\n",
              "      <td>76406.207520</td>\n",
              "      <td>408.0</td>\n",
              "      <td>0.019460</td>\n",
              "      <td>0.091220</td>\n",
              "      <td>0.0</td>\n",
              "      <td>0.0</td>\n",
              "      <td>0.000000</td>\n",
              "      <td>0.000000</td>\n",
              "      <td>1.0</td>\n",
              "    </tr>\n",
              "  </tbody>\n",
              "</table>\n",
              "<p>5 rows × 128 columns</p>\n",
              "</div>"
            ],
            "text/plain": [
              "        BALANCE                                                    \\\n",
              "          count         mean          std        min          25%   \n",
              "cluster                                                             \n",
              "0        2651.0  3036.509818  2478.358491   6.824905  1257.895616   \n",
              "1        3280.0   443.746756   846.398201   0.000000    23.365333   \n",
              "2        1073.0  1795.941069  1982.629330   0.000000   507.076999   \n",
              "3        1538.0  1142.833592  1663.943440   0.000000   212.513230   \n",
              "4         408.0  1990.318603  1860.968409  70.794108  1016.567882   \n",
              "\n",
              "                                                BALANCE_FREQUENCY            \\\n",
              "                 50%          75%           max             count      mean   \n",
              "cluster                                                                       \n",
              "0        2171.222526  4223.849965  18495.558550            2651.0  0.963809   \n",
              "1          82.941478   410.126095   9630.367575            3280.0  0.774389   \n",
              "2        1088.056301  2320.402196  14581.459140            1073.0  0.862241   \n",
              "3         555.745265  1371.943854  19043.138560            1538.0  0.928255   \n",
              "4        1326.681742  2149.639085  11670.179850             408.0  0.989409   \n",
              "\n",
              "         ... MINIMUM_PAYMENTS               PRC_FULL_PAYMENT            \\\n",
              "         ...              75%           max            count      mean   \n",
              "cluster  ...                                                             \n",
              "0        ...      1330.279644   8345.641905           2651.0  0.001798   \n",
              "1        ...       248.733727   4483.503862           3280.0  0.246806   \n",
              "2        ...       886.322345  21235.065300           1073.0  0.117326   \n",
              "3        ...       524.765832  18621.013310           1538.0  0.278041   \n",
              "4        ...      7184.162991  76406.207520            408.0  0.019460   \n",
              "\n",
              "                                                      \n",
              "              std  min  25%       50%       75%  max  \n",
              "cluster                                               \n",
              "0        0.023251  0.0  0.0  0.000000  0.000000  0.6  \n",
              "1        0.346748  0.0  0.0  0.000000  0.444444  1.0  \n",
              "2        0.186807  0.0  0.0  0.083333  0.142857  1.0  \n",
              "3        0.366991  0.0  0.0  0.083333  0.545455  1.0  \n",
              "4        0.091220  0.0  0.0  0.000000  0.000000  1.0  \n",
              "\n",
              "[5 rows x 128 columns]"
            ]
          },
          "execution_count": 26,
          "metadata": {},
          "output_type": "execute_result"
        }
      ],
      "source": [
        "df.groupby('cluster').describe()"
      ]
    },
    {
      "cell_type": "markdown",
      "metadata": {},
      "source": [
        "Selecionando os mais representativos\n"
      ]
    },
    {
      "cell_type": "markdown",
      "metadata": {},
      "source": [
        "Exibe os valores dos 16 atributos para cada cluster"
      ]
    },
    {
      "cell_type": "code",
      "execution_count": 27,
      "metadata": {},
      "outputs": [
        {
          "data": {
            "text/plain": [
              "array([[5.04526580e-01, 2.72332745e-04, 6.20171708e-02, 3.64414607e-02,\n",
              "        2.55974069e-02, 2.52329514e-01, 6.75600478e-05, 2.58663568e-05,\n",
              "        4.51550497e-05, 5.73437494e-05, 1.15422756e-03, 1.33589087e-03,\n",
              "        7.18989200e-01, 1.66362861e-01, 1.79601509e-01, 5.51886878e-07],\n",
              "       [6.91003939e-02, 2.30735820e-04, 1.21488582e-01, 4.79706676e-02,\n",
              "        7.36181130e-02, 2.44793374e-02, 1.72814707e-04, 3.36627014e-05,\n",
              "        1.40285541e-04, 7.93816793e-06, 1.25005935e-04, 2.86309441e-03,\n",
              "        9.43533996e-01, 1.53766191e-01, 5.68572256e-02, 7.61261275e-05],\n",
              "       [2.35406845e-01, 2.16498382e-04, 6.02264552e-02, 3.41509957e-02,\n",
              "        2.60806692e-02, 4.00065289e-01, 5.27340033e-05, 2.05029610e-05,\n",
              "        3.53109634e-05, 6.54896978e-05, 1.57112716e-03, 1.12401656e-03,\n",
              "        5.35394449e-01, 5.97651725e-01, 1.04510986e-01, 2.77279840e-05],\n",
              "       [1.60196193e-01, 2.45138271e-04, 4.38524353e-01, 2.57188026e-01,\n",
              "        1.81507838e-01, 2.60235369e-02, 2.04267661e-04, 8.89991734e-05,\n",
              "        1.50483568e-04, 9.39554416e-06, 1.70326014e-04, 6.17085618e-03,\n",
              "        6.03525832e-01, 4.02709673e-01, 8.56313254e-02, 7.18569916e-05],\n",
              "       [3.30293653e-01, 2.68533239e-04, 1.57028833e-01, 3.42695419e-02,\n",
              "        1.23148700e-01, 5.87967103e-02, 1.66137163e-04, 2.53359090e-05,\n",
              "        1.47502343e-04, 1.95347549e-05, 4.32007163e-04, 3.86025028e-03,\n",
              "        3.74390286e-01, 2.51594336e-01, 6.83611752e-01, 4.29215417e-06]])"
            ]
          },
          "execution_count": 27,
          "metadata": {},
          "output_type": "execute_result"
        }
      ],
      "source": [
        "centroids = kmeans.cluster_centers_\n",
        "centroids"
      ]
    },
    {
      "cell_type": "markdown",
      "metadata": {},
      "source": [
        "Selecionado a variância de cada cluster, as maiores serão selecionadas\n"
      ]
    },
    {
      "cell_type": "code",
      "execution_count": 28,
      "metadata": {},
      "outputs": [
        {
          "name": "stdout",
          "output_type": "stream",
          "text": [
            "BALANCE 0.022348536656072653\n",
            "BALANCE_FREQUENCY 4.6062921492452024e-10\n",
            "PURCHASES 0.01966289980772458\n",
            "ONEOFF_PURCHASES 0.007698428812122413\n",
            "INSTALLMENTS_PURCHASES 0.0035787766446068125\n",
            "CASH_ADVANCE 0.02248405332058827\n",
            "PURCHASES_FREQUENCY 3.697387540285205e-09\n",
            "ONEOFF_PURCHASES_FREQUENCY 6.459328811848439e-10\n",
            "PURCHASES_INSTALLMENTS_FREQUENCY 2.71008189958944e-09\n",
            "CASH_ADVANCE_FREQUENCY 6.018326482351842e-10\n",
            "CASH_ADVANCE_TRX 3.2954610156651927e-07\n",
            "PURCHASES_TRX 3.4153194244262125e-06\n",
            "CREDIT_LIMIT 0.03621531712503432\n",
            "PAYMENTS 0.027938580705521666\n",
            "MINIMUM_PAYMENTS 0.05491105040397955\n",
            "PRC_FULL_PAYMENT 1.045230154365641e-09\n"
          ]
        }
      ],
      "source": [
        "max = len(centroids[0])\n",
        "for i in range(max):\n",
        "    print(df.columns.values[i], centroids[:,i].var())\n"
      ]
    },
    {
      "cell_type": "code",
      "execution_count": 29,
      "metadata": {},
      "outputs": [
        {
          "name": "stdout",
          "output_type": "stream",
          "text": [
            "BALANCE : 0.0223\n",
            "BALANCE_FREQUENCY : 0.0000\n",
            "PURCHASES : 0.0197\n",
            "ONEOFF_PURCHASES : 0.0077\n",
            "INSTALLMENTS_PURCHASES : 0.0036\n",
            "CASH_ADVANCE : 0.0225\n",
            "PURCHASES_FREQUENCY : 0.0000\n",
            "ONEOFF_PURCHASES_FREQUENCY : 0.0000\n",
            "PURCHASES_INSTALLMENTS_FREQUENCY : 0.0000\n",
            "CASH_ADVANCE_FREQUENCY : 0.0000\n",
            "CASH_ADVANCE_TRX : 0.0000\n",
            "PURCHASES_TRX : 0.0000\n",
            "CREDIT_LIMIT : 0.0362\n",
            "PAYMENTS : 0.0279\n",
            "MINIMUM_PAYMENTS : 0.0549\n",
            "PRC_FULL_PAYMENT : 0.0000\n"
          ]
        }
      ],
      "source": [
        "max = len(centroids[0])\n",
        "for i in range(max):\n",
        "    a = df.columns.values[i]\n",
        "    b =centroids[:,i].var()\n",
        "    print(f'{a} : {b:.4f}')\n"
      ]
    },
    {
      "cell_type": "markdown",
      "metadata": {},
      "source": [
        "BALANCE : 0.0224 #limite disponivel\n",
        "PURCHASES : 0.0197 #valor totald e compras\n",
        "CASH_ADVANCE : 0.0225 #saque em dinheiro\n",
        "CREDIT_LIMIT : 0.0360 #limite de credito\n",
        "PAYMENTS : 0.0280 #pagamentos\n"
      ]
    },
    {
      "cell_type": "code",
      "execution_count": 30,
      "metadata": {},
      "outputs": [],
      "source": [
        "list = ['BALANCE', 'PURCHASES', 'CASH_ADVANCE', 'CREDIT_LIMIT','PAYMENTS' ]"
      ]
    },
    {
      "cell_type": "code",
      "execution_count": 31,
      "metadata": {},
      "outputs": [
        {
          "data": {
            "text/html": [
              "<div>\n",
              "<style scoped>\n",
              "    .dataframe tbody tr th:only-of-type {\n",
              "        vertical-align: middle;\n",
              "    }\n",
              "\n",
              "    .dataframe tbody tr th {\n",
              "        vertical-align: top;\n",
              "    }\n",
              "\n",
              "    .dataframe thead th {\n",
              "        text-align: right;\n",
              "    }\n",
              "</style>\n",
              "<table border=\"1\" class=\"dataframe\">\n",
              "  <thead>\n",
              "    <tr style=\"text-align: right;\">\n",
              "      <th></th>\n",
              "      <th>BALANCE</th>\n",
              "      <th>PURCHASES</th>\n",
              "      <th>CASH_ADVANCE</th>\n",
              "      <th>CREDIT_LIMIT</th>\n",
              "      <th>PAYMENTS</th>\n",
              "    </tr>\n",
              "    <tr>\n",
              "      <th>cluster</th>\n",
              "      <th></th>\n",
              "      <th></th>\n",
              "      <th></th>\n",
              "      <th></th>\n",
              "      <th></th>\n",
              "    </tr>\n",
              "  </thead>\n",
              "  <tbody>\n",
              "    <tr>\n",
              "      <th>0</th>\n",
              "      <td>3036.509818</td>\n",
              "      <td>385.376134</td>\n",
              "      <td>1634.262935</td>\n",
              "      <td>4493.115805</td>\n",
              "      <td>968.393476</td>\n",
              "    </tr>\n",
              "    <tr>\n",
              "      <th>1</th>\n",
              "      <td>443.746756</td>\n",
              "      <td>629.249107</td>\n",
              "      <td>141.482978</td>\n",
              "      <td>5130.547795</td>\n",
              "      <td>814.294226</td>\n",
              "    </tr>\n",
              "    <tr>\n",
              "      <th>2</th>\n",
              "      <td>1795.941069</td>\n",
              "      <td>472.310373</td>\n",
              "      <td>3266.709902</td>\n",
              "      <td>3980.122285</td>\n",
              "      <td>4704.852542</td>\n",
              "    </tr>\n",
              "    <tr>\n",
              "      <th>3</th>\n",
              "      <td>1142.833592</td>\n",
              "      <td>3274.948693</td>\n",
              "      <td>186.045097</td>\n",
              "      <td>4098.218564</td>\n",
              "      <td>3041.872720</td>\n",
              "    </tr>\n",
              "    <tr>\n",
              "      <th>4</th>\n",
              "      <td>1990.318603</td>\n",
              "      <td>856.504755</td>\n",
              "      <td>424.225892</td>\n",
              "      <td>2231.985294</td>\n",
              "      <td>1340.280120</td>\n",
              "    </tr>\n",
              "  </tbody>\n",
              "</table>\n",
              "</div>"
            ],
            "text/plain": [
              "             BALANCE    PURCHASES  CASH_ADVANCE  CREDIT_LIMIT     PAYMENTS\n",
              "cluster                                                                   \n",
              "0        3036.509818   385.376134   1634.262935   4493.115805   968.393476\n",
              "1         443.746756   629.249107    141.482978   5130.547795   814.294226\n",
              "2        1795.941069   472.310373   3266.709902   3980.122285  4704.852542\n",
              "3        1142.833592  3274.948693    186.045097   4098.218564  3041.872720\n",
              "4        1990.318603   856.504755    424.225892   2231.985294  1340.280120"
            ]
          },
          "execution_count": 31,
          "metadata": {},
          "output_type": "execute_result"
        }
      ],
      "source": [
        "df.groupby('cluster')[list].mean()"
      ]
    },
    {
      "cell_type": "code",
      "execution_count": 32,
      "metadata": {},
      "outputs": [
        {
          "data": {
            "text/html": [
              "<div>\n",
              "<style scoped>\n",
              "    .dataframe tbody tr th:only-of-type {\n",
              "        vertical-align: middle;\n",
              "    }\n",
              "\n",
              "    .dataframe tbody tr th {\n",
              "        vertical-align: top;\n",
              "    }\n",
              "\n",
              "    .dataframe thead th {\n",
              "        text-align: right;\n",
              "    }\n",
              "</style>\n",
              "<table border=\"1\" class=\"dataframe\">\n",
              "  <thead>\n",
              "    <tr style=\"text-align: right;\">\n",
              "      <th></th>\n",
              "      <th>count</th>\n",
              "      <th>mean</th>\n",
              "      <th>std</th>\n",
              "      <th>min</th>\n",
              "      <th>25%</th>\n",
              "      <th>50%</th>\n",
              "      <th>75%</th>\n",
              "      <th>max</th>\n",
              "    </tr>\n",
              "    <tr>\n",
              "      <th>cluster</th>\n",
              "      <th></th>\n",
              "      <th></th>\n",
              "      <th></th>\n",
              "      <th></th>\n",
              "      <th></th>\n",
              "      <th></th>\n",
              "      <th></th>\n",
              "      <th></th>\n",
              "    </tr>\n",
              "  </thead>\n",
              "  <tbody>\n",
              "    <tr>\n",
              "      <th>0</th>\n",
              "      <td>2651.0</td>\n",
              "      <td>3036.509818</td>\n",
              "      <td>2478.358491</td>\n",
              "      <td>6.824905</td>\n",
              "      <td>1257.895616</td>\n",
              "      <td>2171.222526</td>\n",
              "      <td>4223.849965</td>\n",
              "      <td>18495.558550</td>\n",
              "    </tr>\n",
              "    <tr>\n",
              "      <th>1</th>\n",
              "      <td>3280.0</td>\n",
              "      <td>443.746756</td>\n",
              "      <td>846.398201</td>\n",
              "      <td>0.000000</td>\n",
              "      <td>23.365333</td>\n",
              "      <td>82.941478</td>\n",
              "      <td>410.126095</td>\n",
              "      <td>9630.367575</td>\n",
              "    </tr>\n",
              "    <tr>\n",
              "      <th>2</th>\n",
              "      <td>1073.0</td>\n",
              "      <td>1795.941069</td>\n",
              "      <td>1982.629330</td>\n",
              "      <td>0.000000</td>\n",
              "      <td>507.076999</td>\n",
              "      <td>1088.056301</td>\n",
              "      <td>2320.402196</td>\n",
              "      <td>14581.459140</td>\n",
              "    </tr>\n",
              "    <tr>\n",
              "      <th>3</th>\n",
              "      <td>1538.0</td>\n",
              "      <td>1142.833592</td>\n",
              "      <td>1663.943440</td>\n",
              "      <td>0.000000</td>\n",
              "      <td>212.513230</td>\n",
              "      <td>555.745265</td>\n",
              "      <td>1371.943854</td>\n",
              "      <td>19043.138560</td>\n",
              "    </tr>\n",
              "    <tr>\n",
              "      <th>4</th>\n",
              "      <td>408.0</td>\n",
              "      <td>1990.318603</td>\n",
              "      <td>1860.968409</td>\n",
              "      <td>70.794108</td>\n",
              "      <td>1016.567882</td>\n",
              "      <td>1326.681742</td>\n",
              "      <td>2149.639085</td>\n",
              "      <td>11670.179850</td>\n",
              "    </tr>\n",
              "  </tbody>\n",
              "</table>\n",
              "</div>"
            ],
            "text/plain": [
              "          count         mean          std        min          25%  \\\n",
              "cluster                                                             \n",
              "0        2651.0  3036.509818  2478.358491   6.824905  1257.895616   \n",
              "1        3280.0   443.746756   846.398201   0.000000    23.365333   \n",
              "2        1073.0  1795.941069  1982.629330   0.000000   507.076999   \n",
              "3        1538.0  1142.833592  1663.943440   0.000000   212.513230   \n",
              "4         408.0  1990.318603  1860.968409  70.794108  1016.567882   \n",
              "\n",
              "                 50%          75%           max  \n",
              "cluster                                          \n",
              "0        2171.222526  4223.849965  18495.558550  \n",
              "1          82.941478   410.126095   9630.367575  \n",
              "2        1088.056301  2320.402196  14581.459140  \n",
              "3         555.745265  1371.943854  19043.138560  \n",
              "4        1326.681742  2149.639085  11670.179850  "
            ]
          },
          "metadata": {},
          "output_type": "display_data"
        },
        {
          "data": {
            "text/html": [
              "<div>\n",
              "<style scoped>\n",
              "    .dataframe tbody tr th:only-of-type {\n",
              "        vertical-align: middle;\n",
              "    }\n",
              "\n",
              "    .dataframe tbody tr th {\n",
              "        vertical-align: top;\n",
              "    }\n",
              "\n",
              "    .dataframe thead th {\n",
              "        text-align: right;\n",
              "    }\n",
              "</style>\n",
              "<table border=\"1\" class=\"dataframe\">\n",
              "  <thead>\n",
              "    <tr style=\"text-align: right;\">\n",
              "      <th></th>\n",
              "      <th>count</th>\n",
              "      <th>mean</th>\n",
              "      <th>std</th>\n",
              "      <th>min</th>\n",
              "      <th>25%</th>\n",
              "      <th>50%</th>\n",
              "      <th>75%</th>\n",
              "      <th>max</th>\n",
              "    </tr>\n",
              "    <tr>\n",
              "      <th>cluster</th>\n",
              "      <th></th>\n",
              "      <th></th>\n",
              "      <th></th>\n",
              "      <th></th>\n",
              "      <th></th>\n",
              "      <th></th>\n",
              "      <th></th>\n",
              "      <th></th>\n",
              "    </tr>\n",
              "  </thead>\n",
              "  <tbody>\n",
              "    <tr>\n",
              "      <th>0</th>\n",
              "      <td>2651.0</td>\n",
              "      <td>385.376134</td>\n",
              "      <td>776.473823</td>\n",
              "      <td>0.00</td>\n",
              "      <td>0.0000</td>\n",
              "      <td>62.250</td>\n",
              "      <td>435.4300</td>\n",
              "      <td>7823.74</td>\n",
              "    </tr>\n",
              "    <tr>\n",
              "      <th>1</th>\n",
              "      <td>3280.0</td>\n",
              "      <td>629.249107</td>\n",
              "      <td>759.030943</td>\n",
              "      <td>0.00</td>\n",
              "      <td>133.0000</td>\n",
              "      <td>363.615</td>\n",
              "      <td>834.3125</td>\n",
              "      <td>6407.67</td>\n",
              "    </tr>\n",
              "    <tr>\n",
              "      <th>2</th>\n",
              "      <td>1073.0</td>\n",
              "      <td>472.310373</td>\n",
              "      <td>1180.396111</td>\n",
              "      <td>0.00</td>\n",
              "      <td>0.0000</td>\n",
              "      <td>36.790</td>\n",
              "      <td>500.0000</td>\n",
              "      <td>22101.78</td>\n",
              "    </tr>\n",
              "    <tr>\n",
              "      <th>3</th>\n",
              "      <td>1538.0</td>\n",
              "      <td>3274.948693</td>\n",
              "      <td>4075.594878</td>\n",
              "      <td>100.98</td>\n",
              "      <td>1148.8525</td>\n",
              "      <td>2148.180</td>\n",
              "      <td>3875.1575</td>\n",
              "      <td>49039.57</td>\n",
              "    </tr>\n",
              "    <tr>\n",
              "      <th>4</th>\n",
              "      <td>408.0</td>\n",
              "      <td>856.504755</td>\n",
              "      <td>1238.317290</td>\n",
              "      <td>0.00</td>\n",
              "      <td>148.9525</td>\n",
              "      <td>498.585</td>\n",
              "      <td>1052.0325</td>\n",
              "      <td>11147.33</td>\n",
              "    </tr>\n",
              "  </tbody>\n",
              "</table>\n",
              "</div>"
            ],
            "text/plain": [
              "          count         mean          std     min        25%       50%  \\\n",
              "cluster                                                                  \n",
              "0        2651.0   385.376134   776.473823    0.00     0.0000    62.250   \n",
              "1        3280.0   629.249107   759.030943    0.00   133.0000   363.615   \n",
              "2        1073.0   472.310373  1180.396111    0.00     0.0000    36.790   \n",
              "3        1538.0  3274.948693  4075.594878  100.98  1148.8525  2148.180   \n",
              "4         408.0   856.504755  1238.317290    0.00   148.9525   498.585   \n",
              "\n",
              "               75%       max  \n",
              "cluster                       \n",
              "0         435.4300   7823.74  \n",
              "1         834.3125   6407.67  \n",
              "2         500.0000  22101.78  \n",
              "3        3875.1575  49039.57  \n",
              "4        1052.0325  11147.33  "
            ]
          },
          "metadata": {},
          "output_type": "display_data"
        },
        {
          "data": {
            "text/html": [
              "<div>\n",
              "<style scoped>\n",
              "    .dataframe tbody tr th:only-of-type {\n",
              "        vertical-align: middle;\n",
              "    }\n",
              "\n",
              "    .dataframe tbody tr th {\n",
              "        vertical-align: top;\n",
              "    }\n",
              "\n",
              "    .dataframe thead th {\n",
              "        text-align: right;\n",
              "    }\n",
              "</style>\n",
              "<table border=\"1\" class=\"dataframe\">\n",
              "  <thead>\n",
              "    <tr style=\"text-align: right;\">\n",
              "      <th></th>\n",
              "      <th>count</th>\n",
              "      <th>mean</th>\n",
              "      <th>std</th>\n",
              "      <th>min</th>\n",
              "      <th>25%</th>\n",
              "      <th>50%</th>\n",
              "      <th>75%</th>\n",
              "      <th>max</th>\n",
              "    </tr>\n",
              "    <tr>\n",
              "      <th>cluster</th>\n",
              "      <th></th>\n",
              "      <th></th>\n",
              "      <th></th>\n",
              "      <th></th>\n",
              "      <th></th>\n",
              "      <th></th>\n",
              "      <th></th>\n",
              "      <th></th>\n",
              "    </tr>\n",
              "  </thead>\n",
              "  <tbody>\n",
              "    <tr>\n",
              "      <th>0</th>\n",
              "      <td>2651.0</td>\n",
              "      <td>1634.262935</td>\n",
              "      <td>1928.838939</td>\n",
              "      <td>0.0</td>\n",
              "      <td>156.625195</td>\n",
              "      <td>1013.659552</td>\n",
              "      <td>2461.996237</td>\n",
              "      <td>13674.244020</td>\n",
              "    </tr>\n",
              "    <tr>\n",
              "      <th>1</th>\n",
              "      <td>3280.0</td>\n",
              "      <td>141.482978</td>\n",
              "      <td>517.254161</td>\n",
              "      <td>0.0</td>\n",
              "      <td>0.000000</td>\n",
              "      <td>0.000000</td>\n",
              "      <td>0.000000</td>\n",
              "      <td>6523.780195</td>\n",
              "    </tr>\n",
              "    <tr>\n",
              "      <th>2</th>\n",
              "      <td>1073.0</td>\n",
              "      <td>3266.709902</td>\n",
              "      <td>4042.451496</td>\n",
              "      <td>0.0</td>\n",
              "      <td>896.215958</td>\n",
              "      <td>1936.701702</td>\n",
              "      <td>4201.060262</td>\n",
              "      <td>47137.211760</td>\n",
              "    </tr>\n",
              "    <tr>\n",
              "      <th>3</th>\n",
              "      <td>1538.0</td>\n",
              "      <td>186.045097</td>\n",
              "      <td>606.674895</td>\n",
              "      <td>0.0</td>\n",
              "      <td>0.000000</td>\n",
              "      <td>0.000000</td>\n",
              "      <td>0.000000</td>\n",
              "      <td>7540.307350</td>\n",
              "    </tr>\n",
              "    <tr>\n",
              "      <th>4</th>\n",
              "      <td>408.0</td>\n",
              "      <td>424.225892</td>\n",
              "      <td>980.381333</td>\n",
              "      <td>0.0</td>\n",
              "      <td>0.000000</td>\n",
              "      <td>0.000000</td>\n",
              "      <td>384.141399</td>\n",
              "      <td>10616.270140</td>\n",
              "    </tr>\n",
              "  </tbody>\n",
              "</table>\n",
              "</div>"
            ],
            "text/plain": [
              "          count         mean          std  min         25%          50%  \\\n",
              "cluster                                                                   \n",
              "0        2651.0  1634.262935  1928.838939  0.0  156.625195  1013.659552   \n",
              "1        3280.0   141.482978   517.254161  0.0    0.000000     0.000000   \n",
              "2        1073.0  3266.709902  4042.451496  0.0  896.215958  1936.701702   \n",
              "3        1538.0   186.045097   606.674895  0.0    0.000000     0.000000   \n",
              "4         408.0   424.225892   980.381333  0.0    0.000000     0.000000   \n",
              "\n",
              "                 75%           max  \n",
              "cluster                             \n",
              "0        2461.996237  13674.244020  \n",
              "1           0.000000   6523.780195  \n",
              "2        4201.060262  47137.211760  \n",
              "3           0.000000   7540.307350  \n",
              "4         384.141399  10616.270140  "
            ]
          },
          "metadata": {},
          "output_type": "display_data"
        },
        {
          "data": {
            "text/html": [
              "<div>\n",
              "<style scoped>\n",
              "    .dataframe tbody tr th:only-of-type {\n",
              "        vertical-align: middle;\n",
              "    }\n",
              "\n",
              "    .dataframe tbody tr th {\n",
              "        vertical-align: top;\n",
              "    }\n",
              "\n",
              "    .dataframe thead th {\n",
              "        text-align: right;\n",
              "    }\n",
              "</style>\n",
              "<table border=\"1\" class=\"dataframe\">\n",
              "  <thead>\n",
              "    <tr style=\"text-align: right;\">\n",
              "      <th></th>\n",
              "      <th>count</th>\n",
              "      <th>mean</th>\n",
              "      <th>std</th>\n",
              "      <th>min</th>\n",
              "      <th>25%</th>\n",
              "      <th>50%</th>\n",
              "      <th>75%</th>\n",
              "      <th>max</th>\n",
              "    </tr>\n",
              "    <tr>\n",
              "      <th>cluster</th>\n",
              "      <th></th>\n",
              "      <th></th>\n",
              "      <th></th>\n",
              "      <th></th>\n",
              "      <th></th>\n",
              "      <th></th>\n",
              "      <th></th>\n",
              "      <th></th>\n",
              "    </tr>\n",
              "  </thead>\n",
              "  <tbody>\n",
              "    <tr>\n",
              "      <th>0</th>\n",
              "      <td>2651.0</td>\n",
              "      <td>4493.115805</td>\n",
              "      <td>3605.983595</td>\n",
              "      <td>200.0</td>\n",
              "      <td>1700.0</td>\n",
              "      <td>3000.0</td>\n",
              "      <td>6450.0</td>\n",
              "      <td>22000.0</td>\n",
              "    </tr>\n",
              "    <tr>\n",
              "      <th>1</th>\n",
              "      <td>3280.0</td>\n",
              "      <td>5130.547795</td>\n",
              "      <td>3699.225988</td>\n",
              "      <td>300.0</td>\n",
              "      <td>2500.0</td>\n",
              "      <td>4000.0</td>\n",
              "      <td>7000.0</td>\n",
              "      <td>30000.0</td>\n",
              "    </tr>\n",
              "    <tr>\n",
              "      <th>2</th>\n",
              "      <td>1073.0</td>\n",
              "      <td>3980.122285</td>\n",
              "      <td>3517.612557</td>\n",
              "      <td>50.0</td>\n",
              "      <td>1500.0</td>\n",
              "      <td>2500.0</td>\n",
              "      <td>6000.0</td>\n",
              "      <td>21000.0</td>\n",
              "    </tr>\n",
              "    <tr>\n",
              "      <th>3</th>\n",
              "      <td>1538.0</td>\n",
              "      <td>4098.218564</td>\n",
              "      <td>3638.117730</td>\n",
              "      <td>200.0</td>\n",
              "      <td>1500.0</td>\n",
              "      <td>3000.0</td>\n",
              "      <td>6000.0</td>\n",
              "      <td>30000.0</td>\n",
              "    </tr>\n",
              "    <tr>\n",
              "      <th>4</th>\n",
              "      <td>408.0</td>\n",
              "      <td>2231.985294</td>\n",
              "      <td>1985.534352</td>\n",
              "      <td>150.0</td>\n",
              "      <td>1000.0</td>\n",
              "      <td>1500.0</td>\n",
              "      <td>2500.0</td>\n",
              "      <td>11500.0</td>\n",
              "    </tr>\n",
              "  </tbody>\n",
              "</table>\n",
              "</div>"
            ],
            "text/plain": [
              "          count         mean          std    min     25%     50%     75%  \\\n",
              "cluster                                                                    \n",
              "0        2651.0  4493.115805  3605.983595  200.0  1700.0  3000.0  6450.0   \n",
              "1        3280.0  5130.547795  3699.225988  300.0  2500.0  4000.0  7000.0   \n",
              "2        1073.0  3980.122285  3517.612557   50.0  1500.0  2500.0  6000.0   \n",
              "3        1538.0  4098.218564  3638.117730  200.0  1500.0  3000.0  6000.0   \n",
              "4         408.0  2231.985294  1985.534352  150.0  1000.0  1500.0  2500.0   \n",
              "\n",
              "             max  \n",
              "cluster           \n",
              "0        22000.0  \n",
              "1        30000.0  \n",
              "2        21000.0  \n",
              "3        30000.0  \n",
              "4        11500.0  "
            ]
          },
          "metadata": {},
          "output_type": "display_data"
        },
        {
          "data": {
            "text/html": [
              "<div>\n",
              "<style scoped>\n",
              "    .dataframe tbody tr th:only-of-type {\n",
              "        vertical-align: middle;\n",
              "    }\n",
              "\n",
              "    .dataframe tbody tr th {\n",
              "        vertical-align: top;\n",
              "    }\n",
              "\n",
              "    .dataframe thead th {\n",
              "        text-align: right;\n",
              "    }\n",
              "</style>\n",
              "<table border=\"1\" class=\"dataframe\">\n",
              "  <thead>\n",
              "    <tr style=\"text-align: right;\">\n",
              "      <th></th>\n",
              "      <th>count</th>\n",
              "      <th>mean</th>\n",
              "      <th>std</th>\n",
              "      <th>min</th>\n",
              "      <th>25%</th>\n",
              "      <th>50%</th>\n",
              "      <th>75%</th>\n",
              "      <th>max</th>\n",
              "    </tr>\n",
              "    <tr>\n",
              "      <th>cluster</th>\n",
              "      <th></th>\n",
              "      <th></th>\n",
              "      <th></th>\n",
              "      <th></th>\n",
              "      <th></th>\n",
              "      <th></th>\n",
              "      <th></th>\n",
              "      <th></th>\n",
              "    </tr>\n",
              "  </thead>\n",
              "  <tbody>\n",
              "    <tr>\n",
              "      <th>0</th>\n",
              "      <td>2651.0</td>\n",
              "      <td>968.393476</td>\n",
              "      <td>919.836772</td>\n",
              "      <td>0.000000</td>\n",
              "      <td>377.775029</td>\n",
              "      <td>678.334763</td>\n",
              "      <td>1288.459643</td>\n",
              "      <td>11123.409180</td>\n",
              "    </tr>\n",
              "    <tr>\n",
              "      <th>1</th>\n",
              "      <td>3280.0</td>\n",
              "      <td>814.294226</td>\n",
              "      <td>963.480969</td>\n",
              "      <td>0.000000</td>\n",
              "      <td>221.073805</td>\n",
              "      <td>499.038060</td>\n",
              "      <td>1047.179868</td>\n",
              "      <td>8946.495566</td>\n",
              "    </tr>\n",
              "    <tr>\n",
              "      <th>2</th>\n",
              "      <td>1073.0</td>\n",
              "      <td>4704.852542</td>\n",
              "      <td>5005.626367</td>\n",
              "      <td>193.747321</td>\n",
              "      <td>1682.814334</td>\n",
              "      <td>3056.424974</td>\n",
              "      <td>5964.049531</td>\n",
              "      <td>40627.595240</td>\n",
              "    </tr>\n",
              "    <tr>\n",
              "      <th>3</th>\n",
              "      <td>1538.0</td>\n",
              "      <td>3041.872720</td>\n",
              "      <td>4074.436633</td>\n",
              "      <td>0.000000</td>\n",
              "      <td>944.241163</td>\n",
              "      <td>1890.180168</td>\n",
              "      <td>3720.648145</td>\n",
              "      <td>50721.483360</td>\n",
              "    </tr>\n",
              "    <tr>\n",
              "      <th>4</th>\n",
              "      <td>408.0</td>\n",
              "      <td>1340.280120</td>\n",
              "      <td>1445.409118</td>\n",
              "      <td>27.832777</td>\n",
              "      <td>431.637973</td>\n",
              "      <td>865.240409</td>\n",
              "      <td>1615.882236</td>\n",
              "      <td>8735.607835</td>\n",
              "    </tr>\n",
              "  </tbody>\n",
              "</table>\n",
              "</div>"
            ],
            "text/plain": [
              "          count         mean          std         min          25%  \\\n",
              "cluster                                                              \n",
              "0        2651.0   968.393476   919.836772    0.000000   377.775029   \n",
              "1        3280.0   814.294226   963.480969    0.000000   221.073805   \n",
              "2        1073.0  4704.852542  5005.626367  193.747321  1682.814334   \n",
              "3        1538.0  3041.872720  4074.436633    0.000000   944.241163   \n",
              "4         408.0  1340.280120  1445.409118   27.832777   431.637973   \n",
              "\n",
              "                 50%          75%           max  \n",
              "cluster                                          \n",
              "0         678.334763  1288.459643  11123.409180  \n",
              "1         499.038060  1047.179868   8946.495566  \n",
              "2        3056.424974  5964.049531  40627.595240  \n",
              "3        1890.180168  3720.648145  50721.483360  \n",
              "4         865.240409  1615.882236   8735.607835  "
            ]
          },
          "metadata": {},
          "output_type": "display_data"
        }
      ],
      "source": [
        "for i in list:\n",
        "    display(df.groupby('cluster')[i].describe())"
      ]
    },
    {
      "cell_type": "code",
      "execution_count": 33,
      "metadata": {},
      "outputs": [
        {
          "name": "stderr",
          "output_type": "stream",
          "text": [
            "/tmp/ipykernel_14081/3636098993.py:1: FutureWarning: Indexing with multiple keys (implicitly converted to a tuple of keys) will be deprecated, use a list instead.\n",
            "  description = df.groupby('cluster')['BALANCE', 'PURCHASES', 'CASH_ADVANCE', 'CREDIT_LIMIT','PAYMENTS']\n"
          ]
        },
        {
          "data": {
            "text/html": [
              "<div>\n",
              "<style scoped>\n",
              "    .dataframe tbody tr th:only-of-type {\n",
              "        vertical-align: middle;\n",
              "    }\n",
              "\n",
              "    .dataframe tbody tr th {\n",
              "        vertical-align: top;\n",
              "    }\n",
              "\n",
              "    .dataframe thead th {\n",
              "        text-align: right;\n",
              "    }\n",
              "</style>\n",
              "<table border=\"1\" class=\"dataframe\">\n",
              "  <thead>\n",
              "    <tr style=\"text-align: right;\">\n",
              "      <th></th>\n",
              "      <th>BALANCE</th>\n",
              "      <th>PURCHASES</th>\n",
              "      <th>CASH_ADVANCE</th>\n",
              "      <th>CREDIT_LIMIT</th>\n",
              "      <th>PAYMENTS</th>\n",
              "      <th>n_clients</th>\n",
              "    </tr>\n",
              "    <tr>\n",
              "      <th>cluster</th>\n",
              "      <th></th>\n",
              "      <th></th>\n",
              "      <th></th>\n",
              "      <th></th>\n",
              "      <th></th>\n",
              "      <th></th>\n",
              "    </tr>\n",
              "  </thead>\n",
              "  <tbody>\n",
              "    <tr>\n",
              "      <th>0</th>\n",
              "      <td>3036.509818</td>\n",
              "      <td>385.376134</td>\n",
              "      <td>1634.262935</td>\n",
              "      <td>4493.115805</td>\n",
              "      <td>968.393476</td>\n",
              "      <td>2651</td>\n",
              "    </tr>\n",
              "    <tr>\n",
              "      <th>1</th>\n",
              "      <td>443.746756</td>\n",
              "      <td>629.249107</td>\n",
              "      <td>141.482978</td>\n",
              "      <td>5130.547795</td>\n",
              "      <td>814.294226</td>\n",
              "      <td>3280</td>\n",
              "    </tr>\n",
              "    <tr>\n",
              "      <th>2</th>\n",
              "      <td>1795.941069</td>\n",
              "      <td>472.310373</td>\n",
              "      <td>3266.709902</td>\n",
              "      <td>3980.122285</td>\n",
              "      <td>4704.852542</td>\n",
              "      <td>1073</td>\n",
              "    </tr>\n",
              "    <tr>\n",
              "      <th>3</th>\n",
              "      <td>1142.833592</td>\n",
              "      <td>3274.948693</td>\n",
              "      <td>186.045097</td>\n",
              "      <td>4098.218564</td>\n",
              "      <td>3041.872720</td>\n",
              "      <td>1538</td>\n",
              "    </tr>\n",
              "    <tr>\n",
              "      <th>4</th>\n",
              "      <td>1990.318603</td>\n",
              "      <td>856.504755</td>\n",
              "      <td>424.225892</td>\n",
              "      <td>2231.985294</td>\n",
              "      <td>1340.280120</td>\n",
              "      <td>408</td>\n",
              "    </tr>\n",
              "  </tbody>\n",
              "</table>\n",
              "</div>"
            ],
            "text/plain": [
              "             BALANCE    PURCHASES  CASH_ADVANCE  CREDIT_LIMIT     PAYMENTS  \\\n",
              "cluster                                                                      \n",
              "0        3036.509818   385.376134   1634.262935   4493.115805   968.393476   \n",
              "1         443.746756   629.249107    141.482978   5130.547795   814.294226   \n",
              "2        1795.941069   472.310373   3266.709902   3980.122285  4704.852542   \n",
              "3        1142.833592  3274.948693    186.045097   4098.218564  3041.872720   \n",
              "4        1990.318603   856.504755    424.225892   2231.985294  1340.280120   \n",
              "\n",
              "         n_clients  \n",
              "cluster             \n",
              "0             2651  \n",
              "1             3280  \n",
              "2             1073  \n",
              "3             1538  \n",
              "4              408  "
            ]
          },
          "execution_count": 33,
          "metadata": {},
          "output_type": "execute_result"
        }
      ],
      "source": [
        "description = df.groupby('cluster')['BALANCE', 'PURCHASES', 'CASH_ADVANCE', 'CREDIT_LIMIT','PAYMENTS']\n",
        "n_clients = description.size()\n",
        "description = description.mean()\n",
        "description['n_clients'] = n_clients\n",
        "description"
      ]
    },
    {
      "cell_type": "markdown",
      "metadata": {},
      "source": [
        "Cluster 0: Clientes que gastam pouco. Clientes com maior limite. Bons pagadores. Boa quantidade de clientes.\n",
        "Cluster 1: Clientes que mais gastam. Foco em saque. Piores pagadores. Maior Número de clientes.\n",
        "Cluster 2: Clientes que gastam muito com compras. Melhores pagadores.\n",
        "Cluster 3: Clientes que gastam muito com saques. Pagam as vezes.\n",
        "Cluster 4: Clientes com o menor limite. Não são bons pagadores. Menor quantidade de clientes."
      ]
    },
    {
      "cell_type": "code",
      "execution_count": 34,
      "metadata": {},
      "outputs": [
        {
          "data": {
            "text/html": [
              "<div>\n",
              "<style scoped>\n",
              "    .dataframe tbody tr th:only-of-type {\n",
              "        vertical-align: middle;\n",
              "    }\n",
              "\n",
              "    .dataframe tbody tr th {\n",
              "        vertical-align: top;\n",
              "    }\n",
              "\n",
              "    .dataframe thead th {\n",
              "        text-align: right;\n",
              "    }\n",
              "</style>\n",
              "<table border=\"1\" class=\"dataframe\">\n",
              "  <thead>\n",
              "    <tr style=\"text-align: right;\">\n",
              "      <th></th>\n",
              "      <th>count</th>\n",
              "      <th>mean</th>\n",
              "      <th>std</th>\n",
              "      <th>min</th>\n",
              "      <th>25%</th>\n",
              "      <th>50%</th>\n",
              "      <th>75%</th>\n",
              "      <th>max</th>\n",
              "    </tr>\n",
              "    <tr>\n",
              "      <th>cluster</th>\n",
              "      <th></th>\n",
              "      <th></th>\n",
              "      <th></th>\n",
              "      <th></th>\n",
              "      <th></th>\n",
              "      <th></th>\n",
              "      <th></th>\n",
              "      <th></th>\n",
              "    </tr>\n",
              "  </thead>\n",
              "  <tbody>\n",
              "    <tr>\n",
              "      <th>0</th>\n",
              "      <td>2651.0</td>\n",
              "      <td>0.001798</td>\n",
              "      <td>0.023251</td>\n",
              "      <td>0.0</td>\n",
              "      <td>0.0</td>\n",
              "      <td>0.000000</td>\n",
              "      <td>0.000000</td>\n",
              "      <td>0.6</td>\n",
              "    </tr>\n",
              "    <tr>\n",
              "      <th>1</th>\n",
              "      <td>3280.0</td>\n",
              "      <td>0.246806</td>\n",
              "      <td>0.346748</td>\n",
              "      <td>0.0</td>\n",
              "      <td>0.0</td>\n",
              "      <td>0.000000</td>\n",
              "      <td>0.444444</td>\n",
              "      <td>1.0</td>\n",
              "    </tr>\n",
              "    <tr>\n",
              "      <th>2</th>\n",
              "      <td>1073.0</td>\n",
              "      <td>0.117326</td>\n",
              "      <td>0.186807</td>\n",
              "      <td>0.0</td>\n",
              "      <td>0.0</td>\n",
              "      <td>0.083333</td>\n",
              "      <td>0.142857</td>\n",
              "      <td>1.0</td>\n",
              "    </tr>\n",
              "    <tr>\n",
              "      <th>3</th>\n",
              "      <td>1538.0</td>\n",
              "      <td>0.278041</td>\n",
              "      <td>0.366991</td>\n",
              "      <td>0.0</td>\n",
              "      <td>0.0</td>\n",
              "      <td>0.083333</td>\n",
              "      <td>0.545455</td>\n",
              "      <td>1.0</td>\n",
              "    </tr>\n",
              "    <tr>\n",
              "      <th>4</th>\n",
              "      <td>408.0</td>\n",
              "      <td>0.019460</td>\n",
              "      <td>0.091220</td>\n",
              "      <td>0.0</td>\n",
              "      <td>0.0</td>\n",
              "      <td>0.000000</td>\n",
              "      <td>0.000000</td>\n",
              "      <td>1.0</td>\n",
              "    </tr>\n",
              "  </tbody>\n",
              "</table>\n",
              "</div>"
            ],
            "text/plain": [
              "          count      mean       std  min  25%       50%       75%  max\n",
              "cluster                                                               \n",
              "0        2651.0  0.001798  0.023251  0.0  0.0  0.000000  0.000000  0.6\n",
              "1        3280.0  0.246806  0.346748  0.0  0.0  0.000000  0.444444  1.0\n",
              "2        1073.0  0.117326  0.186807  0.0  0.0  0.083333  0.142857  1.0\n",
              "3        1538.0  0.278041  0.366991  0.0  0.0  0.083333  0.545455  1.0\n",
              "4         408.0  0.019460  0.091220  0.0  0.0  0.000000  0.000000  1.0"
            ]
          },
          "execution_count": 34,
          "metadata": {},
          "output_type": "execute_result"
        }
      ],
      "source": [
        "df.groupby('cluster')['PRC_FULL_PAYMENT'].describe()"
      ]
    },
    {
      "cell_type": "markdown",
      "metadata": {},
      "source": [
        "Para verificarmos se a nossa estratégia foi eficaz e utilizamos o grupo certo, faremos o chamado teste AB. Dividiremos o os clientes do cluster 0 em dois grupos: o grupo de controle e o grupo de teste.\n",
        "\n",
        "o grupo de controle permanecerá sem nenhuma modificação, ou seja, não haverá programa de pontos. Já o grupo de teste, em um período definido, receberá o programa de pontos.\n",
        "\n",
        "Ao final do período, verificaremos se as pessoas que participaram do programa de pontos gastaram mais com o cartão ou não. Assim teremos um resultado confiável, com clientes com características similares."
      ]
    }
  ],
  "metadata": {
    "colab": {
      "provenance": []
    },
    "kernelspec": {
      "display_name": "Python 3",
      "language": "python",
      "name": "python3"
    },
    "language_info": {
      "codemirror_mode": {
        "name": "ipython",
        "version": 3
      },
      "file_extension": ".py",
      "mimetype": "text/x-python",
      "name": "python",
      "nbconvert_exporter": "python",
      "pygments_lexer": "ipython3",
      "version": "3.8.10"
    },
    "orig_nbformat": 4,
    "vscode": {
      "interpreter": {
        "hash": "916dbcbb3f70747c44a77c7bcd40155683ae19c65e1c03b4aa3499c5328201f1"
      }
    }
  },
  "nbformat": 4,
  "nbformat_minor": 0
}
